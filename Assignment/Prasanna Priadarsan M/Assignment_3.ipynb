<!DOCTYPE html>
<!-- saved from url=(0073)https://colab.research.google.com/drive/1ZS1Q9iM775k2SsNjm9D6xv9YEQcMlWb1 -->
<html lang="en" theme="adaptive" style="--colab-code-font-family:monospace;" editor="default light"><head><meta http-equiv="Content-Type" content="text/html; charset=UTF-8"><style>body {transition: opacity ease-in 0.2s; } 
body[unresolved] {opacity: 0; display: block; overflow: hidden; position: relative; } 
</style><script type="text/javascript" async="" src="./Assignment_3_files/recaptcha__en_gb.js.download" crossorigin="anonymous" integrity="sha384-kdgJmrQDdnDTIsMvH7ZnmIetnKcojtRaLyCzgMFCb6nixTejDxE0PG61B/HdCbgs" nonce=""></script><script type="text/javascript" async="" src="./Assignment_3_files/recaptcha__en_gb.js.download" crossorigin="anonymous" integrity="sha384-kdgJmrQDdnDTIsMvH7ZnmIetnKcojtRaLyCzgMFCb6nixTejDxE0PG61B/HdCbgs" nonce=""></script><script src="./Assignment_3_files/cb=gapi.loaded_1" nonce="" async=""></script><script src="./Assignment_3_files/cb=gapi.loaded_0" nonce="" async=""></script><script async="" src="./Assignment_3_files/analytics.js.download"></script><script nonce="">
      document.addEventListener('keydown', (e) => {
        // Stop propagation on ESC because otherwise it will halt outbound XHRs
        // See b/131755324 for more info.
        if (e.key === 'Escape') {
          e.stopPropagation();
          e.preventDefault();
        }
      });
    </script><meta name="referrer" content="origin"><meta name="viewport" content="width=device-width, initial-scale=1"><title>Assignment_3.ipynb - Colaboratory</title><link rel="search" type="application/opensearchdescription+xml" href="https://colab.research.google.com/opensearch.xml" title="Google Colaboratory"><style>.gb_1a:not(.gb_Hd){font:13px/27px Roboto,Arial,sans-serif;z-index:986}@-webkit-keyframes gb__a{0%{opacity:0}50%{opacity:1}}@keyframes gb__a{0%{opacity:0}50%{opacity:1}}a.gb_W{border:none;color:#4285f4;cursor:default;font-weight:bold;outline:none;position:relative;text-align:center;text-decoration:none;text-transform:uppercase;white-space:nowrap;-webkit-user-select:none}a.gb_W:hover:after,a.gb_W:focus:after{background-color:rgba(0,0,0,.12);content:"";height:100%;left:0;position:absolute;top:0;width:100%}a.gb_W:hover,a.gb_W:focus{text-decoration:none}a.gb_W:active{background-color:rgba(153,153,153,.4);text-decoration:none}a.gb_X{background-color:#4285f4;color:#fff}a.gb_X:active{background-color:#0043b2}.gb_Z{-webkit-box-shadow:0 1px 1px rgba(0,0,0,.16);box-shadow:0 1px 1px rgba(0,0,0,.16)}.gb_W,.gb_X,.gb_0,.gb_1{display:inline-block;line-height:28px;padding:0 12px;-webkit-border-radius:2px;border-radius:2px}.gb_0{background:#f8f8f8;border:1px solid #c6c6c6}.gb_1{background:#f8f8f8}.gb_0,#gb a.gb_0.gb_0,.gb_1{color:#666;cursor:default;text-decoration:none}#gb a.gb_1.gb_1{cursor:default;text-decoration:none}.gb_1{border:1px solid #4285f4;font-weight:bold;outline:none;background:#4285f4;background:-webkit-linear-gradient(top,#4387fd,#4683ea);background:linear-gradient(top,#4387fd,#4683ea);filter:progid:DXImageTransform.Microsoft.gradient(startColorstr=#4387fd,endColorstr=#4683ea,GradientType=0)}#gb a.gb_1.gb_1{color:#fff}.gb_1:hover{-webkit-box-shadow:0 1px 0 rgba(0,0,0,.15);box-shadow:0 1px 0 rgba(0,0,0,.15)}.gb_1:active{-webkit-box-shadow:inset 0 2px 0 rgba(0,0,0,.15);box-shadow:inset 0 2px 0 rgba(0,0,0,.15);background:#3c78dc;background:-webkit-linear-gradient(top,#3c7ae4,#3f76d3);background:linear-gradient(top,#3c7ae4,#3f76d3);filter:progid:DXImageTransform.Microsoft.gradient(startColorstr=#3c7ae4,endColorstr=#3f76d3,GradientType=0)}#gb .gb_3{background:#fff;border:1px solid #dadce0;color:#1a73e8;display:inline-block;text-decoration:none}#gb .gb_3:hover{background:#f8fbff;border-color:#dadce0;color:#174ea6}#gb .gb_3:focus{background:#f4f8ff;color:#174ea6;outline:1px solid #174ea6}#gb .gb_3:active,#gb .gb_3:focus:active{background:#ecf3fe;color:#174ea6}#gb .gb_3.gb_4{background:transparent;border:1px solid #5f6368;color:#8ab4f8;text-decoration:none}#gb .gb_3.gb_4:hover{background:rgba(255,255,255,.04);color:#e8eaed}#gb .gb_3.gb_4:focus{background:rgba(232,234,237,.12);color:#e8eaed;outline:1px solid #e8eaed}#gb .gb_3.gb_4:active,#gb .gb_3.gb_4:focus:active{background:rgba(232,234,237,.1);color:#e8eaed}.gb_za{display:none!important}.gb_Aa{visibility:hidden}.gb_gd{display:inline-block;vertical-align:middle}.gb_yf{position:relative}.gb_A{display:inline-block;outline:none;vertical-align:middle;-webkit-border-radius:2px;border-radius:2px;-webkit-box-sizing:border-box;box-sizing:border-box;height:40px;width:40px;color:#000;cursor:pointer;text-decoration:none}#gb#gb a.gb_A{color:#000;cursor:pointer;text-decoration:none}.gb_3a{border-color:transparent;border-bottom-color:#fff;border-style:dashed dashed solid;border-width:0 8.5px 8.5px;display:none;position:absolute;left:11.5px;top:43px;z-index:1;height:0;width:0;-webkit-animation:gb__a .2s;animation:gb__a .2s}.gb_4a{border-color:transparent;border-style:dashed dashed solid;border-width:0 8.5px 8.5px;display:none;position:absolute;left:11.5px;z-index:1;height:0;width:0;-webkit-animation:gb__a .2s;animation:gb__a .2s;border-bottom-color:#ccc;border-bottom-color:rgba(0,0,0,.2);top:42px}x:-o-prefocus,div.gb_4a{border-bottom-color:#ccc}.gb_C{background:#fff;border:1px solid #ccc;border-color:rgba(0,0,0,.2);color:#000;-webkit-box-shadow:0 2px 10px rgba(0,0,0,.2);box-shadow:0 2px 10px rgba(0,0,0,.2);display:none;outline:none;overflow:hidden;position:absolute;right:8px;top:62px;-webkit-animation:gb__a .2s;animation:gb__a .2s;-webkit-border-radius:2px;border-radius:2px;-webkit-user-select:text}.gb_gd.gb_ka .gb_3a,.gb_gd.gb_ka .gb_4a,.gb_gd.gb_ka .gb_C,.gb_ka.gb_C{display:block}.gb_gd.gb_ka.gb_zf .gb_3a,.gb_gd.gb_ka.gb_zf .gb_4a{display:none}.gb_Af{position:absolute;right:8px;top:62px;z-index:-1}.gb_Ia .gb_3a,.gb_Ia .gb_4a,.gb_Ia .gb_C{margin-top:-10px}.gb_gd:first-child,#gbsfw:first-child+.gb_gd{padding-left:4px}.gb_oa.gb_Qe .gb_gd:first-child{padding-left:0}.gb_Re{position:relative}.gb_Rc .gb_Re,.gb_Xd .gb_Re{float:right}.gb_A{padding:8px;cursor:pointer}.gb_oa .gb_8c:not(.gb_W):focus img{background-color:rgba(0,0,0,.20);outline:none;-webkit-border-radius:50%;border-radius:50%}.gb_Se button svg,.gb_A{-webkit-border-radius:50%;border-radius:50%}.gb_Se button:focus:not(:focus-visible) svg,.gb_Se button:hover svg,.gb_Se button:active svg,.gb_A:focus:not(:focus-visible),.gb_A:hover,.gb_A:active,.gb_A[aria-expanded=true]{outline:none}.gb_Ac .gb_Se.gb_Te button:focus-visible svg,.gb_Se button:focus-visible svg,.gb_A:focus-visible{outline:1px solid #202124}.gb_Ac .gb_Se button:focus-visible svg,.gb_Ac .gb_A:focus-visible{outline:1px solid #f1f3f4}@media (forced-colors:active){.gb_Ac .gb_Se.gb_Te button:focus-visible svg,.gb_Se button:focus-visible svg,.gb_Ac .gb_Se button:focus-visible svg{outline:1px solid currentcolor}}.gb_Ac .gb_Se.gb_Te button:focus svg,.gb_Ac .gb_Se.gb_Te button:focus:hover svg,.gb_Se button:focus svg,.gb_Se button:focus:hover svg,.gb_A:focus,.gb_A:focus:hover{background-color:rgba(60,64,67,.1)}.gb_Ac .gb_Se.gb_Te button:active svg,.gb_Se button:active svg,.gb_A:active{background-color:rgba(60,64,67,.12)}.gb_Ac .gb_Se.gb_Te button:hover svg,.gb_Se button:hover svg,.gb_A:hover{background-color:rgba(60,64,67,.08)}.gb_ia .gb_A.gb_La:hover{background-color:transparent}.gb_A[aria-expanded=true],.gb_A:hover[aria-expanded=true]{background-color:rgba(95,99,104,.24)}.gb_A[aria-expanded=true] .gb_Ue,.gb_A[aria-expanded=true] .gb_Ve{fill:#5f6368;opacity:1}.gb_Ac .gb_Se button:hover svg,.gb_Ac .gb_A:hover{background-color:rgba(232,234,237,.08)}.gb_Ac .gb_Se button:focus svg,.gb_Ac .gb_Se button:focus:hover svg,.gb_Ac .gb_A:focus,.gb_Ac .gb_A:focus:hover{background-color:rgba(232,234,237,.10)}.gb_Ac .gb_Se button:active svg,.gb_Ac .gb_A:active{background-color:rgba(232,234,237,.12)}.gb_Ac .gb_A[aria-expanded=true],.gb_Ac .gb_A:hover[aria-expanded=true]{background-color:rgba(255,255,255,.12)}.gb_Ac .gb_A[aria-expanded=true] .gb_Ue,.gb_Ac .gb_A[aria-expanded=true] .gb_Ve{fill:#fff;opacity:1}.gb_gd{padding:4px}.gb_oa.gb_Qe .gb_gd{padding:4px 2px}.gb_oa.gb_Qe .gb_Ma.gb_gd{padding-left:6px}.gb_C{z-index:991;line-height:normal}.gb_C.gb_We{left:8px;right:auto}@media (max-width:350px){.gb_C.gb_We{left:0}}.gb_Xe .gb_C{top:56px}.gb_z .gb_A,.gb_B .gb_z .gb_A{background-position:-64px -29px}.gb_g .gb_z .gb_A{background-position:-29px -29px;opacity:1}.gb_z .gb_A,.gb_z .gb_A:hover,.gb_z .gb_A:focus{opacity:1}.gb_Id{display:none}.gb_0c{font-family:Google Sans,Roboto,Helvetica,Arial,sans-serif;font-size:20px;font-weight:400;letter-spacing:0.25px;line-height:48px;margin-bottom:2px;opacity:1;overflow:hidden;padding-left:16px;position:relative;text-overflow:ellipsis;vertical-align:middle;top:2px;white-space:nowrap;-webkit-flex:1 1 auto;flex:1 1 auto}.gb_0c.gb_1c{color:#3c4043}.gb_oa.gb_pa .gb_0c{margin-bottom:0}.gb_2c.gb_3c .gb_0c{padding-left:4px}.gb_oa.gb_pa .gb_4c{position:relative;top:-2px}.gb_oa{color:black;min-width:320px;position:relative;-webkit-transition:box-shadow 250ms;transition:box-shadow 250ms}.gb_oa.gb_Jc{min-width:240px}.gb_oa.gb_Jd .gb_Kd{display:none}.gb_oa.gb_Jd .gb_Ld{height:56px}header.gb_oa{display:block}.gb_oa svg{fill:currentColor}.gb_Md{position:fixed;top:0;width:100%}.gb_Nd{-webkit-box-shadow:0px 4px 5px 0px rgba(0,0,0,.14),0px 1px 10px 0px rgba(0,0,0,.12),0px 2px 4px -1px rgba(0,0,0,.2);box-shadow:0px 4px 5px 0px rgba(0,0,0,.14),0px 1px 10px 0px rgba(0,0,0,.12),0px 2px 4px -1px rgba(0,0,0,.2)}.gb_Od{height:64px}.gb_Ld{-webkit-box-sizing:border-box;box-sizing:border-box;position:relative;width:100%;display:-webkit-box;display:-webkit-flex;display:flex;-webkit-box-pack:space-between;-webkit-justify-content:space-between;justify-content:space-between;min-width:-webkit-min-content;min-width:min-content}.gb_oa:not(.gb_pa) .gb_Ld{padding:8px}.gb_oa.gb_Pd .gb_Ld{-webkit-flex:1 0 auto;flex:1 0 auto}.gb_oa .gb_Ld.gb_Qd.gb_Rd{min-width:0}.gb_oa.gb_pa .gb_Ld{padding:4px;padding-left:8px;min-width:0}.gb_Kd{height:48px;vertical-align:middle;white-space:nowrap;-webkit-box-align:center;-webkit-align-items:center;align-items:center;display:-webkit-box;display:-webkit-flex;display:flex;-webkit-user-select:none}.gb_Td>.gb_Kd{display:table-cell;width:100%}.gb_2c{padding-right:30px;-webkit-box-sizing:border-box;box-sizing:border-box;-webkit-flex:1 0 auto;flex:1 0 auto}.gb_oa.gb_pa .gb_2c{padding-right:14px}.gb_Ud{-webkit-flex:1 1 100%;flex:1 1 100%}.gb_Ud>:only-child{display:inline-block}.gb_Vd.gb_Sc{padding-left:4px}.gb_Vd.gb_Wd,.gb_oa.gb_Pd .gb_Vd,.gb_oa.gb_pa:not(.gb_Xd) .gb_Vd{padding-left:0}.gb_oa.gb_pa .gb_Vd.gb_Wd{padding-right:0}.gb_oa.gb_pa .gb_Vd.gb_Wd .gb_ia{margin-left:10px}.gb_Sc{display:inline}.gb_oa.gb_Mc .gb_Vd.gb_Zd,.gb_oa.gb_Xd .gb_Vd.gb_Zd{padding-left:2px}.gb_0c{display:inline-block}.gb_Vd{-webkit-box-sizing:border-box;box-sizing:border-box;height:48px;line-height:normal;padding:0 4px;padding-left:30px;-webkit-flex:0 0 auto;flex:0 0 auto;-webkit-box-pack:flex-end;-webkit-justify-content:flex-end;justify-content:flex-end}.gb_Xd{height:48px}.gb_oa.gb_Xd{min-width:initial;min-width:auto}.gb_Xd .gb_Vd{float:right;padding-left:32px}.gb_Xd .gb_Vd.gb_0d{padding-left:0}.gb_1d{font-size:14px;max-width:200px;overflow:hidden;padding:0 12px;text-overflow:ellipsis;white-space:nowrap;-webkit-user-select:text}.gb_2d{-webkit-transition:background-color .4s;transition:background-color .4s}.gb_3d{color:black}.gb_Ac{color:white}.gb_oa a,.gb_Fc a{color:inherit}.gb_q{color:rgba(0,0,0,.87)}.gb_oa svg,.gb_Fc svg,.gb_2c .gb_4d,.gb_Rc .gb_4d{color:#5f6368;opacity:1}.gb_Ac svg,.gb_Fc.gb_Kc svg,.gb_Ac .gb_2c .gb_4d,.gb_Ac .gb_2c .gb_zc,.gb_Ac .gb_2c .gb_4c,.gb_Fc.gb_Kc .gb_4d{color:rgba(255,255,255,0.87)}.gb_Ac .gb_2c .gb_yc:not(.gb_5d){opacity:0.87}.gb_1c{color:inherit;opacity:1;text-rendering:optimizeLegibility;-webkit-font-smoothing:antialiased}.gb_Ac .gb_1c,.gb_3d .gb_1c{opacity:1}.gb_6d{position:relative}.gb_7d{font-family:arial,sans-serif;line-height:normal;padding-right:15px}a.gb_d,span.gb_d{color:rgba(0,0,0,.87);text-decoration:none}.gb_Ac a.gb_d,.gb_Ac span.gb_d{color:white}a.gb_d:focus{outline-offset:2px}a.gb_d:hover{text-decoration:underline}.gb_e{display:inline-block;padding-left:15px}.gb_e .gb_d{display:inline-block;line-height:24px;vertical-align:middle}.gb_8d{font-family:Google Sans,Roboto,Helvetica,Arial,sans-serif;font-weight:500;font-size:14px;letter-spacing:0.25px;line-height:16px;margin-left:10px;margin-right:8px;min-width:96px;padding:9px 23px;text-align:center;vertical-align:middle;-webkit-border-radius:4px;border-radius:4px;-webkit-box-sizing:border-box;box-sizing:border-box}.gb_oa.gb_Xd .gb_8d{margin-left:8px}#gb a.gb_1.gb_1.gb_8d{cursor:pointer}.gb_1.gb_8d:hover{background:#1b66c9;-webkit-box-shadow:0 1px 3px 1px rgba(66,64,67,.15),0 1px 2px 0 rgba(60,64,67,.3);box-shadow:0 1px 3px 1px rgba(66,64,67,.15),0 1px 2px 0 rgba(60,64,67,.3)}.gb_1.gb_8d:focus,.gb_1.gb_8d:hover:focus{background:#1c5fba;-webkit-box-shadow:0 1px 3px 1px rgba(66,64,67,.15),0 1px 2px 0 rgba(60,64,67,.3);box-shadow:0 1px 3px 1px rgba(66,64,67,.15),0 1px 2px 0 rgba(60,64,67,.3)}.gb_1.gb_8d:active{background:#1b63c1;-webkit-box-shadow:0 1px 3px 1px rgba(66,64,67,.15),0 1px 2px 0 rgba(60,64,67,.3);box-shadow:0 1px 3px 1px rgba(66,64,67,.15),0 1px 2px 0 rgba(60,64,67,.3)}.gb_8d{background:#1a73e8;border:1px solid transparent}.gb_oa.gb_pa .gb_8d{padding:9px 15px;min-width:80px}.gb_9d{text-align:left}#gb .gb_Ac a.gb_8d:not(.gb_4),#gb.gb_Ac a.gb_8d{background:#fff;border-color:#dadce0;-webkit-box-shadow:none;box-shadow:none;color:#1a73e8}#gb a.gb_1.gb_4.gb_8d{background:#8ab4f8;border:1px solid transparent;-webkit-box-shadow:none;box-shadow:none;color:#202124}#gb .gb_Ac a.gb_8d:hover:not(.gb_4),#gb.gb_Ac a.gb_8d:hover{background:#f8fbff;border-color:#cce0fc}#gb a.gb_1.gb_4.gb_8d:hover{background:#93baf9;border-color:transparent;-webkit-box-shadow:0 1px 3px 1px rgba(0,0,0,.15),0 1px 2px rgba(0,0,0,.3);box-shadow:0 1px 3px 1px rgba(0,0,0,.15),0 1px 2px rgba(0,0,0,.3)}#gb .gb_Ac a.gb_8d:focus:not(.gb_4),#gb .gb_Ac a.gb_8d:focus:hover:not(.gb_4),#gb.gb_Ac a.gb_8d:focus:not(.gb_4),#gb.gb_Ac a.gb_8d:focus:hover:not(.gb_4){background:#f4f8ff;outline:1px solid #c9ddfc}#gb a.gb_1.gb_4.gb_8d:focus,#gb a.gb_1.gb_4.gb_8d:focus:hover{background:#a6c6fa;border-color:transparent;-webkit-box-shadow:none;box-shadow:none}#gb .gb_Ac a.gb_8d:active:not(.gb_4),#gb.gb_Ac a.gb_8d:active{background:#ecf3fe}#gb a.gb_1.gb_4.gb_8d:active{background:#a1c3f9;-webkit-box-shadow:0 1px 2px rgba(60,64,67,.3),0 2px 6px 2px rgba(60,64,67,.15);box-shadow:0 1px 2px rgba(60,64,67,.3),0 2px 6px 2px rgba(60,64,67,.15)}.gb_ia{background-color:rgba(255,255,255,.88);border:1px solid #dadce0;-webkit-box-sizing:border-box;box-sizing:border-box;cursor:pointer;display:inline-block;max-height:48px;overflow:hidden;outline:none;padding:0;vertical-align:middle;width:134px;-webkit-border-radius:8px;border-radius:8px}.gb_ia.gb_4{background-color:transparent;border:1px solid #5f6368}.gb_ja{display:inherit}.gb_ia.gb_4 .gb_ja{background:#fff;-webkit-border-radius:4px;border-radius:4px;display:inline-block;left:8px;margin-right:5px;position:relative;padding:3px;top:-1px}.gb_ia:hover{border:1px solid #d2e3fc;background-color:rgba(248,250,255,.88)}.gb_ia.gb_4:hover{background-color:rgba(241,243,244,.04);border:1px solid #5f6368}.gb_ia:focus-visible,.gb_ia:focus{background-color:rgba(255,255,255);outline:1px solid #202124;-webkit-box-shadow:0px 1px 2px 0px rgba(60,64,67,.3),0px 1px 3px 1px rgba(60,64,67,.15);box-shadow:0px 1px 2px 0px rgba(60,64,67,.3),0px 1px 3px 1px rgba(60,64,67,.15)}.gb_ia.gb_4:focus-visible,.gb_ia.gb_4:focus{background-color:rgba(241,243,244,.12);outline:1px solid #f1f3f4;-webkit-box-shadow:0 1px 3px 1px rgba(0,0,0,.15),0 1px 2px 0 rgba(0,0,0,.3);box-shadow:0 1px 3px 1px rgba(0,0,0,.15),0 1px 2px 0 rgba(0,0,0,.3)}.gb_ia.gb_4:active,.gb_ia.gb_ka.gb_4:focus{background-color:rgba(241,243,244,.1);border:1px solid #5f6368}.gb_la{display:inline-block;padding-bottom:2px;padding-left:7px;padding-top:2px;text-align:center;vertical-align:middle;line-height:32px;width:78px}.gb_ia.gb_4 .gb_la{line-height:26px;margin-left:0;padding-bottom:0;padding-left:0;padding-top:0;width:72px}.gb_la.gb_ma{background-color:#f1f3f4;-webkit-border-radius:4px;border-radius:4px;margin-left:8px;padding-left:0}.gb_la.gb_ma .gb_na{vertical-align:middle}.gb_oa:not(.gb_pa) .gb_ia{margin-left:10px;margin-right:4px}.gb_qa{max-height:32px;width:78px}.gb_ia.gb_4 .gb_qa{max-height:26px;width:72px}.gb_Ba{-webkit-background-size:32px 32px;background-size:32px 32px;border:0;-webkit-border-radius:50%;border-radius:50%;display:block;margin:0px;position:relative;height:32px;width:32px;z-index:0}.gb_Ca{background-color:#e8f0fe;border:1px solid rgba(32,33,36,.08);position:relative}.gb_Ca.gb_Ba{height:30px;width:30px}.gb_Ca.gb_Ba:hover,.gb_Ca.gb_Ba:active{-webkit-box-shadow:none;box-shadow:none}.gb_Da{background:#fff;border:none;-webkit-border-radius:50%;border-radius:50%;bottom:2px;-webkit-box-shadow:0px 1px 2px 0px rgba(60,64,67,.30),0px 1px 3px 1px rgba(60,64,67,.15);box-shadow:0px 1px 2px 0px rgba(60,64,67,.30),0px 1px 3px 1px rgba(60,64,67,.15);height:14px;margin:2px;position:absolute;right:0;width:14px}.gb_Ea{color:#1f71e7;font:400 22px/32px Google Sans,Roboto,Helvetica,Arial,sans-serif;text-align:center;text-transform:uppercase}@media (min-resolution:1.25dppx),(-o-min-device-pixel-ratio:5/4),(-webkit-min-device-pixel-ratio:1.25),(min-device-pixel-ratio:1.25){.gb_Ba::before,.gb_Fa::before{display:inline-block;-webkit-transform:scale(.5);transform:scale(.5);-webkit-transform-origin:left 0;transform-origin:left 0}.gb_i .gb_Fa::before{-webkit-transform:scale(0.416666667);transform:scale(0.416666667)}}.gb_Ba:hover,.gb_Ba:focus{-webkit-box-shadow:0 1px 0 rgba(0,0,0,.15);box-shadow:0 1px 0 rgba(0,0,0,.15)}.gb_Ba:active{-webkit-box-shadow:inset 0 2px 0 rgba(0,0,0,.15);box-shadow:inset 0 2px 0 rgba(0,0,0,.15)}.gb_Ba:active::after{background:rgba(0,0,0,.1);-webkit-border-radius:50%;border-radius:50%;content:"";display:block;height:100%}.gb_Ha{cursor:pointer;line-height:40px;min-width:30px;opacity:.75;overflow:hidden;vertical-align:middle;text-overflow:ellipsis}.gb_A.gb_Ha{width:auto}.gb_Ha:hover,.gb_Ha:focus{opacity:.85}.gb_Ia .gb_Ha,.gb_Ia .gb_Ja{line-height:26px}#gb#gb.gb_Ia a.gb_Ha,.gb_Ia .gb_Ja{font-size:11px;height:auto}.gb_Ka{border-top:4px solid #000;border-left:4px dashed transparent;border-right:4px dashed transparent;display:inline-block;margin-left:6px;opacity:.75;vertical-align:middle}.gb_La:hover .gb_Ka{opacity:.85}.gb_ia>.gb_Ma{padding:3px 3px 3px 4px}.gb_Na.gb_Aa{color:#fff}.gb_Ba.gb_Oa{clip-path:path('M16 0C24.8366 0 32 7.16344 32 16C32 16.4964 31.9774 16.9875 31.9332 17.4723C30.5166 16.5411 28.8215 16 27 16C22.0294 16 18 20.0294 18 25C18 27.4671 18.9927 29.7024 20.6004 31.3282C19.1443 31.7653 17.5996 32 16 32C7.16344 32 0 24.8366 0 16C0 7.16344 7.16344 0 16 0Z')}.gb_Pa{-webkit-border-radius:50%;border-radius:50%;-webkit-box-shadow:0px 1px 2px 0px rgba(60,64,67,.30),0px 1px 3px 1px rgba(60,64,67,.15);box-shadow:0px 1px 2px 0px rgba(60,64,67,.30),0px 1px 3px 1px rgba(60,64,67,.15);margin:2px}.gb_Qa{fill:#f9ab00}.gb_4 .gb_Qa{fill:#fdd663}.gb_Ra>.gb_Qa{fill:#d93025}.gb_4 .gb_Ra>.gb_Qa{fill:#f28b82}.gb_Ra>.gb_Sa{fill:white}.gb_Sa,.gb_4 .gb_Ra>.gb_Sa{fill:#202124}.gb_Ta{-webkit-border-radius:50%;border-radius:50%;bottom:2px;height:18px;position:absolute;right:0px;width:18px}.gb_g .gb_Ha,.gb_g .gb_Ka{opacity:1}#gb#gb.gb_g.gb_g a.gb_Ha,#gb#gb .gb_g.gb_g a.gb_Ha{color:#fff}.gb_g.gb_g .gb_Ka{border-top-color:#fff;opacity:1}.gb_B .gb_Ba:hover,.gb_g .gb_Ba:hover,.gb_B .gb_Ba:focus,.gb_g .gb_Ba:focus{-webkit-box-shadow:0 1px 0 rgba(0,0,0,.15),0 1px 2px rgba(0,0,0,.2);box-shadow:0 1px 0 rgba(0,0,0,.15),0 1px 2px rgba(0,0,0,.2)}.gb_Ua .gb_Ma,.gb_Va .gb_Ma{position:absolute;right:1px}.gb_Ma.gb_f,.gb_Wa.gb_f,.gb_La.gb_f{-webkit-flex:0 1 auto;flex:0 1 auto;-webkit-flex:0 1 main-size;flex:0 1 main-size}.gb_Xa.gb_Za .gb_Ha{width:30px!important}.gb_0a{height:40px;position:absolute;right:-5px;top:-5px;width:40px}.gb_1a .gb_0a,.gb_2a .gb_0a{right:0;top:0}.gb_Ma .gb_A{padding:4px}.gb_be{display:none}sentinel{}</style><script nonce="">;this.gbar_={CONFIG:[[[0,"www.gstatic.com","og.qtm.en_US.NimbTA8kYYY.O","co.in","en-GB","425",0,[4,2,"","","","479970920","0"],null,"OVFKY4KVArGyqtsPq7eLmA0",null,0,"og.qtm.QpOvgb9LYOw.L.W.O","AA2YrTufsF3Xus1eGampMWf_AzUANO_L0A","AA2YrTuWcGhv1CXSmi-f81ntv3PMBJ8Igw","",2,1,200,"IND",null,null,"425","425",1],null,[1,0.1000000014901161,2,1],[1,0.001000000047497451,1],[1,0,1,null,"0","prasannapriadarsan.m_ll-2003-sn-015@thelightinglamp.com","","ADIu6fLe9-EMHk7kDcQY7IvjUWDhp9g5litWaya5MnfYGyCxLR8WbNLSGxPIzoS1v1TeHHvxoaNaWED2s3Q8pmDPFFBWqLgJocbHbXuDNmrayyEkwM3-GdY"],[0,0,"",1,0,0,0,0,0,0,null,0,0,null,0,0,null,null,0,0,0,"","","","","","",null,0,0,0,0,0,null,null,null,"rgba(32,33,36,1)","rgba(255,255,255,1)",0,0,0,null,null,1,0,0],["%1$s (default)","Brand account",1,"%1$s (delegated)",1,null,83,"https://colab.research.google.com/drive/1ZS1Q9iM775k2SsNjm9D6xv9YEQcMlWb1?authuser=$authuser",null,null,null,1,"https://accounts.google.com/ListAccounts?listPages=0\u0026authuser=0\u0026pid=425\u0026gpsia=1\u0026source=ogb\u0026atic=1\u0026mo=1\u0026mn=1\u0026hl=en-GB\u0026ts=250",0,"dashboard",null,null,null,null,"Profile","",1,null,"Signed out","https://accounts.google.com/AccountChooser?source=ogb\u0026continue=$continue\u0026Email=$email\u0026ec=GAhAqQM","https://accounts.google.com/RemoveLocalAccount?source=ogb","Remove","Sign in",0,1,1,0,1,1,0,null,null,null,"Session expired",null,null,null,"Visitor",null,"Default","Delegated","Sign out of all accounts",1,null,null,0,null,null,"myaccount.google.com","https",0,1,0],null,["1","gci_91f30755d6a6b787dcc2a4062e6e9824.js","googleapis.client:gapi.iframes","0","en-GB"],null,null,null,null,["m;/_/scs/abc-static/_/js/k=gapi.gapi.en.IK5OmUURd2E.O/d=1/rs=AHpOoo932JinkSJHK92WgVjIV-Jwwyu3Rw/m=__features__","https://apis.google.com","","","1","",null,1,"es_plusone_gc_20220801.0_p0","en-GB",null,0],[0.009999999776482582,"co.in","425",[null,"","0",null,1,5184000,null,null,"",null,null,null,null,null,0,null,0,0,1,0,0,0,null,null,0,0,null,0,0,0,0,0],null,null,null,0,null,null,["5061451","google\\.(com|ru|ca|by|kz|com\\.mx|com\\.tr)$",1]],[1,1,null,40400,425,"IND","en-GB","479970920.0",8,0.009999999776482582,1,0,null,null,null,null,"3700949,3701003",null,null,null,"OVFKY4KVArGyqtsPq7eLmA0",0,0,0,null,2,5,"rw",181,0],[[null,null,null,"https://www.gstatic.com/og/_/js/k=og.qtm.en_US.NimbTA8kYYY.O/rt=j/m=qabr,qgl,q_dnp,qcwid,qbd,qapid/exm=qaaw,qadd,qaid,qein,qhaw,qhbr,qhch,qhga,qhid,qhin,qhpr/d=1/ed=1/rs=AA2YrTufsF3Xus1eGampMWf_AzUANO_L0A"],[null,null,null,"https://www.gstatic.com/og/_/ss/k=og.qtm.QpOvgb9LYOw.L.W.O/m=qcwid/excm=qaaw,qadd,qaid,qein,qhaw,qhbr,qhch,qhga,qhid,qhin,qhpr/d=1/ed=1/ct=zgms/rs=AA2YrTuWcGhv1CXSmi-f81ntv3PMBJ8Igw"]],null,null,null,[[[null,null,[null,null,null,"https://ogs.google.com/u/0/widget/account"],0,414,372,57,4,1,0,0,65,66,8000,"https://accounts.google.com/SignOutOptions?hl=en-GB\u0026continue=https://colab.research.google.com/drive/1ZS1Q9iM775k2SsNjm9D6xv9YEQcMlWb1",68,2,null,null,1,113,"Something went wrong. Refresh to try again or %1$schoose another account%2$s.",3,null,null,75,0,null,null,null,null,null,null,null,"/widget/account",["https","myaccount.google.com",0,32,83,0],0,0,1,["Critical security alert","Important recommended actions"],0]],0,[null,null,null,"https://www.gstatic.com/og/_/js/k=og.qtm.en_US.NimbTA8kYYY.O/rt=j/m=qdsh/d=1/ed=1/rs=AA2YrTufsF3Xus1eGampMWf_AzUANO_L0A"],"425","425",1,0,null,"en-GB",0,["https://colab.research.google.com/drive/1ZS1Q9iM775k2SsNjm9D6xv9YEQcMlWb1?authuser=$authuser","https://accounts.google.com/AddSession?hl=en-GB\u0026continue=https://colab.research.google.com/drive/1ZS1Q9iM775k2SsNjm9D6xv9YEQcMlWb1\u0026ec=GAlAqQM","https://accounts.google.com/Logout?hl=en-GB\u0026continue=https://colab.research.google.com/drive/1ZS1Q9iM775k2SsNjm9D6xv9YEQcMlWb1\u0026timeStmp=1665814841\u0026secTok=.AG5fkS-R63uPU-dZ1fB_EfMc7PakP667pw\u0026ec=GAdAqQM","https://accounts.google.com/ListAccounts?listPages=0\u0026authuser=0\u0026pid=425\u0026gpsia=1\u0026source=ogb\u0026atic=1\u0026mo=1\u0026mn=1\u0026hl=en-GB\u0026ts=250",0,0,"",0,0],0,0],null,[["mousedown","touchstart","touchmove","wheel","keydown"],300000]]],};this.gbar_=this.gbar_||{};(function(_){var window=this;
try{
var ka,wa,za,Ea,Ga,Ha,Ma,Sa,Ta,Ua,Va,Wa,Xa,Za,$a,db,eb;_.aa=function(a,b){if(Error.captureStackTrace)Error.captureStackTrace(this,_.aa);else{var c=Error().stack;c&&(this.stack=c)}a&&(this.message=String(a));void 0!==b&&(this.cause=b)};_.ca=function(){var a=_.n.navigator;return a&&(a=a.userAgent)?a:""};_.p=function(a){return-1!=_.ca().indexOf(a)};_.da=function(){return _.p("Opera")};_.ea=function(){return _.p("Trident")||_.p("MSIE")};_.fa=function(){return _.p("Firefox")||_.p("FxiOS")};
_.ia=function(){return _.p("Safari")&&!(_.ha()||_.p("Coast")||_.da()||_.p("Edge")||_.p("Edg/")||_.p("OPR")||_.fa()||_.p("Silk")||_.p("Android"))};_.ha=function(){return(_.p("Chrome")||_.p("CriOS"))&&!_.p("Edge")||_.p("Silk")};_.ja=function(){return _.p("Android")&&!(_.ha()||_.fa()||_.da()||_.p("Silk"))};ka=function(){return _.p("iPhone")&&!_.p("iPod")&&!_.p("iPad")};_.la=function(){return ka()||_.p("iPad")||_.p("iPod")};
_.ma=function(a){var b=a.length;if(0<b){for(var c=Array(b),d=0;d<b;d++)c[d]=a[d];return c}return[]};_.na=function(){return-1!=_.ca().toLowerCase().indexOf("webkit")&&!_.p("Edge")};_.pa=function(a){return oa&&null!=a&&a instanceof Uint8Array};_.ra=function(a,b){Object.isFrozen(a)||(qa?a[qa]|=b:void 0!==a.Qb?a.Qb|=b:Object.defineProperties(a,{Qb:{value:b,configurable:!0,writable:!0,enumerable:!1}}))};_.sa=function(a,b){Object.isExtensible(a)&&(qa?a[qa]&&(a[qa]&=~b):void 0!==a.Qb&&(a.Qb&=~b))};
_.ta=function(a){var b;qa?b=a[qa]:b=a.Qb;return null==b?0:b};_.ua=function(a,b){qa?a[qa]=b:void 0!==a.Qb?a.Qb=b:Object.defineProperties(a,{Qb:{value:b,configurable:!0,writable:!0,enumerable:!1}})};_.va=function(a){_.ra(a,1);return a};wa=function(a){_.ra(a,17);return a};_.xa=function(a){return a?!!(_.ta(a)&2):!1};_.ya=function(a){if(!Array.isArray(a))throw Error("x");_.sa(a,16)};za=function(a){return null!==a&&"object"===typeof a&&!Array.isArray(a)&&a.constructor===Object};
_.Ca=function(a){switch(typeof a){case "number":return isFinite(a)?a:String(a);case "object":if(a&&!Array.isArray(a)){if(_.pa(a))return _.Aa(a);if(a instanceof _.Ba){var b=a.Aa;return null==b?"":"string"===typeof b?b:a.Aa=_.Aa(b)}}}return a};Ea=function(a,b,c,d){if(null!=a){if(Array.isArray(a))a=_.Da(a,b,c,void 0!==d);else if(za(a)){var e={},f;for(f in a)e[f]=Ea(a[f],b,c,d);a=e}else a=b(a,d);return a}};
_.Da=function(a,b,c,d){d=d?!!(_.ta(a)&16):void 0;var e=Array.prototype.slice.call(a);c(a,e);for(a=0;a<e.length;a++)e[a]=Ea(e[a],b,c,d);return e};Ga=function(a){return a.Ye===_.Fa?a.toJSON():_.Ca(a)};Ha=function(){};_.Ia=function(a,b){return null==a?b:a};
Ma=function(a,b,c,d,e,f){(a=a.j&&a.j[c])?(e=f.ye?_.va(a.slice()):a,_.Ja(b,c,e)):(null!=d?oa&&d instanceof Uint8Array?e=d.length?new _.Ba(new Uint8Array(d),_.Ka):_.La():(Array.isArray(d)&&(e?_.ra(d,2):d&&_.ta(d)&1&&f.ye?(e=Array.prototype.slice.call(d),_.ua(e,(_.ta(d)|0)&-51),d=e):_.ya(d)),e=d):e=void 0,_.r(b,c,e))};
_.Na=function(a){if(!_.xa(a.na))return a;var b={ye:!0},c=_.xa(a.na);if(c&&!b.ye)throw Error("C");c||_.ya(a.na);var d=new a.constructor;a.nc&&(d.nc=a.nc.slice());for(var e=a.na,f=0;f<e.length;f++){var g=e[f];if(f===e.length-1&&za(g))for(var h in g){var l=+h;Number.isNaN(l)?(d.Oa||(d.Oa=d.na[d.qc+d.lc]={}))[h]=g[h]:Ma(a,d,l,g[h],c,b)}else Ma(a,d,f-a.lc,g,c,b)}d.ng=a;return d};_.t=function(a,b){return null!=a?!!a:!!b};_.u=function(a,b){void 0==b&&(b="");return null!=a?a:b};
_.Oa=function(a,b){void 0==b&&(b=0);return null!=a?a:b};_.Pa=function(a,b,c){for(var d in a)b.call(c,a[d],d,a)};_.Ra=function(a,b){for(var c,d,e=1;e<arguments.length;e++){d=arguments[e];for(c in d)a[c]=d[c];for(var f=0;f<Qa.length;f++)c=Qa[f],Object.prototype.hasOwnProperty.call(d,c)&&(a[c]=d[c])}};Sa=function(a){var b=0;return function(){return b<a.length?{done:!1,value:a[b++]}:{done:!0}}};
Ta="function"==typeof Object.defineProperties?Object.defineProperty:function(a,b,c){if(a==Array.prototype||a==Object.prototype)return a;a[b]=c.value;return a};Ua=function(a){a=["object"==typeof globalThis&&globalThis,a,"object"==typeof window&&window,"object"==typeof self&&self,"object"==typeof global&&global];for(var b=0;b<a.length;++b){var c=a[b];if(c&&c.Math==Math)return c}throw Error("a");};Va=Ua(this);
Wa=function(a,b){if(b)a:{var c=Va;a=a.split(".");for(var d=0;d<a.length-1;d++){var e=a[d];if(!(e in c))break a;c=c[e]}a=a[a.length-1];d=c[a];b=b(d);b!=d&&null!=b&&Ta(c,a,{configurable:!0,writable:!0,value:b})}};
Wa("Symbol",function(a){if(a)return a;var b=function(f,g){this.j=f;Ta(this,"description",{configurable:!0,writable:!0,value:g})};b.prototype.toString=function(){return this.j};var c="jscomp_symbol_"+(1E9*Math.random()>>>0)+"_",d=0,e=function(f){if(this instanceof e)throw new TypeError("b");return new b(c+(f||"")+"_"+d++,f)};return e});
Wa("Symbol.iterator",function(a){if(a)return a;a=Symbol("c");for(var b="Array Int8Array Uint8Array Uint8ClampedArray Int16Array Uint16Array Int32Array Uint32Array Float32Array Float64Array".split(" "),c=0;c<b.length;c++){var d=Va[b[c]];"function"===typeof d&&"function"!=typeof d.prototype[a]&&Ta(d.prototype,a,{configurable:!0,writable:!0,value:function(){return Xa(Sa(this))}})}return a});Xa=function(a){a={next:a};a[Symbol.iterator]=function(){return this};return a};
_.Ya=function(a){var b="undefined"!=typeof Symbol&&Symbol.iterator&&a[Symbol.iterator];return b?b.call(a):{next:Sa(a)}};Za="function"==typeof Object.create?Object.create:function(a){var b=function(){};b.prototype=a;return new b};if("function"==typeof Object.setPrototypeOf)$a=Object.setPrototypeOf;else{var ab;a:{var bb={a:!0},cb={};try{cb.__proto__=bb;ab=cb.a;break a}catch(a){}ab=!1}$a=ab?function(a,b){a.__proto__=b;if(a.__proto__!==b)throw new TypeError("d`"+a);return a}:null}db=$a;
_.w=function(a,b){a.prototype=Za(b.prototype);a.prototype.constructor=a;if(db)db(a,b);else for(var c in b)if("prototype"!=c)if(Object.defineProperties){var d=Object.getOwnPropertyDescriptor(b,c);d&&Object.defineProperty(a,c,d)}else a[c]=b[c];a.Y=b.prototype};eb=function(a,b,c){if(null==a)throw new TypeError("e`"+c);if(b instanceof RegExp)throw new TypeError("f`"+c);return a+""};
Wa("String.prototype.startsWith",function(a){return a?a:function(b,c){var d=eb(this,b,"startsWith"),e=d.length,f=b.length;c=Math.max(0,Math.min(c|0,d.length));for(var g=0;g<f&&c<e;)if(d[c++]!=b[g++])return!1;return g>=f}});Wa("Array.prototype.find",function(a){return a?a:function(b,c){a:{var d=this;d instanceof String&&(d=String(d));for(var e=d.length,f=0;f<e;f++){var g=d[f];if(b.call(c,g,f,d)){b=g;break a}}b=void 0}return b}});var fb=function(a,b){return Object.prototype.hasOwnProperty.call(a,b)};
Wa("WeakMap",function(a){function b(){}function c(l){var m=typeof l;return"object"===m&&null!==l||"function"===m}function d(l){if(!fb(l,f)){var m=new b;Ta(l,f,{value:m})}}function e(l){var m=Object[l];m&&(Object[l]=function(q){if(q instanceof b)return q;Object.isExtensible(q)&&d(q);return m(q)})}if(function(){if(!a||!Object.seal)return!1;try{var l=Object.seal({}),m=Object.seal({}),q=new a([[l,2],[m,3]]);if(2!=q.get(l)||3!=q.get(m))return!1;q.delete(l);q.set(m,4);return!q.has(l)&&4==q.get(m)}catch(v){return!1}}())return a;
var f="$jscomp_hidden_"+Math.random();e("freeze");e("preventExtensions");e("seal");var g=0,h=function(l){this.j=(g+=Math.random()+1).toString();if(l){l=_.Ya(l);for(var m;!(m=l.next()).done;)m=m.value,this.set(m[0],m[1])}};h.prototype.set=function(l,m){if(!c(l))throw Error("g");d(l);if(!fb(l,f))throw Error("h`"+l);l[f][this.j]=m;return this};h.prototype.get=function(l){return c(l)&&fb(l,f)?l[f][this.j]:void 0};h.prototype.has=function(l){return c(l)&&fb(l,f)&&fb(l[f],this.j)};h.prototype.delete=function(l){return c(l)&&
fb(l,f)&&fb(l[f],this.j)?delete l[f][this.j]:!1};return h});
Wa("Map",function(a){if(function(){if(!a||"function"!=typeof a||!a.prototype.entries||"function"!=typeof Object.seal)return!1;try{var h=Object.seal({x:4}),l=new a(_.Ya([[h,"s"]]));if("s"!=l.get(h)||1!=l.size||l.get({x:4})||l.set({x:4},"t")!=l||2!=l.size)return!1;var m=l.entries(),q=m.next();if(q.done||q.value[0]!=h||"s"!=q.value[1])return!1;q=m.next();return q.done||4!=q.value[0].x||"t"!=q.value[1]||!m.next().done?!1:!0}catch(v){return!1}}())return a;var b=new WeakMap,c=function(h){this.o={};this.j=
f();this.size=0;if(h){h=_.Ya(h);for(var l;!(l=h.next()).done;)l=l.value,this.set(l[0],l[1])}};c.prototype.set=function(h,l){h=0===h?0:h;var m=d(this,h);m.list||(m.list=this.o[m.id]=[]);m.Va?m.Va.value=l:(m.Va={next:this.j,jc:this.j.jc,head:this.j,key:h,value:l},m.list.push(m.Va),this.j.jc.next=m.Va,this.j.jc=m.Va,this.size++);return this};c.prototype.delete=function(h){h=d(this,h);return h.Va&&h.list?(h.list.splice(h.index,1),h.list.length||delete this.o[h.id],h.Va.jc.next=h.Va.next,h.Va.next.jc=
h.Va.jc,h.Va.head=null,this.size--,!0):!1};c.prototype.clear=function(){this.o={};this.j=this.j.jc=f();this.size=0};c.prototype.has=function(h){return!!d(this,h).Va};c.prototype.get=function(h){return(h=d(this,h).Va)&&h.value};c.prototype.entries=function(){return e(this,function(h){return[h.key,h.value]})};c.prototype.keys=function(){return e(this,function(h){return h.key})};c.prototype.values=function(){return e(this,function(h){return h.value})};c.prototype.forEach=function(h,l){for(var m=this.entries(),
q;!(q=m.next()).done;)q=q.value,h.call(l,q[1],q[0],this)};c.prototype[Symbol.iterator]=c.prototype.entries;var d=function(h,l){var m=l&&typeof l;"object"==m||"function"==m?b.has(l)?m=b.get(l):(m=""+ ++g,b.set(l,m)):m="p_"+l;var q=h.o[m];if(q&&fb(h.o,m))for(h=0;h<q.length;h++){var v=q[h];if(l!==l&&v.key!==v.key||l===v.key)return{id:m,list:q,index:h,Va:v}}return{id:m,list:q,index:-1,Va:void 0}},e=function(h,l){var m=h.j;return Xa(function(){if(m){for(;m.head!=h.j;)m=m.jc;for(;m.next!=m.head;)return m=
m.next,{done:!1,value:l(m)};m=null}return{done:!0,value:void 0}})},f=function(){var h={};return h.jc=h.next=h.head=h},g=0;return c});Wa("Number.MAX_SAFE_INTEGER",function(){return 9007199254740991});var gb=function(a,b){a instanceof String&&(a+="");var c=0,d=!1,e={next:function(){if(!d&&c<a.length){var f=c++;return{value:b(f,a[f]),done:!1}}d=!0;return{done:!0,value:void 0}}};e[Symbol.iterator]=function(){return e};return e};
Wa("Array.prototype.entries",function(a){return a?a:function(){return gb(this,function(b,c){return[b,c]})}});Wa("Array.from",function(a){return a?a:function(b,c,d){c=null!=c?c:function(h){return h};var e=[],f="undefined"!=typeof Symbol&&Symbol.iterator&&b[Symbol.iterator];if("function"==typeof f){b=f.call(b);for(var g=0;!(f=b.next()).done;)e.push(c.call(d,f.value,g++))}else for(f=b.length,g=0;g<f;g++)e.push(c.call(d,b[g],g));return e}});
Wa("Array.prototype.keys",function(a){return a?a:function(){return gb(this,function(b){return b})}});Wa("Number.isNaN",function(a){return a?a:function(b){return"number"===typeof b&&isNaN(b)}});Wa("Array.prototype.fill",function(a){return a?a:function(b,c,d){var e=this.length||0;0>c&&(c=Math.max(0,e+c));if(null==d||d>e)d=e;d=Number(d);0>d&&(d=Math.max(0,e+d));for(c=Number(c||0);c<d;c++)this[c]=b;return this}});var hb=function(a){return a?a:Array.prototype.fill};Wa("Int8Array.prototype.fill",hb);
Wa("Uint8Array.prototype.fill",hb);Wa("Uint8ClampedArray.prototype.fill",hb);Wa("Int16Array.prototype.fill",hb);Wa("Uint16Array.prototype.fill",hb);Wa("Int32Array.prototype.fill",hb);Wa("Uint32Array.prototype.fill",hb);Wa("Float32Array.prototype.fill",hb);Wa("Float64Array.prototype.fill",hb);var ib="function"==typeof Object.assign?Object.assign:function(a,b){for(var c=1;c<arguments.length;c++){var d=arguments[c];if(d)for(var e in d)fb(d,e)&&(a[e]=d[e])}return a};
Wa("Object.assign",function(a){return a||ib});Wa("Object.entries",function(a){return a?a:function(b){var c=[],d;for(d in b)fb(b,d)&&c.push([d,b[d]]);return c}});Wa("Array.prototype.values",function(a){return a?a:function(){return gb(this,function(b,c){return c})}});Wa("Object.is",function(a){return a?a:function(b,c){return b===c?0!==b||1/b===1/c:b!==b&&c!==c}});
Wa("Array.prototype.includes",function(a){return a?a:function(b,c){var d=this;d instanceof String&&(d=String(d));var e=d.length;c=c||0;for(0>c&&(c=Math.max(c+e,0));c<e;c++){var f=d[c];if(f===b||Object.is(f,b))return!0}return!1}});Wa("String.prototype.includes",function(a){return a?a:function(b,c){return-1!==eb(this,b,"includes").indexOf(b,c||0)}});
/*

 Copyright The Closure Library Authors.
 SPDX-License-Identifier: Apache-2.0
*/
var lb,mb,ob,pb,qb;_.jb=_.jb||{};_.n=this||self;_.kb=function(a){var b=typeof a;return"object"==b&&null!=a||"function"==b};_.nb=function(a){return Object.prototype.hasOwnProperty.call(a,lb)&&a[lb]||(a[lb]=++mb)};lb="closure_uid_"+(1E9*Math.random()>>>0);mb=0;ob=function(a,b,c){return a.call.apply(a.bind,arguments)};
pb=function(a,b,c){if(!a)throw Error();if(2<arguments.length){var d=Array.prototype.slice.call(arguments,2);return function(){var e=Array.prototype.slice.call(arguments);Array.prototype.unshift.apply(e,d);return a.apply(b,e)}}return function(){return a.apply(b,arguments)}};_.z=function(a,b,c){Function.prototype.bind&&-1!=Function.prototype.bind.toString().indexOf("native code")?_.z=ob:_.z=pb;return _.z.apply(null,arguments)};
_.A=function(a,b){a=a.split(".");var c=_.n;a[0]in c||"undefined"==typeof c.execScript||c.execScript("var "+a[0]);for(var d;a.length&&(d=a.shift());)a.length||void 0===b?c[d]&&c[d]!==Object.prototype[d]?c=c[d]:c=c[d]={}:c[d]=b};_.B=function(a,b){function c(){}c.prototype=b.prototype;a.Y=b.prototype;a.prototype=new c;a.prototype.constructor=a;a.Sk=function(d,e,f){for(var g=Array(arguments.length-2),h=2;h<arguments.length;h++)g[h-2]=arguments[h];return b.prototype[e].apply(d,g)}};qb=function(a){return a};
_.rb=function(a){var b=null,c=_.n.trustedTypes;if(!c||!c.createPolicy)return b;try{b=c.createPolicy(a,{createHTML:qb,createScript:qb,createScriptURL:qb})}catch(d){_.n.console&&_.n.console.error(d.message)}return b};
_.B(_.aa,Error);_.aa.prototype.name="CustomError";
_.sb=String.prototype.trim?function(a){return a.trim()}:function(a){return/^[\s\xa0]*([\s\S]*?)[\s\xa0]*$/.exec(a)[1]};
var zb;_.tb=Array.prototype.indexOf?function(a,b){return Array.prototype.indexOf.call(a,b,void 0)}:function(a,b){if("string"===typeof a)return"string"!==typeof b||1!=b.length?-1:a.indexOf(b,0);for(var c=0;c<a.length;c++)if(c in a&&a[c]===b)return c;return-1};_.ub=Array.prototype.forEach?function(a,b,c){Array.prototype.forEach.call(a,b,c)}:function(a,b,c){for(var d=a.length,e="string"===typeof a?a.split(""):a,f=0;f<d;f++)f in e&&b.call(c,e[f],f,a)};
_.vb=Array.prototype.filter?function(a,b,c){return Array.prototype.filter.call(a,b,c)}:function(a,b,c){for(var d=a.length,e=[],f=0,g="string"===typeof a?a.split(""):a,h=0;h<d;h++)if(h in g){var l=g[h];b.call(c,l,h,a)&&(e[f++]=l)}return e};_.wb=Array.prototype.map?function(a,b,c){return Array.prototype.map.call(a,b,c)}:function(a,b,c){for(var d=a.length,e=Array(d),f="string"===typeof a?a.split(""):a,g=0;g<d;g++)g in f&&(e[g]=b.call(c,f[g],g,a));return e};
_.xb=Array.prototype.reduce?function(a,b,c){return Array.prototype.reduce.call(a,b,c)}:function(a,b,c){var d=c;(0,_.ub)(a,function(e,f){d=b.call(void 0,d,e,f,a)});return d};_.yb=Array.prototype.some?function(a,b){return Array.prototype.some.call(a,b,void 0)}:function(a,b){for(var c=a.length,d="string"===typeof a?a.split(""):a,e=0;e<c;e++)if(e in d&&b.call(void 0,d[e],e,a))return!0;return!1};
zb=Array.prototype.every?function(a,b){return Array.prototype.every.call(a,b,void 0)}:function(a,b){for(var c=a.length,d="string"===typeof a?a.split(""):a,e=0;e<c;e++)if(e in d&&!b.call(void 0,d[e],e,a))return!1;return!0};
_.Ab=function(a){_.Ab[" "](a);return a};_.Ab[" "]=function(){};
var Ob,Pb,Ub;_.Bb=_.da();_.C=_.ea();_.Cb=_.p("Edge");_.Db=_.Cb||_.C;_.Eb=_.p("Gecko")&&!_.na()&&!(_.p("Trident")||_.p("MSIE"))&&!_.p("Edge");_.Fb=_.na();_.Gb=_.p("Macintosh");_.Hb=_.p("Windows");_.Ib=_.p("Linux")||_.p("CrOS");_.Jb=_.p("Android");_.Kb=ka();_.Lb=_.p("iPad");_.Mb=_.p("iPod");_.Nb=_.la();Ob=function(){var a=_.n.document;return a?a.documentMode:void 0};
a:{var Qb="",Rb=function(){var a=_.ca();if(_.Eb)return/rv:([^\);]+)(\)|;)/.exec(a);if(_.Cb)return/Edge\/([\d\.]+)/.exec(a);if(_.C)return/\b(?:MSIE|rv)[: ]([^\);]+)(\)|;)/.exec(a);if(_.Fb)return/WebKit\/(\S+)/.exec(a);if(_.Bb)return/(?:Version)[ \/]?(\S+)/.exec(a)}();Rb&&(Qb=Rb?Rb[1]:"");if(_.C){var Sb=Ob();if(null!=Sb&&Sb>parseFloat(Qb)){Pb=String(Sb);break a}}Pb=Qb}_.Tb=Pb;if(_.n.document&&_.C){var Vb=Ob();Ub=Vb?Vb:parseInt(_.Tb,10)||void 0}else Ub=void 0;_.Wb=Ub;
_.Xb=_.fa();_.Yb=ka()||_.p("iPod");_.Zb=_.p("iPad");_.$b=_.ja();_.ac=_.ha();_.bc=_.ia()&&!_.la();
var cc;cc={};_.dc=null;_.Aa=function(a,b){void 0===b&&(b=0);_.ec();b=cc[b];for(var c=Array(Math.floor(a.length/3)),d=b[64]||"",e=0,f=0;e<a.length-2;e+=3){var g=a[e],h=a[e+1],l=a[e+2],m=b[g>>2];g=b[(g&3)<<4|h>>4];h=b[(h&15)<<2|l>>6];l=b[l&63];c[f++]=m+g+h+l}m=0;l=d;switch(a.length-e){case 2:m=a[e+1],l=b[(m&15)<<2]||d;case 1:a=a[e],c[f]=b[a>>2]+b[(a&3)<<4|m>>4]+l+d}return c.join("")};
_.ec=function(){if(!_.dc){_.dc={};for(var a="ABCDEFGHIJKLMNOPQRSTUVWXYZabcdefghijklmnopqrstuvwxyz0123456789".split(""),b=["+/=","+/","-_=","-_.","-_"],c=0;5>c;c++){var d=a.concat(b[c].split(""));cc[c]=d;for(var e=0;e<d.length;e++){var f=d[e];void 0===_.dc[f]&&(_.dc[f]=e)}}}};
var oa;oa="undefined"!==typeof Uint8Array;_.Ka={};
_.fc="function"===typeof Uint8Array.prototype.slice;
_.gc="undefined"!==typeof TextDecoder;_.hc="undefined"!==typeof TextEncoder;
var ic;_.Ba=function(a,b){if(b!==_.Ka)throw Error("u");this.Aa=a;if(null!=a&&0===a.length)throw Error("v");};_.La=function(){return ic||(ic=new _.Ba(null,_.Ka))};_.Ba.prototype.bc=function(){return null==this.Aa};
var qa="function"===typeof Symbol&&"symbol"===typeof Symbol()?Symbol(void 0):void 0;
var kc,lc,mc;_.Fa={};kc=Object;lc=kc.freeze;mc=[];_.ra(mc,3);_.nc=lc.call(kc,mc);_.oc=function(a){if(_.xa(a.na))throw Error("z");};
_.D=function(a,b,c){return-1===b?null:b>=a.qc?a.Oa?a.Oa[b]:void 0:(void 0===c?0:c)&&a.Oa&&(c=a.Oa[b],null!=c)?c:a.na[b+a.lc]};_.r=function(a,b,c,d,e){d=void 0===d?!1:d;(void 0===e?0:e)||_.oc(a);a.ng&&(a.ng=void 0);if(b>=a.qc||d)return(a.Oa||(a.Oa=a.na[a.qc+a.lc]={}))[b]=c,a;void 0!==a.Oa&&a.qc>=a.na.length?(d=a.na.length-1,e=b+a.lc,e>=d?(a.na[d]=void 0,a.na[e]=c,a.na.push(a.Oa)):a.na[e]=c):a.na[b+a.lc]=c;void 0!==a.Oa&&b in a.Oa&&delete a.Oa[b];return a};_.pc=function(a,b){return null!=_.D(a,b,!1)};
_.E=function(a,b){a=_.D(a,b);return null==a?a:!!a};_.qc=function(a,b,c,d){var e=_.D(a,c,d);var f=!1;var g=null==e||"object"!==typeof e||(f=Array.isArray(e))||e.Ye!==_.Fa?f?new b(e):void 0:e;g!==e&&null!=g&&(_.r(a,c,g,d,!0),_.ra(g.na,_.ta(a.na)&-33));return g};_.F=function(a,b,c,d){d=void 0===d?!1:d;b=_.qc(a,b,c,d);if(null==b)return b;_.xa(b.na)&&!_.xa(a.na)&&(b=_.Na(b),_.r(a,c,b,d));return b};_.rc=function(a,b,c){_.oc(a);null==c&&(c=void 0);return _.r(a,b,c)};
_.Ja=function(a,b,c){_.oc(a);if(null!=c){var d=_.va([]);for(var e=!1,f=0;f<c.length;f++)d[f]=c[f].na,e=e||_.xa(d[f]);a.j||(a.j={});a.j[b]=c;c=d;e?_.sa(c,8):_.ra(c,8)}else a.j&&(a.j[b]=void 0),d=_.nc;return _.r(a,b,d)};_.sc=function(a,b,c){a=_.D(a,b);return _.Ia(null==a?a:+a,void 0===c?0:c)};_.tc=function(a,b,c){return _.Ia(_.D(a,b),void 0===c?0:c)};
_.G=function(a,b,c){null==a&&(a=_.uc);_.uc=null;var d=this.constructor.o||0,e=0<d,f=this.constructor.j,g=!1;if(null==a){var h=f?[f]:[];_.ra(h,48);a=h;h=!0}else if(h=!!(_.ta(a)&16))g=_.ta(a),_.ua(a,g|32),g=!!(g&32);e&&0<a.length&&za(a[a.length-1])&&"g"in a[a.length-1]&&(d=0);this.lc=(f?0:-1)-d;this.j=void 0;this.na=a;a:{f=this.na.length;d=f-1;if(f&&(f=this.na[d],za(f))){this.Oa=f;b=Object.keys(f);0<b.length&&zb(b,isNaN)?this.qc=Number.MAX_VALUE:this.qc=d-this.lc;break a}void 0!==b&&-1<b?(this.qc=Math.max(b,
d+1-this.lc),this.Oa=void 0):this.qc=Number.MAX_VALUE}if(!e&&this.Oa&&"g"in this.Oa)throw Error("E");if(c)for(e=h&&!g?wa:_.va,b=0;b<c.length;b++)h=c[b],(g=_.D(this,h))?Array.isArray(g)&&e(g):_.r(this,h,_.nc,!1,!0)};_.G.prototype.toJSON=function(){var a=this.na;return _.jc?a:_.Da(a,Ga,Ha)};_.G.prototype.oc=function(){return _.xa(this.na)};_.G.prototype.Ye=_.Fa;_.G.prototype.toString=function(){return this.na.toString()};
_.vc=Symbol();_.wc=Symbol();_.xc=Symbol();_.yc=Symbol();
var zc=function(a){_.G.call(this,a)};_.w(zc,_.G);
_.Ac=function(a){_.G.call(this,a)};_.w(_.Ac,_.G);_.Ac.prototype.Zc=function(a){return _.r(this,3,a)};
var Bc=function(a){_.G.call(this,a)};_.w(Bc,_.G);
_.Cc=function(a){_.G.call(this,a)};_.w(_.Cc,_.G);_.Cc.prototype.rf=function(a){return _.r(this,24,a)};
_.Dc=function(a){_.G.call(this,a)};_.w(_.Dc,_.G);
_.H=function(){this.Mb=this.Mb;this.Ma=this.Ma};_.H.prototype.Mb=!1;_.H.prototype.isDisposed=function(){return this.Mb};_.H.prototype.ua=function(){this.Mb||(this.Mb=!0,this.R())};_.H.prototype.R=function(){if(this.Ma)for(;this.Ma.length;)this.Ma.shift()()};
var Ec=function(a){_.H.call(this);this.A=a;this.j=[];this.o={}};_.w(Ec,_.H);Ec.prototype.resolve=function(a){var b=this.A;a=a.split(".");for(var c=a.length,d=0;d<c;++d)if(b[a[d]])b=b[a[d]];else return null;return b instanceof Function?b:null};Ec.prototype.ud=function(){for(var a=this.j.length,b=this.j,c=[],d=0;d<a;++d){var e=b[d].j(),f=this.resolve(e);if(f&&f!=this.o[e])try{b[d].ud(f)}catch(g){}else c.push(b[d])}this.j=c.concat(b.slice(a))};
var Fc=function(a){_.H.call(this);this.A=a;this.C=this.j=null;this.B=0;this.D={};this.o=!1;a=window.navigator.userAgent;0<=a.indexOf("MSIE")&&0<=a.indexOf("Trident")&&(a=/\b(?:MSIE|rv)[: ]([^\);]+)(\)|;)/.exec(a))&&a[1]&&9>parseFloat(a[1])&&(this.o=!0)};_.w(Fc,_.H);Fc.prototype.F=function(a,b){this.j=b;this.C=a;b.preventDefault?b.preventDefault():b.returnValue=!1};
_.Gc=function(a){_.G.call(this,a)};_.w(_.Gc,_.G);
_.Hc=function(a){_.G.call(this,a)};_.w(_.Hc,_.G);
_.Ic=function(){this.data={}};_.Ic.prototype.o=function(){window.console&&window.console.log&&window.console.log("Log data: ",this.data)};_.Ic.prototype.j=function(a){var b=[],c;for(c in this.data)b.push(encodeURIComponent(c)+"="+encodeURIComponent(String(this.data[c])));return("atyp=i&zx="+(new Date).getTime()+"&"+b.join("&")).substr(0,a)};
var Jc=function(a,b){this.data={};var c=_.F(a,Bc,8)||new Bc;window.google&&window.google.kEI&&(this.data.ei=window.google.kEI);this.data.sei=_.u(_.D(a,10));this.data.ogf=_.u(_.D(c,3));this.data.ogrp=(window.google&&window.google.sn?!/.*hp$/.test(window.google.sn):_.t(_.E(a,7)))?"1":"";this.data.ogv=_.u(_.D(c,6))+"."+_.u(_.D(c,7));this.data.ogd=_.u(_.D(a,21));this.data.ogc=_.u(_.D(a,20));this.data.ogl=_.u(_.D(a,5));b&&(this.data.oggv=b)};_.w(Jc,_.Ic);
var Qa="constructor hasOwnProperty isPrototypeOf propertyIsEnumerable toLocaleString toString valueOf".split(" ");
_.Kc=function(a,b,c,d,e){Jc.call(this,a,b);_.Ra(this.data,{jexpid:_.u(_.D(a,9)),srcpg:"prop="+_.u(_.D(a,6)),jsr:Math.round(1/d),emsg:c.name+":"+c.message});if(e){e._sn&&(e._sn="og."+e._sn);for(var f in e)this.data[encodeURIComponent(f)]=e[f]}};_.w(_.Kc,Jc);
var Lc;_.Mc=function(){void 0===Lc&&(Lc=_.rb("ogb-qtm#html"));return Lc};
_.Oc=function(a,b){this.j=b===_.Nc?a:""};_.Oc.prototype.toString=function(){return this.j+""};_.Oc.prototype.Pb=!0;_.Oc.prototype.vb=function(){return this.j.toString()};_.Qc=function(a){return _.Pc(a).toString()};_.Pc=function(a){return a instanceof _.Oc&&a.constructor===_.Oc?a.j:"type_error:TrustedResourceUrl"};_.Nc={};
var Uc,Vc,Rc;_.Sc=function(a,b){this.j=b===Rc?a:""};_.Sc.prototype.toString=function(){return this.j.toString()};_.Sc.prototype.Pb=!0;_.Sc.prototype.vb=function(){return this.j.toString()};_.Tc=function(a){return a instanceof _.Sc&&a.constructor===_.Sc?a.j:"type_error:SafeUrl"};Uc=/^data:(.*);base64,[a-z0-9+\/]+=*$/i;Vc=/^(?:(?:https?|mailto|ftp):|[^:/?#]*(?:[/?#]|$))/i;
_.Xc=function(a){if(a instanceof _.Sc)return a;a="object"==typeof a&&a.Pb?a.vb():String(a);Vc.test(a)?a=_.Wc(a):(a=String(a).replace(/(%0A|%0D)/g,""),a=a.match(Uc)?_.Wc(a):null);return a};_.Yc=function(a){if(a instanceof _.Sc)return a;a="object"==typeof a&&a.Pb?a.vb():String(a);Vc.test(a)||(a="about:invalid#zClosurez");return _.Wc(a)};Rc={};_.Wc=function(a){return new _.Sc(a,Rc)};_.Zc=_.Wc("about:invalid#zClosurez");
_.$c={};_.ad=function(a,b){this.j=b===_.$c?a:"";this.Pb=!0};_.ad.prototype.vb=function(){return this.j};_.ad.prototype.toString=function(){return this.j.toString()};_.bd=new _.ad("",_.$c);_.cd=RegExp("^[-,.\"'%_!#/ a-zA-Z0-9\\[\\]]+$");_.ed=RegExp("\\b(url\\([ \t\n]*)('[ -&(-\\[\\]-~]*'|\"[ !#-\\[\\]-~]*\"|[!#-&*-\\[\\]-~]*)([ \t\n]*\\))","g");
_.fd=RegExp("\\b(calc|cubic-bezier|fit-content|hsl|hsla|linear-gradient|matrix|minmax|radial-gradient|repeat|rgb|rgba|(rotate|scale|translate)(X|Y|Z|3d)?|var)\\([-+*/0-9a-zA-Z.%#\\[\\], ]+\\)","g");
var gd;gd={};_.hd=function(a,b){this.j=b===gd?a:"";this.Pb=!0};_.hd.prototype.vb=function(){return this.j.toString()};_.hd.prototype.toString=function(){return this.j.toString()};_.id=function(a){return a instanceof _.hd&&a.constructor===_.hd?a.j:"type_error:SafeHtml"};_.jd=function(a){var b=_.Mc();a=b?b.createHTML(a):a;return new _.hd(a,gd)};_.kd=new _.hd(_.n.trustedTypes&&_.n.trustedTypes.emptyHTML||"",gd);_.ld=_.jd("<br>");
var nd;_.md=function(a){var b=!1,c;return function(){b||(c=a(),b=!0);return c}}(function(){var a=document.createElement("div"),b=document.createElement("div");b.appendChild(document.createElement("div"));a.appendChild(b);b=a.firstChild.firstChild;a.innerHTML=_.id(_.kd);return!b.parentElement});nd=/^[\w+/_-]+[=]{0,2}$/;
_.od=function(a){a=(a||_.n).document;return a.querySelector?(a=a.querySelector('style[nonce],link[rel="stylesheet"][nonce]'))&&(a=a.nonce||a.getAttribute("nonce"))&&nd.test(a)?a:"":""};
_.pd=RegExp("^\\s{3,4}at(?: (?:(.*?)\\.)?((?:new )?(?:[a-zA-Z_$][\\w$]*|<anonymous>))(?: \\[as ([a-zA-Z_$][\\w$]*)\\])?)? (?:\\(unknown source\\)|\\(native\\)|\\((?:eval at )?((?:http|https|file)://[^\\s)]+|javascript:.*)\\)|((?:http|https|file)://[^\\s)]+|javascript:.*))$");_.qd=RegExp("^(?:(.*?)\\.)?([a-zA-Z_$][\\w$]*(?:/.?<)?)?(\\(.*\\))?@(?::0|((?:http|https|file)://[^\\s)]+|javascript:.*))$");
var rd,ud,td;_.sd=function(a){var b=window.google&&window.google.logUrl?"":"https://www.google.com";b+="/gen_204?use_corp=on&";b+=a.j(2040-b.length);rd(_.Xc(b)||_.Zc)};rd=function(a){var b=new Image,c=td;b.onerror=b.onload=b.onabort=function(){c in ud&&delete ud[c]};ud[td++]=b;b.src=_.Tc(a)};ud=[];td=0;
_.vd=function(a){_.G.call(this,a)};_.w(_.vd,_.G);
_.wd=function(a){var b="Lc";if(a.Lc&&a.hasOwnProperty(b))return a.Lc;b=new a;return a.Lc=b};
_.xd=function(){this.j={};this.o={}};_.zd=function(a,b){var c=_.xd.j();if(a in c.j){if(c.j[a]!=b)throw new yd(a);}else{c.j[a]=b;if(b=c.o[a])for(var d=0,e=b.length;d<e;d++)b[d].j(c.j,a);delete c.o[a]}};_.Bd=function(a,b){if(b in a.j)return a.j[b];throw new Ad(b);};_.xd.j=function(){return _.wd(_.xd)};var Cd=function(){_.aa.call(this)};_.w(Cd,_.aa);var yd=function(){_.aa.call(this)};_.w(yd,Cd);var Ad=function(){_.aa.call(this)};_.w(Ad,Cd);
var Fd=function(){var a=Dd;this.C=Ed;this.o=_.Oa(_.sc(a,2,.001),.001);this.D=_.t(_.E(a,1))&&Math.random()<this.o;this.F=_.Oa(_.tc(a,3,1),1);this.B=0;this.j=this.A=null};Fd.prototype.log=function(a,b){if(this.j){var c=new zc;_.r(c,1,a.message);_.r(c,2,a.stack);_.r(c,3,a.lineNumber);_.r(c,5,1);var d=new _.Ac;_.rc(d,40,c);this.j.log(98,d)}try{if(this.D&&this.B<this.F){try{var e=(this.A||_.Bd(_.xd.j(),"lm")).B(a,b)}catch(f){e=new _.Kc(this.C,"quantum:gapiBuildLabel",a,this.o,b)}_.sd(e);this.B++}}catch(f){}};
var Gd=[1,2,3,4,5,6,9,10,11,13,14,28,29,30,34,35,37,38,39,40,42,43,48,49,50,51,52,53,62,500],Jd=function(a,b,c,d,e,f){Jc.call(this,a,b);_.Ra(this.data,{oge:d,ogex:_.u(_.D(a,9)),ogp:_.u(_.D(a,6)),ogsr:Math.round(1/(Hd(d)?_.Oa(_.sc(c,3,1)):_.Oa(_.sc(c,2,1E-4)))),ogus:e});if(f){"ogw"in f&&(this.data.ogw=f.ogw,delete f.ogw);"ved"in f&&(this.data.ved=f.ved,delete f.ved);a=[];for(var g in f)0!=a.length&&a.push(","),a.push(Id(g)),a.push("."),a.push(Id(f[g]));f=a.join("");""!=f&&(this.data.ogad=f)}};
_.w(Jd,Jc);var Id=function(a){a=String(a);return a.replace(".","%2E").replace(",","%2C")},Hd=function(a){if(!Kd){Kd={};for(var b=0;b<Gd.length;b++)Kd[Gd[b]]=!0}return!!Kd[a]},Kd=null;
var Ld=function(a){_.G.call(this,a)};_.w(Ld,_.G);
var Qd=function(){var a=Nd,b=Od,c=Pd;this.o=a;this.j=b;this.B=_.Oa(_.sc(a,2,1E-4),1E-4);this.D=_.Oa(_.sc(a,3,1),1);b=Math.random();this.A=_.t(_.E(a,1))&&b<this.B;this.C=_.t(_.E(a,1))&&b<this.D;a=0;_.t(_.E(c,1))&&(a|=1);_.t(_.E(c,2))&&(a|=2);_.t(_.E(c,3))&&(a|=4);this.F=a};Qd.prototype.log=function(a,b){try{if(Hd(a)?this.C:this.A){var c=new Jd(this.j,"quantum:gapiBuildLabel",this.o,a,this.F,b);_.sd(c)}}catch(d){}};
_.Rd=function(a){this.Aa=a;this.j=void 0;this.o=[]};_.Rd.prototype.then=function(a,b,c){this.o.push(new Sd(a,b,c));Td(this)};_.Rd.prototype.resolve=function(a){if(void 0!==this.Aa||void 0!==this.j)throw Error("M");this.Aa=a;Td(this)};_.Rd.prototype.reject=function(a){if(void 0!==this.Aa||void 0!==this.j)throw Error("M");this.j=a;Td(this)};var Td=function(a){if(0<a.o.length){var b=void 0!==a.Aa,c=void 0!==a.j;if(b||c){b=b?a.A:a.B;c=a.o;a.o=[];try{_.ub(c,b,a)}catch(d){console.error(d)}}}};
_.Rd.prototype.A=function(a){a.o&&a.o.call(a.j,this.Aa)};_.Rd.prototype.B=function(a){a.A&&a.A.call(a.j,this.j)};var Sd=function(a,b,c){this.o=a;this.A=b;this.j=c};
_.I=function(){this.B=new _.Rd;this.j=new _.Rd;this.G=new _.Rd;this.D=new _.Rd;this.F=new _.Rd;this.H=new _.Rd;this.C=new _.Rd;this.A=new _.Rd;this.o=new _.Rd;this.K=new _.Rd};_.k=_.I.prototype;_.k.fi=function(){return this.B};_.k.ri=function(){return this.j};_.k.yi=function(){return this.G};_.k.oi=function(){return this.D};_.k.wi=function(){return this.F};_.k.li=function(){return this.H};_.k.mi=function(){return this.C};_.k.Wh=function(){return this.A};_.k.Vh=function(){return this.o};_.I.j=function(){return _.wd(_.I)};
var Ud=function(a){_.G.call(this,a)};_.w(Ud,_.G);_.Wd=function(){return _.F(_.Vd,_.Cc,1)};_.Xd=function(){return _.F(_.Vd,_.Dc,5)};
var Yd;window.gbar_&&window.gbar_.CONFIG?Yd=window.gbar_.CONFIG[0]||{}:Yd=[];_.Vd=new Ud(Yd);
var Dd,Ed,Od,Pd,Nd;Dd=_.F(_.Vd,_.vd,3)||new _.vd;Ed=_.Wd()||new _.Cc;_.K=new Fd;Od=_.Wd()||new _.Cc;Pd=_.Xd()||new _.Dc;Nd=_.F(_.Vd,Ld,4)||new Ld;_.Zd=new Qd;
_.A("gbar_._DumpException",function(a){_.K?_.K.log(a):console.error(a)});
_.$d=new Fc(_.K);
_.Zd.log(8,{m:"BackCompat"==document.compatMode?"q":"s"});_.A("gbar.A",_.Rd);_.Rd.prototype.aa=_.Rd.prototype.then;_.A("gbar.B",_.I);_.I.prototype.ba=_.I.prototype.ri;_.I.prototype.bb=_.I.prototype.yi;_.I.prototype.bd=_.I.prototype.wi;_.I.prototype.bf=_.I.prototype.fi;_.I.prototype.bg=_.I.prototype.oi;_.I.prototype.bh=_.I.prototype.li;_.I.prototype.bi=_.I.prototype.mi;_.I.prototype.bj=_.I.prototype.Wh;_.I.prototype.bk=_.I.prototype.Vh;_.A("gbar.a",_.I.j());var ae=new Ec(window);_.zd("api",ae);
var be=_.Xd()||new _.Dc;window.__PVT=_.u(_.D(be,8));_.zd("eq",_.$d);

}catch(e){_._DumpException(e)}
try{
var ce=function(a){_.G.call(this,a)};_.w(ce,_.G);
var de=function(){_.H.call(this);this.o=[];this.j=[]};_.w(de,_.H);de.prototype.A=function(a,b){this.o.push({features:a,options:b})};de.prototype.init=function(a,b,c){window.gapi={};var d=window.___jsl={};d.h=_.u(_.D(a,1));_.pc(a,12)&&(d.dpo=_.t(_.E(a,12)));d.ms=_.u(_.D(a,2));d.m=_.u(_.D(a,3));d.l=[];_.D(b,1)&&(a=_.D(b,3))&&this.j.push(a);_.D(c,1)&&(c=_.D(c,2))&&this.j.push(c);_.A("gapi.load",(0,_.z)(this.A,this));return this};
var ee=_.F(_.Vd,_.Gc,14)||new _.Gc,fe=_.F(_.Vd,_.Hc,9)||new _.Hc,ge=new ce,he=new de;he.init(ee,fe,ge);_.zd("gs",he);

}catch(e){_._DumpException(e)}
})(this.gbar_);
// Google Inc.
</script><script nonce="">try {const preferences = JSON.parse(window.localStorage.getItem("datalab_prefs_prasannapriadarsan.m_ll-2003-sn-015@thelightinglamp.com")); document.querySelector('html') .setAttribute('theme', preferences['siteTheme'] || 'default');} catch (e) {}</script><script nonce="">window.performance.mark('head_start');</script><script src="./Assignment_3_files/webcomponents-lite.js.download" nonce=""></script><script src="./Assignment_3_files/web-animations-next-lite.min.js.download" nonce=""></script><script nonce="">var colabVersionTag = 'colab-20221013-060049-RC00_480849705'; var hl = 'en-GB'; var colabExperiments = JSON.parse('\x7b\x22aida\x22: false, \x22b205360537\x22: true, \x22backend_version\x22: \x22\x22, \x22bq\x22: true, \x22bq_tid\x22: false, \x22classroom_iframe_parent_origin\x22: \x22\x22, \x22comment_poll_long\x22: 900000, \x22comment_poll_short\x22: 60000, \x22connect_corp_redo\x22: false, \x22crawler\x22: false, \x22ctx\x22: true, \x22data_integrations\x22: false, \x22dbu\x22: \x22\x22, \x22debug_external\x22: \x22external\x22, \x22debug_prod\x22: \x22prod\x22, \x22development\x22: false, \x22document_change_poll_interval\x22: 30000, \x22drive_anon_api_key\x22: \x22AIzaSyB10s2vWUTwP0pj20wZoxmpZIt3rRodYeg\x22, \x22drive_api_key\x22: \x22AIzaSyCN_sSPJMpYrAzC5AtTrltNC8oRmLtoqBk\x22, \x22drive_background_save_project_number\x22: \x22948411933973\x22, \x22drive_install\x22: true, \x22drive_realtime_project_number\x22: \x22\x22, \x22emacs_support\x22: false, \x22enforce_min_borg_runtime_cl\x22: false, \x22enforce_min_borg_runtime_date\x22: \x22\x22, \x22enforce_shared_runtime_allowlist\x22: false, \x22external_trusted_github_org_repos_quick_add\x22: \x22\x22, \x22first_party_auth\x22: true, \x22fix_multi_select_scrolling\x22: true, \x22gcp_signin_origin\x22: \x22\x22, \x22gcp_usercontent_origin\x22: \x22\x22, \x22gis_auth\x22: false, \x22github_client_id\x22: \x225036cf6d81e65aaa6340\x22, \x22gm2\x22: true, \x22gpu_utilization_check_interval_ms\x22: 600000, \x22hats_surveys\x22: true, \x22hide_editing\x22: false, \x22hrc\x22: false, \x22ignore_be\x22: true, \x22jsraw\x22: \x22compiled\x22, \x22load_error_logging\x22: true, \x22local_service_worker\x22: false, \x22log_hover_type\x22: false, \x22lsp\x22: false, \x22lsp_diagnostics\x22: true, \x22lsp_diagnostics_reporting\x22: false, \x22lsrp\x22: 0, \x22min_borg_runtime_cl\x22: 0, \x22min_borg_runtime_more_info_url\x22: \x22\x22, \x22mlpp\x22: false, \x22mlpp_cache_responses\x22: true, \x22mlpp_min_score\x22: -0.32, \x22mlpp_multiline\x22: false, \x22mlpp_on_by_default\x22: false, \x22mlpp_trim_completion_text\x22: 100, \x22mobile\x22: false, \x22no_fun\x22: false, \x22omit_drive_titles\x22: true, \x22outage_notification\x22: \x22\x22, \x22outage_notification_link\x22: \x22\x22, \x22outputframe_version\x22: \x22\x22, \x22override_suf_params_for_test\x22: false, \x22payg\x22: true, \x22people_kit\x22: false, \x22pitchfork\x22: false, \x22powerwash_on_runtime_setting_change\x22: false, \x22prereq_cells\x22: false, \x22pro_cta\x22: false, \x22pv\x22: false, \x22recaptcha_polling_frequency_ms\x22: 300000, \x22recaptcha_v2_site_key\x22: \x226LfQttQUAAAAADuPanA_VZMaZgBAOnHZNuuqUewp\x22, \x22recaptcha_v3_site_key\x22: \x226LfQPtEUAAAAAHBpAdFng54jyuB1V5w5dofknpip\x22, \x22reconnect_max_delay_seconds\x22: 300, \x22resource_poll_interval_ms\x22: 10000, \x22rsrp\x22: 0, \x22rt\x22: false, \x22runtime_env_overrides\x22: \x22\\n          \x5b\\n            \x5b\\\x22ENABLE_DIRECTORYPREFETCHER\\\x22, \\\x221\\\x22\x5d\\n          \x5d\\n        \x22, \x22runtime_type_for_test\x22: \x22\x22, \x22scheduled_notebooks\x22: true, \x22scheduled_notebooks_promo\x22: false, \x22serve_versioned_assets_from_scs\x22: false, \x22server_execution_queue\x22: true, \x22session_resume_coalesce\x22: true, \x22show_gpu_picker\x22: false, \x22show_payments_interstitial\x22: false, \x22show_switch_to_prod_link\x22: false, \x22signup_title_translation\x22: false, \x22smaoa\x22: true, \x22sparklines\x22: false, \x22suspicious_code_matches\x22: \x22\x22, \x22suspicious_code_regexs\x22: \x22\x22, \x22term4all\x22: false, \x22terminal_gce\x22: false, \x22titles_on_top\x22: true, \x22uds\x22: false, \x22unmanaged_vm_min_label_block\x22: \x22\x22, \x22unmanaged_vm_min_label_warn\x22: \x22\x22, \x22use_backend_runtime_info\x22: true, \x22use_corplogin\x22: true, \x22use_dm_sql_lsp\x22: false, \x22verbose_warnings\x22: false, \x22vertex\x22: false, \x22vsrp\x22: 0, \x22vtrp\x22: 0, \x22w5c\x22: true, \x22w6c\x22: false, \x22warn_missing_borg_runtimes\x22: false, \x22warn_noninteractive\x22: true, \x22workstations\x22: false, \x22z_index_b247858193\x22: true, \x22ids\x22: \x5b20730129, 20730102\x5d\x7d'); var colabUserEmail = 'prasannapriadarsan.m_ll-2003-sn-015@thelightinglamp.com'; var colabRenderDataToken = 'AEmUs8OBYOIAUAtnEZQbzCSNVUuTQ_tNjNRV0-9DVK-oUnhyZLg2cllBX326bAFdKIH1uaE3PJRBov2vfqCmQomh3Si7Pa1Lgg_P5-xp'; var colabConfig = '\x5b\x5b\x22prasannapriadarsan.m_ll-2003-sn-015@thelightinglamp.com\x22,\x5b1,null,\x22AJ9oCCyW4WLIDRT1DfZqWZ1zoy\/k1yVg0dQDWcWySbV8LK1X1XB9u9j6Py0eTf6xrw4XXVlYys+MEt+wL2PA\/FrcPNwNv0q6iPpGtEKlbaXIqn16xMxrKmrbvhZWzAIUXfuWbNgB3rP1\x22,\x22https:\/\/payments.google.com\/payments\x22,0,0\x5d,\x5b1\x5d,\x22IN\x22\x5d\x5d';</script><link id="favicon-link" rel="shortcut icon" href="https://colab.research.google.com/img/favicon.ico?vrz=colab-20221013-060049-RC00_480849705"><link href="./Assignment_3_files/css" rel="stylesheet"><link href="./Assignment_3_files/css(1)" rel="stylesheet"><link rel="stylesheet" href="./Assignment_3_files/bundle.css"><meta name="google-site-verification" content="-wL8iYJTC7X0zF9qBNDQUAd-P1ZkQUK-OhSgv4Wkf1M"><meta name="google-site-verification" content="SWmQIGfhV6H36JobD6bbZhQlIEiIt4R6WeLN1IvB-Uo"><meta name="google-site-verification" content="vH2Nr83zeAU7b3747zjS0di6w6Bycf_e7aAIkNZLAyQ"><meta name="google-site-verification" content="KD0T7LOCCaCHCECvO9oHcfvqtPmvpMnFU6vogWZ6FnQ"><meta name="google-site-verification" content="X_e11vbgvEHdHuaRpMld_RK9XHaPSwlBXKAWbIbJxxs"><meta name="google-site-verification" content="qZJ77guHGO0TObHUBRYVdXQlIhXBBuz8dahJVmIlzCo"><meta name="google-site-verification" content="7ahoeOOKT2ZR781GZ5xK4L9t7yO1ZOHc-gaoUALEYgw"><meta name="google-site-verification" content="PHgaSKwdxZELS21aixtLhfpvaHtKen9pnVJ25EI35Zs"><meta name="google-site-verification" content="Ozey1ptWUQW13_lCEhpPMOcmRBLqdyB3WEL-TJUjskU"><meta name="google-site-verification" content="8P-D5fVWgUIhw8X2BxnKJbf5itK0zxX0QhoBjbJFTe8"><meta name="google-site-verification" content="DGionF7db9g0dOgeBXwOAN2tmCzWBdo5yOdc_-5UcuE"><meta name="google-site-verification" content="Q9LlidR0toR7UtSyVO23xNeaqJmRp8I6r4ghBQTtntU"><meta name="google-site-verification" content="rQawcZaTEK_UrDG30cz_7nVKOVvBass61QEes0Tm04g"><meta name="google-site-verification" content="U4VwCDRqo7_kUrEYldjQQWPZbA1j2lL709QZ8IAOhyQ"><meta name="google-site-verification" content="PojuzVmzXcMX6c6kUPDGi3H_ay18yKOMhtfHRAWMXiM"><meta name="google-site-verification" content="Osw7QcOK045GmOYJI2MM2_7AaL-s4q6pdn8gIv6JNxA"><meta name="google-site-verification" content="KiunYPvrY5x8umvAWcjhwPrB677xCar2LeT_8yaVrDg"><meta property="og:type" content="article"><meta property="og:image" content="https://colab.research.google.com/img/colab_favicon_256px.png"><meta property="og:title" content="Google Colaboratory"><script nonce="">window.performance.mark('head_end'); window.performance.measure('head', 'head_start', 'head_end');</script><script async="" src="./Assignment_3_files/lazy.min.js.download" nonce=""></script>
<custom-style>
  <style is="custom-style">[hidden] {
  display: none !important;
}

</style>
</custom-style>
<custom-style>
  <style is="custom-style">html {
  --layout_-_display:  flex;;

      --layout-inline_-_display:  inline-flex;;

      --layout-horizontal_-_display:  var(--layout_-_display); --layout-horizontal_-_-ms-flex-direction:  row; --layout-horizontal_-_-webkit-flex-direction:  row; --layout-horizontal_-_flex-direction:  row;;

      --layout-horizontal-reverse_-_display:  var(--layout_-_display); --layout-horizontal-reverse_-_-ms-flex-direction:  row-reverse; --layout-horizontal-reverse_-_-webkit-flex-direction:  row-reverse; --layout-horizontal-reverse_-_flex-direction:  row-reverse;;

      --layout-vertical_-_display:  var(--layout_-_display); --layout-vertical_-_-ms-flex-direction:  column; --layout-vertical_-_-webkit-flex-direction:  column; --layout-vertical_-_flex-direction:  column;;

      --layout-vertical-reverse_-_display:  var(--layout_-_display); --layout-vertical-reverse_-_-ms-flex-direction:  column-reverse; --layout-vertical-reverse_-_-webkit-flex-direction:  column-reverse; --layout-vertical-reverse_-_flex-direction:  column-reverse;;

      --layout-wrap_-_-ms-flex-wrap:  wrap; --layout-wrap_-_-webkit-flex-wrap:  wrap; --layout-wrap_-_flex-wrap:  wrap;;

      --layout-wrap-reverse_-_-ms-flex-wrap:  wrap-reverse; --layout-wrap-reverse_-_-webkit-flex-wrap:  wrap-reverse; --layout-wrap-reverse_-_flex-wrap:  wrap-reverse;;

      --layout-flex-auto_-_-ms-flex:  1 1 auto; --layout-flex-auto_-_-webkit-flex:  1 1 auto; --layout-flex-auto_-_flex:  1 1 auto;;

      --layout-flex-none_-_-ms-flex:  none; --layout-flex-none_-_-webkit-flex:  none; --layout-flex-none_-_flex:  none;;

      --layout-flex_-_-ms-flex:  1 1 0.000000001px; --layout-flex_-_-webkit-flex:  1; --layout-flex_-_flex:  1; --layout-flex_-_-webkit-flex-basis:  0.000000001px; --layout-flex_-_flex-basis:  0.000000001px;;

      --layout-flex-2_-_-ms-flex:  2; --layout-flex-2_-_-webkit-flex:  2; --layout-flex-2_-_flex:  2;;

      --layout-flex-3_-_-ms-flex:  3; --layout-flex-3_-_-webkit-flex:  3; --layout-flex-3_-_flex:  3;;

      --layout-flex-4_-_-ms-flex:  4; --layout-flex-4_-_-webkit-flex:  4; --layout-flex-4_-_flex:  4;;

      --layout-flex-5_-_-ms-flex:  5; --layout-flex-5_-_-webkit-flex:  5; --layout-flex-5_-_flex:  5;;

      --layout-flex-6_-_-ms-flex:  6; --layout-flex-6_-_-webkit-flex:  6; --layout-flex-6_-_flex:  6;;

      --layout-flex-7_-_-ms-flex:  7; --layout-flex-7_-_-webkit-flex:  7; --layout-flex-7_-_flex:  7;;

      --layout-flex-8_-_-ms-flex:  8; --layout-flex-8_-_-webkit-flex:  8; --layout-flex-8_-_flex:  8;;

      --layout-flex-9_-_-ms-flex:  9; --layout-flex-9_-_-webkit-flex:  9; --layout-flex-9_-_flex:  9;;

      --layout-flex-10_-_-ms-flex:  10; --layout-flex-10_-_-webkit-flex:  10; --layout-flex-10_-_flex:  10;;

      --layout-flex-11_-_-ms-flex:  11; --layout-flex-11_-_-webkit-flex:  11; --layout-flex-11_-_flex:  11;;

      --layout-flex-12_-_-ms-flex:  12; --layout-flex-12_-_-webkit-flex:  12; --layout-flex-12_-_flex:  12;;

      

      --layout-start_-_-ms-flex-align:  start; --layout-start_-_-webkit-align-items:  flex-start; --layout-start_-_align-items:  flex-start;;

      --layout-center_-_-ms-flex-align:  center; --layout-center_-_-webkit-align-items:  center; --layout-center_-_align-items:  center;;

      --layout-end_-_-ms-flex-align:  end; --layout-end_-_-webkit-align-items:  flex-end; --layout-end_-_align-items:  flex-end;;

      --layout-baseline_-_-ms-flex-align:  baseline; --layout-baseline_-_-webkit-align-items:  baseline; --layout-baseline_-_align-items:  baseline;;

      

      --layout-start-justified_-_-ms-flex-pack:  start; --layout-start-justified_-_-webkit-justify-content:  flex-start; --layout-start-justified_-_justify-content:  flex-start;;

      --layout-center-justified_-_-ms-flex-pack:  center; --layout-center-justified_-_-webkit-justify-content:  center; --layout-center-justified_-_justify-content:  center;;

      --layout-end-justified_-_-ms-flex-pack:  end; --layout-end-justified_-_-webkit-justify-content:  flex-end; --layout-end-justified_-_justify-content:  flex-end;;

      --layout-around-justified_-_-ms-flex-pack:  distribute; --layout-around-justified_-_-webkit-justify-content:  space-around; --layout-around-justified_-_justify-content:  space-around;;

      --layout-justified_-_-ms-flex-pack:  justify; --layout-justified_-_-webkit-justify-content:  space-between; --layout-justified_-_justify-content:  space-between;;

      --layout-center-center_-_-ms-flex-align:  var(--layout-center_-_-ms-flex-align); --layout-center-center_-_-webkit-align-items:  var(--layout-center_-_-webkit-align-items); --layout-center-center_-_align-items:  var(--layout-center_-_align-items); --layout-center-center_-_-ms-flex-pack:  var(--layout-center-justified_-_-ms-flex-pack); --layout-center-center_-_-webkit-justify-content:  var(--layout-center-justified_-_-webkit-justify-content); --layout-center-center_-_justify-content:  var(--layout-center-justified_-_justify-content);;

      

      --layout-self-start_-_-ms-align-self:  flex-start; --layout-self-start_-_-webkit-align-self:  flex-start; --layout-self-start_-_align-self:  flex-start;;

      --layout-self-center_-_-ms-align-self:  center; --layout-self-center_-_-webkit-align-self:  center; --layout-self-center_-_align-self:  center;;

      --layout-self-end_-_-ms-align-self:  flex-end; --layout-self-end_-_-webkit-align-self:  flex-end; --layout-self-end_-_align-self:  flex-end;;

      --layout-self-stretch_-_-ms-align-self:  stretch; --layout-self-stretch_-_-webkit-align-self:  stretch; --layout-self-stretch_-_align-self:  stretch;;

      --layout-self-baseline_-_-ms-align-self:  baseline; --layout-self-baseline_-_-webkit-align-self:  baseline; --layout-self-baseline_-_align-self:  baseline;;

      

      --layout-start-aligned_-_-ms-flex-line-pack:  start; --layout-start-aligned_-_-ms-align-content:  flex-start; --layout-start-aligned_-_-webkit-align-content:  flex-start; --layout-start-aligned_-_align-content:  flex-start;;

      --layout-end-aligned_-_-ms-flex-line-pack:  end; --layout-end-aligned_-_-ms-align-content:  flex-end; --layout-end-aligned_-_-webkit-align-content:  flex-end; --layout-end-aligned_-_align-content:  flex-end;;

      --layout-center-aligned_-_-ms-flex-line-pack:  center; --layout-center-aligned_-_-ms-align-content:  center; --layout-center-aligned_-_-webkit-align-content:  center; --layout-center-aligned_-_align-content:  center;;

      --layout-between-aligned_-_-ms-flex-line-pack:  justify; --layout-between-aligned_-_-ms-align-content:  space-between; --layout-between-aligned_-_-webkit-align-content:  space-between; --layout-between-aligned_-_align-content:  space-between;;

      --layout-around-aligned_-_-ms-flex-line-pack:  distribute; --layout-around-aligned_-_-ms-align-content:  space-around; --layout-around-aligned_-_-webkit-align-content:  space-around; --layout-around-aligned_-_align-content:  space-around;;

      

      --layout-block_-_display:  block;;

      --layout-invisible_-_visibility:  hidden !important;;

      --layout-relative_-_position:  relative;;

      --layout-fit_-_position:  absolute; --layout-fit_-_top:  0; --layout-fit_-_right:  0; --layout-fit_-_bottom:  0; --layout-fit_-_left:  0;;

      --layout-scroll_-_-webkit-overflow-scrolling:  touch; --layout-scroll_-_overflow:  auto;;

      --layout-fullbleed_-_margin:  0; --layout-fullbleed_-_height:  100vh;;

      

      --layout-fixed-top_-_position:  fixed; --layout-fixed-top_-_top:  0; --layout-fixed-top_-_left:  0; --layout-fixed-top_-_right:  0;;

      --layout-fixed-right_-_position:  fixed; --layout-fixed-right_-_top:  0; --layout-fixed-right_-_right:  0; --layout-fixed-right_-_bottom:  0;;

      --layout-fixed-bottom_-_position:  fixed; --layout-fixed-bottom_-_right:  0; --layout-fixed-bottom_-_bottom:  0; --layout-fixed-bottom_-_left:  0;;

      --layout-fixed-left_-_position:  fixed; --layout-fixed-left_-_top:  0; --layout-fixed-left_-_bottom:  0; --layout-fixed-left_-_left:  0;;
}

</style>
</custom-style><style>[hidden] { display: none !important; }</style><custom-style>
  <style is="custom-style">html {
  --google-red-100: #f4c7c3;
      --google-red-300: #e67c73;
      --google-red-500: #db4437;
      --google-red-700: #c53929;

      --google-blue-100: #c6dafc;
      --google-blue-300: #7baaf7;
      --google-blue-500: #4285f4;
      --google-blue-700: #3367d6;

      --google-green-100: #b7e1cd;
      --google-green-300: #57bb8a;
      --google-green-500: #0f9d58;
      --google-green-700: #0b8043;

      --google-yellow-100: #fce8b2;
      --google-yellow-300: #f7cb4d;
      --google-yellow-500: #f4b400;
      --google-yellow-700: #f09300;

      --google-grey-100: #f5f5f5;
      --google-grey-300: #e0e0e0;
      --google-grey-500: #9e9e9e;
      --google-grey-700: #616161;

      

      --paper-red-50: #ffebee;
      --paper-red-100: #ffcdd2;
      --paper-red-200: #ef9a9a;
      --paper-red-300: #e57373;
      --paper-red-400: #ef5350;
      --paper-red-500: #f44336;
      --paper-red-600: #e53935;
      --paper-red-700: #d32f2f;
      --paper-red-800: #c62828;
      --paper-red-900: #b71c1c;
      --paper-red-a100: #ff8a80;
      --paper-red-a200: #ff5252;
      --paper-red-a400: #ff1744;
      --paper-red-a700: #d50000;

      --paper-pink-50: #fce4ec;
      --paper-pink-100: #f8bbd0;
      --paper-pink-200: #f48fb1;
      --paper-pink-300: #f06292;
      --paper-pink-400: #ec407a;
      --paper-pink-500: #e91e63;
      --paper-pink-600: #d81b60;
      --paper-pink-700: #c2185b;
      --paper-pink-800: #ad1457;
      --paper-pink-900: #880e4f;
      --paper-pink-a100: #ff80ab;
      --paper-pink-a200: #ff4081;
      --paper-pink-a400: #f50057;
      --paper-pink-a700: #c51162;

      --paper-purple-50: #f3e5f5;
      --paper-purple-100: #e1bee7;
      --paper-purple-200: #ce93d8;
      --paper-purple-300: #ba68c8;
      --paper-purple-400: #ab47bc;
      --paper-purple-500: #9c27b0;
      --paper-purple-600: #8e24aa;
      --paper-purple-700: #7b1fa2;
      --paper-purple-800: #6a1b9a;
      --paper-purple-900: #4a148c;
      --paper-purple-a100: #ea80fc;
      --paper-purple-a200: #e040fb;
      --paper-purple-a400: #d500f9;
      --paper-purple-a700: #aa00ff;

      --paper-deep-purple-50: #ede7f6;
      --paper-deep-purple-100: #d1c4e9;
      --paper-deep-purple-200: #b39ddb;
      --paper-deep-purple-300: #9575cd;
      --paper-deep-purple-400: #7e57c2;
      --paper-deep-purple-500: #673ab7;
      --paper-deep-purple-600: #5e35b1;
      --paper-deep-purple-700: #512da8;
      --paper-deep-purple-800: #4527a0;
      --paper-deep-purple-900: #311b92;
      --paper-deep-purple-a100: #b388ff;
      --paper-deep-purple-a200: #7c4dff;
      --paper-deep-purple-a400: #651fff;
      --paper-deep-purple-a700: #6200ea;

      --paper-indigo-50: #e8eaf6;
      --paper-indigo-100: #c5cae9;
      --paper-indigo-200: #9fa8da;
      --paper-indigo-300: #7986cb;
      --paper-indigo-400: #5c6bc0;
      --paper-indigo-500: #3f51b5;
      --paper-indigo-600: #3949ab;
      --paper-indigo-700: #303f9f;
      --paper-indigo-800: #283593;
      --paper-indigo-900: #1a237e;
      --paper-indigo-a100: #8c9eff;
      --paper-indigo-a200: #536dfe;
      --paper-indigo-a400: #3d5afe;
      --paper-indigo-a700: #304ffe;

      --paper-blue-50: #e3f2fd;
      --paper-blue-100: #bbdefb;
      --paper-blue-200: #90caf9;
      --paper-blue-300: #64b5f6;
      --paper-blue-400: #42a5f5;
      --paper-blue-500: #2196f3;
      --paper-blue-600: #1e88e5;
      --paper-blue-700: #1976d2;
      --paper-blue-800: #1565c0;
      --paper-blue-900: #0d47a1;
      --paper-blue-a100: #82b1ff;
      --paper-blue-a200: #448aff;
      --paper-blue-a400: #2979ff;
      --paper-blue-a700: #2962ff;

      --paper-light-blue-50: #e1f5fe;
      --paper-light-blue-100: #b3e5fc;
      --paper-light-blue-200: #81d4fa;
      --paper-light-blue-300: #4fc3f7;
      --paper-light-blue-400: #29b6f6;
      --paper-light-blue-500: #03a9f4;
      --paper-light-blue-600: #039be5;
      --paper-light-blue-700: #0288d1;
      --paper-light-blue-800: #0277bd;
      --paper-light-blue-900: #01579b;
      --paper-light-blue-a100: #80d8ff;
      --paper-light-blue-a200: #40c4ff;
      --paper-light-blue-a400: #00b0ff;
      --paper-light-blue-a700: #0091ea;

      --paper-cyan-50: #e0f7fa;
      --paper-cyan-100: #b2ebf2;
      --paper-cyan-200: #80deea;
      --paper-cyan-300: #4dd0e1;
      --paper-cyan-400: #26c6da;
      --paper-cyan-500: #00bcd4;
      --paper-cyan-600: #00acc1;
      --paper-cyan-700: #0097a7;
      --paper-cyan-800: #00838f;
      --paper-cyan-900: #006064;
      --paper-cyan-a100: #84ffff;
      --paper-cyan-a200: #18ffff;
      --paper-cyan-a400: #00e5ff;
      --paper-cyan-a700: #00b8d4;

      --paper-teal-50: #e0f2f1;
      --paper-teal-100: #b2dfdb;
      --paper-teal-200: #80cbc4;
      --paper-teal-300: #4db6ac;
      --paper-teal-400: #26a69a;
      --paper-teal-500: #009688;
      --paper-teal-600: #00897b;
      --paper-teal-700: #00796b;
      --paper-teal-800: #00695c;
      --paper-teal-900: #004d40;
      --paper-teal-a100: #a7ffeb;
      --paper-teal-a200: #64ffda;
      --paper-teal-a400: #1de9b6;
      --paper-teal-a700: #00bfa5;

      --paper-green-50: #e8f5e9;
      --paper-green-100: #c8e6c9;
      --paper-green-200: #a5d6a7;
      --paper-green-300: #81c784;
      --paper-green-400: #66bb6a;
      --paper-green-500: #4caf50;
      --paper-green-600: #43a047;
      --paper-green-700: #388e3c;
      --paper-green-800: #2e7d32;
      --paper-green-900: #1b5e20;
      --paper-green-a100: #b9f6ca;
      --paper-green-a200: #69f0ae;
      --paper-green-a400: #00e676;
      --paper-green-a700: #00c853;

      --paper-light-green-50: #f1f8e9;
      --paper-light-green-100: #dcedc8;
      --paper-light-green-200: #c5e1a5;
      --paper-light-green-300: #aed581;
      --paper-light-green-400: #9ccc65;
      --paper-light-green-500: #8bc34a;
      --paper-light-green-600: #7cb342;
      --paper-light-green-700: #689f38;
      --paper-light-green-800: #558b2f;
      --paper-light-green-900: #33691e;
      --paper-light-green-a100: #ccff90;
      --paper-light-green-a200: #b2ff59;
      --paper-light-green-a400: #76ff03;
      --paper-light-green-a700: #64dd17;

      --paper-lime-50: #f9fbe7;
      --paper-lime-100: #f0f4c3;
      --paper-lime-200: #e6ee9c;
      --paper-lime-300: #dce775;
      --paper-lime-400: #d4e157;
      --paper-lime-500: #cddc39;
      --paper-lime-600: #c0ca33;
      --paper-lime-700: #afb42b;
      --paper-lime-800: #9e9d24;
      --paper-lime-900: #827717;
      --paper-lime-a100: #f4ff81;
      --paper-lime-a200: #eeff41;
      --paper-lime-a400: #c6ff00;
      --paper-lime-a700: #aeea00;

      --paper-yellow-50: #fffde7;
      --paper-yellow-100: #fff9c4;
      --paper-yellow-200: #fff59d;
      --paper-yellow-300: #fff176;
      --paper-yellow-400: #ffee58;
      --paper-yellow-500: #ffeb3b;
      --paper-yellow-600: #fdd835;
      --paper-yellow-700: #fbc02d;
      --paper-yellow-800: #f9a825;
      --paper-yellow-900: #f57f17;
      --paper-yellow-a100: #ffff8d;
      --paper-yellow-a200: #ffff00;
      --paper-yellow-a400: #ffea00;
      --paper-yellow-a700: #ffd600;

      --paper-amber-50: #fff8e1;
      --paper-amber-100: #ffecb3;
      --paper-amber-200: #ffe082;
      --paper-amber-300: #ffd54f;
      --paper-amber-400: #ffca28;
      --paper-amber-500: #ffc107;
      --paper-amber-600: #ffb300;
      --paper-amber-700: #ffa000;
      --paper-amber-800: #ff8f00;
      --paper-amber-900: #ff6f00;
      --paper-amber-a100: #ffe57f;
      --paper-amber-a200: #ffd740;
      --paper-amber-a400: #ffc400;
      --paper-amber-a700: #ffab00;

      --paper-orange-50: #fff3e0;
      --paper-orange-100: #ffe0b2;
      --paper-orange-200: #ffcc80;
      --paper-orange-300: #ffb74d;
      --paper-orange-400: #ffa726;
      --paper-orange-500: #ff9800;
      --paper-orange-600: #fb8c00;
      --paper-orange-700: #f57c00;
      --paper-orange-800: #ef6c00;
      --paper-orange-900: #e65100;
      --paper-orange-a100: #ffd180;
      --paper-orange-a200: #ffab40;
      --paper-orange-a400: #ff9100;
      --paper-orange-a700: #ff6500;

      --paper-deep-orange-50: #fbe9e7;
      --paper-deep-orange-100: #ffccbc;
      --paper-deep-orange-200: #ffab91;
      --paper-deep-orange-300: #ff8a65;
      --paper-deep-orange-400: #ff7043;
      --paper-deep-orange-500: #ff5722;
      --paper-deep-orange-600: #f4511e;
      --paper-deep-orange-700: #e64a19;
      --paper-deep-orange-800: #d84315;
      --paper-deep-orange-900: #bf360c;
      --paper-deep-orange-a100: #ff9e80;
      --paper-deep-orange-a200: #ff6e40;
      --paper-deep-orange-a400: #ff3d00;
      --paper-deep-orange-a700: #dd2c00;

      --paper-brown-50: #efebe9;
      --paper-brown-100: #d7ccc8;
      --paper-brown-200: #bcaaa4;
      --paper-brown-300: #a1887f;
      --paper-brown-400: #8d6e63;
      --paper-brown-500: #795548;
      --paper-brown-600: #6d4c41;
      --paper-brown-700: #5d4037;
      --paper-brown-800: #4e342e;
      --paper-brown-900: #3e2723;

      --paper-grey-50: #fafafa;
      --paper-grey-100: #f5f5f5;
      --paper-grey-200: #eeeeee;
      --paper-grey-300: #e0e0e0;
      --paper-grey-400: #bdbdbd;
      --paper-grey-500: #9e9e9e;
      --paper-grey-600: #757575;
      --paper-grey-700: #616161;
      --paper-grey-800: #424242;
      --paper-grey-900: #212121;

      --paper-blue-grey-50: #eceff1;
      --paper-blue-grey-100: #cfd8dc;
      --paper-blue-grey-200: #b0bec5;
      --paper-blue-grey-300: #90a4ae;
      --paper-blue-grey-400: #78909c;
      --paper-blue-grey-500: #607d8b;
      --paper-blue-grey-600: #546e7a;
      --paper-blue-grey-700: #455a64;
      --paper-blue-grey-800: #37474f;
      --paper-blue-grey-900: #263238;

      
      --dark-divider-opacity: 0.12;
      --dark-disabled-opacity: 0.38; 
      --dark-secondary-opacity: 0.54;
      --dark-primary-opacity: 0.87;

      
      --light-divider-opacity: 0.12;
      --light-disabled-opacity: 0.3; 
      --light-secondary-opacity: 0.7;
      --light-primary-opacity: 1.0;
}

</style>
</custom-style><custom-style>
  <style is="custom-style">html {
  --primary-text-color: var(--light-theme-text-color);
      --primary-background-color: var(--light-theme-background-color);
      --secondary-text-color: var(--light-theme-secondary-color);
      --disabled-text-color: var(--light-theme-disabled-color);
      --divider-color: var(--light-theme-divider-color);
      --error-color: var(--paper-deep-orange-a700);

      
      --primary-color: var(--paper-indigo-500);
      --light-primary-color: var(--paper-indigo-100);
      --dark-primary-color: var(--paper-indigo-700);

      --accent-color: var(--paper-pink-a200);
      --light-accent-color: var(--paper-pink-a100);
      --dark-accent-color: var(--paper-pink-a400);


      
      --light-theme-background-color: #ffffff;
      --light-theme-base-color: #000000;
      --light-theme-text-color: var(--paper-grey-900);
      --light-theme-secondary-color: #737373;  
      --light-theme-disabled-color: #9b9b9b;  
      --light-theme-divider-color: #dbdbdb;

      
      --dark-theme-background-color: var(--paper-grey-900);
      --dark-theme-base-color: #ffffff;
      --dark-theme-text-color: #ffffff;
      --dark-theme-secondary-color: #bcbcbc;  
      --dark-theme-disabled-color: #646464;  
      --dark-theme-divider-color: #3c3c3c;

      
      --text-primary-color: var(--dark-theme-text-color);
      --default-primary-color: var(--primary-color);
}

</style>
</custom-style><custom-style>
  <style is="custom-style">html {
  --shadow-transition_-_transition:  box-shadow 0.28s cubic-bezier(0.4, 0, 0.2, 1);;

      --shadow-none_-_box-shadow:  none;;

      

      --shadow-elevation-2dp_-_box-shadow:  0 2px 2px 0 rgba(0, 0, 0, 0.14),
                    0 1px 5px 0 rgba(0, 0, 0, 0.12),
                    0 3px 1px -2px rgba(0, 0, 0, 0.2);;

      --shadow-elevation-3dp_-_box-shadow:  0 3px 4px 0 rgba(0, 0, 0, 0.14),
                    0 1px 8px 0 rgba(0, 0, 0, 0.12),
                    0 3px 3px -2px rgba(0, 0, 0, 0.4);;

      --shadow-elevation-4dp_-_box-shadow:  0 4px 5px 0 rgba(0, 0, 0, 0.14),
                    0 1px 10px 0 rgba(0, 0, 0, 0.12),
                    0 2px 4px -1px rgba(0, 0, 0, 0.4);;

      --shadow-elevation-6dp_-_box-shadow:  0 6px 10px 0 rgba(0, 0, 0, 0.14),
                    0 1px 18px 0 rgba(0, 0, 0, 0.12),
                    0 3px 5px -1px rgba(0, 0, 0, 0.4);;

      --shadow-elevation-8dp_-_box-shadow:  0 8px 10px 1px rgba(0, 0, 0, 0.14),
                    0 3px 14px 2px rgba(0, 0, 0, 0.12),
                    0 5px 5px -3px rgba(0, 0, 0, 0.4);;

      --shadow-elevation-12dp_-_box-shadow:  0 12px 16px 1px rgba(0, 0, 0, 0.14),
                    0 4px 22px 3px rgba(0, 0, 0, 0.12),
                    0 6px 7px -4px rgba(0, 0, 0, 0.4);;

      --shadow-elevation-16dp_-_box-shadow:  0 16px 24px 2px rgba(0, 0, 0, 0.14),
                    0  6px 30px 5px rgba(0, 0, 0, 0.12),
                    0  8px 10px -5px rgba(0, 0, 0, 0.4);;

      --shadow-elevation-24dp_-_box-shadow:  0 24px 38px 3px rgba(0, 0, 0, 0.14),
                    0 9px 46px 8px rgba(0, 0, 0, 0.12),
                    0 11px 15px -7px rgba(0, 0, 0, 0.4);;
}

</style>
</custom-style><link rel="stylesheet" href="./Assignment_3_files/css(2)"><link rel="stylesheet" href="./Assignment_3_files/css(3)"><custom-style>
  <style is="custom-style">html {
  --paper-font-common-base_-_font-family:  'Roboto', 'Noto', sans-serif; --paper-font-common-base_-_-webkit-font-smoothing:  antialiased;;

      --paper-font-common-code_-_font-family:  'Roboto Mono', 'Consolas', 'Menlo', monospace; --paper-font-common-code_-_-webkit-font-smoothing:  antialiased;;

      --paper-font-common-expensive-kerning_-_text-rendering:  optimizeLegibility;;

      --paper-font-common-nowrap_-_white-space:  nowrap; --paper-font-common-nowrap_-_overflow:  hidden; --paper-font-common-nowrap_-_text-overflow:  ellipsis;;

      

      --paper-font-display4_-_font-family:  var(--paper-font-common-base_-_font-family); --paper-font-display4_-_-webkit-font-smoothing:  var(--paper-font-common-base_-_-webkit-font-smoothing); --paper-font-display4_-_white-space:  var(--paper-font-common-nowrap_-_white-space); --paper-font-display4_-_overflow:  var(--paper-font-common-nowrap_-_overflow); --paper-font-display4_-_text-overflow:  var(--paper-font-common-nowrap_-_text-overflow); --paper-font-display4_-_font-size:  112px; --paper-font-display4_-_font-weight:  300; --paper-font-display4_-_letter-spacing:  -.044em; --paper-font-display4_-_line-height:  120px;;

      --paper-font-display3_-_font-family:  var(--paper-font-common-base_-_font-family); --paper-font-display3_-_-webkit-font-smoothing:  var(--paper-font-common-base_-_-webkit-font-smoothing); --paper-font-display3_-_white-space:  var(--paper-font-common-nowrap_-_white-space); --paper-font-display3_-_overflow:  var(--paper-font-common-nowrap_-_overflow); --paper-font-display3_-_text-overflow:  var(--paper-font-common-nowrap_-_text-overflow); --paper-font-display3_-_font-size:  56px; --paper-font-display3_-_font-weight:  400; --paper-font-display3_-_letter-spacing:  -.026em; --paper-font-display3_-_line-height:  60px;;

      --paper-font-display2_-_font-family:  var(--paper-font-common-base_-_font-family); --paper-font-display2_-_-webkit-font-smoothing:  var(--paper-font-common-base_-_-webkit-font-smoothing); --paper-font-display2_-_font-size:  45px; --paper-font-display2_-_font-weight:  400; --paper-font-display2_-_letter-spacing:  -.018em; --paper-font-display2_-_line-height:  48px;;

      --paper-font-display1_-_font-family:  var(--paper-font-common-base_-_font-family); --paper-font-display1_-_-webkit-font-smoothing:  var(--paper-font-common-base_-_-webkit-font-smoothing); --paper-font-display1_-_font-size:  34px; --paper-font-display1_-_font-weight:  400; --paper-font-display1_-_letter-spacing:  -.01em; --paper-font-display1_-_line-height:  40px;;

      --paper-font-headline_-_font-family:  var(--paper-font-common-base_-_font-family); --paper-font-headline_-_-webkit-font-smoothing:  var(--paper-font-common-base_-_-webkit-font-smoothing); --paper-font-headline_-_font-size:  24px; --paper-font-headline_-_font-weight:  400; --paper-font-headline_-_letter-spacing:  -.012em; --paper-font-headline_-_line-height:  32px;;

      --paper-font-title_-_font-family:  var(--paper-font-common-base_-_font-family); --paper-font-title_-_-webkit-font-smoothing:  var(--paper-font-common-base_-_-webkit-font-smoothing); --paper-font-title_-_white-space:  var(--paper-font-common-nowrap_-_white-space); --paper-font-title_-_overflow:  var(--paper-font-common-nowrap_-_overflow); --paper-font-title_-_text-overflow:  var(--paper-font-common-nowrap_-_text-overflow); --paper-font-title_-_font-size:  20px; --paper-font-title_-_font-weight:  500; --paper-font-title_-_line-height:  28px;;

      --paper-font-subhead_-_font-family:  var(--paper-font-common-base_-_font-family); --paper-font-subhead_-_-webkit-font-smoothing:  var(--paper-font-common-base_-_-webkit-font-smoothing); --paper-font-subhead_-_font-size:  16px; --paper-font-subhead_-_font-weight:  400; --paper-font-subhead_-_line-height:  24px;;

      --paper-font-body2_-_font-family:  var(--paper-font-common-base_-_font-family); --paper-font-body2_-_-webkit-font-smoothing:  var(--paper-font-common-base_-_-webkit-font-smoothing); --paper-font-body2_-_font-size:  14px; --paper-font-body2_-_font-weight:  500; --paper-font-body2_-_line-height:  24px;;

      --paper-font-body1_-_font-family:  var(--paper-font-common-base_-_font-family); --paper-font-body1_-_-webkit-font-smoothing:  var(--paper-font-common-base_-_-webkit-font-smoothing); --paper-font-body1_-_font-size:  14px; --paper-font-body1_-_font-weight:  400; --paper-font-body1_-_line-height:  20px;;

      --paper-font-caption_-_font-family:  var(--paper-font-common-base_-_font-family); --paper-font-caption_-_-webkit-font-smoothing:  var(--paper-font-common-base_-_-webkit-font-smoothing); --paper-font-caption_-_white-space:  var(--paper-font-common-nowrap_-_white-space); --paper-font-caption_-_overflow:  var(--paper-font-common-nowrap_-_overflow); --paper-font-caption_-_text-overflow:  var(--paper-font-common-nowrap_-_text-overflow); --paper-font-caption_-_font-size:  12px; --paper-font-caption_-_font-weight:  400; --paper-font-caption_-_letter-spacing:  0.011em; --paper-font-caption_-_line-height:  20px;;

      --paper-font-menu_-_font-family:  var(--paper-font-common-base_-_font-family); --paper-font-menu_-_-webkit-font-smoothing:  var(--paper-font-common-base_-_-webkit-font-smoothing); --paper-font-menu_-_white-space:  var(--paper-font-common-nowrap_-_white-space); --paper-font-menu_-_overflow:  var(--paper-font-common-nowrap_-_overflow); --paper-font-menu_-_text-overflow:  var(--paper-font-common-nowrap_-_text-overflow); --paper-font-menu_-_font-size:  13px; --paper-font-menu_-_font-weight:  500; --paper-font-menu_-_line-height:  24px;;

      --paper-font-button_-_font-family:  var(--paper-font-common-base_-_font-family); --paper-font-button_-_-webkit-font-smoothing:  var(--paper-font-common-base_-_-webkit-font-smoothing); --paper-font-button_-_white-space:  var(--paper-font-common-nowrap_-_white-space); --paper-font-button_-_overflow:  var(--paper-font-common-nowrap_-_overflow); --paper-font-button_-_text-overflow:  var(--paper-font-common-nowrap_-_text-overflow); --paper-font-button_-_font-size:  14px; --paper-font-button_-_font-weight:  500; --paper-font-button_-_letter-spacing:  0.018em; --paper-font-button_-_line-height:  24px; --paper-font-button_-_text-transform:  uppercase;;

      --paper-font-code2_-_font-family:  var(--paper-font-common-code_-_font-family); --paper-font-code2_-_-webkit-font-smoothing:  var(--paper-font-common-code_-_-webkit-font-smoothing); --paper-font-code2_-_font-size:  14px; --paper-font-code2_-_font-weight:  700; --paper-font-code2_-_line-height:  20px;;

      --paper-font-code1_-_font-family:  var(--paper-font-common-code_-_font-family); --paper-font-code1_-_-webkit-font-smoothing:  var(--paper-font-common-code_-_-webkit-font-smoothing); --paper-font-code1_-_font-size:  14px; --paper-font-code1_-_font-weight:  500; --paper-font-code1_-_line-height:  20px;;
}

</style>
</custom-style><dom-module id="paper-dialog-shared-styles">
  <template></template>
</dom-module><iron-iconset-svg name="icons" size="24" style="display: none;">
<svg><defs>
<g id="3d-rotation"><path d="M7.52 21.48C4.25 19.94 1.91 16.76 1.55 13H.05C.56 19.16 5.71 24 12 24l.66-.03-3.81-3.81-1.33 1.32zm.89-6.52c-.19 0-.37-.03-.52-.08-.16-.06-.29-.13-.4-.24-.11-.1-.2-.22-.26-.37-.06-.14-.09-.3-.09-.47h-1.3c0 .36.07.68.21.95.14.27.33.5.56.69.24.18.51.32.82.41.3.1.62.15.96.15.37 0 .72-.05 1.03-.15.32-.1.6-.25.83-.44s.42-.43.55-.72c.13-.29.2-.61.2-.97 0-.19-.02-.38-.07-.56-.05-.18-.12-.35-.23-.51-.1-.16-.24-.3-.4-.43-.17-.13-.37-.23-.61-.31.2-.09.37-.2.52-.33.15-.13.27-.27.37-.42.1-.15.17-.3.22-.46.05-.16.07-.32.07-.48 0-.36-.06-.68-.18-.96-.12-.28-.29-.51-.51-.69-.2-.19-.47-.33-.77-.43C9.1 8.05 8.76 8 8.39 8c-.36 0-.69.05-1 .16-.3.11-.57.26-.79.45-.21.19-.38.41-.51.67-.12.26-.18.54-.18.85h1.3c0-.17.03-.32.09-.45s.14-.25.25-.34c.11-.09.23-.17.38-.22.15-.05.3-.08.48-.08.4 0 .7.1.89.31.19.2.29.49.29.86 0 .18-.03.34-.08.49-.05.15-.14.27-.25.37-.11.1-.25.18-.41.24-.16.06-.36.09-.58.09H7.5v1.03h.77c.22 0 .42.02.6.07s.33.13.45.23c.12.11.22.24.29.4.07.16.1.35.1.57 0 .41-.12.72-.35.93-.23.23-.55.33-.95.33zm8.55-5.92c-.32-.33-.7-.59-1.14-.77-.43-.18-.92-.27-1.46-.27H12v8h2.3c.55 0 1.06-.09 1.51-.27.45-.18.84-.43 1.16-.76.32-.33.57-.73.74-1.19.17-.47.26-.99.26-1.57v-.4c0-.58-.09-1.1-.26-1.57-.18-.47-.43-.87-.75-1.2zm-.39 3.16c0 .42-.05.79-.14 1.13-.1.33-.24.62-.43.85-.19.23-.43.41-.71.53-.29.12-.62.18-.99.18h-.91V9.12h.97c.72 0 1.27.23 1.64.69.38.46.57 1.12.57 1.99v.4zM12 0l-.66.03 3.81 3.81 1.33-1.33c3.27 1.55 5.61 4.72 5.96 8.48h1.5C23.44 4.84 18.29 0 12 0z"></path></g>
<g id="accessibility"><path d="M12 2c1.1 0 2 .9 2 2s-.9 2-2 2-2-.9-2-2 .9-2 2-2zm9 7h-6v13h-2v-6h-2v6H9V9H3V7h18v2z"></path></g>
<g id="accessible"><circle cx="12" cy="4" r="2"></circle><path d="M19 13v-2c-1.54.02-3.09-.75-4.07-1.83l-1.29-1.43c-.17-.19-.38-.34-.61-.45-.01 0-.01-.01-.02-.01H13c-.35-.2-.75-.3-1.19-.26C10.76 7.11 10 8.04 10 9.09V15c0 1.1.9 2 2 2h5v5h2v-5.5c0-1.1-.9-2-2-2h-3v-3.45c1.29 1.07 3.25 1.94 5 1.95zm-6.17 5c-.41 1.16-1.52 2-2.83 2-1.66 0-3-1.34-3-3 0-1.31.84-2.41 2-2.83V12.1c-2.28.46-4 2.48-4 4.9 0 2.76 2.24 5 5 5 2.42 0 4.44-1.72 4.9-4h-2.07z"></path></g>
<g id="account-balance"><path d="M4 10v7h3v-7H4zm6 0v7h3v-7h-3zM2 22h19v-3H2v3zm14-12v7h3v-7h-3zm-4.5-9L2 6v2h19V6l-9.5-5z"></path></g>
<g id="account-balance-wallet"><path d="M21 18v1c0 1.1-.9 2-2 2H5c-1.11 0-2-.9-2-2V5c0-1.1.89-2 2-2h14c1.1 0 2 .9 2 2v1h-9c-1.11 0-2 .9-2 2v8c0 1.1.89 2 2 2h9zm-9-2h10V8H12v8zm4-2.5c-.83 0-1.5-.67-1.5-1.5s.67-1.5 1.5-1.5 1.5.67 1.5 1.5-.67 1.5-1.5 1.5z"></path></g>
<g id="account-box"><path d="M3 5v14c0 1.1.89 2 2 2h14c1.1 0 2-.9 2-2V5c0-1.1-.9-2-2-2H5c-1.11 0-2 .9-2 2zm12 4c0 1.66-1.34 3-3 3s-3-1.34-3-3 1.34-3 3-3 3 1.34 3 3zm-9 8c0-2 4-3.1 6-3.1s6 1.1 6 3.1v1H6v-1z"></path></g>
<g id="account-circle"><path d="M12 2C6.48 2 2 6.48 2 12s4.48 10 10 10 10-4.48 10-10S17.52 2 12 2zm0 3c1.66 0 3 1.34 3 3s-1.34 3-3 3-3-1.34-3-3 1.34-3 3-3zm0 14.2c-2.5 0-4.71-1.28-6-3.22.03-1.99 4-3.08 6-3.08 1.99 0 5.97 1.09 6 3.08-1.29 1.94-3.5 3.22-6 3.22z"></path></g>
<g id="add"><path d="M19 13h-6v6h-2v-6H5v-2h6V5h2v6h6v2z"></path></g>
<g id="add-alert"><path d="M10.01 21.01c0 1.1.89 1.99 1.99 1.99s1.99-.89 1.99-1.99h-3.98zm8.87-4.19V11c0-3.25-2.25-5.97-5.29-6.69v-.72C13.59 2.71 12.88 2 12 2s-1.59.71-1.59 1.59v.72C7.37 5.03 5.12 7.75 5.12 11v5.82L3 18.94V20h18v-1.06l-2.12-2.12zM16 13.01h-3v3h-2v-3H8V11h3V8h2v3h3v2.01z"></path></g>
<g id="add-box"><path d="M19 3H5c-1.11 0-2 .9-2 2v14c0 1.1.89 2 2 2h14c1.1 0 2-.9 2-2V5c0-1.1-.9-2-2-2zm-2 10h-4v4h-2v-4H7v-2h4V7h2v4h4v2z"></path></g>
<g id="add-circle"><path d="M12 2C6.48 2 2 6.48 2 12s4.48 10 10 10 10-4.48 10-10S17.52 2 12 2zm5 11h-4v4h-2v-4H7v-2h4V7h2v4h4v2z"></path></g>
<g id="add-circle-outline"><path d="M13 7h-2v4H7v2h4v4h2v-4h4v-2h-4V7zm-1-5C6.48 2 2 6.48 2 12s4.48 10 10 10 10-4.48 10-10S17.52 2 12 2zm0 18c-4.41 0-8-3.59-8-8s3.59-8 8-8 8 3.59 8 8-3.59 8-8 8z"></path></g>
<g id="add-shopping-cart"><path d="M11 9h2V6h3V4h-3V1h-2v3H8v2h3v3zm-4 9c-1.1 0-1.99.9-1.99 2S5.9 22 7 22s2-.9 2-2-.9-2-2-2zm10 0c-1.1 0-1.99.9-1.99 2s.89 2 1.99 2 2-.9 2-2-.9-2-2-2zm-9.83-3.25l.03-.12.9-1.63h7.45c.75 0 1.41-.41 1.75-1.03l3.86-7.01L19.42 4h-.01l-1.1 2-2.76 5H8.53l-.13-.27L6.16 6l-.95-2-.94-2H1v2h2l3.6 7.59-1.35 2.45c-.16.28-.25.61-.25.96 0 1.1.9 2 2 2h12v-2H7.42c-.13 0-.25-.11-.25-.25z"></path></g>
<g id="alarm"><path d="M22 5.72l-4.6-3.86-1.29 1.53 4.6 3.86L22 5.72zM7.88 3.39L6.6 1.86 2 5.71l1.29 1.53 4.59-3.85zM12.5 8H11v6l4.75 2.85.75-1.23-4-2.37V8zM12 4c-4.97 0-9 4.03-9 9s4.02 9 9 9c4.97 0 9-4.03 9-9s-4.03-9-9-9zm0 16c-3.87 0-7-3.13-7-7s3.13-7 7-7 7 3.13 7 7-3.13 7-7 7z"></path></g>
<g id="alarm-add"><path d="M7.88 3.39L6.6 1.86 2 5.71l1.29 1.53 4.59-3.85zM22 5.72l-4.6-3.86-1.29 1.53 4.6 3.86L22 5.72zM12 4c-4.97 0-9 4.03-9 9s4.02 9 9 9c4.97 0 9-4.03 9-9s-4.03-9-9-9zm0 16c-3.87 0-7-3.13-7-7s3.13-7 7-7 7 3.13 7 7-3.13 7-7 7zm1-11h-2v3H8v2h3v3h2v-3h3v-2h-3V9z"></path></g>
<g id="alarm-off"><path d="M12 6c3.87 0 7 3.13 7 7 0 .84-.16 1.65-.43 2.4l1.52 1.52c.58-1.19.91-2.51.91-3.92 0-4.97-4.03-9-9-9-1.41 0-2.73.33-3.92.91L9.6 6.43C10.35 6.16 11.16 6 12 6zm10-.28l-4.6-3.86-1.29 1.53 4.6 3.86L22 5.72zM2.92 2.29L1.65 3.57 2.98 4.9l-1.11.93 1.42 1.42 1.11-.94.8.8C3.83 8.69 3 10.75 3 13c0 4.97 4.02 9 9 9 2.25 0 4.31-.83 5.89-2.2l2.2 2.2 1.27-1.27L3.89 3.27l-.97-.98zm13.55 16.1C15.26 19.39 13.7 20 12 20c-3.87 0-7-3.13-7-7 0-1.7.61-3.26 1.61-4.47l9.86 9.86zM8.02 3.28L6.6 1.86l-.86.71 1.42 1.42.86-.71z"></path></g>
<g id="alarm-on"><path d="M22 5.72l-4.6-3.86-1.29 1.53 4.6 3.86L22 5.72zM7.88 3.39L6.6 1.86 2 5.71l1.29 1.53 4.59-3.85zM12 4c-4.97 0-9 4.03-9 9s4.02 9 9 9c4.97 0 9-4.03 9-9s-4.03-9-9-9zm0 16c-3.87 0-7-3.13-7-7s3.13-7 7-7 7 3.13 7 7-3.13 7-7 7zm-1.46-5.47L8.41 12.4l-1.06 1.06 3.18 3.18 6-6-1.06-1.06-4.93 4.95z"></path></g>
<g id="all-out"><path d="M16.21 4.16l4 4v-4zm4 12l-4 4h4zm-12 4l-4-4v4zm-4-12l4-4h-4zm12.95-.95c-2.73-2.73-7.17-2.73-9.9 0s-2.73 7.17 0 9.9 7.17 2.73 9.9 0 2.73-7.16 0-9.9zm-1.1 8.8c-2.13 2.13-5.57 2.13-7.7 0s-2.13-5.57 0-7.7 5.57-2.13 7.7 0 2.13 5.57 0 7.7z"></path></g>
<g id="android"><path d="M6 18c0 .55.45 1 1 1h1v3.5c0 .83.67 1.5 1.5 1.5s1.5-.67 1.5-1.5V19h2v3.5c0 .83.67 1.5 1.5 1.5s1.5-.67 1.5-1.5V19h1c.55 0 1-.45 1-1V8H6v10zM3.5 8C2.67 8 2 8.67 2 9.5v7c0 .83.67 1.5 1.5 1.5S5 17.33 5 16.5v-7C5 8.67 4.33 8 3.5 8zm17 0c-.83 0-1.5.67-1.5 1.5v7c0 .83.67 1.5 1.5 1.5s1.5-.67 1.5-1.5v-7c0-.83-.67-1.5-1.5-1.5zm-4.97-5.84l1.3-1.3c.2-.2.2-.51 0-.71-.2-.2-.51-.2-.71 0l-1.48 1.48C13.85 1.23 12.95 1 12 1c-.96 0-1.86.23-2.66.63L7.85.15c-.2-.2-.51-.2-.71 0-.2.2-.2.51 0 .71l1.31 1.31C6.97 3.26 6 5.01 6 7h12c0-1.99-.97-3.75-2.47-4.84zM10 5H9V4h1v1zm5 0h-1V4h1v1z"></path></g>
<g id="announcement"><path d="M20 2H4c-1.1 0-1.99.9-1.99 2L2 22l4-4h14c1.1 0 2-.9 2-2V4c0-1.1-.9-2-2-2zm-7 9h-2V5h2v6zm0 4h-2v-2h2v2z"></path></g>
<g id="apps"><path d="M4 8h4V4H4v4zm6 12h4v-4h-4v4zm-6 0h4v-4H4v4zm0-6h4v-4H4v4zm6 0h4v-4h-4v4zm6-10v4h4V4h-4zm-6 4h4V4h-4v4zm6 6h4v-4h-4v4zm0 6h4v-4h-4v4z"></path></g>
<g id="archive"><path d="M20.54 5.23l-1.39-1.68C18.88 3.21 18.47 3 18 3H6c-.47 0-.88.21-1.16.55L3.46 5.23C3.17 5.57 3 6.02 3 6.5V19c0 1.1.9 2 2 2h14c1.1 0 2-.9 2-2V6.5c0-.48-.17-.93-.46-1.27zM12 17.5L6.5 12H10v-2h4v2h3.5L12 17.5zM5.12 5l.81-1h12l.94 1H5.12z"></path></g>
<g id="arrow-back"><path d="M20 11H7.83l5.59-5.59L12 4l-8 8 8 8 1.41-1.41L7.83 13H20v-2z"></path></g>
<g id="arrow-downward"><path d="M20 12l-1.41-1.41L13 16.17V4h-2v12.17l-5.58-5.59L4 12l8 8 8-8z"></path></g>
<g id="arrow-drop-down"><path d="M7 10l5 5 5-5z"></path></g>
<g id="arrow-drop-down-circle"><path d="M12 2C6.48 2 2 6.48 2 12s4.48 10 10 10 10-4.48 10-10S17.52 2 12 2zm0 12l-4-4h8l-4 4z"></path></g>
<g id="arrow-drop-up"><path d="M7 14l5-5 5 5z"></path></g>
<g id="arrow-forward"><path d="M12 4l-1.41 1.41L16.17 11H4v2h12.17l-5.58 5.59L12 20l8-8z"></path></g>
<g id="arrow-upward"><path d="M4 12l1.41 1.41L11 7.83V20h2V7.83l5.58 5.59L20 12l-8-8-8 8z"></path></g>
<g id="aspect-ratio"><path d="M19 12h-2v3h-3v2h5v-5zM7 9h3V7H5v5h2V9zm14-6H3c-1.1 0-2 .9-2 2v14c0 1.1.9 2 2 2h18c1.1 0 2-.9 2-2V5c0-1.1-.9-2-2-2zm0 16.01H3V4.99h18v14.02z"></path></g>
<g id="assessment"><path d="M19 3H5c-1.1 0-2 .9-2 2v14c0 1.1.9 2 2 2h14c1.1 0 2-.9 2-2V5c0-1.1-.9-2-2-2zM9 17H7v-7h2v7zm4 0h-2V7h2v10zm4 0h-2v-4h2v4z"></path></g>
<g id="assignment"><path d="M19 3h-4.18C14.4 1.84 13.3 1 12 1c-1.3 0-2.4.84-2.82 2H5c-1.1 0-2 .9-2 2v14c0 1.1.9 2 2 2h14c1.1 0 2-.9 2-2V5c0-1.1-.9-2-2-2zm-7 0c.55 0 1 .45 1 1s-.45 1-1 1-1-.45-1-1 .45-1 1-1zm2 14H7v-2h7v2zm3-4H7v-2h10v2zm0-4H7V7h10v2z"></path></g>
<g id="assignment-ind"><path d="M19 3h-4.18C14.4 1.84 13.3 1 12 1c-1.3 0-2.4.84-2.82 2H5c-1.1 0-2 .9-2 2v14c0 1.1.9 2 2 2h14c1.1 0 2-.9 2-2V5c0-1.1-.9-2-2-2zm-7 0c.55 0 1 .45 1 1s-.45 1-1 1-1-.45-1-1 .45-1 1-1zm0 4c1.66 0 3 1.34 3 3s-1.34 3-3 3-3-1.34-3-3 1.34-3 3-3zm6 12H6v-1.4c0-2 4-3.1 6-3.1s6 1.1 6 3.1V19z"></path></g>
<g id="assignment-late"><path d="M19 3h-4.18C14.4 1.84 13.3 1 12 1c-1.3 0-2.4.84-2.82 2H5c-1.1 0-2 .9-2 2v14c0 1.1.9 2 2 2h14c1.1 0 2-.9 2-2V5c0-1.1-.9-2-2-2zm-6 15h-2v-2h2v2zm0-4h-2V8h2v6zm-1-9c-.55 0-1-.45-1-1s.45-1 1-1 1 .45 1 1-.45 1-1 1z"></path></g>
<g id="assignment-return"><path d="M19 3h-4.18C14.4 1.84 13.3 1 12 1c-1.3 0-2.4.84-2.82 2H5c-1.1 0-2 .9-2 2v14c0 1.1.9 2 2 2h14c1.1 0 2-.9 2-2V5c0-1.1-.9-2-2-2zm-7 0c.55 0 1 .45 1 1s-.45 1-1 1-1-.45-1-1 .45-1 1-1zm4 12h-4v3l-5-5 5-5v3h4v4z"></path></g>
<g id="assignment-returned"><path d="M19 3h-4.18C14.4 1.84 13.3 1 12 1c-1.3 0-2.4.84-2.82 2H5c-1.1 0-2 .9-2 2v14c0 1.1.9 2 2 2h14c1.1 0 2-.9 2-2V5c0-1.1-.9-2-2-2zm-7 0c.55 0 1 .45 1 1s-.45 1-1 1-1-.45-1-1 .45-1 1-1zm0 15l-5-5h3V9h4v4h3l-5 5z"></path></g>
<g id="assignment-turned-in"><path d="M19 3h-4.18C14.4 1.84 13.3 1 12 1c-1.3 0-2.4.84-2.82 2H5c-1.1 0-2 .9-2 2v14c0 1.1.9 2 2 2h14c1.1 0 2-.9 2-2V5c0-1.1-.9-2-2-2zm-7 0c.55 0 1 .45 1 1s-.45 1-1 1-1-.45-1-1 .45-1 1-1zm-2 14l-4-4 1.41-1.41L10 14.17l6.59-6.59L18 9l-8 8z"></path></g>
<g id="attachment"><path d="M2 12.5C2 9.46 4.46 7 7.5 7H18c2.21 0 4 1.79 4 4s-1.79 4-4 4H9.5C8.12 15 7 13.88 7 12.5S8.12 10 9.5 10H17v2H9.41c-.55 0-.55 1 0 1H18c1.1 0 2-.9 2-2s-.9-2-2-2H7.5C5.57 9 4 10.57 4 12.5S5.57 16 7.5 16H17v2H7.5C4.46 18 2 15.54 2 12.5z"></path></g>
<g id="autorenew"><path d="M12 6v3l4-4-4-4v3c-4.42 0-8 3.58-8 8 0 1.57.46 3.03 1.24 4.26L6.7 14.8c-.45-.83-.7-1.79-.7-2.8 0-3.31 2.69-6 6-6zm6.76 1.74L17.3 9.2c.44.84.7 1.79.7 2.8 0 3.31-2.69 6-6 6v-3l-4 4 4 4v-3c4.42 0 8-3.58 8-8 0-1.57-.46-3.03-1.24-4.26z"></path></g>
<g id="backspace"><path d="M22 3H7c-.69 0-1.23.35-1.59.88L0 12l5.41 8.11c.36.53.9.89 1.59.89h15c1.1 0 2-.9 2-2V5c0-1.1-.9-2-2-2zm-3 12.59L17.59 17 14 13.41 10.41 17 9 15.59 12.59 12 9 8.41 10.41 7 14 10.59 17.59 7 19 8.41 15.41 12 19 15.59z"></path></g>
<g id="backup"><path d="M19.35 10.04C18.67 6.59 15.64 4 12 4 9.11 4 6.6 5.64 5.35 8.04 2.34 8.36 0 10.91 0 14c0 3.31 2.69 6 6 6h13c2.76 0 5-2.24 5-5 0-2.64-2.05-4.78-4.65-4.96zM14 13v4h-4v-4H7l5-5 5 5h-3z"></path></g>
<g id="block"><path d="M12 2C6.48 2 2 6.48 2 12s4.48 10 10 10 10-4.48 10-10S17.52 2 12 2zM4 12c0-4.42 3.58-8 8-8 1.85 0 3.55.63 4.9 1.69L5.69 16.9C4.63 15.55 4 13.85 4 12zm8 8c-1.85 0-3.55-.63-4.9-1.69L18.31 7.1C19.37 8.45 20 10.15 20 12c0 4.42-3.58 8-8 8z"></path></g>
<g id="book"><path d="M18 2H6c-1.1 0-2 .9-2 2v16c0 1.1.9 2 2 2h12c1.1 0 2-.9 2-2V4c0-1.1-.9-2-2-2zM6 4h5v8l-2.5-1.5L6 12V4z"></path></g>
<g id="bookmark"><path d="M17 3H7c-1.1 0-1.99.9-1.99 2L5 21l7-3 7 3V5c0-1.1-.9-2-2-2z"></path></g>
<g id="bookmark-border"><path d="M17 3H7c-1.1 0-1.99.9-1.99 2L5 21l7-3 7 3V5c0-1.1-.9-2-2-2zm0 15l-5-2.18L7 18V5h10v13z"></path></g>
<g id="bug-report"><path d="M20 8h-2.81c-.45-.78-1.07-1.45-1.82-1.96L17 4.41 15.59 3l-2.17 2.17C12.96 5.06 12.49 5 12 5c-.49 0-.96.06-1.41.17L8.41 3 7 4.41l1.62 1.63C7.88 6.55 7.26 7.22 6.81 8H4v2h2.09c-.05.33-.09.66-.09 1v1H4v2h2v1c0 .34.04.67.09 1H4v2h2.81c1.04 1.79 2.97 3 5.19 3s4.15-1.21 5.19-3H20v-2h-2.09c.05-.33.09-.66.09-1v-1h2v-2h-2v-1c0-.34-.04-.67-.09-1H20V8zm-6 8h-4v-2h4v2zm0-4h-4v-2h4v2z"></path></g>
<g id="build"><path d="M22.7 19l-9.1-9.1c.9-2.3.4-5-1.5-6.9-2-2-5-2.4-7.4-1.3L9 6 6 9 1.6 4.7C.4 7.1.9 10.1 2.9 12.1c1.9 1.9 4.6 2.4 6.9 1.5l9.1 9.1c.4.4 1 .4 1.4 0l2.3-2.3c.5-.4.5-1.1.1-1.4z"></path></g>
<g id="cached"><path d="M19 8l-4 4h3c0 3.31-2.69 6-6 6-1.01 0-1.97-.25-2.8-.7l-1.46 1.46C8.97 19.54 10.43 20 12 20c4.42 0 8-3.58 8-8h3l-4-4zM6 12c0-3.31 2.69-6 6-6 1.01 0 1.97.25 2.8.7l1.46-1.46C15.03 4.46 13.57 4 12 4c-4.42 0-8 3.58-8 8H1l4 4 4-4H6z"></path></g>
<g id="camera-enhance"><path d="M9 3L7.17 5H4c-1.1 0-2 .9-2 2v12c0 1.1.9 2 2 2h16c1.1 0 2-.9 2-2V7c0-1.1-.9-2-2-2h-3.17L15 3H9zm3 15c-2.76 0-5-2.24-5-5s2.24-5 5-5 5 2.24 5 5-2.24 5-5 5zm0-1l1.25-2.75L16 13l-2.75-1.25L12 9l-1.25 2.75L8 13l2.75 1.25z"></path></g>
<g id="cancel"><path d="M12 2C6.47 2 2 6.47 2 12s4.47 10 10 10 10-4.47 10-10S17.53 2 12 2zm5 13.59L15.59 17 12 13.41 8.41 17 7 15.59 10.59 12 7 8.41 8.41 7 12 10.59 15.59 7 17 8.41 13.41 12 17 15.59z"></path></g>
<g id="card-giftcard"><path d="M20 6h-2.18c.11-.31.18-.65.18-1 0-1.66-1.34-3-3-3-1.05 0-1.96.54-2.5 1.35l-.5.67-.5-.68C10.96 2.54 10.05 2 9 2 7.34 2 6 3.34 6 5c0 .35.07.69.18 1H4c-1.11 0-1.99.89-1.99 2L2 19c0 1.11.89 2 2 2h16c1.11 0 2-.89 2-2V8c0-1.11-.89-2-2-2zm-5-2c.55 0 1 .45 1 1s-.45 1-1 1-1-.45-1-1 .45-1 1-1zM9 4c.55 0 1 .45 1 1s-.45 1-1 1-1-.45-1-1 .45-1 1-1zm11 15H4v-2h16v2zm0-5H4V8h5.08L7 10.83 8.62 12 11 8.76l1-1.36 1 1.36L15.38 12 17 10.83 14.92 8H20v6z"></path></g>
<g id="card-membership"><path d="M20 2H4c-1.11 0-2 .89-2 2v11c0 1.11.89 2 2 2h4v5l4-2 4 2v-5h4c1.11 0 2-.89 2-2V4c0-1.11-.89-2-2-2zm0 13H4v-2h16v2zm0-5H4V4h16v6z"></path></g>
<g id="card-travel"><path d="M20 6h-3V4c0-1.11-.89-2-2-2H9c-1.11 0-2 .89-2 2v2H4c-1.11 0-2 .89-2 2v11c0 1.11.89 2 2 2h16c1.11 0 2-.89 2-2V8c0-1.11-.89-2-2-2zM9 4h6v2H9V4zm11 15H4v-2h16v2zm0-5H4V8h3v2h2V8h6v2h2V8h3v6z"></path></g>
<g id="change-history"><path d="M12 7.77L18.39 18H5.61L12 7.77M12 4L2 20h20L12 4z"></path></g>
<g id="check"><path d="M9 16.17L4.83 12l-1.42 1.41L9 19 21 7l-1.41-1.41z"></path></g>
<g id="check-box"><path d="M19 3H5c-1.11 0-2 .9-2 2v14c0 1.1.89 2 2 2h14c1.11 0 2-.9 2-2V5c0-1.1-.89-2-2-2zm-9 14l-5-5 1.41-1.41L10 14.17l7.59-7.59L19 8l-9 9z"></path></g>
<g id="check-box-outline-blank"><path d="M19 5v14H5V5h14m0-2H5c-1.1 0-2 .9-2 2v14c0 1.1.9 2 2 2h14c1.1 0 2-.9 2-2V5c0-1.1-.9-2-2-2z"></path></g>
<g id="check-circle"><path d="M12 2C6.48 2 2 6.48 2 12s4.48 10 10 10 10-4.48 10-10S17.52 2 12 2zm-2 15l-5-5 1.41-1.41L10 14.17l7.59-7.59L19 8l-9 9z"></path></g>
<g id="chevron-left"><path d="M15.41 7.41L14 6l-6 6 6 6 1.41-1.41L10.83 12z"></path></g>
<g id="chevron-right"><path d="M10 6L8.59 7.41 13.17 12l-4.58 4.59L10 18l6-6z"></path></g>
<g id="chrome-reader-mode"><path d="M13 12h7v1.5h-7zm0-2.5h7V11h-7zm0 5h7V16h-7zM21 4H3c-1.1 0-2 .9-2 2v13c0 1.1.9 2 2 2h18c1.1 0 2-.9 2-2V6c0-1.1-.9-2-2-2zm0 15h-9V6h9v13z"></path></g>
<g id="class"><path d="M18 2H6c-1.1 0-2 .9-2 2v16c0 1.1.9 2 2 2h12c1.1 0 2-.9 2-2V4c0-1.1-.9-2-2-2zM6 4h5v8l-2.5-1.5L6 12V4z"></path></g>
<g id="clear"><path d="M19 6.41L17.59 5 12 10.59 6.41 5 5 6.41 10.59 12 5 17.59 6.41 19 12 13.41 17.59 19 19 17.59 13.41 12z"></path></g>
<g id="close"><path d="M19 6.41L17.59 5 12 10.59 6.41 5 5 6.41 10.59 12 5 17.59 6.41 19 12 13.41 17.59 19 19 17.59 13.41 12z"></path></g>
<g id="cloud"><path d="M19.35 10.04C18.67 6.59 15.64 4 12 4 9.11 4 6.6 5.64 5.35 8.04 2.34 8.36 0 10.91 0 14c0 3.31 2.69 6 6 6h13c2.76 0 5-2.24 5-5 0-2.64-2.05-4.78-4.65-4.96z"></path></g>
<g id="cloud-circle"><path d="M12 2C6.48 2 2 6.48 2 12s4.48 10 10 10 10-4.48 10-10S17.52 2 12 2zm4.5 14H8c-1.66 0-3-1.34-3-3s1.34-3 3-3l.14.01C8.58 8.28 10.13 7 12 7c2.21 0 4 1.79 4 4h.5c1.38 0 2.5 1.12 2.5 2.5S17.88 16 16.5 16z"></path></g>
<g id="cloud-done"><path d="M19.35 10.04C18.67 6.59 15.64 4 12 4 9.11 4 6.6 5.64 5.35 8.04 2.34 8.36 0 10.91 0 14c0 3.31 2.69 6 6 6h13c2.76 0 5-2.24 5-5 0-2.64-2.05-4.78-4.65-4.96zM10 17l-3.5-3.5 1.41-1.41L10 14.17 15.18 9l1.41 1.41L10 17z"></path></g>
<g id="cloud-download"><path d="M19.35 10.04C18.67 6.59 15.64 4 12 4 9.11 4 6.6 5.64 5.35 8.04 2.34 8.36 0 10.91 0 14c0 3.31 2.69 6 6 6h13c2.76 0 5-2.24 5-5 0-2.64-2.05-4.78-4.65-4.96zM17 13l-5 5-5-5h3V9h4v4h3z"></path></g>
<g id="cloud-off"><path d="M19.35 10.04C18.67 6.59 15.64 4 12 4c-1.48 0-2.85.43-4.01 1.17l1.46 1.46C10.21 6.23 11.08 6 12 6c3.04 0 5.5 2.46 5.5 5.5v.5H19c1.66 0 3 1.34 3 3 0 1.13-.64 2.11-1.56 2.62l1.45 1.45C23.16 18.16 24 16.68 24 15c0-2.64-2.05-4.78-4.65-4.96zM3 5.27l2.75 2.74C2.56 8.15 0 10.77 0 14c0 3.31 2.69 6 6 6h11.73l2 2L21 20.73 4.27 4 3 5.27zM7.73 10l8 8H6c-2.21 0-4-1.79-4-4s1.79-4 4-4h1.73z"></path></g>
<g id="cloud-queue"><path d="M19.35 10.04C18.67 6.59 15.64 4 12 4 9.11 4 6.6 5.64 5.35 8.04 2.34 8.36 0 10.91 0 14c0 3.31 2.69 6 6 6h13c2.76 0 5-2.24 5-5 0-2.64-2.05-4.78-4.65-4.96zM19 18H6c-2.21 0-4-1.79-4-4s1.79-4 4-4h.71C7.37 7.69 9.48 6 12 6c3.04 0 5.5 2.46 5.5 5.5v.5H19c1.66 0 3 1.34 3 3s-1.34 3-3 3z"></path></g>
<g id="cloud-upload"><path d="M19.35 10.04C18.67 6.59 15.64 4 12 4 9.11 4 6.6 5.64 5.35 8.04 2.34 8.36 0 10.91 0 14c0 3.31 2.69 6 6 6h13c2.76 0 5-2.24 5-5 0-2.64-2.05-4.78-4.65-4.96zM14 13v4h-4v-4H7l5-5 5 5h-3z"></path></g>
<g id="code"><path d="M9.4 16.6L4.8 12l4.6-4.6L8 6l-6 6 6 6 1.4-1.4zm5.2 0l4.6-4.6-4.6-4.6L16 6l6 6-6 6-1.4-1.4z"></path></g>
<g id="compare-arrows"><path d="M9.01 14H2v2h7.01v3L13 15l-3.99-4v3zm5.98-1v-3H22V8h-7.01V5L11 9l3.99 4z"></path></g>
<g id="content-copy"><path d="M16 1H4c-1.1 0-2 .9-2 2v14h2V3h12V1zm3 4H8c-1.1 0-2 .9-2 2v14c0 1.1.9 2 2 2h11c1.1 0 2-.9 2-2V7c0-1.1-.9-2-2-2zm0 16H8V7h11v14z"></path></g>
<g id="content-cut"><path d="M9.64 7.64c.23-.5.36-1.05.36-1.64 0-2.21-1.79-4-4-4S2 3.79 2 6s1.79 4 4 4c.59 0 1.14-.13 1.64-.36L10 12l-2.36 2.36C7.14 14.13 6.59 14 6 14c-2.21 0-4 1.79-4 4s1.79 4 4 4 4-1.79 4-4c0-.59-.13-1.14-.36-1.64L12 14l7 7h3v-1L9.64 7.64zM6 8c-1.1 0-2-.89-2-2s.9-2 2-2 2 .89 2 2-.9 2-2 2zm0 12c-1.1 0-2-.89-2-2s.9-2 2-2 2 .89 2 2-.9 2-2 2zm6-7.5c-.28 0-.5-.22-.5-.5s.22-.5.5-.5.5.22.5.5-.22.5-.5.5zM19 3l-6 6 2 2 7-7V3z"></path></g>
<g id="content-paste"><path d="M19 2h-4.18C14.4.84 13.3 0 12 0c-1.3 0-2.4.84-2.82 2H5c-1.1 0-2 .9-2 2v16c0 1.1.9 2 2 2h14c1.1 0 2-.9 2-2V4c0-1.1-.9-2-2-2zm-7 0c.55 0 1 .45 1 1s-.45 1-1 1-1-.45-1-1 .45-1 1-1zm7 18H5V4h2v3h10V4h2v16z"></path></g>
<g id="copyright"><path d="M10.08 10.86c.05-.33.16-.62.3-.87s.34-.46.59-.62c.24-.15.54-.22.91-.23.23.01.44.05.63.13.2.09.38.21.52.36s.25.33.34.53.13.42.14.64h1.79c-.02-.47-.11-.9-.28-1.29s-.4-.73-.7-1.01-.66-.5-1.08-.66-.88-.23-1.39-.23c-.65 0-1.22.11-1.7.34s-.88.53-1.2.92-.56.84-.71 1.36S8 11.29 8 11.87v.27c0 .58.08 1.12.23 1.64s.39.97.71 1.35.72.69 1.2.91 1.05.34 1.7.34c.47 0 .91-.08 1.32-.23s.77-.36 1.08-.63.56-.58.74-.94.29-.74.3-1.15h-1.79c-.01.21-.06.4-.15.58s-.21.33-.36.46-.32.23-.52.3c-.19.07-.39.09-.6.1-.36-.01-.66-.08-.89-.23-.25-.16-.45-.37-.59-.62s-.25-.55-.3-.88-.08-.67-.08-1v-.27c0-.35.03-.68.08-1.01zM12 2C6.48 2 2 6.48 2 12s4.48 10 10 10 10-4.48 10-10S17.52 2 12 2zm0 18c-4.41 0-8-3.59-8-8s3.59-8 8-8 8 3.59 8 8-3.59 8-8 8z"></path></g>
<g id="create"><path d="M3 17.25V21h3.75L17.81 9.94l-3.75-3.75L3 17.25zM20.71 7.04c.39-.39.39-1.02 0-1.41l-2.34-2.34c-.39-.39-1.02-.39-1.41 0l-1.83 1.83 3.75 3.75 1.83-1.83z"></path></g>
<g id="create-new-folder"><path d="M20 6h-8l-2-2H4c-1.11 0-1.99.89-1.99 2L2 18c0 1.11.89 2 2 2h16c1.11 0 2-.89 2-2V8c0-1.11-.89-2-2-2zm-1 8h-3v3h-2v-3h-3v-2h3V9h2v3h3v2z"></path></g>
<g id="credit-card"><path d="M20 4H4c-1.11 0-1.99.89-1.99 2L2 18c0 1.11.89 2 2 2h16c1.11 0 2-.89 2-2V6c0-1.11-.89-2-2-2zm0 14H4v-6h16v6zm0-10H4V6h16v2z"></path></g>
<g id="dashboard"><path d="M3 13h8V3H3v10zm0 8h8v-6H3v6zm10 0h8V11h-8v10zm0-18v6h8V3h-8z"></path></g>
<g id="date-range"><path d="M9 11H7v2h2v-2zm4 0h-2v2h2v-2zm4 0h-2v2h2v-2zm2-7h-1V2h-2v2H8V2H6v2H5c-1.11 0-1.99.9-1.99 2L3 20c0 1.1.89 2 2 2h14c1.1 0 2-.9 2-2V6c0-1.1-.9-2-2-2zm0 16H5V9h14v11z"></path></g>
<g id="delete"><path d="M6 19c0 1.1.9 2 2 2h8c1.1 0 2-.9 2-2V7H6v12zM19 4h-3.5l-1-1h-5l-1 1H5v2h14V4z"></path></g>
<g id="delete-forever"><path d="M6 19c0 1.1.9 2 2 2h8c1.1 0 2-.9 2-2V7H6v12zm2.46-7.12l1.41-1.41L12 12.59l2.12-2.12 1.41 1.41L13.41 14l2.12 2.12-1.41 1.41L12 15.41l-2.12 2.12-1.41-1.41L10.59 14l-2.13-2.12zM15.5 4l-1-1h-5l-1 1H5v2h14V4z"></path></g>
<g id="delete-sweep"><path d="M15 16h4v2h-4zm0-8h7v2h-7zm0 4h6v2h-6zM3 18c0 1.1.9 2 2 2h6c1.1 0 2-.9 2-2V8H3v10zM14 5h-3l-1-1H6L5 5H2v2h12z"></path></g>
<g id="description"><path d="M14 2H6c-1.1 0-1.99.9-1.99 2L4 20c0 1.1.89 2 1.99 2H18c1.1 0 2-.9 2-2V8l-6-6zm2 16H8v-2h8v2zm0-4H8v-2h8v2zm-3-5V3.5L18.5 9H13z"></path></g>
<g id="dns"><path d="M20 13H4c-.55 0-1 .45-1 1v6c0 .55.45 1 1 1h16c.55 0 1-.45 1-1v-6c0-.55-.45-1-1-1zM7 19c-1.1 0-2-.9-2-2s.9-2 2-2 2 .9 2 2-.9 2-2 2zM20 3H4c-.55 0-1 .45-1 1v6c0 .55.45 1 1 1h16c.55 0 1-.45 1-1V4c0-.55-.45-1-1-1zM7 9c-1.1 0-2-.9-2-2s.9-2 2-2 2 .9 2 2-.9 2-2 2z"></path></g>
<g id="done"><path d="M9 16.2L4.8 12l-1.4 1.4L9 19 21 7l-1.4-1.4L9 16.2z"></path></g>
<g id="done-all"><path d="M18 7l-1.41-1.41-6.34 6.34 1.41 1.41L18 7zm4.24-1.41L11.66 16.17 7.48 12l-1.41 1.41L11.66 19l12-12-1.42-1.41zM.41 13.41L6 19l1.41-1.41L1.83 12 .41 13.41z"></path></g>
<g id="donut-large"><path d="M11 5.08V2c-5 .5-9 4.81-9 10s4 9.5 9 10v-3.08c-3-.48-6-3.4-6-6.92s3-6.44 6-6.92zM18.97 11H22c-.47-5-4-8.53-9-9v3.08C16 5.51 18.54 8 18.97 11zM13 18.92V22c5-.47 8.53-4 9-9h-3.03c-.43 3-2.97 5.49-5.97 5.92z"></path></g>
<g id="donut-small"><path d="M11 9.16V2c-5 .5-9 4.79-9 10s4 9.5 9 10v-7.16c-1-.41-2-1.52-2-2.84s1-2.43 2-2.84zM14.86 11H22c-.48-4.75-4-8.53-9-9v7.16c1 .3 1.52.98 1.86 1.84zM13 14.84V22c5-.47 8.52-4.25 9-9h-7.14c-.34.86-.86 1.54-1.86 1.84z"></path></g>
<g id="drafts"><path d="M21.99 8c0-.72-.37-1.35-.94-1.7L12 1 2.95 6.3C2.38 6.65 2 7.28 2 8v10c0 1.1.9 2 2 2h16c1.1 0 2-.9 2-2l-.01-10zM12 13L3.74 7.84 12 3l8.26 4.84L12 13z"></path></g>
<g id="eject"><path d="M5 17h14v2H5zm7-12L5.33 15h13.34z"></path></g>
<g id="error"><path d="M12 2C6.48 2 2 6.48 2 12s4.48 10 10 10 10-4.48 10-10S17.52 2 12 2zm1 15h-2v-2h2v2zm0-4h-2V7h2v6z"></path></g>
<g id="error-outline"><path d="M11 15h2v2h-2zm0-8h2v6h-2zm.99-5C6.47 2 2 6.48 2 12s4.47 10 9.99 10C17.52 22 22 17.52 22 12S17.52 2 11.99 2zM12 20c-4.42 0-8-3.58-8-8s3.58-8 8-8 8 3.58 8 8-3.58 8-8 8z"></path></g>
<g id="euro-symbol"><path d="M15 18.5c-2.51 0-4.68-1.42-5.76-3.5H15v-2H8.58c-.05-.33-.08-.66-.08-1s.03-.67.08-1H15V9H9.24C10.32 6.92 12.5 5.5 15 5.5c1.61 0 3.09.59 4.23 1.57L21 5.3C19.41 3.87 17.3 3 15 3c-3.92 0-7.24 2.51-8.48 6H3v2h3.06c-.04.33-.06.66-.06 1 0 .34.02.67.06 1H3v2h3.52c1.24 3.49 4.56 6 8.48 6 2.31 0 4.41-.87 6-2.3l-1.78-1.77c-1.13.98-2.6 1.57-4.22 1.57z"></path></g>
<g id="event"><path d="M17 12h-5v5h5v-5zM16 1v2H8V1H6v2H5c-1.11 0-1.99.9-1.99 2L3 19c0 1.1.89 2 2 2h14c1.1 0 2-.9 2-2V5c0-1.1-.9-2-2-2h-1V1h-2zm3 18H5V8h14v11z"></path></g>
<g id="event-seat"><path d="M4 18v3h3v-3h10v3h3v-6H4zm15-8h3v3h-3zM2 10h3v3H2zm15 3H7V5c0-1.1.9-2 2-2h6c1.1 0 2 .9 2 2v8z"></path></g>
<g id="exit-to-app"><path d="M10.09 15.59L11.5 17l5-5-5-5-1.41 1.41L12.67 11H3v2h9.67l-2.58 2.59zM19 3H5c-1.11 0-2 .9-2 2v4h2V5h14v14H5v-4H3v4c0 1.1.89 2 2 2h14c1.1 0 2-.9 2-2V5c0-1.1-.9-2-2-2z"></path></g>
<g id="expand-less"><path d="M12 8l-6 6 1.41 1.41L12 10.83l4.59 4.58L18 14z"></path></g>
<g id="expand-more"><path d="M16.59 8.59L12 13.17 7.41 8.59 6 10l6 6 6-6z"></path></g>
<g id="explore"><path d="M12 10.9c-.61 0-1.1.49-1.1 1.1s.49 1.1 1.1 1.1c.61 0 1.1-.49 1.1-1.1s-.49-1.1-1.1-1.1zM12 2C6.48 2 2 6.48 2 12s4.48 10 10 10 10-4.48 10-10S17.52 2 12 2zm2.19 12.19L6 18l3.81-8.19L18 6l-3.81 8.19z"></path></g>
<g id="extension"><path d="M20.5 11H19V7c0-1.1-.9-2-2-2h-4V3.5C13 2.12 11.88 1 10.5 1S8 2.12 8 3.5V5H4c-1.1 0-1.99.9-1.99 2v3.8H3.5c1.49 0 2.7 1.21 2.7 2.7s-1.21 2.7-2.7 2.7H2V20c0 1.1.9 2 2 2h3.8v-1.5c0-1.49 1.21-2.7 2.7-2.7 1.49 0 2.7 1.21 2.7 2.7V22H17c1.1 0 2-.9 2-2v-4h1.5c1.38 0 2.5-1.12 2.5-2.5S21.88 11 20.5 11z"></path></g>
<g id="face"><path d="M9 11.75c-.69 0-1.25.56-1.25 1.25s.56 1.25 1.25 1.25 1.25-.56 1.25-1.25-.56-1.25-1.25-1.25zm6 0c-.69 0-1.25.56-1.25 1.25s.56 1.25 1.25 1.25 1.25-.56 1.25-1.25-.56-1.25-1.25-1.25zM12 2C6.48 2 2 6.48 2 12s4.48 10 10 10 10-4.48 10-10S17.52 2 12 2zm0 18c-4.41 0-8-3.59-8-8 0-.29.02-.58.05-.86 2.36-1.05 4.23-2.98 5.21-5.37C11.07 8.33 14.05 10 17.42 10c.78 0 1.53-.09 2.25-.26.21.71.33 1.47.33 2.26 0 4.41-3.59 8-8 8z"></path></g>
<g id="favorite"><path d="M12 21.35l-1.45-1.32C5.4 15.36 2 12.28 2 8.5 2 5.42 4.42 3 7.5 3c1.74 0 3.41.81 4.5 2.09C13.09 3.81 14.76 3 16.5 3 19.58 3 22 5.42 22 8.5c0 3.78-3.4 6.86-8.55 11.54L12 21.35z"></path></g>
<g id="favorite-border"><path d="M16.5 3c-1.74 0-3.41.81-4.5 2.09C10.91 3.81 9.24 3 7.5 3 4.42 3 2 5.42 2 8.5c0 3.78 3.4 6.86 8.55 11.54L12 21.35l1.45-1.32C18.6 15.36 22 12.28 22 8.5 22 5.42 19.58 3 16.5 3zm-4.4 15.55l-.1.1-.1-.1C7.14 14.24 4 11.39 4 8.5 4 6.5 5.5 5 7.5 5c1.54 0 3.04.99 3.57 2.36h1.87C13.46 5.99 14.96 5 16.5 5c2 0 3.5 1.5 3.5 3.5 0 2.89-3.14 5.74-7.9 10.05z"></path></g>
<g id="feedback"><path d="M20 2H4c-1.1 0-1.99.9-1.99 2L2 22l4-4h14c1.1 0 2-.9 2-2V4c0-1.1-.9-2-2-2zm-7 12h-2v-2h2v2zm0-4h-2V6h2v4z"></path></g>
<g id="file-download"><path d="M19 9h-4V3H9v6H5l7 7 7-7zM5 18v2h14v-2H5z"></path></g>
<g id="file-upload"><path d="M9 16h6v-6h4l-7-7-7 7h4zm-4 2h14v2H5z"></path></g>
<g id="filter-list"><path d="M10 18h4v-2h-4v2zM3 6v2h18V6H3zm3 7h12v-2H6v2z"></path></g>
<g id="find-in-page"><path d="M20 19.59V8l-6-6H6c-1.1 0-1.99.9-1.99 2L4 20c0 1.1.89 2 1.99 2H18c.45 0 .85-.15 1.19-.4l-4.43-4.43c-.8.52-1.74.83-2.76.83-2.76 0-5-2.24-5-5s2.24-5 5-5 5 2.24 5 5c0 1.02-.31 1.96-.83 2.75L20 19.59zM9 13c0 1.66 1.34 3 3 3s3-1.34 3-3-1.34-3-3-3-3 1.34-3 3z"></path></g>
<g id="find-replace"><path d="M11 6c1.38 0 2.63.56 3.54 1.46L12 10h6V4l-2.05 2.05C14.68 4.78 12.93 4 11 4c-3.53 0-6.43 2.61-6.92 6H6.1c.46-2.28 2.48-4 4.9-4zm5.64 9.14c.66-.9 1.12-1.97 1.28-3.14H15.9c-.46 2.28-2.48 4-4.9 4-1.38 0-2.63-.56-3.54-1.46L10 12H4v6l2.05-2.05C7.32 17.22 9.07 18 11 18c1.55 0 2.98-.51 4.14-1.36L20 21.49 21.49 20l-4.85-4.86z"></path></g>
<g id="fingerprint"><path d="M17.81 4.47c-.08 0-.16-.02-.23-.06C15.66 3.42 14 3 12.01 3c-1.98 0-3.86.47-5.57 1.41-.24.13-.54.04-.68-.2-.13-.24-.04-.55.2-.68C7.82 2.52 9.86 2 12.01 2c2.13 0 3.99.47 6.03 1.52.25.13.34.43.21.67-.09.18-.26.28-.44.28zM3.5 9.72c-.1 0-.2-.03-.29-.09-.23-.16-.28-.47-.12-.7.99-1.4 2.25-2.5 3.75-3.27C9.98 4.04 14 4.03 17.15 5.65c1.5.77 2.76 1.86 3.75 3.25.16.22.11.54-.12.7-.23.16-.54.11-.7-.12-.9-1.26-2.04-2.25-3.39-2.94-2.87-1.47-6.54-1.47-9.4.01-1.36.7-2.5 1.7-3.4 2.96-.08.14-.23.21-.39.21zm6.25 12.07c-.13 0-.26-.05-.35-.15-.87-.87-1.34-1.43-2.01-2.64-.69-1.23-1.05-2.73-1.05-4.34 0-2.97 2.54-5.39 5.66-5.39s5.66 2.42 5.66 5.39c0 .28-.22.5-.5.5s-.5-.22-.5-.5c0-2.42-2.09-4.39-4.66-4.39-2.57 0-4.66 1.97-4.66 4.39 0 1.44.32 2.77.93 3.85.64 1.15 1.08 1.64 1.85 2.42.19.2.19.51 0 .71-.11.1-.24.15-.37.15zm7.17-1.85c-1.19 0-2.24-.3-3.1-.89-1.49-1.01-2.38-2.65-2.38-4.39 0-.28.22-.5.5-.5s.5.22.5.5c0 1.41.72 2.74 1.94 3.56.71.48 1.54.71 2.54.71.24 0 .64-.03 1.04-.1.27-.05.53.13.58.41.05.27-.13.53-.41.58-.57.11-1.07.12-1.21.12zM14.91 22c-.04 0-.09-.01-.13-.02-1.59-.44-2.63-1.03-3.72-2.1-1.4-1.39-2.17-3.24-2.17-5.22 0-1.62 1.38-2.94 3.08-2.94 1.7 0 3.08 1.32 3.08 2.94 0 1.07.93 1.94 2.08 1.94s2.08-.87 2.08-1.94c0-3.77-3.25-6.83-7.25-6.83-2.84 0-5.44 1.58-6.61 4.03-.39.81-.59 1.76-.59 2.8 0 .78.07 2.01.67 3.61.1.26-.03.55-.29.64-.26.1-.55-.04-.64-.29-.49-1.31-.73-2.61-.73-3.96 0-1.2.23-2.29.68-3.24 1.33-2.79 4.28-4.6 7.51-4.6 4.55 0 8.25 3.51 8.25 7.83 0 1.62-1.38 2.94-3.08 2.94s-3.08-1.32-3.08-2.94c0-1.07-.93-1.94-2.08-1.94s-2.08.87-2.08 1.94c0 1.71.66 3.31 1.87 4.51.95.94 1.86 1.46 3.27 1.85.27.07.42.35.35.61-.05.23-.26.38-.47.38z"></path></g>
<g id="first-page"><path d="M18.41 16.59L13.82 12l4.59-4.59L17 6l-6 6 6 6zM6 6h2v12H6z"></path></g>
<g id="flag"><path d="M14.4 6L14 4H5v17h2v-7h5.6l.4 2h7V6z"></path></g>
<g id="flight-land"><path d="M2.5 19h19v2h-19zm7.18-5.73l4.35 1.16 5.31 1.42c.8.21 1.62-.26 1.84-1.06.21-.8-.26-1.62-1.06-1.84l-5.31-1.42-2.76-9.02L10.12 2v8.28L5.15 8.95l-.93-2.32-1.45-.39v5.17l1.6.43 5.31 1.43z"></path></g>
<g id="flight-takeoff"><path d="M2.5 19h19v2h-19zm19.57-9.36c-.21-.8-1.04-1.28-1.84-1.06L14.92 10l-6.9-6.43-1.93.51 4.14 7.17-4.97 1.33-1.97-1.54-1.45.39 1.82 3.16.77 1.33 1.6-.43 5.31-1.42 4.35-1.16L21 11.49c.81-.23 1.28-1.05 1.07-1.85z"></path></g>
<g id="flip-to-back"><path d="M9 7H7v2h2V7zm0 4H7v2h2v-2zm0-8c-1.11 0-2 .9-2 2h2V3zm4 12h-2v2h2v-2zm6-12v2h2c0-1.1-.9-2-2-2zm-6 0h-2v2h2V3zM9 17v-2H7c0 1.1.89 2 2 2zm10-4h2v-2h-2v2zm0-4h2V7h-2v2zm0 8c1.1 0 2-.9 2-2h-2v2zM5 7H3v12c0 1.1.89 2 2 2h12v-2H5V7zm10-2h2V3h-2v2zm0 12h2v-2h-2v2z"></path></g>
<g id="flip-to-front"><path d="M3 13h2v-2H3v2zm0 4h2v-2H3v2zm2 4v-2H3c0 1.1.89 2 2 2zM3 9h2V7H3v2zm12 12h2v-2h-2v2zm4-18H9c-1.11 0-2 .9-2 2v10c0 1.1.89 2 2 2h10c1.1 0 2-.9 2-2V5c0-1.1-.9-2-2-2zm0 12H9V5h10v10zm-8 6h2v-2h-2v2zm-4 0h2v-2H7v2z"></path></g>
<g id="folder"><path d="M10 4H4c-1.1 0-1.99.9-1.99 2L2 18c0 1.1.9 2 2 2h16c1.1 0 2-.9 2-2V8c0-1.1-.9-2-2-2h-8l-2-2z"></path></g>
<g id="folder-open"><path d="M20 6h-8l-2-2H4c-1.1 0-1.99.9-1.99 2L2 18c0 1.1.9 2 2 2h16c1.1 0 2-.9 2-2V8c0-1.1-.9-2-2-2zm0 12H4V8h16v10z"></path></g>
<g id="folder-shared"><path d="M20 6h-8l-2-2H4c-1.1 0-1.99.9-1.99 2L2 18c0 1.1.9 2 2 2h16c1.1 0 2-.9 2-2V8c0-1.1-.9-2-2-2zm-5 3c1.1 0 2 .9 2 2s-.9 2-2 2-2-.9-2-2 .9-2 2-2zm4 8h-8v-1c0-1.33 2.67-2 4-2s4 .67 4 2v1z"></path></g>
<g id="font-download"><path d="M9.93 13.5h4.14L12 7.98zM20 2H4c-1.1 0-2 .9-2 2v16c0 1.1.9 2 2 2h16c1.1 0 2-.9 2-2V4c0-1.1-.9-2-2-2zm-4.05 16.5l-1.14-3H9.17l-1.12 3H5.96l5.11-13h1.86l5.11 13h-2.09z"></path></g>
<g id="forward"><path d="M12 8V4l8 8-8 8v-4H4V8z"></path></g>
<g id="fullscreen"><path d="M7 14H5v5h5v-2H7v-3zm-2-4h2V7h3V5H5v5zm12 7h-3v2h5v-5h-2v3zM14 5v2h3v3h2V5h-5z"></path></g>
<g id="fullscreen-exit"><path d="M5 16h3v3h2v-5H5v2zm3-8H5v2h5V5H8v3zm6 11h2v-3h3v-2h-5v5zm2-11V5h-2v5h5V8h-3z"></path></g>
<g id="g-translate"><path d="M20 5h-9.12L10 2H4c-1.1 0-2 .9-2 2v13c0 1.1.9 2 2 2h7l1 3h8c1.1 0 2-.9 2-2V7c0-1.1-.9-2-2-2zM7.17 14.59c-2.25 0-4.09-1.83-4.09-4.09s1.83-4.09 4.09-4.09c1.04 0 1.99.37 2.74 1.07l.07.06-1.23 1.18-.06-.05c-.29-.27-.78-.59-1.52-.59-1.31 0-2.38 1.09-2.38 2.42s1.07 2.42 2.38 2.42c1.37 0 1.96-.87 2.12-1.46H7.08V9.91h3.95l.01.07c.04.21.05.4.05.61 0 2.35-1.61 4-3.92 4zm6.03-1.71c.33.6.74 1.18 1.19 1.7l-.54.53-.65-2.23zm.77-.76h-.99l-.31-1.04h3.99s-.34 1.31-1.56 2.74c-.52-.62-.89-1.23-1.13-1.7zM21 20c0 .55-.45 1-1 1h-7l2-2-.81-2.77.92-.92L17.79 18l.73-.73-2.71-2.68c.9-1.03 1.6-2.25 1.92-3.51H19v-1.04h-3.64V9h-1.04v1.04h-1.96L11.18 6H20c.55 0 1 .45 1 1v13z"></path></g>
<g id="gavel"><path d="M1 21h12v2H1zM5.245 8.07l2.83-2.827 14.14 14.142-2.828 2.828zM12.317 1l5.657 5.656-2.83 2.83-5.654-5.66zM3.825 9.485l5.657 5.657-2.828 2.828-5.657-5.657z"></path></g>
<g id="gesture"><path d="M4.59 6.89c.7-.71 1.4-1.35 1.71-1.22.5.2 0 1.03-.3 1.52-.25.42-2.86 3.89-2.86 6.31 0 1.28.48 2.34 1.34 2.98.75.56 1.74.73 2.64.46 1.07-.31 1.95-1.4 3.06-2.77 1.21-1.49 2.83-3.44 4.08-3.44 1.63 0 1.65 1.01 1.76 1.79-3.78.64-5.38 3.67-5.38 5.37 0 1.7 1.44 3.09 3.21 3.09 1.63 0 4.29-1.33 4.69-6.1H21v-2.5h-2.47c-.15-1.65-1.09-4.2-4.03-4.2-2.25 0-4.18 1.91-4.94 2.84-.58.73-2.06 2.48-2.29 2.72-.25.3-.68.84-1.11.84-.45 0-.72-.83-.36-1.92.35-1.09 1.4-2.86 1.85-3.52.78-1.14 1.3-1.92 1.3-3.28C8.95 3.69 7.31 3 6.44 3 5.12 3 3.97 4 3.72 4.25c-.36.36-.66.66-.88.93l1.75 1.71zm9.29 11.66c-.31 0-.74-.26-.74-.72 0-.6.73-2.2 2.87-2.76-.3 2.69-1.43 3.48-2.13 3.48z"></path></g>
<g id="get-app"><path d="M19 9h-4V3H9v6H5l7 7 7-7zM5 18v2h14v-2H5z"></path></g>
<g id="gif"><path d="M11.5 9H13v6h-1.5zM9 9H6c-.6 0-1 .5-1 1v4c0 .5.4 1 1 1h3c.6 0 1-.5 1-1v-2H8.5v1.5h-2v-3H10V10c0-.5-.4-1-1-1zm10 1.5V9h-4.5v6H16v-2h2v-1.5h-2v-1z"></path></g>
<g id="grade"><path d="M12 17.27L18.18 21l-1.64-7.03L22 9.24l-7.19-.61L12 2 9.19 8.63 2 9.24l5.46 4.73L5.82 21z"></path></g>
<g id="group-work"><path d="M12 2C6.48 2 2 6.48 2 12s4.48 10 10 10 10-4.48 10-10S17.52 2 12 2zM8 17.5c-1.38 0-2.5-1.12-2.5-2.5s1.12-2.5 2.5-2.5 2.5 1.12 2.5 2.5-1.12 2.5-2.5 2.5zM9.5 8c0-1.38 1.12-2.5 2.5-2.5s2.5 1.12 2.5 2.5-1.12 2.5-2.5 2.5S9.5 9.38 9.5 8zm6.5 9.5c-1.38 0-2.5-1.12-2.5-2.5s1.12-2.5 2.5-2.5 2.5 1.12 2.5 2.5-1.12 2.5-2.5 2.5z"></path></g>
<g id="help"><path d="M12 2C6.48 2 2 6.48 2 12s4.48 10 10 10 10-4.48 10-10S17.52 2 12 2zm1 17h-2v-2h2v2zm2.07-7.75l-.9.92C13.45 12.9 13 13.5 13 15h-2v-.5c0-1.1.45-2.1 1.17-2.83l1.24-1.26c.37-.36.59-.86.59-1.41 0-1.1-.9-2-2-2s-2 .9-2 2H8c0-2.21 1.79-4 4-4s4 1.79 4 4c0 .88-.36 1.68-.93 2.25z"></path></g>
<g id="help-outline"><path d="M11 18h2v-2h-2v2zm1-16C6.48 2 2 6.48 2 12s4.48 10 10 10 10-4.48 10-10S17.52 2 12 2zm0 18c-4.41 0-8-3.59-8-8s3.59-8 8-8 8 3.59 8 8-3.59 8-8 8zm0-14c-2.21 0-4 1.79-4 4h2c0-1.1.9-2 2-2s2 .9 2 2c0 2-3 1.75-3 5h2c0-2.25 3-2.5 3-5 0-2.21-1.79-4-4-4z"></path></g>
<g id="highlight-off"><path d="M14.59 8L12 10.59 9.41 8 8 9.41 10.59 12 8 14.59 9.41 16 12 13.41 14.59 16 16 14.59 13.41 12 16 9.41 14.59 8zM12 2C6.47 2 2 6.47 2 12s4.47 10 10 10 10-4.47 10-10S17.53 2 12 2zm0 18c-4.41 0-8-3.59-8-8s3.59-8 8-8 8 3.59 8 8-3.59 8-8 8z"></path></g>
<g id="history"><path d="M13 3c-4.97 0-9 4.03-9 9H1l3.89 3.89.07.14L9 12H6c0-3.87 3.13-7 7-7s7 3.13 7 7-3.13 7-7 7c-1.93 0-3.68-.79-4.94-2.06l-1.42 1.42C8.27 19.99 10.51 21 13 21c4.97 0 9-4.03 9-9s-4.03-9-9-9zm-1 5v5l4.28 2.54.72-1.21-3.5-2.08V8H12z"></path></g>
<g id="home"><path d="M10 20v-6h4v6h5v-8h3L12 3 2 12h3v8z"></path></g>
<g id="hourglass-empty"><path d="M6 2v6h.01L6 8.01 10 12l-4 4 .01.01H6V22h12v-5.99h-.01L18 16l-4-4 4-3.99-.01-.01H18V2H6zm10 14.5V20H8v-3.5l4-4 4 4zm-4-5l-4-4V4h8v3.5l-4 4z"></path></g>
<g id="hourglass-full"><path d="M6 2v6h.01L6 8.01 10 12l-4 4 .01.01H6V22h12v-5.99h-.01L18 16l-4-4 4-3.99-.01-.01H18V2H6z"></path></g>
<g id="http"><path d="M4.5 11h-2V9H1v6h1.5v-2.5h2V15H6V9H4.5v2zm2.5-.5h1.5V15H10v-4.5h1.5V9H7v1.5zm5.5 0H14V15h1.5v-4.5H17V9h-4.5v1.5zm9-1.5H18v6h1.5v-2h2c.8 0 1.5-.7 1.5-1.5v-1c0-.8-.7-1.5-1.5-1.5zm0 2.5h-2v-1h2v1z"></path></g>
<g id="https"><path d="M18 8h-1V6c0-2.76-2.24-5-5-5S7 3.24 7 6v2H6c-1.1 0-2 .9-2 2v10c0 1.1.9 2 2 2h12c1.1 0 2-.9 2-2V10c0-1.1-.9-2-2-2zm-6 9c-1.1 0-2-.9-2-2s.9-2 2-2 2 .9 2 2-.9 2-2 2zm3.1-9H8.9V6c0-1.71 1.39-3.1 3.1-3.1 1.71 0 3.1 1.39 3.1 3.1v2z"></path></g>
<g id="important-devices"><path d="M23 11.01L18 11c-.55 0-1 .45-1 1v9c0 .55.45 1 1 1h5c.55 0 1-.45 1-1v-9c0-.55-.45-.99-1-.99zM23 20h-5v-7h5v7zM20 2H2C.89 2 0 2.89 0 4v12c0 1.1.89 2 2 2h7v2H7v2h8v-2h-2v-2h2v-2H2V4h18v5h2V4c0-1.11-.9-2-2-2zm-8.03 7L11 6l-.97 3H7l2.47 1.76-.94 2.91 2.47-1.8 2.47 1.8-.94-2.91L15 9h-3.03z"></path></g>
<g id="inbox"><path d="M19 3H4.99c-1.11 0-1.98.89-1.98 2L3 19c0 1.1.88 2 1.99 2H19c1.1 0 2-.9 2-2V5c0-1.11-.9-2-2-2zm0 12h-4c0 1.66-1.35 3-3 3s-3-1.34-3-3H4.99V5H19v10z"></path></g>
<g id="indeterminate-check-box"><path d="M19 3H5c-1.1 0-2 .9-2 2v14c0 1.1.9 2 2 2h14c1.1 0 2-.9 2-2V5c0-1.1-.9-2-2-2zm-2 10H7v-2h10v2z"></path></g>
<g id="info"><path d="M12 2C6.48 2 2 6.48 2 12s4.48 10 10 10 10-4.48 10-10S17.52 2 12 2zm1 15h-2v-6h2v6zm0-8h-2V7h2v2z"></path></g>
<g id="info-outline"><path d="M11 17h2v-6h-2v6zm1-15C6.48 2 2 6.48 2 12s4.48 10 10 10 10-4.48 10-10S17.52 2 12 2zm0 18c-4.41 0-8-3.59-8-8s3.59-8 8-8 8 3.59 8 8-3.59 8-8 8zM11 9h2V7h-2v2z"></path></g>
<g id="input"><path d="M21 3.01H3c-1.1 0-2 .9-2 2V9h2V4.99h18v14.03H3V15H1v4.01c0 1.1.9 1.98 2 1.98h18c1.1 0 2-.88 2-1.98v-14c0-1.11-.9-2-2-2zM11 16l4-4-4-4v3H1v2h10v3z"></path></g>
<g id="invert-colors"><path d="M17.66 7.93L12 2.27 6.34 7.93c-3.12 3.12-3.12 8.19 0 11.31C7.9 20.8 9.95 21.58 12 21.58c2.05 0 4.1-.78 5.66-2.34 3.12-3.12 3.12-8.19 0-11.31zM12 19.59c-1.6 0-3.11-.62-4.24-1.76C6.62 16.69 6 15.19 6 13.59s.62-3.11 1.76-4.24L12 5.1v14.49z"></path></g>
<g id="label"><path d="M17.63 5.84C17.27 5.33 16.67 5 16 5L5 5.01C3.9 5.01 3 5.9 3 7v10c0 1.1.9 1.99 2 1.99L16 19c.67 0 1.27-.33 1.63-.84L22 12l-4.37-6.16z"></path></g>
<g id="label-outline"><path d="M17.63 5.84C17.27 5.33 16.67 5 16 5L5 5.01C3.9 5.01 3 5.9 3 7v10c0 1.1.9 1.99 2 1.99L16 19c.67 0 1.27-.33 1.63-.84L22 12l-4.37-6.16zM16 17H5V7h11l3.55 5L16 17z"></path></g>
<g id="language"><path d="M11.99 2C6.47 2 2 6.48 2 12s4.47 10 9.99 10C17.52 22 22 17.52 22 12S17.52 2 11.99 2zm6.93 6h-2.95c-.32-1.25-.78-2.45-1.38-3.56 1.84.63 3.37 1.91 4.33 3.56zM12 4.04c.83 1.2 1.48 2.53 1.91 3.96h-3.82c.43-1.43 1.08-2.76 1.91-3.96zM4.26 14C4.1 13.36 4 12.69 4 12s.1-1.36.26-2h3.38c-.08.66-.14 1.32-.14 2 0 .68.06 1.34.14 2H4.26zm.82 2h2.95c.32 1.25.78 2.45 1.38 3.56-1.84-.63-3.37-1.9-4.33-3.56zm2.95-8H5.08c.96-1.66 2.49-2.93 4.33-3.56C8.81 5.55 8.35 6.75 8.03 8zM12 19.96c-.83-1.2-1.48-2.53-1.91-3.96h3.82c-.43 1.43-1.08 2.76-1.91 3.96zM14.34 14H9.66c-.09-.66-.16-1.32-.16-2 0-.68.07-1.35.16-2h4.68c.09.65.16 1.32.16 2 0 .68-.07 1.34-.16 2zm.25 5.56c.6-1.11 1.06-2.31 1.38-3.56h2.95c-.96 1.65-2.49 2.93-4.33 3.56zM16.36 14c.08-.66.14-1.32.14-2 0-.68-.06-1.34-.14-2h3.38c.16.64.26 1.31.26 2s-.1 1.36-.26 2h-3.38z"></path></g>
<g id="last-page"><path d="M5.59 7.41L10.18 12l-4.59 4.59L7 18l6-6-6-6zM16 6h2v12h-2z"></path></g>
<g id="launch"><path d="M19 19H5V5h7V3H5c-1.11 0-2 .9-2 2v14c0 1.1.89 2 2 2h14c1.1 0 2-.9 2-2v-7h-2v7zM14 3v2h3.59l-9.83 9.83 1.41 1.41L19 6.41V10h2V3h-7z"></path></g>
<g id="lightbulb-outline"><path d="M9 21c0 .55.45 1 1 1h4c.55 0 1-.45 1-1v-1H9v1zm3-19C8.14 2 5 5.14 5 9c0 2.38 1.19 4.47 3 5.74V17c0 .55.45 1 1 1h6c.55 0 1-.45 1-1v-2.26c1.81-1.27 3-3.36 3-5.74 0-3.86-3.14-7-7-7zm2.85 11.1l-.85.6V16h-4v-2.3l-.85-.6C7.8 12.16 7 10.63 7 9c0-2.76 2.24-5 5-5s5 2.24 5 5c0 1.63-.8 3.16-2.15 4.1z"></path></g>
<g id="line-style"><path d="M3 16h5v-2H3v2zm6.5 0h5v-2h-5v2zm6.5 0h5v-2h-5v2zM3 20h2v-2H3v2zm4 0h2v-2H7v2zm4 0h2v-2h-2v2zm4 0h2v-2h-2v2zm4 0h2v-2h-2v2zM3 12h8v-2H3v2zm10 0h8v-2h-8v2zM3 4v4h18V4H3z"></path></g>
<g id="line-weight"><path d="M3 17h18v-2H3v2zm0 3h18v-1H3v1zm0-7h18v-3H3v3zm0-9v4h18V4H3z"></path></g>
<g id="link"><path d="M3.9 12c0-1.71 1.39-3.1 3.1-3.1h4V7H7c-2.76 0-5 2.24-5 5s2.24 5 5 5h4v-1.9H7c-1.71 0-3.1-1.39-3.1-3.1zM8 13h8v-2H8v2zm9-6h-4v1.9h4c1.71 0 3.1 1.39 3.1 3.1s-1.39 3.1-3.1 3.1h-4V17h4c2.76 0 5-2.24 5-5s-2.24-5-5-5z"></path></g>
<g id="list"><path d="M3 13h2v-2H3v2zm0 4h2v-2H3v2zm0-8h2V7H3v2zm4 4h14v-2H7v2zm0 4h14v-2H7v2zM7 7v2h14V7H7z"></path></g>
<g id="lock"><path d="M18 8h-1V6c0-2.76-2.24-5-5-5S7 3.24 7 6v2H6c-1.1 0-2 .9-2 2v10c0 1.1.9 2 2 2h12c1.1 0 2-.9 2-2V10c0-1.1-.9-2-2-2zm-6 9c-1.1 0-2-.9-2-2s.9-2 2-2 2 .9 2 2-.9 2-2 2zm3.1-9H8.9V6c0-1.71 1.39-3.1 3.1-3.1 1.71 0 3.1 1.39 3.1 3.1v2z"></path></g>
<g id="lock-open"><path d="M12 17c1.1 0 2-.9 2-2s-.9-2-2-2-2 .9-2 2 .9 2 2 2zm6-9h-1V6c0-2.76-2.24-5-5-5S7 3.24 7 6h1.9c0-1.71 1.39-3.1 3.1-3.1 1.71 0 3.1 1.39 3.1 3.1v2H6c-1.1 0-2 .9-2 2v10c0 1.1.9 2 2 2h12c1.1 0 2-.9 2-2V10c0-1.1-.9-2-2-2zm0 12H6V10h12v10z"></path></g>
<g id="lock-outline"><path d="M12 17c1.1 0 2-.9 2-2s-.9-2-2-2-2 .9-2 2 .9 2 2 2zm6-9h-1V6c0-2.76-2.24-5-5-5S7 3.24 7 6v2H6c-1.1 0-2 .9-2 2v10c0 1.1.9 2 2 2h12c1.1 0 2-.9 2-2V10c0-1.1-.9-2-2-2zM8.9 6c0-1.71 1.39-3.1 3.1-3.1s3.1 1.39 3.1 3.1v2H8.9V6zM18 20H6V10h12v10z"></path></g>
<g id="low-priority"><path d="M14 5h8v2h-8zm0 5.5h8v2h-8zm0 5.5h8v2h-8zM2 11.5C2 15.08 4.92 18 8.5 18H9v2l3-3-3-3v2h-.5C6.02 16 4 13.98 4 11.5S6.02 7 8.5 7H12V5H8.5C4.92 5 2 7.92 2 11.5z"></path></g>
<g id="loyalty"><path d="M21.41 11.58l-9-9C12.05 2.22 11.55 2 11 2H4c-1.1 0-2 .9-2 2v7c0 .55.22 1.05.59 1.42l9 9c.36.36.86.58 1.41.58.55 0 1.05-.22 1.41-.59l7-7c.37-.36.59-.86.59-1.41 0-.55-.23-1.06-.59-1.42zM5.5 7C4.67 7 4 6.33 4 5.5S4.67 4 5.5 4 7 4.67 7 5.5 6.33 7 5.5 7zm11.77 8.27L13 19.54l-4.27-4.27C8.28 14.81 8 14.19 8 13.5c0-1.38 1.12-2.5 2.5-2.5.69 0 1.32.28 1.77.74l.73.72.73-.73c.45-.45 1.08-.73 1.77-.73 1.38 0 2.5 1.12 2.5 2.5 0 .69-.28 1.32-.73 1.77z"></path></g>
<g id="mail"><path d="M20 4H4c-1.1 0-1.99.9-1.99 2L2 18c0 1.1.9 2 2 2h16c1.1 0 2-.9 2-2V6c0-1.1-.9-2-2-2zm0 4l-8 5-8-5V6l8 5 8-5v2z"></path></g>
<g id="markunread"><path d="M20 4H4c-1.1 0-1.99.9-1.99 2L2 18c0 1.1.9 2 2 2h16c1.1 0 2-.9 2-2V6c0-1.1-.9-2-2-2zm0 4l-8 5-8-5V6l8 5 8-5v2z"></path></g>
<g id="markunread-mailbox"><path d="M20 6H10v6H8V4h6V0H6v6H4c-1.1 0-2 .9-2 2v12c0 1.1.9 2 2 2h16c1.1 0 2-.9 2-2V8c0-1.1-.9-2-2-2z"></path></g>
<g id="menu"><path d="M3 18h18v-2H3v2zm0-5h18v-2H3v2zm0-7v2h18V6H3z"></path></g>
<g id="more-horiz"><path d="M6 10c-1.1 0-2 .9-2 2s.9 2 2 2 2-.9 2-2-.9-2-2-2zm12 0c-1.1 0-2 .9-2 2s.9 2 2 2 2-.9 2-2-.9-2-2-2zm-6 0c-1.1 0-2 .9-2 2s.9 2 2 2 2-.9 2-2-.9-2-2-2z"></path></g>
<g id="more-vert"><path d="M12 8c1.1 0 2-.9 2-2s-.9-2-2-2-2 .9-2 2 .9 2 2 2zm0 2c-1.1 0-2 .9-2 2s.9 2 2 2 2-.9 2-2-.9-2-2-2zm0 6c-1.1 0-2 .9-2 2s.9 2 2 2 2-.9 2-2-.9-2-2-2z"></path></g>
<g id="motorcycle"><path d="M19.44 9.03L15.41 5H11v2h3.59l2 2H5c-2.8 0-5 2.2-5 5s2.2 5 5 5c2.46 0 4.45-1.69 4.9-4h1.65l2.77-2.77c-.21.54-.32 1.14-.32 1.77 0 2.8 2.2 5 5 5s5-2.2 5-5c0-2.65-1.97-4.77-4.56-4.97zM7.82 15C7.4 16.15 6.28 17 5 17c-1.63 0-3-1.37-3-3s1.37-3 3-3c1.28 0 2.4.85 2.82 2H5v2h2.82zM19 17c-1.66 0-3-1.34-3-3s1.34-3 3-3 3 1.34 3 3-1.34 3-3 3z"></path></g>
<g id="move-to-inbox"><path d="M19 3H4.99c-1.11 0-1.98.9-1.98 2L3 19c0 1.1.88 2 1.99 2H19c1.1 0 2-.9 2-2V5c0-1.1-.9-2-2-2zm0 12h-4c0 1.66-1.35 3-3 3s-3-1.34-3-3H4.99V5H19v10zm-3-5h-2V7h-4v3H8l4 4 4-4z"></path></g>
<g id="next-week"><path d="M20 7h-4V5c0-.55-.22-1.05-.59-1.41C15.05 3.22 14.55 3 14 3h-4c-1.1 0-2 .9-2 2v2H4c-1.1 0-2 .9-2 2v11c0 1.1.9 2 2 2h16c1.1 0 2-.9 2-2V9c0-1.1-.9-2-2-2zM10 5h4v2h-4V5zm1 13.5l-1-1 3-3-3-3 1-1 4 4-4 4z"></path></g>
<g id="note-add"><path d="M14 2H6c-1.1 0-1.99.9-1.99 2L4 20c0 1.1.89 2 1.99 2H18c1.1 0 2-.9 2-2V8l-6-6zm2 14h-3v3h-2v-3H8v-2h3v-3h2v3h3v2zm-3-7V3.5L18.5 9H13z"></path></g>
<g id="offline-pin"><path d="M12 2C6.5 2 2 6.5 2 12s4.5 10 10 10 10-4.5 10-10S17.5 2 12 2zm5 16H7v-2h10v2zm-6.7-4L7 10.7l1.4-1.4 1.9 1.9 5.3-5.3L17 7.3 10.3 14z"></path></g>
<g id="opacity"><path d="M17.66 8L12 2.35 6.34 8C4.78 9.56 4 11.64 4 13.64s.78 4.11 2.34 5.67 3.61 2.35 5.66 2.35 4.1-.79 5.66-2.35S20 15.64 20 13.64 19.22 9.56 17.66 8zM6 14c.01-2 .62-3.27 1.76-4.4L12 5.27l4.24 4.38C17.38 10.77 17.99 12 18 14H6z"></path></g>
<g id="open-in-browser"><path d="M19 4H5c-1.11 0-2 .9-2 2v12c0 1.1.89 2 2 2h4v-2H5V8h14v10h-4v2h4c1.1 0 2-.9 2-2V6c0-1.1-.89-2-2-2zm-7 6l-4 4h3v6h2v-6h3l-4-4z"></path></g>
<g id="open-in-new"><path d="M19 19H5V5h7V3H5c-1.11 0-2 .9-2 2v14c0 1.1.89 2 2 2h14c1.1 0 2-.9 2-2v-7h-2v7zM14 3v2h3.59l-9.83 9.83 1.41 1.41L19 6.41V10h2V3h-7z"></path></g>
<g id="open-with"><path d="M10 9h4V6h3l-5-5-5 5h3v3zm-1 1H6V7l-5 5 5 5v-3h3v-4zm14 2l-5-5v3h-3v4h3v3l5-5zm-9 3h-4v3H7l5 5 5-5h-3v-3z"></path></g>
<g id="pageview"><path d="M11.5 9C10.12 9 9 10.12 9 11.5s1.12 2.5 2.5 2.5 2.5-1.12 2.5-2.5S12.88 9 11.5 9zM20 4H4c-1.1 0-2 .9-2 2v12c0 1.1.9 2 2 2h16c1.1 0 2-.9 2-2V6c0-1.1-.9-2-2-2zm-3.21 14.21l-2.91-2.91c-.69.44-1.51.7-2.39.7C9.01 16 7 13.99 7 11.5S9.01 7 11.5 7 16 9.01 16 11.5c0 .88-.26 1.69-.7 2.39l2.91 2.9-1.42 1.42z"></path></g>
<g id="pan-tool"><path d="M23 5.5V20c0 2.2-1.8 4-4 4h-7.3c-1.08 0-2.1-.43-2.85-1.19L1 14.83s1.26-1.23 1.3-1.25c.22-.19.49-.29.79-.29.22 0 .42.06.6.16.04.01 4.31 2.46 4.31 2.46V4c0-.83.67-1.5 1.5-1.5S11 3.17 11 4v7h1V1.5c0-.83.67-1.5 1.5-1.5S15 .67 15 1.5V11h1V2.5c0-.83.67-1.5 1.5-1.5s1.5.67 1.5 1.5V11h1V5.5c0-.83.67-1.5 1.5-1.5s1.5.67 1.5 1.5z"></path></g>
<g id="payment"><path d="M20 4H4c-1.11 0-1.99.89-1.99 2L2 18c0 1.11.89 2 2 2h16c1.11 0 2-.89 2-2V6c0-1.11-.89-2-2-2zm0 14H4v-6h16v6zm0-10H4V6h16v2z"></path></g>
<g id="perm-camera-mic"><path d="M20 5h-3.17L15 3H9L7.17 5H4c-1.1 0-2 .9-2 2v12c0 1.1.9 2 2 2h7v-2.09c-2.83-.48-5-2.94-5-5.91h2c0 2.21 1.79 4 4 4s4-1.79 4-4h2c0 2.97-2.17 5.43-5 5.91V21h7c1.1 0 2-.9 2-2V7c0-1.1-.9-2-2-2zm-6 8c0 1.1-.9 2-2 2s-2-.9-2-2V9c0-1.1.9-2 2-2s2 .9 2 2v4z"></path></g>
<g id="perm-contact-calendar"><path d="M19 3h-1V1h-2v2H8V1H6v2H5c-1.11 0-2 .9-2 2v14c0 1.1.89 2 2 2h14c1.1 0 2-.9 2-2V5c0-1.1-.9-2-2-2zm-7 3c1.66 0 3 1.34 3 3s-1.34 3-3 3-3-1.34-3-3 1.34-3 3-3zm6 12H6v-1c0-2 4-3.1 6-3.1s6 1.1 6 3.1v1z"></path></g>
<g id="perm-data-setting"><path d="M18.99 11.5c.34 0 .67.03 1 .07L20 0 0 20h11.56c-.04-.33-.07-.66-.07-1 0-4.14 3.36-7.5 7.5-7.5zm3.71 7.99c.02-.16.04-.32.04-.49 0-.17-.01-.33-.04-.49l1.06-.83c.09-.08.12-.21.06-.32l-1-1.73c-.06-.11-.19-.15-.31-.11l-1.24.5c-.26-.2-.54-.37-.85-.49l-.19-1.32c-.01-.12-.12-.21-.24-.21h-2c-.12 0-.23.09-.25.21l-.19 1.32c-.3.13-.59.29-.85.49l-1.24-.5c-.11-.04-.24 0-.31.11l-1 1.73c-.06.11-.04.24.06.32l1.06.83c-.02.16-.03.32-.03.49 0 .17.01.33.03.49l-1.06.83c-.09.08-.12.21-.06.32l1 1.73c.06.11.19.15.31.11l1.24-.5c.26.2.54.37.85.49l.19 1.32c.02.12.12.21.25.21h2c.12 0 .23-.09.25-.21l.19-1.32c.3-.13.59-.29.84-.49l1.25.5c.11.04.24 0 .31-.11l1-1.73c.06-.11.03-.24-.06-.32l-1.07-.83zm-3.71 1.01c-.83 0-1.5-.67-1.5-1.5s.67-1.5 1.5-1.5 1.5.67 1.5 1.5-.67 1.5-1.5 1.5z"></path></g>
<g id="perm-device-information"><path d="M13 7h-2v2h2V7zm0 4h-2v6h2v-6zm4-9.99L7 1c-1.1 0-2 .9-2 2v18c0 1.1.9 2 2 2h10c1.1 0 2-.9 2-2V3c0-1.1-.9-1.99-2-1.99zM17 19H7V5h10v14z"></path></g>
<g id="perm-identity"><path d="M12 5.9c1.16 0 2.1.94 2.1 2.1s-.94 2.1-2.1 2.1S9.9 9.16 9.9 8s.94-2.1 2.1-2.1m0 9c2.97 0 6.1 1.46 6.1 2.1v1.1H5.9V17c0-.64 3.13-2.1 6.1-2.1M12 4C9.79 4 8 5.79 8 8s1.79 4 4 4 4-1.79 4-4-1.79-4-4-4zm0 9c-2.67 0-8 1.34-8 4v3h16v-3c0-2.66-5.33-4-8-4z"></path></g>
<g id="perm-media"><path d="M2 6H0v5h.01L0 20c0 1.1.9 2 2 2h18v-2H2V6zm20-2h-8l-2-2H6c-1.1 0-1.99.9-1.99 2L4 16c0 1.1.9 2 2 2h16c1.1 0 2-.9 2-2V6c0-1.1-.9-2-2-2zM7 15l4.5-6 3.5 4.51 2.5-3.01L21 15H7z"></path></g>
<g id="perm-phone-msg"><path d="M20 15.5c-1.25 0-2.45-.2-3.57-.57-.35-.11-.74-.03-1.02.24l-2.2 2.2c-2.83-1.44-5.15-3.75-6.59-6.58l2.2-2.21c.28-.27.36-.66.25-1.01C8.7 6.45 8.5 5.25 8.5 4c0-.55-.45-1-1-1H4c-.55 0-1 .45-1 1 0 9.39 7.61 17 17 17 .55 0 1-.45 1-1v-3.5c0-.55-.45-1-1-1zM12 3v10l3-3h6V3h-9z"></path></g>
<g id="perm-scan-wifi"><path d="M12 3C6.95 3 3.15 4.85 0 7.23L12 22 24 7.25C20.85 4.87 17.05 3 12 3zm1 13h-2v-6h2v6zm-2-8V6h2v2h-2z"></path></g>
<g id="pets"><circle cx="4.5" cy="9.5" r="2.5"></circle><circle cx="9" cy="5.5" r="2.5"></circle><circle cx="15" cy="5.5" r="2.5"></circle><circle cx="19.5" cy="9.5" r="2.5"></circle><path d="M17.34 14.86c-.87-1.02-1.6-1.89-2.48-2.91-.46-.54-1.05-1.08-1.75-1.32-.11-.04-.22-.07-.33-.09-.25-.04-.52-.04-.78-.04s-.53 0-.79.05c-.11.02-.22.05-.33.09-.7.24-1.28.78-1.75 1.32-.87 1.02-1.6 1.89-2.48 2.91-1.31 1.31-2.92 2.76-2.62 4.79.29 1.02 1.02 2.03 2.33 2.32.73.15 3.06-.44 5.54-.44h.18c2.48 0 4.81.58 5.54.44 1.31-.29 2.04-1.31 2.33-2.32.31-2.04-1.3-3.49-2.61-4.8z"></path></g>
<g id="picture-in-picture"><path d="M19 7h-8v6h8V7zm2-4H3c-1.1 0-2 .9-2 2v14c0 1.1.9 1.98 2 1.98h18c1.1 0 2-.88 2-1.98V5c0-1.1-.9-2-2-2zm0 16.01H3V4.98h18v14.03z"></path></g>
<g id="picture-in-picture-alt"><path d="M19 11h-8v6h8v-6zm4 8V4.98C23 3.88 22.1 3 21 3H3c-1.1 0-2 .88-2 1.98V19c0 1.1.9 2 2 2h18c1.1 0 2-.9 2-2zm-2 .02H3V4.97h18v14.05z"></path></g>
<g id="play-for-work"><path d="M11 5v5.59H7.5l4.5 4.5 4.5-4.5H13V5h-2zm-5 9c0 3.31 2.69 6 6 6s6-2.69 6-6h-2c0 2.21-1.79 4-4 4s-4-1.79-4-4H6z"></path></g>
<g id="polymer"><path d="M19 4h-4L7.11 16.63 4.5 12 9 4H5L.5 12 5 20h4l7.89-12.63L19.5 12 15 20h4l4.5-8z"></path></g>
<g id="power-settings-new"><path d="M13 3h-2v10h2V3zm4.83 2.17l-1.42 1.42C17.99 7.86 19 9.81 19 12c0 3.87-3.13 7-7 7s-7-3.13-7-7c0-2.19 1.01-4.14 2.58-5.42L6.17 5.17C4.23 6.82 3 9.26 3 12c0 4.97 4.03 9 9 9s9-4.03 9-9c0-2.74-1.23-5.18-3.17-6.83z"></path></g>
<g id="pregnant-woman"><path d="M9 4c0-1.11.89-2 2-2s2 .89 2 2-.89 2-2 2-2-.89-2-2zm7 9c-.01-1.34-.83-2.51-2-3 0-1.66-1.34-3-3-3s-3 1.34-3 3v7h2v5h3v-5h3v-4z"></path></g>
<g id="print"><path d="M19 8H5c-1.66 0-3 1.34-3 3v6h4v4h12v-4h4v-6c0-1.66-1.34-3-3-3zm-3 11H8v-5h8v5zm3-7c-.55 0-1-.45-1-1s.45-1 1-1 1 .45 1 1-.45 1-1 1zm-1-9H6v4h12V3z"></path></g>
<g id="query-builder"><path d="M11.99 2C6.47 2 2 6.48 2 12s4.47 10 9.99 10C17.52 22 22 17.52 22 12S17.52 2 11.99 2zM12 20c-4.42 0-8-3.58-8-8s3.58-8 8-8 8 3.58 8 8-3.58 8-8 8zm.5-13H11v6l5.25 3.15.75-1.23-4.5-2.67z"></path></g>
<g id="question-answer"><path d="M21 6h-2v9H6v2c0 .55.45 1 1 1h11l4 4V7c0-.55-.45-1-1-1zm-4 6V3c0-.55-.45-1-1-1H3c-.55 0-1 .45-1 1v14l4-4h10c.55 0 1-.45 1-1z"></path></g>
<g id="radio-button-checked"><path d="M12 7c-2.76 0-5 2.24-5 5s2.24 5 5 5 5-2.24 5-5-2.24-5-5-5zm0-5C6.48 2 2 6.48 2 12s4.48 10 10 10 10-4.48 10-10S17.52 2 12 2zm0 18c-4.42 0-8-3.58-8-8s3.58-8 8-8 8 3.58 8 8-3.58 8-8 8z"></path></g>
<g id="radio-button-unchecked"><path d="M12 2C6.48 2 2 6.48 2 12s4.48 10 10 10 10-4.48 10-10S17.52 2 12 2zm0 18c-4.42 0-8-3.58-8-8s3.58-8 8-8 8 3.58 8 8-3.58 8-8 8z"></path></g>
<g id="receipt"><path d="M18 17H6v-2h12v2zm0-4H6v-2h12v2zm0-4H6V7h12v2zM3 22l1.5-1.5L6 22l1.5-1.5L9 22l1.5-1.5L12 22l1.5-1.5L15 22l1.5-1.5L18 22l1.5-1.5L21 22V2l-1.5 1.5L18 2l-1.5 1.5L15 2l-1.5 1.5L12 2l-1.5 1.5L9 2 7.5 3.5 6 2 4.5 3.5 3 2v20z"></path></g>
<g id="record-voice-over"><circle cx="9" cy="9" r="4"></circle><path d="M9 15c-2.67 0-8 1.34-8 4v2h16v-2c0-2.66-5.33-4-8-4zm7.76-9.64l-1.68 1.69c.84 1.18.84 2.71 0 3.89l1.68 1.69c2.02-2.02 2.02-5.07 0-7.27zM20.07 2l-1.63 1.63c2.77 3.02 2.77 7.56 0 10.74L20.07 16c3.9-3.89 3.91-9.95 0-14z"></path></g>
<g id="redeem"><path d="M20 6h-2.18c.11-.31.18-.65.18-1 0-1.66-1.34-3-3-3-1.05 0-1.96.54-2.5 1.35l-.5.67-.5-.68C10.96 2.54 10.05 2 9 2 7.34 2 6 3.34 6 5c0 .35.07.69.18 1H4c-1.11 0-1.99.89-1.99 2L2 19c0 1.11.89 2 2 2h16c1.11 0 2-.89 2-2V8c0-1.11-.89-2-2-2zm-5-2c.55 0 1 .45 1 1s-.45 1-1 1-1-.45-1-1 .45-1 1-1zM9 4c.55 0 1 .45 1 1s-.45 1-1 1-1-.45-1-1 .45-1 1-1zm11 15H4v-2h16v2zm0-5H4V8h5.08L7 10.83 8.62 12 11 8.76l1-1.36 1 1.36L15.38 12 17 10.83 14.92 8H20v6z"></path></g>
<g id="redo"><path d="M18.4 10.6C16.55 8.99 14.15 8 11.5 8c-4.65 0-8.58 3.03-9.96 7.22L3.9 16c1.05-3.19 4.05-5.5 7.6-5.5 1.95 0 3.73.72 5.12 1.88L13 16h9V7l-3.6 3.6z"></path></g>
<g id="refresh"><path d="M17.65 6.35C16.2 4.9 14.21 4 12 4c-4.42 0-7.99 3.58-7.99 8s3.57 8 7.99 8c3.73 0 6.84-2.55 7.73-6h-2.08c-.82 2.33-3.04 4-5.65 4-3.31 0-6-2.69-6-6s2.69-6 6-6c1.66 0 3.14.69 4.22 1.78L13 11h7V4l-2.35 2.35z"></path></g>
<g id="remove"><path d="M19 13H5v-2h14v2z"></path></g>
<g id="remove-circle"><path d="M12 2C6.48 2 2 6.48 2 12s4.48 10 10 10 10-4.48 10-10S17.52 2 12 2zm5 11H7v-2h10v2z"></path></g>
<g id="remove-circle-outline"><path d="M7 11v2h10v-2H7zm5-9C6.48 2 2 6.48 2 12s4.48 10 10 10 10-4.48 10-10S17.52 2 12 2zm0 18c-4.41 0-8-3.59-8-8s3.59-8 8-8 8 3.59 8 8-3.59 8-8 8z"></path></g>
<g id="remove-shopping-cart"><path d="M22.73 22.73L2.77 2.77 2 2l-.73-.73L0 2.54l4.39 4.39 2.21 4.66-1.35 2.45c-.16.28-.25.61-.25.96 0 1.1.9 2 2 2h7.46l1.38 1.38c-.5.36-.83.95-.83 1.62 0 1.1.89 2 1.99 2 .67 0 1.26-.33 1.62-.84L21.46 24l1.27-1.27zM7.42 15c-.14 0-.25-.11-.25-.25l.03-.12.9-1.63h2.36l2 2H7.42zm8.13-2c.75 0 1.41-.41 1.75-1.03l3.58-6.49c.08-.14.12-.31.12-.48 0-.55-.45-1-1-1H6.54l9.01 9zM7 18c-1.1 0-1.99.9-1.99 2S5.9 22 7 22s2-.9 2-2-.9-2-2-2z"></path></g>
<g id="reorder"><path d="M3 15h18v-2H3v2zm0 4h18v-2H3v2zm0-8h18V9H3v2zm0-6v2h18V5H3z"></path></g>
<g id="reply"><path d="M10 9V5l-7 7 7 7v-4.1c5 0 8.5 1.6 11 5.1-1-5-4-10-11-11z"></path></g>
<g id="reply-all"><path d="M7 8V5l-7 7 7 7v-3l-4-4 4-4zm6 1V5l-7 7 7 7v-4.1c5 0 8.5 1.6 11 5.1-1-5-4-10-11-11z"></path></g>
<g id="report"><path d="M15.73 3H8.27L3 8.27v7.46L8.27 21h7.46L21 15.73V8.27L15.73 3zM12 17.3c-.72 0-1.3-.58-1.3-1.3 0-.72.58-1.3 1.3-1.3.72 0 1.3.58 1.3 1.3 0 .72-.58 1.3-1.3 1.3zm1-4.3h-2V7h2v6z"></path></g>
<g id="report-problem"><path d="M1 21h22L12 2 1 21zm12-3h-2v-2h2v2zm0-4h-2v-4h2v4z"></path></g>
<g id="restore"><path d="M13 3c-4.97 0-9 4.03-9 9H1l3.89 3.89.07.14L9 12H6c0-3.87 3.13-7 7-7s7 3.13 7 7-3.13 7-7 7c-1.93 0-3.68-.79-4.94-2.06l-1.42 1.42C8.27 19.99 10.51 21 13 21c4.97 0 9-4.03 9-9s-4.03-9-9-9zm-1 5v5l4.28 2.54.72-1.21-3.5-2.08V8H12z"></path></g>
<g id="restore-page"><path d="M14 2H6c-1.1 0-1.99.9-1.99 2L4 20c0 1.1.89 2 1.99 2H18c1.1 0 2-.9 2-2V8l-6-6zm-2 16c-2.05 0-3.81-1.24-4.58-3h1.71c.63.9 1.68 1.5 2.87 1.5 1.93 0 3.5-1.57 3.5-3.5S13.93 9.5 12 9.5c-1.35 0-2.52.78-3.1 1.9l1.6 1.6h-4V9l1.3 1.3C8.69 8.92 10.23 8 12 8c2.76 0 5 2.24 5 5s-2.24 5-5 5z"></path></g>
<g id="room"><path d="M12 2C8.13 2 5 5.13 5 9c0 5.25 7 13 7 13s7-7.75 7-13c0-3.87-3.13-7-7-7zm0 9.5c-1.38 0-2.5-1.12-2.5-2.5s1.12-2.5 2.5-2.5 2.5 1.12 2.5 2.5-1.12 2.5-2.5 2.5z"></path></g>
<g id="rounded-corner"><path d="M19 19h2v2h-2v-2zm0-2h2v-2h-2v2zM3 13h2v-2H3v2zm0 4h2v-2H3v2zm0-8h2V7H3v2zm0-4h2V3H3v2zm4 0h2V3H7v2zm8 16h2v-2h-2v2zm-4 0h2v-2h-2v2zm4 0h2v-2h-2v2zm-8 0h2v-2H7v2zm-4 0h2v-2H3v2zM21 8c0-2.76-2.24-5-5-5h-5v2h5c1.65 0 3 1.35 3 3v5h2V8z"></path></g>
<g id="rowing"><path d="M8.5 14.5L4 19l1.5 1.5L9 17h2l-2.5-2.5zM15 1c-1.1 0-2 .9-2 2s.9 2 2 2 2-.9 2-2-.9-2-2-2zm6 20.01L18 24l-2.99-3.01V19.5l-7.1-7.09c-.31.05-.61.07-.91.07v-2.16c1.66.03 3.61-.87 4.67-2.04l1.4-1.55c.19-.21.43-.38.69-.5.29-.14.62-.23.96-.23h.03C15.99 6.01 17 7.02 17 8.26v5.75c0 .84-.35 1.61-.92 2.16l-3.58-3.58v-2.27c-.63.52-1.43 1.02-2.29 1.39L16.5 18H18l3 3.01z"></path></g>
<g id="save"><path d="M17 3H5c-1.11 0-2 .9-2 2v14c0 1.1.89 2 2 2h14c1.1 0 2-.9 2-2V7l-4-4zm-5 16c-1.66 0-3-1.34-3-3s1.34-3 3-3 3 1.34 3 3-1.34 3-3 3zm3-10H5V5h10v4z"></path></g>
<g id="schedule"><path d="M11.99 2C6.47 2 2 6.48 2 12s4.47 10 9.99 10C17.52 22 22 17.52 22 12S17.52 2 11.99 2zM12 20c-4.42 0-8-3.58-8-8s3.58-8 8-8 8 3.58 8 8-3.58 8-8 8zm.5-13H11v6l5.25 3.15.75-1.23-4.5-2.67z"></path></g>
<g id="search"><path d="M15.5 14h-.79l-.28-.27C15.41 12.59 16 11.11 16 9.5 16 5.91 13.09 3 9.5 3S3 5.91 3 9.5 5.91 16 9.5 16c1.61 0 3.09-.59 4.23-1.57l.27.28v.79l5 4.99L20.49 19l-4.99-5zm-6 0C7.01 14 5 11.99 5 9.5S7.01 5 9.5 5 14 7.01 14 9.5 11.99 14 9.5 14z"></path></g>
<g id="select-all"><path d="M3 5h2V3c-1.1 0-2 .9-2 2zm0 8h2v-2H3v2zm4 8h2v-2H7v2zM3 9h2V7H3v2zm10-6h-2v2h2V3zm6 0v2h2c0-1.1-.9-2-2-2zM5 21v-2H3c0 1.1.9 2 2 2zm-2-4h2v-2H3v2zM9 3H7v2h2V3zm2 18h2v-2h-2v2zm8-8h2v-2h-2v2zm0 8c1.1 0 2-.9 2-2h-2v2zm0-12h2V7h-2v2zm0 8h2v-2h-2v2zm-4 4h2v-2h-2v2zm0-16h2V3h-2v2zM7 17h10V7H7v10zm2-8h6v6H9V9z"></path></g>
<g id="send"><path d="M2.01 21L23 12 2.01 3 2 10l15 2-15 2z"></path></g>
<g id="settings"><path d="M19.43 12.98c.04-.32.07-.64.07-.98s-.03-.66-.07-.98l2.11-1.65c.19-.15.24-.42.12-.64l-2-3.46c-.12-.22-.39-.3-.61-.22l-2.49 1c-.52-.4-1.08-.73-1.69-.98l-.38-2.65C14.46 2.18 14.25 2 14 2h-4c-.25 0-.46.18-.49.42l-.38 2.65c-.61.25-1.17.59-1.69.98l-2.49-1c-.23-.09-.49 0-.61.22l-2 3.46c-.13.22-.07.49.12.64l2.11 1.65c-.04.32-.07.65-.07.98s.03.66.07.98l-2.11 1.65c-.19.15-.24.42-.12.64l2 3.46c.12.22.39.3.61.22l2.49-1c.52.4 1.08.73 1.69.98l.38 2.65c.03.24.24.42.49.42h4c.25 0 .46-.18.49-.42l.38-2.65c.61-.25 1.17-.59 1.69-.98l2.49 1c.23.09.49 0 .61-.22l2-3.46c.12-.22.07-.49-.12-.64l-2.11-1.65zM12 15.5c-1.93 0-3.5-1.57-3.5-3.5s1.57-3.5 3.5-3.5 3.5 1.57 3.5 3.5-1.57 3.5-3.5 3.5z"></path></g>
<g id="settings-applications"><path d="M12 10c-1.1 0-2 .9-2 2s.9 2 2 2 2-.9 2-2-.9-2-2-2zm7-7H5c-1.11 0-2 .9-2 2v14c0 1.1.89 2 2 2h14c1.11 0 2-.9 2-2V5c0-1.1-.89-2-2-2zm-1.75 9c0 .23-.02.46-.05.68l1.48 1.16c.13.11.17.3.08.45l-1.4 2.42c-.09.15-.27.21-.43.15l-1.74-.7c-.36.28-.76.51-1.18.69l-.26 1.85c-.03.17-.18.3-.35.3h-2.8c-.17 0-.32-.13-.35-.29l-.26-1.85c-.43-.18-.82-.41-1.18-.69l-1.74.7c-.16.06-.34 0-.43-.15l-1.4-2.42c-.09-.15-.05-.34.08-.45l1.48-1.16c-.03-.23-.05-.46-.05-.69 0-.23.02-.46.05-.68l-1.48-1.16c-.13-.11-.17-.3-.08-.45l1.4-2.42c.09-.15.27-.21.43-.15l1.74.7c.36-.28.76-.51 1.18-.69l.26-1.85c.03-.17.18-.3.35-.3h2.8c.17 0 .32.13.35.29l.26 1.85c.43.18.82.41 1.18.69l1.74-.7c.16-.06.34 0 .43.15l1.4 2.42c.09.15.05.34-.08.45l-1.48 1.16c.03.23.05.46.05.69z"></path></g>
<g id="settings-backup-restore"><path d="M14 12c0-1.1-.9-2-2-2s-2 .9-2 2 .9 2 2 2 2-.9 2-2zm-2-9c-4.97 0-9 4.03-9 9H0l4 4 4-4H5c0-3.87 3.13-7 7-7s7 3.13 7 7-3.13 7-7 7c-1.51 0-2.91-.49-4.06-1.3l-1.42 1.44C8.04 20.3 9.94 21 12 21c4.97 0 9-4.03 9-9s-4.03-9-9-9z"></path></g>
<g id="settings-bluetooth"><path d="M11 24h2v-2h-2v2zm-4 0h2v-2H7v2zm8 0h2v-2h-2v2zm2.71-18.29L12 0h-1v7.59L6.41 3 5 4.41 10.59 10 5 15.59 6.41 17 11 12.41V20h1l5.71-5.71-4.3-4.29 4.3-4.29zM13 3.83l1.88 1.88L13 7.59V3.83zm1.88 10.46L13 16.17v-3.76l1.88 1.88z"></path></g>
<g id="settings-brightness"><path d="M21 3H3c-1.1 0-2 .9-2 2v14c0 1.1.9 2 2 2h18c1.1 0 2-.9 2-2V5c0-1.1-.9-2-2-2zm0 16.01H3V4.99h18v14.02zM8 16h2.5l1.5 1.5 1.5-1.5H16v-2.5l1.5-1.5-1.5-1.5V8h-2.5L12 6.5 10.5 8H8v2.5L6.5 12 8 13.5V16zm4-7c1.66 0 3 1.34 3 3s-1.34 3-3 3V9z"></path></g>
<g id="settings-cell"><path d="M7 24h2v-2H7v2zm4 0h2v-2h-2v2zm4 0h2v-2h-2v2zM16 .01L8 0C6.9 0 6 .9 6 2v16c0 1.1.9 2 2 2h8c1.1 0 2-.9 2-2V2c0-1.1-.9-1.99-2-1.99zM16 16H8V4h8v12z"></path></g>
<g id="settings-ethernet"><path d="M7.77 6.76L6.23 5.48.82 12l5.41 6.52 1.54-1.28L3.42 12l4.35-5.24zM7 13h2v-2H7v2zm10-2h-2v2h2v-2zm-6 2h2v-2h-2v2zm6.77-7.52l-1.54 1.28L20.58 12l-4.35 5.24 1.54 1.28L23.18 12l-5.41-6.52z"></path></g>
<g id="settings-input-antenna"><path d="M12 5c-3.87 0-7 3.13-7 7h2c0-2.76 2.24-5 5-5s5 2.24 5 5h2c0-3.87-3.13-7-7-7zm1 9.29c.88-.39 1.5-1.26 1.5-2.29 0-1.38-1.12-2.5-2.5-2.5S9.5 10.62 9.5 12c0 1.02.62 1.9 1.5 2.29v3.3L7.59 21 9 22.41l3-3 3 3L16.41 21 13 17.59v-3.3zM12 1C5.93 1 1 5.93 1 12h2c0-4.97 4.03-9 9-9s9 4.03 9 9h2c0-6.07-4.93-11-11-11z"></path></g>
<g id="settings-input-component"><path d="M5 2c0-.55-.45-1-1-1s-1 .45-1 1v4H1v6h6V6H5V2zm4 14c0 1.3.84 2.4 2 2.82V23h2v-4.18c1.16-.41 2-1.51 2-2.82v-2H9v2zm-8 0c0 1.3.84 2.4 2 2.82V23h2v-4.18C6.16 18.4 7 17.3 7 16v-2H1v2zM21 6V2c0-.55-.45-1-1-1s-1 .45-1 1v4h-2v6h6V6h-2zm-8-4c0-.55-.45-1-1-1s-1 .45-1 1v4H9v6h6V6h-2V2zm4 14c0 1.3.84 2.4 2 2.82V23h2v-4.18c1.16-.41 2-1.51 2-2.82v-2h-6v2z"></path></g>
<g id="settings-input-composite"><path d="M5 2c0-.55-.45-1-1-1s-1 .45-1 1v4H1v6h6V6H5V2zm4 14c0 1.3.84 2.4 2 2.82V23h2v-4.18c1.16-.41 2-1.51 2-2.82v-2H9v2zm-8 0c0 1.3.84 2.4 2 2.82V23h2v-4.18C6.16 18.4 7 17.3 7 16v-2H1v2zM21 6V2c0-.55-.45-1-1-1s-1 .45-1 1v4h-2v6h6V6h-2zm-8-4c0-.55-.45-1-1-1s-1 .45-1 1v4H9v6h6V6h-2V2zm4 14c0 1.3.84 2.4 2 2.82V23h2v-4.18c1.16-.41 2-1.51 2-2.82v-2h-6v2z"></path></g>
<g id="settings-input-hdmi"><path d="M18 7V4c0-1.1-.9-2-2-2H8c-1.1 0-2 .9-2 2v3H5v6l3 6v3h8v-3l3-6V7h-1zM8 4h8v3h-2V5h-1v2h-2V5h-1v2H8V4z"></path></g>
<g id="settings-input-svideo"><path d="M8 11.5c0-.83-.67-1.5-1.5-1.5S5 10.67 5 11.5 5.67 13 6.5 13 8 12.33 8 11.5zm7-5c0-.83-.67-1.5-1.5-1.5h-3C9.67 5 9 5.67 9 6.5S9.67 8 10.5 8h3c.83 0 1.5-.67 1.5-1.5zM8.5 15c-.83 0-1.5.67-1.5 1.5S7.67 18 8.5 18s1.5-.67 1.5-1.5S9.33 15 8.5 15zM12 1C5.93 1 1 5.93 1 12s4.93 11 11 11 11-4.93 11-11S18.07 1 12 1zm0 20c-4.96 0-9-4.04-9-9s4.04-9 9-9 9 4.04 9 9-4.04 9-9 9zm5.5-11c-.83 0-1.5.67-1.5 1.5s.67 1.5 1.5 1.5 1.5-.67 1.5-1.5-.67-1.5-1.5-1.5zm-2 5c-.83 0-1.5.67-1.5 1.5s.67 1.5 1.5 1.5 1.5-.67 1.5-1.5-.67-1.5-1.5-1.5z"></path></g>
<g id="settings-overscan"><path d="M12.01 5.5L10 8h4l-1.99-2.5zM18 10v4l2.5-1.99L18 10zM6 10l-2.5 2.01L6 14v-4zm8 6h-4l2.01 2.5L14 16zm7-13H3c-1.1 0-2 .9-2 2v14c0 1.1.9 2 2 2h18c1.1 0 2-.9 2-2V5c0-1.1-.9-2-2-2zm0 16.01H3V4.99h18v14.02z"></path></g>
<g id="settings-phone"><path d="M13 9h-2v2h2V9zm4 0h-2v2h2V9zm3 6.5c-1.25 0-2.45-.2-3.57-.57-.35-.11-.74-.03-1.02.24l-2.2 2.2c-2.83-1.44-5.15-3.75-6.59-6.58l2.2-2.21c.28-.27.36-.66.25-1.01C8.7 6.45 8.5 5.25 8.5 4c0-.55-.45-1-1-1H4c-.55 0-1 .45-1 1 0 9.39 7.61 17 17 17 .55 0 1-.45 1-1v-3.5c0-.55-.45-1-1-1zM19 9v2h2V9h-2z"></path></g>
<g id="settings-power"><path d="M7 24h2v-2H7v2zm4 0h2v-2h-2v2zm2-22h-2v10h2V2zm3.56 2.44l-1.45 1.45C16.84 6.94 18 8.83 18 11c0 3.31-2.69 6-6 6s-6-2.69-6-6c0-2.17 1.16-4.06 2.88-5.12L7.44 4.44C5.36 5.88 4 8.28 4 11c0 4.42 3.58 8 8 8s8-3.58 8-8c0-2.72-1.36-5.12-3.44-6.56zM15 24h2v-2h-2v2z"></path></g>
<g id="settings-remote"><path d="M15 9H9c-.55 0-1 .45-1 1v12c0 .55.45 1 1 1h6c.55 0 1-.45 1-1V10c0-.55-.45-1-1-1zm-3 6c-1.1 0-2-.9-2-2s.9-2 2-2 2 .9 2 2-.9 2-2 2zM7.05 6.05l1.41 1.41C9.37 6.56 10.62 6 12 6s2.63.56 3.54 1.46l1.41-1.41C15.68 4.78 13.93 4 12 4s-3.68.78-4.95 2.05zM12 0C8.96 0 6.21 1.23 4.22 3.22l1.41 1.41C7.26 3.01 9.51 2 12 2s4.74 1.01 6.36 2.64l1.41-1.41C17.79 1.23 15.04 0 12 0z"></path></g>
<g id="settings-voice"><path d="M7 24h2v-2H7v2zm5-11c1.66 0 2.99-1.34 2.99-3L15 4c0-1.66-1.34-3-3-3S9 2.34 9 4v6c0 1.66 1.34 3 3 3zm-1 11h2v-2h-2v2zm4 0h2v-2h-2v2zm4-14h-1.7c0 3-2.54 5.1-5.3 5.1S6.7 13 6.7 10H5c0 3.41 2.72 6.23 6 6.72V20h2v-3.28c3.28-.49 6-3.31 6-6.72z"></path></g>
<g id="shop"><path d="M16 6V4c0-1.11-.89-2-2-2h-4c-1.11 0-2 .89-2 2v2H2v13c0 1.11.89 2 2 2h16c1.11 0 2-.89 2-2V6h-6zm-6-2h4v2h-4V4zM9 18V9l7.5 4L9 18z"></path></g>
<g id="shop-two"><path d="M3 9H1v11c0 1.11.89 2 2 2h14c1.11 0 2-.89 2-2H3V9zm15-4V3c0-1.11-.89-2-2-2h-4c-1.11 0-2 .89-2 2v2H5v11c0 1.11.89 2 2 2h14c1.11 0 2-.89 2-2V5h-5zm-6-2h4v2h-4V3zm0 12V8l5.5 3-5.5 4z"></path></g>
<g id="shopping-basket"><path d="M17.21 9l-4.38-6.56c-.19-.28-.51-.42-.83-.42-.32 0-.64.14-.83.43L6.79 9H2c-.55 0-1 .45-1 1 0 .09.01.18.04.27l2.54 9.27c.23.84 1 1.46 1.92 1.46h13c.92 0 1.69-.62 1.93-1.46l2.54-9.27L23 10c0-.55-.45-1-1-1h-4.79zM9 9l3-4.4L15 9H9zm3 8c-1.1 0-2-.9-2-2s.9-2 2-2 2 .9 2 2-.9 2-2 2z"></path></g>
<g id="shopping-cart"><path d="M7 18c-1.1 0-1.99.9-1.99 2S5.9 22 7 22s2-.9 2-2-.9-2-2-2zM1 2v2h2l3.6 7.59-1.35 2.45c-.16.28-.25.61-.25.96 0 1.1.9 2 2 2h12v-2H7.42c-.14 0-.25-.11-.25-.25l.03-.12.9-1.63h7.45c.75 0 1.41-.41 1.75-1.03l3.58-6.49c.08-.14.12-.31.12-.48 0-.55-.45-1-1-1H5.21l-.94-2H1zm16 16c-1.1 0-1.99.9-1.99 2s.89 2 1.99 2 2-.9 2-2-.9-2-2-2z"></path></g>
<g id="sort"><path d="M3 18h6v-2H3v2zM3 6v2h18V6H3zm0 7h12v-2H3v2z"></path></g>
<g id="speaker-notes"><path d="M20 2H4c-1.1 0-1.99.9-1.99 2L2 22l4-4h14c1.1 0 2-.9 2-2V4c0-1.1-.9-2-2-2zM8 14H6v-2h2v2zm0-3H6V9h2v2zm0-3H6V6h2v2zm7 6h-5v-2h5v2zm3-3h-8V9h8v2zm0-3h-8V6h8v2z"></path></g>
<g id="speaker-notes-off"><path d="M10.54 11l-.54-.54L7.54 8 6 6.46 2.38 2.84 1.27 1.73 0 3l2.01 2.01L2 22l4-4h9l5.73 5.73L22 22.46 17.54 18l-7-7zM8 14H6v-2h2v2zm-2-3V9l2 2H6zm14-9H4.08L10 7.92V6h8v2h-7.92l1 1H18v2h-4.92l6.99 6.99C21.14 17.95 22 17.08 22 16V4c0-1.1-.9-2-2-2z"></path></g>
<g id="spellcheck"><path d="M12.45 16h2.09L9.43 3H7.57L2.46 16h2.09l1.12-3h5.64l1.14 3zm-6.02-5L8.5 5.48 10.57 11H6.43zm15.16.59l-8.09 8.09L9.83 16l-1.41 1.41 5.09 5.09L23 13l-1.41-1.41z"></path></g>
<g id="star"><path d="M12 17.27L18.18 21l-1.64-7.03L22 9.24l-7.19-.61L12 2 9.19 8.63 2 9.24l5.46 4.73L5.82 21z"></path></g>
<g id="star-border"><path d="M22 9.24l-7.19-.62L12 2 9.19 8.63 2 9.24l5.46 4.73L5.82 21 12 17.27 18.18 21l-1.63-7.03L22 9.24zM12 15.4l-3.76 2.27 1-4.28-3.32-2.88 4.38-.38L12 6.1l1.71 4.04 4.38.38-3.32 2.88 1 4.28L12 15.4z"></path></g>
<g id="star-half"><path d="M22 9.24l-7.19-.62L12 2 9.19 8.63 2 9.24l5.46 4.73L5.82 21 12 17.27 18.18 21l-1.63-7.03L22 9.24zM12 15.4V6.1l1.71 4.04 4.38.38-3.32 2.88 1 4.28L12 15.4z"></path></g>
<g id="stars"><path d="M11.99 2C6.47 2 2 6.48 2 12s4.47 10 9.99 10C17.52 22 22 17.52 22 12S17.52 2 11.99 2zm4.24 16L12 15.45 7.77 18l1.12-4.81-3.73-3.23 4.92-.42L12 5l1.92 4.53 4.92.42-3.73 3.23L16.23 18z"></path></g>
<g id="store"><path d="M20 4H4v2h16V4zm1 10v-2l-1-5H4l-1 5v2h1v6h10v-6h4v6h2v-6h1zm-9 4H6v-4h6v4z"></path></g>
<g id="subdirectory-arrow-left"><path d="M11 9l1.42 1.42L8.83 14H18V4h2v12H8.83l3.59 3.58L11 21l-6-6 6-6z"></path></g>
<g id="subdirectory-arrow-right"><path d="M19 15l-6 6-1.42-1.42L15.17 16H4V4h2v10h9.17l-3.59-3.58L13 9l6 6z"></path></g>
<g id="subject"><path d="M14 17H4v2h10v-2zm6-8H4v2h16V9zM4 15h16v-2H4v2zM4 5v2h16V5H4z"></path></g>
<g id="supervisor-account"><path d="M16.5 12c1.38 0 2.49-1.12 2.49-2.5S17.88 7 16.5 7C15.12 7 14 8.12 14 9.5s1.12 2.5 2.5 2.5zM9 11c1.66 0 2.99-1.34 2.99-3S10.66 5 9 5C7.34 5 6 6.34 6 8s1.34 3 3 3zm7.5 3c-1.83 0-5.5.92-5.5 2.75V19h11v-2.25c0-1.83-3.67-2.75-5.5-2.75zM9 13c-2.33 0-7 1.17-7 3.5V19h7v-2.25c0-.85.33-2.34 2.37-3.47C10.5 13.1 9.66 13 9 13z"></path></g>
<g id="swap-horiz"><path d="M6.99 11L3 15l3.99 4v-3H14v-2H6.99v-3zM21 9l-3.99-4v3H10v2h7.01v3L21 9z"></path></g>
<g id="swap-vert"><path d="M16 17.01V10h-2v7.01h-3L15 21l4-3.99h-3zM9 3L5 6.99h3V14h2V6.99h3L9 3z"></path></g>
<g id="swap-vertical-circle"><path d="M12 2C6.48 2 2 6.48 2 12s4.48 10 10 10 10-4.48 10-10S17.52 2 12 2zM6.5 9L10 5.5 13.5 9H11v4H9V9H6.5zm11 6L14 18.5 10.5 15H13v-4h2v4h2.5z"></path></g>
<g id="system-update-alt"><path d="M12 16.5l4-4h-3v-9h-2v9H8l4 4zm9-13h-6v1.99h6v14.03H3V5.49h6V3.5H3c-1.1 0-2 .9-2 2v14c0 1.1.9 2 2 2h18c1.1 0 2-.9 2-2v-14c0-1.1-.9-2-2-2z"></path></g>
<g id="tab"><path d="M21 3H3c-1.1 0-2 .9-2 2v14c0 1.1.9 2 2 2h18c1.1 0 2-.9 2-2V5c0-1.1-.9-2-2-2zm0 16H3V5h10v4h8v10z"></path></g>
<g id="tab-unselected"><path d="M1 9h2V7H1v2zm0 4h2v-2H1v2zm0-8h2V3c-1.1 0-2 .9-2 2zm8 16h2v-2H9v2zm-8-4h2v-2H1v2zm2 4v-2H1c0 1.1.9 2 2 2zM21 3h-8v6h10V5c0-1.1-.9-2-2-2zm0 14h2v-2h-2v2zM9 5h2V3H9v2zM5 21h2v-2H5v2zM5 5h2V3H5v2zm16 16c1.1 0 2-.9 2-2h-2v2zm0-8h2v-2h-2v2zm-8 8h2v-2h-2v2zm4 0h2v-2h-2v2z"></path></g>
<g id="text-format"><path d="M5 17v2h14v-2H5zm4.5-4.2h5l.9 2.2h2.1L12.75 4h-1.5L6.5 15h2.1l.9-2.2zM12 5.98L13.87 11h-3.74L12 5.98z"></path></g>
<g id="theaters"><path d="M18 3v2h-2V3H8v2H6V3H4v18h2v-2h2v2h8v-2h2v2h2V3h-2zM8 17H6v-2h2v2zm0-4H6v-2h2v2zm0-4H6V7h2v2zm10 8h-2v-2h2v2zm0-4h-2v-2h2v2zm0-4h-2V7h2v2z"></path></g>
<g id="thumb-down"><path d="M15 3H6c-.83 0-1.54.5-1.84 1.22l-3.02 7.05c-.09.23-.14.47-.14.73v1.91l.01.01L1 14c0 1.1.9 2 2 2h6.31l-.95 4.57-.03.32c0 .41.17.79.44 1.06L9.83 23l6.59-6.59c.36-.36.58-.86.58-1.41V5c0-1.1-.9-2-2-2zm4 0v12h4V3h-4z"></path></g>
<g id="thumb-up"><path d="M1 21h4V9H1v12zm22-11c0-1.1-.9-2-2-2h-6.31l.95-4.57.03-.32c0-.41-.17-.79-.44-1.06L14.17 1 7.59 7.59C7.22 7.95 7 8.45 7 9v10c0 1.1.9 2 2 2h9c.83 0 1.54-.5 1.84-1.22l3.02-7.05c.09-.23.14-.47.14-.73v-1.91l-.01-.01L23 10z"></path></g>
<g id="thumbs-up-down"><path d="M12 6c0-.55-.45-1-1-1H5.82l.66-3.18.02-.23c0-.31-.13-.59-.33-.8L5.38 0 .44 4.94C.17 5.21 0 5.59 0 6v6.5c0 .83.67 1.5 1.5 1.5h6.75c.62 0 1.15-.38 1.38-.91l2.26-5.29c.07-.17.11-.36.11-.55V6zm10.5 4h-6.75c-.62 0-1.15.38-1.38.91l-2.26 5.29c-.07.17-.11.36-.11.55V18c0 .55.45 1 1 1h5.18l-.66 3.18-.02.24c0 .31.13.59.33.8l.79.78 4.94-4.94c.27-.27.44-.65.44-1.06v-6.5c0-.83-.67-1.5-1.5-1.5z"></path></g>
<g id="timeline"><path d="M23 8c0 1.1-.9 2-2 2-.18 0-.35-.02-.51-.07l-3.56 3.55c.05.16.07.34.07.52 0 1.1-.9 2-2 2s-2-.9-2-2c0-.18.02-.36.07-.52l-2.55-2.55c-.16.05-.34.07-.52.07s-.36-.02-.52-.07l-4.55 4.56c.05.16.07.33.07.51 0 1.1-.9 2-2 2s-2-.9-2-2 .9-2 2-2c.18 0 .35.02.51.07l4.56-4.55C8.02 9.36 8 9.18 8 9c0-1.1.9-2 2-2s2 .9 2 2c0 .18-.02.36-.07.52l2.55 2.55c.16-.05.34-.07.52-.07s.36.02.52.07l3.55-3.56C19.02 8.35 19 8.18 19 8c0-1.1.9-2 2-2s2 .9 2 2z"></path></g>
<g id="toc"><path d="M3 9h14V7H3v2zm0 4h14v-2H3v2zm0 4h14v-2H3v2zm16 0h2v-2h-2v2zm0-10v2h2V7h-2zm0 6h2v-2h-2v2z"></path></g>
<g id="today"><path d="M19 3h-1V1h-2v2H8V1H6v2H5c-1.11 0-1.99.9-1.99 2L3 19c0 1.1.89 2 2 2h14c1.1 0 2-.9 2-2V5c0-1.1-.9-2-2-2zm0 16H5V8h14v11zM7 10h5v5H7z"></path></g>
<g id="toll"><path d="M15 4c-4.42 0-8 3.58-8 8s3.58 8 8 8 8-3.58 8-8-3.58-8-8-8zm0 14c-3.31 0-6-2.69-6-6s2.69-6 6-6 6 2.69 6 6-2.69 6-6 6zM3 12c0-2.61 1.67-4.83 4-5.65V4.26C3.55 5.15 1 8.27 1 12s2.55 6.85 6 7.74v-2.09c-2.33-.82-4-3.04-4-5.65z"></path></g>
<g id="touch-app"><path d="M9 11.24V7.5C9 6.12 10.12 5 11.5 5S14 6.12 14 7.5v3.74c1.21-.81 2-2.18 2-3.74C16 5.01 13.99 3 11.5 3S7 5.01 7 7.5c0 1.56.79 2.93 2 3.74zm9.84 4.63l-4.54-2.26c-.17-.07-.35-.11-.54-.11H13v-6c0-.83-.67-1.5-1.5-1.5S10 6.67 10 7.5v10.74l-3.43-.72c-.08-.01-.15-.03-.24-.03-.31 0-.59.13-.79.33l-.79.8 4.94 4.94c.27.27.65.44 1.06.44h6.79c.75 0 1.33-.55 1.44-1.28l.75-5.27c.01-.07.02-.14.02-.2 0-.62-.38-1.16-.91-1.38z"></path></g>
<g id="track-changes"><path d="M19.07 4.93l-1.41 1.41C19.1 7.79 20 9.79 20 12c0 4.42-3.58 8-8 8s-8-3.58-8-8c0-4.08 3.05-7.44 7-7.93v2.02C8.16 6.57 6 9.03 6 12c0 3.31 2.69 6 6 6s6-2.69 6-6c0-1.66-.67-3.16-1.76-4.24l-1.41 1.41C15.55 9.9 16 10.9 16 12c0 2.21-1.79 4-4 4s-4-1.79-4-4c0-1.86 1.28-3.41 3-3.86v2.14c-.6.35-1 .98-1 1.72 0 1.1.9 2 2 2s2-.9 2-2c0-.74-.4-1.38-1-1.72V2h-1C6.48 2 2 6.48 2 12s4.48 10 10 10 10-4.48 10-10c0-2.76-1.12-5.26-2.93-7.07z"></path></g>
<g id="translate"><path d="M12.87 15.07l-2.54-2.51.03-.03c1.74-1.94 2.98-4.17 3.71-6.53H17V4h-7V2H8v2H1v1.99h11.17C11.5 7.92 10.44 9.75 9 11.35 8.07 10.32 7.3 9.19 6.69 8h-2c.73 1.63 1.73 3.17 2.98 4.56l-5.09 5.02L4 19l5-5 3.11 3.11.76-2.04zM18.5 10h-2L12 22h2l1.12-3h4.75L21 22h2l-4.5-12zm-2.62 7l1.62-4.33L19.12 17h-3.24z"></path></g>
<g id="trending-down"><path d="M16 18l2.29-2.29-4.88-4.88-4 4L2 7.41 3.41 6l6 6 4-4 6.3 6.29L22 12v6z"></path></g>
<g id="trending-flat"><path d="M22 12l-4-4v3H3v2h15v3z"></path></g>
<g id="trending-up"><path d="M16 6l2.29 2.29-4.88 4.88-4-4L2 16.59 3.41 18l6-6 4 4 6.3-6.29L22 12V6z"></path></g>
<g id="turned-in"><path d="M17 3H7c-1.1 0-1.99.9-1.99 2L5 21l7-3 7 3V5c0-1.1-.9-2-2-2z"></path></g>
<g id="turned-in-not"><path d="M17 3H7c-1.1 0-1.99.9-1.99 2L5 21l7-3 7 3V5c0-1.1-.9-2-2-2zm0 15l-5-2.18L7 18V5h10v13z"></path></g>
<g id="unarchive"><path d="M20.55 5.22l-1.39-1.68C18.88 3.21 18.47 3 18 3H6c-.47 0-.88.21-1.15.55L3.46 5.22C3.17 5.57 3 6.01 3 6.5V19c0 1.1.89 2 2 2h14c1.1 0 2-.9 2-2V6.5c0-.49-.17-.93-.45-1.28zM12 9.5l5.5 5.5H14v2h-4v-2H6.5L12 9.5zM5.12 5l.82-1h12l.93 1H5.12z"></path></g>
<g id="undo"><path d="M12.5 8c-2.65 0-5.05.99-6.9 2.6L2 7v9h9l-3.62-3.62c1.39-1.16 3.16-1.88 5.12-1.88 3.54 0 6.55 2.31 7.6 5.5l2.37-.78C21.08 11.03 17.15 8 12.5 8z"></path></g>
<g id="unfold-less"><path d="M7.41 18.59L8.83 20 12 16.83 15.17 20l1.41-1.41L12 14l-4.59 4.59zm9.18-13.18L15.17 4 12 7.17 8.83 4 7.41 5.41 12 10l4.59-4.59z"></path></g>
<g id="unfold-more"><path d="M12 5.83L15.17 9l1.41-1.41L12 3 7.41 7.59 8.83 9 12 5.83zm0 12.34L8.83 15l-1.41 1.41L12 21l4.59-4.59L15.17 15 12 18.17z"></path></g>
<g id="update"><path d="M21 10.12h-6.78l2.74-2.82c-2.73-2.7-7.15-2.8-9.88-.1-2.73 2.71-2.73 7.08 0 9.79 2.73 2.71 7.15 2.71 9.88 0C18.32 15.65 19 14.08 19 12.1h2c0 1.98-.88 4.55-2.64 6.29-3.51 3.48-9.21 3.48-12.72 0-3.5-3.47-3.53-9.11-.02-12.58 3.51-3.47 9.14-3.47 12.65 0L21 3v7.12zM12.5 8v4.25l3.5 2.08-.72 1.21L11 13V8h1.5z"></path></g>
<g id="verified-user"><path d="M12 1L3 5v6c0 5.55 3.84 10.74 9 12 5.16-1.26 9-6.45 9-12V5l-9-4zm-2 16l-4-4 1.41-1.41L10 14.17l6.59-6.59L18 9l-8 8z"></path></g>
<g id="view-agenda"><path d="M20 13H3c-.55 0-1 .45-1 1v6c0 .55.45 1 1 1h17c.55 0 1-.45 1-1v-6c0-.55-.45-1-1-1zm0-10H3c-.55 0-1 .45-1 1v6c0 .55.45 1 1 1h17c.55 0 1-.45 1-1V4c0-.55-.45-1-1-1z"></path></g>
<g id="view-array"><path d="M4 18h3V5H4v13zM18 5v13h3V5h-3zM8 18h9V5H8v13z"></path></g>
<g id="view-carousel"><path d="M7 19h10V4H7v15zm-5-2h4V6H2v11zM18 6v11h4V6h-4z"></path></g>
<g id="view-column"><path d="M10 18h5V5h-5v13zm-6 0h5V5H4v13zM16 5v13h5V5h-5z"></path></g>
<g id="view-day"><path d="M2 21h19v-3H2v3zM20 8H3c-.55 0-1 .45-1 1v6c0 .55.45 1 1 1h17c.55 0 1-.45 1-1V9c0-.55-.45-1-1-1zM2 3v3h19V3H2z"></path></g>
<g id="view-headline"><path d="M4 15h16v-2H4v2zm0 4h16v-2H4v2zm0-8h16V9H4v2zm0-6v2h16V5H4z"></path></g>
<g id="view-list"><path d="M4 14h4v-4H4v4zm0 5h4v-4H4v4zM4 9h4V5H4v4zm5 5h12v-4H9v4zm0 5h12v-4H9v4zM9 5v4h12V5H9z"></path></g>
<g id="view-module"><path d="M4 11h5V5H4v6zm0 7h5v-6H4v6zm6 0h5v-6h-5v6zm6 0h5v-6h-5v6zm-6-7h5V5h-5v6zm6-6v6h5V5h-5z"></path></g>
<g id="view-quilt"><path d="M10 18h5v-6h-5v6zm-6 0h5V5H4v13zm12 0h5v-6h-5v6zM10 5v6h11V5H10z"></path></g>
<g id="view-stream"><path d="M4 18h17v-6H4v6zM4 5v6h17V5H4z"></path></g>
<g id="view-week"><path d="M6 5H3c-.55 0-1 .45-1 1v12c0 .55.45 1 1 1h3c.55 0 1-.45 1-1V6c0-.55-.45-1-1-1zm14 0h-3c-.55 0-1 .45-1 1v12c0 .55.45 1 1 1h3c.55 0 1-.45 1-1V6c0-.55-.45-1-1-1zm-7 0h-3c-.55 0-1 .45-1 1v12c0 .55.45 1 1 1h3c.55 0 1-.45 1-1V6c0-.55-.45-1-1-1z"></path></g>
<g id="visibility"><path d="M12 4.5C7 4.5 2.73 7.61 1 12c1.73 4.39 6 7.5 11 7.5s9.27-3.11 11-7.5c-1.73-4.39-6-7.5-11-7.5zM12 17c-2.76 0-5-2.24-5-5s2.24-5 5-5 5 2.24 5 5-2.24 5-5 5zm0-8c-1.66 0-3 1.34-3 3s1.34 3 3 3 3-1.34 3-3-1.34-3-3-3z"></path></g>
<g id="visibility-off"><path d="M12 7c2.76 0 5 2.24 5 5 0 .65-.13 1.26-.36 1.83l2.92 2.92c1.51-1.26 2.7-2.89 3.43-4.75-1.73-4.39-6-7.5-11-7.5-1.4 0-2.74.25-3.98.7l2.16 2.16C10.74 7.13 11.35 7 12 7zM2 4.27l2.28 2.28.46.46C3.08 8.3 1.78 10.02 1 12c1.73 4.39 6 7.5 11 7.5 1.55 0 3.03-.3 4.38-.84l.42.42L19.73 22 21 20.73 3.27 3 2 4.27zM7.53 9.8l1.55 1.55c-.05.21-.08.43-.08.65 0 1.66 1.34 3 3 3 .22 0 .44-.03.65-.08l1.55 1.55c-.67.33-1.41.53-2.2.53-2.76 0-5-2.24-5-5 0-.79.2-1.53.53-2.2zm4.31-.78l3.15 3.15.02-.16c0-1.66-1.34-3-3-3l-.17.01z"></path></g>
<g id="warning"><path d="M1 21h22L12 2 1 21zm12-3h-2v-2h2v2zm0-4h-2v-4h2v4z"></path></g>
<g id="watch-later"><path d="M12 2C6.5 2 2 6.5 2 12s4.5 10 10 10 10-4.5 10-10S17.5 2 12 2zm4.2 14.2L11 13V7h1.5v5.2l4.5 2.7-.8 1.3z"></path></g>
<g id="weekend"><path d="M21 10c-1.1 0-2 .9-2 2v3H5v-3c0-1.1-.9-2-2-2s-2 .9-2 2v5c0 1.1.9 2 2 2h18c1.1 0 2-.9 2-2v-5c0-1.1-.9-2-2-2zm-3-5H6c-1.1 0-2 .9-2 2v2.15c1.16.41 2 1.51 2 2.82V14h12v-2.03c0-1.3.84-2.4 2-2.82V7c0-1.1-.9-2-2-2z"></path></g>
<g id="work"><path d="M20 6h-4V4c0-1.11-.89-2-2-2h-4c-1.11 0-2 .89-2 2v2H4c-1.11 0-1.99.89-1.99 2L2 19c0 1.11.89 2 2 2h16c1.11 0 2-.89 2-2V8c0-1.11-.89-2-2-2zm-6 0h-4V4h4v2z"></path></g>
<g id="youtube-searched-for"><path d="M17.01 14h-.8l-.27-.27c.98-1.14 1.57-2.61 1.57-4.23 0-3.59-2.91-6.5-6.5-6.5s-6.5 3-6.5 6.5H2l3.84 4 4.16-4H6.51C6.51 7 8.53 5 11.01 5s4.5 2.01 4.5 4.5c0 2.48-2.02 4.5-4.5 4.5-.65 0-1.26-.14-1.82-.38L7.71 15.1c.97.57 2.09.9 3.3.9 1.61 0 3.08-.59 4.22-1.57l.27.27v.79l5.01 4.99L22 19l-4.99-5z"></path></g>
<g id="zoom-in"><path d="M15.5 14h-.79l-.28-.27C15.41 12.59 16 11.11 16 9.5 16 5.91 13.09 3 9.5 3S3 5.91 3 9.5 5.91 16 9.5 16c1.61 0 3.09-.59 4.23-1.57l.27.28v.79l5 4.99L20.49 19l-4.99-5zm-6 0C7.01 14 5 11.99 5 9.5S7.01 5 9.5 5 14 7.01 14 9.5 11.99 14 9.5 14zm2.5-4h-2v2H9v-2H7V9h2V7h1v2h2v1z"></path></g>
<g id="zoom-out"><path d="M15.5 14h-.79l-.28-.27C15.41 12.59 16 11.11 16 9.5 16 5.91 13.09 3 9.5 3S3 5.91 3 9.5 5.91 16 9.5 16c1.61 0 3.09-.59 4.23-1.57l.27.28v.79l5 4.99L20.49 19l-4.99-5zm-6 0C7.01 14 5 11.99 5 9.5S7.01 5 9.5 5 14 7.01 14 9.5 11.99 14 9.5 14zM7 9h5v1H7z"></path></g>
</defs></svg>
</iron-iconset-svg><style id="inert-style">
[inert] {
  pointer-events: none;
  cursor: default;
}

[inert], [inert] * {
  user-select: none;
  -webkit-user-select: none;
  -moz-user-select: none;
  -ms-user-select: none;
}
</style><dom-module id="paper-material-styles">
  <template></template>
</dom-module>
<custom-style>
  <style is="custom-style">html {
  --paper-input-container-shared-input-style_-_position:  relative; --paper-input-container-shared-input-style_-_outline:  none; --paper-input-container-shared-input-style_-_box-shadow:  none; --paper-input-container-shared-input-style_-_padding:  0; --paper-input-container-shared-input-style_-_margin:  0; --paper-input-container-shared-input-style_-_width:  100%; --paper-input-container-shared-input-style_-_max-width:  100%; --paper-input-container-shared-input-style_-_background:  transparent; --paper-input-container-shared-input-style_-_border:  none; --paper-input-container-shared-input-style_-_color:  var(--paper-input-container-input-color, var(--primary-text-color)); --paper-input-container-shared-input-style_-_-webkit-appearance:  none; --paper-input-container-shared-input-style_-_text-align: apply-shim-inherit; --paper-input-container-shared-input-style_-_vertical-align:  var(--paper-input-container-input-align, bottom); --paper-input-container-shared-input-style_-_font-family:  var(--paper-font-subhead_-_font-family); --paper-input-container-shared-input-style_-_-webkit-font-smoothing:  var(--paper-font-subhead_-_-webkit-font-smoothing); --paper-input-container-shared-input-style_-_font-size:  var(--paper-font-subhead_-_font-size); --paper-input-container-shared-input-style_-_font-weight:  var(--paper-font-subhead_-_font-weight); --paper-input-container-shared-input-style_-_line-height:  var(--paper-font-subhead_-_line-height);;
}

</style>
</custom-style>
<!---->
<iron-iconset-svg name="colab" size="24" style="display: none;">
  <!--?lit$12532914$-->
<svg>
  <defs>
    <path id="down-arrow" d="m22,10h-6v-7h-8v7h-6l10,11l10,-11z">
    </path>
    <path id="up-arrow" d="m8,21h8v-7h6l-10,-11l-10,11h6l0,7z">
    </path>
    <path id="collapse-all" d="M7.41 18.59L8.83 20 12 16.83 15.17 20l1.41-1.41L12 14l-4.59 4.59zm9.18-13.18L15.17 4 12 7.17 8.83 4 7.41 5.41 12 10l4.59-4.59z"></path>
    <path id="expand-all" d="M12 5.83L15.17 9l1.41-1.41L12 3 7.41 7.59 8.83 9 12 5.83zm0 12.34L8.83 15l-1.41 1.41L12 21l4.59-4.59L15.17 15 12 18.17z">
    </path>
    <path id="stop-circle-filled" d="m12,2c-5.52,0 -10,4.48 -10,10s4.48,10 10,10s10,-4.48 10,-10s-4.48,-10 -10,-10zm-3,13l0,-6l6,0l0,6z">
    </path>
    <circle id="status-icon" cx="12" cy="12" r="6">
    </circle>
    <g id="monochrome-drive-logo">
      <path d="m8.83,2.66l6.66,0l5.83,10l-6.66,0l-5.83,-10z">
      </path>
      <path d="m11,10l-5.83,10l-3.33,-5.83l5.83,-10l3.33,5.83z">
      </path>
      <path d="m10.33,14.16l11.66,0l-3.33,5.83l-11.66,0l3.33,-5.83z">
      </path>
    </g>
    <path id="drive-folder" d="M20 6h-8l-2-2H4c-1.1 0-1.99.9-1.99 2L2 18c0 1.1.9 2 2 2h16c1.1 0 2-.9 2-2V8c0-1.1-.9-2-2-2zm-8.5 11l-1.1-2.14 2.84-4.96 1.5 2.66L12.25 17h-.75zm6.8 0h-5.55l1.4-2.5h5.11l.26.46L18.3 17zm-4.55-8h2.39l2.84 5h-2.93l-2.56-4.54.26-.46z">
    </path>
    <g id="drive-logo">
      <g transform="translate(1 1) scale(.1146)">
        <path fill="#4285F4" d="M33.3 124v52h125.4l29.3-52z"></path>
        <lineargradient id="drive-logo-gradient" gradientUnits="userSpaceOnUse" x1="48.555" y1="150.104" x2="93.974" y2="174.746">
          <stop offset="0" stop-color="#1a237e" stop-opacity=".2"></stop>
          <stop offset="1" stop-color="#1a237e" stop-opacity=".02"></stop>
        </lineargradient>
        <path id="drive-logo-gradient-target" fill="url(#drive-logo-gradient)" d="M63.43 124l30.14 52H33.3z"></path>
      </g>
      <path fill="#0F9D58" d="M8.561 2.834L1.458 15.21l3.358 5.96 8.101-13.98z"></path>
      <path fill="#FFCD40" d="M15.442 2.834h-6.88l7.172 12.376h6.81z"></path>
    </g>
    <g id="colab-logo">
      <path d="M4.54,9.46,2.19,7.1a6.93,6.93,0,0,0,0,9.79l2.36-2.36A3.59,3.59,0,0,1,4.54,9.46Z" style="fill:var(--colab-logo-dark)"></path>
      <path d="M2.19,7.1,4.54,9.46a3.59,3.59,0,0,1,5.08,0l1.71-2.93h0l-.1-.08h0A6.93,6.93,0,0,0,2.19,7.1Z" style="fill:var(--colab-logo-light)"></path>
      <path d="M11.34,17.46h0L9.62,14.54a3.59,3.59,0,0,1-5.08,0L2.19,16.9a6.93,6.93,0,0,0,9,.65l.11-.09" style="fill:var(--colab-logo-light)"></path>
      <path d="M12,7.1a6.93,6.93,0,0,0,0,9.79l2.36-2.36a3.59,3.59,0,1,1,5.08-5.08L21.81,7.1A6.93,6.93,0,0,0,12,7.1Z" style="fill:var(--colab-logo-light)"></path>
      <path d="M21.81,7.1,19.46,9.46a3.59,3.59,0,0,1-5.08,5.08L12,16.9A6.93,6.93,0,0,0,21.81,7.1Z" style="fill:var(--colab-logo-dark)"></path>
    </g>
    <!--?lit$12532914$-->
    <g id="github-logo">
      <path d="M12,0.299c-6.625,0-11.997,5.371-11.997,11.998c0,5.3,3.437,9.797,8.205,11.383c0.6,0.11,0.819-0.26,0.819-0.578c0-0.285-0.01-1.039-0.016-2.04c-3.337,0.725-4.041-1.609-4.041-1.609c-0.546-1.386-1.332-1.755-1.332-1.755c-1.089-0.745,0.082-0.729,0.082-0.729c1.204,0.085,1.838,1.237,1.838,1.237c1.07,1.833,2.808,1.304,3.492,0.997c0.109-0.776,0.419-1.304,0.762-1.604c-2.664-0.303-5.465-1.332-5.465-5.93c0-1.309,0.468-2.38,1.235-3.219C5.458,8.147,5.046,6.927,5.699,5.275c0,0,1.008-0.323,3.299,1.23c0.957-0.266,1.983-0.399,3.003-0.404c1.019,0.004,2.045,0.138,3.003,0.404c2.291-1.553,3.296-1.23,3.296-1.23c0.655,1.652,0.243,2.872,0.119,3.175c0.769,0.839,1.233,1.91,1.233,3.219c0,4.609-2.805,5.623-5.478,5.92c0.431,0.37,0.815,1.103,0.815,2.222c0,1.604-0.015,2.898-0.015,3.291c0,0.321,0.216,0.694,0.825,0.577c4.763-1.589,8.197-6.083,8.197-11.382C23.998,5.67,18.626,0.299,12,0.299z"></path>
    </g>
    <g id="markdown-preview-below">
      <rect width="20" height="18" x="2" y="2" rx="2" ry="2" style="fill:none;stroke:var(--colab-icon-color)"></rect>
      <line x1="4.5" y1="13" x2="19.5" y2="13" style="stroke:var(--primary-text-color);stroke-dasharray:2"></line>
      <line x1="2.5" y1="4" x2="21.5" y2="4" style="stroke:var(--colab-icon-color);stroke-width:3px;"></line>
    </g>
    <g id="markdown-preview-right">
      <rect width="20" height="18" x="2" y="2" rx="2" ry="2" style="fill:none;stroke:var(--colab-icon-color)"></rect>
      <line x1="12" y1="3.5" x2="12" y2="18.5" style="stroke:var(--colab-primary-text-color);stroke-dasharray:2;"></line>
      <line x1="2.5" y1="4" x2="21.5" y2="4" style="stroke:var(--colab-icon-color);stroke-width:3px;"></line>
    </g>
    <g id="files-up-one-level">
      <path d="M10 4H4c-1.1 0-1.99.9-1.99 2L2 18c0 1.1.9 2 2 2h16c1.1 0 2-.9 2-2V8c0-1.1-.9-2-2-2h-8l-2-2zM11 13v4h-4v-4H4l5-5 5 5h-3z">
      </path>
    </g>
    <!--?lit$12532914$-->
    <g id="experiment">
      <path d="M20.72 17.71L15 9.82V5.08h2v-2H7v2h2v4.73L3.14 17.9c-.44.61-.5 1.41-.16 2.08.34.67 1.03 1.09 1.78 1.09h14.5c1.1 0 2-.9 2-2 0-.52-.21-1-.54-1.36z"></path>
    </g>
    <g id="edit-disabled">
      <path d="M20.7,7c0.4-0.4,0.4-1,0-1.4l-2.3-2.3c-0.4-0.4-1-0.4-1.4,0l-1.8,1.8l3.8,3.8L20.7,7z"></path>
      <polygon points="18.2,9.6 14.4,5.8 10.9,9.3 14.7,13.1 "></polygon>
      <polygon points="10.3,10 3.3,3 2,4.3 4.3,6.6 9,11.3 3,17.2 3,21 6.8,21 12.7,15 16.8,19.1 19.7,22 21,20.7 14,13.7 "></polygon>
    </g>
    <g id="arrow-right">
      <path d="M10 17l5-5-5-5v10z"></path>
      <path fill="none" d="M0 24V0h24v24H0z"></path>
    </g>
    <g id="copy-to-scratch">
      <path d="M18,21H4V7H2V21a2,2,0,0,0,2,2H18Z"></path>
      <path d="M18,15V13h2v2ZM6,13v2H8.59L5,18.59,6.41,20,10,16.41V19h2V13Zm8,4v2h2V17ZM6,9v2H8V9ZM18,5V7h2V5ZM10,1V3h2V1ZM6,3H8V1A2,2,0,0,0,6,3ZM20,17H18v2A2,2,0,0,0,20,17ZM18,9v2h2V9ZM6,5V7H8V5Zm8-4V3h2V1Zm4,0V3h2A2,2,0,0,0,18,1Z"></path>
    </g>
    <g id="mirror-cell">
      <path d="M4,21V7H2V21a2,2,0,0,0,2,2H18V21Z"></path>
      <path d="M6,13v2H8.6L5,18.6,6.4,20,10,16.4V19h2V13Z"></path>
      <path d="M19,1H8A2,2,0,0,0,6,3v8H8V3H19V17H14v2h5a2,2,0,0,0,2-2V3A2,2,0,0,0,19,1Z"></path>
    </g>
    <g id="folder-refresh">
      <path d="M4,18V8H20v3h2V8a2,2,0,0,0-2-2H12L10,4H4A2,2,0,0,0,2,6V18a2,2,0,0,0,2,2h9l-1-2Z"></path>
      <path d="M18,12.25A4.75,4.75,0,1,0,22.64,18H21.08a3.26,3.26,0,1,1-.76-3.25H18.5v1.5h4.25V12h-1.5v1.56A4.74,4.74,0,0,0,18,12.25Z"></path>
    </g>
    <!--?lit$12532914$-->
    <g id="file-upload">
      <path d="M14 2H6c-1.1 0-1.99.9-1.99 2L4 20c0 1.1.89 2 1.99 2H18c1.1 0 2-.9 2-2V8l-6-6zm4 18H6V4h7v5h5v11zM8 15.01l1.41 1.41L11 14.84V19h2v-4.16l1.59 1.59L16 15.01 12.01 11z"></path>
    </g>
    <!--?lit$12532914$-->
    <g id="drive-folder">
      <path d="M20,6H12L10,4H4A2,2,0,0,0,2,6V18a2,2,0,0,0,2,2H20a2,2,0,0,0,2-2V8A2,2,0,0,0,20,6ZM13.57,9.32,13,8.4l.34-.6h3.11l3.69,6.5H16.38M12.11,17l-.67,1.2h-1L9,15.42,12.72,9l2,3.46h0M19.3,18.2H12.09l.67-1.2,1.15-2h6.64l.34.6Z"></path>
    </g>
    <g id="detach-drive">
      <path d="M12.72,9l2,3.46h0l-.26.47,2,2h4.1l.34.6L19.45,18l1.69,1.69A2,2,0,0,0,22,18V8a2,2,0,0,0-2-2H12L10,4H5.5l6.4,6.4Zm.66-1.17h3.11l3.69,6.5H16.38l-2.81-5L13,8.4Z"></path>
      <path d="M22.19,22.19,1.81,1.81.4,3.22,2.25,5.07A2,2,0,0,0,2,6V18a2,2,0,0,0,2,2H17.17l3.61,3.61Zm-11.73-4L9,15.42l1.3-2.26,2.35,2.36.17.17L12.11,17l-.67,1.2Zm1.63,0,.67-1.2.51-.9,2.1,2.1Z"></path>
    </g>
    <g id="terminal">
      <path d="M20.75,3H3.63a2.61,2.61,0,0,0-.49,0,2.65,2.65,0,0,0-1.23.55,2,2,0,0,0-.53.64,1.62,1.62,0,0,0-.2.77V19a1.73,1.73,0,0,0,.2.78,2.16,2.16,0,0,0,.53.64A2.65,2.65,0,0,0,3.14,21a3.86,3.86,0,0,0,.49,0H20.75a2.26,2.26,0,0,0,2.45-2V5A2.26,2.26,0,0,0,20.75,3ZM5.9,18,4.28,16.33l2.5-2.5-2.5-2.5L5.9,9.71,10,13.84Zm14.15-.86H12.4V15.3h7.66Z"></path>
     </g>
    <g id="command-palette">
      <path d="M21,3H3A2,2,0,0,0,1,5V17a2,2,0,0,0,2,2H21a2,2,0,0,0,2-2V5A2,2,0,0,0,21,3Zm0,2V17H3V5"></path>
      <rect x="5" y="12" width="11" height="2"></rect>
      <rect x="5" y="8" width="11" height="2"></rect>
      <rect x="17" y="8" width="2" height="2"></rect>
      <rect x="17" y="12" width="2" height="2"></rect>
    </g>
    <g id="monitoring">
      <path d="M10,8.83l-7,7V13l7-7l4,4l7-7v2.83l-7,7L10,8.83z M3,21h2v-4l-2,2V21z M7,21h2v-8l-2,2V21z M11,21h2v-5.98l-2-2.01V21z M15,21h2v-7.98l-2,2.01V21z M19,11.01V21h2V9L19,11.01z"></path>
    </g>
    <g id="kernel-notebook">
      <path d="M6.29,6.24l1.57,5.87.26,1.59H6.9L4.5,6.24Zm1.35,5.87L9.22,6.24H11L8.61,13.7H7.39Z"></path>
      <path d="M11.61,6.24H13l.22,4.92V13.7H11.61Zm.59,0h1.47l1.7,5.11,1.69-5.11h1.3L16,13.7H14.74Zm5.51,0h1.41V13.7H17.51V11.16Z"></path>
      <path d="M20,.54H4A2.3,2.3,0,0,0,1.69,2.83V21.17A2.3,2.3,0,0,0,4,23.46H20a2.3,2.3,0,0,0,2.29-2.29V2.83A2.3,2.3,0,0,0,20,.54Zm.5,1.79v15.9h-17V2.33Zm-17,19.33V19.52h17v2.15Z"></path>
    </g>
    <g id="variables">
      <path d="M4.51,9.44V6.08c0-1.34.37-1.85,1.6-2.17l.22-.06V3.13l-.27,0-.44,0a4.46,4.46,0,0,0-2.2.59,2.78,2.78,0,0,0-1,2.51V9.74c0,1.26-.26,1.61-1.49,2L0,12l.94.29c1.21.38,1.49.75,1.49,2v3.5a2.94,2.94,0,0,0,1,2.6,4.39,4.39,0,0,0,2.14.56l.46,0,.27,0v-.72l-.22-.06c-1.24-.32-1.6-.81-1.6-2.17V14.58c0-1.43-.3-2.13-1.25-2.57C4.2,11.57,4.51,10.87,4.51,9.44Z"></path>
      <path d="M23.06,11.71c-1.22-.36-1.49-.71-1.49-2l0-3.5a3,3,0,0,0-1-2.6,4.38,4.38,0,0,0-2.14-.56l-.46,0-.27,0v.72l.22.06c1.24.32,1.6.81,1.6,2.17V9.44c0,1.44.3,2.13,1.25,2.57-1,.44-1.25,1.14-1.25,2.57v3.36c0,1.34-.37,1.85-1.6,2.17l-.22.06v.72l.27,0,.44,0a4.47,4.47,0,0,0,2.2-.59,2.82,2.82,0,0,0,1-2.51V14.28c0-1.26.26-1.61,1.49-2L24,12Z"></path>
      <path d="M15.16,8.22a.88.88,0,0,1,.46.16,1.25,1.25,0,0,0,.69.2h0A1,1,0,0,0,17,8.23a1.06,1.06,0,0,0,.24-.8,1.1,1.1,0,0,0-1.15-1h0c-1,0-1.73.64-3,2.57l-.12-.51c-.28-1.36-.56-2-1.39-2h0A8,8,0,0,0,9,7.08l-.47.16.16.91L9.41,8a3.22,3.22,0,0,1,.73-.14c.34,0,.43,0,.71,1.2l.56,2.47L9.76,13.82a3.6,3.6,0,0,1-.8.88.9.9,0,0,1-.38-.13,1.83,1.83,0,0,0-.88-.28,1,1,0,0,0-1,1.06A1.15,1.15,0,0,0,8,16.53c.85,0,1.35-.35,2.24-1.55l1.49-2,.46,1.88c.23,1,.46,1.66,1.53,1.66s1.66-.75,2.81-2.53l.17-.26-.81-.48-.16.2-.25.34-.19.25c-.45.57-.62.73-.76.73s-.28-.4-.34-.63l-.67-2.83a4.2,4.2,0,0,1-.15-.79C13.84,9.78,14.74,8.22,15.16,8.22Z"></path>
    </g>
  </defs>
</svg>
</iron-iconset-svg>
<iron-iconset-svg name="colab-20" size="20" style="display: none;">
  <!--?lit$12532914$-->
<svg>
  <defs>
    <g id="saved-check">
      <path fill="#3bd33b" stroke="#000" d="m1,14.5c0,-2.5 2,-4.5 4.5,-4.5c2.5,0 4.5,2 4.5,4.5c0,2.5 -2,4.5 -4.5,4.5c-2.5,0 -4.5,-2 -4.5,-4.5z"></path>
      <line stroke="#000" x1="9" y1="12" x2="5" y2="16.5"></line>
      <line stroke="#000" x1="3" y1="14.2" x2="5.7" y2="16.5"></line>
    </g>
    <g id="output-icon">
      <path fill="0" d="m12.5,9.5l0,1l4,0l-2,2l1.5,0l2.5,-2.5l-2.5,-2.5l-1.5,0l2,2l-3.5,0l-0.5,0z"></path>
      <path fill="0" d="m13.5,6.5l0,-3l-9,0l0,13l9,0l0,-3l-1.5,0l0,1.5l-6,0l0,-10l6,0l0,1.5l1.5,0z"></path>
    </g>
    <g transform="scale(0.5)" id="anon">
      <path fill="#93ADCF" d="m20,0c-11.04,0 -20,8.96 -20,20c0,11.04 8.96,20 20,20c11.04,0 20,-8.96 20,-20c0,-11.04 -8.96,-20 -20,-20l0,0z"></path>
      <path fill="#CFDAEF" d="m20,34.4c-5,0 -9.42,-2.56 -12,-6.44c0.06,-3.98 8,-6.16 12,-6.16c3.98,0 11.94,2.18 12,6.16c-2.58,3.88 -7,6.44 -12,6.44l0,0z"></path>
      <path fill="#CFDAEF" d="m20,6c3.32,0 6,2.68 6,6c0,3.32 -2.68,6 -6,6c-3.32,0 -6,-2.68 -6,-6c0,-3.32 2.68,-6 6,-6l0,0z"></path>
    </g>
  </defs>
</svg>
</iron-iconset-svg>
<iron-iconset-svg name="colab-large" size="40" style="display: none;">
  <!--?lit$12532914$-->
<svg>
  <defs>
    <g id="colab-pro">
      <path d="M7.94 29.43h3.17a3.38 3.38 0 011.56.36 2.7 2.7 0 011.51 2.48 2.77 2.77 0 01-.4 1.48 2.72 2.72 0 01-1.11 1 3.38 3.38 0 01-1.56.36H9.64v3.3h-1.7zm3.21 4.08a1.32 1.32 0 001-.36 1.21 1.21 0 00.36-.88 1.19 1.19 0 00-.36-.87 1.33 1.33 0 00-1-.36H9.64v2.47zM15.6 29.43h3.28a3.28 3.28 0 011.56.36 2.64 2.64 0 011.06 1 2.86 2.86 0 01.38 1.46 2.37 2.37 0 01-.55 1.54 3.11 3.11 0 01-1.37 1v.09l2.41 3.45v.1h-1.96L18.09 35h-.79v3.38h-1.7zm3.27 4.06a1.3 1.3 0 00.94-.35 1.19 1.19 0 00.36-.89A1.22 1.22 0 0018.89 31H17.3v2.49zM25.42 38a4.5 4.5 0 01-1.69-1.7 4.88 4.88 0 010-4.75 4.5 4.5 0 011.69-1.7 4.92 4.92 0 014.78 0 4.51 4.51 0 011.69 1.7 4.88 4.88 0 010 4.75A4.51 4.51 0 0130.2 38a4.91 4.91 0 01-4.78 0zm3.91-1.37a2.8 2.8 0 001.09-1.09 3.46 3.46 0 000-3.21 2.81 2.81 0 00-1.09-1.09 3 3 0 00-1.52-.39 3 3 0 00-1.51.39 2.83 2.83 0 00-1.08 1.09 3.46 3.46 0 000 3.21 2.82 2.82 0 001.08 1.09 3 3 0 001.51.39 3 3 0 001.52-.4z" fill="#858585"></path>
      <path d="M7.59 9.3L3.66 5.38a11.53 11.53 0 000 16.3l3.93-3.93a6 6 0 010-8.45z" fill="var(--colab-logo-dark)"></path>
      <path d="M3.66 5.38L7.59 9.3a6 6 0 018.41 0l2.85-4.88-.17-.13A11.53 11.53 0 003.66 5.38zM18.91 22.62L16 17.75a6 6 0 01-8.45 0l-3.89 3.93a11.53 11.53 0 0015.06 1.08l.19-.14M20 5.38a11.53 11.53 0 000 16.3l4-3.93a6 6 0 018.41-8.45l3.93-3.93A11.53 11.53 0 0020 5.38z" fill="var(--colab-logo-light)"></path>
      <path d="M36.34 5.38L32.41 9.3A6 6 0 0124 17.75l-4 3.93a11.53 11.53 0 0016.3-16.3z" fill="var(--colab-logo-dark)"></path>
    </g>
    <g id="colab-pro-plus">
      <path d="M7.94 29.43h3.17a3.38 3.38 0 011.56.36 2.7 2.7 0 011.51 2.48 2.77 2.77 0 01-.4 1.48 2.72 2.72 0 01-1.11 1 3.38 3.38 0 01-1.56.36H9.64v3.3h-1.7zm3.21 4.08a1.32 1.32 0 001-.36 1.21 1.21 0 00.36-.88 1.19 1.19 0 00-.36-.87 1.33 1.33 0 00-1-.36H9.64v2.47zM15.6 29.43h3.28a3.28 3.28 0 011.56.36 2.64 2.64 0 011.06 1 2.86 2.86 0 01.38 1.46 2.37 2.37 0 01-.55 1.54 3.11 3.11 0 01-1.37 1v.09l2.41 3.45v.1h-1.96L18.09 35h-.79v3.38h-1.7zm3.27 4.06a1.3 1.3 0 00.94-.35 1.19 1.19 0 00.36-.89A1.22 1.22 0 0018.89 31H17.3v2.49zM25.42 38a4.5 4.5 0 01-1.69-1.7 4.88 4.88 0 010-4.75 4.5 4.5 0 011.69-1.7 4.92 4.92 0 014.78 0 4.51 4.51 0 011.69 1.7 4.88 4.88 0 010 4.75A4.51 4.51 0 0130.2 38a4.91 4.91 0 01-4.78 0zm3.91-1.37a2.8 2.8 0 001.09-1.09 3.46 3.46 0 000-3.21 2.81 2.81 0 00-1.09-1.09 3 3 0 00-1.52-.39 3 3 0 00-1.51.39 2.83 2.83 0 00-1.08 1.09 3.46 3.46 0 000 3.21 2.82 2.82 0 001.08 1.09 3 3 0 001.51.39 3 3 0 001.52-.4z" fill="#858585"></path>
      <path d="M39.8,34.84H37.41v2.38H35.8V34.84H33.4V33.22h2.4V30.84h1.62v2.38H39.8Z" style="fill: #858585"></path>
      <path d="M7.59 9.3L3.66 5.38a11.53 11.53 0 000 16.3l3.93-3.93a6 6 0 010-8.45z" fill="var(--colab-logo-dark)"></path>
      <path d="M3.66 5.38L7.59 9.3a6 6 0 018.41 0l2.85-4.88-.17-.13A11.53 11.53 0 003.66 5.38zM18.91 22.62L16 17.75a6 6 0 01-8.45 0l-3.89 3.93a11.53 11.53 0 0015.06 1.08l.19-.14M20 5.38a11.53 11.53 0 000 16.3l4-3.93a6 6 0 018.41-8.45l3.93-3.93A11.53 11.53 0 0020 5.38z" fill="var(--colab-logo-light)"></path>
      <path d="M36.34 5.38L32.41 9.3A6 6 0 0124 17.75l-4 3.93a11.53 11.53 0 0016.3-16.3z" fill="var(--colab-logo-dark)"></path>
    </g>
    <g id="colab-corp">
      <path d="M5.14 38a4.56 4.56 0 01-1.7-1.7 4.86 4.86 0 010-4.76 4.56 4.56 0 011.7-1.7 4.7 4.7 0 012.39-.62 4.34 4.34 0 013.37 1.47l-1.2 1.16a2.73 2.73 0 00-2.16-1 3.1 3.1 0 00-1.54.37 2.76 2.76 0 00-1.09 1.09 3.51 3.51 0 000 3.24A2.76 2.76 0 006 36.63a3.11 3.11 0 001.54.37 2.93 2.93 0 002.37-1.18L11.12 37a4.45 4.45 0 01-1.58 1.2 4.75 4.75 0 01-2 .42 4.69 4.69 0 01-2.4-.62zM14.3 38a4.5 4.5 0 01-1.69-1.7 4.88 4.88 0 010-4.75 4.5 4.5 0 011.69-1.7 4.92 4.92 0 014.78 0 4.51 4.51 0 011.69 1.7 4.88 4.88 0 010 4.75 4.51 4.51 0 01-1.69 1.7 4.91 4.91 0 01-4.78 0zm3.91-1.37a2.8 2.8 0 001.09-1.09 3.46 3.46 0 000-3.21 2.81 2.81 0 00-1.09-1.09 3 3 0 00-1.52-.39 3 3 0 00-1.51.39 2.83 2.83 0 00-1.08 1.09 3.46 3.46 0 000 3.21 2.82 2.82 0 001.08 1.09 3 3 0 001.51.39 3 3 0 001.52-.4zM23 29.43h3.28a3.28 3.28 0 011.56.36 2.64 2.64 0 011.06 1 2.86 2.86 0 01.38 1.46 2.37 2.37 0 01-.55 1.54 3.11 3.11 0 01-1.37 1v.09l2.41 3.45v.1H27.8L25.48 35h-.79v3.38H23zm3.27 4.06a1.3 1.3 0 00.94-.35 1.19 1.19 0 00.36-.89A1.22 1.22 0 0026.29 31h-1.6v2.49zM31 29.43h3.17a3.38 3.38 0 011.56.36 2.7 2.7 0 011.51 2.48 2.77 2.77 0 01-.4 1.48 2.72 2.72 0 01-1.11 1 3.38 3.38 0 01-1.56.36h-1.52v3.3H31zm3.21 4.08a1.32 1.32 0 001-.36 1.21 1.21 0 00.36-.88 1.19 1.19 0 00-.36-.87 1.33 1.33 0 00-1-.36h-1.56v2.47z" fill="#858585"></path>
      <path d="M7.59 9.3L3.66 5.38a11.53 11.53 0 000 16.3l3.93-3.93a6 6 0 010-8.45z" fill="var(--colab-logo-dark)"></path>
      <path d="M3.66 5.38L7.59 9.3a6 6 0 018.41 0l2.85-4.88-.17-.13A11.53 11.53 0 003.66 5.38zM18.91 22.62L16 17.75a6 6 0 01-8.45 0l-3.89 3.93a11.53 11.53 0 0015.06 1.08l.19-.14M20 5.38a11.53 11.53 0 000 16.3l4-3.93a6 6 0 018.41-8.45l3.93-3.93A11.53 11.53 0 0020 5.38z" fill="var(--colab-logo-light)"></path>
      <path d="M36.34 5.38L32.41 9.3A6 6 0 0124 17.75l-4 3.93a11.53 11.53 0 0016.3-16.3z" fill="var(--colab-logo-dark)"></path>
    </g>
  </defs>
</svg>

</iron-iconset-svg><iron-iconset-svg name="av" size="24" style="display: none;">
<svg><defs>
<g id="add-to-queue"><path d="M21 3H3c-1.11 0-2 .89-2 2v12c0 1.1.89 2 2 2h5v2h8v-2h5c1.1 0 1.99-.9 1.99-2L23 5c0-1.11-.9-2-2-2zm0 14H3V5h18v12zm-5-7v2h-3v3h-2v-3H8v-2h3V7h2v3h3z"></path></g>
<g id="airplay"><path d="M6 22h12l-6-6zM21 3H3c-1.1 0-2 .9-2 2v12c0 1.1.9 2 2 2h4v-2H3V5h18v12h-4v2h4c1.1 0 2-.9 2-2V5c0-1.1-.9-2-2-2z"></path></g>
<g id="album"><path d="M12 2C6.48 2 2 6.48 2 12s4.48 10 10 10 10-4.48 10-10S17.52 2 12 2zm0 14.5c-2.49 0-4.5-2.01-4.5-4.5S9.51 7.5 12 7.5s4.5 2.01 4.5 4.5-2.01 4.5-4.5 4.5zm0-5.5c-.55 0-1 .45-1 1s.45 1 1 1 1-.45 1-1-.45-1-1-1z"></path></g>
<g id="art-track"><path d="M22 13h-8v-2h8v2zm0-6h-8v2h8V7zm-8 10h8v-2h-8v2zm-2-8v6c0 1.1-.9 2-2 2H4c-1.1 0-2-.9-2-2V9c0-1.1.9-2 2-2h6c1.1 0 2 .9 2 2zm-1.5 6l-2.25-3-1.75 2.26-1.25-1.51L3.5 15h7z"></path></g>
<g id="av-timer"><path d="M11 17c0 .55.45 1 1 1s1-.45 1-1-.45-1-1-1-1 .45-1 1zm0-14v4h2V5.08c3.39.49 6 3.39 6 6.92 0 3.87-3.13 7-7 7s-7-3.13-7-7c0-1.68.59-3.22 1.58-4.42L12 13l1.41-1.41-6.8-6.8v.02C4.42 6.45 3 9.05 3 12c0 4.97 4.02 9 9 9 4.97 0 9-4.03 9-9s-4.03-9-9-9h-1zm7 9c0-.55-.45-1-1-1s-1 .45-1 1 .45 1 1 1 1-.45 1-1zM6 12c0 .55.45 1 1 1s1-.45 1-1-.45-1-1-1-1 .45-1 1z"></path></g>
<g id="branding-watermark"><path d="M21 3H3c-1.1 0-2 .9-2 2v14c0 1.1.9 2 2 2h18c1.1 0 2-.9 2-2V5c0-1.1-.9-2-2-2zm0 16h-9v-6h9v6z"></path></g>
<g id="call-to-action"><path d="M21 3H3c-1.1 0-2 .9-2 2v14c0 1.1.9 2 2 2h18c1.1 0 2-.9 2-2V5c0-1.1-.9-2-2-2zm0 16H3v-3h18v3z"></path></g>
<g id="closed-caption"><path d="M19 4H5c-1.11 0-2 .9-2 2v12c0 1.1.89 2 2 2h14c1.1 0 2-.9 2-2V6c0-1.1-.9-2-2-2zm-8 7H9.5v-.5h-2v3h2V13H11v1c0 .55-.45 1-1 1H7c-.55 0-1-.45-1-1v-4c0-.55.45-1 1-1h3c.55 0 1 .45 1 1v1zm7 0h-1.5v-.5h-2v3h2V13H18v1c0 .55-.45 1-1 1h-3c-.55 0-1-.45-1-1v-4c0-.55.45-1 1-1h3c.55 0 1 .45 1 1v1z"></path></g>
<g id="equalizer"><path d="M10 20h4V4h-4v16zm-6 0h4v-8H4v8zM16 9v11h4V9h-4z"></path></g>
<g id="explicit"><path d="M19 3H5c-1.1 0-2 .9-2 2v14c0 1.1.9 2 2 2h14c1.1 0 2-.9 2-2V5c0-1.1-.9-2-2-2zm-4 6h-4v2h4v2h-4v2h4v2H9V7h6v2z"></path></g>
<g id="fast-forward"><path d="M4 18l8.5-6L4 6v12zm9-12v12l8.5-6L13 6z"></path></g>
<g id="fast-rewind"><path d="M11 18V6l-8.5 6 8.5 6zm.5-6l8.5 6V6l-8.5 6z"></path></g>
<g id="featured-play-list"><path d="M21 3H3c-1.1 0-2 .9-2 2v14c0 1.1.9 2 2 2h18c1.1 0 2-.9 2-2V5c0-1.1-.9-2-2-2zm-9 8H3V9h9v2zm0-4H3V5h9v2z"></path></g>
<g id="featured-video"><path d="M21 3H3c-1.1 0-2 .9-2 2v14c0 1.1.9 2 2 2h18c1.1 0 2-.9 2-2V5c0-1.1-.9-2-2-2zm-9 9H3V5h9v7z"></path></g>
<g id="fiber-dvr"><path d="M17.5 10.5h2v1h-2zm-13 0h2v3h-2zM21 3H3c-1.11 0-2 .89-2 2v14c0 1.1.89 2 2 2h18c1.11 0 2-.9 2-2V5c0-1.11-.89-2-2-2zM8 13.5c0 .85-.65 1.5-1.5 1.5H3V9h3.5c.85 0 1.5.65 1.5 1.5v3zm4.62 1.5h-1.5L9.37 9h1.5l1 3.43 1-3.43h1.5l-1.75 6zM21 11.5c0 .6-.4 1.15-.9 1.4L21 15h-1.5l-.85-2H17.5v2H16V9h3.5c.85 0 1.5.65 1.5 1.5v1z"></path></g>
<g id="fiber-manual-record"><circle cx="12" cy="12" r="8"></circle></g>
<g id="fiber-new"><path d="M20 4H4c-1.11 0-1.99.89-1.99 2L2 18c0 1.11.89 2 2 2h16c1.11 0 2-.89 2-2V6c0-1.11-.89-2-2-2zM8.5 15H7.3l-2.55-3.5V15H3.5V9h1.25l2.5 3.5V9H8.5v6zm5-4.74H11v1.12h2.5v1.26H11v1.11h2.5V15h-4V9h4v1.26zm7 3.74c0 .55-.45 1-1 1h-4c-.55 0-1-.45-1-1V9h1.25v4.51h1.13V9.99h1.25v3.51h1.12V9h1.25v5z"></path></g>
<g id="fiber-pin"><path d="M5.5 10.5h2v1h-2zM20 4H4c-1.11 0-1.99.89-1.99 2L2 18c0 1.11.89 2 2 2h16c1.11 0 2-.89 2-2V6c0-1.11-.89-2-2-2zM9 11.5c0 .85-.65 1.5-1.5 1.5h-2v2H4V9h3.5c.85 0 1.5.65 1.5 1.5v1zm3.5 3.5H11V9h1.5v6zm7.5 0h-1.2l-2.55-3.5V15H15V9h1.25l2.5 3.5V9H20v6z"></path></g>
<g id="fiber-smart-record"><g><circle cx="9" cy="12" r="8"></circle><path d="M17 4.26v2.09c2.33.82 4 3.04 4 5.65s-1.67 4.83-4 5.65v2.09c3.45-.89 6-4.01 6-7.74s-2.55-6.85-6-7.74z"></path></g></g>
<g id="forward-10"><path d="M4 13c0 4.4 3.6 8 8 8s8-3.6 8-8h-2c0 3.3-2.7 6-6 6s-6-2.7-6-6 2.7-6 6-6v4l5-5-5-5v4c-4.4 0-8 3.6-8 8zm6.8 3H10v-3.3L9 13v-.7l1.8-.6h.1V16zm4.3-1.8c0 .3 0 .6-.1.8l-.3.6s-.3.3-.5.3-.4.1-.6.1-.4 0-.6-.1-.3-.2-.5-.3-.2-.3-.3-.6-.1-.5-.1-.8v-.7c0-.3 0-.6.1-.8l.3-.6s.3-.3.5-.3.4-.1.6-.1.4 0 .6.1.3.2.5.3.2.3.3.6.1.5.1.8v.7zm-.8-.8v-.5s-.1-.2-.1-.3-.1-.1-.2-.2-.2-.1-.3-.1-.2 0-.3.1l-.2.2s-.1.2-.1.3v2s.1.2.1.3.1.1.2.2.2.1.3.1.2 0 .3-.1l.2-.2s.1-.2.1-.3v-1.5z"></path></g>
<g id="forward-30"><path d="M9.6 13.5h.4c.2 0 .4-.1.5-.2s.2-.2.2-.4v-.2s-.1-.1-.1-.2-.1-.1-.2-.1h-.5s-.1.1-.2.1-.1.1-.1.2v.2h-1c0-.2 0-.3.1-.5s.2-.3.3-.4.3-.2.4-.2.4-.1.5-.1c.2 0 .4 0 .6.1s.3.1.5.2.2.2.3.4.1.3.1.5v.3s-.1.2-.1.3-.1.2-.2.2-.2.1-.3.2c.2.1.4.2.5.4s.2.4.2.6c0 .2 0 .4-.1.5s-.2.3-.3.4-.3.2-.5.2-.4.1-.6.1c-.2 0-.4 0-.5-.1s-.3-.1-.5-.2-.2-.2-.3-.4-.1-.4-.1-.6h.8v.2s.1.1.1.2.1.1.2.1h.5s.1-.1.2-.1.1-.1.1-.2v-.5s-.1-.1-.1-.2-.1-.1-.2-.1h-.6v-.7zm5.7.7c0 .3 0 .6-.1.8l-.3.6s-.3.3-.5.3-.4.1-.6.1-.4 0-.6-.1-.3-.2-.5-.3-.2-.3-.3-.6-.1-.5-.1-.8v-.7c0-.3 0-.6.1-.8l.3-.6s.3-.3.5-.3.4-.1.6-.1.4 0 .6.1.3.2.5.3.2.3.3.6.1.5.1.8v.7zm-.9-.8v-.5s-.1-.2-.1-.3-.1-.1-.2-.2-.2-.1-.3-.1-.2 0-.3.1l-.2.2s-.1.2-.1.3v2s.1.2.1.3.1.1.2.2.2.1.3.1.2 0 .3-.1l.2-.2s.1-.2.1-.3v-1.5zM4 13c0 4.4 3.6 8 8 8s8-3.6 8-8h-2c0 3.3-2.7 6-6 6s-6-2.7-6-6 2.7-6 6-6v4l5-5-5-5v4c-4.4 0-8 3.6-8 8z"></path></g>
<g id="forward-5"><path d="M4 13c0 4.4 3.6 8 8 8s8-3.6 8-8h-2c0 3.3-2.7 6-6 6s-6-2.7-6-6 2.7-6 6-6v4l5-5-5-5v4c-4.4 0-8 3.6-8 8zm6.7.9l.2-2.2h2.4v.7h-1.7l-.1.9s.1 0 .1-.1.1 0 .1-.1.1 0 .2 0h.2c.2 0 .4 0 .5.1s.3.2.4.3.2.3.3.5.1.4.1.6c0 .2 0 .4-.1.5s-.1.3-.3.5-.3.2-.5.3-.4.1-.6.1c-.2 0-.4 0-.5-.1s-.3-.1-.5-.2-.2-.2-.3-.4-.1-.3-.1-.5h.8c0 .2.1.3.2.4s.2.1.4.1c.1 0 .2 0 .3-.1l.2-.2s.1-.2.1-.3v-.6l-.1-.2-.2-.2s-.2-.1-.3-.1h-.2s-.1 0-.2.1-.1 0-.1.1-.1.1-.1.1h-.6z"></path></g>
<g id="games"><path d="M15 7.5V2H9v5.5l3 3 3-3zM7.5 9H2v6h5.5l3-3-3-3zM9 16.5V22h6v-5.5l-3-3-3 3zM16.5 9l-3 3 3 3H22V9h-5.5z"></path></g>
<g id="hd"><path d="M19 3H5c-1.11 0-2 .9-2 2v14c0 1.1.89 2 2 2h14c1.1 0 2-.9 2-2V5c0-1.1-.9-2-2-2zm-8 12H9.5v-2h-2v2H6V9h1.5v2.5h2V9H11v6zm2-6h4c.55 0 1 .45 1 1v4c0 .55-.45 1-1 1h-4V9zm1.5 4.5h2v-3h-2v3z"></path></g>
<g id="hearing"><path d="M17 20c-.29 0-.56-.06-.76-.15-.71-.37-1.21-.88-1.71-2.38-.51-1.56-1.47-2.29-2.39-3-.79-.61-1.61-1.24-2.32-2.53C9.29 10.98 9 9.93 9 9c0-2.8 2.2-5 5-5s5 2.2 5 5h2c0-3.93-3.07-7-7-7S7 5.07 7 9c0 1.26.38 2.65 1.07 3.9.91 1.65 1.98 2.48 2.85 3.15.81.62 1.39 1.07 1.71 2.05.6 1.82 1.37 2.84 2.73 3.55.51.23 1.07.35 1.64.35 2.21 0 4-1.79 4-4h-2c0 1.1-.9 2-2 2zM7.64 2.64L6.22 1.22C4.23 3.21 3 5.96 3 9s1.23 5.79 3.22 7.78l1.41-1.41C6.01 13.74 5 11.49 5 9s1.01-4.74 2.64-6.36zM11.5 9c0 1.38 1.12 2.5 2.5 2.5s2.5-1.12 2.5-2.5-1.12-2.5-2.5-2.5-2.5 1.12-2.5 2.5z"></path></g>
<g id="high-quality"><path d="M19 4H5c-1.11 0-2 .9-2 2v12c0 1.1.89 2 2 2h14c1.1 0 2-.9 2-2V6c0-1.1-.9-2-2-2zm-8 11H9.5v-2h-2v2H6V9h1.5v2.5h2V9H11v6zm7-1c0 .55-.45 1-1 1h-.75v1.5h-1.5V15H14c-.55 0-1-.45-1-1v-4c0-.55.45-1 1-1h3c.55 0 1 .45 1 1v4zm-3.5-.5h2v-3h-2v3z"></path></g>
<g id="library-add"><path d="M4 6H2v14c0 1.1.9 2 2 2h14v-2H4V6zm16-4H8c-1.1 0-2 .9-2 2v12c0 1.1.9 2 2 2h12c1.1 0 2-.9 2-2V4c0-1.1-.9-2-2-2zm-1 9h-4v4h-2v-4H9V9h4V5h2v4h4v2z"></path></g>
<g id="library-books"><path d="M4 6H2v14c0 1.1.9 2 2 2h14v-2H4V6zm16-4H8c-1.1 0-2 .9-2 2v12c0 1.1.9 2 2 2h12c1.1 0 2-.9 2-2V4c0-1.1-.9-2-2-2zm-1 9H9V9h10v2zm-4 4H9v-2h6v2zm4-8H9V5h10v2z"></path></g>
<g id="library-music"><path d="M20 2H8c-1.1 0-2 .9-2 2v12c0 1.1.9 2 2 2h12c1.1 0 2-.9 2-2V4c0-1.1-.9-2-2-2zm-2 5h-3v5.5c0 1.38-1.12 2.5-2.5 2.5S10 13.88 10 12.5s1.12-2.5 2.5-2.5c.57 0 1.08.19 1.5.51V5h4v2zM4 6H2v14c0 1.1.9 2 2 2h14v-2H4V6z"></path></g>
<g id="loop"><path d="M12 4V1L8 5l4 4V6c3.31 0 6 2.69 6 6 0 1.01-.25 1.97-.7 2.8l1.46 1.46C19.54 15.03 20 13.57 20 12c0-4.42-3.58-8-8-8zm0 14c-3.31 0-6-2.69-6-6 0-1.01.25-1.97.7-2.8L5.24 7.74C4.46 8.97 4 10.43 4 12c0 4.42 3.58 8 8 8v3l4-4-4-4v3z"></path></g>
<g id="mic"><path d="M12 14c1.66 0 2.99-1.34 2.99-3L15 5c0-1.66-1.34-3-3-3S9 3.34 9 5v6c0 1.66 1.34 3 3 3zm5.3-3c0 3-2.54 5.1-5.3 5.1S6.7 14 6.7 11H5c0 3.41 2.72 6.23 6 6.72V21h2v-3.28c3.28-.48 6-3.3 6-6.72h-1.7z"></path></g>
<g id="mic-none"><path d="M12 14c1.66 0 2.99-1.34 2.99-3L15 5c0-1.66-1.34-3-3-3S9 3.34 9 5v6c0 1.66 1.34 3 3 3zm-1.2-9.1c0-.66.54-1.2 1.2-1.2.66 0 1.2.54 1.2 1.2l-.01 6.2c0 .66-.53 1.2-1.19 1.2-.66 0-1.2-.54-1.2-1.2V4.9zm6.5 6.1c0 3-2.54 5.1-5.3 5.1S6.7 14 6.7 11H5c0 3.41 2.72 6.23 6 6.72V21h2v-3.28c3.28-.48 6-3.3 6-6.72h-1.7z"></path></g>
<g id="mic-off"><path d="M19 11h-1.7c0 .74-.16 1.43-.43 2.05l1.23 1.23c.56-.98.9-2.09.9-3.28zm-4.02.17c0-.06.02-.11.02-.17V5c0-1.66-1.34-3-3-3S9 3.34 9 5v.18l5.98 5.99zM4.27 3L3 4.27l6.01 6.01V11c0 1.66 1.33 3 2.99 3 .22 0 .44-.03.65-.08l1.66 1.66c-.71.33-1.5.52-2.31.52-2.76 0-5.3-2.1-5.3-5.1H5c0 3.41 2.72 6.23 6 6.72V21h2v-3.28c.91-.13 1.77-.45 2.54-.9L19.73 21 21 19.73 4.27 3z"></path></g>
<g id="movie"><path d="M18 4l2 4h-3l-2-4h-2l2 4h-3l-2-4H8l2 4H7L5 4H4c-1.1 0-1.99.9-1.99 2L2 18c0 1.1.9 2 2 2h16c1.1 0 2-.9 2-2V4h-4z"></path></g>
<g id="music-video"><path d="M21 3H3c-1.1 0-2 .9-2 2v14c0 1.1.9 2 2 2h18c1.1 0 2-.9 2-2V5c0-1.1-.9-2-2-2zm0 16H3V5h18v14zM8 15c0-1.66 1.34-3 3-3 .35 0 .69.07 1 .18V6h5v2h-3v7.03c-.02 1.64-1.35 2.97-3 2.97-1.66 0-3-1.34-3-3z"></path></g>
<g id="new-releases"><path d="M23 12l-2.44-2.78.34-3.68-3.61-.82-1.89-3.18L12 3 8.6 1.54 6.71 4.72l-3.61.81.34 3.68L1 12l2.44 2.78-.34 3.69 3.61.82 1.89 3.18L12 21l3.4 1.46 1.89-3.18 3.61-.82-.34-3.68L23 12zm-10 5h-2v-2h2v2zm0-4h-2V7h2v6z"></path></g>
<g id="not-interested"><path d="M12 2C6.48 2 2 6.48 2 12s4.48 10 10 10 10-4.48 10-10S17.52 2 12 2zm0 18c-4.42 0-8-3.58-8-8 0-1.85.63-3.55 1.69-4.9L16.9 18.31C15.55 19.37 13.85 20 12 20zm6.31-3.1L7.1 5.69C8.45 4.63 10.15 4 12 4c4.42 0 8 3.58 8 8 0 1.85-.63 3.55-1.69 4.9z"></path></g>
<g id="note"><path d="M22 10l-6-6H4c-1.1 0-2 .9-2 2v12.01c0 1.1.9 1.99 2 1.99l16-.01c1.1 0 2-.89 2-1.99v-8zm-7-4.5l5.5 5.5H15V5.5z"></path></g>
<g id="pause"><path d="M6 19h4V5H6v14zm8-14v14h4V5h-4z"></path></g>
<g id="pause-circle-filled"><path d="M12 2C6.48 2 2 6.48 2 12s4.48 10 10 10 10-4.48 10-10S17.52 2 12 2zm-1 14H9V8h2v8zm4 0h-2V8h2v8z"></path></g>
<g id="pause-circle-outline"><path d="M9 16h2V8H9v8zm3-14C6.48 2 2 6.48 2 12s4.48 10 10 10 10-4.48 10-10S17.52 2 12 2zm0 18c-4.41 0-8-3.59-8-8s3.59-8 8-8 8 3.59 8 8-3.59 8-8 8zm1-4h2V8h-2v8z"></path></g>
<g id="play-arrow"><path d="M8 5v14l11-7z"></path></g>
<g id="play-circle-filled"><path d="M12 2C6.48 2 2 6.48 2 12s4.48 10 10 10 10-4.48 10-10S17.52 2 12 2zm-2 14.5v-9l6 4.5-6 4.5z"></path></g>
<g id="play-circle-outline"><path d="M10 16.5l6-4.5-6-4.5v9zM12 2C6.48 2 2 6.48 2 12s4.48 10 10 10 10-4.48 10-10S17.52 2 12 2zm0 18c-4.41 0-8-3.59-8-8s3.59-8 8-8 8 3.59 8 8-3.59 8-8 8z"></path></g>
<g id="playlist-add"><path d="M14 10H2v2h12v-2zm0-4H2v2h12V6zm4 8v-4h-2v4h-4v2h4v4h2v-4h4v-2h-4zM2 16h8v-2H2v2z"></path></g>
<g id="playlist-add-check"><path d="M14 10H2v2h12v-2zm0-4H2v2h12V6zM2 16h8v-2H2v2zm19.5-4.5L23 13l-6.99 7-4.51-4.5L13 14l3.01 3 5.49-5.5z"></path></g>
<g id="playlist-play"><path d="M19 9H2v2h17V9zm0-4H2v2h17V5zM2 15h13v-2H2v2zm15-2v6l5-3-5-3z"></path></g>
<g id="queue"><path d="M4 6H2v14c0 1.1.9 2 2 2h14v-2H4V6zm16-4H8c-1.1 0-2 .9-2 2v12c0 1.1.9 2 2 2h12c1.1 0 2-.9 2-2V4c0-1.1-.9-2-2-2zm-1 9h-4v4h-2v-4H9V9h4V5h2v4h4v2z"></path></g>
<g id="queue-music"><path d="M15 6H3v2h12V6zm0 4H3v2h12v-2zM3 16h8v-2H3v2zM17 6v8.18c-.31-.11-.65-.18-1-.18-1.66 0-3 1.34-3 3s1.34 3 3 3 3-1.34 3-3V8h3V6h-5z"></path></g>
<g id="queue-play-next"><path d="M21 3H3c-1.11 0-2 .89-2 2v12c0 1.1.89 2 2 2h5v2h8v-2h2v-2H3V5h18v8h2V5c0-1.11-.9-2-2-2zm-8 7V7h-2v3H8v2h3v3h2v-3h3v-2h-3zm11 8l-4.5 4.5L18 21l3-3-3-3 1.5-1.5L24 18z"></path></g>
<g id="radio"><path d="M3.24 6.15C2.51 6.43 2 7.17 2 8v12c0 1.1.89 2 2 2h16c1.11 0 2-.9 2-2V8c0-1.11-.89-2-2-2H8.3l8.26-3.34L15.88 1 3.24 6.15zM7 20c-1.66 0-3-1.34-3-3s1.34-3 3-3 3 1.34 3 3-1.34 3-3 3zm13-8h-2v-2h-2v2H4V8h16v4z"></path></g>
<g id="recent-actors"><path d="M21 5v14h2V5h-2zm-4 14h2V5h-2v14zM14 5H2c-.55 0-1 .45-1 1v12c0 .55.45 1 1 1h12c.55 0 1-.45 1-1V6c0-.55-.45-1-1-1zM8 7.75c1.24 0 2.25 1.01 2.25 2.25S9.24 12.25 8 12.25 5.75 11.24 5.75 10 6.76 7.75 8 7.75zM12.5 17h-9v-.75c0-1.5 3-2.25 4.5-2.25s4.5.75 4.5 2.25V17z"></path></g>
<g id="remove-from-queue"><path d="M21 3H3c-1.11 0-2 .89-2 2v12c0 1.1.89 2 2 2h5v2h8v-2h5c1.1 0 1.99-.9 1.99-2L23 5c0-1.11-.9-2-2-2zm0 14H3V5h18v12zm-5-7v2H8v-2h8z"></path></g>
<g id="repeat"><path d="M7 7h10v3l4-4-4-4v3H5v6h2V7zm10 10H7v-3l-4 4 4 4v-3h12v-6h-2v4z"></path></g>
<g id="repeat-one"><path d="M7 7h10v3l4-4-4-4v3H5v6h2V7zm10 10H7v-3l-4 4 4 4v-3h12v-6h-2v4zm-4-2V9h-1l-2 1v1h1.5v4H13z"></path></g>
<g id="replay"><path d="M12 5V1L7 6l5 5V7c3.31 0 6 2.69 6 6s-2.69 6-6 6-6-2.69-6-6H4c0 4.42 3.58 8 8 8s8-3.58 8-8-3.58-8-8-8z"></path></g>
<g id="replay-10"><path d="M12 5V1L7 6l5 5V7c3.3 0 6 2.7 6 6s-2.7 6-6 6-6-2.7-6-6H4c0 4.4 3.6 8 8 8s8-3.6 8-8-3.6-8-8-8zm-1.1 11H10v-3.3L9 13v-.7l1.8-.6h.1V16zm4.3-1.8c0 .3 0 .6-.1.8l-.3.6s-.3.3-.5.3-.4.1-.6.1-.4 0-.6-.1-.3-.2-.5-.3-.2-.3-.3-.6-.1-.5-.1-.8v-.7c0-.3 0-.6.1-.8l.3-.6s.3-.3.5-.3.4-.1.6-.1.4 0 .6.1c.2.1.3.2.5.3s.2.3.3.6.1.5.1.8v.7zm-.9-.8v-.5s-.1-.2-.1-.3-.1-.1-.2-.2-.2-.1-.3-.1-.2 0-.3.1l-.2.2s-.1.2-.1.3v2s.1.2.1.3.1.1.2.2.2.1.3.1.2 0 .3-.1l.2-.2s.1-.2.1-.3v-1.5z"></path></g>
<g id="replay-30"><path d="M12 5V1L7 6l5 5V7c3.3 0 6 2.7 6 6s-2.7 6-6 6-6-2.7-6-6H4c0 4.4 3.6 8 8 8s8-3.6 8-8-3.6-8-8-8zm-2.4 8.5h.4c.2 0 .4-.1.5-.2s.2-.2.2-.4v-.2s-.1-.1-.1-.2-.1-.1-.2-.1h-.5s-.1.1-.2.1-.1.1-.1.2v.2h-1c0-.2 0-.3.1-.5s.2-.3.3-.4.3-.2.4-.2.4-.1.5-.1c.2 0 .4 0 .6.1s.3.1.5.2.2.2.3.4.1.3.1.5v.3s-.1.2-.1.3-.1.2-.2.2-.2.1-.3.2c.2.1.4.2.5.4s.2.4.2.6c0 .2 0 .4-.1.5s-.2.3-.3.4-.3.2-.5.2-.4.1-.6.1c-.2 0-.4 0-.5-.1s-.3-.1-.5-.2-.2-.2-.3-.4-.1-.4-.1-.6h.8v.2s.1.1.1.2.1.1.2.1h.5s.1-.1.2-.1.1-.1.1-.2v-.5s-.1-.1-.1-.2-.1-.1-.2-.1h-.6v-.7zm5.7.7c0 .3 0 .6-.1.8l-.3.6s-.3.3-.5.3-.4.1-.6.1-.4 0-.6-.1-.3-.2-.5-.3-.2-.3-.3-.6-.1-.5-.1-.8v-.7c0-.3 0-.6.1-.8l.3-.6s.3-.3.5-.3.4-.1.6-.1.4 0 .6.1.3.2.5.3.2.3.3.6.1.5.1.8v.7zm-.8-.8v-.5c0-.1-.1-.2-.1-.3s-.1-.1-.2-.2-.2-.1-.3-.1-.2 0-.3.1l-.2.2s-.1.2-.1.3v2s.1.2.1.3.1.1.2.2.2.1.3.1.2 0 .3-.1l.2-.2s.1-.2.1-.3v-1.5z"></path></g>
<g id="replay-5"><path d="M12 5V1L7 6l5 5V7c3.3 0 6 2.7 6 6s-2.7 6-6 6-6-2.7-6-6H4c0 4.4 3.6 8 8 8s8-3.6 8-8-3.6-8-8-8zm-1.3 8.9l.2-2.2h2.4v.7h-1.7l-.1.9s.1 0 .1-.1.1 0 .1-.1.1 0 .2 0h.2c.2 0 .4 0 .5.1s.3.2.4.3.2.3.3.5.1.4.1.6c0 .2 0 .4-.1.5s-.1.3-.3.5-.3.2-.4.3-.4.1-.6.1c-.2 0-.4 0-.5-.1s-.3-.1-.5-.2-.2-.2-.3-.4-.1-.3-.1-.5h.8c0 .2.1.3.2.4s.2.1.4.1c.1 0 .2 0 .3-.1l.2-.2s.1-.2.1-.3v-.6l-.1-.2-.2-.2s-.2-.1-.3-.1h-.2s-.1 0-.2.1-.1 0-.1.1-.1.1-.1.1h-.7z"></path></g>
<g id="shuffle"><path d="M10.59 9.17L5.41 4 4 5.41l5.17 5.17 1.42-1.41zM14.5 4l2.04 2.04L4 18.59 5.41 20 17.96 7.46 20 9.5V4h-5.5zm.33 9.41l-1.41 1.41 3.13 3.13L14.5 20H20v-5.5l-2.04 2.04-3.13-3.13z"></path></g>
<g id="skip-next"><path d="M6 18l8.5-6L6 6v12zM16 6v12h2V6h-2z"></path></g>
<g id="skip-previous"><path d="M6 6h2v12H6zm3.5 6l8.5 6V6z"></path></g>
<g id="slow-motion-video"><path d="M13.05 9.79L10 7.5v9l3.05-2.29L16 12zm0 0L10 7.5v9l3.05-2.29L16 12zm0 0L10 7.5v9l3.05-2.29L16 12zM11 4.07V2.05c-2.01.2-3.84 1-5.32 2.21L7.1 5.69c1.11-.86 2.44-1.44 3.9-1.62zM5.69 7.1L4.26 5.68C3.05 7.16 2.25 8.99 2.05 11h2.02c.18-1.46.76-2.79 1.62-3.9zM4.07 13H2.05c.2 2.01 1 3.84 2.21 5.32l1.43-1.43c-.86-1.1-1.44-2.43-1.62-3.89zm1.61 6.74C7.16 20.95 9 21.75 11 21.95v-2.02c-1.46-.18-2.79-.76-3.9-1.62l-1.42 1.43zM22 12c0 5.16-3.92 9.42-8.95 9.95v-2.02C16.97 19.41 20 16.05 20 12s-3.03-7.41-6.95-7.93V2.05C18.08 2.58 22 6.84 22 12z"></path></g>
<g id="snooze"><path d="M7.88 3.39L6.6 1.86 2 5.71l1.29 1.53 4.59-3.85zM22 5.72l-4.6-3.86-1.29 1.53 4.6 3.86L22 5.72zM12 4c-4.97 0-9 4.03-9 9s4.02 9 9 9c4.97 0 9-4.03 9-9s-4.03-9-9-9zm0 16c-3.87 0-7-3.13-7-7s3.13-7 7-7 7 3.13 7 7-3.13 7-7 7zm-3-9h3.63L9 15.2V17h6v-2h-3.63L15 10.8V9H9v2z"></path></g>
<g id="sort-by-alpha"><path d="M14.94 4.66h-4.72l2.36-2.36zm-4.69 14.71h4.66l-2.33 2.33zM6.1 6.27L1.6 17.73h1.84l.92-2.45h5.11l.92 2.45h1.84L7.74 6.27H6.1zm-1.13 7.37l1.94-5.18 1.94 5.18H4.97zm10.76 2.5h6.12v1.59h-8.53v-1.29l5.92-8.56h-5.88v-1.6h8.3v1.26l-5.93 8.6z"></path></g>
<g id="stop"><path d="M6 6h12v12H6z"></path></g>
<g id="subscriptions"><path d="M20 8H4V6h16v2zm-2-6H6v2h12V2zm4 10v8c0 1.1-.9 2-2 2H4c-1.1 0-2-.9-2-2v-8c0-1.1.9-2 2-2h16c1.1 0 2 .9 2 2zm-6 4l-6-3.27v6.53L16 16z"></path></g>
<g id="subtitles"><path d="M20 4H4c-1.1 0-2 .9-2 2v12c0 1.1.9 2 2 2h16c1.1 0 2-.9 2-2V6c0-1.1-.9-2-2-2zM4 12h4v2H4v-2zm10 6H4v-2h10v2zm6 0h-4v-2h4v2zm0-4H10v-2h10v2z"></path></g>
<g id="surround-sound"><path d="M20 4H4c-1.1 0-2 .9-2 2v12c0 1.1.9 2 2 2h16c1.1 0 2-.9 2-2V6c0-1.1-.9-2-2-2zM7.76 16.24l-1.41 1.41C4.78 16.1 4 14.05 4 12c0-2.05.78-4.1 2.34-5.66l1.41 1.41C6.59 8.93 6 10.46 6 12s.59 3.07 1.76 4.24zM12 16c-2.21 0-4-1.79-4-4s1.79-4 4-4 4 1.79 4 4-1.79 4-4 4zm5.66 1.66l-1.41-1.41C17.41 15.07 18 13.54 18 12s-.59-3.07-1.76-4.24l1.41-1.41C19.22 7.9 20 9.95 20 12c0 2.05-.78 4.1-2.34 5.66zM12 10c-1.1 0-2 .9-2 2s.9 2 2 2 2-.9 2-2-.9-2-2-2z"></path></g>
<g id="video-call"><path d="M17 10.5V7c0-.55-.45-1-1-1H4c-.55 0-1 .45-1 1v10c0 .55.45 1 1 1h12c.55 0 1-.45 1-1v-3.5l4 4v-11l-4 4zM14 13h-3v3H9v-3H6v-2h3V8h2v3h3v2z"></path></g>
<g id="video-label"><path d="M21 3H3c-1.1 0-2 .9-2 2v14c0 1.1.9 2 2 2h18c1.1 0 2-.9 2-2V5c0-1.1-.9-2-2-2zm0 13H3V5h18v11z"></path></g>
<g id="video-library"><path d="M4 6H2v14c0 1.1.9 2 2 2h14v-2H4V6zm16-4H8c-1.1 0-2 .9-2 2v12c0 1.1.9 2 2 2h12c1.1 0 2-.9 2-2V4c0-1.1-.9-2-2-2zm-8 12.5v-9l6 4.5-6 4.5z"></path></g>
<g id="videocam"><path d="M17 10.5V7c0-.55-.45-1-1-1H4c-.55 0-1 .45-1 1v10c0 .55.45 1 1 1h12c.55 0 1-.45 1-1v-3.5l4 4v-11l-4 4z"></path></g>
<g id="videocam-off"><path d="M21 6.5l-4 4V7c0-.55-.45-1-1-1H9.82L21 17.18V6.5zM3.27 2L2 3.27 4.73 6H4c-.55 0-1 .45-1 1v10c0 .55.45 1 1 1h12c.21 0 .39-.08.54-.18L19.73 21 21 19.73 3.27 2z"></path></g>
<g id="volume-down"><path d="M18.5 12c0-1.77-1.02-3.29-2.5-4.03v8.05c1.48-.73 2.5-2.25 2.5-4.02zM5 9v6h4l5 5V4L9 9H5z"></path></g>
<g id="volume-mute"><path d="M7 9v6h4l5 5V4l-5 5H7z"></path></g>
<g id="volume-off"><path d="M16.5 12c0-1.77-1.02-3.29-2.5-4.03v2.21l2.45 2.45c.03-.2.05-.41.05-.63zm2.5 0c0 .94-.2 1.82-.54 2.64l1.51 1.51C20.63 14.91 21 13.5 21 12c0-4.28-2.99-7.86-7-8.77v2.06c2.89.86 5 3.54 5 6.71zM4.27 3L3 4.27 7.73 9H3v6h4l5 5v-6.73l4.25 4.25c-.67.52-1.42.93-2.25 1.18v2.06c1.38-.31 2.63-.95 3.69-1.81L19.73 21 21 19.73l-9-9L4.27 3zM12 4L9.91 6.09 12 8.18V4z"></path></g>
<g id="volume-up"><path d="M3 9v6h4l5 5V4L7 9H3zm13.5 3c0-1.77-1.02-3.29-2.5-4.03v8.05c1.48-.73 2.5-2.25 2.5-4.02zM14 3.23v2.06c2.89.86 5 3.54 5 6.71s-2.11 5.85-5 6.71v2.06c4.01-.91 7-4.49 7-8.77s-2.99-7.86-7-8.77z"></path></g>
<g id="web"><path d="M20 4H4c-1.1 0-1.99.9-1.99 2L2 18c0 1.1.9 2 2 2h16c1.1 0 2-.9 2-2V6c0-1.1-.9-2-2-2zm-5 14H4v-4h11v4zm0-5H4V9h11v4zm5 5h-4V9h4v9z"></path></g>
<g id="web-asset"><path d="M19 4H5c-1.11 0-2 .9-2 2v12c0 1.1.89 2 2 2h14c1.1 0 2-.9 2-2V6c0-1.1-.89-2-2-2zm0 14H5V8h14v10z"></path></g>
</defs></svg>
</iron-iconset-svg><iron-iconset-svg name="editor" size="24" style="display: none;">
<svg><defs>
<g id="attach-file"><path d="M16.5 6v11.5c0 2.21-1.79 4-4 4s-4-1.79-4-4V5c0-1.38 1.12-2.5 2.5-2.5s2.5 1.12 2.5 2.5v10.5c0 .55-.45 1-1 1s-1-.45-1-1V6H10v9.5c0 1.38 1.12 2.5 2.5 2.5s2.5-1.12 2.5-2.5V5c0-2.21-1.79-4-4-4S7 2.79 7 5v12.5c0 3.04 2.46 5.5 5.5 5.5s5.5-2.46 5.5-5.5V6h-1.5z"></path></g>
<g id="attach-money"><path d="M11.8 10.9c-2.27-.59-3-1.2-3-2.15 0-1.09 1.01-1.85 2.7-1.85 1.78 0 2.44.85 2.5 2.1h2.21c-.07-1.72-1.12-3.3-3.21-3.81V3h-3v2.16c-1.94.42-3.5 1.68-3.5 3.61 0 2.31 1.91 3.46 4.7 4.13 2.5.6 3 1.48 3 2.41 0 .69-.49 1.79-2.7 1.79-2.06 0-2.87-.92-2.98-2.1h-2.2c.12 2.19 1.76 3.42 3.68 3.83V21h3v-2.15c1.95-.37 3.5-1.5 3.5-3.55 0-2.84-2.43-3.81-4.7-4.4z"></path></g>
<g id="border-all"><path d="M3 3v18h18V3H3zm8 16H5v-6h6v6zm0-8H5V5h6v6zm8 8h-6v-6h6v6zm0-8h-6V5h6v6z"></path></g>
<g id="border-bottom"><path d="M9 11H7v2h2v-2zm4 4h-2v2h2v-2zM9 3H7v2h2V3zm4 8h-2v2h2v-2zM5 3H3v2h2V3zm8 4h-2v2h2V7zm4 4h-2v2h2v-2zm-4-8h-2v2h2V3zm4 0h-2v2h2V3zm2 10h2v-2h-2v2zm0 4h2v-2h-2v2zM5 7H3v2h2V7zm14-4v2h2V3h-2zm0 6h2V7h-2v2zM5 11H3v2h2v-2zM3 21h18v-2H3v2zm2-6H3v2h2v-2z"></path></g>
<g id="border-clear"><path d="M7 5h2V3H7v2zm0 8h2v-2H7v2zm0 8h2v-2H7v2zm4-4h2v-2h-2v2zm0 4h2v-2h-2v2zm-8 0h2v-2H3v2zm0-4h2v-2H3v2zm0-4h2v-2H3v2zm0-4h2V7H3v2zm0-4h2V3H3v2zm8 8h2v-2h-2v2zm8 4h2v-2h-2v2zm0-4h2v-2h-2v2zm0 8h2v-2h-2v2zm0-12h2V7h-2v2zm-8 0h2V7h-2v2zm8-6v2h2V3h-2zm-8 2h2V3h-2v2zm4 16h2v-2h-2v2zm0-8h2v-2h-2v2zm0-8h2V3h-2v2z"></path></g>
<g id="border-color"><path d="M17.75 7L14 3.25l-10 10V17h3.75l10-10zm2.96-2.96c.39-.39.39-1.02 0-1.41L18.37.29c-.39-.39-1.02-.39-1.41 0L15 2.25 18.75 6l1.96-1.96z"></path><path fill-opacity=".36" d="M0 20h24v4H0z"></path></g>
<g id="border-horizontal"><path d="M3 21h2v-2H3v2zM5 7H3v2h2V7zM3 17h2v-2H3v2zm4 4h2v-2H7v2zM5 3H3v2h2V3zm4 0H7v2h2V3zm8 0h-2v2h2V3zm-4 4h-2v2h2V7zm0-4h-2v2h2V3zm6 14h2v-2h-2v2zm-8 4h2v-2h-2v2zm-8-8h18v-2H3v2zM19 3v2h2V3h-2zm0 6h2V7h-2v2zm-8 8h2v-2h-2v2zm4 4h2v-2h-2v2zm4 0h2v-2h-2v2z"></path></g>
<g id="border-inner"><path d="M3 21h2v-2H3v2zm4 0h2v-2H7v2zM5 7H3v2h2V7zM3 17h2v-2H3v2zM9 3H7v2h2V3zM5 3H3v2h2V3zm12 0h-2v2h2V3zm2 6h2V7h-2v2zm0-6v2h2V3h-2zm-4 18h2v-2h-2v2zM13 3h-2v8H3v2h8v8h2v-8h8v-2h-8V3zm6 18h2v-2h-2v2zm0-4h2v-2h-2v2z"></path></g>
<g id="border-left"><path d="M11 21h2v-2h-2v2zm0-4h2v-2h-2v2zm0-12h2V3h-2v2zm0 4h2V7h-2v2zm0 4h2v-2h-2v2zm-4 8h2v-2H7v2zM7 5h2V3H7v2zm0 8h2v-2H7v2zm-4 8h2V3H3v18zM19 9h2V7h-2v2zm-4 12h2v-2h-2v2zm4-4h2v-2h-2v2zm0-14v2h2V3h-2zm0 10h2v-2h-2v2zm0 8h2v-2h-2v2zm-4-8h2v-2h-2v2zm0-8h2V3h-2v2z"></path></g>
<g id="border-outer"><path d="M13 7h-2v2h2V7zm0 4h-2v2h2v-2zm4 0h-2v2h2v-2zM3 3v18h18V3H3zm16 16H5V5h14v14zm-6-4h-2v2h2v-2zm-4-4H7v2h2v-2z"></path></g>
<g id="border-right"><path d="M7 21h2v-2H7v2zM3 5h2V3H3v2zm4 0h2V3H7v2zm0 8h2v-2H7v2zm-4 8h2v-2H3v2zm8 0h2v-2h-2v2zm-8-8h2v-2H3v2zm0 4h2v-2H3v2zm0-8h2V7H3v2zm8 8h2v-2h-2v2zm4-4h2v-2h-2v2zm4-10v18h2V3h-2zm-4 18h2v-2h-2v2zm0-16h2V3h-2v2zm-4 8h2v-2h-2v2zm0-8h2V3h-2v2zm0 4h2V7h-2v2z"></path></g>
<g id="border-style"><path d="M15 21h2v-2h-2v2zm4 0h2v-2h-2v2zM7 21h2v-2H7v2zm4 0h2v-2h-2v2zm8-4h2v-2h-2v2zm0-4h2v-2h-2v2zM3 3v18h2V5h16V3H3zm16 6h2V7h-2v2z"></path></g>
<g id="border-top"><path d="M7 21h2v-2H7v2zm0-8h2v-2H7v2zm4 0h2v-2h-2v2zm0 8h2v-2h-2v2zm-8-4h2v-2H3v2zm0 4h2v-2H3v2zm0-8h2v-2H3v2zm0-4h2V7H3v2zm8 8h2v-2h-2v2zm8-8h2V7h-2v2zm0 4h2v-2h-2v2zM3 3v2h18V3H3zm16 14h2v-2h-2v2zm-4 4h2v-2h-2v2zM11 9h2V7h-2v2zm8 12h2v-2h-2v2zm-4-8h2v-2h-2v2z"></path></g>
<g id="border-vertical"><path d="M3 9h2V7H3v2zm0-4h2V3H3v2zm4 16h2v-2H7v2zm0-8h2v-2H7v2zm-4 0h2v-2H3v2zm0 8h2v-2H3v2zm0-4h2v-2H3v2zM7 5h2V3H7v2zm12 12h2v-2h-2v2zm-8 4h2V3h-2v18zm8 0h2v-2h-2v2zm0-8h2v-2h-2v2zm0-10v2h2V3h-2zm0 6h2V7h-2v2zm-4-4h2V3h-2v2zm0 16h2v-2h-2v2zm0-8h2v-2h-2v2z"></path></g>
<g id="bubble-chart"><circle cx="7.2" cy="14.4" r="3.2"></circle><circle cx="14.8" cy="18" r="2"></circle><circle cx="15.2" cy="8.8" r="4.8"></circle></g>
<g id="drag-handle"><path d="M20 9H4v2h16V9zM4 15h16v-2H4v2z"></path></g>
<g id="format-align-center"><path d="M7 15v2h10v-2H7zm-4 6h18v-2H3v2zm0-8h18v-2H3v2zm4-6v2h10V7H7zM3 3v2h18V3H3z"></path></g>
<g id="format-align-justify"><path d="M3 21h18v-2H3v2zm0-4h18v-2H3v2zm0-4h18v-2H3v2zm0-4h18V7H3v2zm0-6v2h18V3H3z"></path></g>
<g id="format-align-left"><path d="M15 15H3v2h12v-2zm0-8H3v2h12V7zM3 13h18v-2H3v2zm0 8h18v-2H3v2zM3 3v2h18V3H3z"></path></g>
<g id="format-align-right"><path d="M3 21h18v-2H3v2zm6-4h12v-2H9v2zm-6-4h18v-2H3v2zm6-4h12V7H9v2zM3 3v2h18V3H3z"></path></g>
<g id="format-bold"><path d="M15.6 10.79c.97-.67 1.65-1.77 1.65-2.79 0-2.26-1.75-4-4-4H7v14h7.04c2.09 0 3.71-1.7 3.71-3.79 0-1.52-.86-2.82-2.15-3.42zM10 6.5h3c.83 0 1.5.67 1.5 1.5s-.67 1.5-1.5 1.5h-3v-3zm3.5 9H10v-3h3.5c.83 0 1.5.67 1.5 1.5s-.67 1.5-1.5 1.5z"></path></g>
<g id="format-clear"><path d="M3.27 5L2 6.27l6.97 6.97L6.5 19h3l1.57-3.66L16.73 21 18 19.73 3.55 5.27 3.27 5zM6 5v.18L8.82 8h2.4l-.72 1.68 2.1 2.1L14.21 8H20V5H6z"></path></g>
<g id="format-color-fill"><path d="M16.56 8.94L7.62 0 6.21 1.41l2.38 2.38-5.15 5.15c-.59.59-.59 1.54 0 2.12l5.5 5.5c.29.29.68.44 1.06.44s.77-.15 1.06-.44l5.5-5.5c.59-.58.59-1.53 0-2.12zM5.21 10L10 5.21 14.79 10H5.21zM19 11.5s-2 2.17-2 3.5c0 1.1.9 2 2 2s2-.9 2-2c0-1.33-2-3.5-2-3.5z"></path><path fill-opacity=".36" d="M0 20h24v4H0z"></path></g>
<g id="format-color-reset"><path d="M18 14c0-4-6-10.8-6-10.8s-1.33 1.51-2.73 3.52l8.59 8.59c.09-.42.14-.86.14-1.31zm-.88 3.12L12.5 12.5 5.27 5.27 4 6.55l3.32 3.32C6.55 11.32 6 12.79 6 14c0 3.31 2.69 6 6 6 1.52 0 2.9-.57 3.96-1.5l2.63 2.63 1.27-1.27-2.74-2.74z"></path></g>
<g id="format-color-text"><path fill-opacity=".36" d="M0 20h24v4H0z"></path><path d="M11 3L5.5 17h2.25l1.12-3h6.25l1.12 3h2.25L13 3h-2zm-1.38 9L12 5.67 14.38 12H9.62z"></path></g>
<g id="format-indent-decrease"><path d="M11 17h10v-2H11v2zm-8-5l4 4V8l-4 4zm0 9h18v-2H3v2zM3 3v2h18V3H3zm8 6h10V7H11v2zm0 4h10v-2H11v2z"></path></g>
<g id="format-indent-increase"><path d="M3 21h18v-2H3v2zM3 8v8l4-4-4-4zm8 9h10v-2H11v2zM3 3v2h18V3H3zm8 6h10V7H11v2zm0 4h10v-2H11v2z"></path></g>
<g id="format-italic"><path d="M10 4v3h2.21l-3.42 8H6v3h8v-3h-2.21l3.42-8H18V4z"></path></g>
<g id="format-line-spacing"><path d="M6 7h2.5L5 3.5 1.5 7H4v10H1.5L5 20.5 8.5 17H6V7zm4-2v2h12V5H10zm0 14h12v-2H10v2zm0-6h12v-2H10v2z"></path></g>
<g id="format-list-bulleted"><path d="M4 10.5c-.83 0-1.5.67-1.5 1.5s.67 1.5 1.5 1.5 1.5-.67 1.5-1.5-.67-1.5-1.5-1.5zm0-6c-.83 0-1.5.67-1.5 1.5S3.17 7.5 4 7.5 5.5 6.83 5.5 6 4.83 4.5 4 4.5zm0 12c-.83 0-1.5.68-1.5 1.5s.68 1.5 1.5 1.5 1.5-.68 1.5-1.5-.67-1.5-1.5-1.5zM7 19h14v-2H7v2zm0-6h14v-2H7v2zm0-8v2h14V5H7z"></path></g>
<g id="format-list-numbered"><path d="M2 17h2v.5H3v1h1v.5H2v1h3v-4H2v1zm1-9h1V4H2v1h1v3zm-1 3h1.8L2 13.1v.9h3v-1H3.2L5 10.9V10H2v1zm5-6v2h14V5H7zm0 14h14v-2H7v2zm0-6h14v-2H7v2z"></path></g>
<g id="format-paint"><path d="M18 4V3c0-.55-.45-1-1-1H5c-.55 0-1 .45-1 1v4c0 .55.45 1 1 1h12c.55 0 1-.45 1-1V6h1v4H9v11c0 .55.45 1 1 1h2c.55 0 1-.45 1-1v-9h8V4h-3z"></path></g>
<g id="format-quote"><path d="M6 17h3l2-4V7H5v6h3zm8 0h3l2-4V7h-6v6h3z"></path></g>
<g id="format-shapes"><path d="M23 7V1h-6v2H7V1H1v6h2v10H1v6h6v-2h10v2h6v-6h-2V7h2zM3 3h2v2H3V3zm2 18H3v-2h2v2zm12-2H7v-2H5V7h2V5h10v2h2v10h-2v2zm4 2h-2v-2h2v2zM19 5V3h2v2h-2zm-5.27 9h-3.49l-.73 2H7.89l3.4-9h1.4l3.41 9h-1.63l-.74-2zm-3.04-1.26h2.61L12 8.91l-1.31 3.83z"></path></g>
<g id="format-size"><path d="M9 4v3h5v12h3V7h5V4H9zm-6 8h3v7h3v-7h3V9H3v3z"></path></g>
<g id="format-strikethrough"><path d="M10 19h4v-3h-4v3zM5 4v3h5v3h4V7h5V4H5zM3 14h18v-2H3v2z"></path></g>
<g id="format-textdirection-l-to-r"><path d="M9 10v5h2V4h2v11h2V4h2V2H9C6.79 2 5 3.79 5 6s1.79 4 4 4zm12 8l-4-4v3H5v2h12v3l4-4z"></path></g>
<g id="format-textdirection-r-to-l"><path d="M10 10v5h2V4h2v11h2V4h2V2h-8C7.79 2 6 3.79 6 6s1.79 4 4 4zm-2 7v-3l-4 4 4 4v-3h12v-2H8z"></path></g>
<g id="format-underlined"><path d="M12 17c3.31 0 6-2.69 6-6V3h-2.5v8c0 1.93-1.57 3.5-3.5 3.5S8.5 12.93 8.5 11V3H6v8c0 3.31 2.69 6 6 6zm-7 2v2h14v-2H5z"></path></g>
<g id="functions"><path d="M18 4H6v2l6.5 6L6 18v2h12v-3h-7l5-5-5-5h7z"></path></g>
<g id="highlight"><path d="M6 14l3 3v5h6v-5l3-3V9H6zm5-12h2v3h-2zM3.5 5.875L4.914 4.46l2.12 2.122L5.62 7.997zm13.46.71l2.123-2.12 1.414 1.414L18.375 8z"></path></g>
<g id="insert-chart"><path d="M19 3H5c-1.1 0-2 .9-2 2v14c0 1.1.9 2 2 2h14c1.1 0 2-.9 2-2V5c0-1.1-.9-2-2-2zM9 17H7v-7h2v7zm4 0h-2V7h2v10zm4 0h-2v-4h2v4z"></path></g>
<g id="insert-comment"><path d="M20 2H4c-1.1 0-2 .9-2 2v12c0 1.1.9 2 2 2h14l4 4V4c0-1.1-.9-2-2-2zm-2 12H6v-2h12v2zm0-3H6V9h12v2zm0-3H6V6h12v2z"></path></g>
<g id="insert-drive-file"><path d="M6 2c-1.1 0-1.99.9-1.99 2L4 20c0 1.1.89 2 1.99 2H18c1.1 0 2-.9 2-2V8l-6-6H6zm7 7V3.5L18.5 9H13z"></path></g>
<g id="insert-emoticon"><path d="M11.99 2C6.47 2 2 6.48 2 12s4.47 10 9.99 10C17.52 22 22 17.52 22 12S17.52 2 11.99 2zM12 20c-4.42 0-8-3.58-8-8s3.58-8 8-8 8 3.58 8 8-3.58 8-8 8zm3.5-9c.83 0 1.5-.67 1.5-1.5S16.33 8 15.5 8 14 8.67 14 9.5s.67 1.5 1.5 1.5zm-7 0c.83 0 1.5-.67 1.5-1.5S9.33 8 8.5 8 7 8.67 7 9.5 7.67 11 8.5 11zm3.5 6.5c2.33 0 4.31-1.46 5.11-3.5H6.89c.8 2.04 2.78 3.5 5.11 3.5z"></path></g>
<g id="insert-invitation"><path d="M17 12h-5v5h5v-5zM16 1v2H8V1H6v2H5c-1.11 0-1.99.9-1.99 2L3 19c0 1.1.89 2 2 2h14c1.1 0 2-.9 2-2V5c0-1.1-.9-2-2-2h-1V1h-2zm3 18H5V8h14v11z"></path></g>
<g id="insert-link"><path d="M3.9 12c0-1.71 1.39-3.1 3.1-3.1h4V7H7c-2.76 0-5 2.24-5 5s2.24 5 5 5h4v-1.9H7c-1.71 0-3.1-1.39-3.1-3.1zM8 13h8v-2H8v2zm9-6h-4v1.9h4c1.71 0 3.1 1.39 3.1 3.1s-1.39 3.1-3.1 3.1h-4V17h4c2.76 0 5-2.24 5-5s-2.24-5-5-5z"></path></g>
<g id="insert-photo"><path d="M21 19V5c0-1.1-.9-2-2-2H5c-1.1 0-2 .9-2 2v14c0 1.1.9 2 2 2h14c1.1 0 2-.9 2-2zM8.5 13.5l2.5 3.01L14.5 12l4.5 6H5l3.5-4.5z"></path></g>
<g id="linear-scale"><path d="M19.5 9.5c-1.03 0-1.9.62-2.29 1.5h-2.92c-.39-.88-1.26-1.5-2.29-1.5s-1.9.62-2.29 1.5H6.79c-.39-.88-1.26-1.5-2.29-1.5C3.12 9.5 2 10.62 2 12s1.12 2.5 2.5 2.5c1.03 0 1.9-.62 2.29-1.5h2.92c.39.88 1.26 1.5 2.29 1.5s1.9-.62 2.29-1.5h2.92c.39.88 1.26 1.5 2.29 1.5 1.38 0 2.5-1.12 2.5-2.5s-1.12-2.5-2.5-2.5z"></path></g>
<g id="merge-type"><path d="M17 20.41L18.41 19 15 15.59 13.59 17 17 20.41zM7.5 8H11v5.59L5.59 19 7 20.41l6-6V8h3.5L12 3.5 7.5 8z"></path></g>
<g id="mode-comment"><path d="M21.99 4c0-1.1-.89-2-1.99-2H4c-1.1 0-2 .9-2 2v12c0 1.1.9 2 2 2h14l4 4-.01-18z"></path></g>
<g id="mode-edit"><path d="M3 17.25V21h3.75L17.81 9.94l-3.75-3.75L3 17.25zM20.71 7.04c.39-.39.39-1.02 0-1.41l-2.34-2.34c-.39-.39-1.02-.39-1.41 0l-1.83 1.83 3.75 3.75 1.83-1.83z"></path></g>
<g id="monetization-on"><path d="M12 2C6.48 2 2 6.48 2 12s4.48 10 10 10 10-4.48 10-10S17.52 2 12 2zm1.41 16.09V20h-2.67v-1.93c-1.71-.36-3.16-1.46-3.27-3.4h1.96c.1 1.05.82 1.87 2.65 1.87 1.96 0 2.4-.98 2.4-1.59 0-.83-.44-1.61-2.67-2.14-2.48-.6-4.18-1.62-4.18-3.67 0-1.72 1.39-2.84 3.11-3.21V4h2.67v1.95c1.86.45 2.79 1.86 2.85 3.39H14.3c-.05-1.11-.64-1.87-2.22-1.87-1.5 0-2.4.68-2.4 1.64 0 .84.65 1.39 2.67 1.91s4.18 1.39 4.18 3.91c-.01 1.83-1.38 2.83-3.12 3.16z"></path></g>
<g id="money-off"><path d="M12.5 6.9c1.78 0 2.44.85 2.5 2.1h2.21c-.07-1.72-1.12-3.3-3.21-3.81V3h-3v2.16c-.53.12-1.03.3-1.48.54l1.47 1.47c.41-.17.91-.27 1.51-.27zM5.33 4.06L4.06 5.33 7.5 8.77c0 2.08 1.56 3.21 3.91 3.91l3.51 3.51c-.34.48-1.05.91-2.42.91-2.06 0-2.87-.92-2.98-2.1h-2.2c.12 2.19 1.76 3.42 3.68 3.83V21h3v-2.15c.96-.18 1.82-.55 2.45-1.12l2.22 2.22 1.27-1.27L5.33 4.06z"></path></g>
<g id="multiline-chart"><path d="M22 6.92l-1.41-1.41-2.85 3.21C15.68 6.4 12.83 5 9.61 5 6.72 5 4.07 6.16 2 8l1.42 1.42C5.12 7.93 7.27 7 9.61 7c2.74 0 5.09 1.26 6.77 3.24l-2.88 3.24-4-4L2 16.99l1.5 1.5 6-6.01 4 4 4.05-4.55c.75 1.35 1.25 2.9 1.44 4.55H21c-.22-2.3-.95-4.39-2.04-6.14L22 6.92z"></path></g>
<g id="pie-chart"><path d="M11 2v20c-5.07-.5-9-4.79-9-10s3.93-9.5 9-10zm2.03 0v8.99H22c-.47-4.74-4.24-8.52-8.97-8.99zm0 11.01V22c4.74-.47 8.5-4.25 8.97-8.99h-8.97z"></path></g>
<g id="pie-chart-outlined"><path d="M12 2C6.5 2 2 6.5 2 12s4.5 10 10 10 10-4.5 10-10S17.5 2 12 2zm1 2.07c3.61.45 6.48 3.33 6.93 6.93H13V4.07zM4 12c0-4.06 3.07-7.44 7-7.93v15.87c-3.93-.5-7-3.88-7-7.94zm9 7.93V13h6.93c-.45 3.61-3.32 6.48-6.93 6.93z"></path></g>
<g id="publish"><path d="M5 4v2h14V4H5zm0 10h4v6h6v-6h4l-7-7-7 7z"></path></g>
<g id="short-text"><path d="M4 9h16v2H4zm0 4h10v2H4z"></path></g>
<g id="show-chart"><path d="M3.5 18.49l6-6.01 4 4L22 6.92l-1.41-1.41-7.09 7.97-4-4L2 16.99z"></path></g>
<g id="space-bar"><path d="M18 9v4H6V9H4v6h16V9z"></path></g>
<g id="strikethrough-s"><path d="M7.24 8.75c-.26-.48-.39-1.03-.39-1.67 0-.61.13-1.16.4-1.67.26-.5.63-.93 1.11-1.29.48-.35 1.05-.63 1.7-.83.66-.19 1.39-.29 2.18-.29.81 0 1.54.11 2.21.34.66.22 1.23.54 1.69.94.47.4.83.88 1.08 1.43.25.55.38 1.15.38 1.81h-3.01c0-.31-.05-.59-.15-.85-.09-.27-.24-.49-.44-.68-.2-.19-.45-.33-.75-.44-.3-.1-.66-.16-1.06-.16-.39 0-.74.04-1.03.13-.29.09-.53.21-.72.36-.19.16-.34.34-.44.55-.1.21-.15.43-.15.66 0 .48.25.88.74 1.21.38.25.77.48 1.41.7H7.39c-.05-.08-.11-.17-.15-.25zM21 12v-2H3v2h9.62c.18.07.4.14.55.2.37.17.66.34.87.51.21.17.35.36.43.57.07.2.11.43.11.69 0 .23-.05.45-.14.66-.09.2-.23.38-.42.53-.19.15-.42.26-.71.35-.29.08-.63.13-1.01.13-.43 0-.83-.04-1.18-.13s-.66-.23-.91-.42c-.25-.19-.45-.44-.59-.75-.14-.31-.25-.76-.25-1.21H6.4c0 .55.08 1.13.24 1.58.16.45.37.85.65 1.21.28.35.6.66.98.92.37.26.78.48 1.22.65.44.17.9.3 1.38.39.48.08.96.13 1.44.13.8 0 1.53-.09 2.18-.28s1.21-.45 1.67-.79c.46-.34.82-.77 1.07-1.27s.38-1.07.38-1.71c0-.6-.1-1.14-.31-1.61-.05-.11-.11-.23-.17-.33H21z"></path></g>
<g id="text-fields"><path d="M2.5 4v3h5v12h3V7h5V4h-13zm19 5h-9v3h3v7h3v-7h3V9z"></path></g>
<g id="title"><path d="M5 4v3h5.5v12h3V7H19V4z"></path></g>
<g id="vertical-align-bottom"><path d="M16 13h-3V3h-2v10H8l4 4 4-4zM4 19v2h16v-2H4z"></path></g>
<g id="vertical-align-center"><path d="M8 19h3v4h2v-4h3l-4-4-4 4zm8-14h-3V1h-2v4H8l4 4 4-4zM4 11v2h16v-2H4z"></path></g>
<g id="vertical-align-top"><path d="M8 11h3v10h2V11h3l-4-4-4 4zM4 3v2h16V3H4z"></path></g>
<g id="wrap-text"><path d="M4 19h6v-2H4v2zM20 5H4v2h16V5zm-3 6H4v2h13.25c1.1 0 2 .9 2 2s-.9 2-2 2H15v-2l-3 3 3 3v-2h2c2.21 0 4-1.79 4-4s-1.79-4-4-4z"></path></g>
</defs></svg>
</iron-iconset-svg><iron-iconset-svg name="paper-dropdown-menu" size="24" style="display: none;">
<svg><defs>
<g id="arrow-drop-down"><path d="M7 10l5 5 5-5z"></path></g>
</defs></svg>
</iron-iconset-svg><dom-module id="paper-dropdown-menu-shared-styles">
  <template></template>
</dom-module><dom-module id="paper-item-shared-styles">
  <template></template>
</dom-module><iron-iconset-svg name="image" size="24" style="display: none;">
<svg><defs>
<g id="add-a-photo"><path d="M3 4V1h2v3h3v2H5v3H3V6H0V4h3zm3 6V7h3V4h7l1.83 2H21c1.1 0 2 .9 2 2v12c0 1.1-.9 2-2 2H5c-1.1 0-2-.9-2-2V10h3zm7 9c2.76 0 5-2.24 5-5s-2.24-5-5-5-5 2.24-5 5 2.24 5 5 5zm-3.2-5c0 1.77 1.43 3.2 3.2 3.2s3.2-1.43 3.2-3.2-1.43-3.2-3.2-3.2-3.2 1.43-3.2 3.2z"></path></g>
<g id="add-to-photos"><path d="M4 6H2v14c0 1.1.9 2 2 2h14v-2H4V6zm16-4H8c-1.1 0-2 .9-2 2v12c0 1.1.9 2 2 2h12c1.1 0 2-.9 2-2V4c0-1.1-.9-2-2-2zm-1 9h-4v4h-2v-4H9V9h4V5h2v4h4v2z"></path></g>
<g id="adjust"><path d="M12 2C6.49 2 2 6.49 2 12s4.49 10 10 10 10-4.49 10-10S17.51 2 12 2zm0 18c-4.41 0-8-3.59-8-8s3.59-8 8-8 8 3.59 8 8-3.59 8-8 8zm3-8c0 1.66-1.34 3-3 3s-3-1.34-3-3 1.34-3 3-3 3 1.34 3 3z"></path></g>
<g id="assistant"><path d="M19 2H5c-1.1 0-2 .9-2 2v14c0 1.1.9 2 2 2h4l3 3 3-3h4c1.1 0 2-.9 2-2V4c0-1.1-.9-2-2-2zm-5.12 10.88L12 17l-1.88-4.12L6 11l4.12-1.88L12 5l1.88 4.12L18 11l-4.12 1.88z"></path></g>
<g id="assistant-photo"><path d="M14.4 6L14 4H5v17h2v-7h5.6l.4 2h7V6z"></path></g>
<g id="audiotrack"><path d="M12 3v9.28c-.47-.17-.97-.28-1.5-.28C8.01 12 6 14.01 6 16.5S8.01 21 10.5 21c2.31 0 4.2-1.75 4.45-4H15V6h4V3h-7z"></path></g>
<g id="blur-circular"><path d="M10 9c-.55 0-1 .45-1 1s.45 1 1 1 1-.45 1-1-.45-1-1-1zm0 4c-.55 0-1 .45-1 1s.45 1 1 1 1-.45 1-1-.45-1-1-1zM7 9.5c-.28 0-.5.22-.5.5s.22.5.5.5.5-.22.5-.5-.22-.5-.5-.5zm3 7c-.28 0-.5.22-.5.5s.22.5.5.5.5-.22.5-.5-.22-.5-.5-.5zm-3-3c-.28 0-.5.22-.5.5s.22.5.5.5.5-.22.5-.5-.22-.5-.5-.5zm3-6c.28 0 .5-.22.5-.5s-.22-.5-.5-.5-.5.22-.5.5.22.5.5.5zM14 9c-.55 0-1 .45-1 1s.45 1 1 1 1-.45 1-1-.45-1-1-1zm0-1.5c.28 0 .5-.22.5-.5s-.22-.5-.5-.5-.5.22-.5.5.22.5.5.5zm3 6c-.28 0-.5.22-.5.5s.22.5.5.5.5-.22.5-.5-.22-.5-.5-.5zm0-4c-.28 0-.5.22-.5.5s.22.5.5.5.5-.22.5-.5-.22-.5-.5-.5zM12 2C6.48 2 2 6.48 2 12s4.48 10 10 10 10-4.48 10-10S17.52 2 12 2zm0 18c-4.42 0-8-3.58-8-8s3.58-8 8-8 8 3.58 8 8-3.58 8-8 8zm2-3.5c-.28 0-.5.22-.5.5s.22.5.5.5.5-.22.5-.5-.22-.5-.5-.5zm0-3.5c-.55 0-1 .45-1 1s.45 1 1 1 1-.45 1-1-.45-1-1-1z"></path></g>
<g id="blur-linear"><path d="M5 17.5c.83 0 1.5-.67 1.5-1.5s-.67-1.5-1.5-1.5-1.5.67-1.5 1.5.67 1.5 1.5 1.5zM9 13c.55 0 1-.45 1-1s-.45-1-1-1-1 .45-1 1 .45 1 1 1zm0-4c.55 0 1-.45 1-1s-.45-1-1-1-1 .45-1 1 .45 1 1 1zM3 21h18v-2H3v2zM5 9.5c.83 0 1.5-.67 1.5-1.5S5.83 6.5 5 6.5 3.5 7.17 3.5 8 4.17 9.5 5 9.5zm0 4c.83 0 1.5-.67 1.5-1.5s-.67-1.5-1.5-1.5-1.5.67-1.5 1.5.67 1.5 1.5 1.5zM9 17c.55 0 1-.45 1-1s-.45-1-1-1-1 .45-1 1 .45 1 1 1zm8-.5c.28 0 .5-.22.5-.5s-.22-.5-.5-.5-.5.22-.5.5.22.5.5.5zM3 3v2h18V3H3zm14 5.5c.28 0 .5-.22.5-.5s-.22-.5-.5-.5-.5.22-.5.5.22.5.5.5zm0 4c.28 0 .5-.22.5-.5s-.22-.5-.5-.5-.5.22-.5.5.22.5.5.5zM13 9c.55 0 1-.45 1-1s-.45-1-1-1-1 .45-1 1 .45 1 1 1zm0 4c.55 0 1-.45 1-1s-.45-1-1-1-1 .45-1 1 .45 1 1 1zm0 4c.55 0 1-.45 1-1s-.45-1-1-1-1 .45-1 1 .45 1 1 1z"></path></g>
<g id="blur-off"><path d="M14 7c.55 0 1-.45 1-1s-.45-1-1-1-1 .45-1 1 .45 1 1 1zm-.2 4.48l.2.02c.83 0 1.5-.67 1.5-1.5s-.67-1.5-1.5-1.5-1.5.67-1.5 1.5l.02.2c.09.67.61 1.19 1.28 1.28zM14 3.5c.28 0 .5-.22.5-.5s-.22-.5-.5-.5-.5.22-.5.5.22.5.5.5zm-4 0c.28 0 .5-.22.5-.5s-.22-.5-.5-.5-.5.22-.5.5.22.5.5.5zm11 7c.28 0 .5-.22.5-.5s-.22-.5-.5-.5-.5.22-.5.5.22.5.5.5zM10 7c.55 0 1-.45 1-1s-.45-1-1-1-1 .45-1 1 .45 1 1 1zm8 8c.55 0 1-.45 1-1s-.45-1-1-1-1 .45-1 1 .45 1 1 1zm0-4c.55 0 1-.45 1-1s-.45-1-1-1-1 .45-1 1 .45 1 1 1zm0-4c.55 0 1-.45 1-1s-.45-1-1-1-1 .45-1 1 .45 1 1 1zm-4 13.5c-.28 0-.5.22-.5.5s.22.5.5.5.5-.22.5-.5-.22-.5-.5-.5zM2.5 5.27l3.78 3.78L6 9c-.55 0-1 .45-1 1s.45 1 1 1 1-.45 1-1c0-.1-.03-.19-.06-.28l2.81 2.81c-.71.11-1.25.73-1.25 1.47 0 .83.67 1.5 1.5 1.5.74 0 1.36-.54 1.47-1.25l2.81 2.81c-.09-.03-.18-.06-.28-.06-.55 0-1 .45-1 1s.45 1 1 1 1-.45 1-1c0-.1-.03-.19-.06-.28l3.78 3.78L20 20.23 3.77 4 2.5 5.27zM10 17c-.55 0-1 .45-1 1s.45 1 1 1 1-.45 1-1-.45-1-1-1zm11-3.5c-.28 0-.5.22-.5.5s.22.5.5.5.5-.22.5-.5-.22-.5-.5-.5zM6 13c-.55 0-1 .45-1 1s.45 1 1 1 1-.45 1-1-.45-1-1-1zM3 9.5c-.28 0-.5.22-.5.5s.22.5.5.5.5-.22.5-.5-.22-.5-.5-.5zm7 11c-.28 0-.5.22-.5.5s.22.5.5.5.5-.22.5-.5-.22-.5-.5-.5zM6 17c-.55 0-1 .45-1 1s.45 1 1 1 1-.45 1-1-.45-1-1-1zm-3-3.5c-.28 0-.5.22-.5.5s.22.5.5.5.5-.22.5-.5-.22-.5-.5-.5z"></path></g>
<g id="blur-on"><path d="M6 13c-.55 0-1 .45-1 1s.45 1 1 1 1-.45 1-1-.45-1-1-1zm0 4c-.55 0-1 .45-1 1s.45 1 1 1 1-.45 1-1-.45-1-1-1zm0-8c-.55 0-1 .45-1 1s.45 1 1 1 1-.45 1-1-.45-1-1-1zm-3 .5c-.28 0-.5.22-.5.5s.22.5.5.5.5-.22.5-.5-.22-.5-.5-.5zM6 5c-.55 0-1 .45-1 1s.45 1 1 1 1-.45 1-1-.45-1-1-1zm15 5.5c.28 0 .5-.22.5-.5s-.22-.5-.5-.5-.5.22-.5.5.22.5.5.5zM14 7c.55 0 1-.45 1-1s-.45-1-1-1-1 .45-1 1 .45 1 1 1zm0-3.5c.28 0 .5-.22.5-.5s-.22-.5-.5-.5-.5.22-.5.5.22.5.5.5zm-11 10c-.28 0-.5.22-.5.5s.22.5.5.5.5-.22.5-.5-.22-.5-.5-.5zm7 7c-.28 0-.5.22-.5.5s.22.5.5.5.5-.22.5-.5-.22-.5-.5-.5zm0-17c.28 0 .5-.22.5-.5s-.22-.5-.5-.5-.5.22-.5.5.22.5.5.5zM10 7c.55 0 1-.45 1-1s-.45-1-1-1-1 .45-1 1 .45 1 1 1zm0 5.5c-.83 0-1.5.67-1.5 1.5s.67 1.5 1.5 1.5 1.5-.67 1.5-1.5-.67-1.5-1.5-1.5zm8 .5c-.55 0-1 .45-1 1s.45 1 1 1 1-.45 1-1-.45-1-1-1zm0 4c-.55 0-1 .45-1 1s.45 1 1 1 1-.45 1-1-.45-1-1-1zm0-8c-.55 0-1 .45-1 1s.45 1 1 1 1-.45 1-1-.45-1-1-1zm0-4c-.55 0-1 .45-1 1s.45 1 1 1 1-.45 1-1-.45-1-1-1zm3 8.5c-.28 0-.5.22-.5.5s.22.5.5.5.5-.22.5-.5-.22-.5-.5-.5zM14 17c-.55 0-1 .45-1 1s.45 1 1 1 1-.45 1-1-.45-1-1-1zm0 3.5c-.28 0-.5.22-.5.5s.22.5.5.5.5-.22.5-.5-.22-.5-.5-.5zm-4-12c-.83 0-1.5.67-1.5 1.5s.67 1.5 1.5 1.5 1.5-.67 1.5-1.5-.67-1.5-1.5-1.5zm0 8.5c-.55 0-1 .45-1 1s.45 1 1 1 1-.45 1-1-.45-1-1-1zm4-4.5c-.83 0-1.5.67-1.5 1.5s.67 1.5 1.5 1.5 1.5-.67 1.5-1.5-.67-1.5-1.5-1.5zm0-4c-.83 0-1.5.67-1.5 1.5s.67 1.5 1.5 1.5 1.5-.67 1.5-1.5-.67-1.5-1.5-1.5z"></path></g>
<g id="brightness-1"><circle cx="12" cy="12" r="10"></circle></g>
<g id="brightness-2"><path d="M10 2c-1.82 0-3.53.5-5 1.35C7.99 5.08 10 8.3 10 12s-2.01 6.92-5 8.65C6.47 21.5 8.18 22 10 22c5.52 0 10-4.48 10-10S15.52 2 10 2z"></path></g>
<g id="brightness-3"><path d="M9 2c-1.05 0-2.05.16-3 .46 4.06 1.27 7 5.06 7 9.54 0 4.48-2.94 8.27-7 9.54.95.3 1.95.46 3 .46 5.52 0 10-4.48 10-10S14.52 2 9 2z"></path></g>
<g id="brightness-4"><path d="M20 8.69V4h-4.69L12 .69 8.69 4H4v4.69L.69 12 4 15.31V20h4.69L12 23.31 15.31 20H20v-4.69L23.31 12 20 8.69zM12 18c-.89 0-1.74-.2-2.5-.55C11.56 16.5 13 14.42 13 12s-1.44-4.5-3.5-5.45C10.26 6.2 11.11 6 12 6c3.31 0 6 2.69 6 6s-2.69 6-6 6z"></path></g>
<g id="brightness-5"><path d="M20 15.31L23.31 12 20 8.69V4h-4.69L12 .69 8.69 4H4v4.69L.69 12 4 15.31V20h4.69L12 23.31 15.31 20H20v-4.69zM12 18c-3.31 0-6-2.69-6-6s2.69-6 6-6 6 2.69 6 6-2.69 6-6 6z"></path></g>
<g id="brightness-6"><path d="M20 15.31L23.31 12 20 8.69V4h-4.69L12 .69 8.69 4H4v4.69L.69 12 4 15.31V20h4.69L12 23.31 15.31 20H20v-4.69zM12 18V6c3.31 0 6 2.69 6 6s-2.69 6-6 6z"></path></g>
<g id="brightness-7"><path d="M20 8.69V4h-4.69L12 .69 8.69 4H4v4.69L.69 12 4 15.31V20h4.69L12 23.31 15.31 20H20v-4.69L23.31 12 20 8.69zM12 18c-3.31 0-6-2.69-6-6s2.69-6 6-6 6 2.69 6 6-2.69 6-6 6zm0-10c-2.21 0-4 1.79-4 4s1.79 4 4 4 4-1.79 4-4-1.79-4-4-4z"></path></g>
<g id="broken-image"><path d="M21 5v6.59l-3-3.01-4 4.01-4-4-4 4-3-3.01V5c0-1.1.9-2 2-2h14c1.1 0 2 .9 2 2zm-3 6.42l3 3.01V19c0 1.1-.9 2-2 2H5c-1.1 0-2-.9-2-2v-6.58l3 2.99 4-4 4 4 4-3.99z"></path></g>
<g id="brush"><path d="M7 14c-1.66 0-3 1.34-3 3 0 1.31-1.16 2-2 2 .92 1.22 2.49 2 4 2 2.21 0 4-1.79 4-4 0-1.66-1.34-3-3-3zm13.71-9.37l-1.34-1.34c-.39-.39-1.02-.39-1.41 0L9 12.25 11.75 15l8.96-8.96c.39-.39.39-1.02 0-1.41z"></path></g>
<g id="burst-mode"><path d="M1 5h2v14H1zm4 0h2v14H5zm17 0H10c-.55 0-1 .45-1 1v12c0 .55.45 1 1 1h12c.55 0 1-.45 1-1V6c0-.55-.45-1-1-1zM11 17l2.5-3.15L15.29 16l2.5-3.22L21 17H11z"></path></g>
<g id="camera"><path d="M9.4 10.5l4.77-8.26C13.47 2.09 12.75 2 12 2c-2.4 0-4.6.85-6.32 2.25l3.66 6.35.06-.1zM21.54 9c-.92-2.92-3.15-5.26-6-6.34L11.88 9h9.66zm.26 1h-7.49l.29.5 4.76 8.25C21 16.97 22 14.61 22 12c0-.69-.07-1.35-.2-2zM8.54 12l-3.9-6.75C3.01 7.03 2 9.39 2 12c0 .69.07 1.35.2 2h7.49l-1.15-2zm-6.08 3c.92 2.92 3.15 5.26 6 6.34L12.12 15H2.46zm11.27 0l-3.9 6.76c.7.15 1.42.24 2.17.24 2.4 0 4.6-.85 6.32-2.25l-3.66-6.35-.93 1.6z"></path></g>
<g id="camera-alt"><circle cx="12" cy="12" r="3.2"></circle><path d="M9 2L7.17 4H4c-1.1 0-2 .9-2 2v12c0 1.1.9 2 2 2h16c1.1 0 2-.9 2-2V6c0-1.1-.9-2-2-2h-3.17L15 2H9zm3 15c-2.76 0-5-2.24-5-5s2.24-5 5-5 5 2.24 5 5-2.24 5-5 5z"></path></g>
<g id="camera-front"><path d="M10 20H5v2h5v2l3-3-3-3v2zm4 0v2h5v-2h-5zM12 8c1.1 0 2-.9 2-2s-.9-2-2-2-1.99.9-1.99 2S10.9 8 12 8zm5-8H7C5.9 0 5 .9 5 2v14c0 1.1.9 2 2 2h10c1.1 0 2-.9 2-2V2c0-1.1-.9-2-2-2zM7 2h10v10.5c0-1.67-3.33-2.5-5-2.5s-5 .83-5 2.5V2z"></path></g>
<g id="camera-rear"><path d="M10 20H5v2h5v2l3-3-3-3v2zm4 0v2h5v-2h-5zm3-20H7C5.9 0 5 .9 5 2v14c0 1.1.9 2 2 2h10c1.1 0 2-.9 2-2V2c0-1.1-.9-2-2-2zm-5 6c-1.11 0-2-.9-2-2s.89-2 1.99-2 2 .9 2 2C14 5.1 13.1 6 12 6z"></path></g>
<g id="camera-roll"><path d="M14 5c0-1.1-.9-2-2-2h-1V2c0-.55-.45-1-1-1H6c-.55 0-1 .45-1 1v1H4c-1.1 0-2 .9-2 2v15c0 1.1.9 2 2 2h8c1.1 0 2-.9 2-2h8V5h-8zm-2 13h-2v-2h2v2zm0-9h-2V7h2v2zm4 9h-2v-2h2v2zm0-9h-2V7h2v2zm4 9h-2v-2h2v2zm0-9h-2V7h2v2z"></path></g>
<g id="center-focus-strong"><path d="M12 8c-2.21 0-4 1.79-4 4s1.79 4 4 4 4-1.79 4-4-1.79-4-4-4zm-7 7H3v4c0 1.1.9 2 2 2h4v-2H5v-4zM5 5h4V3H5c-1.1 0-2 .9-2 2v4h2V5zm14-2h-4v2h4v4h2V5c0-1.1-.9-2-2-2zm0 16h-4v2h4c1.1 0 2-.9 2-2v-4h-2v4z"></path></g>
<g id="center-focus-weak"><path d="M5 15H3v4c0 1.1.9 2 2 2h4v-2H5v-4zM5 5h4V3H5c-1.1 0-2 .9-2 2v4h2V5zm14-2h-4v2h4v4h2V5c0-1.1-.9-2-2-2zm0 16h-4v2h4c1.1 0 2-.9 2-2v-4h-2v4zM12 8c-2.21 0-4 1.79-4 4s1.79 4 4 4 4-1.79 4-4-1.79-4-4-4zm0 6c-1.1 0-2-.9-2-2s.9-2 2-2 2 .9 2 2-.9 2-2 2z"></path></g>
<g id="collections"><path d="M22 16V4c0-1.1-.9-2-2-2H8c-1.1 0-2 .9-2 2v12c0 1.1.9 2 2 2h12c1.1 0 2-.9 2-2zm-11-4l2.03 2.71L16 11l4 5H8l3-4zM2 6v14c0 1.1.9 2 2 2h14v-2H4V6H2z"></path></g>
<g id="collections-bookmark"><path d="M4 6H2v14c0 1.1.9 2 2 2h14v-2H4V6zm16-4H8c-1.1 0-2 .9-2 2v12c0 1.1.9 2 2 2h12c1.1 0 2-.9 2-2V4c0-1.1-.9-2-2-2zm0 10l-2.5-1.5L15 12V4h5v8z"></path></g>
<g id="color-lens"><path d="M12 3c-4.97 0-9 4.03-9 9s4.03 9 9 9c.83 0 1.5-.67 1.5-1.5 0-.39-.15-.74-.39-1.01-.23-.26-.38-.61-.38-.99 0-.83.67-1.5 1.5-1.5H16c2.76 0 5-2.24 5-5 0-4.42-4.03-8-9-8zm-5.5 9c-.83 0-1.5-.67-1.5-1.5S5.67 9 6.5 9 8 9.67 8 10.5 7.33 12 6.5 12zm3-4C8.67 8 8 7.33 8 6.5S8.67 5 9.5 5s1.5.67 1.5 1.5S10.33 8 9.5 8zm5 0c-.83 0-1.5-.67-1.5-1.5S13.67 5 14.5 5s1.5.67 1.5 1.5S15.33 8 14.5 8zm3 4c-.83 0-1.5-.67-1.5-1.5S16.67 9 17.5 9s1.5.67 1.5 1.5-.67 1.5-1.5 1.5z"></path></g>
<g id="colorize"><path d="M20.71 5.63l-2.34-2.34c-.39-.39-1.02-.39-1.41 0l-3.12 3.12-1.93-1.91-1.41 1.41 1.42 1.42L3 16.25V21h4.75l8.92-8.92 1.42 1.42 1.41-1.41-1.92-1.92 3.12-3.12c.4-.4.4-1.03.01-1.42zM6.92 19L5 17.08l8.06-8.06 1.92 1.92L6.92 19z"></path></g>
<g id="compare"><path d="M10 3H5c-1.1 0-2 .9-2 2v14c0 1.1.9 2 2 2h5v2h2V1h-2v2zm0 15H5l5-6v6zm9-15h-5v2h5v13l-5-6v9h5c1.1 0 2-.9 2-2V5c0-1.1-.9-2-2-2z"></path></g>
<g id="control-point"><path d="M13 7h-2v4H7v2h4v4h2v-4h4v-2h-4V7zm-1-5C6.49 2 2 6.49 2 12s4.49 10 10 10 10-4.49 10-10S17.51 2 12 2zm0 18c-4.41 0-8-3.59-8-8s3.59-8 8-8 8 3.59 8 8-3.59 8-8 8z"></path></g>
<g id="control-point-duplicate"><path d="M16 8h-2v3h-3v2h3v3h2v-3h3v-2h-3zM2 12c0-2.79 1.64-5.2 4.01-6.32V3.52C2.52 4.76 0 8.09 0 12s2.52 7.24 6.01 8.48v-2.16C3.64 17.2 2 14.79 2 12zm13-9c-4.96 0-9 4.04-9 9s4.04 9 9 9 9-4.04 9-9-4.04-9-9-9zm0 16c-3.86 0-7-3.14-7-7s3.14-7 7-7 7 3.14 7 7-3.14 7-7 7z"></path></g>
<g id="crop"><path d="M17 15h2V7c0-1.1-.9-2-2-2H9v2h8v8zM7 17V1H5v4H1v2h4v10c0 1.1.9 2 2 2h10v4h2v-4h4v-2H7z"></path></g>
<g id="crop-16-9"><path d="M19 6H5c-1.1 0-2 .9-2 2v8c0 1.1.9 2 2 2h14c1.1 0 2-.9 2-2V8c0-1.1-.9-2-2-2zm0 10H5V8h14v8z"></path></g>
<g id="crop-3-2"><path d="M19 4H5c-1.1 0-2 .9-2 2v12c0 1.1.9 2 2 2h14c1.1 0 2-.9 2-2V6c0-1.1-.9-2-2-2zm0 14H5V6h14v12z"></path></g>
<g id="crop-5-4"><path d="M19 5H5c-1.1 0-2 .9-2 2v10c0 1.1.9 2 2 2h14c1.1 0 2-.9 2-2V7c0-1.1-.9-2-2-2zm0 12H5V7h14v10z"></path></g>
<g id="crop-7-5"><path d="M19 7H5c-1.1 0-2 .9-2 2v6c0 1.1.9 2 2 2h14c1.1 0 2-.9 2-2V9c0-1.1-.9-2-2-2zm0 8H5V9h14v6z"></path></g>
<g id="crop-din"><path d="M19 3H5c-1.1 0-2 .9-2 2v14c0 1.1.9 2 2 2h14c1.1 0 2-.9 2-2V5c0-1.1-.9-2-2-2zm0 16H5V5h14v14z"></path></g>
<g id="crop-free"><path d="M3 5v4h2V5h4V3H5c-1.1 0-2 .9-2 2zm2 10H3v4c0 1.1.9 2 2 2h4v-2H5v-4zm14 4h-4v2h4c1.1 0 2-.9 2-2v-4h-2v4zm0-16h-4v2h4v4h2V5c0-1.1-.9-2-2-2z"></path></g>
<g id="crop-landscape"><path d="M19 5H5c-1.1 0-2 .9-2 2v10c0 1.1.9 2 2 2h14c1.1 0 2-.9 2-2V7c0-1.1-.9-2-2-2zm0 12H5V7h14v10z"></path></g>
<g id="crop-original"><path d="M19 3H5c-1.1 0-2 .9-2 2v14c0 1.1.9 2 2 2h14c1.1 0 2-.9 2-2V5c0-1.1-.9-2-2-2zm0 16H5V5h14v14zm-5.04-6.71l-2.75 3.54-1.96-2.36L6.5 17h11l-3.54-4.71z"></path></g>
<g id="crop-portrait"><path d="M17 3H7c-1.1 0-2 .9-2 2v14c0 1.1.9 2 2 2h10c1.1 0 2-.9 2-2V5c0-1.1-.9-2-2-2zm0 16H7V5h10v14z"></path></g>
<g id="crop-rotate"><path d="M7.47 21.49C4.2 19.93 1.86 16.76 1.5 13H0c.51 6.16 5.66 11 11.95 11 .23 0 .44-.02.66-.03L8.8 20.15l-1.33 1.34zM12.05 0c-.23 0-.44.02-.66.04l3.81 3.81 1.33-1.33C19.8 4.07 22.14 7.24 22.5 11H24c-.51-6.16-5.66-11-11.95-11zM16 14h2V8c0-1.11-.9-2-2-2h-6v2h6v6zm-8 2V4H6v2H4v2h2v8c0 1.1.89 2 2 2h8v2h2v-2h2v-2H8z"></path></g>
<g id="crop-square"><path d="M18 4H6c-1.1 0-2 .9-2 2v12c0 1.1.9 2 2 2h12c1.1 0 2-.9 2-2V6c0-1.1-.9-2-2-2zm0 14H6V6h12v12z"></path></g>
<g id="dehaze"><path d="M2 15.5v2h20v-2H2zm0-5v2h20v-2H2zm0-5v2h20v-2H2z"></path></g>
<g id="details"><path d="M3 4l9 16 9-16H3zm3.38 2h11.25L12 16 6.38 6z"></path></g>
<g id="edit"><path d="M3 17.25V21h3.75L17.81 9.94l-3.75-3.75L3 17.25zM20.71 7.04c.39-.39.39-1.02 0-1.41l-2.34-2.34c-.39-.39-1.02-.39-1.41 0l-1.83 1.83 3.75 3.75 1.83-1.83z"></path></g>
<g id="exposure"><path d="M15 17v2h2v-2h2v-2h-2v-2h-2v2h-2v2h2zm5-15H4c-1.1 0-2 .9-2 2v16c0 1.1.9 2 2 2h16c1.1 0 2-.9 2-2V4c0-1.1-.9-2-2-2zM5 5h6v2H5V5zm15 15H4L20 4v16z"></path></g>
<g id="exposure-neg-1"><path d="M4 11v2h8v-2H4zm15 7h-2V7.38L14 8.4V6.7L18.7 5h.3v13z"></path></g>
<g id="exposure-neg-2"><path d="M15.05 16.29l2.86-3.07c.38-.39.72-.79 1.04-1.18.32-.39.59-.78.82-1.17.23-.39.41-.78.54-1.17s.19-.79.19-1.18c0-.53-.09-1.02-.27-1.46-.18-.44-.44-.81-.78-1.11-.34-.31-.77-.54-1.26-.71-.51-.16-1.08-.24-1.72-.24-.69 0-1.31.11-1.85.32-.54.21-1 .51-1.36.88-.37.37-.65.8-.84 1.3-.18.47-.27.97-.28 1.5h2.14c.01-.31.05-.6.13-.87.09-.29.23-.54.4-.75.18-.21.41-.37.68-.49.27-.12.6-.18.96-.18.31 0 .58.05.81.15.23.1.43.25.59.43.16.18.28.4.37.65.08.25.13.52.13.81 0 .22-.03.43-.08.65-.06.22-.15.45-.29.7-.14.25-.32.53-.56.83-.23.3-.52.65-.88 1.03l-4.17 4.55V18H21v-1.71h-5.95zM2 11v2h8v-2H2z"></path></g>
<g id="exposure-plus-1"><path d="M10 7H8v4H4v2h4v4h2v-4h4v-2h-4V7zm10 11h-2V7.38L15 8.4V6.7L19.7 5h.3v13z"></path></g>
<g id="exposure-plus-2"><path d="M16.05 16.29l2.86-3.07c.38-.39.72-.79 1.04-1.18.32-.39.59-.78.82-1.17.23-.39.41-.78.54-1.17.13-.39.19-.79.19-1.18 0-.53-.09-1.02-.27-1.46-.18-.44-.44-.81-.78-1.11-.34-.31-.77-.54-1.26-.71-.51-.16-1.08-.24-1.72-.24-.69 0-1.31.11-1.85.32-.54.21-1 .51-1.36.88-.37.37-.65.8-.84 1.3-.18.47-.27.97-.28 1.5h2.14c.01-.31.05-.6.13-.87.09-.29.23-.54.4-.75.18-.21.41-.37.68-.49.27-.12.6-.18.96-.18.31 0 .58.05.81.15.23.1.43.25.59.43.16.18.28.4.37.65.08.25.13.52.13.81 0 .22-.03.43-.08.65-.06.22-.15.45-.29.7-.14.25-.32.53-.56.83-.23.3-.52.65-.88 1.03l-4.17 4.55V18H22v-1.71h-5.95zM8 7H6v4H2v2h4v4h2v-4h4v-2H8V7z"></path></g>
<g id="exposure-zero"><path d="M16.14 12.5c0 1-.1 1.85-.3 2.55-.2.7-.48 1.27-.83 1.7-.36.44-.79.75-1.3.95-.51.2-1.07.3-1.7.3-.62 0-1.18-.1-1.69-.3-.51-.2-.95-.51-1.31-.95-.36-.44-.65-1.01-.85-1.7-.2-.7-.3-1.55-.3-2.55v-2.04c0-1 .1-1.85.3-2.55.2-.7.48-1.26.84-1.69.36-.43.8-.74 1.31-.93C10.81 5.1 11.38 5 12 5c.63 0 1.19.1 1.7.29.51.19.95.5 1.31.93.36.43.64.99.84 1.69.2.7.3 1.54.3 2.55v2.04zm-2.11-2.36c0-.64-.05-1.18-.13-1.62-.09-.44-.22-.79-.4-1.06-.17-.27-.39-.46-.64-.58-.25-.13-.54-.19-.86-.19-.32 0-.61.06-.86.18s-.47.31-.64.58c-.17.27-.31.62-.4 1.06s-.13.98-.13 1.62v2.67c0 .64.05 1.18.14 1.62.09.45.23.81.4 1.09s.39.48.64.61.54.19.87.19c.33 0 .62-.06.87-.19s.46-.33.63-.61c.17-.28.3-.64.39-1.09.09-.45.13-.99.13-1.62v-2.66z"></path></g>
<g id="filter"><path d="M15.96 10.29l-2.75 3.54-1.96-2.36L8.5 15h11l-3.54-4.71zM3 5H1v16c0 1.1.9 2 2 2h16v-2H3V5zm18-4H7c-1.1 0-2 .9-2 2v14c0 1.1.9 2 2 2h14c1.1 0 2-.9 2-2V3c0-1.1-.9-2-2-2zm0 16H7V3h14v14z"></path></g>
<g id="filter-1"><path d="M3 5H1v16c0 1.1.9 2 2 2h16v-2H3V5zm11 10h2V5h-4v2h2v8zm7-14H7c-1.1 0-2 .9-2 2v14c0 1.1.9 2 2 2h14c1.1 0 2-.9 2-2V3c0-1.1-.9-2-2-2zm0 16H7V3h14v14z"></path></g>
<g id="filter-2"><path d="M3 5H1v16c0 1.1.9 2 2 2h16v-2H3V5zm18-4H7c-1.1 0-2 .9-2 2v14c0 1.1.9 2 2 2h14c1.1 0 2-.9 2-2V3c0-1.1-.9-2-2-2zm0 16H7V3h14v14zm-4-4h-4v-2h2c1.1 0 2-.89 2-2V7c0-1.11-.9-2-2-2h-4v2h4v2h-2c-1.1 0-2 .89-2 2v4h6v-2z"></path></g>
<g id="filter-3"><path d="M21 1H7c-1.1 0-2 .9-2 2v14c0 1.1.9 2 2 2h14c1.1 0 2-.9 2-2V3c0-1.1-.9-2-2-2zm0 16H7V3h14v14zM3 5H1v16c0 1.1.9 2 2 2h16v-2H3V5zm14 8v-1.5c0-.83-.67-1.5-1.5-1.5.83 0 1.5-.67 1.5-1.5V7c0-1.11-.9-2-2-2h-4v2h4v2h-2v2h2v2h-4v2h4c1.1 0 2-.89 2-2z"></path></g>
<g id="filter-4"><path d="M3 5H1v16c0 1.1.9 2 2 2h16v-2H3V5zm12 10h2V5h-2v4h-2V5h-2v6h4v4zm6-14H7c-1.1 0-2 .9-2 2v14c0 1.1.9 2 2 2h14c1.1 0 2-.9 2-2V3c0-1.1-.9-2-2-2zm0 16H7V3h14v14z"></path></g>
<g id="filter-5"><path d="M21 1H7c-1.1 0-2 .9-2 2v14c0 1.1.9 2 2 2h14c1.1 0 2-.9 2-2V3c0-1.1-.9-2-2-2zm0 16H7V3h14v14zM3 5H1v16c0 1.1.9 2 2 2h16v-2H3V5zm14 8v-2c0-1.11-.9-2-2-2h-2V7h4V5h-6v6h4v2h-4v2h4c1.1 0 2-.89 2-2z"></path></g>
<g id="filter-6"><path d="M3 5H1v16c0 1.1.9 2 2 2h16v-2H3V5zm18-4H7c-1.1 0-2 .9-2 2v14c0 1.1.9 2 2 2h14c1.1 0 2-.9 2-2V3c0-1.1-.9-2-2-2zm0 16H7V3h14v14zm-8-2h2c1.1 0 2-.89 2-2v-2c0-1.11-.9-2-2-2h-2V7h4V5h-4c-1.1 0-2 .89-2 2v6c0 1.11.9 2 2 2zm0-4h2v2h-2v-2z"></path></g>
<g id="filter-7"><path d="M3 5H1v16c0 1.1.9 2 2 2h16v-2H3V5zm18-4H7c-1.1 0-2 .9-2 2v14c0 1.1.9 2 2 2h14c1.1 0 2-.9 2-2V3c0-1.1-.9-2-2-2zm0 16H7V3h14v14zm-8-2l4-8V5h-6v2h4l-4 8h2z"></path></g>
<g id="filter-8"><path d="M3 5H1v16c0 1.1.9 2 2 2h16v-2H3V5zm18-4H7c-1.1 0-2 .9-2 2v14c0 1.1.9 2 2 2h14c1.1 0 2-.9 2-2V3c0-1.1-.9-2-2-2zm0 16H7V3h14v14zm-8-2h2c1.1 0 2-.89 2-2v-1.5c0-.83-.67-1.5-1.5-1.5.83 0 1.5-.67 1.5-1.5V7c0-1.11-.9-2-2-2h-2c-1.1 0-2 .89-2 2v1.5c0 .83.67 1.5 1.5 1.5-.83 0-1.5.67-1.5 1.5V13c0 1.11.9 2 2 2zm0-8h2v2h-2V7zm0 4h2v2h-2v-2z"></path></g>
<g id="filter-9"><path d="M3 5H1v16c0 1.1.9 2 2 2h16v-2H3V5zm18-4H7c-1.1 0-2 .9-2 2v14c0 1.1.9 2 2 2h14c1.1 0 2-.9 2-2V3c0-1.1-.9-2-2-2zm0 16H7V3h14v14zM15 5h-2c-1.1 0-2 .89-2 2v2c0 1.11.9 2 2 2h2v2h-4v2h4c1.1 0 2-.89 2-2V7c0-1.11-.9-2-2-2zm0 4h-2V7h2v2z"></path></g>
<g id="filter-9-plus"><path d="M3 5H1v16c0 1.1.9 2 2 2h16v-2H3V5zm11 7V8c0-1.11-.9-2-2-2h-1c-1.1 0-2 .89-2 2v1c0 1.11.9 2 2 2h1v1H9v2h3c1.1 0 2-.89 2-2zm-3-3V8h1v1h-1zm10-8H7c-1.1 0-2 .9-2 2v14c0 1.1.9 2 2 2h14c1.1 0 2-.9 2-2V3c0-1.1-.9-2-2-2zm0 8h-2V7h-2v2h-2v2h2v2h2v-2h2v6H7V3h14v6z"></path></g>
<g id="filter-b-and-w"><path d="M19 3H5c-1.1 0-2 .9-2 2v14c0 1.1.9 2 2 2h14c1.1 0 2-.9 2-2V5c0-1.1-.9-2-2-2zm0 16l-7-8v8H5l7-8V5h7v14z"></path></g>
<g id="filter-center-focus"><path d="M5 15H3v4c0 1.1.9 2 2 2h4v-2H5v-4zM5 5h4V3H5c-1.1 0-2 .9-2 2v4h2V5zm14-2h-4v2h4v4h2V5c0-1.1-.9-2-2-2zm0 16h-4v2h4c1.1 0 2-.9 2-2v-4h-2v4zM12 9c-1.66 0-3 1.34-3 3s1.34 3 3 3 3-1.34 3-3-1.34-3-3-3z"></path></g>
<g id="filter-drama"><path d="M19.35 10.04C18.67 6.59 15.64 4 12 4 9.11 4 6.61 5.64 5.36 8.04 2.35 8.36 0 10.9 0 14c0 3.31 2.69 6 6 6h13c2.76 0 5-2.24 5-5 0-2.64-2.05-4.78-4.65-4.96zM19 18H6c-2.21 0-4-1.79-4-4s1.79-4 4-4 4 1.79 4 4h2c0-2.76-1.86-5.08-4.4-5.78C8.61 6.88 10.2 6 12 6c3.03 0 5.5 2.47 5.5 5.5v.5H19c1.65 0 3 1.35 3 3s-1.35 3-3 3z"></path></g>
<g id="filter-frames"><path d="M20 4h-4l-4-4-4 4H4c-1.1 0-2 .9-2 2v14c0 1.1.9 2 2 2h16c1.1 0 2-.9 2-2V6c0-1.1-.9-2-2-2zm0 16H4V6h4.52l3.52-3.5L15.52 6H20v14zM18 8H6v10h12"></path></g>
<g id="filter-hdr"><path d="M14 6l-3.75 5 2.85 3.8-1.6 1.2C9.81 13.75 7 10 7 10l-6 8h22L14 6z"></path></g>
<g id="filter-none"><path d="M3 5H1v16c0 1.1.9 2 2 2h16v-2H3V5zm18-4H7c-1.1 0-2 .9-2 2v14c0 1.1.9 2 2 2h14c1.1 0 2-.9 2-2V3c0-1.1-.9-2-2-2zm0 16H7V3h14v14z"></path></g>
<g id="filter-tilt-shift"><path d="M11 4.07V2.05c-2.01.2-3.84 1-5.32 2.21L7.1 5.69c1.11-.86 2.44-1.44 3.9-1.62zm7.32.19C16.84 3.05 15.01 2.25 13 2.05v2.02c1.46.18 2.79.76 3.9 1.62l1.42-1.43zM19.93 11h2.02c-.2-2.01-1-3.84-2.21-5.32L18.31 7.1c.86 1.11 1.44 2.44 1.62 3.9zM5.69 7.1L4.26 5.68C3.05 7.16 2.25 8.99 2.05 11h2.02c.18-1.46.76-2.79 1.62-3.9zM4.07 13H2.05c.2 2.01 1 3.84 2.21 5.32l1.43-1.43c-.86-1.1-1.44-2.43-1.62-3.89zM15 12c0-1.66-1.34-3-3-3s-3 1.34-3 3 1.34 3 3 3 3-1.34 3-3zm3.31 4.9l1.43 1.43c1.21-1.48 2.01-3.32 2.21-5.32h-2.02c-.18 1.45-.76 2.78-1.62 3.89zM13 19.93v2.02c2.01-.2 3.84-1 5.32-2.21l-1.43-1.43c-1.1.86-2.43 1.44-3.89 1.62zm-7.32-.19C7.16 20.95 9 21.75 11 21.95v-2.02c-1.46-.18-2.79-.76-3.9-1.62l-1.42 1.43z"></path></g>
<g id="filter-vintage"><path d="M18.7 12.4c-.28-.16-.57-.29-.86-.4.29-.11.58-.24.86-.4 1.92-1.11 2.99-3.12 3-5.19-1.79-1.03-4.07-1.11-6 0-.28.16-.54.35-.78.54.05-.31.08-.63.08-.95 0-2.22-1.21-4.15-3-5.19C10.21 1.85 9 3.78 9 6c0 .32.03.64.08.95-.24-.2-.5-.39-.78-.55-1.92-1.11-4.2-1.03-6 0 0 2.07 1.07 4.08 3 5.19.28.16.57.29.86.4-.29.11-.58.24-.86.4-1.92 1.11-2.99 3.12-3 5.19 1.79 1.03 4.07 1.11 6 0 .28-.16.54-.35.78-.54-.05.32-.08.64-.08.96 0 2.22 1.21 4.15 3 5.19 1.79-1.04 3-2.97 3-5.19 0-.32-.03-.64-.08-.95.24.2.5.38.78.54 1.92 1.11 4.2 1.03 6 0-.01-2.07-1.08-4.08-3-5.19zM12 16c-2.21 0-4-1.79-4-4s1.79-4 4-4 4 1.79 4 4-1.79 4-4 4z"></path></g>
<g id="flare"><path d="M7 11H1v2h6v-2zm2.17-3.24L7.05 5.64 5.64 7.05l2.12 2.12 1.41-1.41zM13 1h-2v6h2V1zm5.36 6.05l-1.41-1.41-2.12 2.12 1.41 1.41 2.12-2.12zM17 11v2h6v-2h-6zm-5-2c-1.66 0-3 1.34-3 3s1.34 3 3 3 3-1.34 3-3-1.34-3-3-3zm2.83 7.24l2.12 2.12 1.41-1.41-2.12-2.12-1.41 1.41zm-9.19.71l1.41 1.41 2.12-2.12-1.41-1.41-2.12 2.12zM11 23h2v-6h-2v6z"></path></g>
<g id="flash-auto"><path d="M3 2v12h3v9l7-12H9l4-9H3zm16 0h-2l-3.2 9h1.9l.7-2h3.2l.7 2h1.9L19 2zm-2.15 5.65L18 4l1.15 3.65h-2.3z"></path></g>
<g id="flash-off"><path d="M3.27 3L2 4.27l5 5V13h3v9l3.58-6.14L17.73 20 19 18.73 3.27 3zM17 10h-4l4-8H7v2.18l8.46 8.46L17 10z"></path></g>
<g id="flash-on"><path d="M7 2v11h3v9l7-12h-4l4-8z"></path></g>
<g id="flip"><path d="M15 21h2v-2h-2v2zm4-12h2V7h-2v2zM3 5v14c0 1.1.9 2 2 2h4v-2H5V5h4V3H5c-1.1 0-2 .9-2 2zm16-2v2h2c0-1.1-.9-2-2-2zm-8 20h2V1h-2v22zm8-6h2v-2h-2v2zM15 5h2V3h-2v2zm4 8h2v-2h-2v2zm0 8c1.1 0 2-.9 2-2h-2v2z"></path></g>
<g id="gradient"><path d="M11 9h2v2h-2zm-2 2h2v2H9zm4 0h2v2h-2zm2-2h2v2h-2zM7 9h2v2H7zm12-6H5c-1.1 0-2 .9-2 2v14c0 1.1.9 2 2 2h14c1.1 0 2-.9 2-2V5c0-1.1-.9-2-2-2zM9 18H7v-2h2v2zm4 0h-2v-2h2v2zm4 0h-2v-2h2v2zm2-7h-2v2h2v2h-2v-2h-2v2h-2v-2h-2v2H9v-2H7v2H5v-2h2v-2H5V5h14v6z"></path></g>
<g id="grain"><path d="M10 12c-1.1 0-2 .9-2 2s.9 2 2 2 2-.9 2-2-.9-2-2-2zM6 8c-1.1 0-2 .9-2 2s.9 2 2 2 2-.9 2-2-.9-2-2-2zm0 8c-1.1 0-2 .9-2 2s.9 2 2 2 2-.9 2-2-.9-2-2-2zm12-8c1.1 0 2-.9 2-2s-.9-2-2-2-2 .9-2 2 .9 2 2 2zm-4 8c-1.1 0-2 .9-2 2s.9 2 2 2 2-.9 2-2-.9-2-2-2zm4-4c-1.1 0-2 .9-2 2s.9 2 2 2 2-.9 2-2-.9-2-2-2zm-4-4c-1.1 0-2 .9-2 2s.9 2 2 2 2-.9 2-2-.9-2-2-2zm-4-4c-1.1 0-2 .9-2 2s.9 2 2 2 2-.9 2-2-.9-2-2-2z"></path></g>
<g id="grid-off"><path d="M8 4v1.45l2 2V4h4v4h-3.45l2 2H14v1.45l2 2V10h4v4h-3.45l2 2H20v1.45l2 2V4c0-1.1-.9-2-2-2H4.55l2 2H8zm8 0h4v4h-4V4zM1.27 1.27L0 2.55l2 2V20c0 1.1.9 2 2 2h15.46l2 2 1.27-1.27L1.27 1.27zM10 12.55L11.45 14H10v-1.45zm-6-6L5.45 8H4V6.55zM8 20H4v-4h4v4zm0-6H4v-4h3.45l.55.55V14zm6 6h-4v-4h3.45l.55.54V20zm2 0v-1.46L17.46 20H16z"></path></g>
<g id="grid-on"><path d="M20 2H4c-1.1 0-2 .9-2 2v16c0 1.1.9 2 2 2h16c1.1 0 2-.9 2-2V4c0-1.1-.9-2-2-2zM8 20H4v-4h4v4zm0-6H4v-4h4v4zm0-6H4V4h4v4zm6 12h-4v-4h4v4zm0-6h-4v-4h4v4zm0-6h-4V4h4v4zm6 12h-4v-4h4v4zm0-6h-4v-4h4v4zm0-6h-4V4h4v4z"></path></g>
<g id="hdr-off"><path d="M17.5 15v-2h1.1l.9 2H21l-.9-2.1c.5-.2.9-.8.9-1.4v-1c0-.8-.7-1.5-1.5-1.5H16v4.9l1.1 1.1h.4zm0-4.5h2v1h-2v-1zm-4.5 0v.4l1.5 1.5v-1.9c0-.8-.7-1.5-1.5-1.5h-1.9l1.5 1.5h.4zm-3.5-1l-7-7-1.1 1L6.9 9h-.4v2h-2V9H3v6h1.5v-2.5h2V15H8v-4.9l1.5 1.5V15h3.4l7.6 7.6 1.1-1.1-12.1-12z"></path></g>
<g id="hdr-on"><path d="M21 11.5v-1c0-.8-.7-1.5-1.5-1.5H16v6h1.5v-2h1.1l.9 2H21l-.9-2.1c.5-.3.9-.8.9-1.4zm-1.5 0h-2v-1h2v1zm-13-.5h-2V9H3v6h1.5v-2.5h2V15H8V9H6.5v2zM13 9H9.5v6H13c.8 0 1.5-.7 1.5-1.5v-3c0-.8-.7-1.5-1.5-1.5zm0 4.5h-2v-3h2v3z"></path></g>
<g id="hdr-strong"><path d="M17 6c-3.31 0-6 2.69-6 6s2.69 6 6 6 6-2.69 6-6-2.69-6-6-6zM5 8c-2.21 0-4 1.79-4 4s1.79 4 4 4 4-1.79 4-4-1.79-4-4-4zm0 6c-1.1 0-2-.9-2-2s.9-2 2-2 2 .9 2 2-.9 2-2 2z"></path></g>
<g id="hdr-weak"><path d="M5 8c-2.21 0-4 1.79-4 4s1.79 4 4 4 4-1.79 4-4-1.79-4-4-4zm12-2c-3.31 0-6 2.69-6 6s2.69 6 6 6 6-2.69 6-6-2.69-6-6-6zm0 10c-2.21 0-4-1.79-4-4s1.79-4 4-4 4 1.79 4 4-1.79 4-4 4z"></path></g>
<g id="healing"><path d="M17.73 12.02l3.98-3.98c.39-.39.39-1.02 0-1.41l-4.34-4.34c-.39-.39-1.02-.39-1.41 0l-3.98 3.98L8 2.29C7.8 2.1 7.55 2 7.29 2c-.25 0-.51.1-.7.29L2.25 6.63c-.39.39-.39 1.02 0 1.41l3.98 3.98L2.25 16c-.39.39-.39 1.02 0 1.41l4.34 4.34c.39.39 1.02.39 1.41 0l3.98-3.98 3.98 3.98c.2.2.45.29.71.29.26 0 .51-.1.71-.29l4.34-4.34c.39-.39.39-1.02 0-1.41l-3.99-3.98zM12 9c.55 0 1 .45 1 1s-.45 1-1 1-1-.45-1-1 .45-1 1-1zm-4.71 1.96L3.66 7.34l3.63-3.63 3.62 3.62-3.62 3.63zM10 13c-.55 0-1-.45-1-1s.45-1 1-1 1 .45 1 1-.45 1-1 1zm2 2c-.55 0-1-.45-1-1s.45-1 1-1 1 .45 1 1-.45 1-1 1zm2-4c.55 0 1 .45 1 1s-.45 1-1 1-1-.45-1-1 .45-1 1-1zm2.66 9.34l-3.63-3.62 3.63-3.63 3.62 3.62-3.62 3.63z"></path></g>
<g id="image"><path d="M21 19V5c0-1.1-.9-2-2-2H5c-1.1 0-2 .9-2 2v14c0 1.1.9 2 2 2h14c1.1 0 2-.9 2-2zM8.5 13.5l2.5 3.01L14.5 12l4.5 6H5l3.5-4.5z"></path></g>
<g id="image-aspect-ratio"><path d="M16 10h-2v2h2v-2zm0 4h-2v2h2v-2zm-8-4H6v2h2v-2zm4 0h-2v2h2v-2zm8-6H4c-1.1 0-2 .9-2 2v12c0 1.1.9 2 2 2h16c1.1 0 2-.9 2-2V6c0-1.1-.9-2-2-2zm0 14H4V6h16v12z"></path></g>
<g id="iso"><path d="M19 3H5c-1.1 0-2 .9-2 2v14c0 1.1.9 2 2 2h14c1.1 0 2-.9 2-2V5c0-1.1-.9-2-2-2zM5.5 7.5h2v-2H9v2h2V9H9v2H7.5V9h-2V7.5zM19 19H5L19 5v14zm-2-2v-1.5h-5V17h5z"></path></g>
<g id="landscape"><path d="M14 6l-3.75 5 2.85 3.8-1.6 1.2C9.81 13.75 7 10 7 10l-6 8h22L14 6z"></path></g>
<g id="leak-add"><path d="M6 3H3v3c1.66 0 3-1.34 3-3zm8 0h-2c0 4.97-4.03 9-9 9v2c6.08 0 11-4.93 11-11zm-4 0H8c0 2.76-2.24 5-5 5v2c3.87 0 7-3.13 7-7zm0 18h2c0-4.97 4.03-9 9-9v-2c-6.07 0-11 4.93-11 11zm8 0h3v-3c-1.66 0-3 1.34-3 3zm-4 0h2c0-2.76 2.24-5 5-5v-2c-3.87 0-7 3.13-7 7z"></path></g>
<g id="leak-remove"><path d="M10 3H8c0 .37-.04.72-.12 1.06l1.59 1.59C9.81 4.84 10 3.94 10 3zM3 4.27l2.84 2.84C5.03 7.67 4.06 8 3 8v2c1.61 0 3.09-.55 4.27-1.46L8.7 9.97C7.14 11.24 5.16 12 3 12v2c2.71 0 5.19-.99 7.11-2.62l2.5 2.5C10.99 15.81 10 18.29 10 21h2c0-2.16.76-4.14 2.03-5.69l1.43 1.43C14.55 17.91 14 19.39 14 21h2c0-1.06.33-2.03.89-2.84L19.73 21 21 19.73 4.27 3 3 4.27zM14 3h-2c0 1.5-.37 2.91-1.02 4.16l1.46 1.46C13.42 6.98 14 5.06 14 3zm5.94 13.12c.34-.08.69-.12 1.06-.12v-2c-.94 0-1.84.19-2.66.52l1.6 1.6zm-4.56-4.56l1.46 1.46C18.09 12.37 19.5 12 21 12v-2c-2.06 0-3.98.58-5.62 1.56z"></path></g>
<g id="lens"><path d="M12 2C6.48 2 2 6.48 2 12s4.48 10 10 10 10-4.48 10-10S17.52 2 12 2z"></path></g>
<g id="linked-camera"><circle cx="12" cy="14" r="3.2"></circle><path d="M16 3.33c2.58 0 4.67 2.09 4.67 4.67H22c0-3.31-2.69-6-6-6v1.33M16 6c1.11 0 2 .89 2 2h1.33c0-1.84-1.49-3.33-3.33-3.33V6"></path><path d="M17 9c0-1.11-.89-2-2-2V4H9L7.17 6H4c-1.1 0-2 .9-2 2v12c0 1.1.9 2 2 2h16c1.1 0 2-.9 2-2V9h-5zm-5 10c-2.76 0-5-2.24-5-5s2.24-5 5-5 5 2.24 5 5-2.24 5-5 5z"></path></g>
<g id="looks"><path d="M12 10c-3.86 0-7 3.14-7 7h2c0-2.76 2.24-5 5-5s5 2.24 5 5h2c0-3.86-3.14-7-7-7zm0-4C5.93 6 1 10.93 1 17h2c0-4.96 4.04-9 9-9s9 4.04 9 9h2c0-6.07-4.93-11-11-11z"></path></g>
<g id="looks-3"><path d="M19.01 3h-14c-1.1 0-2 .9-2 2v14c0 1.1.9 2 2 2h14c1.1 0 2-.9 2-2V5c0-1.1-.9-2-2-2zm-4 7.5c0 .83-.67 1.5-1.5 1.5.83 0 1.5.67 1.5 1.5V15c0 1.11-.9 2-2 2h-4v-2h4v-2h-2v-2h2V9h-4V7h4c1.1 0 2 .89 2 2v1.5z"></path></g>
<g id="looks-4"><path d="M19 3H5c-1.1 0-2 .9-2 2v14c0 1.1.9 2 2 2h14c1.1 0 2-.9 2-2V5c0-1.1-.9-2-2-2zm-4 14h-2v-4H9V7h2v4h2V7h2v10z"></path></g>
<g id="looks-5"><path d="M19 3H5c-1.1 0-2 .9-2 2v14c0 1.1.9 2 2 2h14c1.1 0 2-.9 2-2V5c0-1.1-.9-2-2-2zm-4 6h-4v2h2c1.1 0 2 .89 2 2v2c0 1.11-.9 2-2 2H9v-2h4v-2H9V7h6v2z"></path></g>
<g id="looks-6"><path d="M11 15h2v-2h-2v2zm8-12H5c-1.1 0-2 .9-2 2v14c0 1.1.9 2 2 2h14c1.1 0 2-.9 2-2V5c0-1.1-.9-2-2-2zm-4 6h-4v2h2c1.1 0 2 .89 2 2v2c0 1.11-.9 2-2 2h-2c-1.1 0-2-.89-2-2V9c0-1.11.9-2 2-2h4v2z"></path></g>
<g id="looks-one"><path d="M19 3H5c-1.1 0-2 .9-2 2v14c0 1.1.9 2 2 2h14c1.1 0 2-.9 2-2V5c0-1.1-.9-2-2-2zm-5 14h-2V9h-2V7h4v10z"></path></g>
<g id="looks-two"><path d="M19 3H5c-1.1 0-2 .9-2 2v14c0 1.1.9 2 2 2h14c1.1 0 2-.9 2-2V5c0-1.1-.9-2-2-2zm-4 8c0 1.11-.9 2-2 2h-2v2h4v2H9v-4c0-1.11.9-2 2-2h2V9H9V7h4c1.1 0 2 .89 2 2v2z"></path></g>
<g id="loupe"><path d="M13 7h-2v4H7v2h4v4h2v-4h4v-2h-4V7zm-1-5C6.49 2 2 6.49 2 12s4.49 10 10 10h8c1.1 0 2-.9 2-2v-8c0-5.51-4.49-10-10-10zm0 18c-4.41 0-8-3.59-8-8s3.59-8 8-8 8 3.59 8 8-3.59 8-8 8z"></path></g>
<g id="monochrome-photos"><path d="M20 5h-3.2L15 3H9L7.2 5H4c-1.1 0-2 .9-2 2v12c0 1.1.9 2 2 2h16c1.1 0 2-.9 2-2V7c0-1.1-.9-2-2-2zm0 14h-8v-1c-2.8 0-5-2.2-5-5s2.2-5 5-5V7h8v12zm-3-6c0-2.8-2.2-5-5-5v1.8c1.8 0 3.2 1.4 3.2 3.2s-1.4 3.2-3.2 3.2V18c2.8 0 5-2.2 5-5zm-8.2 0c0 1.8 1.4 3.2 3.2 3.2V9.8c-1.8 0-3.2 1.4-3.2 3.2z"></path></g>
<g id="movie-creation"><path d="M18 4l2 4h-3l-2-4h-2l2 4h-3l-2-4H8l2 4H7L5 4H4c-1.1 0-1.99.9-1.99 2L2 18c0 1.1.9 2 2 2h16c1.1 0 2-.9 2-2V4h-4z"></path></g>
<g id="movie-filter"><path d="M18 4l2 3h-3l-2-3h-2l2 3h-3l-2-3H8l2 3H7L5 4H4c-1.1 0-1.99.9-1.99 2L2 18c0 1.1.9 2 2 2h16c1.1 0 2-.9 2-2V4h-4zm-6.75 11.25L10 18l-1.25-2.75L6 14l2.75-1.25L10 10l1.25 2.75L14 14l-2.75 1.25zm5.69-3.31L16 14l-.94-2.06L13 11l2.06-.94L16 8l.94 2.06L19 11l-2.06.94z"></path></g>
<g id="music-note"><path d="M12 3v10.55c-.59-.34-1.27-.55-2-.55-2.21 0-4 1.79-4 4s1.79 4 4 4 4-1.79 4-4V7h4V3h-6z"></path></g>
<g id="nature"><path d="M13 16.12c3.47-.41 6.17-3.36 6.17-6.95 0-3.87-3.13-7-7-7s-7 3.13-7 7c0 3.47 2.52 6.34 5.83 6.89V20H5v2h14v-2h-6v-3.88z"></path></g>
<g id="nature-people"><path d="M22.17 9.17c0-3.87-3.13-7-7-7s-7 3.13-7 7c0 3.47 2.52 6.34 5.83 6.89V20H6v-3h1v-4c0-.55-.45-1-1-1H3c-.55 0-1 .45-1 1v4h1v5h16v-2h-3v-3.88c3.47-.41 6.17-3.36 6.17-6.95zM4.5 11c.83 0 1.5-.67 1.5-1.5S5.33 8 4.5 8 3 8.67 3 9.5 3.67 11 4.5 11z"></path></g>
<g id="navigate-before"><path d="M15.41 7.41L14 6l-6 6 6 6 1.41-1.41L10.83 12z"></path></g>
<g id="navigate-next"><path d="M10 6L8.59 7.41 13.17 12l-4.58 4.59L10 18l6-6z"></path></g>
<g id="palette"><path d="M12 3c-4.97 0-9 4.03-9 9s4.03 9 9 9c.83 0 1.5-.67 1.5-1.5 0-.39-.15-.74-.39-1.01-.23-.26-.38-.61-.38-.99 0-.83.67-1.5 1.5-1.5H16c2.76 0 5-2.24 5-5 0-4.42-4.03-8-9-8zm-5.5 9c-.83 0-1.5-.67-1.5-1.5S5.67 9 6.5 9 8 9.67 8 10.5 7.33 12 6.5 12zm3-4C8.67 8 8 7.33 8 6.5S8.67 5 9.5 5s1.5.67 1.5 1.5S10.33 8 9.5 8zm5 0c-.83 0-1.5-.67-1.5-1.5S13.67 5 14.5 5s1.5.67 1.5 1.5S15.33 8 14.5 8zm3 4c-.83 0-1.5-.67-1.5-1.5S16.67 9 17.5 9s1.5.67 1.5 1.5-.67 1.5-1.5 1.5z"></path></g>
<g id="panorama"><path d="M23 18V6c0-1.1-.9-2-2-2H3c-1.1 0-2 .9-2 2v12c0 1.1.9 2 2 2h18c1.1 0 2-.9 2-2zM8.5 12.5l2.5 3.01L14.5 11l4.5 6H5l3.5-4.5z"></path></g>
<g id="panorama-fish-eye"><path d="M12 2C6.47 2 2 6.47 2 12s4.47 10 10 10 10-4.47 10-10S17.53 2 12 2zm0 18c-4.41 0-8-3.59-8-8s3.59-8 8-8 8 3.59 8 8-3.59 8-8 8z"></path></g>
<g id="panorama-horizontal"><path d="M20 6.54v10.91c-2.6-.77-5.28-1.16-8-1.16-2.72 0-5.4.39-8 1.16V6.54c2.6.77 5.28 1.16 8 1.16 2.72.01 5.4-.38 8-1.16M21.43 4c-.1 0-.2.02-.31.06C18.18 5.16 15.09 5.7 12 5.7c-3.09 0-6.18-.55-9.12-1.64-.11-.04-.22-.06-.31-.06-.34 0-.57.23-.57.63v14.75c0 .39.23.62.57.62.1 0 .2-.02.31-.06 2.94-1.1 6.03-1.64 9.12-1.64 3.09 0 6.18.55 9.12 1.64.11.04.21.06.31.06.33 0 .57-.23.57-.63V4.63c0-.4-.24-.63-.57-.63z"></path></g>
<g id="panorama-vertical"><path d="M19.94 21.12c-1.1-2.94-1.64-6.03-1.64-9.12 0-3.09.55-6.18 1.64-9.12.04-.11.06-.22.06-.31 0-.34-.23-.57-.63-.57H4.63c-.4 0-.63.23-.63.57 0 .1.02.2.06.31C5.16 5.82 5.71 8.91 5.71 12c0 3.09-.55 6.18-1.64 9.12-.05.11-.07.22-.07.31 0 .33.23.57.63.57h14.75c.39 0 .63-.24.63-.57-.01-.1-.03-.2-.07-.31zM6.54 20c.77-2.6 1.16-5.28 1.16-8 0-2.72-.39-5.4-1.16-8h10.91c-.77 2.6-1.16 5.28-1.16 8 0 2.72.39 5.4 1.16 8H6.54z"></path></g>
<g id="panorama-wide-angle"><path d="M12 6c2.45 0 4.71.2 7.29.64.47 1.78.71 3.58.71 5.36 0 1.78-.24 3.58-.71 5.36-2.58.44-4.84.64-7.29.64s-4.71-.2-7.29-.64C4.24 15.58 4 13.78 4 12c0-1.78.24-3.58.71-5.36C7.29 6.2 9.55 6 12 6m0-2c-2.73 0-5.22.24-7.95.72l-.93.16-.25.9C2.29 7.85 2 9.93 2 12s.29 4.15.87 6.22l.25.89.93.16c2.73.49 5.22.73 7.95.73s5.22-.24 7.95-.72l.93-.16.25-.89c.58-2.08.87-4.16.87-6.23s-.29-4.15-.87-6.22l-.25-.89-.93-.16C17.22 4.24 14.73 4 12 4z"></path></g>
<g id="photo"><path d="M21 19V5c0-1.1-.9-2-2-2H5c-1.1 0-2 .9-2 2v14c0 1.1.9 2 2 2h14c1.1 0 2-.9 2-2zM8.5 13.5l2.5 3.01L14.5 12l4.5 6H5l3.5-4.5z"></path></g>
<g id="photo-album"><path d="M18 2H6c-1.1 0-2 .9-2 2v16c0 1.1.9 2 2 2h12c1.1 0 2-.9 2-2V4c0-1.1-.9-2-2-2zM6 4h5v8l-2.5-1.5L6 12V4zm0 15l3-3.86 2.14 2.58 3-3.86L18 19H6z"></path></g>
<g id="photo-camera"><circle cx="12" cy="12" r="3.2"></circle><path d="M9 2L7.17 4H4c-1.1 0-2 .9-2 2v12c0 1.1.9 2 2 2h16c1.1 0 2-.9 2-2V6c0-1.1-.9-2-2-2h-3.17L15 2H9zm3 15c-2.76 0-5-2.24-5-5s2.24-5 5-5 5 2.24 5 5-2.24 5-5 5z"></path></g>
<g id="photo-filter"><path d="M19.02 10v9H5V5h9V3H5.02c-1.1 0-2 .9-2 2v14c0 1.1.9 2 2 2h14c1.1 0 2-.9 2-2v-9h-2zM17 10l.94-2.06L20 7l-2.06-.94L17 4l-.94 2.06L14 7l2.06.94zm-3.75.75L12 8l-1.25 2.75L8 12l2.75 1.25L12 16l1.25-2.75L16 12z"></path></g>
<g id="photo-library"><path d="M22 16V4c0-1.1-.9-2-2-2H8c-1.1 0-2 .9-2 2v12c0 1.1.9 2 2 2h12c1.1 0 2-.9 2-2zm-11-4l2.03 2.71L16 11l4 5H8l3-4zM2 6v14c0 1.1.9 2 2 2h14v-2H4V6H2z"></path></g>
<g id="photo-size-select-actual"><path d="M21 3H3C2 3 1 4 1 5v14c0 1.1.9 2 2 2h18c1 0 2-1 2-2V5c0-1-1-2-2-2zM5 17l3.5-4.5 2.5 3.01L14.5 11l4.5 6H5z"></path></g>
<g id="photo-size-select-large"><path d="M21 15h2v2h-2v-2zm0-4h2v2h-2v-2zm2 8h-2v2c1 0 2-1 2-2zM13 3h2v2h-2V3zm8 4h2v2h-2V7zm0-4v2h2c0-1-1-2-2-2zM1 7h2v2H1V7zm16-4h2v2h-2V3zm0 16h2v2h-2v-2zM3 3C2 3 1 4 1 5h2V3zm6 0h2v2H9V3zM5 3h2v2H5V3zm-4 8v8c0 1.1.9 2 2 2h12V11H1zm2 8l2.5-3.21 1.79 2.15 2.5-3.22L13 19H3z"></path></g>
<g id="photo-size-select-small"><path d="M23 15h-2v2h2v-2zm0-4h-2v2h2v-2zm0 8h-2v2c1 0 2-1 2-2zM15 3h-2v2h2V3zm8 4h-2v2h2V7zm-2-4v2h2c0-1-1-2-2-2zM3 21h8v-6H1v4c0 1.1.9 2 2 2zM3 7H1v2h2V7zm12 12h-2v2h2v-2zm4-16h-2v2h2V3zm0 16h-2v2h2v-2zM3 3C2 3 1 4 1 5h2V3zm0 8H1v2h2v-2zm8-8H9v2h2V3zM7 3H5v2h2V3z"></path></g>
<g id="picture-as-pdf"><path d="M20 2H8c-1.1 0-2 .9-2 2v12c0 1.1.9 2 2 2h12c1.1 0 2-.9 2-2V4c0-1.1-.9-2-2-2zm-8.5 7.5c0 .83-.67 1.5-1.5 1.5H9v2H7.5V7H10c.83 0 1.5.67 1.5 1.5v1zm5 2c0 .83-.67 1.5-1.5 1.5h-2.5V7H15c.83 0 1.5.67 1.5 1.5v3zm4-3H19v1h1.5V11H19v2h-1.5V7h3v1.5zM9 9.5h1v-1H9v1zM4 6H2v14c0 1.1.9 2 2 2h14v-2H4V6zm10 5.5h1v-3h-1v3z"></path></g>
<g id="portrait"><path d="M12 12.25c1.24 0 2.25-1.01 2.25-2.25S13.24 7.75 12 7.75 9.75 8.76 9.75 10s1.01 2.25 2.25 2.25zm4.5 4c0-1.5-3-2.25-4.5-2.25s-4.5.75-4.5 2.25V17h9v-.75zM19 3H5c-1.1 0-2 .9-2 2v14c0 1.1.9 2 2 2h14c1.1 0 2-.9 2-2V5c0-1.1-.9-2-2-2zm0 16H5V5h14v14z"></path></g>
<g id="remove-red-eye"><path d="M12 4.5C7 4.5 2.73 7.61 1 12c1.73 4.39 6 7.5 11 7.5s9.27-3.11 11-7.5c-1.73-4.39-6-7.5-11-7.5zM12 17c-2.76 0-5-2.24-5-5s2.24-5 5-5 5 2.24 5 5-2.24 5-5 5zm0-8c-1.66 0-3 1.34-3 3s1.34 3 3 3 3-1.34 3-3-1.34-3-3-3z"></path></g>
<g id="rotate-90-degrees-ccw"><path d="M7.34 6.41L.86 12.9l6.49 6.48 6.49-6.48-6.5-6.49zM3.69 12.9l3.66-3.66L11 12.9l-3.66 3.66-3.65-3.66zm15.67-6.26C17.61 4.88 15.3 4 13 4V.76L8.76 5 13 9.24V6c1.79 0 3.58.68 4.95 2.05 2.73 2.73 2.73 7.17 0 9.9C16.58 19.32 14.79 20 13 20c-.97 0-1.94-.21-2.84-.61l-1.49 1.49C10.02 21.62 11.51 22 13 22c2.3 0 4.61-.88 6.36-2.64 3.52-3.51 3.52-9.21 0-12.72z"></path></g>
<g id="rotate-left"><path d="M7.11 8.53L5.7 7.11C4.8 8.27 4.24 9.61 4.07 11h2.02c.14-.87.49-1.72 1.02-2.47zM6.09 13H4.07c.17 1.39.72 2.73 1.62 3.89l1.41-1.42c-.52-.75-.87-1.59-1.01-2.47zm1.01 5.32c1.16.9 2.51 1.44 3.9 1.61V17.9c-.87-.15-1.71-.49-2.46-1.03L7.1 18.32zM13 4.07V1L8.45 5.55 13 10V6.09c2.84.48 5 2.94 5 5.91s-2.16 5.43-5 5.91v2.02c3.95-.49 7-3.85 7-7.93s-3.05-7.44-7-7.93z"></path></g>
<g id="rotate-right"><path d="M15.55 5.55L11 1v3.07C7.06 4.56 4 7.92 4 12s3.05 7.44 7 7.93v-2.02c-2.84-.48-5-2.94-5-5.91s2.16-5.43 5-5.91V10l4.55-4.45zM19.93 11c-.17-1.39-.72-2.73-1.62-3.89l-1.42 1.42c.54.75.88 1.6 1.02 2.47h2.02zM13 17.9v2.02c1.39-.17 2.74-.71 3.9-1.61l-1.44-1.44c-.75.54-1.59.89-2.46 1.03zm3.89-2.42l1.42 1.41c.9-1.16 1.45-2.5 1.62-3.89h-2.02c-.14.87-.48 1.72-1.02 2.48z"></path></g>
<g id="slideshow"><path d="M10 8v8l5-4-5-4zm9-5H5c-1.1 0-2 .9-2 2v14c0 1.1.9 2 2 2h14c1.1 0 2-.9 2-2V5c0-1.1-.9-2-2-2zm0 16H5V5h14v14z"></path></g>
<g id="straighten"><path d="M21 6H3c-1.1 0-2 .9-2 2v8c0 1.1.9 2 2 2h18c1.1 0 2-.9 2-2V8c0-1.1-.9-2-2-2zm0 10H3V8h2v4h2V8h2v4h2V8h2v4h2V8h2v4h2V8h2v8z"></path></g>
<g id="style"><path d="M2.53 19.65l1.34.56v-9.03l-2.43 5.86c-.41 1.02.08 2.19 1.09 2.61zm19.5-3.7L17.07 3.98c-.31-.75-1.04-1.21-1.81-1.23-.26 0-.53.04-.79.15L7.1 5.95c-.75.31-1.21 1.03-1.23 1.8-.01.27.04.54.15.8l4.96 11.97c.31.76 1.05 1.22 1.83 1.23.26 0 .52-.05.77-.15l7.36-3.05c1.02-.42 1.51-1.59 1.09-2.6zM7.88 8.75c-.55 0-1-.45-1-1s.45-1 1-1 1 .45 1 1-.45 1-1 1zm-2 11c0 1.1.9 2 2 2h1.45l-3.45-8.34v6.34z"></path></g>
<g id="switch-camera"><path d="M20 4h-3.17L15 2H9L7.17 4H4c-1.1 0-2 .9-2 2v12c0 1.1.9 2 2 2h16c1.1 0 2-.9 2-2V6c0-1.1-.9-2-2-2zm-5 11.5V13H9v2.5L5.5 12 9 8.5V11h6V8.5l3.5 3.5-3.5 3.5z"></path></g>
<g id="switch-video"><path d="M18 9.5V6c0-.55-.45-1-1-1H3c-.55 0-1 .45-1 1v12c0 .55.45 1 1 1h14c.55 0 1-.45 1-1v-3.5l4 4v-13l-4 4zm-5 6V13H7v2.5L3.5 12 7 8.5V11h6V8.5l3.5 3.5-3.5 3.5z"></path></g>
<g id="tag-faces"><path d="M11.99 2C6.47 2 2 6.48 2 12s4.47 10 9.99 10C17.52 22 22 17.52 22 12S17.52 2 11.99 2zM12 20c-4.42 0-8-3.58-8-8s3.58-8 8-8 8 3.58 8 8-3.58 8-8 8zm3.5-9c.83 0 1.5-.67 1.5-1.5S16.33 8 15.5 8 14 8.67 14 9.5s.67 1.5 1.5 1.5zm-7 0c.83 0 1.5-.67 1.5-1.5S9.33 8 8.5 8 7 8.67 7 9.5 7.67 11 8.5 11zm3.5 6.5c2.33 0 4.31-1.46 5.11-3.5H6.89c.8 2.04 2.78 3.5 5.11 3.5z"></path></g>
<g id="texture"><path d="M19.51 3.08L3.08 19.51c.09.34.27.65.51.9.25.24.56.42.9.51L20.93 4.49c-.19-.69-.73-1.23-1.42-1.41zM11.88 3L3 11.88v2.83L14.71 3h-2.83zM5 3c-1.1 0-2 .9-2 2v2l4-4H5zm14 18c.55 0 1.05-.22 1.41-.59.37-.36.59-.86.59-1.41v-2l-4 4h2zm-9.71 0h2.83L21 12.12V9.29L9.29 21z"></path></g>
<g id="timelapse"><path d="M16.24 7.76C15.07 6.59 13.54 6 12 6v6l-4.24 4.24c2.34 2.34 6.14 2.34 8.49 0 2.34-2.34 2.34-6.14-.01-8.48zM12 2C6.48 2 2 6.48 2 12s4.48 10 10 10 10-4.48 10-10S17.52 2 12 2zm0 18c-4.42 0-8-3.58-8-8s3.58-8 8-8 8 3.58 8 8-3.58 8-8 8z"></path></g>
<g id="timer"><path d="M15 1H9v2h6V1zm-4 13h2V8h-2v6zm8.03-6.61l1.42-1.42c-.43-.51-.9-.99-1.41-1.41l-1.42 1.42C16.07 4.74 14.12 4 12 4c-4.97 0-9 4.03-9 9s4.02 9 9 9 9-4.03 9-9c0-2.12-.74-4.07-1.97-5.61zM12 20c-3.87 0-7-3.13-7-7s3.13-7 7-7 7 3.13 7 7-3.13 7-7 7z"></path></g>
<g id="timer-10"><path d="M0 7.72V9.4l3-1V18h2V6h-.25L0 7.72zm23.78 6.65c-.14-.28-.35-.53-.63-.74-.28-.21-.61-.39-1.01-.53s-.85-.27-1.35-.38c-.35-.07-.64-.15-.87-.23-.23-.08-.41-.16-.55-.25-.14-.09-.23-.19-.28-.3-.05-.11-.08-.24-.08-.39 0-.14.03-.28.09-.41.06-.13.15-.25.27-.34.12-.1.27-.18.45-.24s.4-.09.64-.09c.25 0 .47.04.66.11.19.07.35.17.48.29.13.12.22.26.29.42.06.16.1.32.1.49h1.95c0-.39-.08-.75-.24-1.09-.16-.34-.39-.63-.69-.88-.3-.25-.66-.44-1.09-.59C21.49 9.07 21 9 20.46 9c-.51 0-.98.07-1.39.21-.41.14-.77.33-1.06.57-.29.24-.51.52-.67.84-.16.32-.23.65-.23 1.01s.08.69.23.96c.15.28.36.52.64.73.27.21.6.38.98.53.38.14.81.26 1.27.36.39.08.71.17.95.26s.43.19.57.29c.13.1.22.22.27.34.05.12.07.25.07.39 0 .32-.13.57-.4.77-.27.2-.66.29-1.17.29-.22 0-.43-.02-.64-.08-.21-.05-.4-.13-.56-.24-.17-.11-.3-.26-.41-.44-.11-.18-.17-.41-.18-.67h-1.89c0 .36.08.71.24 1.05.16.34.39.65.7.93.31.27.69.49 1.15.66.46.17.98.25 1.58.25.53 0 1.01-.06 1.44-.19.43-.13.8-.31 1.11-.54.31-.23.54-.51.71-.83.17-.32.25-.67.25-1.06-.02-.4-.09-.74-.24-1.02zm-9.96-7.32c-.34-.4-.75-.7-1.23-.88-.47-.18-1.01-.27-1.59-.27-.58 0-1.11.09-1.59.27-.48.18-.89.47-1.23.88-.34.41-.6.93-.79 1.59-.18.65-.28 1.45-.28 2.39v1.92c0 .94.09 1.74.28 2.39.19.66.45 1.19.8 1.6.34.41.75.71 1.23.89.48.18 1.01.28 1.59.28.59 0 1.12-.09 1.59-.28.48-.18.88-.48 1.22-.89.34-.41.6-.94.78-1.6.18-.65.28-1.45.28-2.39v-1.92c0-.94-.09-1.74-.28-2.39-.18-.66-.44-1.19-.78-1.59zm-.92 6.17c0 .6-.04 1.11-.12 1.53-.08.42-.2.76-.36 1.02-.16.26-.36.45-.59.57-.23.12-.51.18-.82.18-.3 0-.58-.06-.82-.18s-.44-.31-.6-.57c-.16-.26-.29-.6-.38-1.02-.09-.42-.13-.93-.13-1.53v-2.5c0-.6.04-1.11.13-1.52.09-.41.21-.74.38-1 .16-.25.36-.43.6-.55.24-.11.51-.17.81-.17.31 0 .58.06.81.17.24.11.44.29.6.55.16.25.29.58.37.99.08.41.13.92.13 1.52v2.51z"></path></g>
<g id="timer-3"><path d="M11.61 12.97c-.16-.24-.36-.46-.62-.65-.25-.19-.56-.35-.93-.48.3-.14.57-.3.8-.5.23-.2.42-.41.57-.64.15-.23.27-.46.34-.71.08-.24.11-.49.11-.73 0-.55-.09-1.04-.28-1.46-.18-.42-.44-.77-.78-1.06-.33-.28-.73-.5-1.2-.64-.45-.13-.97-.2-1.53-.2-.55 0-1.06.08-1.52.24-.47.17-.87.4-1.2.69-.33.29-.6.63-.78 1.03-.2.39-.29.83-.29 1.29h1.98c0-.26.05-.49.14-.69.09-.2.22-.38.38-.52.17-.14.36-.25.58-.33.22-.08.46-.12.73-.12.61 0 1.06.16 1.36.47.3.31.44.75.44 1.32 0 .27-.04.52-.12.74-.08.22-.21.41-.38.57-.17.16-.38.28-.63.37-.25.09-.55.13-.89.13H6.72v1.57H7.9c.34 0 .64.04.91.11.27.08.5.19.69.35.19.16.34.36.44.61.1.24.16.54.16.87 0 .62-.18 1.09-.53 1.42-.35.33-.84.49-1.45.49-.29 0-.56-.04-.8-.13-.24-.08-.44-.2-.61-.36-.17-.16-.3-.34-.39-.56-.09-.22-.14-.46-.14-.72H4.19c0 .55.11 1.03.32 1.45.21.42.5.77.86 1.05s.77.49 1.24.63.96.21 1.48.21c.57 0 1.09-.08 1.58-.23.49-.15.91-.38 1.26-.68.36-.3.64-.66.84-1.1.2-.43.3-.93.3-1.48 0-.29-.04-.58-.11-.86-.08-.25-.19-.51-.35-.76zm9.26 1.4c-.14-.28-.35-.53-.63-.74-.28-.21-.61-.39-1.01-.53s-.85-.27-1.35-.38c-.35-.07-.64-.15-.87-.23-.23-.08-.41-.16-.55-.25-.14-.09-.23-.19-.28-.3-.05-.11-.08-.24-.08-.39s.03-.28.09-.41c.06-.13.15-.25.27-.34.12-.1.27-.18.45-.24s.4-.09.64-.09c.25 0 .47.04.66.11.19.07.35.17.48.29.13.12.22.26.29.42.06.16.1.32.1.49h1.95c0-.39-.08-.75-.24-1.09-.16-.34-.39-.63-.69-.88-.3-.25-.66-.44-1.09-.59-.43-.15-.92-.22-1.46-.22-.51 0-.98.07-1.39.21-.41.14-.77.33-1.06.57-.29.24-.51.52-.67.84-.16.32-.23.65-.23 1.01s.08.68.23.96c.15.28.37.52.64.73.27.21.6.38.98.53.38.14.81.26 1.27.36.39.08.71.17.95.26s.43.19.57.29c.13.1.22.22.27.34.05.12.07.25.07.39 0 .32-.13.57-.4.77-.27.2-.66.29-1.17.29-.22 0-.43-.02-.64-.08-.21-.05-.4-.13-.56-.24-.17-.11-.3-.26-.41-.44-.11-.18-.17-.41-.18-.67h-1.89c0 .36.08.71.24 1.05.16.34.39.65.7.93.31.27.69.49 1.15.66.46.17.98.25 1.58.25.53 0 1.01-.06 1.44-.19.43-.13.8-.31 1.11-.54.31-.23.54-.51.71-.83.17-.32.25-.67.25-1.06-.02-.4-.09-.74-.24-1.02z"></path></g>
<g id="timer-off"><path d="M19.04 4.55l-1.42 1.42C16.07 4.74 14.12 4 12 4c-1.83 0-3.53.55-4.95 1.48l1.46 1.46C9.53 6.35 10.73 6 12 6c3.87 0 7 3.13 7 7 0 1.27-.35 2.47-.94 3.49l1.45 1.45C20.45 16.53 21 14.83 21 13c0-2.12-.74-4.07-1.97-5.61l1.42-1.42-1.41-1.42zM15 1H9v2h6V1zm-4 8.44l2 2V8h-2v1.44zM3.02 4L1.75 5.27 4.5 8.03C3.55 9.45 3 11.16 3 13c0 4.97 4.02 9 9 9 1.84 0 3.55-.55 4.98-1.5l2.5 2.5 1.27-1.27-7.71-7.71L3.02 4zM12 20c-3.87 0-7-3.13-7-7 0-1.28.35-2.48.95-3.52l9.56 9.56c-1.03.61-2.23.96-3.51.96z"></path></g>
<g id="tonality"><path d="M12 2C6.48 2 2 6.48 2 12s4.48 10 10 10 10-4.48 10-10S17.52 2 12 2zm-1 17.93c-3.94-.49-7-3.85-7-7.93s3.05-7.44 7-7.93v15.86zm2-15.86c1.03.13 2 .45 2.87.93H13v-.93zM13 7h5.24c.25.31.48.65.68 1H13V7zm0 3h6.74c.08.33.15.66.19 1H13v-1zm0 9.93V19h2.87c-.87.48-1.84.8-2.87.93zM18.24 17H13v-1h5.92c-.2.35-.43.69-.68 1zm1.5-3H13v-1h6.93c-.04.34-.11.67-.19 1z"></path></g>
<g id="transform"><path d="M22 18v-2H8V4h2L7 1 4 4h2v2H2v2h4v8c0 1.1.9 2 2 2h8v2h-2l3 3 3-3h-2v-2h4zM10 8h6v6h2V8c0-1.1-.9-2-2-2h-6v2z"></path></g>
<g id="tune"><path d="M3 17v2h6v-2H3zM3 5v2h10V5H3zm10 16v-2h8v-2h-8v-2h-2v6h2zM7 9v2H3v2h4v2h2V9H7zm14 4v-2H11v2h10zm-6-4h2V7h4V5h-4V3h-2v6z"></path></g>
<g id="view-comfy"><path d="M3 9h4V5H3v4zm0 5h4v-4H3v4zm5 0h4v-4H8v4zm5 0h4v-4h-4v4zM8 9h4V5H8v4zm5-4v4h4V5h-4zm5 9h4v-4h-4v4zM3 19h4v-4H3v4zm5 0h4v-4H8v4zm5 0h4v-4h-4v4zm5 0h4v-4h-4v4zm0-14v4h4V5h-4z"></path></g>
<g id="view-compact"><path d="M3 19h6v-7H3v7zm7 0h12v-7H10v7zM3 5v6h19V5H3z"></path></g>
<g id="vignette"><path d="M21 3H3c-1.1 0-2 .9-2 2v14c0 1.1.9 2 2 2h18c1.1 0 2-.9 2-2V5c0-1.1-.9-2-2-2zm-9 15c-4.42 0-8-2.69-8-6s3.58-6 8-6 8 2.69 8 6-3.58 6-8 6z"></path></g>
<g id="wb-auto"><path d="M6.85 12.65h2.3L8 9l-1.15 3.65zM22 7l-1.2 6.29L19.3 7h-1.6l-1.49 6.29L15 7h-.76C12.77 5.17 10.53 4 8 4c-4.42 0-8 3.58-8 8s3.58 8 8 8c3.13 0 5.84-1.81 7.15-4.43l.1.43H17l1.5-6.1L20 16h1.75l2.05-9H22zm-11.7 9l-.7-2H6.4l-.7 2H3.8L7 7h2l3.2 9h-1.9z"></path></g>
<g id="wb-cloudy"><path d="M19.36 10.04C18.67 6.59 15.64 4 12 4 9.11 4 6.6 5.64 5.35 8.04 2.34 8.36 0 10.91 0 14c0 3.31 2.69 6 6 6h13c2.76 0 5-2.24 5-5 0-2.64-2.05-4.78-4.64-4.96z"></path></g>
<g id="wb-incandescent"><path d="M3.55 18.54l1.41 1.41 1.79-1.8-1.41-1.41-1.79 1.8zM11 22.45h2V19.5h-2v2.95zM4 10.5H1v2h3v-2zm11-4.19V1.5H9v4.81C7.21 7.35 6 9.28 6 11.5c0 3.31 2.69 6 6 6s6-2.69 6-6c0-2.22-1.21-4.15-3-5.19zm5 4.19v2h3v-2h-3zm-2.76 7.66l1.79 1.8 1.41-1.41-1.8-1.79-1.4 1.4z"></path></g>
<g id="wb-iridescent"><path d="M5 14.5h14v-6H5v6zM11 .55V3.5h2V.55h-2zm8.04 2.5l-1.79 1.79 1.41 1.41 1.8-1.79-1.42-1.41zM13 22.45V19.5h-2v2.95h2zm7.45-3.91l-1.8-1.79-1.41 1.41 1.79 1.8 1.42-1.42zM3.55 4.46l1.79 1.79 1.41-1.41-1.79-1.79-1.41 1.41zm1.41 15.49l1.79-1.8-1.41-1.41-1.79 1.79 1.41 1.42z"></path></g>
<g id="wb-sunny"><path d="M6.76 4.84l-1.8-1.79-1.41 1.41 1.79 1.79 1.42-1.41zM4 10.5H1v2h3v-2zm9-9.95h-2V3.5h2V.55zm7.45 3.91l-1.41-1.41-1.79 1.79 1.41 1.41 1.79-1.79zm-3.21 13.7l1.79 1.8 1.41-1.41-1.8-1.79-1.4 1.4zM20 10.5v2h3v-2h-3zm-8-5c-3.31 0-6 2.69-6 6s2.69 6 6 6 6-2.69 6-6-2.69-6-6-6zm-1 16.95h2V19.5h-2v2.95zm-7.45-3.91l1.41 1.41 1.79-1.8-1.41-1.41-1.79 1.8z"></path></g>
</defs></svg>
</iron-iconset-svg><dom-module id="paper-spinner-styles">
  <template></template>
</dom-module><iron-iconset-svg name="communication" size="24" style="display: none;">
<svg><defs>
<g id="business"><path d="M12 7V3H2v18h20V7H12zM6 19H4v-2h2v2zm0-4H4v-2h2v2zm0-4H4V9h2v2zm0-4H4V5h2v2zm4 12H8v-2h2v2zm0-4H8v-2h2v2zm0-4H8V9h2v2zm0-4H8V5h2v2zm10 12h-8v-2h2v-2h-2v-2h2v-2h-2V9h8v10zm-2-8h-2v2h2v-2zm0 4h-2v2h2v-2z"></path></g>
<g id="call"><path d="M6.62 10.79c1.44 2.83 3.76 5.14 6.59 6.59l2.2-2.2c.27-.27.67-.36 1.02-.24 1.12.37 2.33.57 3.57.57.55 0 1 .45 1 1V20c0 .55-.45 1-1 1-9.39 0-17-7.61-17-17 0-.55.45-1 1-1h3.5c.55 0 1 .45 1 1 0 1.25.2 2.45.57 3.57.11.35.03.74-.25 1.02l-2.2 2.2z"></path></g>
<g id="call-end"><path d="M12 9c-1.6 0-3.15.25-4.6.72v3.1c0 .39-.23.74-.56.9-.98.49-1.87 1.12-2.66 1.85-.18.18-.43.28-.7.28-.28 0-.53-.11-.71-.29L.29 13.08c-.18-.17-.29-.42-.29-.7 0-.28.11-.53.29-.71C3.34 8.78 7.46 7 12 7s8.66 1.78 11.71 4.67c.18.18.29.43.29.71 0 .28-.11.53-.29.71l-2.48 2.48c-.18.18-.43.29-.71.29-.27 0-.52-.11-.7-.28-.79-.74-1.69-1.36-2.67-1.85-.33-.16-.56-.5-.56-.9v-3.1C15.15 9.25 13.6 9 12 9z"></path></g>
<g id="call-made"><path d="M9 5v2h6.59L4 18.59 5.41 20 17 8.41V15h2V5z"></path></g>
<g id="call-merge"><path d="M17 20.41L18.41 19 15 15.59 13.59 17 17 20.41zM7.5 8H11v5.59L5.59 19 7 20.41l6-6V8h3.5L12 3.5 7.5 8z"></path></g>
<g id="call-missed"><path d="M19.59 7L12 14.59 6.41 9H11V7H3v8h2v-4.59l7 7 9-9z"></path></g>
<g id="call-missed-outgoing"><path d="M3 8.41l9 9 7-7V15h2V7h-8v2h4.59L12 14.59 4.41 7 3 8.41z"></path></g>
<g id="call-received"><path d="M20 5.41L18.59 4 7 15.59V9H5v10h10v-2H8.41z"></path></g>
<g id="call-split"><path d="M14 4l2.29 2.29-2.88 2.88 1.42 1.42 2.88-2.88L20 10V4zm-4 0H4v6l2.29-2.29 4.71 4.7V20h2v-8.41l-5.29-5.3z"></path></g>
<g id="chat"><path d="M20 2H4c-1.1 0-1.99.9-1.99 2L2 22l4-4h14c1.1 0 2-.9 2-2V4c0-1.1-.9-2-2-2zM6 9h12v2H6V9zm8 5H6v-2h8v2zm4-6H6V6h12v2z"></path></g>
<g id="chat-bubble"><path d="M20 2H4c-1.1 0-2 .9-2 2v18l4-4h14c1.1 0 2-.9 2-2V4c0-1.1-.9-2-2-2z"></path></g>
<g id="chat-bubble-outline"><path d="M20 2H4c-1.1 0-2 .9-2 2v18l4-4h14c1.1 0 2-.9 2-2V4c0-1.1-.9-2-2-2zm0 14H6l-2 2V4h16v12z"></path></g>
<g id="clear-all"><path d="M5 13h14v-2H5v2zm-2 4h14v-2H3v2zM7 7v2h14V7H7z"></path></g>
<g id="comment"><path d="M21.99 4c0-1.1-.89-2-1.99-2H4c-1.1 0-2 .9-2 2v12c0 1.1.9 2 2 2h14l4 4-.01-18zM18 14H6v-2h12v2zm0-3H6V9h12v2zm0-3H6V6h12v2z"></path></g>
<g id="contact-mail"><path d="M21 8V7l-3 2-3-2v1l3 2 3-2zm1-5H2C.9 3 0 3.9 0 5v14c0 1.1.9 2 2 2h20c1.1 0 1.99-.9 1.99-2L24 5c0-1.1-.9-2-2-2zM8 6c1.66 0 3 1.34 3 3s-1.34 3-3 3-3-1.34-3-3 1.34-3 3-3zm6 12H2v-1c0-2 4-3.1 6-3.1s6 1.1 6 3.1v1zm8-6h-8V6h8v6z"></path></g>
<g id="contact-phone"><path d="M22 3H2C.9 3 0 3.9 0 5v14c0 1.1.9 2 2 2h20c1.1 0 1.99-.9 1.99-2L24 5c0-1.1-.9-2-2-2zM8 6c1.66 0 3 1.34 3 3s-1.34 3-3 3-3-1.34-3-3 1.34-3 3-3zm6 12H2v-1c0-2 4-3.1 6-3.1s6 1.1 6 3.1v1zm3.85-4h1.64L21 16l-1.99 1.99c-1.31-.98-2.28-2.38-2.73-3.99-.18-.64-.28-1.31-.28-2s.1-1.36.28-2c.45-1.62 1.42-3.01 2.73-3.99L21 8l-1.51 2h-1.64c-.22.63-.35 1.3-.35 2s.13 1.37.35 2z"></path></g>
<g id="contacts"><path d="M20 0H4v2h16V0zM4 24h16v-2H4v2zM20 4H4c-1.1 0-2 .9-2 2v12c0 1.1.9 2 2 2h16c1.1 0 2-.9 2-2V6c0-1.1-.9-2-2-2zm-8 2.75c1.24 0 2.25 1.01 2.25 2.25s-1.01 2.25-2.25 2.25S9.75 10.24 9.75 9 10.76 6.75 12 6.75zM17 17H7v-1.5c0-1.67 3.33-2.5 5-2.5s5 .83 5 2.5V17z"></path></g>
<g id="dialer-sip"><path d="M17 3h-1v5h1V3zm-2 2h-2V4h2V3h-3v3h2v1h-2v1h3V5zm3-2v5h1V6h2V3h-3zm2 2h-1V4h1v1zm0 10.5c-1.25 0-2.45-.2-3.57-.57-.35-.11-.74-.03-1.01.24l-2.2 2.2c-2.83-1.44-5.15-3.75-6.59-6.59l2.2-2.21c.27-.26.35-.65.24-1C8.7 6.45 8.5 5.25 8.5 4c0-.55-.45-1-1-1H4c-.55 0-1 .45-1 1 0 9.39 7.61 17 17 17 .55 0 1-.45 1-1v-3.5c0-.55-.45-1-1-1z"></path></g>
<g id="dialpad"><path d="M12 19c-1.1 0-2 .9-2 2s.9 2 2 2 2-.9 2-2-.9-2-2-2zM6 1c-1.1 0-2 .9-2 2s.9 2 2 2 2-.9 2-2-.9-2-2-2zm0 6c-1.1 0-2 .9-2 2s.9 2 2 2 2-.9 2-2-.9-2-2-2zm0 6c-1.1 0-2 .9-2 2s.9 2 2 2 2-.9 2-2-.9-2-2-2zm12-8c1.1 0 2-.9 2-2s-.9-2-2-2-2 .9-2 2 .9 2 2 2zm-6 8c-1.1 0-2 .9-2 2s.9 2 2 2 2-.9 2-2-.9-2-2-2zm6 0c-1.1 0-2 .9-2 2s.9 2 2 2 2-.9 2-2-.9-2-2-2zm0-6c-1.1 0-2 .9-2 2s.9 2 2 2 2-.9 2-2-.9-2-2-2zm-6 0c-1.1 0-2 .9-2 2s.9 2 2 2 2-.9 2-2-.9-2-2-2zm0-6c-1.1 0-2 .9-2 2s.9 2 2 2 2-.9 2-2-.9-2-2-2z"></path></g>
<g id="email"><path d="M20 4H4c-1.1 0-1.99.9-1.99 2L2 18c0 1.1.9 2 2 2h16c1.1 0 2-.9 2-2V6c0-1.1-.9-2-2-2zm0 4l-8 5-8-5V6l8 5 8-5v2z"></path></g>
<g id="forum"><path d="M21 6h-2v9H6v2c0 .55.45 1 1 1h11l4 4V7c0-.55-.45-1-1-1zm-4 6V3c0-.55-.45-1-1-1H3c-.55 0-1 .45-1 1v14l4-4h10c.55 0 1-.45 1-1z"></path></g>
<g id="import-contacts"><path d="M21 5c-1.11-.35-2.33-.5-3.5-.5-1.95 0-4.05.4-5.5 1.5-1.45-1.1-3.55-1.5-5.5-1.5S2.45 4.9 1 6v14.65c0 .25.25.5.5.5.1 0 .15-.05.25-.05C3.1 20.45 5.05 20 6.5 20c1.95 0 4.05.4 5.5 1.5 1.35-.85 3.8-1.5 5.5-1.5 1.65 0 3.35.3 4.75 1.05.1.05.15.05.25.05.25 0 .5-.25.5-.5V6c-.6-.45-1.25-.75-2-1zm0 13.5c-1.1-.35-2.3-.5-3.5-.5-1.7 0-4.15.65-5.5 1.5V8c1.35-.85 3.8-1.5 5.5-1.5 1.2 0 2.4.15 3.5.5v11.5z"></path></g>
<g id="import-export"><path d="M9 3L5 6.99h3V14h2V6.99h3L9 3zm7 14.01V10h-2v7.01h-3L15 21l4-3.99h-3z"></path></g>
<g id="invert-colors-off"><path d="M20.65 20.87l-2.35-2.35-6.3-6.29-3.56-3.57-1.42-1.41L4.27 4.5 3 5.77l2.78 2.78c-2.55 3.14-2.36 7.76.56 10.69C7.9 20.8 9.95 21.58 12 21.58c1.79 0 3.57-.59 5.03-1.78l2.7 2.7L21 21.23l-.35-.36zM12 19.59c-1.6 0-3.11-.62-4.24-1.76C6.62 16.69 6 15.19 6 13.59c0-1.32.43-2.57 1.21-3.6L12 14.77v4.82zM12 5.1v4.58l7.25 7.26c1.37-2.96.84-6.57-1.6-9.01L12 2.27l-3.7 3.7 1.41 1.41L12 5.1z"></path></g>
<g id="live-help"><path d="M19 2H5c-1.11 0-2 .9-2 2v14c0 1.1.89 2 2 2h4l3 3 3-3h4c1.1 0 2-.9 2-2V4c0-1.1-.9-2-2-2zm-6 16h-2v-2h2v2zm2.07-7.75l-.9.92C13.45 11.9 13 12.5 13 14h-2v-.5c0-1.1.45-2.1 1.17-2.83l1.24-1.26c.37-.36.59-.86.59-1.41 0-1.1-.9-2-2-2s-2 .9-2 2H8c0-2.21 1.79-4 4-4s4 1.79 4 4c0 .88-.36 1.68-.93 2.25z"></path></g>
<g id="location-off"><path d="M12 6.5c1.38 0 2.5 1.12 2.5 2.5 0 .74-.33 1.39-.83 1.85l3.63 3.63c.98-1.86 1.7-3.8 1.7-5.48 0-3.87-3.13-7-7-7-1.98 0-3.76.83-5.04 2.15l3.19 3.19c.46-.52 1.11-.84 1.85-.84zm4.37 9.6l-4.63-4.63-.11-.11L3.27 3 2 4.27l3.18 3.18C5.07 7.95 5 8.47 5 9c0 5.25 7 13 7 13s1.67-1.85 3.38-4.35L18.73 21 20 19.73l-3.63-3.63z"></path></g>
<g id="location-on"><path d="M12 2C8.13 2 5 5.13 5 9c0 5.25 7 13 7 13s7-7.75 7-13c0-3.87-3.13-7-7-7zm0 9.5c-1.38 0-2.5-1.12-2.5-2.5s1.12-2.5 2.5-2.5 2.5 1.12 2.5 2.5-1.12 2.5-2.5 2.5z"></path></g>
<g id="mail-outline"><path d="M20 4H4c-1.1 0-1.99.9-1.99 2L2 18c0 1.1.9 2 2 2h16c1.1 0 2-.9 2-2V6c0-1.1-.9-2-2-2zm0 14H4V8l8 5 8-5v10zm-8-7L4 6h16l-8 5z"></path></g>
<g id="message"><path d="M20 2H4c-1.1 0-1.99.9-1.99 2L2 22l4-4h14c1.1 0 2-.9 2-2V4c0-1.1-.9-2-2-2zm-2 12H6v-2h12v2zm0-3H6V9h12v2zm0-3H6V6h12v2z"></path></g>
<g id="no-sim"><path d="M18.99 5c0-1.1-.89-2-1.99-2h-7L7.66 5.34 19 16.68 18.99 5zM3.65 3.88L2.38 5.15 5 7.77V19c0 1.1.9 2 2 2h10.01c.35 0 .67-.1.96-.26l1.88 1.88 1.27-1.27L3.65 3.88z"></path></g>
<g id="phone"><path d="M6.62 10.79c1.44 2.83 3.76 5.14 6.59 6.59l2.2-2.2c.27-.27.67-.36 1.02-.24 1.12.37 2.33.57 3.57.57.55 0 1 .45 1 1V20c0 .55-.45 1-1 1-9.39 0-17-7.61-17-17 0-.55.45-1 1-1h3.5c.55 0 1 .45 1 1 0 1.25.2 2.45.57 3.57.11.35.03.74-.25 1.02l-2.2 2.2z"></path></g>
<g id="phonelink-erase"><path d="M13 8.2l-1-1-4 4-4-4-1 1 4 4-4 4 1 1 4-4 4 4 1-1-4-4 4-4zM19 1H9c-1.1 0-2 .9-2 2v3h2V4h10v16H9v-2H7v3c0 1.1.9 2 2 2h10c1.1 0 2-.9 2-2V3c0-1.1-.9-2-2-2z"></path></g>
<g id="phonelink-lock"><path d="M19 1H9c-1.1 0-2 .9-2 2v3h2V4h10v16H9v-2H7v3c0 1.1.9 2 2 2h10c1.1 0 2-.9 2-2V3c0-1.1-.9-2-2-2zm-8.2 10V9.5C10.8 8.1 9.4 7 8 7S5.2 8.1 5.2 9.5V11c-.6 0-1.2.6-1.2 1.2v3.5c0 .7.6 1.3 1.2 1.3h5.5c.7 0 1.3-.6 1.3-1.2v-3.5c0-.7-.6-1.3-1.2-1.3zm-1.3 0h-3V9.5c0-.8.7-1.3 1.5-1.3s1.5.5 1.5 1.3V11z"></path></g>
<g id="phonelink-ring"><path d="M20.1 7.7l-1 1c1.8 1.8 1.8 4.6 0 6.5l1 1c2.5-2.3 2.5-6.1 0-8.5zM18 9.8l-1 1c.5.7.5 1.6 0 2.3l1 1c1.2-1.2 1.2-3 0-4.3zM14 1H4c-1.1 0-2 .9-2 2v18c0 1.1.9 2 2 2h10c1.1 0 2-.9 2-2V3c0-1.1-.9-2-2-2zm0 19H4V4h10v16z"></path></g>
<g id="phonelink-setup"><path d="M11.8 12.5v-1l1.1-.8c.1-.1.1-.2.1-.3l-1-1.7c-.1-.1-.2-.2-.3-.1l-1.3.4c-.3-.2-.6-.4-.9-.5l-.2-1.3c0-.1-.1-.2-.3-.2H7c-.1 0-.2.1-.3.2l-.2 1.3c-.3.1-.6.3-.9.5l-1.3-.5c-.1 0-.2 0-.3.1l-1 1.7c-.1.1 0 .2.1.3l1.1.8v1l-1.1.8c-.1.2-.1.3-.1.4l1 1.7c.1.1.2.2.3.1l1.4-.4c.3.2.6.4.9.5l.2 1.3c-.1.1.1.2.2.2h2c.1 0 .2-.1.3-.2l.2-1.3c.3-.1.6-.3.9-.5l1.3.5c.1 0 .2 0 .3-.1l1-1.7c.1-.1 0-.2-.1-.3l-1.1-.9zM8 14c-1.1 0-2-.9-2-2s.9-2 2-2 2 .9 2 2-.9 2-2 2zM19 1H9c-1.1 0-2 .9-2 2v3h2V4h10v16H9v-2H7v3c0 1.1.9 2 2 2h10c1.1 0 2-.9 2-2V3c0-1.1-.9-2-2-2z"></path></g>
<g id="portable-wifi-off"><path d="M17.56 14.24c.28-.69.44-1.45.44-2.24 0-3.31-2.69-6-6-6-.79 0-1.55.16-2.24.44l1.62 1.62c.2-.03.41-.06.62-.06 2.21 0 4 1.79 4 4 0 .21-.02.42-.05.63l1.61 1.61zM12 4c4.42 0 8 3.58 8 8 0 1.35-.35 2.62-.95 3.74l1.47 1.47C21.46 15.69 22 13.91 22 12c0-5.52-4.48-10-10-10-1.91 0-3.69.55-5.21 1.47l1.46 1.46C9.37 4.34 10.65 4 12 4zM3.27 2.5L2 3.77l2.1 2.1C2.79 7.57 2 9.69 2 12c0 3.7 2.01 6.92 4.99 8.65l1-1.73C5.61 17.53 4 14.96 4 12c0-1.76.57-3.38 1.53-4.69l1.43 1.44C6.36 9.68 6 10.8 6 12c0 2.22 1.21 4.15 3 5.19l1-1.74c-1.19-.7-2-1.97-2-3.45 0-.65.17-1.25.44-1.79l1.58 1.58L10 12c0 1.1.9 2 2 2l.21-.02.01.01 7.51 7.51L21 20.23 4.27 3.5l-1-1z"></path></g>
<g id="present-to-all"><path d="M21 3H3c-1.11 0-2 .89-2 2v14c0 1.11.89 2 2 2h18c1.11 0 2-.89 2-2V5c0-1.11-.89-2-2-2zm0 16.02H3V4.98h18v14.04zM10 12H8l4-4 4 4h-2v4h-4v-4z"></path></g>
<g id="ring-volume"><path d="M23.71 16.67C20.66 13.78 16.54 12 12 12 7.46 12 3.34 13.78.29 16.67c-.18.18-.29.43-.29.71 0 .28.11.53.29.71l2.48 2.48c.18.18.43.29.71.29.27 0 .52-.11.7-.28.79-.74 1.69-1.36 2.66-1.85.33-.16.56-.5.56-.9v-3.1c1.45-.48 3-.73 4.6-.73s3.15.25 4.6.72v3.1c0 .39.23.74.56.9.98.49 1.87 1.12 2.66 1.85.18.18.43.28.7.28.28 0 .53-.11.71-.29l2.48-2.48c.18-.18.29-.43.29-.71 0-.27-.11-.52-.29-.7zM21.16 6.26l-1.41-1.41-3.56 3.55 1.41 1.41s3.45-3.52 3.56-3.55zM13 2h-2v5h2V2zM6.4 9.81L7.81 8.4 4.26 4.84 2.84 6.26c.11.03 3.56 3.55 3.56 3.55z"></path></g>
<g id="rss-feed"><circle cx="6.18" cy="17.82" r="2.18"></circle><path d="M4 4.44v2.83c7.03 0 12.73 5.7 12.73 12.73h2.83c0-8.59-6.97-15.56-15.56-15.56zm0 5.66v2.83c3.9 0 7.07 3.17 7.07 7.07h2.83c0-5.47-4.43-9.9-9.9-9.9z"></path></g>
<g id="screen-share"><path d="M20 18c1.1 0 1.99-.9 1.99-2L22 6c0-1.11-.9-2-2-2H4c-1.11 0-2 .89-2 2v10c0 1.1.89 2 2 2H0v2h24v-2h-4zm-7-3.53v-2.19c-2.78 0-4.61.85-6 2.72.56-2.67 2.11-5.33 6-5.87V7l4 3.73-4 3.74z"></path></g>
<g id="speaker-phone"><path d="M7 7.07L8.43 8.5c.91-.91 2.18-1.48 3.57-1.48s2.66.57 3.57 1.48L17 7.07C15.72 5.79 13.95 5 12 5s-3.72.79-5 2.07zM12 1C8.98 1 6.24 2.23 4.25 4.21l1.41 1.41C7.28 4 9.53 3 12 3s4.72 1 6.34 2.62l1.41-1.41C17.76 2.23 15.02 1 12 1zm2.86 9.01L9.14 10C8.51 10 8 10.51 8 11.14v9.71c0 .63.51 1.14 1.14 1.14h5.71c.63 0 1.14-.51 1.14-1.14v-9.71c.01-.63-.5-1.13-1.13-1.13zM15 20H9v-8h6v8z"></path></g>
<g id="stay-current-landscape"><path d="M1.01 7L1 17c0 1.1.9 2 2 2h18c1.1 0 2-.9 2-2V7c0-1.1-.9-2-2-2H3c-1.1 0-1.99.9-1.99 2zM19 7v10H5V7h14z"></path></g>
<g id="stay-current-portrait"><path d="M17 1.01L7 1c-1.1 0-1.99.9-1.99 2v18c0 1.1.89 2 1.99 2h10c1.1 0 2-.9 2-2V3c0-1.1-.9-1.99-2-1.99zM17 19H7V5h10v14z"></path></g>
<g id="stay-primary-landscape"><path d="M1.01 7L1 17c0 1.1.9 2 2 2h18c1.1 0 2-.9 2-2V7c0-1.1-.9-2-2-2H3c-1.1 0-1.99.9-1.99 2zM19 7v10H5V7h14z"></path></g>
<g id="stay-primary-portrait"><path d="M17 1.01L7 1c-1.1 0-1.99.9-1.99 2v18c0 1.1.89 2 1.99 2h10c1.1 0 2-.9 2-2V3c0-1.1-.9-1.99-2-1.99zM17 19H7V5h10v14z"></path></g>
<g id="stop-screen-share"><path d="M21.22 18.02l2 2H24v-2h-2.78zm.77-2l.01-10c0-1.11-.9-2-2-2H7.22l5.23 5.23c.18-.04.36-.07.55-.1V7.02l4 3.73-1.58 1.47 5.54 5.54c.61-.33 1.03-.99 1.03-1.74zM2.39 1.73L1.11 3l1.54 1.54c-.4.36-.65.89-.65 1.48v10c0 1.1.89 2 2 2H0v2h18.13l2.71 2.71 1.27-1.27L2.39 1.73zM7 15.02c.31-1.48.92-2.95 2.07-4.06l1.59 1.59c-1.54.38-2.7 1.18-3.66 2.47z"></path></g>
<g id="swap-calls"><path d="M18 4l-4 4h3v7c0 1.1-.9 2-2 2s-2-.9-2-2V8c0-2.21-1.79-4-4-4S5 5.79 5 8v7H2l4 4 4-4H7V8c0-1.1.9-2 2-2s2 .9 2 2v7c0 2.21 1.79 4 4 4s4-1.79 4-4V8h3l-4-4z"></path></g>
<g id="textsms"><path d="M20 2H4c-1.1 0-1.99.9-1.99 2L2 22l4-4h14c1.1 0 2-.9 2-2V4c0-1.1-.9-2-2-2zM9 11H7V9h2v2zm4 0h-2V9h2v2zm4 0h-2V9h2v2z"></path></g>
<g id="voicemail"><path d="M18.5 6C15.46 6 13 8.46 13 11.5c0 1.33.47 2.55 1.26 3.5H9.74c.79-.95 1.26-2.17 1.26-3.5C11 8.46 8.54 6 5.5 6S0 8.46 0 11.5 2.46 17 5.5 17h13c3.04 0 5.5-2.46 5.5-5.5S21.54 6 18.5 6zm-13 9C3.57 15 2 13.43 2 11.5S3.57 8 5.5 8 9 9.57 9 11.5 7.43 15 5.5 15zm13 0c-1.93 0-3.5-1.57-3.5-3.5S16.57 8 18.5 8 22 9.57 22 11.5 20.43 15 18.5 15z"></path></g>
<g id="vpn-key"><path d="M12.65 10C11.83 7.67 9.61 6 7 6c-3.31 0-6 2.69-6 6s2.69 6 6 6c2.61 0 4.83-1.67 5.65-4H17v4h4v-4h2v-4H12.65zM7 14c-1.1 0-2-.9-2-2s.9-2 2-2 2 .9 2 2-.9 2-2 2z"></path></g>
</defs></svg>
</iron-iconset-svg><iron-iconset-svg name="social" size="24" style="display: none;">
<svg><defs>
<g id="cake"><path d="M12 6c1.11 0 2-.9 2-2 0-.38-.1-.73-.29-1.03L12 0l-1.71 2.97c-.19.3-.29.65-.29 1.03 0 1.1.9 2 2 2zm4.6 9.99l-1.07-1.07-1.08 1.07c-1.3 1.3-3.58 1.31-4.89 0l-1.07-1.07-1.09 1.07C6.75 16.64 5.88 17 4.96 17c-.73 0-1.4-.23-1.96-.61V21c0 .55.45 1 1 1h16c.55 0 1-.45 1-1v-4.61c-.56.38-1.23.61-1.96.61-.92 0-1.79-.36-2.44-1.01zM18 9h-5V7h-2v2H6c-1.66 0-3 1.34-3 3v1.54c0 1.08.88 1.96 1.96 1.96.52 0 1.02-.2 1.38-.57l2.14-2.13 2.13 2.13c.74.74 2.03.74 2.77 0l2.14-2.13 2.13 2.13c.37.37.86.57 1.38.57 1.08 0 1.96-.88 1.96-1.96V12C21 10.34 19.66 9 18 9z"></path></g>
<g id="domain"><path d="M12 7V3H2v18h20V7H12zM6 19H4v-2h2v2zm0-4H4v-2h2v2zm0-4H4V9h2v2zm0-4H4V5h2v2zm4 12H8v-2h2v2zm0-4H8v-2h2v2zm0-4H8V9h2v2zm0-4H8V5h2v2zm10 12h-8v-2h2v-2h-2v-2h2v-2h-2V9h8v10zm-2-8h-2v2h2v-2zm0 4h-2v2h2v-2z"></path></g>
<g id="group"><path d="M16 11c1.66 0 2.99-1.34 2.99-3S17.66 5 16 5c-1.66 0-3 1.34-3 3s1.34 3 3 3zm-8 0c1.66 0 2.99-1.34 2.99-3S9.66 5 8 5C6.34 5 5 6.34 5 8s1.34 3 3 3zm0 2c-2.33 0-7 1.17-7 3.5V19h14v-2.5c0-2.33-4.67-3.5-7-3.5zm8 0c-.29 0-.62.02-.97.05 1.16.84 1.97 1.97 1.97 3.45V19h6v-2.5c0-2.33-4.67-3.5-7-3.5z"></path></g>
<g id="group-add"><path d="M8 10H5V7H3v3H0v2h3v3h2v-3h3v-2zm10 1c1.66 0 2.99-1.34 2.99-3S19.66 5 18 5c-.32 0-.63.05-.91.14.57.81.9 1.79.9 2.86s-.34 2.04-.9 2.86c.28.09.59.14.91.14zm-5 0c1.66 0 2.99-1.34 2.99-3S14.66 5 13 5c-1.66 0-3 1.34-3 3s1.34 3 3 3zm6.62 2.16c.83.73 1.38 1.66 1.38 2.84v2h3v-2c0-1.54-2.37-2.49-4.38-2.84zM13 13c-2 0-6 1-6 3v2h12v-2c0-2-4-3-6-3z"></path></g>
<g id="location-city"><path d="M15 11V5l-3-3-3 3v2H3v14h18V11h-6zm-8 8H5v-2h2v2zm0-4H5v-2h2v2zm0-4H5V9h2v2zm6 8h-2v-2h2v2zm0-4h-2v-2h2v2zm0-4h-2V9h2v2zm0-4h-2V5h2v2zm6 12h-2v-2h2v2zm0-4h-2v-2h2v2z"></path></g>
<g id="mood"><path d="M11.99 2C6.47 2 2 6.48 2 12s4.47 10 9.99 10C17.52 22 22 17.52 22 12S17.52 2 11.99 2zM12 20c-4.42 0-8-3.58-8-8s3.58-8 8-8 8 3.58 8 8-3.58 8-8 8zm3.5-9c.83 0 1.5-.67 1.5-1.5S16.33 8 15.5 8 14 8.67 14 9.5s.67 1.5 1.5 1.5zm-7 0c.83 0 1.5-.67 1.5-1.5S9.33 8 8.5 8 7 8.67 7 9.5 7.67 11 8.5 11zm3.5 6.5c2.33 0 4.31-1.46 5.11-3.5H6.89c.8 2.04 2.78 3.5 5.11 3.5z"></path></g>
<g id="mood-bad"><path d="M11.99 2C6.47 2 2 6.48 2 12s4.47 10 9.99 10C17.52 22 22 17.52 22 12S17.52 2 11.99 2zM12 20c-4.42 0-8-3.58-8-8s3.58-8 8-8 8 3.58 8 8-3.58 8-8 8zm3.5-9c.83 0 1.5-.67 1.5-1.5S16.33 8 15.5 8 14 8.67 14 9.5s.67 1.5 1.5 1.5zm-7 0c.83 0 1.5-.67 1.5-1.5S9.33 8 8.5 8 7 8.67 7 9.5 7.67 11 8.5 11zm3.5 3c-2.33 0-4.31 1.46-5.11 3.5h10.22c-.8-2.04-2.78-3.5-5.11-3.5z"></path></g>
<g id="notifications"><path d="M12 22c1.1 0 2-.9 2-2h-4c0 1.1.89 2 2 2zm6-6v-5c0-3.07-1.64-5.64-4.5-6.32V4c0-.83-.67-1.5-1.5-1.5s-1.5.67-1.5 1.5v.68C7.63 5.36 6 7.92 6 11v5l-2 2v1h16v-1l-2-2z"></path></g>
<g id="notifications-active"><path d="M7.58 4.08L6.15 2.65C3.75 4.48 2.17 7.3 2.03 10.5h2c.15-2.65 1.51-4.97 3.55-6.42zm12.39 6.42h2c-.15-3.2-1.73-6.02-4.12-7.85l-1.42 1.43c2.02 1.45 3.39 3.77 3.54 6.42zM18 11c0-3.07-1.64-5.64-4.5-6.32V4c0-.83-.67-1.5-1.5-1.5s-1.5.67-1.5 1.5v.68C7.63 5.36 6 7.92 6 11v5l-2 2v1h16v-1l-2-2v-5zm-6 11c.14 0 .27-.01.4-.04.65-.14 1.18-.58 1.44-1.18.1-.24.15-.5.15-.78h-4c.01 1.1.9 2 2.01 2z"></path></g>
<g id="notifications-none"><path d="M12 22c1.1 0 2-.9 2-2h-4c0 1.1.9 2 2 2zm6-6v-5c0-3.07-1.63-5.64-4.5-6.32V4c0-.83-.67-1.5-1.5-1.5s-1.5.67-1.5 1.5v.68C7.64 5.36 6 7.92 6 11v5l-2 2v1h16v-1l-2-2zm-2 1H8v-6c0-2.48 1.51-4.5 4-4.5s4 2.02 4 4.5v6z"></path></g>
<g id="notifications-off"><path d="M20 18.69L7.84 6.14 5.27 3.49 4 4.76l2.8 2.8v.01c-.52.99-.8 2.16-.8 3.42v5l-2 2v1h13.73l2 2L21 19.72l-1-1.03zM12 22c1.11 0 2-.89 2-2h-4c0 1.11.89 2 2 2zm6-7.32V11c0-3.08-1.64-5.64-4.5-6.32V4c0-.83-.67-1.5-1.5-1.5s-1.5.67-1.5 1.5v.68c-.15.03-.29.08-.42.12-.1.03-.2.07-.3.11h-.01c-.01 0-.01 0-.02.01-.23.09-.46.2-.68.31 0 0-.01 0-.01.01L18 14.68z"></path></g>
<g id="notifications-paused"><path d="M12 22c1.1 0 2-.9 2-2h-4c0 1.1.89 2 2 2zm6-6v-5c0-3.07-1.64-5.64-4.5-6.32V4c0-.83-.67-1.5-1.5-1.5s-1.5.67-1.5 1.5v.68C7.63 5.36 6 7.93 6 11v5l-2 2v1h16v-1l-2-2zm-3.5-6.2l-2.8 3.4h2.8V15h-5v-1.8l2.8-3.4H9.5V8h5v1.8z"></path></g>
<g id="pages"><path d="M3 5v6h5L7 7l4 1V3H5c-1.1 0-2 .9-2 2zm5 8H3v6c0 1.1.9 2 2 2h6v-5l-4 1 1-4zm9 4l-4-1v5h6c1.1 0 2-.9 2-2v-6h-5l1 4zm2-14h-6v5l4-1-1 4h5V5c0-1.1-.9-2-2-2z"></path></g>
<g id="party-mode"><path d="M20 4h-3.17L15 2H9L7.17 4H4c-1.1 0-2 .9-2 2v12c0 1.1.9 2 2 2h16c1.1 0 2-.9 2-2V6c0-1.1-.9-2-2-2zm-8 3c1.63 0 3.06.79 3.98 2H12c-1.66 0-3 1.34-3 3 0 .35.07.69.18 1H7.1c-.06-.32-.1-.66-.1-1 0-2.76 2.24-5 5-5zm0 10c-1.63 0-3.06-.79-3.98-2H12c1.66 0 3-1.34 3-3 0-.35-.07-.69-.18-1h2.08c.07.32.1.66.1 1 0 2.76-2.24 5-5 5z"></path></g>
<g id="people"><path d="M16 11c1.66 0 2.99-1.34 2.99-3S17.66 5 16 5c-1.66 0-3 1.34-3 3s1.34 3 3 3zm-8 0c1.66 0 2.99-1.34 2.99-3S9.66 5 8 5C6.34 5 5 6.34 5 8s1.34 3 3 3zm0 2c-2.33 0-7 1.17-7 3.5V19h14v-2.5c0-2.33-4.67-3.5-7-3.5zm8 0c-.29 0-.62.02-.97.05 1.16.84 1.97 1.97 1.97 3.45V19h6v-2.5c0-2.33-4.67-3.5-7-3.5z"></path></g>
<g id="people-outline"><path d="M16.5 13c-1.2 0-3.07.34-4.5 1-1.43-.67-3.3-1-4.5-1C5.33 13 1 14.08 1 16.25V19h22v-2.75c0-2.17-4.33-3.25-6.5-3.25zm-4 4.5h-10v-1.25c0-.54 2.56-1.75 5-1.75s5 1.21 5 1.75v1.25zm9 0H14v-1.25c0-.46-.2-.86-.52-1.22.88-.3 1.96-.53 3.02-.53 2.44 0 5 1.21 5 1.75v1.25zM7.5 12c1.93 0 3.5-1.57 3.5-3.5S9.43 5 7.5 5 4 6.57 4 8.5 5.57 12 7.5 12zm0-5.5c1.1 0 2 .9 2 2s-.9 2-2 2-2-.9-2-2 .9-2 2-2zm9 5.5c1.93 0 3.5-1.57 3.5-3.5S18.43 5 16.5 5 13 6.57 13 8.5s1.57 3.5 3.5 3.5zm0-5.5c1.1 0 2 .9 2 2s-.9 2-2 2-2-.9-2-2 .9-2 2-2z"></path></g>
<g id="person"><path d="M12 12c2.21 0 4-1.79 4-4s-1.79-4-4-4-4 1.79-4 4 1.79 4 4 4zm0 2c-2.67 0-8 1.34-8 4v2h16v-2c0-2.66-5.33-4-8-4z"></path></g>
<g id="person-add"><path d="M15 12c2.21 0 4-1.79 4-4s-1.79-4-4-4-4 1.79-4 4 1.79 4 4 4zm-9-2V7H4v3H1v2h3v3h2v-3h3v-2H6zm9 4c-2.67 0-8 1.34-8 4v2h16v-2c0-2.66-5.33-4-8-4z"></path></g>
<g id="person-outline"><path d="M12 5.9c1.16 0 2.1.94 2.1 2.1s-.94 2.1-2.1 2.1S9.9 9.16 9.9 8s.94-2.1 2.1-2.1m0 9c2.97 0 6.1 1.46 6.1 2.1v1.1H5.9V17c0-.64 3.13-2.1 6.1-2.1M12 4C9.79 4 8 5.79 8 8s1.79 4 4 4 4-1.79 4-4-1.79-4-4-4zm0 9c-2.67 0-8 1.34-8 4v3h16v-3c0-2.66-5.33-4-8-4z"></path></g>
<g id="plus-one"><path d="M10 8H8v4H4v2h4v4h2v-4h4v-2h-4zm4.5-1.92V7.9l2.5-.5V18h2V5z"></path></g>
<g id="poll"><path d="M19 3H5c-1.1 0-2 .9-2 2v14c0 1.1.9 2 2 2h14c1.1 0 2-.9 2-2V5c0-1.1-.9-2-2-2zM9 17H7v-7h2v7zm4 0h-2V7h2v10zm4 0h-2v-4h2v4z"></path></g>
<g id="public"><path d="M12 2C6.48 2 2 6.48 2 12s4.48 10 10 10 10-4.48 10-10S17.52 2 12 2zm-1 17.93c-3.95-.49-7-3.85-7-7.93 0-.62.08-1.21.21-1.79L9 15v1c0 1.1.9 2 2 2v1.93zm6.9-2.54c-.26-.81-1-1.39-1.9-1.39h-1v-3c0-.55-.45-1-1-1H8v-2h2c.55 0 1-.45 1-1V7h2c1.1 0 2-.9 2-2v-.41c2.93 1.19 5 4.06 5 7.41 0 2.08-.8 3.97-2.1 5.39z"></path></g>
<g id="school"><path d="M5 13.18v4L12 21l7-3.82v-4L12 17l-7-3.82zM12 3L1 9l11 6 9-4.91V17h2V9L12 3z"></path></g>
<g id="sentiment-dissatisfied"><circle cx="15.5" cy="9.5" r="1.5"></circle><circle cx="8.5" cy="9.5" r="1.5"></circle><path d="M11.99 2C6.47 2 2 6.48 2 12s4.47 10 9.99 10C17.52 22 22 17.52 22 12S17.52 2 11.99 2zM12 20c-4.42 0-8-3.58-8-8s3.58-8 8-8 8 3.58 8 8-3.58 8-8 8zm0-6c-2.33 0-4.32 1.45-5.12 3.5h1.67c.69-1.19 1.97-2 3.45-2s2.75.81 3.45 2h1.67c-.8-2.05-2.79-3.5-5.12-3.5z"></path></g>
<g id="sentiment-neutral"><path d="M9 14h6v1.5H9z"></path><circle cx="15.5" cy="9.5" r="1.5"></circle><circle cx="8.5" cy="9.5" r="1.5"></circle><path d="M11.99 2C6.47 2 2 6.48 2 12s4.47 10 9.99 10C17.52 22 22 17.52 22 12S17.52 2 11.99 2zM12 20c-4.42 0-8-3.58-8-8s3.58-8 8-8 8 3.58 8 8-3.58 8-8 8z"></path></g>
<g id="sentiment-satisfied"><circle cx="15.5" cy="9.5" r="1.5"></circle><circle cx="8.5" cy="9.5" r="1.5"></circle><path d="M11.99 2C6.47 2 2 6.48 2 12s4.47 10 9.99 10C17.52 22 22 17.52 22 12S17.52 2 11.99 2zM12 20c-4.42 0-8-3.58-8-8s3.58-8 8-8 8 3.58 8 8-3.58 8-8 8zm0-4c-1.48 0-2.75-.81-3.45-2H6.88c.8 2.05 2.79 3.5 5.12 3.5s4.32-1.45 5.12-3.5h-1.67c-.7 1.19-1.97 2-3.45 2z"></path></g>
<g id="sentiment-very-dissatisfied"><path d="M11.99 2C6.47 2 2 6.47 2 12s4.47 10 9.99 10S22 17.53 22 12 17.52 2 11.99 2zM12 20c-4.42 0-8-3.58-8-8s3.58-8 8-8 8 3.58 8 8-3.58 8-8 8zm4.18-12.24l-1.06 1.06-1.06-1.06L13 8.82l1.06 1.06L13 10.94 14.06 12l1.06-1.06L16.18 12l1.06-1.06-1.06-1.06 1.06-1.06zM7.82 12l1.06-1.06L9.94 12 11 10.94 9.94 9.88 11 8.82 9.94 7.76 8.88 8.82 7.82 7.76 6.76 8.82l1.06 1.06-1.06 1.06zM12 14c-2.33 0-4.31 1.46-5.11 3.5h10.22c-.8-2.04-2.78-3.5-5.11-3.5z"></path></g>
<g id="sentiment-very-satisfied"><path d="M11.99 2C6.47 2 2 6.47 2 12s4.47 10 9.99 10S22 17.53 22 12 17.52 2 11.99 2zM12 20c-4.42 0-8-3.58-8-8s3.58-8 8-8 8 3.58 8 8-3.58 8-8 8zm1-10.06L14.06 11l1.06-1.06L16.18 11l1.06-1.06-2.12-2.12zm-4.12 0L9.94 11 11 9.94 8.88 7.82 6.76 9.94 7.82 11zM12 17.5c2.33 0 4.31-1.46 5.11-3.5H6.89c.8 2.04 2.78 3.5 5.11 3.5z"></path></g>
<g id="share"><path d="M18 16.08c-.76 0-1.44.3-1.96.77L8.91 12.7c.05-.23.09-.46.09-.7s-.04-.47-.09-.7l7.05-4.11c.54.5 1.25.81 2.04.81 1.66 0 3-1.34 3-3s-1.34-3-3-3-3 1.34-3 3c0 .24.04.47.09.7L8.04 9.81C7.5 9.31 6.79 9 6 9c-1.66 0-3 1.34-3 3s1.34 3 3 3c.79 0 1.5-.31 2.04-.81l7.12 4.16c-.05.21-.08.43-.08.65 0 1.61 1.31 2.92 2.92 2.92 1.61 0 2.92-1.31 2.92-2.92s-1.31-2.92-2.92-2.92z"></path></g>
<g id="whatshot"><path d="M13.5.67s.74 2.65.74 4.8c0 2.06-1.35 3.73-3.41 3.73-2.07 0-3.63-1.67-3.63-3.73l.03-.36C5.21 7.51 4 10.62 4 14c0 4.42 3.58 8 8 8s8-3.58 8-8C20 8.61 17.41 3.8 13.5.67zM11.71 19c-1.78 0-3.22-1.4-3.22-3.14 0-1.62 1.05-2.76 2.81-3.12 1.77-.36 3.6-1.21 4.62-2.58.39 1.29.59 2.65.59 4.04 0 2.65-2.15 4.8-4.8 4.8z"></path></g>
</defs></svg>
</iron-iconset-svg><iron-iconset-svg name="paper-tabs" size="24" style="display: none;">
<svg><defs>
<g id="chevron-left"><path d="M15.41 7.41L14 6l-6 6 6 6 1.41-1.41L10.83 12z"></path></g>
<g id="chevron-right"><path d="M10 6L8.59 7.41 13.17 12l-4.58 4.59L10 18l6-6z"></path></g>
</defs></svg>
</iron-iconset-svg><custom-style include="colab-styles"><style>.formview {
  --paper-input-container_-_padding:  0;;

        --paper-slider-input_-_width:  auto;;
}

colab-date-picker paper-input {
  --paper-input-error_-_overflow:  visible;;

        --paper-input-container-input-webkit-spinner_-_display:  none;;

        --paper-input-container-input-webkit-clear_-_display:  none;
}

body:not(.mobile) paper-listbox, body:not(.mobile) paper-item {
  white-space: nowrap;
}

html {
  --paper-input-container-underline-wrapper-height: 0;
}

paper-tabs {
  --paper-font-common-base_-_font-family:  var(--colab-google-sans-font-family); --paper-font-common-base_-_-webkit-font-smoothing: initial;
        --paper-tabs-selection-bar_-_z-index:  1;
}

paper-tab {
  --paper-tab-content-focused_-_background:  var(--colab-secondary-surface-color); --paper-tab-content-focused_-_font-weight:  700;
}

#python2-kernelspec-warning {
  font-family: var(--paper-font-caption_-_font-family); -webkit-font-smoothing: var(--paper-font-caption_-_-webkit-font-smoothing); white-space: var(--paper-font-caption_-_white-space); overflow: var(--paper-font-caption_-_overflow); text-overflow: var(--paper-font-caption_-_text-overflow); font-size: var(--paper-font-caption_-_font-size); font-weight: var(--paper-font-caption_-_font-weight); letter-spacing: var(--paper-font-caption_-_letter-spacing); line-height: var(--paper-font-caption_-_line-height);
}

colab-debugger paper-toolbar {
  background: var(--paper-grey-800);
        --paper-toolbar-height: 32px;
        --paper-toolbar-title_-_font-size:  14px; --paper-toolbar-title_-_font-weight:  bold; --paper-toolbar-title_-_margin:  0;;
}

colab-debugger .inspect-breakpoints-add {
  --paper-input-container_-_padding:  0 0 8px 0;;
}

colab-debugger paper-tab {
  --paper-tab-content-focused_-_background:  var(--colab-highlighted-surface-color); --paper-tab-content-focused_-_font-weight:  700;
}

.shortcut-dialog paper-dialog-scrollable.no-padding {
  padding: 0;
        --paper-dialog-scrollable_-_padding:  0;
}

.colab-open-dialog paper-dialog-scrollable.no-padding {
  padding: 0;
        --paper-dialog-scrollable_-_padding:  0;
}

colab-dialog h2 {
  flex-shrink: 0;
        margin: 0;
        position: relative;
        font-family: var(--paper-font-title_-_font-family); -webkit-font-smoothing: var(--paper-font-title_-_-webkit-font-smoothing); white-space: var(--paper-font-title_-_white-space); overflow: var(--paper-font-title_-_overflow); text-overflow: var(--paper-font-title_-_text-overflow); font-size: var(--paper-font-title_-_font-size); font-weight: var(--paper-font-title_-_font-weight); line-height: var(--paper-font-title_-_line-height);
}

.tab-pane-header paper-tabs {
  position: relative;
        padding: 0 4px 0 8px;

        --paper-icon-buttons_-_background:  #1a73e8; --paper-icon-buttons_-_border-radius:  50%; --paper-icon-buttons_-_color:  white; --paper-icon-buttons_-_height:  20px; --paper-icon-buttons_-_padding:  2px; --paper-icon-buttons_-_position:  absolute; --paper-icon-buttons_-_width:  20px;

        --paper-icon-button-left_-_left:  0; --paper-icon-button-left_-_z-index:  1;

        --paper-icon-button-right_-_right:  -3px;
}

.tab-pane-header paper-tab {
  --paper-tab-content-focused_-_background:  transparent; --paper-tab-content-focused_-_font-weight:  500;
}

colab-tab-layout-container.flexible-tabs .tab-pane-header paper-tabs {
  --paper-tab-content-unselected {
          opacity: 1;
        }
}

.colab-open-dialog paper-tabs {
  --paper-icon-buttons_-_background:  var(--paper-orange-700); --paper-icon-buttons_-_border-radius:  50%; --paper-icon-buttons_-_color:  white; --paper-icon-buttons_-_height:  20px; --paper-icon-buttons_-_padding:  2px; --paper-icon-buttons_-_position:  absolute; --paper-icon-buttons_-_width:  20px;

        --paper-icon-button-left_-_left:  0; --paper-icon-button-left_-_z-index:  1;

        --paper-icon-button-right_-_right:  -3px;
}

.command-palette {
  box-shadow: var(--shadow-elevation-16dp_-_box-shadow);
        --paper-input-container-shared-input-style_-_font-size:  var(--colab-chrome-font-size); --paper-input-container-shared-input-style_-_padding:  0 4px; --paper-input-container-shared-input-style_-_width:  100%; --paper-input-container-shared-input-style_-_position: initial; --paper-input-container-shared-input-style_-_outline: initial; --paper-input-container-shared-input-style_-_box-shadow: initial; --paper-input-container-shared-input-style_-_margin: initial; --paper-input-container-shared-input-style_-_max-width: initial; --paper-input-container-shared-input-style_-_background: initial; --paper-input-container-shared-input-style_-_border: initial; --paper-input-container-shared-input-style_-_color: initial; --paper-input-container-shared-input-style_-_-webkit-appearance: initial; --paper-input-container-shared-input-style_-_text-align: initial; --paper-input-container-shared-input-style_-_vertical-align: initial; --paper-input-container-shared-input-style_-_font-family: initial; --paper-input-container-shared-input-style_-_-webkit-font-smoothing: initial; --paper-input-container-shared-input-style_-_font-weight: initial; --paper-input-container-shared-input-style_-_line-height: initial;
        --paper-input-container-underline-focus-height: 0;
        --paper-input-container-underline-height: 0;
}

</style></custom-style><custom-style include="colab-themes"><style></style></custom-style><custom-style>
  <style is="custom-style">html {
  --google-orange-600: #e8710a;
    --google-yellow-600: #f9ab00;
    
    --code-cell-background: #f7f7f7;
    --colab-anchor-color: #00e;
    --colab-border-color: #dadada;
    --colab-bold-border-color: #111;
    --colab-callout-color: var(--paper-blue-700);
    --colab-divider-color: var(--paper-grey-400);
    --colab-debugger-line-color: var(--paper-red-100);
    --colab-editor-focus-color: var(--paper-grey-200);
    --colab-highlighted-surface-color: var(--paper-grey-300);
    --colab-icon-color: var(--paper-grey-700);
    --colab-input-placeholder-color: var(--colab-secondary-text-color);
    --colab-primary-surface-color: var(--paper-white);
    --colab-primary-text-color: var(--paper-grey-900);
    --colab-secondary-text-color: #616161;
    --colab-tertiary-text-color: var(--paper-grey-600);
    --colab-secondary-surface-color: #f7f7f7;
    --colab-scrollbar-color: rgba(0, 0, 0, 0.1);
    --colab-gutter-icon-color: var(--paper-grey-400);
    --colab-active-execution-icon-color: var(--paper-grey-800);
    --colab-error-icon-color: var(--paper-red-a700);
    --colab-title-color: #000;
    --colab-toolbar-button-color: var(--paper-grey-800);
    --colab-form-field-underline-color: var(--paper-grey-600);
    --colab-left-pane-icon-highlight-background: #fff0c9;
    --colab-left-pane-section-highlight: #ffd836;
    --colab-editor-focus-border-thickness: 2px;
    --colab-local-diff-background: #eef;
    --colab-remote-diff-background: #feffe0;
    --colab-merged-diff-background: #d7fed8;
    --ansi-black: rgb(0, 0, 0);
    --ansi-red: rgb(139, 0, 0);
    --ansi-green: rgb(0, 100, 0);
    --ansi-yellow: rgb(205, 205, 0);
    --ansi-blue: rgb(0, 0, 238);
    --ansi-magenta: rgb(205, 0, 205);
    --ansi-cyan: rgb(70, 130, 180);
    --ansi-gray: rgb(229, 229, 229);
    --ansi-bright-black: rgb(127, 127, 127);
    --ansi-bright-red: rgb(255, 0, 0);
    --ansi-bright-green: rgb(0, 208, 0);
    --ansi-bright-yellow: rgb(255, 255, 0);
    --ansi-bright-blue: rgb(92, 92, 255);
    --ansi-bright-magenta: rgb(255, 0, 255);
    --ansi-bright-cyan: rgb(0, 255, 255);
    --ansi-bright-gray: rgb(255, 255, 255);
    --gcp-success-icon-color: #188038;
    
    --colab-input-border-color: #a9a9a9;
    --colab-logo-dark: var(--google-orange-600);
    --colab-logo-light: var(--google-yellow-600);
    --colab-status-okay: #00c752;
    --colab-status-error: #e51c23;
    --colab-status-warning: #f09300;
    --colab-chrome-font-family: 'Roboto', 'Noto', sans-serif;
    --colab-google-sans-font-family: 'Google Sans', 'Roboto', 'Noto', sans-serif;
    --colab-chrome-font-size: 14px;
    
    --colab-icon-hover-color: var(--colab-primary-text-color);
    --colab-fresh-execution-count-color: var(--colab-primary-text-color);
    --colab-stale-execution-count-color: var(--colab-input-placeholder-color);
    
    --primary-text-color: var(--colab-primary-text-color);
    --light-theme-secondary-color: var(--colab-secondary-text-color);
    --primary-background-color: var(--colab-primary-surface-color);
    --paper-slider-active-color: var(--primary-color);
    --paper-slider-knob-color: var(--primary-color);
    --paper-tabs-selection-bar-color: #1a73e8;
    --primary-color: var(--google-blue-600);
    --google-grey-800: #3c4043;
    --google-blue-900: #174ea6;
    --hairline-button-primary: var(--primary-color);
    --hairline-button-secondary: var(--google-blue-900);
    
    --hairline-button-overlay-hovered: #4285f40a;
    
    --hairline-button-disabled-label: var(--paper-grey-500);
    
    --hairline-button-disabled-container: var(--paper-grey-100);
    --mdc-theme-primary: var(--primary-color);
}

html[theme=dark] {
  --colab-anchor-color: var(--paper-blue-300);
    --colab-callout-color: var(--paper-blue-900);
    --code-cell-background: #1e1e1e;
    --colab-border-color: var(--paper-grey-700);
    --colab-bold-border-color: #eee;
    --colab-divider-color: var(--paper-grey-700);
    --colab-debugger-line-color: var(--paper-red-900);
    --colab-editor-focus-color: #282828;
    --colab-highlighted-surface-color: #525252;
    --colab-icon-color: var(--paper-grey-100);
    --colab-input-placeholder-color: var(--paper-grey-500);
    --colab-primary-surface-color: #383838;
    --colab-primary-text-color: #d5d5d5;
    --colab-secondary-text-color: #f7f7f7;
    --colab-tertiary-text-color: var(--paper-grey-500);
    --colab-secondary-surface-color: #454545;
    --colab-scrollbar-color: rgba(255, 255, 255, 0.2);
    --colab-gutter-icon-color: var(--paper-grey-700);
    --colab-active-execution-icon-color: var(--colab-icon-color);
    --colab-error-icon-color: var(--paper-red-400);
    --colab-title-color: #fff;
    --colab-toolbar-button-color: var(--paper-grey-200);
    --colab-form-field-underline-color: var(--paper-grey-400);
    --colab-left-pane-icon-highlight-background: #63472b;
    --colab-left-pane-section-highlight: #ffd836;
    --colab-local-diff-background: #292935;
    --colab-remote-diff-background: #2e2f08;
    --colab-merged-diff-background: #09380b;
    --ansi-black: rgb(127, 127, 127);
    --ansi-red: rgb(255, 122, 136);
    --ansi-green: rgb(87, 187, 138);
    --ansi-yellow: rgb(255, 255, 102);
    --ansi-blue: rgb(130, 177, 255);
    --ansi-magenta: rgb(205, 0, 205);
    --ansi-cyan: rgb(153, 187, 215);
    --ansi-gray: rgb(229, 229, 229);
    --ansi-bright-green: rgb(0, 255, 0);
    --gcp-success-icon-color: #81c995;
    
    --error-color: var(--paper-deep-orange-a100);
    --primary-color: var(--colab-anchor-color);
    --hairline-button-primary: var(--primary-color);
    --hairline-button-secondary: var(--google-blue-300);
    
    --light-theme-secondary-color: var(--colab-input-placeholder-color);
    
    --hairline-button-overlay-hovered: #42a5f50a;
    
    --hairline-button-disabled-label: #ffffff4d;
    --hairline-button-disabled-container: #ffffff1f;
}

@media (prefers-color-scheme: dark) {
html[theme=adaptive] {
  --colab-anchor-color: var(--paper-blue-400);
      --colab-callout-color: var(--paper-blue-900);
      --code-cell-background: #1e1e1e;
      --colab-border-color: var(--paper-grey-700);
      --colab-bold-border-color: #eee;
      --colab-divider-color: var(--paper-grey-700);
      --colab-debugger-line-color: var(--paper-red-900);
      --colab-editor-focus-color: #282828;
      --colab-highlighted-surface-color: #525252;
      --colab-icon-color: var(--paper-grey-100);
      --colab-input-placeholder-color: var(--paper-grey-500);
      --colab-primary-surface-color: #383838;
      --colab-primary-text-color: #d5d5d5;
      --colab-secondary-text-color: #f7f7f7;
      --colab-tertiary-text-color: var(--paper-grey-500);
      --colab-secondary-surface-color: #454545;
      --colab-scrollbar-color: rgba(255, 255, 255, 0.2);
      --colab-gutter-icon-color: var(--paper-grey-700);
      --colab-execution-count: var(--colab-primary-text-color);
      --colab-active-execution-icon-color: var(--colab-icon-color);
      --colab-error-icon-color: var(--paper-red-400);
      --colab-title-color: #fff;
      --colab-toolbar-button-color: var(--paper-grey-200);
      --colab-form-field-underline-color: var(--paper-grey-400);
      --colab-left-pane-icon-highlight-background: #63472b;
      --colab-left-pane-section-highlight: #ffd836;
      --colab-local-diff-background: #292935;
      --colab-remote-diff-background: #2e2f08;
      --colab-merged-diff-background: #09380b;
      --ansi-black: rgb(63, 63, 63);
      --ansi-red: rgb(255, 122, 136);
      --ansi-green: rgb(87, 187, 138);
      --ansi-yellow: rgb(255, 255, 102);
      --ansi-blue: rgb(130, 177, 255);
      --ansi-magenta: rgb(205, 0, 205);
      --ansi-cyan: rgb(153, 187, 215);
      --ansi-gray: rgb(229, 229, 229);
      
      --error-color: var(--paper-deep-orange-a100);
      --primary-color: var(--colab-anchor-color);
      --hairline-button-primary: var(--primary-color);
      --hairline-button-secondary: var(--google-blue-300);
      --light-theme-secondary-color: var(--colab-input-placeholder-color);
      
      --hairline-button-overlay-hovered: #42a5f50a;
      
      --hairline-button-disabled-label: #9e9e9e80;
      --hairline-button-disabled-container: #9e9e9e80;
}

}

html[editor="high contrast dark"] {
  --code-cell-background: #000;
    --colab-editor-focus-color: #f38518;
    --colab-editor-focus-border-thickness: 1px;
}

html[editor=monokai] {
  --code-cell-background: #272822;
}

html[editor=synthwave84] {
  --colab-primary-surface-color: #241b2f;
    --colab-secondary-surface-color: #49549539;
    --code-cell-background: #262335;
    --colab-highlighted-surface-color: #372d4b;
    --colab-border-color: #34294fb3;
    --colab-anchor-color: #f97e72;
    --ansi-red: #fe4450;
    --ansi-green: #72f1b8;
    --ansi-yellow: #f97e72;
    --ansi-blue: #03edf9;
    --ansi-magenta: #ff7edb;
    --ansi-cyan: #03edf9;
    --ansi-bright-red: #fe4450;
    --ansi-bright-green: #72f1b8;
    --ansi-bright-yellow: #fede5d;
    --ansi-bright-blue: #03edf9;
    --ansi-bright-magenta: #ff7edb;
    --ansi-bright-cyan: #03edf9;
}

</style>
</custom-style><script async="async" type="text/javascript" src="./Assignment_3_files/editor.main.js.download"></script><script async="" type="text/javascript" charset="UTF-8" src="./Assignment_3_files/rs=AA2YrTufsF3Xus1eGampMWf_AzUANO_L0A" nonce=""></script><link rel="stylesheet" type="text/css" data-name="vs/editor/editor.main" href="./Assignment_3_files/editor.main.css"><link type="text/css" rel="stylesheet" href="./Assignment_3_files/rs=AA2YrTuWcGhv1CXSmi-f81ntv3PMBJ8Igw"><script async="async" type="text/javascript" src="./Assignment_3_files/editor.main.nls.js.download"></script><style type="text/css">.MathJax_Hover_Frame {border-radius: .25em; -webkit-border-radius: .25em; -moz-border-radius: .25em; -khtml-border-radius: .25em; box-shadow: 0px 0px 15px #83A; -webkit-box-shadow: 0px 0px 15px #83A; -moz-box-shadow: 0px 0px 15px #83A; -khtml-box-shadow: 0px 0px 15px #83A; border: 1px solid #A6D ! important; display: inline-block; position: absolute}
.MathJax_Menu_Button .MathJax_Hover_Arrow {position: absolute; cursor: pointer; display: inline-block; border: 2px solid #AAA; border-radius: 4px; -webkit-border-radius: 4px; -moz-border-radius: 4px; -khtml-border-radius: 4px; font-family: 'Courier New',Courier; font-size: 9px; color: #F0F0F0}
.MathJax_Menu_Button .MathJax_Hover_Arrow span {display: block; background-color: #AAA; border: 1px solid; border-radius: 3px; line-height: 0; padding: 4px}
.MathJax_Hover_Arrow:hover {color: white!important; border: 2px solid #CCC!important}
.MathJax_Hover_Arrow:hover span {background-color: #CCC!important}
</style><style type="text/css">#MathJax_About {position: fixed; left: 50%; width: auto; text-align: center; border: 3px outset; padding: 1em 2em; background-color: #DDDDDD; color: black; cursor: default; font-family: message-box; font-size: 120%; font-style: normal; text-indent: 0; text-transform: none; line-height: normal; letter-spacing: normal; word-spacing: normal; word-wrap: normal; white-space: nowrap; float: none; z-index: 201; border-radius: 15px; -webkit-border-radius: 15px; -moz-border-radius: 15px; -khtml-border-radius: 15px; box-shadow: 0px 10px 20px #808080; -webkit-box-shadow: 0px 10px 20px #808080; -moz-box-shadow: 0px 10px 20px #808080; -khtml-box-shadow: 0px 10px 20px #808080; filter: progid:DXImageTransform.Microsoft.dropshadow(OffX=2, OffY=2, Color='gray', Positive='true')}
#MathJax_About.MathJax_MousePost {outline: none}
.MathJax_Menu {position: absolute; background-color: white; color: black; width: auto; padding: 2px; border: 1px solid #CCCCCC; margin: 0; cursor: default; font: menu; text-align: left; text-indent: 0; text-transform: none; line-height: normal; letter-spacing: normal; word-spacing: normal; word-wrap: normal; white-space: nowrap; float: none; z-index: 201; box-shadow: 0px 10px 20px #808080; -webkit-box-shadow: 0px 10px 20px #808080; -moz-box-shadow: 0px 10px 20px #808080; -khtml-box-shadow: 0px 10px 20px #808080; filter: progid:DXImageTransform.Microsoft.dropshadow(OffX=2, OffY=2, Color='gray', Positive='true')}
.MathJax_MenuItem {padding: 2px 2em; background: transparent}
.MathJax_MenuArrow {position: absolute; right: .5em; padding-top: .25em; color: #666666; font-size: .75em}
.MathJax_MenuActive .MathJax_MenuArrow {color: white}
.MathJax_MenuArrow.RTL {left: .5em; right: auto}
.MathJax_MenuCheck {position: absolute; left: .7em}
.MathJax_MenuCheck.RTL {right: .7em; left: auto}
.MathJax_MenuRadioCheck {position: absolute; left: 1em}
.MathJax_MenuRadioCheck.RTL {right: 1em; left: auto}
.MathJax_MenuLabel {padding: 2px 2em 4px 1.33em; font-style: italic}
.MathJax_MenuRule {border-top: 1px solid #CCCCCC; margin: 4px 1px 0px}
.MathJax_MenuDisabled {color: GrayText}
.MathJax_MenuActive {background-color: Highlight; color: HighlightText}
.MathJax_MenuDisabled:focus, .MathJax_MenuLabel:focus {background-color: #E8E8E8}
.MathJax_ContextMenu:focus {outline: none}
.MathJax_ContextMenu .MathJax_MenuItem:focus {outline: none}
#MathJax_AboutClose {top: .2em; right: .2em}
.MathJax_Menu .MathJax_MenuClose {top: -10px; left: -10px}
.MathJax_MenuClose {position: absolute; cursor: pointer; display: inline-block; border: 2px solid #AAA; border-radius: 18px; -webkit-border-radius: 18px; -moz-border-radius: 18px; -khtml-border-radius: 18px; font-family: 'Courier New',Courier; font-size: 24px; color: #F0F0F0}
.MathJax_MenuClose span {display: block; background-color: #AAA; border: 1.5px solid; border-radius: 18px; -webkit-border-radius: 18px; -moz-border-radius: 18px; -khtml-border-radius: 18px; line-height: 0; padding: 8px 0 6px}
.MathJax_MenuClose:hover {color: white!important; border: 2px solid #CCC!important}
.MathJax_MenuClose:hover span {background-color: #CCC!important}
.MathJax_MenuClose:hover:focus {outline: none}
</style><style type="text/css">.MJX_Assistive_MathML {position: absolute!important; top: 0; left: 0; clip: rect(1px, 1px, 1px, 1px); padding: 1px 0 0 0!important; border: 0!important; height: 1px!important; width: 1px!important; overflow: hidden!important; display: block!important; -webkit-touch-callout: none; -webkit-user-select: none; -khtml-user-select: none; -moz-user-select: none; -ms-user-select: none; user-select: none}
.MJX_Assistive_MathML.MJX_Assistive_MathML_Block {width: 100%!important}
</style><style type="text/css">#MathJax_Zoom {position: absolute; background-color: #F0F0F0; overflow: auto; display: block; z-index: 301; padding: .5em; border: 1px solid black; margin: 0; font-weight: normal; font-style: normal; text-align: left; text-indent: 0; text-transform: none; line-height: normal; letter-spacing: normal; word-spacing: normal; word-wrap: normal; white-space: nowrap; float: none; -webkit-box-sizing: content-box; -moz-box-sizing: content-box; box-sizing: content-box; box-shadow: 5px 5px 15px #AAAAAA; -webkit-box-shadow: 5px 5px 15px #AAAAAA; -moz-box-shadow: 5px 5px 15px #AAAAAA; -khtml-box-shadow: 5px 5px 15px #AAAAAA; filter: progid:DXImageTransform.Microsoft.dropshadow(OffX=2, OffY=2, Color='gray', Positive='true')}
#MathJax_ZoomOverlay {position: absolute; left: 0; top: 0; z-index: 300; display: inline-block; width: 100%; height: 100%; border: 0; padding: 0; margin: 0; background-color: white; opacity: 0; filter: alpha(opacity=0)}
#MathJax_ZoomFrame {position: relative; display: inline-block; height: 0; width: 0}
#MathJax_ZoomEventTrap {position: absolute; left: 0; top: 0; z-index: 302; display: inline-block; border: 0; padding: 0; margin: 0; background-color: white; opacity: 0; filter: alpha(opacity=0)}
</style><style type="text/css">.MathJax_Preview {color: #888}
#MathJax_Message {position: fixed; left: 1em; bottom: 1.5em; background-color: #E6E6E6; border: 1px solid #959595; margin: 0px; padding: 2px 8px; z-index: 102; color: black; font-size: 80%; width: auto; white-space: nowrap}
#MathJax_MSIE_Frame {position: absolute; top: 0; left: 0; width: 0px; z-index: 101; border: 0px; margin: 0px; padding: 0px}
.MathJax_Error {color: #CC0000; font-style: italic}
</style><style type="text/css">.MJXp-script {font-size: .8em}
.MJXp-right {-webkit-transform-origin: right; -moz-transform-origin: right; -ms-transform-origin: right; -o-transform-origin: right; transform-origin: right}
.MJXp-bold {font-weight: bold}
.MJXp-italic {font-style: italic}
.MJXp-scr {font-family: MathJax_Script,'Times New Roman',Times,STIXGeneral,serif}
.MJXp-frak {font-family: MathJax_Fraktur,'Times New Roman',Times,STIXGeneral,serif}
.MJXp-sf {font-family: MathJax_SansSerif,'Times New Roman',Times,STIXGeneral,serif}
.MJXp-cal {font-family: MathJax_Caligraphic,'Times New Roman',Times,STIXGeneral,serif}
.MJXp-mono {font-family: MathJax_Typewriter,'Times New Roman',Times,STIXGeneral,serif}
.MJXp-largeop {font-size: 150%}
.MJXp-largeop.MJXp-int {vertical-align: -.2em}
.MJXp-math {display: inline-block; line-height: 1.2; text-indent: 0; font-family: 'Times New Roman',Times,STIXGeneral,serif; white-space: nowrap; border-collapse: collapse}
.MJXp-display {display: block; text-align: center; margin: 1em 0}
.MJXp-math span {display: inline-block}
.MJXp-box {display: block!important; text-align: center}
.MJXp-box:after {content: " "}
.MJXp-rule {display: block!important; margin-top: .1em}
.MJXp-char {display: block!important}
.MJXp-mo {margin: 0 .15em}
.MJXp-mfrac {margin: 0 .125em; vertical-align: .25em}
.MJXp-denom {display: inline-table!important; width: 100%}
.MJXp-denom > * {display: table-row!important}
.MJXp-surd {vertical-align: top}
.MJXp-surd > * {display: block!important}
.MJXp-script-box > *  {display: table!important; height: 50%}
.MJXp-script-box > * > * {display: table-cell!important; vertical-align: top}
.MJXp-script-box > *:last-child > * {vertical-align: bottom}
.MJXp-script-box > * > * > * {display: block!important}
.MJXp-mphantom {visibility: hidden}
.MJXp-munderover, .MJXp-munder {display: inline-table!important}
.MJXp-over {display: inline-block!important; text-align: center}
.MJXp-over > * {display: block!important}
.MJXp-munderover > *, .MJXp-munder > * {display: table-row!important}
.MJXp-mtable {vertical-align: .25em; margin: 0 .125em}
.MJXp-mtable > * {display: inline-table!important; vertical-align: middle}
.MJXp-mtr {display: table-row!important}
.MJXp-mtd {display: table-cell!important; text-align: center; padding: .5em 0 0 .5em}
.MJXp-mtr > .MJXp-mtd:first-child {padding-left: 0}
.MJXp-mtr:first-child > .MJXp-mtd {padding-top: 0}
.MJXp-mlabeledtr {display: table-row!important}
.MJXp-mlabeledtr > .MJXp-mtd:first-child {padding-left: 0}
.MJXp-mlabeledtr:first-child > .MJXp-mtd {padding-top: 0}
.MJXp-merror {background-color: #FFFF88; color: #CC0000; border: 1px solid #CC0000; padding: 1px 3px; font-style: normal; font-size: 90%}
.MJXp-scale0 {-webkit-transform: scaleX(.0); -moz-transform: scaleX(.0); -ms-transform: scaleX(.0); -o-transform: scaleX(.0); transform: scaleX(.0)}
.MJXp-scale1 {-webkit-transform: scaleX(.1); -moz-transform: scaleX(.1); -ms-transform: scaleX(.1); -o-transform: scaleX(.1); transform: scaleX(.1)}
.MJXp-scale2 {-webkit-transform: scaleX(.2); -moz-transform: scaleX(.2); -ms-transform: scaleX(.2); -o-transform: scaleX(.2); transform: scaleX(.2)}
.MJXp-scale3 {-webkit-transform: scaleX(.3); -moz-transform: scaleX(.3); -ms-transform: scaleX(.3); -o-transform: scaleX(.3); transform: scaleX(.3)}
.MJXp-scale4 {-webkit-transform: scaleX(.4); -moz-transform: scaleX(.4); -ms-transform: scaleX(.4); -o-transform: scaleX(.4); transform: scaleX(.4)}
.MJXp-scale5 {-webkit-transform: scaleX(.5); -moz-transform: scaleX(.5); -ms-transform: scaleX(.5); -o-transform: scaleX(.5); transform: scaleX(.5)}
.MJXp-scale6 {-webkit-transform: scaleX(.6); -moz-transform: scaleX(.6); -ms-transform: scaleX(.6); -o-transform: scaleX(.6); transform: scaleX(.6)}
.MJXp-scale7 {-webkit-transform: scaleX(.7); -moz-transform: scaleX(.7); -ms-transform: scaleX(.7); -o-transform: scaleX(.7); transform: scaleX(.7)}
.MJXp-scale8 {-webkit-transform: scaleX(.8); -moz-transform: scaleX(.8); -ms-transform: scaleX(.8); -o-transform: scaleX(.8); transform: scaleX(.8)}
.MJXp-scale9 {-webkit-transform: scaleX(.9); -moz-transform: scaleX(.9); -ms-transform: scaleX(.9); -o-transform: scaleX(.9); transform: scaleX(.9)}
.MathJax_PHTML .noError {vertical-align: ; font-size: 90%; text-align: left; color: black; padding: 1px 3px; border: 1px solid}
</style><style type="text/css">.MathJax_Display {text-align: center; margin: 0; position: relative; display: block!important; text-indent: 0; max-width: none; max-height: none; min-width: 0; min-height: 0; width: 100%}
.MathJax .merror {background-color: #FFFF88; color: #CC0000; border: 1px solid #CC0000; padding: 1px 3px; font-style: normal; font-size: 90%}
.MathJax .MJX-monospace {font-family: monospace}
.MathJax .MJX-sans-serif {font-family: sans-serif}
#MathJax_Tooltip {background-color: InfoBackground; color: InfoText; border: 1px solid black; box-shadow: 2px 2px 5px #AAAAAA; -webkit-box-shadow: 2px 2px 5px #AAAAAA; -moz-box-shadow: 2px 2px 5px #AAAAAA; -khtml-box-shadow: 2px 2px 5px #AAAAAA; filter: progid:DXImageTransform.Microsoft.dropshadow(OffX=2, OffY=2, Color='gray', Positive='true'); padding: 3px 4px; z-index: 401; position: absolute; left: 0; top: 0; width: auto; height: auto; display: none}
.MathJax {display: inline; font-style: normal; font-weight: normal; line-height: normal; font-size: 100%; font-size-adjust: none; text-indent: 0; text-align: left; text-transform: none; letter-spacing: normal; word-spacing: normal; word-wrap: normal; white-space: nowrap; float: none; direction: ltr; max-width: none; max-height: none; min-width: 0; min-height: 0; border: 0; padding: 0; margin: 0}
.MathJax:focus, body :focus .MathJax {display: inline-table}
.MathJax.MathJax_FullWidth {text-align: center; display: table-cell!important; width: 10000em!important}
.MathJax img, .MathJax nobr, .MathJax a {border: 0; padding: 0; margin: 0; max-width: none; max-height: none; min-width: 0; min-height: 0; vertical-align: 0; line-height: normal; text-decoration: none}
img.MathJax_strut {border: 0!important; padding: 0!important; margin: 0!important; vertical-align: 0!important}
.MathJax span {display: inline; position: static; border: 0; padding: 0; margin: 0; vertical-align: 0; line-height: normal; text-decoration: none; box-sizing: content-box}
.MathJax nobr {white-space: nowrap!important}
.MathJax img {display: inline!important; float: none!important}
.MathJax * {transition: none; -webkit-transition: none; -moz-transition: none; -ms-transition: none; -o-transition: none}
.MathJax_Processing {visibility: hidden; position: fixed; width: 0; height: 0; overflow: hidden}
.MathJax_Processed {display: none!important}
.MathJax_test {font-style: normal; font-weight: normal; font-size: 100%; font-size-adjust: none; text-indent: 0; text-transform: none; letter-spacing: normal; word-spacing: normal; overflow: hidden; height: 1px}
.MathJax_test.mjx-test-display {display: table!important}
.MathJax_test.mjx-test-inline {display: inline!important; margin-right: -1px}
.MathJax_test.mjx-test-default {display: block!important; clear: both}
.MathJax_ex_box {display: inline-block!important; position: absolute; overflow: hidden; min-height: 0; max-height: none; padding: 0; border: 0; margin: 0; width: 1px; height: 60ex}
.MathJax_em_box {display: inline-block!important; position: absolute; overflow: hidden; min-height: 0; max-height: none; padding: 0; border: 0; margin: 0; width: 1px; height: 60em}
.mjx-test-inline .MathJax_left_box {display: inline-block; width: 0; float: left}
.mjx-test-inline .MathJax_right_box {display: inline-block; width: 0; float: right}
.mjx-test-display .MathJax_right_box {display: table-cell!important; width: 10000em!important; min-width: 0; max-width: none; padding: 0; border: 0; margin: 0}
.MathJax .MathJax_HitBox {cursor: text; background: white; opacity: 0; filter: alpha(opacity=0)}
.MathJax .MathJax_HitBox * {filter: none; opacity: 1; background: transparent}
#MathJax_Tooltip * {filter: none; opacity: 1; background: transparent}
@font-face {font-family: MathJax_Main; src: url('https://colab.research.google.com/static/mathjax/fonts/HTML-CSS/TeX/woff/MathJax_Main-Regular.woff?V=2.7.5') format('woff'), url('https://colab.research.google.com/static/mathjax/fonts/HTML-CSS/TeX/otf/MathJax_Main-Regular.otf?V=2.7.5') format('opentype')}
@font-face {font-family: MathJax_Main-bold; src: url('https://colab.research.google.com/static/mathjax/fonts/HTML-CSS/TeX/woff/MathJax_Main-Bold.woff?V=2.7.5') format('woff'), url('https://colab.research.google.com/static/mathjax/fonts/HTML-CSS/TeX/otf/MathJax_Main-Bold.otf?V=2.7.5') format('opentype')}
@font-face {font-family: MathJax_Main-italic; src: url('https://colab.research.google.com/static/mathjax/fonts/HTML-CSS/TeX/woff/MathJax_Main-Italic.woff?V=2.7.5') format('woff'), url('https://colab.research.google.com/static/mathjax/fonts/HTML-CSS/TeX/otf/MathJax_Main-Italic.otf?V=2.7.5') format('opentype')}
@font-face {font-family: MathJax_Math-italic; src: url('https://colab.research.google.com/static/mathjax/fonts/HTML-CSS/TeX/woff/MathJax_Math-Italic.woff?V=2.7.5') format('woff'), url('https://colab.research.google.com/static/mathjax/fonts/HTML-CSS/TeX/otf/MathJax_Math-Italic.otf?V=2.7.5') format('opentype')}
@font-face {font-family: MathJax_Caligraphic; src: url('https://colab.research.google.com/static/mathjax/fonts/HTML-CSS/TeX/woff/MathJax_Caligraphic-Regular.woff?V=2.7.5') format('woff'), url('https://colab.research.google.com/static/mathjax/fonts/HTML-CSS/TeX/otf/MathJax_Caligraphic-Regular.otf?V=2.7.5') format('opentype')}
@font-face {font-family: MathJax_Size1; src: url('https://colab.research.google.com/static/mathjax/fonts/HTML-CSS/TeX/woff/MathJax_Size1-Regular.woff?V=2.7.5') format('woff'), url('https://colab.research.google.com/static/mathjax/fonts/HTML-CSS/TeX/otf/MathJax_Size1-Regular.otf?V=2.7.5') format('opentype')}
@font-face {font-family: MathJax_Size2; src: url('https://colab.research.google.com/static/mathjax/fonts/HTML-CSS/TeX/woff/MathJax_Size2-Regular.woff?V=2.7.5') format('woff'), url('https://colab.research.google.com/static/mathjax/fonts/HTML-CSS/TeX/otf/MathJax_Size2-Regular.otf?V=2.7.5') format('opentype')}
@font-face {font-family: MathJax_Size3; src: url('https://colab.research.google.com/static/mathjax/fonts/HTML-CSS/TeX/woff/MathJax_Size3-Regular.woff?V=2.7.5') format('woff'), url('https://colab.research.google.com/static/mathjax/fonts/HTML-CSS/TeX/otf/MathJax_Size3-Regular.otf?V=2.7.5') format('opentype')}
@font-face {font-family: MathJax_Size4; src: url('https://colab.research.google.com/static/mathjax/fonts/HTML-CSS/TeX/woff/MathJax_Size4-Regular.woff?V=2.7.5') format('woff'), url('https://colab.research.google.com/static/mathjax/fonts/HTML-CSS/TeX/otf/MathJax_Size4-Regular.otf?V=2.7.5') format('opentype')}
.MathJax .noError {vertical-align: ; font-size: 90%; text-align: left; color: black; padding: 1px 3px; border: 1px solid}
</style><script async="async" type="text/javascript" src="./Assignment_3_files/markdown.js.download"></script><script src="./Assignment_3_files/api.js.download" nonce=""></script><script src="./Assignment_3_files/api.js(1).download" nonce=""></script><style type="text/css" media="screen" class="monaco-colors">.codicon-add:before { content: '\ea60'; }
.codicon-plus:before { content: '\ea60'; }
.codicon-gist-new:before { content: '\ea60'; }
.codicon-repo-create:before { content: '\ea60'; }
.codicon-lightbulb:before { content: '\ea61'; }
.codicon-light-bulb:before { content: '\ea61'; }
.codicon-repo:before { content: '\ea62'; }
.codicon-repo-delete:before { content: '\ea62'; }
.codicon-gist-fork:before { content: '\ea63'; }
.codicon-repo-forked:before { content: '\ea63'; }
.codicon-git-pull-request:before { content: '\ea64'; }
.codicon-git-pull-request-abandoned:before { content: '\ea64'; }
.codicon-record-keys:before { content: '\ea65'; }
.codicon-keyboard:before { content: '\ea65'; }
.codicon-tag:before { content: '\ea66'; }
.codicon-tag-add:before { content: '\ea66'; }
.codicon-tag-remove:before { content: '\ea66'; }
.codicon-person:before { content: '\ea67'; }
.codicon-person-follow:before { content: '\ea67'; }
.codicon-person-outline:before { content: '\ea67'; }
.codicon-person-filled:before { content: '\ea67'; }
.codicon-git-branch:before { content: '\ea68'; }
.codicon-git-branch-create:before { content: '\ea68'; }
.codicon-git-branch-delete:before { content: '\ea68'; }
.codicon-source-control:before { content: '\ea68'; }
.codicon-mirror:before { content: '\ea69'; }
.codicon-mirror-public:before { content: '\ea69'; }
.codicon-star:before { content: '\ea6a'; }
.codicon-star-add:before { content: '\ea6a'; }
.codicon-star-delete:before { content: '\ea6a'; }
.codicon-star-empty:before { content: '\ea6a'; }
.codicon-comment:before { content: '\ea6b'; }
.codicon-comment-add:before { content: '\ea6b'; }
.codicon-alert:before { content: '\ea6c'; }
.codicon-warning:before { content: '\ea6c'; }
.codicon-search:before { content: '\ea6d'; }
.codicon-search-save:before { content: '\ea6d'; }
.codicon-log-out:before { content: '\ea6e'; }
.codicon-sign-out:before { content: '\ea6e'; }
.codicon-log-in:before { content: '\ea6f'; }
.codicon-sign-in:before { content: '\ea6f'; }
.codicon-eye:before { content: '\ea70'; }
.codicon-eye-unwatch:before { content: '\ea70'; }
.codicon-eye-watch:before { content: '\ea70'; }
.codicon-circle-filled:before { content: '\ea71'; }
.codicon-primitive-dot:before { content: '\ea71'; }
.codicon-close-dirty:before { content: '\ea71'; }
.codicon-debug-breakpoint:before { content: '\ea71'; }
.codicon-debug-breakpoint-disabled:before { content: '\ea71'; }
.codicon-debug-hint:before { content: '\ea71'; }
.codicon-primitive-square:before { content: '\ea72'; }
.codicon-edit:before { content: '\ea73'; }
.codicon-pencil:before { content: '\ea73'; }
.codicon-info:before { content: '\ea74'; }
.codicon-issue-opened:before { content: '\ea74'; }
.codicon-gist-private:before { content: '\ea75'; }
.codicon-git-fork-private:before { content: '\ea75'; }
.codicon-lock:before { content: '\ea75'; }
.codicon-mirror-private:before { content: '\ea75'; }
.codicon-close:before { content: '\ea76'; }
.codicon-remove-close:before { content: '\ea76'; }
.codicon-x:before { content: '\ea76'; }
.codicon-repo-sync:before { content: '\ea77'; }
.codicon-sync:before { content: '\ea77'; }
.codicon-clone:before { content: '\ea78'; }
.codicon-desktop-download:before { content: '\ea78'; }
.codicon-beaker:before { content: '\ea79'; }
.codicon-microscope:before { content: '\ea79'; }
.codicon-vm:before { content: '\ea7a'; }
.codicon-device-desktop:before { content: '\ea7a'; }
.codicon-file:before { content: '\ea7b'; }
.codicon-file-text:before { content: '\ea7b'; }
.codicon-more:before { content: '\ea7c'; }
.codicon-ellipsis:before { content: '\ea7c'; }
.codicon-kebab-horizontal:before { content: '\ea7c'; }
.codicon-mail-reply:before { content: '\ea7d'; }
.codicon-reply:before { content: '\ea7d'; }
.codicon-organization:before { content: '\ea7e'; }
.codicon-organization-filled:before { content: '\ea7e'; }
.codicon-organization-outline:before { content: '\ea7e'; }
.codicon-new-file:before { content: '\ea7f'; }
.codicon-file-add:before { content: '\ea7f'; }
.codicon-new-folder:before { content: '\ea80'; }
.codicon-file-directory-create:before { content: '\ea80'; }
.codicon-trash:before { content: '\ea81'; }
.codicon-trashcan:before { content: '\ea81'; }
.codicon-history:before { content: '\ea82'; }
.codicon-clock:before { content: '\ea82'; }
.codicon-folder:before { content: '\ea83'; }
.codicon-file-directory:before { content: '\ea83'; }
.codicon-symbol-folder:before { content: '\ea83'; }
.codicon-logo-github:before { content: '\ea84'; }
.codicon-mark-github:before { content: '\ea84'; }
.codicon-github:before { content: '\ea84'; }
.codicon-terminal:before { content: '\ea85'; }
.codicon-console:before { content: '\ea85'; }
.codicon-repl:before { content: '\ea85'; }
.codicon-zap:before { content: '\ea86'; }
.codicon-symbol-event:before { content: '\ea86'; }
.codicon-error:before { content: '\ea87'; }
.codicon-stop:before { content: '\ea87'; }
.codicon-variable:before { content: '\ea88'; }
.codicon-symbol-variable:before { content: '\ea88'; }
.codicon-array:before { content: '\ea8a'; }
.codicon-symbol-array:before { content: '\ea8a'; }
.codicon-symbol-module:before { content: '\ea8b'; }
.codicon-symbol-package:before { content: '\ea8b'; }
.codicon-symbol-namespace:before { content: '\ea8b'; }
.codicon-symbol-object:before { content: '\ea8b'; }
.codicon-symbol-method:before { content: '\ea8c'; }
.codicon-symbol-function:before { content: '\ea8c'; }
.codicon-symbol-constructor:before { content: '\ea8c'; }
.codicon-symbol-boolean:before { content: '\ea8f'; }
.codicon-symbol-null:before { content: '\ea8f'; }
.codicon-symbol-numeric:before { content: '\ea90'; }
.codicon-symbol-number:before { content: '\ea90'; }
.codicon-symbol-structure:before { content: '\ea91'; }
.codicon-symbol-struct:before { content: '\ea91'; }
.codicon-symbol-parameter:before { content: '\ea92'; }
.codicon-symbol-type-parameter:before { content: '\ea92'; }
.codicon-symbol-key:before { content: '\ea93'; }
.codicon-symbol-text:before { content: '\ea93'; }
.codicon-symbol-reference:before { content: '\ea94'; }
.codicon-go-to-file:before { content: '\ea94'; }
.codicon-symbol-enum:before { content: '\ea95'; }
.codicon-symbol-value:before { content: '\ea95'; }
.codicon-symbol-ruler:before { content: '\ea96'; }
.codicon-symbol-unit:before { content: '\ea96'; }
.codicon-activate-breakpoints:before { content: '\ea97'; }
.codicon-archive:before { content: '\ea98'; }
.codicon-arrow-both:before { content: '\ea99'; }
.codicon-arrow-down:before { content: '\ea9a'; }
.codicon-arrow-left:before { content: '\ea9b'; }
.codicon-arrow-right:before { content: '\ea9c'; }
.codicon-arrow-small-down:before { content: '\ea9d'; }
.codicon-arrow-small-left:before { content: '\ea9e'; }
.codicon-arrow-small-right:before { content: '\ea9f'; }
.codicon-arrow-small-up:before { content: '\eaa0'; }
.codicon-arrow-up:before { content: '\eaa1'; }
.codicon-bell:before { content: '\eaa2'; }
.codicon-bold:before { content: '\eaa3'; }
.codicon-book:before { content: '\eaa4'; }
.codicon-bookmark:before { content: '\eaa5'; }
.codicon-debug-breakpoint-conditional-unverified:before { content: '\eaa6'; }
.codicon-debug-breakpoint-conditional:before { content: '\eaa7'; }
.codicon-debug-breakpoint-conditional-disabled:before { content: '\eaa7'; }
.codicon-debug-breakpoint-data-unverified:before { content: '\eaa8'; }
.codicon-debug-breakpoint-data:before { content: '\eaa9'; }
.codicon-debug-breakpoint-data-disabled:before { content: '\eaa9'; }
.codicon-debug-breakpoint-log-unverified:before { content: '\eaaa'; }
.codicon-debug-breakpoint-log:before { content: '\eaab'; }
.codicon-debug-breakpoint-log-disabled:before { content: '\eaab'; }
.codicon-briefcase:before { content: '\eaac'; }
.codicon-broadcast:before { content: '\eaad'; }
.codicon-browser:before { content: '\eaae'; }
.codicon-bug:before { content: '\eaaf'; }
.codicon-calendar:before { content: '\eab0'; }
.codicon-case-sensitive:before { content: '\eab1'; }
.codicon-check:before { content: '\eab2'; }
.codicon-checklist:before { content: '\eab3'; }
.codicon-chevron-down:before { content: '\eab4'; }
.codicon-chevron-left:before { content: '\eab5'; }
.codicon-chevron-right:before { content: '\eab6'; }
.codicon-chevron-up:before { content: '\eab7'; }
.codicon-chrome-close:before { content: '\eab8'; }
.codicon-chrome-maximize:before { content: '\eab9'; }
.codicon-chrome-minimize:before { content: '\eaba'; }
.codicon-chrome-restore:before { content: '\eabb'; }
.codicon-circle-outline:before { content: '\eabc'; }
.codicon-debug-breakpoint-unverified:before { content: '\eabc'; }
.codicon-circle-slash:before { content: '\eabd'; }
.codicon-circuit-board:before { content: '\eabe'; }
.codicon-clear-all:before { content: '\eabf'; }
.codicon-clippy:before { content: '\eac0'; }
.codicon-close-all:before { content: '\eac1'; }
.codicon-cloud-download:before { content: '\eac2'; }
.codicon-cloud-upload:before { content: '\eac3'; }
.codicon-code:before { content: '\eac4'; }
.codicon-collapse-all:before { content: '\eac5'; }
.codicon-color-mode:before { content: '\eac6'; }
.codicon-comment-discussion:before { content: '\eac7'; }
.codicon-compare-changes:before { content: '\eafd'; }
.codicon-credit-card:before { content: '\eac9'; }
.codicon-dash:before { content: '\eacc'; }
.codicon-dashboard:before { content: '\eacd'; }
.codicon-database:before { content: '\eace'; }
.codicon-debug-continue:before { content: '\eacf'; }
.codicon-debug-disconnect:before { content: '\ead0'; }
.codicon-debug-pause:before { content: '\ead1'; }
.codicon-debug-restart:before { content: '\ead2'; }
.codicon-debug-start:before { content: '\ead3'; }
.codicon-debug-step-into:before { content: '\ead4'; }
.codicon-debug-step-out:before { content: '\ead5'; }
.codicon-debug-step-over:before { content: '\ead6'; }
.codicon-debug-stop:before { content: '\ead7'; }
.codicon-debug:before { content: '\ead8'; }
.codicon-device-camera-video:before { content: '\ead9'; }
.codicon-device-camera:before { content: '\eada'; }
.codicon-device-mobile:before { content: '\eadb'; }
.codicon-diff-added:before { content: '\eadc'; }
.codicon-diff-ignored:before { content: '\eadd'; }
.codicon-diff-modified:before { content: '\eade'; }
.codicon-diff-removed:before { content: '\eadf'; }
.codicon-diff-renamed:before { content: '\eae0'; }
.codicon-diff:before { content: '\eae1'; }
.codicon-discard:before { content: '\eae2'; }
.codicon-editor-layout:before { content: '\eae3'; }
.codicon-empty-window:before { content: '\eae4'; }
.codicon-exclude:before { content: '\eae5'; }
.codicon-extensions:before { content: '\eae6'; }
.codicon-eye-closed:before { content: '\eae7'; }
.codicon-file-binary:before { content: '\eae8'; }
.codicon-file-code:before { content: '\eae9'; }
.codicon-file-media:before { content: '\eaea'; }
.codicon-file-pdf:before { content: '\eaeb'; }
.codicon-file-submodule:before { content: '\eaec'; }
.codicon-file-symlink-directory:before { content: '\eaed'; }
.codicon-file-symlink-file:before { content: '\eaee'; }
.codicon-file-zip:before { content: '\eaef'; }
.codicon-files:before { content: '\eaf0'; }
.codicon-filter:before { content: '\eaf1'; }
.codicon-flame:before { content: '\eaf2'; }
.codicon-fold-down:before { content: '\eaf3'; }
.codicon-fold-up:before { content: '\eaf4'; }
.codicon-fold:before { content: '\eaf5'; }
.codicon-folder-active:before { content: '\eaf6'; }
.codicon-folder-opened:before { content: '\eaf7'; }
.codicon-gear:before { content: '\eaf8'; }
.codicon-gift:before { content: '\eaf9'; }
.codicon-gist-secret:before { content: '\eafa'; }
.codicon-gist:before { content: '\eafb'; }
.codicon-git-commit:before { content: '\eafc'; }
.codicon-git-compare:before { content: '\eafd'; }
.codicon-git-merge:before { content: '\eafe'; }
.codicon-github-action:before { content: '\eaff'; }
.codicon-github-alt:before { content: '\eb00'; }
.codicon-globe:before { content: '\eb01'; }
.codicon-grabber:before { content: '\eb02'; }
.codicon-graph:before { content: '\eb03'; }
.codicon-gripper:before { content: '\eb04'; }
.codicon-heart:before { content: '\eb05'; }
.codicon-home:before { content: '\eb06'; }
.codicon-horizontal-rule:before { content: '\eb07'; }
.codicon-hubot:before { content: '\eb08'; }
.codicon-inbox:before { content: '\eb09'; }
.codicon-issue-closed:before { content: '\eba4'; }
.codicon-issue-reopened:before { content: '\eb0b'; }
.codicon-issues:before { content: '\eb0c'; }
.codicon-italic:before { content: '\eb0d'; }
.codicon-jersey:before { content: '\eb0e'; }
.codicon-json:before { content: '\eb0f'; }
.codicon-kebab-vertical:before { content: '\eb10'; }
.codicon-key:before { content: '\eb11'; }
.codicon-law:before { content: '\eb12'; }
.codicon-lightbulb-autofix:before { content: '\eb13'; }
.codicon-link-external:before { content: '\eb14'; }
.codicon-link:before { content: '\eb15'; }
.codicon-list-ordered:before { content: '\eb16'; }
.codicon-list-unordered:before { content: '\eb17'; }
.codicon-live-share:before { content: '\eb18'; }
.codicon-loading:before { content: '\eb19'; }
.codicon-location:before { content: '\eb1a'; }
.codicon-mail-read:before { content: '\eb1b'; }
.codicon-mail:before { content: '\eb1c'; }
.codicon-markdown:before { content: '\eb1d'; }
.codicon-megaphone:before { content: '\eb1e'; }
.codicon-mention:before { content: '\eb1f'; }
.codicon-milestone:before { content: '\eb20'; }
.codicon-mortar-board:before { content: '\eb21'; }
.codicon-move:before { content: '\eb22'; }
.codicon-multiple-windows:before { content: '\eb23'; }
.codicon-mute:before { content: '\eb24'; }
.codicon-no-newline:before { content: '\eb25'; }
.codicon-note:before { content: '\eb26'; }
.codicon-octoface:before { content: '\eb27'; }
.codicon-open-preview:before { content: '\eb28'; }
.codicon-package:before { content: '\eb29'; }
.codicon-paintcan:before { content: '\eb2a'; }
.codicon-pin:before { content: '\eb2b'; }
.codicon-play:before { content: '\eb2c'; }
.codicon-run:before { content: '\eb2c'; }
.codicon-plug:before { content: '\eb2d'; }
.codicon-preserve-case:before { content: '\eb2e'; }
.codicon-preview:before { content: '\eb2f'; }
.codicon-project:before { content: '\eb30'; }
.codicon-pulse:before { content: '\eb31'; }
.codicon-question:before { content: '\eb32'; }
.codicon-quote:before { content: '\eb33'; }
.codicon-radio-tower:before { content: '\eb34'; }
.codicon-reactions:before { content: '\eb35'; }
.codicon-references:before { content: '\eb36'; }
.codicon-refresh:before { content: '\eb37'; }
.codicon-regex:before { content: '\eb38'; }
.codicon-remote-explorer:before { content: '\eb39'; }
.codicon-remote:before { content: '\eb3a'; }
.codicon-remove:before { content: '\eb3b'; }
.codicon-replace-all:before { content: '\eb3c'; }
.codicon-replace:before { content: '\eb3d'; }
.codicon-repo-clone:before { content: '\eb3e'; }
.codicon-repo-force-push:before { content: '\eb3f'; }
.codicon-repo-pull:before { content: '\eb40'; }
.codicon-repo-push:before { content: '\eb41'; }
.codicon-report:before { content: '\eb42'; }
.codicon-request-changes:before { content: '\eb43'; }
.codicon-rocket:before { content: '\eb44'; }
.codicon-root-folder-opened:before { content: '\eb45'; }
.codicon-root-folder:before { content: '\eb46'; }
.codicon-rss:before { content: '\eb47'; }
.codicon-ruby:before { content: '\eb48'; }
.codicon-save-all:before { content: '\eb49'; }
.codicon-save-as:before { content: '\eb4a'; }
.codicon-save:before { content: '\eb4b'; }
.codicon-screen-full:before { content: '\eb4c'; }
.codicon-screen-normal:before { content: '\eb4d'; }
.codicon-search-stop:before { content: '\eb4e'; }
.codicon-server:before { content: '\eb50'; }
.codicon-settings-gear:before { content: '\eb51'; }
.codicon-settings:before { content: '\eb52'; }
.codicon-shield:before { content: '\eb53'; }
.codicon-smiley:before { content: '\eb54'; }
.codicon-sort-precedence:before { content: '\eb55'; }
.codicon-split-horizontal:before { content: '\eb56'; }
.codicon-split-vertical:before { content: '\eb57'; }
.codicon-squirrel:before { content: '\eb58'; }
.codicon-star-full:before { content: '\eb59'; }
.codicon-star-half:before { content: '\eb5a'; }
.codicon-symbol-class:before { content: '\eb5b'; }
.codicon-symbol-color:before { content: '\eb5c'; }
.codicon-symbol-constant:before { content: '\eb5d'; }
.codicon-symbol-enum-member:before { content: '\eb5e'; }
.codicon-symbol-field:before { content: '\eb5f'; }
.codicon-symbol-file:before { content: '\eb60'; }
.codicon-symbol-interface:before { content: '\eb61'; }
.codicon-symbol-keyword:before { content: '\eb62'; }
.codicon-symbol-misc:before { content: '\eb63'; }
.codicon-symbol-operator:before { content: '\eb64'; }
.codicon-symbol-property:before { content: '\eb65'; }
.codicon-wrench:before { content: '\eb65'; }
.codicon-wrench-subaction:before { content: '\eb65'; }
.codicon-symbol-snippet:before { content: '\eb66'; }
.codicon-tasklist:before { content: '\eb67'; }
.codicon-telescope:before { content: '\eb68'; }
.codicon-text-size:before { content: '\eb69'; }
.codicon-three-bars:before { content: '\eb6a'; }
.codicon-thumbsdown:before { content: '\eb6b'; }
.codicon-thumbsup:before { content: '\eb6c'; }
.codicon-tools:before { content: '\eb6d'; }
.codicon-triangle-down:before { content: '\eb6e'; }
.codicon-triangle-left:before { content: '\eb6f'; }
.codicon-triangle-right:before { content: '\eb70'; }
.codicon-triangle-up:before { content: '\eb71'; }
.codicon-twitter:before { content: '\eb72'; }
.codicon-unfold:before { content: '\eb73'; }
.codicon-unlock:before { content: '\eb74'; }
.codicon-unmute:before { content: '\eb75'; }
.codicon-unverified:before { content: '\eb76'; }
.codicon-verified:before { content: '\eb77'; }
.codicon-versions:before { content: '\eb78'; }
.codicon-vm-active:before { content: '\eb79'; }
.codicon-vm-outline:before { content: '\eb7a'; }
.codicon-vm-running:before { content: '\eb7b'; }
.codicon-watch:before { content: '\eb7c'; }
.codicon-whitespace:before { content: '\eb7d'; }
.codicon-whole-word:before { content: '\eb7e'; }
.codicon-window:before { content: '\eb7f'; }
.codicon-word-wrap:before { content: '\eb80'; }
.codicon-zoom-in:before { content: '\eb81'; }
.codicon-zoom-out:before { content: '\eb82'; }
.codicon-list-filter:before { content: '\eb83'; }
.codicon-list-flat:before { content: '\eb84'; }
.codicon-list-selection:before { content: '\eb85'; }
.codicon-selection:before { content: '\eb85'; }
.codicon-list-tree:before { content: '\eb86'; }
.codicon-debug-breakpoint-function-unverified:before { content: '\eb87'; }
.codicon-debug-breakpoint-function:before { content: '\eb88'; }
.codicon-debug-breakpoint-function-disabled:before { content: '\eb88'; }
.codicon-debug-stackframe-active:before { content: '\eb89'; }
.codicon-debug-stackframe-dot:before { content: '\eb8a'; }
.codicon-debug-stackframe:before { content: '\eb8b'; }
.codicon-debug-stackframe-focused:before { content: '\eb8b'; }
.codicon-debug-breakpoint-unsupported:before { content: '\eb8c'; }
.codicon-symbol-string:before { content: '\eb8d'; }
.codicon-debug-reverse-continue:before { content: '\eb8e'; }
.codicon-debug-step-back:before { content: '\eb8f'; }
.codicon-debug-restart-frame:before { content: '\eb90'; }
.codicon-call-incoming:before { content: '\eb92'; }
.codicon-call-outgoing:before { content: '\eb93'; }
.codicon-menu:before { content: '\eb94'; }
.codicon-expand-all:before { content: '\eb95'; }
.codicon-feedback:before { content: '\eb96'; }
.codicon-group-by-ref-type:before { content: '\eb97'; }
.codicon-ungroup-by-ref-type:before { content: '\eb98'; }
.codicon-account:before { content: '\eb99'; }
.codicon-bell-dot:before { content: '\eb9a'; }
.codicon-debug-console:before { content: '\eb9b'; }
.codicon-library:before { content: '\eb9c'; }
.codicon-output:before { content: '\eb9d'; }
.codicon-run-all:before { content: '\eb9e'; }
.codicon-sync-ignored:before { content: '\eb9f'; }
.codicon-pinned:before { content: '\eba0'; }
.codicon-github-inverted:before { content: '\eba1'; }
.codicon-debug-alt:before { content: '\eb91'; }
.codicon-server-process:before { content: '\eba2'; }
.codicon-server-environment:before { content: '\eba3'; }
.codicon-pass:before { content: '\eba4'; }
.codicon-stop-circle:before { content: '\eba5'; }
.codicon-play-circle:before { content: '\eba6'; }
.codicon-record:before { content: '\eba7'; }
.codicon-debug-alt-small:before { content: '\eba8'; }
.codicon-vm-connect:before { content: '\eba9'; }
.codicon-cloud:before { content: '\ebaa'; }
.codicon-merge:before { content: '\ebab'; }
.codicon-export:before { content: '\ebac'; }
.codicon-graph-left:before { content: '\ebad'; }
.codicon-magnet:before { content: '\ebae'; }
.codicon-notebook:before { content: '\ebaf'; }
.codicon-redo:before { content: '\ebb0'; }
.codicon-check-all:before { content: '\ebb1'; }
.codicon-pinned-dirty:before { content: '\ebb2'; }
.codicon-pass-filled:before { content: '\ebb3'; }
.codicon-circle-large-filled:before { content: '\ebb4'; }
.codicon-circle-large-outline:before { content: '\ebb5'; }
.codicon-combine:before { content: '\ebb6'; }
.codicon-gather:before { content: '\ebb6'; }
.codicon-table:before { content: '\ebb7'; }
.codicon-variable-group:before { content: '\ebb8'; }
.codicon-type-hierarchy:before { content: '\ebb9'; }
.codicon-type-hierarchy-sub:before { content: '\ebba'; }
.codicon-type-hierarchy-super:before { content: '\ebbb'; }
.codicon-git-pull-request-create:before { content: '\ebbc'; }
.codicon-run-above:before { content: '\ebbd'; }
.codicon-run-below:before { content: '\ebbe'; }
.codicon-notebook-template:before { content: '\ebbf'; }
.codicon-debug-rerun:before { content: '\ebc0'; }
.codicon-workspace-trusted:before { content: '\ebc1'; }
.codicon-workspace-untrusted:before { content: '\ebc2'; }
.codicon-workspace-unspecified:before { content: '\ebc3'; }
.codicon-terminal-cmd:before { content: '\ebc4'; }
.codicon-terminal-debian:before { content: '\ebc5'; }
.codicon-terminal-linux:before { content: '\ebc6'; }
.codicon-terminal-powershell:before { content: '\ebc7'; }
.codicon-terminal-tmux:before { content: '\ebc8'; }
.codicon-terminal-ubuntu:before { content: '\ebc9'; }
.codicon-terminal-bash:before { content: '\ebca'; }
.codicon-arrow-swap:before { content: '\ebcb'; }
.codicon-copy:before { content: '\ebcc'; }
.codicon-person-add:before { content: '\ebcd'; }
.codicon-filter-filled:before { content: '\ebce'; }
.codicon-wand:before { content: '\ebcf'; }
.codicon-debug-line-by-line:before { content: '\ebd0'; }
.codicon-inspect:before { content: '\ebd1'; }
.codicon-layers:before { content: '\ebd2'; }
.codicon-layers-dot:before { content: '\ebd3'; }
.codicon-layers-active:before { content: '\ebd4'; }
.codicon-compass:before { content: '\ebd5'; }
.codicon-compass-dot:before { content: '\ebd6'; }
.codicon-compass-active:before { content: '\ebd7'; }
.codicon-azure:before { content: '\ebd8'; }
.codicon-issue-draft:before { content: '\ebd9'; }
.codicon-git-pull-request-closed:before { content: '\ebda'; }
.codicon-git-pull-request-draft:before { content: '\ebdb'; }
.codicon-debug-all:before { content: '\ebdc'; }
.codicon-debug-coverage:before { content: '\ebdd'; }
.codicon-drop-down-button:before { content: '\eab4'; }
.codicon-tree-item-expanded:before { content: '\eab4'; }
.codicon-tree-filter-on-type-on:before { content: '\eb83'; }
.codicon-tree-filter-on-type-off:before { content: '\eb85'; }
.codicon-tree-filter-clear:before { content: '\ea76'; }
.codicon-tree-item-loading:before { content: '\eb19'; }
.codicon-scrollbar-button-left:before { content: '\eb6f'; }
.codicon-scrollbar-button-right:before { content: '\eb70'; }
.codicon-scrollbar-button-up:before { content: '\eb71'; }
.codicon-scrollbar-button-down:before { content: '\eb6e'; }
.codicon-menu-selection:before { content: '\eab2'; }
.codicon-menu-submenu:before { content: '\eab6'; }
.codicon-quick-input-back:before { content: '\ea9b'; }
.codicon-widget-close:before { content: '\ea76'; }
.codicon-diff-review-insert:before { content: '\ea60'; }
.codicon-diff-review-remove:before { content: '\eb3b'; }
.codicon-diff-review-close:before { content: '\ea76'; }
.codicon-diff-insert:before { content: '\ea60'; }
.codicon-diff-remove:before { content: '\eb3b'; }
.codicon-find-selection:before { content: '\eb85'; }
.codicon-find-collapsed:before { content: '\eab6'; }
.codicon-find-expanded:before { content: '\eab4'; }
.codicon-find-replace:before { content: '\eb3d'; }
.codicon-find-replace-all:before { content: '\eb3c'; }
.codicon-find-previous-match:before { content: '\eaa1'; }
.codicon-find-next-match:before { content: '\ea9a'; }
.codicon-folding-expanded:before { content: '\eab4'; }
.codicon-folding-collapsed:before { content: '\eab6'; }
.codicon-marker-navigation-next:before { content: '\eab4'; }
.codicon-marker-navigation-previous:before { content: '\eab7'; }
.codicon-parameter-hints-next:before { content: '\eab4'; }
.codicon-parameter-hints-previous:before { content: '\eab7'; }
.codicon-suggest-more-info:before { content: '\eab6'; }
.monaco-editor .minimap-slider .minimap-slider-horizontal { background: rgba(100, 100, 100, 0.2); }
.monaco-editor .minimap-slider:hover .minimap-slider-horizontal { background: rgba(100, 100, 100, 0.35); }
.monaco-editor .minimap-slider.active .minimap-slider-horizontal { background: rgba(0, 0, 0, 0.3); }
.monaco-editor .minimap-shadow-visible { box-shadow: #dddddd -6px 0 6px -6px inset; }
.monaco-editor .scroll-decoration { box-shadow: #dddddd 0 6px 6px -6px inset; }
.monaco-editor .focused .selected-text { background-color: #add6ff; }
.monaco-editor .selected-text { background-color: #e5ebf1; }
.monaco-editor, .monaco-editor-background, .monaco-editor .inputarea.ime-input { background-color: #f7f7f7; }
.monaco-editor, .monaco-editor .inputarea.ime-input { color: #000000; }
.monaco-editor .margin { background-color: #f7f7f7; }
.monaco-editor .rangeHighlight { background-color: rgba(253, 255, 0, 0.2); }
.monaco-editor .symbolHighlight { background-color: rgba(234, 92, 0, 0.33); }
.monaco-editor .mtkw { color: rgba(51, 51, 51, 0.2) !important; }
.monaco-editor .mtkz { color: rgba(51, 51, 51, 0.2) !important; }
.monaco-editor .view-overlays .current-line { border: 2px solid #eeeeee; }
.monaco-editor .margin-view-overlays .current-line-margin { border: 2px solid #eeeeee; }
.monaco-editor .lines-content .cigr { box-shadow: 1px 0 0 0 #d3d3d3 inset; }
.monaco-editor .lines-content .cigra { box-shadow: 1px 0 0 0 #939393 inset; }
.monaco-editor .line-numbers { color: #999999; }
.monaco-editor .line-numbers.active-line-number { color: #0b216f; }
.monaco-editor .view-ruler { box-shadow: 1px 0 0 0 #d3d3d3 inset; }
.monaco-editor .cursors-layer .cursor { background-color: #000000; border-color: #000000; color: #ffffff; }
.monaco-editor .ghost-text-decoration { opacity: 0.467; color: #000000; }
.monaco-editor .suggest-preview-text .ghost-text { opacity: 0.467; color: #000000; }
.monaco-editor.vs .valueSetReplacement { outline: solid 2px #b9b9b9; }

		.monaco-editor .contentWidgets .codicon.codicon-light-bulb {
			color: #ddb100;
			background-color: rgba(247, 247, 247, 0.7);
		}

		.monaco-editor .contentWidgets .codicon.codicon-lightbulb-autofix {
			color: #007acc;
			background-color: rgba(247, 247, 247, 0.7);
		}
.monaco-editor .codelens-decoration { color: #919191; }
.monaco-editor .codelens-decoration .codicon { color: #919191; }
.monaco-editor .codelens-decoration > a:hover { color: #0000ff !important; }
.monaco-editor .codelens-decoration > a:hover .codicon { color: #0000ff !important; }
.monaco-editor .findOptionsWidget { background-color: #f3f3f3; }
.monaco-editor .findOptionsWidget { color: #616161; }
.monaco-editor .findOptionsWidget { box-shadow: 0 0 8px 2px rgba(0, 0, 0, 0.16); }
.codicon.codicon-symbol-array { color: #616161; }
.codicon.codicon-symbol-boolean { color: #616161; }
.codicon.codicon-symbol-class { color: #d67e00; }
.codicon.codicon-symbol-method { color: #652d90; }
.codicon.codicon-symbol-color { color: #616161; }
.codicon.codicon-symbol-constant { color: #616161; }
.codicon.codicon-symbol-constructor { color: #652d90; }

			.codicon.codicon-symbol-value,.codicon.codicon-symbol-enum { color: #d67e00; }
.codicon.codicon-symbol-enum-member { color: #007acc; }
.codicon.codicon-symbol-event { color: #d67e00; }
.codicon.codicon-symbol-field { color: #007acc; }
.codicon.codicon-symbol-file { color: #616161; }
.codicon.codicon-symbol-folder { color: #616161; }
.codicon.codicon-symbol-function { color: #652d90; }
.codicon.codicon-symbol-interface { color: #007acc; }
.codicon.codicon-symbol-key { color: #616161; }
.codicon.codicon-symbol-keyword { color: #616161; }
.codicon.codicon-symbol-module { color: #616161; }
.codicon.codicon-symbol-namespace { color: #616161; }
.codicon.codicon-symbol-null { color: #616161; }
.codicon.codicon-symbol-number { color: #616161; }
.codicon.codicon-symbol-object { color: #616161; }
.codicon.codicon-symbol-operator { color: #616161; }
.codicon.codicon-symbol-package { color: #616161; }
.codicon.codicon-symbol-property { color: #616161; }
.codicon.codicon-symbol-reference { color: #616161; }
.codicon.codicon-symbol-snippet { color: #616161; }
.codicon.codicon-symbol-string { color: #616161; }
.codicon.codicon-symbol-struct { color: #616161; }
.codicon.codicon-symbol-text { color: #616161; }
.codicon.codicon-symbol-type-parameter { color: #616161; }
.codicon.codicon-symbol-unit { color: #616161; }
.codicon.codicon-symbol-variable { color: #007acc; }
.monaco-editor .squiggly-error { background: url("data:image/svg+xml,%3Csvg%20xmlns%3D'http%3A%2F%2Fwww.w3.org%2F2000%2Fsvg'%20viewBox%3D'0%200%206%203'%20enable-background%3D'new%200%200%206%203'%20height%3D'3'%20width%3D'6'%3E%3Cg%20fill%3D'%23e51400'%3E%3Cpolygon%20points%3D'5.5%2C0%202.5%2C3%201.1%2C3%204.1%2C0'%2F%3E%3Cpolygon%20points%3D'4%2C0%206%2C2%206%2C0.6%205.4%2C0'%2F%3E%3Cpolygon%20points%3D'0%2C2%201%2C3%202.4%2C3%200%2C0.6'%2F%3E%3C%2Fg%3E%3C%2Fsvg%3E") repeat-x bottom left; }
.monaco-editor .squiggly-warning { background: url("data:image/svg+xml,%3Csvg%20xmlns%3D'http%3A%2F%2Fwww.w3.org%2F2000%2Fsvg'%20viewBox%3D'0%200%206%203'%20enable-background%3D'new%200%200%206%203'%20height%3D'3'%20width%3D'6'%3E%3Cg%20fill%3D'%23bf8803'%3E%3Cpolygon%20points%3D'5.5%2C0%202.5%2C3%201.1%2C3%204.1%2C0'%2F%3E%3Cpolygon%20points%3D'4%2C0%206%2C2%206%2C0.6%205.4%2C0'%2F%3E%3Cpolygon%20points%3D'0%2C2%201%2C3%202.4%2C3%200%2C0.6'%2F%3E%3C%2Fg%3E%3C%2Fsvg%3E") repeat-x bottom left; }
.monaco-editor .squiggly-info { background: url("data:image/svg+xml,%3Csvg%20xmlns%3D'http%3A%2F%2Fwww.w3.org%2F2000%2Fsvg'%20viewBox%3D'0%200%206%203'%20enable-background%3D'new%200%200%206%203'%20height%3D'3'%20width%3D'6'%3E%3Cg%20fill%3D'%2375beff'%3E%3Cpolygon%20points%3D'5.5%2C0%202.5%2C3%201.1%2C3%204.1%2C0'%2F%3E%3Cpolygon%20points%3D'4%2C0%206%2C2%206%2C0.6%205.4%2C0'%2F%3E%3Cpolygon%20points%3D'0%2C2%201%2C3%202.4%2C3%200%2C0.6'%2F%3E%3C%2Fg%3E%3C%2Fsvg%3E") repeat-x bottom left; }
.monaco-editor .squiggly-hint { background: url("data:image/svg+xml,%3Csvg%20xmlns%3D%22http%3A%2F%2Fwww.w3.org%2F2000%2Fsvg%22%20height%3D%223%22%20width%3D%2212%22%3E%3Cg%20fill%3D%22%236c6c6c%22%3E%3Ccircle%20cx%3D%221%22%20cy%3D%221%22%20r%3D%221%22%2F%3E%3Ccircle%20cx%3D%225%22%20cy%3D%221%22%20r%3D%221%22%2F%3E%3Ccircle%20cx%3D%229%22%20cy%3D%221%22%20r%3D%221%22%2F%3E%3C%2Fg%3E%3C%2Fsvg%3E") no-repeat bottom left; }
.monaco-editor.showUnused .squiggly-inline-unnecessary { opacity: 0.467; }
.monaco-editor.showDeprecated .squiggly-inline-deprecated { text-decoration: line-through; text-decoration-color: #000000}
.monaco-editor .bracket-match { background-color: rgba(0, 100, 0, 0.1); }
.monaco-editor .bracket-match { border: 1px solid #b9b9b9; }
.monaco-editor .linked-editing-decoration { background: rgba(255, 0, 0, 0.3); border-left-color: rgba(255, 0, 0, 0.3); }
.monaco-editor .detected-link-active { color: #0000ff !important; }
.monaco-editor .monaco-editor-overlaymessage .anchor.below { border-top-color: #007acc; }
.monaco-editor .monaco-editor-overlaymessage .anchor.top { border-bottom-color: #007acc; }
.monaco-editor .monaco-editor-overlaymessage .message { border: 1px solid #007acc; }
.monaco-editor .monaco-editor-overlaymessage .message { background-color: #d6ecf2; }
.monaco-editor .focused .selectionHighlight { background-color: rgba(173, 214, 255, 0.3); }
.monaco-editor .selectionHighlight { background-color: rgba(173, 214, 255, 0.15); }
.monaco-editor .wordHighlight { background-color: rgba(87, 87, 87, 0.25); }
.monaco-editor .wordHighlightStrong { background-color: rgba(14, 99, 156, 0.25); }
.monaco-editor .accessibilityHelpWidget { background-color: #f3f3f3; }
.monaco-editor .accessibilityHelpWidget { color: #616161; }
.monaco-editor .accessibilityHelpWidget { box-shadow: 0 2px 8px rgba(0, 0, 0, 0.16); }
.monaco-editor .tokens-inspect-widget { border: 1px solid #c8c8c8; }
.monaco-editor .tokens-inspect-widget .tokens-inspect-separator { background-color: #c8c8c8; }
.monaco-editor .tokens-inspect-widget { background-color: #f3f3f3; }
.monaco-editor .tokens-inspect-widget { color: #616161; }

			.monaco-editor .zone-widget .codicon.codicon-error,
			.markers-panel .marker-icon.codicon.codicon-error,
			.text-search-provider-messages .providerMessage .codicon.codicon-error,
			.extensions-viewlet > .extensions .codicon.codicon-error {
				color: #e51400;
			}
		

			.monaco-editor .zone-widget .codicon.codicon-warning,
			.markers-panel .marker-icon.codicon.codicon-warning,
			.extensions-viewlet > .extensions .codicon.codicon-warning,
			.extension-editor .codicon.codicon-warning,
			.text-search-provider-messages .providerMessage .codicon.codicon-warning,
			.preferences-editor .codicon.codicon-warning {
				color: #bf8803;
			}
		

			.monaco-editor .zone-widget .codicon.codicon-info,
			.markers-panel .marker-icon.codicon.codicon-info,
			.extensions-viewlet > .extensions .codicon.codicon-info,
			.text-search-provider-messages .providerMessage .codicon.codicon-info,
			.extension-editor .codicon.codicon-info {
				color: #75beff;
			}
		
.monaco-editor .marker-widget a.code-link span { color: #006ab1; }
.monaco-editor .marker-widget a.code-link span:hover { color: #006ab1; }
.monaco-editor .reference-zone-widget .ref-tree .referenceMatch .highlight { background-color: rgba(234, 92, 0, 0.3); }
.monaco-editor .reference-zone-widget .preview .reference-decoration { background-color: rgba(245, 216, 2, 0.87); }
.monaco-editor .reference-zone-widget .ref-tree { background-color: #f3f3f3; }
.monaco-editor .reference-zone-widget .ref-tree { color: #646465; }
.monaco-editor .reference-zone-widget .ref-tree .reference-file { color: #1e1e1e; }
.monaco-editor .reference-zone-widget .ref-tree .monaco-list:focus .monaco-list-rows > .monaco-list-row.selected:not(.highlighted) { background-color: rgba(51, 153, 255, 0.2); }
.monaco-editor .reference-zone-widget .ref-tree .monaco-list:focus .monaco-list-rows > .monaco-list-row.selected:not(.highlighted) { color: #6c6c6c !important; }
.monaco-editor .reference-zone-widget .preview .monaco-editor .monaco-editor-background,.monaco-editor .reference-zone-widget .preview .monaco-editor .inputarea.ime-input {	background-color: #f2f8fc;}
.monaco-editor .reference-zone-widget .preview .monaco-editor .margin {	background-color: #f2f8fc;}
.monaco-editor .goto-definition-link { color: #0000ff !important; }
.monaco-editor .snippet-placeholder { background-color: rgba(10, 50, 100, 0.2); outline-color: transparent; }
.monaco-editor .finish-snippet-placeholder { background-color: transparent; outline-color: rgba(10, 50, 100, 0.5); }
.monaco-diff-editor .diff-review-line-number { color: #999999; }
.monaco-diff-editor .diff-review-shadow { box-shadow: #dddddd 0 -6px 6px -6px inset; }
.monaco-editor .line-insert, .monaco-editor .char-insert { background-color: rgba(155, 185, 85, 0.2); }
.monaco-diff-editor .line-insert, .monaco-diff-editor .char-insert { background-color: rgba(155, 185, 85, 0.2); }
.monaco-editor .inline-added-margin-view-zone { background-color: rgba(155, 185, 85, 0.2); }
.monaco-editor .line-delete, .monaco-editor .char-delete { background-color: rgba(255, 0, 0, 0.2); }
.monaco-diff-editor .line-delete, .monaco-diff-editor .char-delete { background-color: rgba(255, 0, 0, 0.2); }
.monaco-editor .inline-deleted-margin-view-zone { background-color: rgba(255, 0, 0, 0.2); }
.monaco-diff-editor.side-by-side .editor.modified { box-shadow: -6px 0 5px -5px #dddddd; }

			.monaco-diff-editor .diffViewport {
				background: rgba(100, 100, 100, 0.4);
			}
		

			.monaco-diff-editor .diffViewport:hover {
				background: rgba(100, 100, 100, 0.7);
			}
		

			.monaco-diff-editor .diffViewport:active {
				background: rgba(0, 0, 0, 0.6);
			}
		

	.monaco-editor .diagonal-fill {
		background-image: linear-gradient(
			-45deg,
			rgba(34, 34, 34, 0.2) 12.5%,
			#0000 12.5%, #0000 50%,
			rgba(34, 34, 34, 0.2) 50%, rgba(34, 34, 34, 0.2) 62.5%,
			#0000 62.5%, #0000 100%
		);
		background-size: 8px 8px;
	}
	
.monaco-editor .findMatch { background-color: rgba(234, 92, 0, 0.33); }
.monaco-editor .currentFindMatch { background-color: #a8ac94; }
.monaco-editor .findScope { background-color: rgba(180, 180, 180, 0.3); }
.monaco-editor .find-widget { background-color: #f3f3f3; }
.monaco-editor .find-widget { box-shadow: 0 0 8px 2px rgba(0, 0, 0, 0.16); }
.monaco-editor .find-widget { color: #616161; }
.monaco-editor .find-widget.no-results .matchesCount { color: #a1260d; }
.monaco-editor .find-widget .monaco-sash { background-color: #c8c8c8; }
.monaco-editor .find-widget .monaco-inputbox.synthetic-focus { outline-color: #0090f1; }
.monaco-editor .folded-background { background-color: rgba(173, 214, 255, 0.3); }

		.monaco-editor .cldr.codicon.codicon-folding-expanded,
		.monaco-editor .cldr.codicon.codicon-folding-collapsed {
			color: #424242 !important;
		}
		
.monaco-hover .hover-contents a.code-link span { color: #006ab1; }
.monaco-hover .hover-contents a.code-link span:hover { color: #006ab1; }
.monaco-editor .parameter-hints-widget { border: 1px solid #c8c8c8; }
.monaco-editor .parameter-hints-widget.multiple .body { border-left: 1px solid rgba(200, 200, 200, 0.5); }
.monaco-editor .parameter-hints-widget .signature.has-docs { border-bottom: 1px solid rgba(200, 200, 200, 0.5); }
.monaco-editor .parameter-hints-widget { background-color: #f3f3f3; }
.monaco-editor .parameter-hints-widget a { color: #006ab1; }
.monaco-editor .parameter-hints-widget { color: #616161; }
.monaco-editor .parameter-hints-widget code { background-color: rgba(220, 220, 220, 0.4); }
.monaco-editor .suggest-widget .monaco-list .monaco-list-row .monaco-highlighted-label .highlight { color: #0066bf; }
.monaco-editor .suggest-widget .monaco-list .monaco-list-row.focused .monaco-highlighted-label .highlight { color: #0066bf; }
.monaco-editor .suggest-widget, .monaco-editor .suggest-details { color: #000000; }
.monaco-editor .suggest-widget .monaco-list .monaco-list-row.focused { color: #000000; }
.monaco-editor .suggest-details a { color: #006ab1; }
.monaco-editor .suggest-details code { background-color: rgba(220, 220, 220, 0.4); }
.monaco-editor .hoverHighlight { background-color: rgba(173, 214, 255, 0.15); }
.monaco-editor .monaco-hover { background-color: #f3f3f3; }
.monaco-editor .monaco-hover { border: 1px solid #c8c8c8; }
.monaco-editor .monaco-hover .hover-row:not(:first-child):not(:empty) { border-top: 1px solid rgba(200, 200, 200, 0.5); }
.monaco-editor .monaco-hover hr { border-top: 1px solid rgba(200, 200, 200, 0.5); }
.monaco-editor .monaco-hover hr { border-bottom: 0px solid rgba(200, 200, 200, 0.5); }
.monaco-editor .monaco-hover a { color: #006ab1; }
.monaco-editor .monaco-hover a:hover { color: #006ab1; }
.monaco-editor .monaco-hover { color: #616161; }
.monaco-editor .monaco-hover .hover-row .actions { background-color: #e7e7e7; }
.monaco-editor .monaco-hover code { background-color: rgba(220, 220, 220, 0.4); }

.mtk1 { color: #000000; }
.mtk2 { color: #fffffe; }
.mtk3 { color: #808080; }
.mtk4 { color: #ff0000; }
.mtk5 { color: #0451a5; }
.mtk6 { color: #0000ff; }
.mtk7 { color: #098658; }
.mtk8 { color: #008000; }
.mtk9 { color: #dd0000; }
.mtk10 { color: #811f3f; }
.mtk11 { color: #09885a; }
.mtk12 { color: #383838; }
.mtk13 { color: #267f99; }
.mtk14 { color: #795e26; }
.mtk15 { color: #001080; }
.mtk16 { color: #cd3131; }
.mtk17 { color: #863b00; }
.mtk18 { color: #af00db; }
.mtk19 { color: #d16969; }
.mtk20 { color: #800000; }
.mtk21 { color: #e00000; }
.mtk22 { color: #3030c0; }
.mtk23 { color: #666666; }
.mtk24 { color: #778899; }
.mtk25 { color: #c700c7; }
.mtk26 { color: #a31515; }
.mtk27 { color: #4f76ac; }
.mtk28 { color: #008080; }
.mtk29 { color: #001188; }
.mtk30 { color: #4864aa; }
.mtki { font-style: italic; }
.mtkb { font-weight: bold; }
.mtku { text-decoration: underline; text-underline-position: under; }</style><style type="text/css" media="screen">
		.monaco-editor .codelens-decoration._1cd5cd2d { line-height: 19px; font-size: 12px; padding-right: 6px; font-feature-settings: var(--codelens-font-features_1cd5cd2d) }
		.monaco-editor .codelens-decoration._1cd5cd2d span.codicon { line-height: 19px; font-size: 12px; }
		</style></head><body class="" style="overscroll-behavior: contain;"><div style="visibility: hidden; overflow: hidden; position: absolute; top: 0px; height: 1px; width: auto; padding: 0px; border: 0px; margin: 0px; text-align: left; text-indent: 0px; text-transform: none; line-height: normal; letter-spacing: normal; word-spacing: normal;"><div id="MathJax_Hidden"></div></div><div id="MathJax_Message" style="display: none;"></div><div class="scripts"><script nonce="">window.performance.mark('external_scripts_start');</script><script src="./Assignment_3_files/gapi_loader.js.download" nonce=""></script><script src="./Assignment_3_files/external.js.download" nonce=""></script><script src="./Assignment_3_files/MathJax.js.download" nonce=""></script><script src="./Assignment_3_files/loader.js.download" nonce=""></script><script nonce="">window.performance.mark('external_scripts_end'); window.performance.measure('external_scripts', 'external_scripts_start', 'external_scripts_end'); window.performance.mark('colab_load_start');
          window.Polymer = {
            'legacyOptimizations': true,
          };
          </script><script src="./Assignment_3_files/external_polymer_binary_l10n__en_gb.js.download" nonce=""></script><script nonce="">
          window.performance.mark('colab_load_end');
          window.performance.measure('colab_load', 'colab_load_start', 'colab_load_end');
        </script></div><paper-toast text="" id="message-area" class="message-area" style="outline: none; position: fixed; box-sizing: border-box; left: 0px; top: 584px; max-width: 288px; max-height: 49px; display: none;" aria-hidden="true">
    <span class="paper-toast-extra"></span>
    <paper-icon-button class="close" icon="icons:close" aria-label="Close" role="button" tabindex="0" aria-disabled="false">
    </paper-icon-button>
  </paper-toast><iron-a11y-announcer></iron-a11y-announcer><paper-toast text="" id="message-area-secondary" class="message-area startup" style="outline: none; position: fixed; box-sizing: border-box; left: 0px; top: 584px; max-width: 288px; max-height: 49px; display: none;" aria-hidden="true">
    <span class="paper-toast-extra"></span>
    <paper-icon-button class="close" icon="icons:close" aria-label="Close" role="button" tabindex="0" aria-disabled="false">
    </paper-icon-button>
  </paper-toast><div ng-non-bindable=""></div><div class="gb_be"><div class="gb_de"><div>Google Account</div><div class="gb_rb">PRASANNA PRIADARSAN M</div><div>prasannapriadarsan.m_ll-2003-sn-015@thelightinglamp.com</div></div></div><script nonce="">this.gbar_=this.gbar_||{};(function(_){var window=this;
try{
/*

 Copyright The Closure Library Authors.
 SPDX-License-Identifier: Apache-2.0
*/
_.ne=function(a,b){return 0<=(0,_.tb)(a,b)};_.oe=function(a){var b=typeof a;return"object"!=b?b:a?Array.isArray(a)?"array":b:"null"};_.pe=function(a){var b=_.oe(a);return"array"==b||"object"==b&&"number"==typeof a.length};_.qe=function(a,b){var c=Array.prototype.slice.call(arguments,1);return function(){var d=c.slice();d.push.apply(d,arguments);return a.apply(this,d)}};try{(new self.OffscreenCanvas(0,0)).getContext("2d")}catch(a){}_.re=_.C||_.Fb;
_.se=function(a,b){this.width=a;this.height=b};_.k=_.se.prototype;_.k.aspectRatio=function(){return this.width/this.height};_.k.bc=function(){return!(this.width*this.height)};_.k.ceil=function(){this.width=Math.ceil(this.width);this.height=Math.ceil(this.height);return this};_.k.floor=function(){this.width=Math.floor(this.width);this.height=Math.floor(this.height);return this};_.k.round=function(){this.width=Math.round(this.width);this.height=Math.round(this.height);return this};
var ue,xe;_.te=function(a,b){return(b||document).getElementsByTagName(String(a))};_.ve=function(a,b){_.Pa(b,function(c,d){c&&"object"==typeof c&&c.Pb&&(c=c.vb());"style"==d?a.style.cssText=c:"class"==d?a.className=c:"for"==d?a.htmlFor=c:ue.hasOwnProperty(d)?a.setAttribute(ue[d],c):0==d.lastIndexOf("aria-",0)||0==d.lastIndexOf("data-",0)?a.setAttribute(d,c):a[d]=c})};
ue={cellpadding:"cellPadding",cellspacing:"cellSpacing",colspan:"colSpan",frameborder:"frameBorder",height:"height",maxlength:"maxLength",nonce:"nonce",role:"role",rowspan:"rowSpan",type:"type",usemap:"useMap",valign:"vAlign",width:"width"};_.ye=function(a,b){var c=b[1],d=_.we(a,String(b[0]));c&&("string"===typeof c?d.className=c:Array.isArray(c)?d.className=c.join(" "):_.ve(d,c));2<b.length&&xe(a,d,b);return d};
xe=function(a,b,c){function d(h){h&&b.appendChild("string"===typeof h?a.createTextNode(h):h)}for(var e=2;e<c.length;e++){var f=c[e];if(!_.pe(f)||_.kb(f)&&0<f.nodeType)d(f);else{a:{if(f&&"number"==typeof f.length){if(_.kb(f)){var g="function"==typeof f.item||"string"==typeof f.item;break a}if("function"===typeof f){g="function"==typeof f.item;break a}}g=!1}_.ub(g?_.ma(f):f,d)}}};_.ze=function(a){return _.we(document,a)};
_.we=function(a,b){b=String(b);"application/xhtml+xml"===a.contentType&&(b=b.toLowerCase());return a.createElement(b)};_.Ae=function(a){for(var b;b=a.firstChild;)a.removeChild(b)};_.Be=function(a){return _.kb(a)&&1==a.nodeType};_.Ce=function(a){return 9==a.nodeType?a:a.ownerDocument||a.document};_.De=function(a,b){for(var c=0;a;){if(b(a))return a;a=a.parentNode;c++}return null};

}catch(e){_._DumpException(e)}
try{
/*

 Copyright The Closure Library Authors.
 SPDX-License-Identifier: Apache-2.0
*/
_.Re=function(a){_.G.call(this,a)};_.w(_.Re,_.G);_.Se=function(a){return _.Bd(_.xd.j(),a)};

}catch(e){_._DumpException(e)}
try{
_.Ej=function(a,b,c){return void 0!==_.qc(a,b,c,!1)};_.Fj=function(a){_.G.call(this,a)};_.w(_.Fj,_.G);

}catch(e){_._DumpException(e)}
try{
_.Gj=function(a,b,c){a.rel=c;-1!=c.toLowerCase().indexOf("stylesheet")?(a.href=_.Qc(b),(b=_.od(a.ownerDocument&&a.ownerDocument.defaultView))&&a.setAttribute("nonce",b)):a.href=b instanceof _.Oc?_.Qc(b):b instanceof _.Sc?_.Tc(b):_.Tc(_.Yc(b))};

}catch(e){_._DumpException(e)}
try{
/*

 SPDX-License-Identifier: Apache-2.0
*/
var Hj;try{new URL("s://g"),Hj=!0}catch(a){Hj=!1}_.Ij=Hj;

}catch(e){_._DumpException(e)}
try{
_.Jj=function(a){var b,c,d=null==(c=(b=(a.ownerDocument&&a.ownerDocument.defaultView||window).document).querySelector)?void 0:c.call(b,"script[nonce]");(b=d?d.nonce||d.getAttribute("nonce")||"":"")&&a.setAttribute("nonce",b)};_.Kj=function(a){var b=_.Mc();a=b?b.createScriptURL(a):a;return new _.Oc(a,_.Nc)};
/*

 SPDX-License-Identifier: Apache-2.0
*/

}catch(e){_._DumpException(e)}
try{
var Lj=function(a,b,c){_.Zd.log(46,{att:a,max:b,url:c})},Nj=function(a,b,c){_.Zd.log(47,{att:a,max:b,url:c});a<b?Mj(a+1,b):_.K.log(Error("ka`"+a+"`"+b),{url:c})},Mj=function(a,b){if(Oj){var c=_.ze("SCRIPT");c.async=!0;c.type="text/javascript";c.charset="UTF-8";c.src=_.Pc(Oj);_.Jj(c);c.onload=_.qe(Lj,a,b,c.src);c.onerror=_.qe(Nj,a,b,c.src);_.Zd.log(45,{att:a,max:b,url:c.src});_.te("HEAD")[0].appendChild(c)}},Pj=function(a){_.G.call(this,a)};_.w(Pj,_.G);
var Qj=_.F(_.Vd,Pj,17)||new Pj,Rj,Oj=(Rj=_.F(Qj,_.Fj,1))?_.Kj(_.D(Rj,4)||""):null,Sj,Tj=(Sj=_.F(Qj,_.Fj,2))?_.Kj(_.D(Sj,4)||""):null,Uj=function(){Mj(1,2);if(Tj){var a=_.ze("LINK");a.setAttribute("type","text/css");_.Gj(a,Tj,"stylesheet");var b=_.od();b&&a.setAttribute("nonce",b);_.te("HEAD")[0].appendChild(a)}};
(function(){var a=_.Wd();if(_.E(a,18))Uj();else{var b=_.D(a,19)||0;window.addEventListener("load",function(){window.setTimeout(Uj,b)})}})();

}catch(e){_._DumpException(e)}
})(this.gbar_);
// Google Inc.
</script><div style="position: absolute; width: 0px; height: 0px; overflow: hidden; padding: 0px; border: 0px; margin: 0px;"><div id="MathJax_Font_Test" style="position: absolute; visibility: hidden; top: 0px; left: 0px; width: auto; min-width: 0px; max-width: none; padding: 0px; border: 0px; margin: 0px; white-space: nowrap; text-align: left; text-indent: 0px; text-transform: none; line-height: normal; letter-spacing: normal; word-spacing: normal; font-size: 40px; font-weight: normal; font-style: normal; font-family: MathJax_Size1, monospace;"></div></div><div class="notebook-vertical colab-left-pane-open" style="position: relative;">
    <div class="top-floater"><div role="banner">
    <!--?lit$12532914$-->
    <!--?lit$12532914$-->
      <div id="private-outputs-warning" class="header-warning private-outputs-warning hidden">
        <!--?lit$12532914$-->This notebook is open with private outputs. Outputs will not be saved. You can disable this in <a href="https://colab.research.google.com/drive/1ZS1Q9iM775k2SsNjm9D6xv9YEQcMlWb1#" id="private-outputs-notebook-info-link" command="notebook-settings">Notebook settings</a><paper-tooltip offset="4" for="private-outputs-notebook-info-link" id="private-outputs-notebook-info-link-tooltip" role="tooltip" tabindex="-1">
                  <div class="tooltip-with-shortcut">Open notebook settings</div>
                </paper-tooltip>.
      <paper-icon-button class="close" role="button" tabindex="0" aria-disabled="false"></paper-icon-button></div>
    

    <div id="header" class="horizontal layout">
      <div id="header-background"><div></div></div>
      <div id="header-content">
        <!--?lit$12532914$-->
        <!--?lit$12532914$-->
      <div id="header-logo">
          <!--?lit$12532914$--><a href="https://drive.google.com/drive/search?q=owner%3Ame%20(type%3Aapplication%2Fvnd.google.colaboratory%20%7C%7C%20type%3Aapplication%2Fvnd.google.colab)&amp;authuser=0" aria-label="View in Google Drive">
            <iron-icon class="colab-large-icon" icon="colab:colab-logo"></iron-icon>
          </a>
      </div>
        <div id="header-doc-toolbar" class="flex">
          <div id="document-info">
            <!--?lit$12532914$-->
    <!--?lit$12532914$-->
    <iron-icon class="file-location-icon" id="file-type" icon="colab:drive-logo" title="Notebook stored in Google Drive"></iron-icon>
      
    <input id="doc-name" class="doc-name" maxlength="259" autocomplete="off" command="rename" aria-label="Notebook name" style="width: 181.812px;"><colab-input-sizer style="left: -1000%; position: absolute; font-family: &quot;Google Sans&quot;, Roboto, Noto, sans-serif; font-size: 18px; font-weight: 400; letter-spacing: normal; padding-left: 3px; padding-right: 4px; white-space: pre;">Assignment_3.ipynbS_</colab-input-sizer>
    <paper-tooltip for="doc-name" id="doc-name-tooltip" offset="8" role="tooltip" tabindex="-1" style="left: 139.984px; top: 41px;">
      <!--?lit$12532914$-->Rename notebook
    <div class="tooltip-with-shortcut">Rename notebook</div></paper-tooltip>
            <!--?lit$12532914$-->
              <paper-icon-button icon="icons:star-border" id="star-icon" command="toggle-star" role="button" tabindex="0" aria-disabled="false"></paper-icon-button>
              <paper-tooltip for="star-icon" id="star-tooltip" offset="8" role="tooltip" tabindex="-1" style="left: 200.617px; top: 38px;">
                <!--?lit$12532914$-->Star
              <div class="tooltip-with-shortcut">Star/unstar notebook in Google Drive</div></paper-tooltip>
            
          </div>
        <div><!----><div id="top-menubar" class="goog-menubar format-lightborder" role="menubar" tabindex="0" style="user-select: none;"><!--?lit$12532914$--><div class="goog-menu-button goog-inline-block" id="file-menu-button" role="button" aria-expanded="false" aria-haspopup="true" style="user-select: none;"><div class="goog-inline-block goog-menu-button-outer-box" style="user-select: none;"><div class="goog-inline-block goog-menu-button-inner-box" style="user-select: none;"><div class="goog-inline-block goog-menu-button-caption" style="user-select: none;"><!--?lit$12532914$-->File</div><div class="goog-inline-block goog-menu-button-dropdown" style="user-select: none;">&nbsp;</div></div></div></div><div class="goog-menu-button goog-inline-block" id="edit-menu-button" role="button" aria-expanded="false" aria-haspopup="true" style="user-select: none;"><div class="goog-inline-block goog-menu-button-outer-box" style="user-select: none;"><div class="goog-inline-block goog-menu-button-inner-box" style="user-select: none;"><div class="goog-inline-block goog-menu-button-caption" style="user-select: none;"><!--?lit$12532914$-->Edit</div><div class="goog-inline-block goog-menu-button-dropdown" style="user-select: none;">&nbsp;</div></div></div></div><div class="goog-menu-button goog-inline-block" id="view-menu-button" role="button" aria-expanded="false" aria-haspopup="true" style="user-select: none;"><div class="goog-inline-block goog-menu-button-outer-box" style="user-select: none;"><div class="goog-inline-block goog-menu-button-inner-box" style="user-select: none;"><div class="goog-inline-block goog-menu-button-caption" style="user-select: none;"><!--?lit$12532914$-->View</div><div class="goog-inline-block goog-menu-button-dropdown" style="user-select: none;">&nbsp;</div></div></div></div><div class="goog-menu-button goog-inline-block" id="insert-menu-button" role="button" aria-expanded="false" aria-haspopup="true" style="user-select: none;"><div class="goog-inline-block goog-menu-button-outer-box" style="user-select: none;"><div class="goog-inline-block goog-menu-button-inner-box" style="user-select: none;"><div class="goog-inline-block goog-menu-button-caption" style="user-select: none;"><!--?lit$12532914$-->Insert</div><div class="goog-inline-block goog-menu-button-dropdown" style="user-select: none;">&nbsp;</div></div></div></div><div class="goog-menu-button goog-inline-block" id="runtime-menu-button" role="button" aria-expanded="false" aria-haspopup="true" style="user-select: none;"><div class="goog-inline-block goog-menu-button-outer-box" style="user-select: none;"><div class="goog-inline-block goog-menu-button-inner-box" style="user-select: none;"><div class="goog-inline-block goog-menu-button-caption" style="user-select: none;"><!--?lit$12532914$-->Runtime</div><div class="goog-inline-block goog-menu-button-dropdown" style="user-select: none;">&nbsp;</div></div></div></div><div class="goog-menu-button goog-inline-block" id="tools-menu-button" role="button" aria-expanded="false" aria-haspopup="true" style="user-select: none;"><div class="goog-inline-block goog-menu-button-outer-box" style="user-select: none;"><div class="goog-inline-block goog-menu-button-inner-box" style="user-select: none;"><div class="goog-inline-block goog-menu-button-caption" style="user-select: none;"><!--?lit$12532914$-->Tools</div><div class="goog-inline-block goog-menu-button-dropdown" style="user-select: none;">&nbsp;</div></div></div></div><div class="goog-menu-button goog-inline-block" id="help-menu-button" role="button" aria-expanded="false" aria-haspopup="true" style="user-select: none;"><div class="goog-inline-block goog-menu-button-outer-box" style="user-select: none;"><div class="goog-inline-block goog-menu-button-inner-box" style="user-select: none;"><div class="goog-inline-block goog-menu-button-caption" style="user-select: none;"><!--?lit$12532914$-->Help</div><div class="goog-inline-block goog-menu-button-dropdown" style="user-select: none;">&nbsp;</div></div></div></div><colab-last-saved-indicator command="show-history" title="" style="user-select: none;">All changes saved</colab-last-saved-indicator></div>
              <div id="colab-menu-cover" style="display: none;">
              </div></div></div>
        <div id="header-right">
          <!--?lit$12532914$-->
            <paper-button id="comments" command="open-comments-thread" role="button" tabindex="0" animated="" elevation="0" aria-disabled="false">
              <iron-icon icon="communication:comment"></iron-icon>
              <span>
                <!--?lit$12532914$-->Comment
              </span>
            </paper-button><paper-tooltip offset="4" for="comments" id="comments-tooltip" role="tooltip" tabindex="-1">
                  <div class="tooltip-with-shortcut">Open comments pane</div>
                </paper-tooltip>
          <!--?lit$12532914$-->
            <paper-button id="share-toolbar-button" command="share" role="button" tabindex="0" animated="" elevation="0" aria-disabled="false">
              <iron-icon icon="social:people"></iron-icon>
              <span>
                <!--?lit$12532914$-->Share
              </span>
            </paper-button><paper-tooltip offset="4" for="share-toolbar-button" id="share-toolbar-button-tooltip" role="tooltip" tabindex="-1">
                  <div class="tooltip-with-shortcut">Share notebook</div>
                </paper-tooltip>
          <paper-icon-button icon="icons:settings" id="settings-cog" command="preferences" alt="Open settings" role="button" tabindex="0" aria-disabled="false" aria-label="Open settings">
          </paper-icon-button><paper-tooltip offset="4" for="settings-cog" id="settings-cog-tooltip" role="tooltip" tabindex="-1">
                  <div class="tooltip-with-shortcut">Open settings</div>
                </paper-tooltip>
          <div class="header-onegoogle-container"><div class="onegoogle"><div class="gb_oa gb_Xd gb_1a gb_pa" id="gb"><div class="gb_Vd gb_Xa gb_Kd" ng-non-bindable="" data-ogsr-up="" style="padding:0;height:auto;display:block"><div class="gb_Re" style="display:block"><div class="gb_Sc"></div><div class="gb_Ma gb_gd gb_lg gb_f gb_zb gb_zf"><div class="gb_yf gb_Wa gb_lg gb_f"><a class="gb_A gb_La gb_f" aria-label="Google Account: PRASANNA PRIADARSAN M  
(prasannapriadarsan.m_ll-2003-sn-015@thelightinglamp.com)" href="https://accounts.google.com/SignOutOptions?hl=en-GB&amp;continue=https://colab.research.google.com/drive/1ZS1Q9iM775k2SsNjm9D6xv9YEQcMlWb1" role="button" tabindex="0"><img class="gb_Ba gbii" src="./Assignment_3_files/unnamed.png" srcset="https://lh3.googleusercontent.com/ogw/AOh-ky2ygd9PF_MXgISAZsHa-nmmK679FUCh77Wilngk=s32-c-mo 1x, https://lh3.googleusercontent.com/ogw/AOh-ky2ygd9PF_MXgISAZsHa-nmmK679FUCh77Wilngk=s64-c-mo 2x " alt="" aria-hidden="true" data-noaft=""></a><div class="gb_4a"></div><div class="gb_3a"></div></div></div></div><div style="overflow: hidden; position: absolute; top: 0px; visibility: hidden; width: 372px; z-index: 991; height: 0px; margin-top: 57px; right: 0px; margin-right: 4px;"></div></div></div><script nonce="">this.gbar_=this.gbar_||{};(function(_){var window=this;
try{
_.ie=function(a,b,c){if(!a.o)if(c instanceof Array){c=_.Ya(c);for(var d=c.next();!d.done;d=c.next())_.ie(a,b,d.value)}else{d=(0,_.z)(a.F,a,b);var e=a.B+c;a.B++;b.setAttribute("data-eqid",e);a.D[e]=d;b&&b.addEventListener?b.addEventListener(c,d,!1):b&&b.attachEvent?b.attachEvent("on"+c,d):a.A.log(Error("H`"+b))}};

}catch(e){_._DumpException(e)}
try{
/*

 Copyright The Closure Library Authors.
 SPDX-License-Identifier: Apache-2.0
*/
_.je=function(){if(!_.n.addEventListener||!Object.defineProperty)return!1;var a=!1,b=Object.defineProperty({},"passive",{get:function(){a=!0}});try{_.n.addEventListener("test",function(){},b),_.n.removeEventListener("test",function(){},b)}catch(c){}return a}();
_.ke=_.Fb?"webkitTransitionEnd":"transitionend";

}catch(e){_._DumpException(e)}
try{
var le=document.querySelector(".gb_z .gb_A"),me=document.querySelector("#gb.gb_Jc");le&&!me&&_.ie(_.$d,le,"click");

}catch(e){_._DumpException(e)}
try{
var Xh=function(a){_.H.call(this);this.C=a;this.A=null;this.o={};this.D={};this.j={};this.B=null};_.w(Xh,_.H);_.Yh=function(a){if(a.A)return a.A;for(var b in a.j)if(a.j[b].Ne()&&a.j[b].Ib())return a.j[b];return null};_.k=Xh.prototype;_.k.nf=function(a){a&&_.Yh(this)&&a!=_.Yh(this)&&_.Yh(this).Hd(!1);this.A=a};_.k.rg=function(a){a=this.j[a]||a;return _.Yh(this)==a};_.k.we=function(a,b){b=b.Rc();if(this.o[a]&&this.o[a][b])for(var c=0;c<this.o[a][b].length;c++)try{this.o[a][b][c]()}catch(d){this.C.log(d)}};
_.k.Bh=function(a){return!this.D[a.Rc()]};_.k.Jg=function(a){this.j[a]&&(_.Yh(this)&&_.Yh(this).Rc()==a||this.j[a].Hd(!0))};_.k.Wa=function(a){this.B=a;for(var b in this.j)this.j[b].Ne()&&this.j[b].Wa(a)};_.k.jf=function(a){this.j[a.Rc()]=a};_.k.ne=function(a){return a in this.j?this.j[a]:null};var Zh=new Xh(_.K);_.zd("dd",Zh);

}catch(e){_._DumpException(e)}
try{
var zj=document.querySelector(".gb_Ma .gb_A"),Aj=document.querySelector("#gb.gb_Jc");zj&&!Aj&&_.ie(_.$d,zj,"click");

}catch(e){_._DumpException(e)}
})(this.gbar_);
// Google Inc.
</script></div></div>
        </div>
      </div>
    </div>
  </div></div><div class="notebook-horizontal">
      <!--?lit$12532914$--><colab-left-pane role="complementary" aria-label="left pane" class="colab-left-pane-open"><!----><div class="colab-left-pane-nib layout vertical" role="toolbar" aria-orientation="vertical">
               <div class="left-pane-top"><!----><div class="left-pane-button">
               <paper-icon-button noink="" command="show-toc-pane" icon="editor:format-list-bulleted" aria-label="Table of contents" title="Table of contents" toggles="" role="button" tabindex="0" aria-pressed="false" aria-disabled="false">
               </paper-icon-button>
               <!--?lit$12532914$-->
             </div><!----><div class="left-pane-button">
               <paper-icon-button noink="" command="find" icon="icons:search" aria-label="Find and replace" title="Find and replace" toggles="" role="button" tabindex="0" aria-pressed="false" aria-disabled="false">
               </paper-icon-button>
               <!--?lit$12532914$-->
             </div><!----><div class="left-pane-button">
               <paper-icon-button noink="" command="show-variables" icon="colab:variables" aria-label="Variables" title="Variables" toggles="" role="button" tabindex="0" aria-pressed="false" aria-disabled="false">
               </paper-icon-button>
               <!--?lit$12532914$-->
             </div><!----><div class="left-pane-button">
               <paper-icon-button noink="" command="show-files" icon="icons:folder-open" aria-label="Files" title="Files" toggles="" role="button" tabindex="0" aria-pressed="true" aria-disabled="false" active="">
               </paper-icon-button>
               <!--?lit$12532914$-->
             </div></div>
               <div class="left-pane-bottom"><!----><div class="left-pane-button">
               <paper-icon-button noink="" command="snippets" icon="icons:code" aria-label="Code snippets" title="Code snippets" role="button" tabindex="0" aria-disabled="false">
               </paper-icon-button>
               <!--?lit$12532914$-->
             </div><!----><div class="left-pane-button">
               <paper-icon-button noink="" command="show-command-palette" icon="colab:command-palette" aria-label="Command palette" title="Command palette" role="button" tabindex="0" aria-disabled="false">
               </paper-icon-button>
               <!--?lit$12532914$-->
             </div><!----><div class="left-pane-button">
               <paper-icon-button noink="" command="show-terminal" icon="colab:terminal" aria-label="Terminal" title="Terminal" role="button" tabindex="0" aria-disabled="false">
               </paper-icon-button>
               <!--?lit$12532914$-->
             </div></div>
             </div><colab-resizer class="ew-resize">
                 <div class="resizer-contents">
                   <div class="colab-left-pane-header layout horizontal noshrink">
                     <h3 class="left-pane-content-title">Files</h3>
                     <paper-icon-button icon="icons:tab" class="colab-left-pane-move" aria-label="Move left pane to a tab" role="button" tabindex="0" aria-disabled="false">
                     </paper-icon-button>
                     <paper-icon-button class="colab-left-pane-close" icon="icons:close" aria-label="Close left pane" role="button" tabindex="0" aria-disabled="false">
                     </paper-icon-button>
                   </div>
                   <div class="left-pane-container"><colab-file-browser class="layout vertical"><colab-file-tree><div class="file-tree-buttons"><paper-button class="file-upload" title="Upload to session storage" role="button" tabindex="0" animated="" elevation="0" aria-disabled="false"><iron-icon icon="colab:file-upload"></iron-icon><input type="file" multiple=""></paper-button><paper-icon-button icon="colab:folder-refresh" title="Refresh" role="button" tabindex="0" aria-disabled="false"></paper-icon-button><paper-icon-button class="mount-drive-button" icon="colab:drive-folder" title="Mount Drive" role="button" tabindex="0" aria-disabled="false" style="display: inline-block;"></paper-icon-button><paper-icon-button id="hidden-files-toggle" icon="icons:visibility-off" role="button" tabindex="0" aria-disabled="false" title="Show hidden files"></paper-icon-button></div><div class="parent-link"><div class="file-title-row"><div class="file-icon colab-icon" style="margin-left: 0px"></div><iron-icon class="file-icon colab-icon" icon="colab:files-up-one-level"></iron-icon><span class="file-tree-name" title="Up one level">..</span><input class="file-tree-name-input" value=".."><paper-icon-button class="file-item-menu" icon="icons:more-vert" role="button" tabindex="0" aria-disabled="false"></paper-icon-button></div></div><div class="files-root"><colab-file-view filename="content" draggable="true"><div class="child-files"><colab-file-view filename="sample_data" class="collapsed" draggable="true"><div class="file-title-row"><iron-icon class="file-icon colab-icon directory-icon" icon="icons:arrow-drop-down" style="margin-left: 0px"></iron-icon><iron-icon class="file-icon colab-icon" icon="icons:folder"></iron-icon><span class="file-tree-name" title="sample_data">sample_data</span><input class="file-tree-name-input" value="sample_data"><paper-icon-button class="file-item-menu" icon="icons:more-vert" role="button" tabindex="0" aria-disabled="false"></paper-icon-button></div><div class="child-files"></div><div class="overflow-ellipsis" title="Directory is too large to display all files" style="margin-left: 0px">…</div></colab-file-view></div><div class="overflow-ellipsis" title="Directory is too large to display all files" style="margin-left: -20px">…</div></colab-file-view></div><div class="files-drag-to-upload layout horizontal"><iron-icon icon="icons:file-upload" class="layout noshrink"></iron-icon><div>Drop files to upload them to session storage</div></div><div class="files-uploading"></div><colab-usage-bar id="file-browser-disk-display" label="Disk" suffix="" style="display: flex;"></colab-usage-bar><paper-tooltip for="file-browser-disk-display" id="file-browser-disk-display-tooltip" position="top" role="tooltip" tabindex="-1">Disk: 38.37 GB/107.72 GB</paper-tooltip></colab-file-tree></colab-file-browser></div>
                 </div>
               <div class="resizer-thumb"></div></colab-resizer></colab-left-pane>
      <div class="layout vertical grow">
        <div id="top-toolbar" class="horizontal layout center noshrink"><!---->
  <!--?lit$12532914$-->
    <colab-toolbar-button command="insert-cell-below" icon="icons:add" id="toolbar-add-code">
      <!--?lit$12532914$-->Code
    </colab-toolbar-button><paper-tooltip offset="4" for="toolbar-add-code" id="toolbar-add-code-tooltip" role="tooltip" tabindex="-1" style="left: -14.7344px; top: 39px;">
                  <div class="tooltip-with-shortcut">Insert code cell below<div>Ctrl+M B</div></div>
                </paper-tooltip>
    <colab-toolbar-button command="add-text" icon="icons:add" id="toolbar-add-text">
      <!--?lit$12532914$-->Text
    </colab-toolbar-button><paper-tooltip offset="4" for="toolbar-add-text" id="toolbar-add-text-tooltip" role="tooltip" tabindex="-1" style="left: 70.6641px; top: 39px;">
                  <div class="tooltip-with-shortcut">Add text cell</div>
                </paper-tooltip>

  <!--?lit$12532914$-->

  <!--?lit$12532914$-->

  <!--?lit$12532914$-->
    <span class="collapsed-options">
      <colab-last-saved-indicator command="show-history" title=""></colab-last-saved-indicator>
    </span>

  <span class="flex"></span>
  <!--?lit$12532914$--><colab-connect-warning-button></colab-connect-warning-button>
  <!--?lit$12532914$-->
    <colab-connect-button>
    </colab-connect-button>
  <!--?lit$12532914$-->
    <span class="colab-separator"></span>
    <colab-permissions-button permissions="edit">
    </colab-permissions-button>
  <span class="collapsed-options">
    <!--?lit$12532914$-->
    <!--?lit$12532914$-->
      <paper-icon-button command="share" icon="social:people" alt="Share notebook" role="button" tabindex="0" aria-disabled="false" aria-label="Share notebook">
      </paper-icon-button><paper-icon-button icon="icons:settings" command="preferences" title="Open settings" role="button" tabindex="0" aria-disabled="false">
    </paper-icon-button>
  </span>
  <span class="colab-separator"></span>
  <paper-icon-button command="toggle-header" icon="icons:expand-less" id="toggle-header-button" aria-label="Toggle header visibility" role="button" tabindex="0" aria-disabled="false">
  </paper-icon-button><paper-tooltip offset="4" for="toggle-header-button" id="toggle-header-button-tooltip" role="tooltip" tabindex="-1">
                  <div class="tooltip-with-shortcut">Toggle header visibility</div>
                </paper-tooltip></div><colab-tab-layout-container class="layout horizontal grow flexible-tabs"><!---->
      <div class="layout horizontal tab-pane-parent">
      <!--?lit$12532914$-->
      <div class="layout vertical tab-pane-parent">
      <!--?lit$12532914$--><colab-tab-pane class="layout vertical grow no-header focused" align="horizontal"><!---->
  <div class="layout vertical grow">
    <div class="tab-pane-header layout horizontal noshrink">
      <paper-tabs selected="0" noink="" class="layout grow" scrollable="" role="tablist" tabindex="0" dir="null">
      <paper-tab noink="" title="" class="iron-selected" role="tab" aria-disabled="false" aria-selected="true" tabindex="0">
          <div class="colab-tab-header"><!--?lit$12532914$--><span class="colab-tab-title"><!--?lit$12532914$--><!--?lit$12532914$-->Notebook<!--?--></span>
          <!--?lit$12532914$--><!--?--></div>
        </paper-tab></paper-tabs>
      <!--?lit$12532914$-->
    <paper-icon-button icon="icons:more-horiz" title="Show more" role="button" tabindex="0" aria-disabled="false">
    </paper-icon-button>
    </div>
    <div class="layout vertical grow tab-pane-container">
    <colab-tab class="layout vertical grow notebook-tab-content iron-selected"><!---->
  <div class="overflow-flexbox-workaround">
    <colab-shaded-scroller ignore-dom-changes="" tabindex="-1" role="main" class="notebook-container">
      <div class="notebook-scrolling-horizontal">
        <div class="notebook-content-background">
          <!--?lit$12532914$-->
          <div class="notebook-content ">
            <!--?lit$12532914$--><div class="add-cell">
             <div class="add-cell-buttons">
               <colab-toolbar-button class="add-code add-button" icon="icons:add" title="Add code cell
Ctrl+M B">
                 <!--?lit$12532914$-->Code
               </colab-toolbar-button>
               <colab-toolbar-button class="add-text add-button" icon="icons:add" title="Add text cell">
                 <!--?lit$12532914$-->Text
               </colab-toolbar-button>
             </div><hr>
           </div>
            <div class="notebook-cell-list"><div class="cell text focused" id="cell-8SlK-UhyxCO8" tabindex="-1" style=""><div class="cell-toolbar sticky"><colab-cell-toolbar><paper-icon-button class="colab-icon" noink="" icon="icons:arrow-upward" title="Move cell up
Ctrl+M K" command="move-cell-up" role="button" tabindex="-1" aria-disabled="true" disabled="" style="pointer-events: none;">
    </paper-icon-button><paper-icon-button class="colab-icon" noink="" icon="icons:arrow-downward" title="Move cell down
Ctrl+M J" command="move-cell-down" role="button" tabindex="0" aria-disabled="false">
    </paper-icon-button><paper-icon-button class="colab-icon" noink="" icon="icons:link" title="Link to cell" command="share" role="button" tabindex="0" aria-disabled="false">
    </paper-icon-button><paper-icon-button class="colab-icon" noink="" icon="editor:insert-comment" title="Add a comment
Ctrl+Alt+M" command="add-comment" role="button" tabindex="0" aria-disabled="false">
    </paper-icon-button><paper-icon-button class="colab-icon" noink="" icon="icons:settings" title="Open editor settings" command="editor-preferences" role="button" tabindex="0" aria-disabled="false" style="display: none;">
    </paper-icon-button><paper-icon-button class="colab-icon" noink="" icon="editor:mode-edit" title="Edit" command="toggle-edit-markdown" role="button" tabindex="0" aria-disabled="false">
    </paper-icon-button><paper-icon-button class="colab-icon" noink="" icon="colab:mirror-cell" title="Mirror cell in tab" command="mirror-cell-in-tab" role="button" tabindex="0" aria-disabled="false">
    </paper-icon-button><paper-icon-button class="colab-icon" noink="" icon="icons:delete" title="Delete cell
Ctrl+M D" command="delete-cell-or-selection" role="button" tabindex="0" aria-disabled="false">
    </paper-icon-button><paper-icon-button class="colab-icon cell-toolbar-more" noink="" icon="icons:more-vert" title="More cell actions" role="button" tabindex="0" aria-disabled="false">
    </paper-icon-button></colab-cell-toolbar></div><div class="main-content" elevation="2"><div class="cell-mask"></div><span class="imported-info-area"></span><div class="toolbar-root"></div><div class="editor-container horizontal"><div class="editor-root"></div><div class="text-top-div"><div class="markdown"><span><h3 class="text-cell-section-header"><paper-icon-button class="header-section-toggle" icon="arrow-drop-down" noink="" role="button" tabindex="0" aria-disabled="false" title="Collapse 0 child cells under this section header (Press &lt;Shift&gt; to also collapse sibling sections)" style="display: none;"></paper-icon-button><strong>Assignment Date</strong>: 07 October 2022</h3>
<h3><strong>Student  Name</strong>: Prasanna Priadarsan M</h3>
<h3><strong>Student Roll Number</strong>: 611219106057</h3>
<h3><strong>Maximum Marks</strong>: 2 Marks</h3>
</span></div></div></div><div class="section-header" style="display: none;"><colab-run-button role="button" aria-label="Run cell"></colab-run-button><div class="section-header-container" title="click to expand">↳ 0 cells hidden</div></div></div><div class="add-cell">
             <div class="add-cell-buttons">
               <colab-toolbar-button class="add-code add-button" icon="icons:add" title="Add code cell
Ctrl+M B">
                 <!--?lit$12532914$-->Code
               </colab-toolbar-button>
               <colab-toolbar-button class="add-text add-button" icon="icons:add" title="Add text cell">
                 <!--?lit$12532914$-->Text
               </colab-toolbar-button>
             </div><hr>
           </div></div><div class="cell text" id="cell-EoQGB7ZG378H" tabindex="-1" style=""><div class="cell-toolbar sticky"></div><div class="main-content" elevation="0"><div class="cell-mask"></div><span class="imported-info-area"></span><div class="toolbar-root"></div><div class="editor-container horizontal"><div class="editor-root"></div><div class="text-top-div"><div class="markdown"><span><h1 class="text-cell-section-header"><paper-icon-button class="header-section-toggle" icon="arrow-drop-down" noink="" role="button" tabindex="0" aria-disabled="false" title="Collapse 2 child cells under this section header (Press &lt;Shift&gt; to also collapse sibling sections)"></paper-icon-button><strong>Build CNN Model for Classification Of Flowers</strong></h1>
</span></div></div></div><div class="section-header" style="display: none;"><colab-run-button role="button" aria-label="Run cell"></colab-run-button><div class="section-header-container" title="click to expand">↳ 2 cells hidden</div></div></div><div class="add-cell">
             <div class="add-cell-buttons">
               <colab-toolbar-button class="add-code add-button" icon="icons:add" title="Add code cell
Ctrl+M B">
                 <!--?lit$12532914$-->Code
               </colab-toolbar-button>
               <colab-toolbar-button class="add-text add-button" icon="icons:add" title="Add text cell">
                 <!--?lit$12532914$-->Text
               </colab-toolbar-button>
             </div><hr>
           </div></div><div class="cell text" id="cell-aDUpRsWj4BlM" tabindex="-1" style=""><div class="cell-toolbar sticky"></div><div class="main-content" elevation="0"><div class="cell-mask"></div><span class="imported-info-area"></span><div class="toolbar-root"></div><div class="editor-container horizontal"><div class="editor-root"></div><div class="text-top-div"><div class="markdown"><span><h2 class="text-cell-section-header"><paper-icon-button class="header-section-toggle" icon="arrow-drop-down" noink="" role="button" tabindex="0" aria-disabled="false" title="Collapse 1 child cells under this section header (Press &lt;Shift&gt; to also collapse sibling sections)"></paper-icon-button>Download the dataset <a href="https://drive.google.com/file/d/1xkynpL15pt6KT3YSlDimu4A5iRU9qYck/view" target="_blank" rel="nofollow">here</a>.</h2>
</span></div></div></div><div class="section-header" style="display: none;"><colab-run-button role="button" aria-label="Run cell"></colab-run-button><div class="section-header-container" title="click to expand">↳ 1 cell hidden</div></div></div><div class="add-cell">
             <div class="add-cell-buttons">
               <colab-toolbar-button class="add-code add-button" icon="icons:add" title="Add code cell
Ctrl+M B">
                 <!--?lit$12532914$-->Code
               </colab-toolbar-button>
               <colab-toolbar-button class="add-text add-button" icon="icons:add" title="Add text cell">
                 <!--?lit$12532914$-->Text
               </colab-toolbar-button>
             </div><hr>
           </div></div><div class="cell code code-has-output icon-scrolling" id="cell-Q1noiq7wr-lV" tabindex="-1" style=""><div class="cell-toolbar sticky"></div><div class="main-content" elevation="0"><div class="cell-mask"></div><span class="imported-info-area"></span><div class="codecell-input-output"><div class="inputarea horizontal layout code"><div class="cell-gutter"><!-- Bounding range for vertical scrolling of icons --><div class="cell-execution-container"><colab-run-button title="Run cell (Ctrl+Enter)
cell has not been executed in this session

executed by PRASANNA PRIADARSAN M
Saturday, 8 October 2022 (7 days ago)
executed in 2.716 s" role="button" aria-label="Run cell"></colab-run-button></div></div><div class="editor flex lazy-editor" style=""><div class="editor flex monaco" data-keybinding-context="30" data-mode-id="notebook-python" style="--codelens-font-features_1cd5cd2d:&quot;liga&quot; off, &quot;calt&quot; off; height: 48px;"><div class="monaco-editor no-user-select  showUnused showDeprecated vs" role="code" data-uri="inmemory://model/6" style="width: 941px; height: 48px;"><div data-mprt="3" class="overflow-guard" style="width: 941px; height: 48px;"><div class="margin" role="presentation" aria-hidden="true" style="position: absolute; contain: strict; will-change: unset; top: 0px; height: 48px; width: 6px;"><div class="glyph-margin" style="left: 0px; width: 0px; height: 48px;"></div><div class="margin-view-zones" role="presentation" aria-hidden="true" style="position: absolute;"></div><div class="margin-view-overlays" role="presentation" aria-hidden="true" style="position: absolute; width: 6px; font-family: monospace; font-weight: normal; font-size: 14px; font-feature-settings: &quot;liga&quot; 0, &quot;calt&quot; 0; line-height: 19px; letter-spacing: 0px; height: 48px;"><div style="position:absolute;top:0px;width:100%;height:19px;"><div class="current-line current-line-margin-both" style="width:6px; height:19px;"></div></div><div style="position:absolute;top:19px;width:100%;height:19px;"></div></div></div><div class="monaco-scrollable-element editor-scrollable vs" role="presentation" data-mprt="5" style="position: absolute; overflow: hidden; left: 6px; width: 935px; height: 48px;"><div class="lines-content monaco-editor-background" style="position: absolute; overflow: hidden; width: 1e+06px; height: 48px; contain: strict; will-change: unset; top: 0px; left: 0px;"><div class="view-overlays" role="presentation" aria-hidden="true" style="position: absolute; height: 0px; width: 935px;"><div style="position:absolute;top:0px;width:100%;height:19px;"><div class="current-line" style="width:935px; height:19px;"></div></div><div style="position:absolute;top:19px;width:100%;height:19px;"></div></div><div role="presentation" aria-hidden="true" class="view-rulers"></div><div class="view-zones" role="presentation" aria-hidden="true" style="position: absolute;"></div><div class="view-lines monaco-mouse-cursor-text" role="presentation" aria-hidden="true" data-mprt="7" style="position: absolute; font-family: monospace; font-weight: normal; font-size: 14px; font-feature-settings: &quot;liga&quot; 0, &quot;calt&quot; 0; line-height: 19px; letter-spacing: 0px; width: 935px; height: 48px;"><div style="top:0px;height:19px;" class="view-line"><span><span class="mtk8">#&nbsp;Unzip&nbsp;data</span></span></div><div style="top:19px;height:19px;" class="view-line"><span><span class="mtk6">!</span><span class="mtk1">unzip&nbsp;</span><span class="mtk26">'</span><span class="mtk26 detected-link">/content/Flowers-Dataset.zip</span><span class="mtk26">'</span></span></div></div><div data-mprt="1" class="contentWidgets" style="position: absolute; top: 0px;"><div class="codicon-light-bulb codicon" widgetid="LightBulbWidget" title="Show Fixes (Ctrl+.)" style="position: absolute; visibility: hidden; max-width: 935px;"></div></div><div role="presentation" aria-hidden="true" class="cursors-layer cursor-line-style cursor-solid"><div class="cursor monaco-mouse-cursor-text " style="height: 19px; top: 0px; left: 0px; font-family: monospace; font-weight: normal; font-size: 14px; font-feature-settings: &quot;liga&quot; 0, &quot;calt&quot; 0; line-height: 19px; letter-spacing: 0px; display: block; visibility: hidden; width: 2px;"></div></div></div><div role="presentation" aria-hidden="true" class="invisible scrollbar horizontal" style="position: absolute; width: 921px; height: 10px; left: 0px; bottom: 0px;"><div class="slider" style="position: absolute; top: 0px; left: 0px; height: 10px; transform: translate3d(0px, 0px, 0px); contain: strict; will-change: unset; width: 921px;"></div></div><canvas class="decorationsOverviewRuler" aria-hidden="true" width="14" height="48" style="position: absolute; transform: translate3d(0px, 0px, 0px); contain: strict; top: 0px; right: 0px; width: 14px; height: 48px; will-change: unset;"></canvas><div role="presentation" aria-hidden="true" class="invisible scrollbar vertical" style="position: absolute; width: 14px; height: 48px; right: 0px; top: 0px;"><div class="slider" style="position: absolute; top: 0px; left: 0px; width: 14px; transform: translate3d(0px, 0px, 0px); contain: strict; will-change: unset; height: 48px;"></div></div></div><div role="presentation" aria-hidden="true" style="width: 941px;"></div><textarea data-mprt="6" class="inputarea monaco-mouse-cursor-text" wrap="off" autocorrect="off" autocapitalize="off" autocomplete="off" spellcheck="false" aria-label="Editor content;Press Alt+F1 for Accessibility Options." tabindex="0" role="textbox" aria-roledescription="editor" aria-multiline="true" aria-haspopup="false" aria-autocomplete="both" style="font-family: monospace; font-weight: normal; font-size: 14px; font-feature-settings: &quot;liga&quot; 0, &quot;calt&quot; 0; line-height: 19px; letter-spacing: 0px; top: 0px; left: 6px; width: 1px; height: 1px;"></textarea><div style="position: absolute; top: 0px; left: 0px; width: 0px; height: 0px;"></div><div data-mprt="4" class="overlayWidgets" style="width: 941px;"><div class="accessibilityHelpWidget" role="dialog" aria-hidden="true" widgetid="editor.contrib.accessibilityHelpWidget" style="display: none; position: absolute;"><div role="document"></div></div><div widgetid="editor.contrib.quickInputWidget" style="position: absolute; top: 0px; right: 50%;"></div></div><div data-mprt="8" class="minimap slider-mouseover" role="presentation" aria-hidden="true" style="position: absolute; left: 0px; width: 0px; height: 48px;"><div class="minimap-shadow-hidden" style="height: 48px;"></div><canvas width="0" height="48" style="position: absolute; left: 0px; width: 0px; height: 48px;"></canvas><canvas class="minimap-decorations-layer" width="0" height="48" style="position: absolute; left: 0px; width: 0px; height: 48px;"></canvas><div class="minimap-slider" style="position: absolute; transform: translate3d(0px, 0px, 0px); contain: strict; width: 0px; will-change: unset;"><div class="minimap-slider-horizontal" style="position: absolute; width: 0px; height: 0px;"></div></div></div></div><div data-mprt="2" class="overflowingContentWidgets"><div class="monaco-editor rename-box" widgetid="__renameInputWidget" style="background-color: rgb(243, 243, 243); box-shadow: rgba(0, 0, 0, 0.16) 0px 0px 8px 2px; color: rgb(97, 97, 97); position: fixed; visibility: hidden; max-width: 1366px;"><input class="rename-input" type="text" aria-label="Rename input. Type new name and press Enter to commit." style="font-family: monospace; font-weight: normal; font-size: 14px; background-color: rgb(255, 255, 255); border-width: 0px; border-style: none;"><div class="rename-label" style="font-size: 11.2px;">Enter to Rename, Shift+Enter to Preview</div></div></div><div class="context-view" aria-hidden="true" style="display: none;"></div><div class=".in-cell-overflowing"></div></div></div></div><colab-form class="formview vertical layout flex"><div class="widget-area vertical layout"></div></colab-form></div><div class="output"><div class="output-header"></div><div class="output-content"><div class="output-info"><div class="output-icon z_index_b247858193 clear_outputs_enabled output-icon-selected" title="Clear output

executed by PRASANNA PRIADARSAN M
Saturday, 8 October 2022 (7 days ago)
executed in 2.716 s"><iron-icon class="collaborator collaborator-img-me collaborator-img-selected"></iron-icon>
          <iron-icon icon="icons:cancel" command="clear-focused-or-selected-outputs">
          </iron-icon>
        </div></div><div class="output-iframe-container"><div class="output-iframe-sizer"><div><div><colab-static-output-renderer tabindex="0" role="group"><div><div class="stream output_text"><pre>Archive:  /content/Flowers-Dataset.zip
  inflating: flowers/daisy/100080576_f52e8ee070_n.jpg  
  inflating: flowers/daisy/10140303196_b88d3d6cec.jpg  
  inflating: flowers/daisy/10172379554_b296050f82_n.jpg  
  inflating: flowers/daisy/10172567486_2748826a8b.jpg  
  inflating: flowers/daisy/10172636503_21bededa75_n.jpg  
  inflating: flowers/daisy/102841525_bd6628ae3c.jpg  
  inflating: flowers/daisy/10300722094_28fa978807_n.jpg  
  inflating: flowers/daisy/1031799732_e7f4008c03.jpg  
  inflating: flowers/daisy/10391248763_1d16681106_n.jpg  
  inflating: flowers/daisy/10437754174_22ec990b77_m.jpg  
  inflating: flowers/daisy/10437770546_8bb6f7bdd3_m.jpg  
  inflating: flowers/daisy/10437929963_bc13eebe0c.jpg  
  inflating: flowers/daisy/10466290366_cc72e33532.jpg  
  inflating: flowers/daisy/10466558316_a7198b87e2.jpg  
  inflating: flowers/daisy/10555749515_13a12a026e.jpg  
  inflating: flowers/daisy/10555815624_dc211569b0.jpg  
  inflating: flowers/daisy/10555826524_423eb8bf71_n.jpg  
  inflating: flowers/daisy/10559679065_50d2b16f6d.jpg  
  inflating: flowers/daisy/105806915_a9c13e2106_n.jpg  
  inflating: flowers/daisy/10712722853_5632165b04.jpg  
  inflating: flowers/daisy/107592979_aaa9cdfe78_m.jpg  
  inflating: flowers/daisy/10770585085_4742b9dac3_n.jpg  
  inflating: flowers/daisy/10841136265_af473efc60.jpg  
  inflating: flowers/daisy/10993710036_2033222c91.jpg  
  inflating: flowers/daisy/10993818044_4c19b86c82.jpg  
  inflating: flowers/daisy/10994032453_ac7f8d9e2e.jpg  
  inflating: flowers/daisy/11023214096_b5b39fab08.jpg  
  inflating: flowers/daisy/11023272144_fce94401f2_m.jpg  
  inflating: flowers/daisy/11023277956_8980d53169_m.jpg  
  inflating: flowers/daisy/11124324295_503f3a0804.jpg  
  inflating: flowers/daisy/1140299375_3aa7024466.jpg  
  inflating: flowers/daisy/11439894966_dca877f0cd.jpg  
  inflating: flowers/daisy/1150395827_6f94a5c6e4_n.jpg  
  inflating: flowers/daisy/11642632_1e7627a2cc.jpg  
  inflating: flowers/daisy/11834945233_a53b7a92ac_m.jpg  
  inflating: flowers/daisy/11870378973_2ec1919f12.jpg  
  inflating: flowers/daisy/11891885265_ccefec7284_n.jpg  
  inflating: flowers/daisy/12193032636_b50ae7db35_n.jpg  
  inflating: flowers/daisy/12348343085_d4c396e5b5_m.jpg  
  inflating: flowers/daisy/12585131704_0f64b17059_m.jpg  
  inflating: flowers/daisy/12601254324_3cb62c254a_m.jpg  
  inflating: flowers/daisy/1265350143_6e2b276ec9.jpg  
  inflating: flowers/daisy/12701063955_4840594ea6_n.jpg  
  inflating: flowers/daisy/1285423653_18926dc2c8_n.jpg  
  inflating: flowers/daisy/1286274236_1d7ac84efb_n.jpg  
  inflating: flowers/daisy/12891819633_e4c82b51e8.jpg  
  inflating: flowers/daisy/1299501272_59d9da5510_n.jpg  
  inflating: flowers/daisy/1306119996_ab8ae14d72_n.jpg  
  inflating: flowers/daisy/1314069875_da8dc023c6_m.jpg  
  inflating: flowers/daisy/1342002397_9503c97b49.jpg  
  inflating: flowers/daisy/134409839_71069a95d1_m.jpg  
  inflating: flowers/daisy/1344985627_c3115e2d71_n.jpg  
  inflating: flowers/daisy/13491959645_2cd9df44d6_n.jpg  
  inflating: flowers/daisy/1354396826_2868631432_m.jpg  
  inflating: flowers/daisy/1355787476_32e9f2a30b.jpg  
  inflating: flowers/daisy/13583238844_573df2de8e_m.jpg  
  inflating: flowers/daisy/1374193928_a52320eafa.jpg  
  inflating: flowers/daisy/13826249325_f61cb15f86_n.jpg  
  inflating: flowers/daisy/13901930939_a7733c03f0_n.jpg  
  inflating: flowers/daisy/1392131677_116ec04751.jpg  
  inflating: flowers/daisy/1392946544_115acbb2d9.jpg  
  inflating: flowers/daisy/13953307149_f8de6a768c_m.jpg  
  inflating: flowers/daisy/1396526833_fb867165be_n.jpg  
  inflating: flowers/daisy/13977181862_f8237b6b52.jpg  
  inflating: flowers/daisy/14021430525_e06baf93a9.jpg  
  inflating: flowers/daisy/14073784469_ffb12f3387_n.jpg  
  inflating: flowers/daisy/14087947408_9779257411_n.jpg  
  inflating: flowers/daisy/14088053307_1a13a0bf91_n.jpg  
  inflating: flowers/daisy/14114116486_0bb6649bc1_m.jpg  
  inflating: flowers/daisy/14147016029_8d3cf2414e.jpg  
  inflating: flowers/daisy/14163875973_467224aaf5_m.jpg  
  inflating: flowers/daisy/14167534527_781ceb1b7a_n.jpg  
  inflating: flowers/daisy/14167543177_cd36b54ac6_n.jpg  
  inflating: flowers/daisy/14219214466_3ca6104eae_m.jpg  
  inflating: flowers/daisy/14221836990_90374e6b34.jpg  
  inflating: flowers/daisy/14221848160_7f0a37c395.jpg  
  inflating: flowers/daisy/14245834619_153624f836.jpg  
  inflating: flowers/daisy/14264136211_9531fbc144.jpg  
  inflating: flowers/daisy/14272874304_47c0a46f5a.jpg  
  inflating: flowers/daisy/14307766919_fac3c37a6b_m.jpg  
  inflating: flowers/daisy/14330343061_99478302d4_m.jpg  
  inflating: flowers/daisy/14332947164_9b13513c71_m.jpg  
  inflating: flowers/daisy/14333681205_a07c9f1752_m.jpg  
  inflating: flowers/daisy/14350958832_29bdd3a254.jpg  
  inflating: flowers/daisy/14354051035_1037b30421_n.jpg  
  inflating: flowers/daisy/14372713423_61e2daae88.jpg  
  inflating: flowers/daisy/14399435971_ea5868c792.jpg  
  inflating: flowers/daisy/14402451388_56545a374a_n.jpg  
  inflating: flowers/daisy/144076848_57e1d662e3_m.jpg  
  inflating: flowers/daisy/144099102_bf63a41e4f_n.jpg  
  inflating: flowers/daisy/1441939151_b271408c8d_n.jpg  
  inflating: flowers/daisy/14421389519_d5fd353eb4.jpg  
  inflating: flowers/daisy/144603918_b9de002f60_m.jpg  
  inflating: flowers/daisy/14471433500_cdaa22e3ea_m.jpg  
  inflating: flowers/daisy/14485782498_fb342ec301.jpg  
  inflating: flowers/daisy/14507818175_05219b051c_m.jpg  
  inflating: flowers/daisy/14523675369_97c31d0b5b.jpg  
  inflating: flowers/daisy/14551098743_2842e7a004_n.jpg  
  inflating: flowers/daisy/14554906452_35f066ffe9_n.jpg  
  inflating: flowers/daisy/14564545365_1f1d267bf1_n.jpg  
  inflating: flowers/daisy/14569895116_32f0dcb0f9.jpg  
  inflating: flowers/daisy/14591326135_930703dbed_m.jpg  
  inflating: flowers/daisy/14600779226_7bbc288d40_m.jpg  
  inflating: flowers/daisy/14613443462_d4ed356201.jpg  
  inflating: flowers/daisy/14621687774_ec52811acd_n.jpg  
  inflating: flowers/daisy/14674743211_f68b13f6d9.jpg  
  inflating: flowers/daisy/14698531521_0c2f0c6539.jpg  
  inflating: flowers/daisy/147068564_32bb4350cc.jpg  
  inflating: flowers/daisy/14707111433_cce08ee007.jpg  
  inflating: flowers/daisy/14716799982_ed6d626a66.jpg  
  inflating: flowers/daisy/14816364517_2423021484_m.jpg  
  inflating: flowers/daisy/14866200659_6462c723cb_m.jpg  
  inflating: flowers/daisy/14907815010_bff495449f.jpg  
  inflating: flowers/daisy/14921511479_7b0a647795.jpg  
  inflating: flowers/daisy/15029936576_8d6f96c72c_n.jpg  
  inflating: flowers/daisy/15100730728_a450c5f422_n.jpg  
  inflating: flowers/daisy/15207766_fc2f1d692c_n.jpg  
  inflating: flowers/daisy/15306268004_4680ba95e1.jpg  
  inflating: flowers/daisy/153210866_03cc9f2f36.jpg  
  inflating: flowers/daisy/15327813273_06cdf42210.jpg  
  inflating: flowers/daisy/154332674_453cea64f4.jpg  
  inflating: flowers/daisy/15760153042_a2a90e9da5_m.jpg  
  inflating: flowers/daisy/15760811380_4d686c892b_n.jpg  
  inflating: flowers/daisy/15784493690_b1858cdb2b_n.jpg  
  inflating: flowers/daisy/15813862117_dedcd1c56f_m.jpg  
  inflating: flowers/daisy/15853110333_229c439e7f.jpg  
  inflating: flowers/daisy/158869618_f1a6704236_n.jpg  
  inflating: flowers/daisy/16020253176_60f2a6a5ca_n.jpg  
  inflating: flowers/daisy/16025261368_911703a536_n.jpg  
  inflating: flowers/daisy/16056178001_bebc2153fe_n.jpg  
  inflating: flowers/daisy/16121105382_b96251e506_m.jpg  
  inflating: flowers/daisy/16161045294_70c76ce846_n.jpg  
  inflating: flowers/daisy/162362896_99c7d851c8_n.jpg  
  inflating: flowers/daisy/162362897_1d21b70621_m.jpg  
  inflating: flowers/daisy/16291797949_a1b1b7c2bd_n.jpg  
  inflating: flowers/daisy/16323838000_3818bce5c6_n.jpg  
  inflating: flowers/daisy/16360180712_b72695928c_n.jpg  
  inflating: flowers/daisy/163978992_8128b49d3e_n.jpg  
  inflating: flowers/daisy/16401288243_36112bd52f_m.jpg  
  inflating: flowers/daisy/16482676953_5296227d40_n.jpg  
  inflating: flowers/daisy/16492248512_61a57dfec1_m.jpg  
  inflating: flowers/daisy/16527403771_2391f137c4_n.jpg  
  inflating: flowers/daisy/16577886423_9b23622f1d_n.jpg  
  inflating: flowers/daisy/16737503507_431768a927.jpg  
  inflating: flowers/daisy/16819071290_471d99e166_m.jpg  
  inflating: flowers/daisy/16833748795_b681b2839f_n.jpg  
  inflating: flowers/daisy/169371301_d9b91a2a42.jpg  
  inflating: flowers/daisy/17027891179_3edc08f4f6.jpg  
  inflating: flowers/daisy/17101762155_2577a28395.jpg  
  inflating: flowers/daisy/171972704_389cf7a953.jpg  
  inflating: flowers/daisy/17249393016_093e915012_n.jpg  
  inflating: flowers/daisy/172882635_4cc7b86731_m.jpg  
  inflating: flowers/daisy/17357636476_1953c07aa4_n.jpg  
  inflating: flowers/daisy/174131220_c853df1287.jpg  
  inflating: flowers/daisy/175106495_53ebdef092_n.jpg  
  inflating: flowers/daisy/176375506_201859bb92_m.jpg  
  inflating: flowers/daisy/17821980772_35164ae1e8_n.jpg  
  inflating: flowers/daisy/18023717391_e2c9089e10.jpg  
  inflating: flowers/daisy/181007802_7cab5ee78e_n.jpg  
  inflating: flowers/daisy/18195689904_46619b7e16_n.jpg  
  inflating: flowers/daisy/18203367608_07a04e98a4_n.jpg  
  inflating: flowers/daisy/18354545086_693ea7bc2a.jpg  
  inflating: flowers/daisy/18400014056_2e4c601ed5.jpg  
  inflating: flowers/daisy/18442919723_d1251d3e14_n.jpg  
  inflating: flowers/daisy/18474740346_ffdaa18032.jpg  
  inflating: flowers/daisy/18582579815_4c6637e9ff_m.jpg  
  inflating: flowers/daisy/18622672908_eab6dc9140_n.jpg  
  inflating: flowers/daisy/18635898912_eb8e058ef0.jpg  
  inflating: flowers/daisy/18679421522_3be9879e32.jpg  
  inflating: flowers/daisy/18684594849_7dd3634f5e_n.jpg  
  inflating: flowers/daisy/18711159980_11d3bd5042.jpg  
  inflating: flowers/daisy/1879567877_8ed2a5faa7_n.jpg  
  inflating: flowers/daisy/18901817451_43e2b45f6c.jpg  
  inflating: flowers/daisy/19019544592_b64469bf84_n.jpg  
  inflating: flowers/daisy/19177263840_6a316ea639.jpg  
  inflating: flowers/daisy/19178753159_a471bf4b6b.jpg  
  inflating: flowers/daisy/19280272025_57de24e940_m.jpg  
  inflating: flowers/daisy/19527362416_8bdcbefb8b_n.jpg  
  inflating: flowers/daisy/19544831049_0d738d4872_m.jpg  
  inflating: flowers/daisy/1955336401_fbb206d6ef_n.jpg  
  inflating: flowers/daisy/19653086178_28156b7ce4_m.jpg  
  inflating: flowers/daisy/19813618946_93818db7aa_m.jpg  
  inflating: flowers/daisy/19834392829_7d697871f6.jpg  
  inflating: flowers/daisy/19865728236_a62f8f445b_n.jpg  
  inflating: flowers/daisy/19975899671_ebc42b7865_n.jpg  
  inflating: flowers/daisy/2001380507_19488ff96a_n.jpg  
  inflating: flowers/daisy/20182559506_40a112f762.jpg  
  inflating: flowers/daisy/2019064575_7656b9340f_m.jpg  
  inflating: flowers/daisy/20289938802_e16fa9f23d.jpg  
  inflating: flowers/daisy/20329326505_a777c71cc2.jpg  
  inflating: flowers/daisy/2045022175_ad087f5f60_n.jpg  
  inflating: flowers/daisy/2057816617_18448093d0_n.jpg  
  inflating: flowers/daisy/20580471306_ab5a011b15_n.jpg  
  inflating: flowers/daisy/20619292635_9857a12d54.jpg  
  inflating: flowers/daisy/20685027271_0e7306e7c1_n.jpg  
  inflating: flowers/daisy/20703737132_179560d0fb.jpg  
  inflating: flowers/daisy/20773528301_008fcbc5a1_n.jpg  
  inflating: flowers/daisy/2077865117_9ed85191ae_n.jpg  
  inflating: flowers/daisy/2087343668_ef4fb95787_n.jpg  
  inflating: flowers/daisy/20948886919_cac7844f34_n.jpg  
  inflating: flowers/daisy/21402054779_759366efb0_n.jpg  
  inflating: flowers/daisy/21626652132_97e1318bb8_m.jpg  
  inflating: flowers/daisy/21652746_cc379e0eea_m.jpg  
  inflating: flowers/daisy/21805938544_bf6bb0e4bc.jpg  
  inflating: flowers/daisy/2213954589_c7da4b1486.jpg  
  inflating: flowers/daisy/22244161124_53e457bb66_n.jpg  
  inflating: flowers/daisy/22873310415_3a5674ec10_m.jpg  
  inflating: flowers/daisy/23095658544_7226386954_n.jpg  
  inflating: flowers/daisy/2331133004_582772d58f_m.jpg  
  inflating: flowers/daisy/2346726545_2ebce2b2a6.jpg  
  inflating: flowers/daisy/2349640101_212c275aa7.jpg  
  inflating: flowers/daisy/2365428551_39f83f10bf_n.jpg  
  inflating: flowers/daisy/2408024540_37f0be7cc0_n.jpg  
  inflating: flowers/daisy/2454280135_ac3aa75cdc_n.jpg  
  inflating: flowers/daisy/2454280137_e1637536ae_n.jpg  
  inflating: flowers/daisy/2473825306_62fd5f8785_n.jpg  
  inflating: flowers/daisy/2476937534_21b285aa46_n.jpg  
  inflating: flowers/daisy/2479956481_8d1a9699be_n.jpg  
  inflating: flowers/daisy/2480569557_f4e1f0dcb8_n.jpg  
  inflating: flowers/daisy/2481823240_eab0d86921.jpg  
  inflating: flowers/daisy/2482982436_a2145359e0_n.jpg  
  inflating: flowers/daisy/2488902131_3417698611_n.jpg  
  inflating: flowers/daisy/2498632196_e47a472d5a.jpg  
  inflating: flowers/daisy/2509545845_99e79cb8a2_n.jpg  
  inflating: flowers/daisy/2511306240_9047015f2d_n.jpg  
  inflating: flowers/daisy/2513618768_ff7c004796_m.jpg  
  inflating: flowers/daisy/2514748602_343d4727c0_n.jpg  
  inflating: flowers/daisy/2520369272_1dcdb5a892_m.jpg  
  inflating: flowers/daisy/2521408074_e6f86daf21_n.jpg  
  inflating: flowers/daisy/25360380_1a881a5648.jpg  
  inflating: flowers/daisy/2536529152_33ef3ee078_n.jpg  
  inflating: flowers/daisy/2538504987_fe524b92a8_n.jpg  
  inflating: flowers/daisy/2539552964_921cf645ba_n.jpg  
  inflating: flowers/daisy/2561352120_7961d8263f.jpg  
  inflating: flowers/daisy/2561371688_c80a4fe957_n.jpg  
  inflating: flowers/daisy/2567033807_8e918c53d8_n.jpg  
  inflating: flowers/daisy/2573240560_ff7ffdd449.jpg  
  inflating: flowers/daisy/2578695910_5ab8ee17c1_n.jpg  
  inflating: flowers/daisy/2579018590_74359dcf1a_m.jpg  
  inflating: flowers/daisy/2581171297_b0a249b92b_n.jpg  
  inflating: flowers/daisy/2590291468_2635d3e4e0_n.jpg  
  inflating: flowers/daisy/2599662355_7782218c83.jpg  
  inflating: flowers/daisy/2607132536_d95198e619_n.jpg  
  inflating: flowers/daisy/2611119198_9d46b94392.jpg  
  inflating: flowers/daisy/2612704455_efce1c2144_m.jpg  
  inflating: flowers/daisy/2617111535_54c2ac8462.jpg  
  inflating: flowers/daisy/2619413565_61a6cd3ac9_m.jpg  
  inflating: flowers/daisy/2621723097_736febb4a4_n.jpg  
  inflating: flowers/daisy/2627815904_919373e7f5.jpg  
  inflating: flowers/daisy/2632216904_274aa17433.jpg  
  inflating: flowers/daisy/2635314490_e12d3b0f36_m.jpg  
  inflating: flowers/daisy/2641979584_2b21c3fe29_m.jpg  
  inflating: flowers/daisy/2642408410_61545fdc83_n.jpg  
  inflating: flowers/daisy/2646438199_b309cffd65_n.jpg  
  inflating: flowers/daisy/2649404904_b7a91991bb_n.jpg  
  inflating: flowers/daisy/2666572212_2caca8de9f_n.jpg  
  inflating: flowers/daisy/2713919471_301fcc941f.jpg  
  inflating: flowers/daisy/27400851831_fe08fbcb66_n.jpg  
  inflating: flowers/daisy/28056118836_77a6847d94_n.jpg  
  inflating: flowers/daisy/2812442552_3eed5fb9f2_m.jpg  
  inflating: flowers/daisy/2828733818_1c1ed0089d_n.jpg  
  inflating: flowers/daisy/2838487505_6c3b48efa5_m.jpg  
  inflating: flowers/daisy/2862944799_45bc8e7302.jpg  
  inflating: flowers/daisy/286875003_f7c0e1882d.jpg  
  inflating: flowers/daisy/2877860110_a842f8b14a_m.jpg  
  inflating: flowers/daisy/2889325612_f2fc403ff0_m.jpg  
  inflating: flowers/daisy/2901376034_cdb4bac26b_m.jpg  
  inflating: flowers/daisy/2908212142_5437fa67ff_n.jpg  
  inflating: flowers/daisy/29380234244_c50a60374e_n.jpg  
  inflating: flowers/daisy/294451721_5106537b34.jpg  
  inflating: flowers/daisy/29821115270_eccd3866e1_n.jpg  
  inflating: flowers/daisy/299129811_d6ebda9970.jpg  
  inflating: flowers/daisy/30001711132_eb0fd7b04c_n.jpg  
  inflating: flowers/daisy/301964511_fab84ea1c1.jpg  
  inflating: flowers/daisy/3025866885_22fb0b61c6_n.jpg  
  inflating: flowers/daisy/302782756_d35cb3e468.jpg  
  inflating: flowers/daisy/305160642_53cde0f44f.jpg  
  inflating: flowers/daisy/3080880039_4f1bd592e5_n.jpg  
  inflating: flowers/daisy/3084924076_4d5c5711af_m.jpg  
  inflating: flowers/daisy/3098641292_76c908ba1f_n.jpg  
  inflating: flowers/daisy/3117644024_1cbb59a509_n.jpg  
  inflating: flowers/daisy/3196066025_d187108070_n.jpg  
  inflating: flowers/daisy/3275951182_d27921af97_n.jpg  
  inflating: flowers/daisy/3285641623_da0e47f49a.jpg  
  inflating: flowers/daisy/3310644753_5607eb96a4_m.jpg  
  inflating: flowers/daisy/3326037909_b5ae370722_n.jpg  
  inflating: flowers/daisy/3336704121_cfeb67a7d7.jpg  
  inflating: flowers/daisy/3337536080_1db19964fe.jpg  
  inflating: flowers/daisy/3337643329_accc9b5426.jpg  
  inflating: flowers/daisy/3338077096_3a8ed0e2bc_m.jpg  
  inflating: flowers/daisy/3356112863_75da8bca2c_m.jpg  
  inflating: flowers/daisy/3379332157_04724f6480.jpg  
  inflating: flowers/daisy/33802431204_7c58f4e21b_n.jpg  
  inflating: flowers/daisy/33806101464_5eca772954_n.jpg  
  inflating: flowers/daisy/33807950584_f5b63715e4_n.jpg  
  inflating: flowers/daisy/33809174824_00ba798039_n.jpg  
  inflating: flowers/daisy/33809956124_b49dcddf8f_n.jpg  
  inflating: flowers/daisy/33810542134_a493f19a71_n.jpg  
  inflating: flowers/daisy/33814092924_b23d019011_n.jpg  
  inflating: flowers/daisy/33819069114_6ecc240b54_n.jpg  
  inflating: flowers/daisy/33822751084_c83a7abffd_n.jpg  
  inflating: flowers/daisy/33830843653_ee6d7989fa_n.jpg  
  inflating: flowers/daisy/33836936163_2dce95ee4d_n.jpg  
  inflating: flowers/daisy/33837577463_1ae52a3726_n.jpg  
  inflating: flowers/daisy/33838292353_8b143f7980_n.jpg  
  inflating: flowers/daisy/33839388103_79cb79f7bc_n.jpg  
  inflating: flowers/daisy/33843240613_0b736f9896_n.jpg  
  inflating: flowers/daisy/33843400403_db00aa16b8_n.jpg  
  inflating: flowers/daisy/33849854704_d2a2415e4d_n.jpg  
  inflating: flowers/daisy/33855966243_01b2486428_n.jpg  
  inflating: flowers/daisy/33857335804_7f0c96243b_n.jpg  
  inflating: flowers/daisy/33858238653_6549e21f53_n.jpg  
  inflating: flowers/daisy/33859244503_eeeca6a397_n.jpg  
  inflating: flowers/daisy/33863293993_3ed7515936_n.jpg  
  inflating: flowers/daisy/3386988684_bc5a66005e.jpg  
  inflating: flowers/daisy/33871813063_d7b6bedafe_n.jpg  
  inflating: flowers/daisy/33872893913_72d64a9b85_n.jpg  
  inflating: flowers/daisy/33874126263_3f6f965784_n.jpg  
  inflating: flowers/daisy/33879354664_615c72773d_n.jpg  
  inflating: flowers/daisy/33880234094_2541c9c83d_n.jpg  
  inflating: flowers/daisy/33884228533_91b75ff4d4_n.jpg  
  inflating: flowers/daisy/33885735373_444ba02d9c_n.jpg  
  inflating: flowers/daisy/33887503434_a2762228f4_n.jpg  
  inflating: flowers/daisy/33891398493_e0b6d7f683_n.jpg  
  inflating: flowers/daisy/33891703033_822f7810ce_n.jpg  
  inflating: flowers/daisy/33901756843_94e198d40e_n.jpg  
  inflating: flowers/daisy/33911247013_82a1acfcea_n.jpg  
  inflating: flowers/daisy/33918001783_06a692e371_n.jpg  
  inflating: flowers/daisy/33923454163_9cabcaa733_n.jpg  
  inflating: flowers/daisy/34076975155_1faeedec90_n.jpg  
  inflating: flowers/daisy/3410906335_37e8a24b1c_n.jpg  
  inflating: flowers/daisy/3415180846_d7b5cced14_m.jpg  
  inflating: flowers/daisy/34261196280_aa99186136_n.jpg  
  inflating: flowers/daisy/34266042310_9c1abd8e11_n.jpg  
  inflating: flowers/daisy/34266044490_01dacd2ac2_n.jpg  
  inflating: flowers/daisy/34275152390_44e7262261_n.jpg  
  inflating: flowers/daisy/34275662120_7757a15d07_n.jpg  
  inflating: flowers/daisy/34276373070_27ec2d2596_n.jpg  
  inflating: flowers/daisy/34283602490_b61f3da99d_n.jpg  
  inflating: flowers/daisy/34283646340_4fe48d1bb7_n.jpg  
  inflating: flowers/daisy/34287492780_6dab677857_n.jpg  
  inflating: flowers/daisy/34288158610_6e42406193_n.jpg  
  inflating: flowers/daisy/34289553800_606f1f2954_n.jpg  
  inflating: flowers/daisy/34293312980_5f6c492c52_n.jpg  
  inflating: flowers/daisy/34293871550_71d1e4d482_n.jpg  
  inflating: flowers/daisy/34295444880_b4376b3a8b_n.jpg  
  inflating: flowers/daisy/34300874850_923cc2881c_n.jpg  
  inflating: flowers/daisy/34310869690_56cdc84a17_n.jpg  
  inflating: flowers/daisy/34312496620_bc01a98aeb_n.jpg  
  inflating: flowers/daisy/34326606950_41ff8997d7_n.jpg  
  inflating: flowers/daisy/34326847400_f4de801005_n.jpg  
  inflating: flowers/daisy/34337108550_0b619aa726_n.jpg  
  inflating: flowers/daisy/34342014230_4230ae8e08_n.jpg  
  inflating: flowers/daisy/3440366251_5b9bdf27c9_m.jpg  
  inflating: flowers/daisy/34476770012_38fba290f3_n.jpg  
  inflating: flowers/daisy/34486116262_411e6991f4_n.jpg  
  inflating: flowers/daisy/34508227161_a9ff840f71_n.jpg  
  inflating: flowers/daisy/3450822975_7e77d67636_n.jpg  
  inflating: flowers/daisy/34510103621_250ee7ae64_n.jpg  
  inflating: flowers/daisy/34517409722_829ec7e152_n.jpg  
  inflating: flowers/daisy/34518066912_0e432507bc_n.jpg  
  inflating: flowers/daisy/34518374242_310e7abd54_n.jpg  
  inflating: flowers/daisy/34520690871_8fe693bc71_n.jpg  
  inflating: flowers/daisy/34520699571_f880744f46_n.jpg  
  inflating: flowers/daisy/34522174462_b7cbee3ecb_n.jpg  
  inflating: flowers/daisy/34524074031_e42b9b1acd_n.jpg  
  inflating: flowers/daisy/34524085651_1f0b7e9497_n.jpg  
  inflating: flowers/daisy/34530932101_957fab3650_n.jpg  
  inflating: flowers/daisy/34531542152_c8ba2e0fea_n.jpg  
  inflating: flowers/daisy/34532930772_5cc5fc600d_n.jpg  
  inflating: flowers/daisy/34539556222_f7ba32f704_n.jpg  
  inflating: flowers/daisy/34540113401_b81594e92a_n.jpg  
  inflating: flowers/daisy/34540176411_a35a19a8ef_n.jpg  
  inflating: flowers/daisy/34542837641_10492bf600_n.jpg  
  inflating: flowers/daisy/34543119581_1fb7e0bd7f_n.jpg  
  inflating: flowers/daisy/34546791291_eb8e15e18a_n.jpg  
  inflating: flowers/daisy/34546994701_a000b283f1_n.jpg  
  inflating: flowers/daisy/34547261352_d39bf4073a_n.jpg  
  inflating: flowers/daisy/34554334542_7d8f68a75c_n.jpg  
  inflating: flowers/daisy/34562146951_cf3d2a627c_n.jpg  
  inflating: flowers/daisy/3456403987_5bd5fa6ece_n.jpg  
  inflating: flowers/daisy/34566613262_fefbcc279a_n.jpg  
  inflating: flowers/daisy/34571214621_f655295459_n.jpg  
  inflating: flowers/daisy/34585331601_837dbe5254_n.jpg  
  inflating: flowers/daisy/34585995071_13e07140d8_n.jpg  
  inflating: flowers/daisy/34590677231_0ed33ccd55_n.jpg  
  inflating: flowers/daisy/34591991761_16fc5c9c00_n.jpg  
  inflating: flowers/daisy/34602180741_cf2f671ba5_n.jpg  
  inflating: flowers/daisy/34611565966_9de274f987_n.jpg  
  inflating: flowers/daisy/34613530216_26cf037012_n.jpg  
  inflating: flowers/daisy/3463313493_9497aa47e5_n.jpg  
  inflating: flowers/daisy/34637394046_f85541735d_n.jpg  
  inflating: flowers/daisy/34637970155_a2b917077c_n.jpg  
  inflating: flowers/daisy/34638378196_216d5bbc2e_n.jpg  
  inflating: flowers/daisy/34643914016_2e659d6e82_n.jpg  
  inflating: flowers/daisy/34652819496_0b6f758986_n.jpg  
  inflating: flowers/daisy/34658035045_7782e95b50_n.jpg  
  inflating: flowers/daisy/34661399476_9ea7e2fd53_n.jpg  
  inflating: flowers/daisy/34664107325_701d5c6f08_n.jpg  
  inflating: flowers/daisy/34665595995_13f76d5b60_n.jpg  
  inflating: flowers/daisy/34670512115_af22cce24d_n.jpg  
  inflating: flowers/daisy/34682895116_88ef018e83_n.jpg  
  inflating: flowers/daisy/3468498624_d082f99e98.jpg  
  inflating: flowers/daisy/34693373736_9ce6d9e1c3_n.jpg  
  inflating: flowers/daisy/34695914906_961f92ffcd_n.jpg  
  inflating: flowers/daisy/34696729796_190b1dfdf1_n.jpg  
  inflating: flowers/daisy/34696730126_056ffea63c_n.jpg  
  inflating: flowers/daisy/34696730346_5f0c131e59_n.jpg  
  inflating: flowers/daisy/34701078235_4a770d14a1_n.jpg  
  inflating: flowers/daisy/34701198765_54aa641d7a_n.jpg  
  inflating: flowers/daisy/34718882165_68cdc9def9_n.jpg  
  inflating: flowers/daisy/34720703615_bdf1335d8b_n.jpg  
  inflating: flowers/daisy/34727863665_b00ac77266_n.jpg  
  inflating: flowers/daisy/34729724865_787c98299d_n.jpg  
  inflating: flowers/daisy/34733243845_29f1c30634_n.jpg  
  inflating: flowers/daisy/3474942718_c418dae6f1.jpg  
  inflating: flowers/daisy/3475870145_685a19116d.jpg  
  inflating: flowers/daisy/3483303007_42e3f90da7.jpg  
  inflating: flowers/daisy/3491933306_43cfe2cfbe.jpg  
  inflating: flowers/daisy/3494265422_9dba8f2191_n.jpg  
  inflating: flowers/daisy/3504430338_77d6a7fab4_n.jpg  
  inflating: flowers/daisy/3506866918_61dd5fc53b_n.jpg  
  inflating: flowers/daisy/3533954656_79156c8473.jpg  
  inflating: flowers/daisy/3546455114_cd2dea5e02.jpg  
  inflating: flowers/daisy/3552074420_2a0a7166db_m.jpg  
  inflating: flowers/daisy/3588872598_e0f9a1d2a1_m.jpg  
  inflating: flowers/daisy/3598615130_578ed30e5f.jpg  
  inflating: flowers/daisy/3611577717_f3a7a8c416_n.jpg  
  inflating: flowers/daisy/3625257860_33efeef614_m.jpg  
  inflating: flowers/daisy/3627678863_557552c879_m.jpg  
  inflating: flowers/daisy/3628485766_4ff937954a_n.jpg  
  inflating: flowers/daisy/3633489595_a037a9b7a4_m.jpg  
  inflating: flowers/daisy/3637428148_a1dcccafa9_n.jpg  
  inflating: flowers/daisy/3639009391_0f910681b7.jpg  
  inflating: flowers/daisy/3640845041_80a92c4205_n.jpg  
  inflating: flowers/daisy/3661613900_b15ca1d35d_m.jpg  
  inflating: flowers/daisy/367020749_3c9a652d75.jpg  
  inflating: flowers/daisy/3695826945_9f374e8a00_m.jpg  
  inflating: flowers/daisy/3699235066_fc09a02dfe_m.jpg  
  inflating: flowers/daisy/3703643767_dee82cdef9_n.jpg  
  inflating: flowers/daisy/3704305945_a80e60e2f6_m.jpg  
  inflating: flowers/daisy/3704306975_75b74497d8.jpg  
  inflating: flowers/daisy/3706420943_66f3214862_n.jpg  
  inflating: flowers/daisy/3711723108_65247a3170.jpg  
  inflating: flowers/daisy/3711892138_b8c953fdc1_z.jpg  
  inflating: flowers/daisy/3713290261_8a66de23ab.jpg  
  inflating: flowers/daisy/3717746329_53f515c6a6_m.jpg  
  inflating: flowers/daisy/3720632920_93cf1cc7f3_m.jpg  
  inflating: flowers/daisy/3750250718_eb61146c5f.jpg  
  inflating: flowers/daisy/3750771898_cfd50090ba_n.jpg  
  inflating: flowers/daisy/3758221664_b19116d61f.jpg  
  inflating: flowers/daisy/3764116502_f394428ee0_n.jpg  
  inflating: flowers/daisy/3773181799_5def396456.jpg  
  inflating: flowers/daisy/3780380240_ef9ec1b737_m.jpg  
  inflating: flowers/daisy/3848258315_ed2fde4fb4.jpg  
  inflating: flowers/daisy/3861452393_14d2f95157_m.jpg  
  inflating: flowers/daisy/3900172983_9312fdf39c_n.jpg  
  inflating: flowers/daisy/3939135368_0af5c4982a_n.jpg  
  inflating: flowers/daisy/3957488431_52a447c0e8_m.jpg  
  inflating: flowers/daisy/3962240986_0661edc43a_n.jpg  
  inflating: flowers/daisy/3963330924_6c6a3fa7be_n.jpg  
  inflating: flowers/daisy/3975010332_3209f9f447_m.jpg  
  inflating: flowers/daisy/3999978867_c67c79597f_m.jpg  
  inflating: flowers/daisy/4065883015_4bb6010cb7_n.jpg  
  inflating: flowers/daisy/4085794721_7cd88e0a6c_m.jpg  
  inflating: flowers/daisy/4117918318_3c8935289b_m.jpg  
  inflating: flowers/daisy/4131565290_0585c4dd5a_n.jpg  
  inflating: flowers/daisy/413815348_764ae83088.jpg  
  inflating: flowers/daisy/4141147800_813f660b47.jpg  
  inflating: flowers/daisy/4144275653_7c02d47d9b.jpg  
  inflating: flowers/daisy/422094774_28acc69a8b_n.jpg  
  inflating: flowers/daisy/4222584034_8964cbd3de.jpg  
  inflating: flowers/daisy/4229503616_9b8a42123c_n.jpg  
  inflating: flowers/daisy/4258408909_b7cc92741c_m.jpg  
  inflating: flowers/daisy/4268817944_cdbdb226ae.jpg  
  inflating: flowers/daisy/4276898893_609d11db8b.jpg  
  inflating: flowers/daisy/4278442064_a5a598524b_m.jpg  
  inflating: flowers/daisy/4281102584_c548a69b81_m.jpg  
  inflating: flowers/daisy/4286053334_a75541f20b_m.jpg  
  inflating: flowers/daisy/4301689054_20519e5b68.jpg  
  inflating: flowers/daisy/4318007511_e9f4311936_n.jpg  
  inflating: flowers/daisy/4333085242_bbeb3e2841_m.jpg  
  inflating: flowers/daisy/43474673_7bb4465a86.jpg  
  inflating: flowers/daisy/435283392_72e4c5b5d6_m.jpg  
  inflating: flowers/daisy/437859108_173fb33c98.jpg  
  inflating: flowers/daisy/4407065098_ef25f1ccac_n.jpg  
  inflating: flowers/daisy/4413849849_b8d2f3bcf1_n.jpg  
  inflating: flowers/daisy/4432271543_01c56ca3a9.jpg  
  inflating: flowers/daisy/4434592930_6610d51fca_m.jpg  
  inflating: flowers/daisy/4440480869_632ce6aff3_n.jpg  
  inflating: flowers/daisy/446484749_4044affcaf_n.jpg  
  inflating: flowers/daisy/4482623536_b9fb5ae41f_n.jpg  
  inflating: flowers/daisy/4496202781_1d8e776ff5_n.jpg  
  inflating: flowers/daisy/450128527_fd35742d44.jpg  
  inflating: flowers/daisy/4511693548_20f9bd2b9c_m.jpg  
  inflating: flowers/daisy/4534460263_8e9611db3c_n.jpg  
  inflating: flowers/daisy/4538877108_3c793f7987_m.jpg  
  inflating: flowers/daisy/4540555191_3254dc4608_n.jpg  
  inflating: flowers/daisy/4544110929_a7de65d65f_n.jpg  
  inflating: flowers/daisy/4561871220_47f420ca59_m.jpg  
  inflating: flowers/daisy/4563059851_45a9d21a75.jpg  
  inflating: flowers/daisy/4565255237_9ba29c4d4e_n.jpg  
  inflating: flowers/daisy/4581199679_867652c3f1_n.jpg  
  inflating: flowers/daisy/4584890753_14ea24a619_n.jpg  
  inflating: flowers/daisy/4598422221_b37313a3e3_n.jpg  
  inflating: flowers/daisy/4610018126_21f438d2dc_m.jpg  
  inflating: flowers/daisy/4613992315_143ccc2a10_m.jpg  
  inflating: flowers/daisy/4654579740_6671a53627_m.jpg  
  inflating: flowers/daisy/4657354814_f368762c53_m.jpg  
  inflating: flowers/daisy/4666648087_b10f376f19.jpg  
  inflating: flowers/daisy/4668543441_79040ca329_n.jpg  
  inflating: flowers/daisy/4669117051_ce61e91b76.jpg  
  inflating: flowers/daisy/4683997791_56e7d3c03c_n.jpg  
  inflating: flowers/daisy/4694730335_2553e77aa5_z.jpg  
  inflating: flowers/daisy/4694734757_5c563d38dd_n.jpg  
  inflating: flowers/daisy/4697206799_19dd2a3193_m.jpg  
  inflating: flowers/daisy/4724713781_d169f98a35.jpg  
  inflating: flowers/daisy/4727955343_0bb23ac4ae.jpg  
  inflating: flowers/daisy/4733590002_f6a70b4f48_n.jpg  
  inflating: flowers/daisy/4746633946_23933c0810.jpg  
  inflating: flowers/daisy/4753134939_8e87649db6.jpg  
  inflating: flowers/daisy/4757448834_a29a9538c9_n.jpg  
  inflating: flowers/daisy/476856232_7c35952f40_n.jpg  
  inflating: flowers/daisy/476857510_d2b30175de_n.jpg  
  inflating: flowers/daisy/4785888250_b661eac225_n.jpg  
  inflating: flowers/daisy/4790631791_21e9648097_n.jpg  
  inflating: flowers/daisy/4792826628_aa5e5a9804_n.jpg  
  inflating: flowers/daisy/4814515275_6e25a6c18f.jpg  
  inflating: flowers/daisy/4820415253_15bc3b6833_n.jpg  
  inflating: flowers/daisy/4837182901_69a6cc782b_n.jpg  
  inflating: flowers/daisy/4851353993_2cbbbd1040_n.jpg  
  inflating: flowers/daisy/4858518329_7563eb0baa_m.jpg  
  inflating: flowers/daisy/4861391074_c3e122dab0_m.jpg  
  inflating: flowers/daisy/4865691548_00319261b8.jpg  
  inflating: flowers/daisy/488202750_c420cbce61.jpg  
  inflating: flowers/daisy/4890424315_6a59696357_n.jpg  
  inflating: flowers/daisy/4897587985_f9293ea1ed.jpg  
  inflating: flowers/daisy/4923279674_e7f8e70794_n.jpg  
  inflating: flowers/daisy/495098110_3a4bb30042_n.jpg  
  inflating: flowers/daisy/4955671608_8d3862db05_n.jpg  
  inflating: flowers/daisy/498159452_b71afd65ba.jpg  
  inflating: flowers/daisy/4993492878_11fd4f5d12.jpg  
  inflating: flowers/daisy/5014137563_d03eb0ed75_n.jpg  
  inflating: flowers/daisy/5054771689_00dd40b971_n.jpg  
  inflating: flowers/daisy/5058708968_8bdcd29e63_n.jpg  
  inflating: flowers/daisy/506018088_4f7a15a7c5_n.jpg  
  inflating: flowers/daisy/506348009_9ecff8b6ef.jpg  
  inflating: flowers/daisy/5087720485_c0914fb623.jpg  
  inflating: flowers/daisy/510844526_858b8fe4db.jpg  
  inflating: flowers/daisy/5109508979_68e3530791_m.jpg  
  inflating: flowers/daisy/5110105726_53eb7a93be_m.jpg  
  inflating: flowers/daisy/5110107234_12ddc0206b_m.jpg  
  inflating: flowers/daisy/5110109540_beed4ed162_m.jpg  
  inflating: flowers/daisy/5110110938_9da91455c4_m.jpg  
  inflating: flowers/daisy/512177035_70afc925c8.jpg  
  inflating: flowers/daisy/512477177_d9004cbcf1_n.jpg  
  inflating: flowers/daisy/5133243796_44de429de5_m.jpg  
  inflating: flowers/daisy/5135131051_102d4878ca_n.jpg  
  inflating: flowers/daisy/515112668_a49c69455a.jpg  
  inflating: flowers/daisy/517054463_036db655a1_m.jpg  
  inflating: flowers/daisy/519880292_7a3a6c6b69.jpg  
  inflating: flowers/daisy/520752848_4b87fb91a4.jpg  
  inflating: flowers/daisy/521762040_f26f2e08dd.jpg  
  inflating: flowers/daisy/525271784_013ddccd1b_m.jpg  
  inflating: flowers/daisy/525780443_bba812c26a_m.jpg  
  inflating: flowers/daisy/530738000_4df7e4786b.jpg  
  inflating: flowers/daisy/534547364_3f6b7279d2_n.jpg  
  inflating: flowers/daisy/538920244_59899a78f8_n.jpg  
  inflating: flowers/daisy/5434742166_35773eba57_m.jpg  
  inflating: flowers/daisy/5434901893_4550be3f84_m.jpg  
  inflating: flowers/daisy/5434913005_409c1e8b56_n.jpg  
  inflating: flowers/daisy/5434914569_e9b982fde0_n.jpg  
  inflating: flowers/daisy/5435513198_90ce39f1aa_n.jpg  
  inflating: flowers/daisy/5435521200_92029bbe2b_n.jpg  
  inflating: flowers/daisy/5435522104_1d6a61b431_n.jpg  
  inflating: flowers/daisy/54377391_15648e8d18.jpg  
  inflating: flowers/daisy/5459481183_18d2d49e44_m.jpg  
  inflating: flowers/daisy/5512287917_9f5d3f0f98_n.jpg  
  inflating: flowers/daisy/5547758_eea9edfd54_n.jpg  
  inflating: flowers/daisy/5561775629_a2b709b3a4_n.jpg  
  inflating: flowers/daisy/5574421625_61b1f49b3f_m.jpg  
  inflating: flowers/daisy/5577555349_2e8490259b.jpg  
  inflating: flowers/daisy/5586977262_6b24412805_n.jpg  
  inflating: flowers/daisy/5602738326_97121e007d_n.jpg  
  inflating: flowers/daisy/5608389827_a42a46f760.jpg  
  inflating: flowers/daisy/5623010186_796ca8d29a.jpg  
  inflating: flowers/daisy/5626784099_b36dd3fb11_n.jpg  
  inflating: flowers/daisy/5626895440_97a0ec04c2_n.jpg  
  inflating: flowers/daisy/5632774792_0fa33d17eb_n.jpg  
  inflating: flowers/daisy/5665834973_76bd6c6523_m.jpg  
  inflating: flowers/daisy/5665838969_fe217988b9_m.jpg  
  inflating: flowers/daisy/5673551_01d1ea993e_n.jpg  
  inflating: flowers/daisy/5673728_71b8cb57eb.jpg  
  inflating: flowers/daisy/5679288570_b4c52e76d5.jpg  
  inflating: flowers/daisy/5684911529_88a7ae32ba_n.jpg  
  inflating: flowers/daisy/5693459303_e61d9a9533.jpg  
  inflating: flowers/daisy/5700781400_65761f3fce.jpg  
  inflating: flowers/daisy/5714327423_50af0cffe9.jpg  
  inflating: flowers/daisy/5722473541_ffac1ae67e_n.jpg  
  inflating: flowers/daisy/5739768868_9f982684f9_n.jpg  
  inflating: flowers/daisy/5740004086_690a1eef85_n.jpg  
  inflating: flowers/daisy/5765646947_82e95a9cc9_n.jpg  
  inflating: flowers/daisy/5769217520_c90efc3c93_m.jpg  
  inflating: flowers/daisy/5773652803_574b51414f_n.jpg  
  inflating: flowers/daisy/5794835_d15905c7c8_n.jpg  
  inflating: flowers/daisy/5794839_200acd910c_n.jpg  
  inflating: flowers/daisy/5795159787_ebb51a5e75.jpg  
  inflating: flowers/daisy/5796562389_ae43c83317_m.jpg  
  inflating: flowers/daisy/5809489674_5659b3ae5d_n.jpg  
  inflating: flowers/daisy/5811226952_4650ed70ae_n.jpg  
  inflating: flowers/daisy/5853276960_d08f90fff6.jpg  
  inflating: flowers/daisy/5869147563_66fb88119d.jpg  
  inflating: flowers/daisy/5874818796_3efbb8769d.jpg  
  inflating: flowers/daisy/5876455546_32049e5585.jpg  
  inflating: flowers/daisy/5881907044_92a85a05c8_n.jpg  
  inflating: flowers/daisy/5883162120_dc7274af76_n.jpg  
  inflating: flowers/daisy/5884807222_22f5326ba8_m.jpg  
  inflating: flowers/daisy/5885826924_38fdc6bcaa_n.jpg  
  inflating: flowers/daisy/5896103923_075a988bed_n.jpg  
  inflating: flowers/daisy/5896105367_fa08a65869_n.jpg  
  inflating: flowers/daisy/5896110423_e084b33401_n.jpg  
  inflating: flowers/daisy/5896674046_a4879f718e_n.jpg  
  inflating: flowers/daisy/5896675418_e6ff20a739_n.jpg  
  inflating: flowers/daisy/5896676090_68bb74b1e9_n.jpg  
  inflating: flowers/daisy/5896679822_5f60d35c33_n.jpg  
  inflating: flowers/daisy/5896680664_641de2de5a_n.jpg  
  inflating: flowers/daisy/5904946193_bd1eb1f39d_n.jpg  
  inflating: flowers/daisy/5905502226_bb23bd8fa0_n.jpg  
  inflating: flowers/daisy/5905504340_1d60fa9611_n.jpg  
  inflating: flowers/daisy/5924910021_b6debeb7b5_n.jpg  
  inflating: flowers/daisy/5944315415_2be8abeb2f_m.jpg  
  inflating: flowers/daisy/5948835387_5a98d39eff_m.jpg  
  inflating: flowers/daisy/5973488341_50bdf6cee3_n.jpg  
  inflating: flowers/daisy/5973491805_556bba93cc.jpg  
  inflating: flowers/daisy/5981645737_29eceac291_m.jpg  
  inflating: flowers/daisy/5997702776_c7bc37aa6b_n.jpg  
  inflating: flowers/daisy/6046940312_8faf552f3e_n.jpg  
  inflating: flowers/daisy/6054952060_c88612f3c5_n.jpg  
  inflating: flowers/daisy/6089825811_80f253fbe1.jpg  
  inflating: flowers/daisy/6095817094_3a5b1d793d.jpg  
  inflating: flowers/daisy/6136947177_47ff445eb4_n.jpg  
  inflating: flowers/daisy/6148728633_27afc47b0c_m.jpg  
  inflating: flowers/daisy/6207492986_0ff91f3296.jpg  
  inflating: flowers/daisy/6208851904_9d916ebb32_n.jpg  
  inflating: flowers/daisy/6210664514_f1d211217a.jpg  
  inflating: flowers/daisy/6299498346_b9774b6500.jpg  
  inflating: flowers/daisy/6299910262_336309ffa5_n.jpg  
  inflating: flowers/daisy/6323721068_3d3394af6d_n.jpg  
  inflating: flowers/daisy/6480809573_76a0074b69_n.jpg  
  inflating: flowers/daisy/6480809771_b1e14c5cc2_m.jpg  
  inflating: flowers/daisy/6529588249_d9cbe68aab_n.jpg  
  inflating: flowers/daisy/6596277835_9f86da54bb.jpg  
  inflating: flowers/daisy/676120388_28f03069c3.jpg  
  inflating: flowers/daisy/6776075110_1ea7a09dd4_n.jpg  
  inflating: flowers/daisy/6864242336_0d12713fe5_n.jpg  
  inflating: flowers/daisy/6884975451_c74f445d69_m.jpg  
  inflating: flowers/daisy/6910811638_aa6f17df23.jpg  
  inflating: flowers/daisy/6950173662_5e9473003e_n.jpg  
  inflating: flowers/daisy/695778683_890c46ebac.jpg  
  inflating: flowers/daisy/6978826370_7b9aa7c7d5.jpg  
  inflating: flowers/daisy/705422469_ffa28c566d.jpg  
  inflating: flowers/daisy/7066602021_2647457985_m.jpg  
  inflating: flowers/daisy/7133935763_82b17c8e1b_n.jpg  
  inflating: flowers/daisy/7188513571_c8527b123a_n.jpg  
  inflating: flowers/daisy/7189043225_2fe781439a_n.jpg  
  inflating: flowers/daisy/7191221492_610035de7c_m.jpg  
  inflating: flowers/daisy/7199968650_72afc16d31_m.jpg  
  inflating: flowers/daisy/721595842_bacd80a6ac.jpg  
  inflating: flowers/daisy/7227973870_806d9d3e42_n.jpg  
  inflating: flowers/daisy/7288989324_c25d9febbf.jpg  
  inflating: flowers/daisy/7320089276_87b544e341.jpg  
  inflating: flowers/daisy/7335886184_d06a83f640.jpg  
  inflating: flowers/daisy/7357072446_c21c38c863_n.jpg  
  inflating: flowers/daisy/7358085448_b317d11cd5.jpg  
  inflating: flowers/daisy/7377004908_5bc0cde347_n.jpg  
  inflating: flowers/daisy/7410356270_9dff4d0e2e_n.jpg  
  inflating: flowers/daisy/7416083788_fcb4c4f27e_n.jpg  
  inflating: flowers/daisy/7454630692_ab2d67dd18_m.jpg  
  inflating: flowers/daisy/7538403124_f2fc48750a.jpg  
  inflating: flowers/daisy/754248840_95092de274.jpg  
  inflating: flowers/daisy/754296579_30a9ae018c_n.jpg  
  inflating: flowers/daisy/7568630428_8cf0fc16ff_n.jpg  
  inflating: flowers/daisy/7629784968_b953501902_n.jpg  
  inflating: flowers/daisy/7630511450_02d3292e90.jpg  
  inflating: flowers/daisy/7630517248_98fb8bee1f_n.jpg  
  inflating: flowers/daisy/7630520686_e3a61ac763.jpg  
  inflating: flowers/daisy/7633425046_8293e3d0e9_m.jpg  
  inflating: flowers/daisy/7669550908_bc5a11276f_n.jpg  
  inflating: flowers/daisy/7702332000_3f21ef4571_n.jpg  
  inflating: flowers/daisy/7749368884_1fc58c67ff_n.jpg  
  inflating: flowers/daisy/7790614422_4557928ab9_n.jpg  
  inflating: flowers/daisy/7924174040_444d5bbb8a.jpg  
  inflating: flowers/daisy/799952628_bf836677fa_n.jpg  
  inflating: flowers/daisy/8008258043_5457dd254b_n.jpg  
  inflating: flowers/daisy/8008629838_c62bb2b016_n.jpg  
  inflating: flowers/daisy/8021540573_c56cf9070d_n.jpg  
  inflating: flowers/daisy/8063844363_db3f4dea85.jpg  
  inflating: flowers/daisy/8071646795_2fdc89ab7a_n.jpg  
  inflating: flowers/daisy/8085329197_41d53a21e2_n.jpg  
  inflating: flowers/daisy/8094774544_35465c1c64.jpg  
  inflating: flowers/daisy/8120563761_ed5620664f_m.jpg  
  inflating: flowers/daisy/8127252886_96558c23d1.jpg  
  inflating: flowers/daisy/813445367_187ecf080a_n.jpg  
  inflating: flowers/daisy/8322526877_95d1c0f8bc_n.jpg  
  inflating: flowers/daisy/8348621545_8f02b82662_n.jpg  
  inflating: flowers/daisy/8382667241_0f046cecdb_n.jpg  
  inflating: flowers/daisy/8383753520_8391dd80ee_m.jpg  
  inflating: flowers/daisy/8405273313_bef13f6c27_n.jpg  
  inflating: flowers/daisy/8446495985_f72d851482.jpg  
  inflating: flowers/daisy/8489463746_a9839bf7e4.jpg  
  inflating: flowers/daisy/8616684075_71923bb771_n.jpg  
  inflating: flowers/daisy/8619103877_d8c82c5f34_n.jpg  
  inflating: flowers/daisy/8645839873_0151fb92bf_n.jpg  
  inflating: flowers/daisy/8671824531_64b816949e_m.jpg  
  inflating: flowers/daisy/8681746439_d6beeefbf9.jpg  
  inflating: flowers/daisy/8694909523_3ca25d449d_n.jpg  
  inflating: flowers/daisy/8696022686_1f8d62c5cb_m.jpg  
  inflating: flowers/daisy/8706810197_17b6c1f1e7.jpg  
  inflating: flowers/daisy/8708143485_38d084ac8c_n.jpg  
  inflating: flowers/daisy/8709110478_60d12efcd4_n.jpg  
  inflating: flowers/daisy/8709535323_a6bea3e43f.jpg  
  inflating: flowers/daisy/8710109684_e2c5ef6aeb_n.jpg  
  inflating: flowers/daisy/8718637649_87a0d85190_n.jpg  
  inflating: flowers/daisy/8719756744_34a5a83976_n.jpg  
  inflating: flowers/daisy/8740807508_0587f5b7b7.jpg  
  inflating: flowers/daisy/8742143296_fed9fa007c.jpg  
  inflating: flowers/daisy/8759177308_951790e00d_m.jpg  
  inflating: flowers/daisy/8882282142_9be2524d38_m.jpg  
  inflating: flowers/daisy/8887005939_b19e8305ee.jpg  
  inflating: flowers/daisy/8932490012_cc08e690ba_n.jpg  
  inflating: flowers/daisy/8938566373_d129e7af75.jpg  
  inflating: flowers/daisy/8964198962_6d8593b533.jpg  
  inflating: flowers/daisy/8983779970_9d3a6a3bf2_n.jpg  
  inflating: flowers/daisy/9054268881_19792c5203_n.jpg  
  inflating: flowers/daisy/9094631844_1a6abca29e.jpg  
  inflating: flowers/daisy/909609509_a05ccb8127.jpg  
  inflating: flowers/daisy/9120905231_329598304e.jpg  
  inflating: flowers/daisy/9146733107_98b15d3892_m.jpg  
  inflating: flowers/daisy/9158041313_7a6a102f7a_n.jpg  
  inflating: flowers/daisy/9161647994_e39b65cb9c_n.jpg  
  inflating: flowers/daisy/9175280426_40ecc395b8_m.jpg  
  inflating: flowers/daisy/9180706736_092d43088c.jpg  
  inflating: flowers/daisy/9204730092_a7f2182347.jpg  
  inflating: flowers/daisy/9221345475_67735dbf4f_n.jpg  
  inflating: flowers/daisy/9225336602_e6c392f941_n.jpg  
  inflating: flowers/daisy/9242705328_eee8402a8d.jpg  
  inflating: flowers/daisy/9244082319_b1f7e2d8b0_n.jpg  
  inflating: flowers/daisy/9286947622_4822f4fc21.jpg  
  inflating: flowers/daisy/9299302012_958c70564c_n.jpg  
  inflating: flowers/daisy/9310226774_d1b8f5d9c9.jpg  
  inflating: flowers/daisy/9321854387_5f77c926cb_n.jpg  
  inflating: flowers/daisy/9345273630_af3550031d.jpg  
  inflating: flowers/daisy/9346508462_f0af3163f4.jpg  
  inflating: flowers/daisy/9350942387_5b1d043c26_n.jpg  
  inflating: flowers/daisy/9467543719_c4800becbb_m.jpg  
  inflating: flowers/daisy/9489270024_1b05f08492_m.jpg  
  inflating: flowers/daisy/9496209717_25a6ebdab6_m.jpg  
  inflating: flowers/daisy/9515186037_3be48fe68f.jpg  
  inflating: flowers/daisy/9529916092_de70623523_n.jpg  
  inflating: flowers/daisy/9593034725_0062f0d24e_n.jpg  
  inflating: flowers/daisy/9595857626_979c45e5bf_n.jpg  
  inflating: flowers/daisy/9611923744_013b29e4da_n.jpg  
  inflating: flowers/daisy/9922116524_ab4a2533fe_n.jpg  
  inflating: flowers/daisy/99306615_739eb94b9e_m.jpg  
  inflating: flowers/dandelion/10043234166_e6dd915111_n.jpg  
  inflating: flowers/dandelion/10200780773_c6051a7d71_n.jpg  
  inflating: flowers/dandelion/10294487385_92a0676c7d_m.jpg  
  inflating: flowers/dandelion/10437652486_aa86c14985.jpg  
  inflating: flowers/dandelion/10443973_aeb97513fc_m.jpg  
  inflating: flowers/dandelion/10477378514_9ffbcec4cf_m.jpg  
  inflating: flowers/dandelion/10486992895_20b344ce2d_n.jpg  
  inflating: flowers/dandelion/10617162044_8740d4dd9f_n.jpg  
  inflating: flowers/dandelion/10617191174_9a01753241_n.jpg  
  inflating: flowers/dandelion/10683189_bd6e371b97.jpg  
  inflating: flowers/dandelion/1074999133_1e4a1e042e.jpg  
  inflating: flowers/dandelion/10777398353_5a20bb218c.jpg  
  inflating: flowers/dandelion/10778387133_9141024b10.jpg  
  inflating: flowers/dandelion/10779476016_9130714dc0.jpg  
  inflating: flowers/dandelion/1080179756_5f05350a59.jpg  
  inflating: flowers/dandelion/10828951106_c3cd47983f.jpg  
  inflating: flowers/dandelion/10919961_0af657c4e8.jpg  
  inflating: flowers/dandelion/10946896405_81d2d50941_m.jpg  
  inflating: flowers/dandelion/11124381625_24b17662bd_n.jpg  
  inflating: flowers/dandelion/1128626197_3f52424215_n.jpg  
  inflating: flowers/dandelion/11296320473_1d9261ddcb.jpg  
  inflating: flowers/dandelion/11405573_24a8a838cc_n.jpg  
  inflating: flowers/dandelion/11465213433_847c4fa261.jpg  
  inflating: flowers/dandelion/11545123_50a340b473_m.jpg  
  inflating: flowers/dandelion/11595255065_d9550012fc.jpg  
  inflating: flowers/dandelion/11768468623_9399b5111b_n.jpg  
  inflating: flowers/dandelion/11775820493_10fedf4bff_n.jpg  
  inflating: flowers/dandelion/1193386857_3ae53574f2_m.jpg  
  inflating: flowers/dandelion/1195255751_d58b3d3076.jpg  
  inflating: flowers/dandelion/12093962485_7c3e9a2a23_n.jpg  
  inflating: flowers/dandelion/12094442595_297494dba4_m.jpg  
  inflating: flowers/dandelion/1241011700_261ae180ca.jpg  
  inflating: flowers/dandelion/126012913_edf771c564_n.jpg  
  inflating: flowers/dandelion/1273326361_b90ea56d0d_m.jpg  
  inflating: flowers/dandelion/129019877_8eea2978ca_m.jpg  
  inflating: flowers/dandelion/1297972485_33266a18d9.jpg  
  inflating: flowers/dandelion/12998979765_3de89e7195_n.jpg  
  inflating: flowers/dandelion/130733200_fbe28eea19.jpg  
  inflating: flowers/dandelion/13290033_ebd7c7abba_n.jpg  
  inflating: flowers/dandelion/13331969914_890082d898_n.jpg  
  inflating: flowers/dandelion/13386618495_3df1f1330d.jpg  
  inflating: flowers/dandelion/13471273823_4800ca8eec.jpg  
  inflating: flowers/dandelion/1353279846_7e6b87606d.jpg  
  inflating: flowers/dandelion/13560152823_9da5e48c87_m.jpg  
  inflating: flowers/dandelion/136011860_44ca0b2835_n.jpg  
  inflating: flowers/dandelion/13652698934_d258a6ee8c.jpg  
  inflating: flowers/dandelion/13675534854_03caf51644_m.jpg  
  inflating: flowers/dandelion/136999986_e410a68efb_n.jpg  
  inflating: flowers/dandelion/13734221225_0e04edc6b6.jpg  
  inflating: flowers/dandelion/13807932364_673b7f1c1c_n.jpg  
  inflating: flowers/dandelion/138132145_782763b84f_m.jpg  
  inflating: flowers/dandelion/138166590_47c6cb9dd0.jpg  
  inflating: flowers/dandelion/1386449001_5d6da6bde6.jpg  
  inflating: flowers/dandelion/13881700933_69a750d418_n.jpg  
  inflating: flowers/dandelion/13887031789_97437f246b.jpg  
  inflating: flowers/dandelion/13887066460_64156a9021.jpg  
  inflating: flowers/dandelion/13897156242_dca5d93075_m.jpg  
  inflating: flowers/dandelion/13900486390_5a25785645_n.jpg  
  inflating: flowers/dandelion/13910677675_4900fa3dbf_n.jpg  
  inflating: flowers/dandelion/139124974_9e3ba69f6c.jpg  
  inflating: flowers/dandelion/13916196427_50a611008f.jpg  
  inflating: flowers/dandelion/13920113_f03e867ea7_m.jpg  
  inflating: flowers/dandelion/13942846777_5571a6b0a1_n.jpg  
  inflating: flowers/dandelion/13946048982_4e6ec56987.jpg  
  inflating: flowers/dandelion/13967344688_aa629dcdee_n.jpg  
  inflating: flowers/dandelion/13968424321_1d89b33a9f_n.jpg  
  inflating: flowers/dandelion/14002252932_64d5cbdac7.jpg  
  inflating: flowers/dandelion/14003401241_543535b385.jpg  
  inflating: flowers/dandelion/14012247974_69ac128799.jpg  
  inflating: flowers/dandelion/14019781123_ea0f8722d4_n.jpg  
  inflating: flowers/dandelion/14021281124_89cc388eac_n.jpg  
  inflating: flowers/dandelion/14048849371_ec9dbafaeb_m.jpg  
  inflating: flowers/dandelion/14053173516_a00150a919_m.jpg  
  inflating: flowers/dandelion/14053184940_7ced69250f_n.jpg  
  inflating: flowers/dandelion/14053397367_75cba846eb_n.jpg  
  inflating: flowers/dandelion/14058811536_f29cd7bd58_n.jpg  
  inflating: flowers/dandelion/14060367700_fe87e99b6a_m.jpg  
  inflating: flowers/dandelion/14065420729_9b388bf7cb_m.jpg  
  inflating: flowers/dandelion/14070457521_8eb41f65fa.jpg  
  inflating: flowers/dandelion/14070463051_86ab57ab36.jpg  
  inflating: flowers/dandelion/14076873230_d0bd53b220.jpg  
  inflating: flowers/dandelion/14084345111_8a4cb05a31.jpg  
  inflating: flowers/dandelion/14085038920_2ee4ce8a8d.jpg  
  inflating: flowers/dandelion/14093744313_b66bc95072.jpg  
  inflating: flowers/dandelion/14093789753_f0f1acdb57.jpg  
  inflating: flowers/dandelion/140951103_69847c0b7c.jpg  
  inflating: flowers/dandelion/14126515096_1134fae695.jpg  
  inflating: flowers/dandelion/14128835667_b6a916222c.jpg  
  inflating: flowers/dandelion/14128839257_23def53028.jpg  
  inflating: flowers/dandelion/141340262_ca2e576490.jpg  
  inflating: flowers/dandelion/1413979148_b40d63db90_m.jpg  
  inflating: flowers/dandelion/14164392167_650946a169_n.jpg  
  inflating: flowers/dandelion/141652526_2be95f21c3_n.jpg  
  inflating: flowers/dandelion/14171812905_8b81d50eb9_n.jpg  
  inflating: flowers/dandelion/14185089716_2a48298d17.jpg  
  inflating: flowers/dandelion/141935731_d26d600f4f_m.jpg  
  inflating: flowers/dandelion/14199664556_188b37e51e.jpg  
  inflating: flowers/dandelion/14200639491_2a4611916d_n.jpg  
  inflating: flowers/dandelion/14202166370_e989588332.jpg  
  inflating: flowers/dandelion/14211880544_5d1f9d5aa8_n.jpg  
  inflating: flowers/dandelion/142390525_5d81a3659d_m.jpg  
  inflating: flowers/dandelion/1426682852_e62169221f_m.jpg  
  inflating: flowers/dandelion/14278605962_d3cce5522f.jpg  
  inflating: flowers/dandelion/142813254_20a7fd5fb6_n.jpg  
  inflating: flowers/dandelion/14283011_3e7452c5b2_n.jpg  
  inflating: flowers/dandelion/14292205986_da230467ef.jpg  
  inflating: flowers/dandelion/14306875733_61d71c64c0_n.jpg  
  inflating: flowers/dandelion/14313509432_6f2343d6c8_m.jpg  
  inflating: flowers/dandelion/14335561523_f847f2f4f1.jpg  
  inflating: flowers/dandelion/14362539701_cf19e588ca.jpg  
  inflating: flowers/dandelion/14368895004_c486a29c1e_n.jpg  
  inflating: flowers/dandelion/14373114081_7922bcf765_n.jpg  
  inflating: flowers/dandelion/14375349004_68d893254a_n.jpg  
  inflating: flowers/dandelion/14376454225_a1de336c5b.jpg  
  inflating: flowers/dandelion/14396023703_11c5dd35a9.jpg  
  inflating: flowers/dandelion/144040769_c5b805f868.jpg  
  inflating: flowers/dandelion/14404468648_37903d7025_m.jpg  
  inflating: flowers/dandelion/1443259657_2704fab26e_n.jpg  
  inflating: flowers/dandelion/14439618952_470224b89b_n.jpg  
  inflating: flowers/dandelion/14455605089_8bbfb41cd7_n.jpg  
  inflating: flowers/dandelion/14457225751_645a3784fd_n.jpg  
  inflating: flowers/dandelion/144686365_d7e96941ee_n.jpg  
  inflating: flowers/dandelion/14469481104_d0e29f7ffd.jpg  
  inflating: flowers/dandelion/145173479_7d04346c20.jpg  
  inflating: flowers/dandelion/14554897292_b3e30e52f2.jpg  
  inflating: flowers/dandelion/14576445793_582aa6446b_m.jpg  
  inflating: flowers/dandelion/146023167_f905574d97_m.jpg  
  inflating: flowers/dandelion/14614655810_9910e6dbd6_n.jpg  
  inflating: flowers/dandelion/146242691_44d9c9d6ce_n.jpg  
  inflating: flowers/dandelion/14648777167_1d92d403c9_n.jpg  
  inflating: flowers/dandelion/1469549847_eac61a6802.jpg  
  inflating: flowers/dandelion/14728922673_99086a3818_n.jpg  
  inflating: flowers/dandelion/14740350060_a489d9fa06.jpg  
  inflating: flowers/dandelion/14761980161_2d6dbaa4bb_m.jpg  
  inflating: flowers/dandelion/14805304536_c321a7b061_n.jpg  
  inflating: flowers/dandelion/148180650_19a4b410db.jpg  
  inflating: flowers/dandelion/14829055_2a2e646a8f_m.jpg  
  inflating: flowers/dandelion/14845607659_1be18c5d7f.jpg  
  inflating: flowers/dandelion/148698493_5710e5f472.jpg  
  inflating: flowers/dandelion/14884028290_a1344eb446.jpg  
  inflating: flowers/dandelion/14886860069_b84665a073.jpg  
  inflating: flowers/dandelion/14886963928_d4856f1eb6_n.jpg  
  inflating: flowers/dandelion/14914603395_b271ffab56_n.jpg  
  inflating: flowers/dandelion/149782934_21adaf4a21.jpg  
  inflating: flowers/dandelion/15002906952_cab2cb29cf.jpg  
  inflating: flowers/dandelion/15005530987_e13b328047_n.jpg  
  inflating: flowers/dandelion/15123503538_8ee984abc6.jpg  
  inflating: flowers/dandelion/151385301_153eacf6b5_n.jpg  
  inflating: flowers/dandelion/151385302_f8980a257f_n.jpg  
  inflating: flowers/dandelion/15139657325_74031c44fc.jpg  
  inflating: flowers/dandelion/151861297_55b10a03a6_n.jpg  
  inflating: flowers/dandelion/151979452_9832f08b69.jpg  
  inflating: flowers/dandelion/15219268336_f2460fca88_m.jpg  
  inflating: flowers/dandelion/15268682367_5a4512b29f_m.jpg  
  inflating: flowers/dandelion/15297244181_011883a631_m.jpg  
  inflating: flowers/dandelion/15358221063_2c6e548e84.jpg  
  inflating: flowers/dandelion/15378782362_4161b23af7_m.jpg  
  inflating: flowers/dandelion/15381511376_fd743b7330_n.jpg  
  inflating: flowers/dandelion/15547944931_c1e095b185.jpg  
  inflating: flowers/dandelion/15549402199_2890918ddb.jpg  
  inflating: flowers/dandelion/155646858_9a8b5e8fc8.jpg  
  inflating: flowers/dandelion/15644450971_6a28298454_n.jpg  
  inflating: flowers/dandelion/15782158700_3b9bf7d33e_m.jpg  
  inflating: flowers/dandelion/15819121091_26a5243340_n.jpg  
  inflating: flowers/dandelion/15821571649_06c4b9a868_n.jpg  
  inflating: flowers/dandelion/158988663_6fe055fcb4.jpg  
  inflating: flowers/dandelion/15987457_49dc11bf4b.jpg  
  inflating: flowers/dandelion/16041975_2f6c1596e5.jpg  
  inflating: flowers/dandelion/160456948_38c3817c6a_m.jpg  
  inflating: flowers/dandelion/16096748028_7876887ab2.jpg  
  inflating: flowers/dandelion/16159487_3a6615a565_n.jpg  
  inflating: flowers/dandelion/16237158409_01913cf918_n.jpg  
  inflating: flowers/dandelion/16241101274_334b54731e.jpg  
  inflating: flowers/dandelion/16242239484_51286673af.jpg  
  inflating: flowers/dandelion/163702807_e508544acd_n.jpg  
  inflating: flowers/dandelion/16375088191_2bf2916b53.jpg  
  inflating: flowers/dandelion/16462263826_2555edeb74_n.jpg  
  inflating: flowers/dandelion/16495282564_d8c34d6a2e_m.jpg  
  inflating: flowers/dandelion/16510864164_3afa8ac37f.jpg  
  inflating: flowers/dandelion/16650892835_9228a3ef67_m.jpg  
  inflating: flowers/dandelion/16656127943_2f70926b6c.jpg  
  inflating: flowers/dandelion/1667963621_c76d570af3_n.jpg  
  inflating: flowers/dandelion/16691236594_4287cea9d6_n.jpg  
  inflating: flowers/dandelion/16699732794_5bfd639cf8_n.jpg  
  inflating: flowers/dandelion/16713229021_bea2533981_n.jpg  
  inflating: flowers/dandelion/16716172029_2166d8717f_m.jpg  
  inflating: flowers/dandelion/16744522344_8d21b1530d_n.jpg  
  inflating: flowers/dandelion/16766166609_ccb8344c9f_m.jpg  
  inflating: flowers/dandelion/16817037661_2980d823e1_n.jpg  
  inflating: flowers/dandelion/16837594326_1056d875a4_m.jpg  
  inflating: flowers/dandelion/16863587471_cc3a6ffb29_m.jpg  
  inflating: flowers/dandelion/16911008669_ea21fd8915_n.jpg  
  inflating: flowers/dandelion/16949657389_ac0ee80fd1_m.jpg  
  inflating: flowers/dandelion/16953818045_fea21c8bf8.jpg  
  inflating: flowers/dandelion/16970837587_4a9d8500d7.jpg  
  inflating: flowers/dandelion/16987075_9a690a2183.jpg  
  inflating: flowers/dandelion/17020815734_81e8db8008_m.jpg  
  inflating: flowers/dandelion/17029965300_8e755c2214_n.jpg  
  inflating: flowers/dandelion/17047231499_bd66c23641.jpg  
  inflating: flowers/dandelion/17047385027_8fd510e164_n.jpg  
  inflating: flowers/dandelion/17075803866_aeeded2637.jpg  
  inflating: flowers/dandelion/17077940105_d2cd7b9ec4_n.jpg  
  inflating: flowers/dandelion/17080000869_a80e767f4a_m.jpg  
  inflating: flowers/dandelion/17095758258_a33642946f_n.jpg  
  inflating: flowers/dandelion/17122969189_0ec37cb6c9.jpg  
  inflating: flowers/dandelion/17135145776_4c2ec21b05_m.jpg  
  inflating: flowers/dandelion/17146644679_11aff3045c.jpg  
  inflating: flowers/dandelion/17147436650_c94ae24004_n.jpg  
  inflating: flowers/dandelion/17161833794_e1d92259d2_m.jpg  
  inflating: flowers/dandelion/17175932454_c052e205c1_n.jpg  
  inflating: flowers/dandelion/17189437699_a9171b6ae3.jpg  
  inflating: flowers/dandelion/17220096449_0e535989f0_n.jpg  
  inflating: flowers/dandelion/17243540220_65b98eb926_n.jpg  
  inflating: flowers/dandelion/17244252705_328e0bcda6.jpg  
  inflating: flowers/dandelion/17276354745_2e312a72b5_n.jpg  
  inflating: flowers/dandelion/17280886635_e384d91300_n.jpg  
  inflating: flowers/dandelion/17322195031_c2680809dc_m.jpg  
  inflating: flowers/dandelion/17344936845_fec4d626b7.jpg  
  inflating: flowers/dandelion/17346385582_7ba433dbbe.jpg  
  inflating: flowers/dandelion/17367866236_61abd4d243_n.jpg  
  inflating: flowers/dandelion/17388674711_6dca8a2e8b_n.jpg  
  inflating: flowers/dandelion/17388697431_0d84c427d1_n.jpg  
  inflating: flowers/dandelion/17420983523_2e32d70359.jpg  
  inflating: flowers/dandelion/17457028309_95514c8d02_n.jpg  
  inflating: flowers/dandelion/17466568484_9128287148.jpg  
  inflating: flowers/dandelion/17482158576_86c5ebc2f8.jpg  
  inflating: flowers/dandelion/17570530696_6a497298ee_n.jpg  
  inflating: flowers/dandelion/17574213074_f5416afd84.jpg  
  inflating: flowers/dandelion/17619402434_15b2ec2d79.jpg  
  inflating: flowers/dandelion/176284193_8fa1710431_m.jpg  
  inflating: flowers/dandelion/17649230811_9bdbbacb8c.jpg  
  inflating: flowers/dandelion/17688233756_21879104c1_n.jpg  
  inflating: flowers/dandelion/17747738311_5014b1f77f.jpg  
  inflating: flowers/dandelion/1776290427_9d8d5be6ac.jpg  
  inflating: flowers/dandelion/177851662_b2622b4238_n.jpg  
  inflating: flowers/dandelion/17821459748_873101edd0_m.jpg  
  inflating: flowers/dandelion/17831860736_3e44667bbb_n.jpg  
  inflating: flowers/dandelion/17851831751_35b071f4b0.jpg  
  inflating: flowers/dandelion/17862580326_293070978d_m.jpg  
  inflating: flowers/dandelion/17903104293_9138439e76.jpg  
  inflating: flowers/dandelion/1798082733_b8080b1173_m.jpg  
  inflating: flowers/dandelion/18001393975_2a6acaabd8.jpg  
  inflating: flowers/dandelion/18010259565_d6aae33ca7_n.jpg  
  inflating: flowers/dandelion/18089878729_907ed2c7cd_m.jpg  
  inflating: flowers/dandelion/18111636378_856027a7b8_n.jpg  
  inflating: flowers/dandelion/18183515403_13a9ca6d86_n.jpg  
  inflating: flowers/dandelion/18204150090_fb418bbddb.jpg  
  inflating: flowers/dandelion/18215579866_94b1732f24.jpg  
  inflating: flowers/dandelion/18232119726_cef27eaaac_n.jpg  
  inflating: flowers/dandelion/18238604119_a5689980ee_n.jpg  
  inflating: flowers/dandelion/18243329421_771b4d938e.jpg  
  inflating: flowers/dandelion/18243351371_5fda92ac0a_n.jpg  
  inflating: flowers/dandelion/18271576032_d7e2296de4_n.jpg  
  inflating: flowers/dandelion/18276105805_d31d3f7e71.jpg  
  inflating: flowers/dandelion/18282528206_7fb3166041.jpg  
  inflating: flowers/dandelion/18304194360_2a4a0be631_m.jpg  
  inflating: flowers/dandelion/18342918441_b1bb69a2fd_n.jpg  
  inflating: flowers/dandelion/18385846351_3a2bf60427_n.jpg  
  inflating: flowers/dandelion/18479635994_83f93f4120.jpg  
  inflating: flowers/dandelion/18482768066_677292a64e.jpg  
  inflating: flowers/dandelion/18587334446_ef1021909b_n.jpg  
  inflating: flowers/dandelion/18687587599_3dd4fdf255.jpg  
  inflating: flowers/dandelion/18803577858_fd0036e1f5_m.jpg  
  inflating: flowers/dandelion/18876985840_7531dc8e6a.jpg  
  inflating: flowers/dandelion/18889216716_cd67aec890_n.jpg  
  inflating: flowers/dandelion/18970601002_d70bc883a9.jpg  
  inflating: flowers/dandelion/18995294384_77543e96b6_n.jpg  
  inflating: flowers/dandelion/18996760154_58d3c48604.jpg  
  inflating: flowers/dandelion/18996957833_0bd71fbbd4_m.jpg  
  inflating: flowers/dandelion/18996965033_1d92e5c99e.jpg  
  inflating: flowers/dandelion/18999743619_cec3f39bee.jpg  
  inflating: flowers/dandelion/19004688463_12a8423109.jpg  
  inflating: flowers/dandelion/19064700925_b93d474e37.jpg  
  inflating: flowers/dandelion/19067907051_16d530c7d2.jpg  
  inflating: flowers/dandelion/19397467530_1e8131a7cf.jpg  
  inflating: flowers/dandelion/19426575569_4b53c0b726.jpg  
  inflating: flowers/dandelion/19435491090_7af558e17e.jpg  
  inflating: flowers/dandelion/19437578578_6ab1b3c984.jpg  
  inflating: flowers/dandelion/19437710780_c5f2156438.jpg  
  inflating: flowers/dandelion/19438516548_bbaf350664.jpg  
  inflating: flowers/dandelion/19440660848_c789227129_m.jpg  
  inflating: flowers/dandelion/19440910519_cb1162470e.jpg  
  inflating: flowers/dandelion/19443674130_08db1d9578_m.jpg  
  inflating: flowers/dandelion/19443726008_8c9c68efa7_m.jpg  
  inflating: flowers/dandelion/19506262462_d0945c14a6.jpg  
  inflating: flowers/dandelion/19526570282_1d1e71b0f3_m.jpg  
  inflating: flowers/dandelion/19551343814_48f764535f_m.jpg  
  inflating: flowers/dandelion/19551343954_83bb52f310_m.jpg  
  inflating: flowers/dandelion/19586799286_beb9d684b5.jpg  
  inflating: flowers/dandelion/19593576916_f5a083d7fe_n.jpg  
  inflating: flowers/dandelion/19599413676_fc9ee2640e.jpg  
  inflating: flowers/dandelion/19600096066_67dc941042.jpg  
  inflating: flowers/dandelion/19602790836_912d38aaa8.jpg  
  inflating: flowers/dandelion/19613308325_a67792d889.jpg  
  inflating: flowers/dandelion/19617425002_b914c1e2ab.jpg  
  inflating: flowers/dandelion/19617501581_606be5f716_n.jpg  
  inflating: flowers/dandelion/19617643201_9922eec796.jpg  
  inflating: flowers/dandelion/19621170705_30bf8bf0ba.jpg  
  inflating: flowers/dandelion/19622465055_2a62ebd504_m.jpg  
  inflating: flowers/dandelion/19626311985_58f1a79da3.jpg  
  inflating: flowers/dandelion/19691175559_ef12b8b354_n.jpg  
  inflating: flowers/dandelion/19812060274_c432f603db.jpg  
  inflating: flowers/dandelion/19961979110_fcd8092388_m.jpg  
  inflating: flowers/dandelion/20179380768_7a2990d4e3_n.jpg  
  inflating: flowers/dandelion/2019520447_48b2354a20_m.jpg  
  inflating: flowers/dandelion/2039797043_d5b709f275_n.jpg  
  inflating: flowers/dandelion/20456824132_b1c8fbfa41_m.jpg  
  inflating: flowers/dandelion/2076141453_c63801962a_m.jpg  
  inflating: flowers/dandelion/20983660733_06b35b9eb8.jpg  
  inflating: flowers/dandelion/2116997627_30fed84e53_m.jpg  
  inflating: flowers/dandelion/2133943140_9fc7bcc9aa.jpg  
  inflating: flowers/dandelion/21523597492_39b6765cd7_m.jpg  
  inflating: flowers/dandelion/2161283279_02ea3ff8d4.jpg  
  inflating: flowers/dandelion/21657726011_2c94e341bc_n.jpg  
  inflating: flowers/dandelion/22190242684_8c3300d4e6.jpg  
  inflating: flowers/dandelion/22196426956_eca94f6faa_m.jpg  
  inflating: flowers/dandelion/22274701614_901606ee34_n.jpg  
  inflating: flowers/dandelion/2229906591_e953785d13.jpg  
  inflating: flowers/dandelion/2257649769_deaf97e2c9_n.jpg  
  inflating: flowers/dandelion/22679060358_561ec823ae_m.jpg  
  inflating: flowers/dandelion/22785985545_95464115b0_m.jpg  
  inflating: flowers/dandelion/2294126841_e478564e77_n.jpg  
  inflating: flowers/dandelion/2303491518_f25fee9440.jpg  
  inflating: flowers/dandelion/23192507093_2e6ec77bef_n.jpg  
  inflating: flowers/dandelion/2319777940_0cc5476b0d_n.jpg  
  inflating: flowers/dandelion/2326334426_2dc74fceb1.jpg  
  inflating: flowers/dandelion/2330339852_fbbdeb7306_n.jpg  
  inflating: flowers/dandelion/2330343016_23acc484ee.jpg  
  inflating: flowers/dandelion/2335702923_decb9a860b_m.jpg  
  inflating: flowers/dandelion/23414449869_ee849a80d4.jpg  
  inflating: flowers/dandelion/23659122395_3467d88c02_n.jpg  
  inflating: flowers/dandelion/2387025546_6aecb1b984_n.jpg  
  inflating: flowers/dandelion/23891393761_155af6402c.jpg  
  inflating: flowers/dandelion/2389720627_8923180b19.jpg  
  inflating: flowers/dandelion/2392273474_a64cef0eaf_n.jpg  
  inflating: flowers/dandelion/2395009660_295c8ffd67_m.jpg  
  inflating: flowers/dandelion/2401343175_d2a892cf25_n.jpg  
  inflating: flowers/dandelion/2443192475_c64c66d9c2.jpg  
  inflating: flowers/dandelion/2444241718_3ca53ce921.jpg  
  inflating: flowers/dandelion/2449852402_45d12b9875_n.jpg  
  inflating: flowers/dandelion/2453532367_fc373df4de.jpg  
  inflating: flowers/dandelion/2457473644_5242844e52_m.jpg  
  inflating: flowers/dandelion/2462379970_6bd5560f4c_m.jpg  
  inflating: flowers/dandelion/2462476884_58c617b26a.jpg  
  inflating: flowers/dandelion/2465442759_d4532a57a3.jpg  
  inflating: flowers/dandelion/2465573725_d78caca9d4_n.jpg  
  inflating: flowers/dandelion/2467980325_237b14c737_m.jpg  
  inflating: flowers/dandelion/2469856983_fe8e36ba57.jpg  
  inflating: flowers/dandelion/2470731130_089b8514f6_n.jpg  
  inflating: flowers/dandelion/2470874500_43d8011e75.jpg  
  inflating: flowers/dandelion/2472641499_cbe617a93d.jpg  
  inflating: flowers/dandelion/2473862606_291ae74885.jpg  
  inflating: flowers/dandelion/2476098674_e6f39536f5_n.jpg  
  inflating: flowers/dandelion/2477231067_3aecef1bf8_n.jpg  
  inflating: flowers/dandelion/2477986396_19da36d557_m.jpg  
  inflating: flowers/dandelion/2478018280_1be353ca8c_m.jpg  
  inflating: flowers/dandelion/2479491210_98e41c4e7d_m.jpg  
  inflating: flowers/dandelion/2480853696_aacdbb5324.jpg  
  inflating: flowers/dandelion/2481428401_bed64dd043.jpg  
  inflating: flowers/dandelion/2489438981_4eb60ef98f_m.jpg  
  inflating: flowers/dandelion/2490828907_5094017933_m.jpg  
  inflating: flowers/dandelion/2494436687_775402e0aa.jpg  
  inflating: flowers/dandelion/2495749544_679dc7ccef.jpg  
  inflating: flowers/dandelion/2497301920_91490c42c0.jpg  
  inflating: flowers/dandelion/2502610598_b9f1b55ebd_n.jpg  
  inflating: flowers/dandelion/2502613166_2c231b47cb_n.jpg  
  inflating: flowers/dandelion/2502627784_4486978bcf.jpg  
  inflating: flowers/dandelion/2503034372_db7867de51_m.jpg  
  inflating: flowers/dandelion/2503875867_2075a9225d_m.jpg  
  inflating: flowers/dandelion/2512148749_261fa9d156.jpg  
  inflating: flowers/dandelion/2512977446_ac498955ee.jpg  
  inflating: flowers/dandelion/2516714633_87f28f0314.jpg  
  inflating: flowers/dandelion/2517777524_e871ec5291_m.jpg  
  inflating: flowers/dandelion/2518321294_dde5aa7c20_m.jpg  
  inflating: flowers/dandelion/2521811279_1f7fc353bf_n.jpg  
  inflating: flowers/dandelion/2521827947_9d237779bb_n.jpg  
  inflating: flowers/dandelion/2522454811_f87af57d8b.jpg  
  inflating: flowers/dandelion/2535727910_769c020c0d_n.jpg  
  inflating: flowers/dandelion/2535769822_513be6bbe9.jpg  
  inflating: flowers/dandelion/253622055_d72964a7fd_n.jpg  
  inflating: flowers/dandelion/2538797744_deb53ac253.jpg  
  inflating: flowers/dandelion/2540640433_dedd577263.jpg  
  inflating: flowers/dandelion/2542908888_25a1c78ff0.jpg  
  inflating: flowers/dandelion/2553703483_558d12668c_n.jpg  
  inflating: flowers/dandelion/2569516382_9fd7097b9b.jpg  
  inflating: flowers/dandelion/2596413098_7ef69b7e1d_m.jpg  
  inflating: flowers/dandelion/2597655841_07fb2955a4.jpg  
  inflating: flowers/dandelion/2598486434_bf349854f2_m.jpg  
  inflating: flowers/dandelion/2600382379_5791b0b35a_m.jpg  
  inflating: flowers/dandelion/26004221274_74900d17e1_n.jpg  
  inflating: flowers/dandelion/2608937632_cfd93bc7cd.jpg  
  inflating: flowers/dandelion/2620243133_e801981efe_n.jpg  
  inflating: flowers/dandelion/2622697182_ea4aff29dd_n.jpg  
  inflating: flowers/dandelion/2625836599_03e192266f.jpg  
  inflating: flowers/dandelion/2628514700_b6d5325797_n.jpg  
  inflating: flowers/dandelion/2634665077_597910235f_m.jpg  
  inflating: flowers/dandelion/2634666217_d5ef87c9f7_m.jpg  
  inflating: flowers/dandelion/2635422362_a1bf641547_m.jpg  
  inflating: flowers/dandelion/2637883118_cf6ce37be4_n.jpg  
  inflating: flowers/dandelion/2661585172_94707236be_m.jpg  
  inflating: flowers/dandelion/2670304799_a3f2eef516_m.jpg  
  inflating: flowers/dandelion/26741270544_f44f3a1b19_n.jpg  
  inflating: flowers/dandelion/2674176237_e265ea64cc_n.jpg  
  inflating: flowers/dandelion/2683330456_0f7bbce110_m.jpg  
  inflating: flowers/dandelion/2693136371_dde2570813.jpg  
  inflating: flowers/dandelion/2697283969_c1f9cbb936.jpg  
  inflating: flowers/dandelion/2698102820_f15445a3f7.jpg  
  inflating: flowers/dandelion/27166475803_f5503f51f8_n.jpg  
  inflating: flowers/dandelion/27186992702_449dfa54ef_n.jpg  
  inflating: flowers/dandelion/27299697786_75340698c5_n.jpg  
  inflating: flowers/dandelion/27446317092_ff9bb852d5_n.jpg  
  inflating: flowers/dandelion/2753166154_0cb51a127b.jpg  
  inflating: flowers/dandelion/2780702427_312333ef33.jpg  
  inflating: flowers/dandelion/2831102668_eb65cd40b9_n.jpg  
  inflating: flowers/dandelion/284497199_93a01f48f6.jpg  
  inflating: flowers/dandelion/284497233_c19801752c.jpg  
  inflating: flowers/dandelion/29138994986_267e0e36c9_n.jpg  
  inflating: flowers/dandelion/29157239893_f43793c697_n.jpg  
  inflating: flowers/dandelion/2938040169_eb38581359.jpg  
  inflating: flowers/dandelion/29535628436_2e79a9628d_n.jpg  
  inflating: flowers/dandelion/29556932571_f124d8ac5d_n.jpg  
  inflating: flowers/dandelion/2963905796_227d37ff12.jpg  
  inflating: flowers/dandelion/29687446176_096b86f44c_n.jpg  
  inflating: flowers/dandelion/2995221296_a6ddaccc39.jpg  
  inflating: flowers/dandelion/3005677730_2662753d3f_m.jpg  
  inflating: flowers/dandelion/3021333497_b927cd8596.jpg  
  inflating: flowers/dandelion/3149809654_6a4b31314d_n.jpg  
  inflating: flowers/dandelion/31530587330_ba31bd196e_n.jpg  
  inflating: flowers/dandelion/315645471_dda66c6338_m.jpg  
  inflating: flowers/dandelion/3198028825_fdfaa1d020.jpg  
  inflating: flowers/dandelion/32120685303_90b5f21ab2_n.jpg  
  inflating: flowers/dandelion/32558425090_d6b6e86d85_n.jpg  
  inflating: flowers/dandelion/32701230112_a33f8003a5_n.jpg  
  inflating: flowers/dandelion/3297108443_0393d04dfc_m.jpg  
  inflating: flowers/dandelion/33071081032_a6a1e4b311_n.jpg  
  inflating: flowers/dandelion/33199895303_9858f0a258_n.jpg  
  inflating: flowers/dandelion/33522989504_542fde1a1a_n.jpg  
  inflating: flowers/dandelion/3357432116_b3dce6fed3_n.jpg  
  inflating: flowers/dandelion/33626882480_8b2345a63c_n.jpg  
  inflating: flowers/dandelion/3365850019_8158a161a8_n.jpg  
  inflating: flowers/dandelion/3372748508_e5a4eacfcb_n.jpg  
  inflating: flowers/dandelion/3383422012_6c9d83671f_n.jpg  
  inflating: flowers/dandelion/33841565863_7ab8c1e23c_n.jpg  
  inflating: flowers/dandelion/33847542834_0ce330ac60_n.jpg  
  inflating: flowers/dandelion/33849982914_0f017c8e3c_n.jpg  
  inflating: flowers/dandelion/33850973214_c1b4000d9c_n.jpg  
  inflating: flowers/dandelion/33851560384_d2e7d933db_n.jpg  
  inflating: flowers/dandelion/33852722314_e8907d51f1_n.jpg  
  inflating: flowers/dandelion/33852722714_496828f866_n.jpg  
  inflating: flowers/dandelion/33856267954_b806fab0db_n.jpg  
  inflating: flowers/dandelion/33857437664_f2ddb77592_n.jpg  
  inflating: flowers/dandelion/33857574164_b0b724b567_n.jpg  
  inflating: flowers/dandelion/33859759654_be0be6f876_n.jpg  
  inflating: flowers/dandelion/33869330174_b259025135_n.jpg  
  inflating: flowers/dandelion/33873410454_04bc2167f4_n.jpg  
  inflating: flowers/dandelion/33875520194_09bff6f262_n.jpg  
  inflating: flowers/dandelion/33875654554_e5e4070fab_n.jpg  
  inflating: flowers/dandelion/33875742534_31b85d1b05_n.jpg  
  inflating: flowers/dandelion/33876197394_c7a9487a9f_n.jpg  
  inflating: flowers/dandelion/33877161494_05686b7f7a_n.jpg  
  inflating: flowers/dandelion/33877585464_b23cefb361_n.jpg  
  inflating: flowers/dandelion/33877696673_2d1de2d252_n.jpg  
  inflating: flowers/dandelion/33877749474_1fb8111daf_n.jpg  
  inflating: flowers/dandelion/33878004304_a7c823115b_n.jpg  
  inflating: flowers/dandelion/33878218914_452600b869_n.jpg  
  inflating: flowers/dandelion/33881120324_552f677c1a_n.jpg  
  inflating: flowers/dandelion/33881308394_738a121eb3_n.jpg  
  inflating: flowers/dandelion/33882910234_dd8f1479e3_n.jpg  
  inflating: flowers/dandelion/33885269993_3968e1aacc_n.jpg  
  inflating: flowers/dandelion/33886917763_2db539f182_n.jpg  
  inflating: flowers/dandelion/33886931523_4499a65b72_n.jpg  
  inflating: flowers/dandelion/33890085903_0e10553b27_n.jpg  
  inflating: flowers/dandelion/33892172244_684e99b6fc_n.jpg  
  inflating: flowers/dandelion/33892886253_7c74efdd7a_n.jpg  
  inflating: flowers/dandelion/33904560113_497239a68f_n.jpg  
  inflating: flowers/dandelion/33907694863_f7c0f23ef3_n.jpg  
  inflating: flowers/dandelion/33909432943_bf810400b7_n.jpg  
  inflating: flowers/dandelion/33913495873_b582be4fdf_n.jpg  
  inflating: flowers/dandelion/33914172633_592a6eb74f_n.jpg  
  inflating: flowers/dandelion/33924521963_48cdc4f455_n.jpg  
  inflating: flowers/dandelion/33925191623_d355f976ef_n.jpg  
  inflating: flowers/dandelion/3393060921_2328b752f4.jpg  
  inflating: flowers/dandelion/3393564906_f2df184b76_n.jpg  
  inflating: flowers/dandelion/33980437760_60f3ceaf03_n.jpg  
  inflating: flowers/dandelion/3398195641_456872b48b_n.jpg  
  inflating: flowers/dandelion/340190928_d77bf4d615.jpg  
  inflating: flowers/dandelion/3418355347_2bdcca592a.jpg  
  inflating: flowers/dandelion/3419166382_a5e4b8fe6d_m.jpg  
  inflating: flowers/dandelion/3419172904_7708414ae9_n.jpg  
  inflating: flowers/dandelion/3419176626_512811d3ff.jpg  
  inflating: flowers/dandelion/34206776142_941d75c2ed_n.jpg  
  inflating: flowers/dandelion/34234226791_63a2afc7ed_n.jpg  
  inflating: flowers/dandelion/34256868592_ca3ffd6b15_n.jpg  
  inflating: flowers/dandelion/34310456510_a4ceda64da_n.jpg  
  inflating: flowers/dandelion/34311470786_5b2b5bea1d_n.jpg  
  inflating: flowers/dandelion/34323484476_6406ee1e37_n.jpg  
  inflating: flowers/dandelion/34323645656_afd53a9996_n.jpg  
  inflating: flowers/dandelion/34334194690_0dfe3d8701_n.jpg  
  inflating: flowers/dandelion/34335240590_41e4a393db_n.jpg  
  inflating: flowers/dandelion/34335432530_cd667cbb19_n.jpg  
  inflating: flowers/dandelion/34338412180_a1f4faa1e7_n.jpg  
  inflating: flowers/dandelion/34339792440_8224ca420d_n.jpg  
  inflating: flowers/dandelion/34343228430_8df9f1c03a_n.jpg  
  inflating: flowers/dandelion/34346200780_c3a783a3ec_n.jpg  
  inflating: flowers/dandelion/34351602790_37234e2dae_n.jpg  
  inflating: flowers/dandelion/34351608230_f95038a5a4_n.jpg  
  inflating: flowers/dandelion/34352075020_61ac834f5a_n.jpg  
  inflating: flowers/dandelion/34365073265_246c5c0561_n.jpg  
  inflating: flowers/dandelion/344318990_7be3fb0a7d.jpg  
  inflating: flowers/dandelion/3446018470_0c40e73ed6_m.jpg  
  inflating: flowers/dandelion/3451079245_2139200d66_n.jpg  
  inflating: flowers/dandelion/3451637528_b245144675_n.jpg  
  inflating: flowers/dandelion/3451646670_3eff7094b7_n.jpg  
  inflating: flowers/dandelion/34525649892_e2ea3eb051_n.jpg  
  inflating: flowers/dandelion/34527583252_79aafda601_n.jpg  
  inflating: flowers/dandelion/34533729452_7d8e2b519d_n.jpg  
  inflating: flowers/dandelion/34536491752_dd130e7b79_n.jpg  
  inflating: flowers/dandelion/34537877932_f9a3476a4d_n.jpg  
  inflating: flowers/dandelion/34540904752_ae86e5f6ce_n.jpg  
  inflating: flowers/dandelion/3454102259_957ecd0a9b.jpg  
  inflating: flowers/dandelion/34549305152_15f407a771_n.jpg  
  inflating: flowers/dandelion/34550871222_a9d795a2c0_n.jpg  
  inflating: flowers/dandelion/34551360172_dde3b8e43d_n.jpg  
  inflating: flowers/dandelion/34551666432_c5b5f9684e_n.jpg  
  inflating: flowers/dandelion/34552250422_320900fd8e_n.jpg  
  inflating: flowers/dandelion/34555389922_8da9ffa268_n.jpg  
  inflating: flowers/dandelion/34560984002_254f326f12_n.jpg  
  inflating: flowers/dandelion/34561332721_04b6f1c889_n.jpg  
  inflating: flowers/dandelion/34562347042_e4dc06879a_n.jpg  
  inflating: flowers/dandelion/34562659841_caba988a0c_n.jpg  
  inflating: flowers/dandelion/34568232012_2e771f16f8_n.jpg  
  inflating: flowers/dandelion/34571238031_7eff74ca43_n.jpg  
  inflating: flowers/dandelion/34571561452_07ec474366_n.jpg  
  inflating: flowers/dandelion/34571582172_efa4946a45_n.jpg  
  inflating: flowers/dandelion/34575269471_fe82b32aa9_n.jpg  
  inflating: flowers/dandelion/34578947551_863af3acb3_n.jpg  
  inflating: flowers/dandelion/34582964591_dc9f160fce_n.jpg  
  inflating: flowers/dandelion/34583574661_8010a1fdf4_n.jpg  
  inflating: flowers/dandelion/34584449441_576a1336b1_n.jpg  
  inflating: flowers/dandelion/34586667251_bfda649f33_n.jpg  
  inflating: flowers/dandelion/3458770076_17ed3a1225.jpg  
  inflating: flowers/dandelion/34587720941_ccbbc420ec_n.jpg  
  inflating: flowers/dandelion/34587934371_1a0429111e_n.jpg  
  inflating: flowers/dandelion/34588967411_84b348245b_n.jpg  
  inflating: flowers/dandelion/34591174681_483f7cb82a_n.jpg  
  inflating: flowers/dandelion/34591866681_ff35af51df_n.jpg  
  inflating: flowers/dandelion/34592557281_5f254b3a46_n.jpg  
  inflating: flowers/dandelion/3459346147_faffff51c7_n.jpg  
  inflating: flowers/dandelion/34599366451_2854aee943_n.jpg  
  inflating: flowers/dandelion/34601267911_00c92c9a04_n.jpg  
  inflating: flowers/dandelion/34603214751_8b42379b53_n.jpg  
  inflating: flowers/dandelion/34604698981_89d8741b10_n.jpg  
  inflating: flowers/dandelion/34604803411_99956ac67a_n.jpg  
  inflating: flowers/dandelion/34605411661_4e735bd995_n.jpg  
  inflating: flowers/dandelion/3461986955_29a1abc621.jpg  
  inflating: flowers/dandelion/3464015936_6845f46f64.jpg  
  inflating: flowers/dandelion/34647026976_68af8875e0_n.jpg  
  inflating: flowers/dandelion/34653465656_31bc613631_n.jpg  
  inflating: flowers/dandelion/34654530326_6dcda41377_n.jpg  
  inflating: flowers/dandelion/3465599902_14729e2b1b_n.jpg  
  inflating: flowers/dandelion/34662979916_0479576f5e_n.jpg  
  inflating: flowers/dandelion/34662996866_af256e8f10_n.jpg  
  inflating: flowers/dandelion/34678209886_9005f29b47_n.jpg  
  inflating: flowers/dandelion/34679936936_9924d79c8d_n.jpg  
  inflating: flowers/dandelion/34686041416_e50c8028f9_n.jpg  
  inflating: flowers/dandelion/34689593326_0fd3fbc38a_n.jpg  
  inflating: flowers/dandelion/34690477346_6af75b993b_n.jpg  
  inflating: flowers/dandelion/34690479536_69da7b98e7_n.jpg  
  inflating: flowers/dandelion/34690508115_bafcb9845c_n.jpg  
  inflating: flowers/dandelion/3469112805_6cc8640236.jpg  
  inflating: flowers/dandelion/34692530906_fe2470a5e5_n.jpg  
  inflating: flowers/dandelion/34694280496_d457f0d7b7_n.jpg  
  inflating: flowers/dandelion/34694287966_43ce068108_n.jpg  
  inflating: flowers/dandelion/34694292346_83b4d97809_n.jpg  
  inflating: flowers/dandelion/34695057206_98de825612_n.jpg  
  inflating: flowers/dandelion/34697163155_5dc2571f23_n.jpg  
  inflating: flowers/dandelion/34699848885_a832ee03ab_n.jpg  
  inflating: flowers/dandelion/34700475225_fbc12d0834_n.jpg  
  inflating: flowers/dandelion/34709307795_994ddf0eb5_n.jpg  
  inflating: flowers/dandelion/34711474235_507d286bce_n.jpg  
  inflating: flowers/dandelion/34717754295_cbb0185a36_n.jpg  
  inflating: flowers/dandelion/34719559905_46ba779d79_n.jpg  
  inflating: flowers/dandelion/34719957845_c929f480a3_n.jpg  
  inflating: flowers/dandelion/34721329895_529f999fb6_n.jpg  
  inflating: flowers/dandelion/34722644565_812fcc1397_n.jpg  
  inflating: flowers/dandelion/34724303275_b9494837aa_n.jpg  
  inflating: flowers/dandelion/3472437817_7902b3d984_n.jpg  
  inflating: flowers/dandelion/34725991045_05812dedd5_n.jpg  
  inflating: flowers/dandelion/34725992285_21cb05733a_n.jpg  
  inflating: flowers/dandelion/34727715205_62c9c1ac44_n.jpg  
  inflating: flowers/dandelion/34728513735_ebb4b179eb_n.jpg  
  inflating: flowers/dandelion/34729107795_c746845e17_n.jpg  
  inflating: flowers/dandelion/34732908685_a219574ffe_n.jpg  
  inflating: flowers/dandelion/3475811950_0fb89845f5_n.jpg  
  inflating: flowers/dandelion/3476759348_a0d34a4b59_n.jpg  
  inflating: flowers/dandelion/3476980444_c276bea402_m.jpg  
  inflating: flowers/dandelion/3483575184_cb8d16a083_n.jpg  
  inflating: flowers/dandelion/3487229452_73e3004858.jpg  
  inflating: flowers/dandelion/3491333876_e3fed43c0d.jpg  
  inflating: flowers/dandelion/3496258301_ca5f168306.jpg  
  inflating: flowers/dandelion/3499837275_5f24d2f8bf_n.jpg  
  inflating: flowers/dandelion/3501368412_358e144d1f.jpg  
  inflating: flowers/dandelion/3502447188_ab4a5055ac_m.jpg  
  inflating: flowers/dandelion/3505026222_c760df0035_n.jpg  
  inflating: flowers/dandelion/3509307596_6cfe97867d_n.jpg  
  inflating: flowers/dandelion/3512879565_88dd8fc269_n.jpg  
  inflating: flowers/dandelion/3513200808_390f1d63a7_m.jpg  
  inflating: flowers/dandelion/3517492544_0fd3ed6a66_m.jpg  
  inflating: flowers/dandelion/3518608454_c3fd3c311c_m.jpg  
  inflating: flowers/dandelion/3530495617_fd84fb321a_m.jpg  
  inflating: flowers/dandelion/3530500952_9f94fb8b9c_m.jpg  
  inflating: flowers/dandelion/3533075436_0954145b9f_m.jpg  
  inflating: flowers/dandelion/3533167406_e9f4cf10bb_m.jpg  
  inflating: flowers/dandelion/3539077354_c67aa7168d_m.jpg  
  inflating: flowers/dandelion/3554435478_1a7ab743e9_n.jpg  
  inflating: flowers/dandelion/3554992110_81d8c9b0bd_m.jpg  
  inflating: flowers/dandelion/3562861685_8b8d747b4d.jpg  
  inflating: flowers/dandelion/3580437733_9ef51f2981_n.jpg  
  inflating: flowers/dandelion/3580443099_9a6902ebd8_n.jpg  
  inflating: flowers/dandelion/3581252194_8c976d333a_n.jpg  
  inflating: flowers/dandelion/3584414925_1e6c4b61db_n.jpg  
  inflating: flowers/dandelion/3584415133_a4122ab7b9.jpg  
  inflating: flowers/dandelion/3585220976_5acac92d1c.jpg  
  inflating: flowers/dandelion/3589816063_50f8de7b64_m.jpg  
  inflating: flowers/dandelion/3591588855_b4fd53b000.jpg  
  inflating: flowers/dandelion/3612582808_4503fa1f8b_m.jpg  
  inflating: flowers/dandelion/3662701865_3ff283a33a_n.jpg  
  inflating: flowers/dandelion/3664916269_29f07c7c7b.jpg  
  inflating: flowers/dandelion/3675486971_d4c8683b54_n.jpg  
  inflating: flowers/dandelion/3688128868_031e7b53e1_n.jpg  
  inflating: flowers/dandelion/3696596109_4c4419128a_m.jpg  
  inflating: flowers/dandelion/3730618647_5725c692c3_m.jpg  
  inflating: flowers/dandelion/3761310831_41b5eba622_n.jpg  
  inflating: flowers/dandelion/3823142577_dd5acd5ac6_n.jpg  
  inflating: flowers/dandelion/3844111216_742ea491a0.jpg  
  inflating: flowers/dandelion/3856725141_0db85f466d_n.jpg  
  inflating: flowers/dandelion/3857059749_fe8ca621a9.jpg  
  inflating: flowers/dandelion/3954167682_128398bf79_m.jpg  
  inflating: flowers/dandelion/3991962484_085ba2da94.jpg  
  inflating: flowers/dandelion/3998275481_651205e02d.jpg  
  inflating: flowers/dandelion/3998927705_af499a4f29.jpg  
  inflating: flowers/dandelion/4082856478_741a411ebb.jpg  
  inflating: flowers/dandelion/4134441089_c8c1e6132a.jpg  
  inflating: flowers/dandelion/4151883194_e45505934d_n.jpg  
  inflating: flowers/dandelion/4155914848_3d57f50fc7.jpg  
  inflating: flowers/dandelion/4164845062_1fd9b3f3b4.jpg  
  inflating: flowers/dandelion/4226758402_a1b75ce3ac_n.jpg  
  inflating: flowers/dandelion/4254850910_0610224342_n.jpg  
  inflating: flowers/dandelion/425800274_27dba84fac_n.jpg  
  inflating: flowers/dandelion/4258272073_f616d1e575_m.jpg  
  inflating: flowers/dandelion/4258272381_65bd4b8191_m.jpg  
  inflating: flowers/dandelion/4265711814_9a006ee5b8.jpg  
  inflating: flowers/dandelion/4275776457_d04b597cfa_n.jpg  
  inflating: flowers/dandelion/4278757393_bca8415ed4_n.jpg  
  inflating: flowers/dandelion/4290112545_3528055993_m.jpg  
  inflating: flowers/dandelion/4336536446_e635f48f2e.jpg  
  inflating: flowers/dandelion/4489359360_09db62f825.jpg  
  inflating: flowers/dandelion/4496277750_8c34256e28.jpg  
  inflating: flowers/dandelion/4500964841_b1142b50fb_n.jpg  
  inflating: flowers/dandelion/4510350093_3700064215.jpg  
  inflating: flowers/dandelion/4510938552_6f7bae172a_n.jpg  
  inflating: flowers/dandelion/4512569988_2b3f802cc6.jpg  
  inflating: flowers/dandelion/4514343281_26781484df.jpg  
  inflating: flowers/dandelion/451965300_619b781dc9_m.jpg  
  inflating: flowers/dandelion/4523239455_9c31a06aaf_n.jpg  
  inflating: flowers/dandelion/4523862714_b41b459c88.jpg  
  inflating: flowers/dandelion/4528742654_99d233223b_m.jpg  
  inflating: flowers/dandelion/4530848609_02a1d9b791.jpg  
  inflating: flowers/dandelion/4550784336_584d7a65de_m.jpg  
  inflating: flowers/dandelion/4552571121_2677bcdec3.jpg  
  inflating: flowers/dandelion/4552591312_02fe1dcc04_n.jpg  
  inflating: flowers/dandelion/4556178143_e0d32c0a86_n.jpg  
  inflating: flowers/dandelion/455728598_c5f3e7fc71_m.jpg  
  inflating: flowers/dandelion/4557781241_0060cbe723_n.jpg  
  inflating: flowers/dandelion/4558536575_d43a611bd4_n.jpg  
  inflating: flowers/dandelion/4558562689_c8e2ab9f10.jpg  
  inflating: flowers/dandelion/4560613196_91a04f8dcf_m.jpg  
  inflating: flowers/dandelion/4560663938_3557a1f831.jpg  
  inflating: flowers/dandelion/4562516418_8ccb8c103f.jpg  
  inflating: flowers/dandelion/4568317687_3f89622f76.jpg  
  inflating: flowers/dandelion/4571681134_b605a61547_n.jpg  
  inflating: flowers/dandelion/4571923094_b9cefa9438_n.jpg  
  inflating: flowers/dandelion/4572738670_4787a11058_n.jpg  
  inflating: flowers/dandelion/4573204385_9b71e96b35_m.jpg  
  inflating: flowers/dandelion/4573204407_babff0dce4_n.jpg  
  inflating: flowers/dandelion/4573886520_09c984ecd8_m.jpg  
  inflating: flowers/dandelion/4573886524_5161482ca7_n.jpg  
  inflating: flowers/dandelion/4574102507_70039c8b28.jpg  
  inflating: flowers/dandelion/4574447682_40dce530f1.jpg  
  inflating: flowers/dandelion/4574451859_432c856b6e_n.jpg  
  inflating: flowers/dandelion/4574736702_b15ecf97d0_m.jpg  
  inflating: flowers/dandelion/4574737576_044403a997_n.jpg  
  inflating: flowers/dandelion/4575406391_7a62c5f90f_n.jpg  
  inflating: flowers/dandelion/458011386_ec89115a19.jpg  
  inflating: flowers/dandelion/4586018734_6de9c513c2.jpg  
  inflating: flowers/dandelion/4588529727_4a79c61577.jpg  
  inflating: flowers/dandelion/4589787911_851cb80157_n.jpg  
  inflating: flowers/dandelion/459633569_5ddf6bc116_m.jpg  
  inflating: flowers/dandelion/459748276_69101b0cec_n.jpg  
  inflating: flowers/dandelion/4598938531_9749b3b56a.jpg  
  inflating: flowers/dandelion/4601270210_60136f2b87_n.jpg  
  inflating: flowers/dandelion/4606893762_c2f26c7e91_n.jpg  
  inflating: flowers/dandelion/4607183665_3472643bc8.jpg  
  inflating: flowers/dandelion/4610125337_50798408b8_m.jpg  
  inflating: flowers/dandelion/461632542_0387557eff.jpg  
  inflating: flowers/dandelion/4622115595_a0de9f2013_n.jpg  
  inflating: flowers/dandelion/4624036600_11a4744254_n.jpg  
  inflating: flowers/dandelion/4629844753_4e02015d29_m.jpg  
  inflating: flowers/dandelion/4632235020_d00ce1e497.jpg  
  inflating: flowers/dandelion/4632251871_9f324a7bb5.jpg  
  inflating: flowers/dandelion/4632757134_40156d7d5b.jpg  
  inflating: flowers/dandelion/4632761610_768360d425.jpg  
  inflating: flowers/dandelion/4632863567_5f9af7de97_n.jpg  
  inflating: flowers/dandelion/4633323785_20676ff914_m.jpg  
  inflating: flowers/dandelion/4635296297_9ce69e4a6e.jpg  
  inflating: flowers/dandelion/463736819_f779800165.jpg  
  inflating: flowers/dandelion/4638438929_2ec76083c8_m.jpg  
  inflating: flowers/dandelion/4645101643_9c9d9df13e.jpg  
  inflating: flowers/dandelion/4645161319_c308fc31ef_n.jpg  
  inflating: flowers/dandelion/4650752466_ed088e0d85_n.jpg  
  inflating: flowers/dandelion/4654848357_9549351e0b_n.jpg  
  inflating: flowers/dandelion/4657801292_73bef15031.jpg  
  inflating: flowers/dandelion/4669006062_6b3d260037_n.jpg  
  inflating: flowers/dandelion/4669815582_0a994fb4fd_m.jpg  
  inflating: flowers/dandelion/4675287055_5938ed62c4.jpg  
  inflating: flowers/dandelion/4676527148_d701b9202f_n.jpg  
  inflating: flowers/dandelion/468749497_951c571eff_n.jpg  
  inflating: flowers/dandelion/4691257171_23a29aaa33_n.jpg  
  inflating: flowers/dandelion/4696437766_85952d0196.jpg  
  inflating: flowers/dandelion/4708723476_a1b476a373.jpg  
  inflating: flowers/dandelion/4713958242_fbcfe9a61b_m.jpg  
  inflating: flowers/dandelion/4714026966_93846ddb74_m.jpg  
  inflating: flowers/dandelion/4716316039_044e4d2d1a.jpg  
  inflating: flowers/dandelion/4721773235_429acdf496_n.jpg  
  inflating: flowers/dandelion/477207005_6327db8393_m.jpg  
  inflating: flowers/dandelion/477316928_a70a31a704_m.jpg  
  inflating: flowers/dandelion/478851599_25bfd70605_n.jpg  
  inflating: flowers/dandelion/479115838_0771a6cdff.jpg  
  inflating: flowers/dandelion/479495978_ee22cf05be.jpg  
  inflating: flowers/dandelion/480621885_4c8b50fa11_m.jpg  
  inflating: flowers/dandelion/483097906_2c35054346.jpg  
  inflating: flowers/dandelion/4844697927_c70d644f40_n.jpg  
  inflating: flowers/dandelion/4847150510_7a5db086fa.jpg  
  inflating: flowers/dandelion/4858372040_52216eb0bd.jpg  
  inflating: flowers/dandelion/4862011506_4faf6d127e_n.jpg  
  inflating: flowers/dandelion/486234138_688e01aa9b_n.jpg  
  inflating: flowers/dandelion/4893356345_24d67eff9f_m.jpg  
  inflating: flowers/dandelion/493696003_f93ffb3abd_n.jpg  
  inflating: flowers/dandelion/494108764_e00178af6e.jpg  
  inflating: flowers/dandelion/4944731313_023a0508fd_n.jpg  
  inflating: flowers/dandelion/4953240903_a121fba81f_m.jpg  
  inflating: flowers/dandelion/5003160931_cf8cbb846f.jpg  
  inflating: flowers/dandelion/501987276_744448580c_m.jpg  
  inflating: flowers/dandelion/501987288_c69c4e0c90_m.jpg  
  inflating: flowers/dandelion/5024965767_230f140d60_n.jpg  
  inflating: flowers/dandelion/5033866477_a77cccba49_m.jpg  
  inflating: flowers/dandelion/5045509402_6e052ce443.jpg  
  inflating: flowers/dandelion/506659320_6fac46551e.jpg  
  inflating: flowers/dandelion/506660896_c903cca1f0.jpg  
  inflating: flowers/dandelion/510677438_73e4b91c95_m.jpg  
  inflating: flowers/dandelion/510874382_f7e3435043.jpg  
  inflating: flowers/dandelion/510897767_918260db93.jpg  
  inflating: flowers/dandelion/5109496141_8dcf673d43_n.jpg  
  inflating: flowers/dandelion/5109501167_2d9bbb0f27_m.jpg  
  inflating: flowers/dandelion/5110102140_787d325757_n.jpg  
  inflating: flowers/dandelion/5110103388_78dc02558e_n.jpg  
  inflating: flowers/dandelion/5110104894_a52c685516_n.jpg  
  inflating: flowers/dandelion/5129135346_3fa8e804d8_n.jpg  
  inflating: flowers/dandelion/5140791232_52f2c5b41d_n.jpg  
  inflating: flowers/dandelion/515143813_b3afb08bf9.jpg  
  inflating: flowers/dandelion/5217892384_3edce91761_m.jpg  
  inflating: flowers/dandelion/5416388641_c66d52d2ff_m.jpg  
  inflating: flowers/dandelion/5446666484_365f3be83a_n.jpg  
  inflating: flowers/dandelion/5572197407_a0047238a6.jpg  
  inflating: flowers/dandelion/5596093561_09b0301136_n.jpg  
  inflating: flowers/dandelion/5598014250_684c28bd5c_n.jpg  
  inflating: flowers/dandelion/5598591979_ed9af1b3e9_n.jpg  
  inflating: flowers/dandelion/5598845098_13e8e9460f.jpg  
  inflating: flowers/dandelion/5600240736_4a90c10579_n.jpg  
  inflating: flowers/dandelion/5605093210_5fecb71c61.jpg  
  inflating: flowers/dandelion/5605502523_05acb00ae7_n.jpg  
  inflating: flowers/dandelion/5607256228_2294c201b3.jpg  
  inflating: flowers/dandelion/5607669502_ccd2a76668_n.jpg  
  inflating: flowers/dandelion/5607983792_f8b8766ff7.jpg  
  inflating: flowers/dandelion/5608832856_f5d49de778.jpg  
  inflating: flowers/dandelion/5613466853_e476bb080e.jpg  
  inflating: flowers/dandelion/5623492051_8e5ce438bd.jpg  
  inflating: flowers/dandelion/5623855601_ecaebdb8fe.jpg  
  inflating: flowers/dandelion/5628296138_9031791fab.jpg  
  inflating: flowers/dandelion/5628515159_6b437ff1e5_n.jpg  
  inflating: flowers/dandelion/5629940298_634f35125c.jpg  
  inflating: flowers/dandelion/5642429835_a0cbf1bab7_n.jpg  
  inflating: flowers/dandelion/5643666851_dc3f42399d_m.jpg  
  inflating: flowers/dandelion/5644234724_cb0917ee33_m.jpg  
  inflating: flowers/dandelion/5646743865_a8f20b60f7_n.jpg  
  inflating: flowers/dandelion/5647842237_b1c5196718_n.jpg  
  inflating: flowers/dandelion/5651310874_c8be336c2b.jpg  
  inflating: flowers/dandelion/5654859907_c2be3b0f1e_n.jpg  
  inflating: flowers/dandelion/5655177340_78fc36ce59_m.jpg  
  inflating: flowers/dandelion/5670543216_8c4cb0caa8_m.jpg  
  inflating: flowers/dandelion/5673112305_02fe19297b_n.jpg  
  inflating: flowers/dandelion/5674707921_1ffd141bab_n.jpg  
  inflating: flowers/dandelion/5675705011_82729927ca_n.jpg  
  inflating: flowers/dandelion/5676682203_70d797f760.jpg  
  inflating: flowers/dandelion/5681951567_d3b03bfd2a_m.jpg  
  inflating: flowers/dandelion/570127230_ce409f90f8_n.jpg  
  inflating: flowers/dandelion/5715788902_9dd2b4ef1d.jpg  
  inflating: flowers/dandelion/5716633491_55e6f02645_n.jpg  
  inflating: flowers/dandelion/5725836812_a7d1c5540d_m.jpg  
  inflating: flowers/dandelion/5726984343_ae124aed97.jpg  
  inflating: flowers/dandelion/5727534342_419604c177_n.jpg  
  inflating: flowers/dandelion/5733004219_a0ba411bfa_n.jpg  
  inflating: flowers/dandelion/5740633858_8fd54c23c9_n.jpg  
  inflating: flowers/dandelion/5744236092_de84b4e38d_n.jpg  
  inflating: flowers/dandelion/5745882709_fb6fc8f02a_n.jpg  
  inflating: flowers/dandelion/5749815755_12f9214649_n.jpg  
  inflating: flowers/dandelion/5757012454_c37f305b73.jpg  
  inflating: flowers/dandelion/5760890854_c3e009bc8a_n.jpg  
  inflating: flowers/dandelion/5762590366_5cf7a32b87_n.jpg  
  inflating: flowers/dandelion/5767676943_4f9c7323f3_n.jpg  
  inflating: flowers/dandelion/5768217474_f6b1eef6d5_n.jpg  
  inflating: flowers/dandelion/5772194932_60b833091f.jpg  
  inflating: flowers/dandelion/5776879272_95008399c3.jpg  
  inflating: flowers/dandelion/578938011_34918b1468.jpg  
  inflating: flowers/dandelion/5797606814_ccac615312_m.jpg  
  inflating: flowers/dandelion/5829610661_8439ba4a77_n.jpg  
  inflating: flowers/dandelion/5862288632_1df5eb6dd0.jpg  
  inflating: flowers/dandelion/5863928177_8ae1425e76_n.jpg  
  inflating: flowers/dandelion/5873232330_59818dee03_n.jpg  
  inflating: flowers/dandelion/5875763050_82f32f2eed_m.jpg  
  inflating: flowers/dandelion/5886830036_2b99899c95.jpg  
  inflating: flowers/dandelion/5909154147_9da14d1730_n.jpg  
  inflating: flowers/dandelion/5996421299_b9bf488c1a_n.jpg  
  inflating: flowers/dandelion/6012046444_fd80afb63a_n.jpg  
  inflating: flowers/dandelion/6019234426_d25ea1230a_m.jpg  
  inflating: flowers/dandelion/6035460327_4bbb708eab_n.jpg  
  inflating: flowers/dandelion/6044710875_0459796d1b_m.jpg  
  inflating: flowers/dandelion/6060576850_984176cf4f_n.jpg  
  inflating: flowers/dandelion/6103898045_e066cdeedf_n.jpg  
  inflating: flowers/dandelion/6104442744_ee2bcd32e7_n.jpg  
  inflating: flowers/dandelion/61242541_a04395e6bc.jpg  
  inflating: flowers/dandelion/6132275522_ce46b33c33_m.jpg  
  inflating: flowers/dandelion/6146107825_45f708ecd7_n.jpg  
  inflating: flowers/dandelion/6208857436_14a65fe4af_n.jpg  
  inflating: flowers/dandelion/62293290_2c463891ff_m.jpg  
  inflating: flowers/dandelion/6229634119_af5fec0a22.jpg  
  inflating: flowers/dandelion/6250363717_17732e992e_n.jpg  
  inflating: flowers/dandelion/6400843175_ef07053f8f_m.jpg  
  inflating: flowers/dandelion/6412422565_ce61ca48a9_n.jpg  
  inflating: flowers/dandelion/645330051_06b192b7e1.jpg  
  inflating: flowers/dandelion/6495802659_98b57e0cca_m.jpg  
  inflating: flowers/dandelion/674407101_57676c40fb.jpg  
  inflating: flowers/dandelion/6888894675_524a6accab_n.jpg  
  inflating: flowers/dandelion/6897671808_57230e04c5_n.jpg  
  inflating: flowers/dandelion/6900157914_c3387c11d8.jpg  
  inflating: flowers/dandelion/6901435398_b3192ff7f8_m.jpg  
  inflating: flowers/dandelion/6918170172_3215766bf4_m.jpg  
  inflating: flowers/dandelion/6953830582_8525e0423c_n.jpg  
  inflating: flowers/dandelion/6954604340_d3223ed296_m.jpg  
  inflating: flowers/dandelion/6968202872_cfcb5b77fb.jpg  
  inflating: flowers/dandelion/6972675188_37f1f1d6f6.jpg  
  inflating: flowers/dandelion/6983105424_f33cc9b08d_m.jpg  
  inflating: flowers/dandelion/6983113346_21551e1b52_n.jpg  
  inflating: flowers/dandelion/6983120596_8b9f084ac2_n.jpg  
  inflating: flowers/dandelion/6985099958_5249a4688b.jpg  
  inflating: flowers/dandelion/6994925894_030e157fe0.jpg  
  inflating: flowers/dandelion/6994931102_4667c0352e.jpg  
  inflating: flowers/dandelion/6994931380_a7588c1192_m.jpg  
  inflating: flowers/dandelion/6994933428_307b092ce7_m.jpg  
  inflating: flowers/dandelion/6994938270_bf51d0fe63.jpg  
  inflating: flowers/dandelion/7004645518_ff0f862eff_n.jpg  
  inflating: flowers/dandelion/7015947703_11b30c20c9_n.jpg  
  inflating: flowers/dandelion/7040710179_7f86a17a3c_n.jpg  
  inflating: flowers/dandelion/7062171343_db61c92737_n.jpg  
  inflating: flowers/dandelion/7083589767_2859993846_n.jpg  
  inflating: flowers/dandelion/7099259755_1c66420206_n.jpg  
  inflating: flowers/dandelion/7116950607_49b19102ba_n.jpg  
  inflating: flowers/dandelion/7132482331_01769e36e9_n.jpg  
  inflating: flowers/dandelion/7132605107_f5e033d725_n.jpg  
  inflating: flowers/dandelion/7132676187_7a4265b16f_n.jpg  
  inflating: flowers/dandelion/7132677385_bcbdcc6001.jpg  
  inflating: flowers/dandelion/7141013005_d2f168c373.jpg  
  inflating: flowers/dandelion/7141019507_4a44c6e888_m.jpg  
  inflating: flowers/dandelion/7148085703_b9e8bcd6ca_n.jpg  
  inflating: flowers/dandelion/7153497513_076486e26b_n.jpg  
  inflating: flowers/dandelion/7162551630_3647eb9254.jpg  
  inflating: flowers/dandelion/7164500544_332b75aa3b.jpg  
  inflating: flowers/dandelion/7165651120_2279ebf6d1.jpg  
  inflating: flowers/dandelion/7179487220_56e4725195_m.jpg  
  inflating: flowers/dandelion/7184780734_3baab127c2_m.jpg  
  inflating: flowers/dandelion/7188112181_571434b058_n.jpg  
  inflating: flowers/dandelion/7193058132_36fd883048_m.jpg  
  inflating: flowers/dandelion/7196409186_a59957ce0b_m.jpg  
  inflating: flowers/dandelion/7196683612_6c4cf05b24.jpg  
  inflating: flowers/dandelion/7197581386_8a51f1bb12_n.jpg  
  inflating: flowers/dandelion/7218569994_de7045c0c0.jpg  
  inflating: flowers/dandelion/7222962522_36952a67b6_n.jpg  
  inflating: flowers/dandelion/7226987694_34552c3115_n.jpg  
  inflating: flowers/dandelion/7232035352_84a39e99ba_n.jpg  
  inflating: flowers/dandelion/7243174412_d3628e4cc4_m.jpg  
  inflating: flowers/dandelion/7243478942_30bf542a2d_m.jpg  
  inflating: flowers/dandelion/7247192002_39b79998f0_n.jpg  
  inflating: flowers/dandelion/7249354462_21925f7d95_n.jpg  
  inflating: flowers/dandelion/7262863194_682209e9fb.jpg  
  inflating: flowers/dandelion/7267547016_c8903920bf.jpg  
  inflating: flowers/dandelion/7270523166_b62fc9e5f1_m.jpg  
  inflating: flowers/dandelion/7280217714_fb9ffccf2d_n.jpg  
  inflating: flowers/dandelion/7280221020_98b473b20d_n.jpg  
  inflating: flowers/dandelion/7280222348_a87725ca77.jpg  
  inflating: flowers/dandelion/7280227122_7ea2bef7f4_n.jpg  
  inflating: flowers/dandelion/7291185504_b740bbeba4_m.jpg  
  inflating: flowers/dandelion/7295618968_c08a326cc1_m.jpg  
  inflating: flowers/dandelion/7308600792_27cff2f73f.jpg  
  inflating: flowers/dandelion/7315832212_b0ceeb8de8_n.jpg  
  inflating: flowers/dandelion/7355522_b66e5d3078_m.jpg  
  inflating: flowers/dandelion/7367491658_9eb4dc2384_m.jpg  
  inflating: flowers/dandelion/7368435774_0045b9dc4e.jpg  
  inflating: flowers/dandelion/7368449232_c99f49b2e6_n.jpg  
  inflating: flowers/dandelion/7401173270_ebaf04c9b0_n.jpg  
  inflating: flowers/dandelion/7425858848_d04dab08dd_n.jpg  
  inflating: flowers/dandelion/7448453384_fb9caaa9af_n.jpg  
  inflating: flowers/dandelion/7465850028_cdfaae235a_n.jpg  
  inflating: flowers/dandelion/7469617666_0e1a014917.jpg  
  inflating: flowers/dandelion/751941983_58e1ae3957_m.jpg  
  inflating: flowers/dandelion/7719263062_3c8a307a5d.jpg  
  inflating: flowers/dandelion/7808430998_31ba639031_n.jpg  
  inflating: flowers/dandelion/7808545612_546cfca610_m.jpg  
  inflating: flowers/dandelion/7843447416_847e6ba7f4_m.jpg  
  inflating: flowers/dandelion/7884440256_91c033732d.jpg  
  inflating: flowers/dandelion/7950892504_33142110c2.jpg  
  inflating: flowers/dandelion/7950901292_2dea05f9a2_n.jpg  
  inflating: flowers/dandelion/7998106328_c3953f70e9_n.jpg  
  inflating: flowers/dandelion/8011324555_375b7b5b0a.jpg  
  inflating: flowers/dandelion/8058286066_acdf082487_n.jpg  
  inflating: flowers/dandelion/8079778274_f2a400f749_n.jpg  
  inflating: flowers/dandelion/808239968_318722e4db.jpg  
  inflating: flowers/dandelion/8083321316_f62ea76f72_n.jpg  
  inflating: flowers/dandelion/80846315_d997645bea_n.jpg  
  inflating: flowers/dandelion/8168031302_6e36f39d87.jpg  
  inflating: flowers/dandelion/8181477_8cb77d2e0f_n.jpg  
  inflating: flowers/dandelion/8194560480_bfc1fb5801.jpg  
  inflating: flowers/dandelion/8209318399_ae72aefdb5.jpg  
  inflating: flowers/dandelion/8220011556_28e0cab67f.jpg  
  inflating: flowers/dandelion/8223949_2928d3f6f6_n.jpg  
  inflating: flowers/dandelion/8223968_6b51555d2f_n.jpg  
  inflating: flowers/dandelion/8267315764_129f2e1d77_m.jpg  
  inflating: flowers/dandelion/8270191872_61e47ae3b8_m.jpg  
  inflating: flowers/dandelion/8327657321_2cbceec396_n.jpg  
  inflating: flowers/dandelion/8376558865_19c5cd6fd6_n.jpg  
  inflating: flowers/dandelion/8475758_4c861ab268_m.jpg  
  inflating: flowers/dandelion/8475769_3dea463364_m.jpg  
  inflating: flowers/dandelion/8497389500_45636fdd14.jpg  
  inflating: flowers/dandelion/8533312924_ee09412645_n.jpg  
  inflating: flowers/dandelion/854593001_c57939125f_n.jpg  
  inflating: flowers/dandelion/8613502159_d9ea67ba63.jpg  
  inflating: flowers/dandelion/8632704230_ccafc5f7e2.jpg  
  inflating: flowers/dandelion/8642679391_0805b147cb_m.jpg  
  inflating: flowers/dandelion/8647874151_aac8db2588_m.jpg  
  inflating: flowers/dandelion/8663932737_0a603ab718_n.jpg  
  inflating: flowers/dandelion/8681169825_19a21c6bf5_m.jpg  
  inflating: flowers/dandelion/8681388520_c697dee897_n.jpg  
  inflating: flowers/dandelion/8681420404_6ae114f036_n.jpg  
  inflating: flowers/dandelion/8684108_a85764b22d_n.jpg  
  inflating: flowers/dandelion/8684925862_d736e153bf_n.jpg  
  inflating: flowers/dandelion/8687729737_a7fbeded2c_m.jpg  
  inflating: flowers/dandelion/8689302100_be76a16ccc_n.jpg  
  inflating: flowers/dandelion/8689302980_9bd2f7b9fe_n.jpg  
  inflating: flowers/dandelion/8691437509_9ac8441db7_n.jpg  
  inflating: flowers/dandelion/8701999625_8d83138124.jpg  
  inflating: flowers/dandelion/8707349105_6d06b543b0.jpg  
  inflating: flowers/dandelion/8716513637_2ba0c4e6cd_n.jpg  
  inflating: flowers/dandelion/8717157979_05cbc10cc1.jpg  
  inflating: flowers/dandelion/8717161615_4c1e403083.jpg  
  inflating: flowers/dandelion/8717787983_c83bdf39fe_n.jpg  
  inflating: flowers/dandelion/8719032054_9a3ce4f0ff.jpg  
  inflating: flowers/dandelion/8719388716_1a392c4c0e_n.jpg  
  inflating: flowers/dandelion/8720503800_cab5c62a34.jpg  
  inflating: flowers/dandelion/8723679596_391a724d4f_m.jpg  
  inflating: flowers/dandelion/8724252904_db9a5104df_m.jpg  
  inflating: flowers/dandelion/8727612532_6f3d0904aa_n.jpg  
  inflating: flowers/dandelion/8733226215_161309f8ec.jpg  
  inflating: flowers/dandelion/8735646181_fa9787d4e0.jpg  
  inflating: flowers/dandelion/8737699225_19e0c9f0fa_m.jpg  
  inflating: flowers/dandelion/8738317694_eca2ce3bfc_n.jpg  
  inflating: flowers/dandelion/8739657154_6db14796c9.jpg  
  inflating: flowers/dandelion/8740218495_23858355d8_n.jpg  
  inflating: flowers/dandelion/8740787470_67230d0609.jpg  
  inflating: flowers/dandelion/8744249948_36cb1969f8_m.jpg  
  inflating: flowers/dandelion/8747223572_dcd9601e99.jpg  
  inflating: flowers/dandelion/8748402330_c00f9fbf7f_n.jpg  
  inflating: flowers/dandelion/8749577087_dc2521615f_n.jpg  
  inflating: flowers/dandelion/8754822932_948afc7cef.jpg  
  inflating: flowers/dandelion/8756906129_b05a1b26f2.jpg  
  inflating: flowers/dandelion/8757650550_113d7af3bd.jpg  
  inflating: flowers/dandelion/8759118120_9eac064e38_n.jpg  
  inflating: flowers/dandelion/8780964418_7a01a7f48a_n.jpg  
  inflating: flowers/dandelion/8791577794_7573712cb4_n.jpg  
  inflating: flowers/dandelion/8797114213_103535743c_m.jpg  
  inflating: flowers/dandelion/8805314187_1aed702082_n.jpg  
  inflating: flowers/dandelion/8831808134_315aedb37b.jpg  
  inflating: flowers/dandelion/8842317179_d59cf218cb_n.jpg  
  inflating: flowers/dandelion/8842482175_92a14b4934_m.jpg  
  inflating: flowers/dandelion/8880158802_6e10a452c7_m.jpg  
  inflating: flowers/dandelion/8905148527_ba9f55cd78.jpg  
  inflating: flowers/dandelion/8915661673_9a1cdc3755_m.jpg  
  inflating: flowers/dandelion/8929523512_c87897b84e.jpg  
  inflating: flowers/dandelion/8935456132_8dc4d3b679_n.jpg  
  inflating: flowers/dandelion/8935477500_89f22cca03_n.jpg  
  inflating: flowers/dandelion/8952484062_31d1d97e45.jpg  
  inflating: flowers/dandelion/8956863946_f96be02aae_n.jpg  
  inflating: flowers/dandelion/8963359346_65ca69c59d_n.jpg  
  inflating: flowers/dandelion/8966818334_483f4489be_n.jpg  
  inflating: flowers/dandelion/8969938579_4c2032dd96_n.jpg  
  inflating: flowers/dandelion/8978962053_0727b41d26.jpg  
  inflating: flowers/dandelion/8979062599_86cac547b8.jpg  
  inflating: flowers/dandelion/8979087213_28f572174c.jpg  
  inflating: flowers/dandelion/8980145452_efbd6e3b04.jpg  
  inflating: flowers/dandelion/8980164828_04fbf64f79_n.jpg  
  inflating: flowers/dandelion/8980266062_8387f6cc89.jpg  
  inflating: flowers/dandelion/8980273068_cf7e8b880a_n.jpg  
  inflating: flowers/dandelion/8980460785_b5e6842e59_n.jpg  
  inflating: flowers/dandelion/8981659922_7b1be892e7_m.jpg  
  inflating: flowers/dandelion/8981828144_4b66b4edb6_n.jpg  
  inflating: flowers/dandelion/8989067485_aab399460b_n.jpg  
  inflating: flowers/dandelion/9010116368_2f51f1e086_n.jpg  
  inflating: flowers/dandelion/9011235009_58c7b244c1_n.jpg  
  inflating: flowers/dandelion/9029297232_de50698e2f_n.jpg  
  inflating: flowers/dandelion/9029756865_db8891807a_n.jpg  
  inflating: flowers/dandelion/9111669902_9471c3a49c_n.jpg  
  inflating: flowers/dandelion/9152356642_06ae73113f.jpg  
  inflating: flowers/dandelion/9188647508_3b56e62f69.jpg  
  inflating: flowers/dandelion/9200211647_be34ce978b.jpg  
  inflating: flowers/dandelion/921252114_91e334b950.jpg  
  inflating: flowers/dandelion/9262004825_710346cde9_n.jpg  
  inflating: flowers/dandelion/9293460423_7fbb1e3c32_n.jpg  
  inflating: flowers/dandelion/9300335851_cdf1cef7a9.jpg  
  inflating: flowers/dandelion/9301891790_971dcfb35d_m.jpg  
  inflating: flowers/dandelion/9472854850_fc9e1db673.jpg  
  inflating: flowers/dandelion/9517326597_5d116a0166.jpg  
  inflating: flowers/dandelion/9533964635_f38e6fa3c3.jpg  
  inflating: flowers/dandelion/9595369280_dd88b61814.jpg  
  inflating: flowers/dandelion/9613826015_f345354874.jpg  
  inflating: flowers/dandelion/9617087594_ec2a9b16f6.jpg  
  inflating: flowers/dandelion/9646730031_f3d5014416_n.jpg  
  inflating: flowers/dandelion/9719816995_8f211abf02_n.jpg  
  inflating: flowers/dandelion/9726260379_4e8ee66875_m.jpg  
  inflating: flowers/dandelion/9759608055_9ab623d193.jpg  
  inflating: flowers/dandelion/9818247_e2eac18894.jpg  
  inflating: flowers/dandelion/9853885425_4a82356f1d_m.jpg  
  inflating: flowers/dandelion/98992760_53ed1d26a9.jpg  
  inflating: flowers/dandelion/9939430464_5f5861ebab.jpg  
  inflating: flowers/dandelion/9965757055_ff01b5ee6f_n.jpg  
  inflating: flowers/rose/10090824183_d02c613f10_m.jpg  
  inflating: flowers/rose/102501987_3cdb8e5394_n.jpg  
  inflating: flowers/rose/10503217854_e66a804309.jpg  
  inflating: flowers/rose/10894627425_ec76bbc757_n.jpg  
  inflating: flowers/rose/110472418_87b6a3aa98_m.jpg  
  inflating: flowers/rose/11102341464_508d558dfc_n.jpg  
  inflating: flowers/rose/11233672494_d8bf0a3dbf_n.jpg  
  inflating: flowers/rose/11694025703_9a906fedc1_n.jpg  
  inflating: flowers/rose/118974357_0faa23cce9_n.jpg  
  inflating: flowers/rose/11944957684_2cc806276e.jpg  
  inflating: flowers/rose/12165480946_c4a3fe182d_n.jpg  
  inflating: flowers/rose/12202373204_34fb07205b.jpg  
  inflating: flowers/rose/12238827553_cf427bfd51_n.jpg  
  inflating: flowers/rose/12240165555_98625b1e88_n.jpg  
  inflating: flowers/rose/12240303_80d87f77a3_n.jpg  
  inflating: flowers/rose/12240577184_b0de0e53ea_n.jpg  
  inflating: flowers/rose/12243068283_ee4c2683e2_n.jpg  
  inflating: flowers/rose/12243069253_e512464095_n.jpg  
  inflating: flowers/rose/123128873_546b8b7355_n.jpg  
  inflating: flowers/rose/12323085443_8ac0cdb713_n.jpg  
  inflating: flowers/rose/12338444334_72fcc2fc58_m.jpg  
  inflating: flowers/rose/12395698413_c0388278f7.jpg  
  inflating: flowers/rose/12406229175_82e2ac649c_n.jpg  
  inflating: flowers/rose/12406418663_af20dc225f_n.jpg  
  inflating: flowers/rose/12407768513_3440238148_n.jpg  
  inflating: flowers/rose/12434194695_a7c4e73c6b_n.jpg  
  inflating: flowers/rose/12562723334_a2e0a9e3c8_n.jpg  
  inflating: flowers/rose/12572786553_634868f7f2_n.jpg  
  inflating: flowers/rose/13211873833_82b029c8a1_n.jpg  
  inflating: flowers/rose/13231224664_4af5293a37.jpg  
  inflating: flowers/rose/13235124703_a7e1266e44.jpg  
  inflating: flowers/rose/13264214185_d6aa79b3bd.jpg  
  inflating: flowers/rose/13279526615_a3b0059bec.jpg  
  inflating: flowers/rose/13342823005_16d3df58df_n.jpg  
  inflating: flowers/rose/1392579828_ab5a139052.jpg  
  inflating: flowers/rose/13929462317_96342a9a44.jpg  
  inflating: flowers/rose/13943843842_36aae2e7f5_n.jpg  
  inflating: flowers/rose/13979889721_42a59ca9fa_m.jpg  
  inflating: flowers/rose/14001990976_bd2da42dbc.jpg  
  inflating: flowers/rose/14019883858_e5d2a0ec10_n.jpg  
  inflating: flowers/rose/1402130395_0b89d76029.jpg  
  inflating: flowers/rose/14107161906_5737e0e4ec.jpg  
  inflating: flowers/rose/14127110749_624f5bfde6_n.jpg  
  inflating: flowers/rose/14145188939_b4de638bd3_n.jpg  
  inflating: flowers/rose/14154164774_3b39d36778.jpg  
  inflating: flowers/rose/14166797345_d2ab9da518.jpg  
  inflating: flowers/rose/14172324538_2147808483_n.jpg  
  inflating: flowers/rose/14176042519_5792b37555.jpg  
  inflating: flowers/rose/14221192676_eb8c89a7d6_n.jpg  
  inflating: flowers/rose/14267691818_301aceda07.jpg  
  inflating: flowers/rose/14312910041_b747240d56_n.jpg  
  inflating: flowers/rose/14381787252_e8e12e277a_n.jpg  
  inflating: flowers/rose/14406317221_1f2be67201_n.jpg  
  inflating: flowers/rose/14408977935_a397e796b8_m.jpg  
  inflating: flowers/rose/14414100710_753a36fce9.jpg  
  inflating: flowers/rose/14414117598_cf70df30de.jpg  
  inflating: flowers/rose/14414123198_24606fb32d.jpg  
  inflating: flowers/rose/1445228333_59a07e0801.jpg  
  inflating: flowers/rose/14460517566_783dbf23b8_n.jpg  
  inflating: flowers/rose/1446090416_f0cad5fde4.jpg  
  inflating: flowers/rose/1446097778_97149b8362.jpg  
  inflating: flowers/rose/14494590921_3bb1dc7b88_n.jpg  
  inflating: flowers/rose/14510185271_b5d75dd98e_n.jpg  
  inflating: flowers/rose/14573732424_1bb91e2e42_n.jpg  
  inflating: flowers/rose/145862135_ab710de93c_n.jpg  
  inflating: flowers/rose/14597445311_8acb60247e.jpg  
  inflating: flowers/rose/1461381091_aaaa663bbe_n.jpg  
  inflating: flowers/rose/14683774134_6367640585.jpg  
  inflating: flowers/rose/14687731322_5613f76353.jpg  
  inflating: flowers/rose/1469726748_f359f4a8c5.jpg  
  inflating: flowers/rose/14747962886_2bff6bb323_m.jpg  
  inflating: flowers/rose/14810868100_87eb739f26_m.jpg  
  inflating: flowers/rose/1485142251_ca89254442.jpg  
  inflating: flowers/rose/14870567200_80cda4362e_n.jpg  
  inflating: flowers/rose/14880561916_79aeb812fd_n.jpg  
  inflating: flowers/rose/14943194730_f48b4d4547_n.jpg  
  inflating: flowers/rose/14970973709_968910640e_n.jpg  
  inflating: flowers/rose/14982802401_a3dfb22afb.jpg  
  inflating: flowers/rose/14993880427_95d0f27257.jpg  
  inflating: flowers/rose/15011625580_7974c44bce.jpg  
  inflating: flowers/rose/15032112248_30c5284e54_n.jpg  
  inflating: flowers/rose/15060816740_68e1b2c31b.jpg  
  inflating: flowers/rose/15061894841_e5aca59ecd_n.jpg  
  inflating: flowers/rose/15094168139_8f636ffa1d_n.jpg  
  inflating: flowers/rose/15174615529_144ae28bdb_n.jpg  
  inflating: flowers/rose/15184419268_7230e9728e.jpg  
  inflating: flowers/rose/15186434972_e353da940a.jpg  
  inflating: flowers/rose/15190665092_5c1c37a066_m.jpg  
  inflating: flowers/rose/15202632426_d88efb321a_n.jpg  
  inflating: flowers/rose/15222804561_0fde5eb4ae_n.jpg  
  inflating: flowers/rose/15236835789_6009b8f33d.jpg  
  inflating: flowers/rose/15255964274_cf2ecdf702.jpg  
  inflating: flowers/rose/15255964454_0a64eb67fa.jpg  
  inflating: flowers/rose/15274443248_76b9f3eb24.jpg  
  inflating: flowers/rose/15277801151_5ed88f40f0_n.jpg  
  inflating: flowers/rose/15312360171_57bde98799_n.jpg  
  inflating: flowers/rose/15333843782_060cef3030.jpg  
  inflating: flowers/rose/1540738662_7b4152e344_m.jpg  
  inflating: flowers/rose/15424480096_45bb574b33.jpg  
  inflating: flowers/rose/15498482197_8878cdfb07_n.jpg  
  inflating: flowers/rose/15509799653_0562d4a4fa.jpg  
  inflating: flowers/rose/15566697073_9a214b700e_n.jpg  
  inflating: flowers/rose/15602874619_03fd934bed.jpg  
  inflating: flowers/rose/1562198683_8cd8cb5876_n.jpg  
  inflating: flowers/rose/15674450867_0ced942941_n.jpg  
  inflating: flowers/rose/15681454551_b6f73ce443_n.jpg  
  inflating: flowers/rose/15697872479_ed48e9dd73_n.jpg  
  inflating: flowers/rose/15699509054_d3e125286f_n.jpg  
  inflating: flowers/rose/15811380728_5053455c50_n.jpg  
  inflating: flowers/rose/15811411368_f4f2cd8873_n.jpg  
  inflating: flowers/rose/15816400548_c551da2212_n.jpg  
  inflating: flowers/rose/15818051327_9a44bf6244_n.jpg  
  inflating: flowers/rose/15820572326_be2ea4a55c_n.jpg  
  inflating: flowers/rose/15821959372_518b9dcf57_n.jpg  
  inflating: flowers/rose/15822837396_96b392fda8_m.jpg  
  inflating: flowers/rose/15859434664_67bf3ef29f.jpg  
  inflating: flowers/rose/15901230359_1819e96b89_n.jpg  
  inflating: flowers/rose/159079265_d77a9ac920_n.jpg  
  inflating: flowers/rose/15922772266_1167a06620.jpg  
  inflating: flowers/rose/15949087094_a8f565295c_m.jpg  
  inflating: flowers/rose/15951588433_c0713cbfc6_m.jpg  
  inflating: flowers/rose/15965652160_de91389965_m.jpg  
  inflating: flowers/rose/15972975956_9a770ca9dd_n.jpg  
  inflating: flowers/rose/15972976206_d32feeb79b_n.jpg  
  inflating: flowers/rose/15977362155_461030c196_m.jpg  
  inflating: flowers/rose/15978010566_5fa5905af1_n.jpg  
  inflating: flowers/rose/15978020586_6cb322b120_n.jpg  
  inflating: flowers/rose/15996816031_7f2fea25cb_n.jpg  
  inflating: flowers/rose/15999816377_4b95e0b538_n.jpg  
  inflating: flowers/rose/16001846141_393fdb887e_n.jpg  
  inflating: flowers/rose/16018886851_c32746cb72.jpg  
  inflating: flowers/rose/16051111039_0f0626a241_n.jpg  
  inflating: flowers/rose/16078501836_3ac067e18a.jpg  
  inflating: flowers/rose/160954292_6c2b4fda65_n.jpg  
  inflating: flowers/rose/16100313047_c2e23cbb3d_n.jpg  
  inflating: flowers/rose/16152175716_55d6968e08_n.jpg  
  inflating: flowers/rose/16152205512_9d6cb80fb6.jpg  
  inflating: flowers/rose/16155980245_6ab8d7b888.jpg  
  inflating: flowers/rose/16157873719_bf0bdf8558_n.jpg  
  inflating: flowers/rose/16209331331_343c899d38.jpg  
  inflating: flowers/rose/16229215579_e7dd808e9c.jpg  
  inflating: flowers/rose/16258946661_f9739cdc0a.jpg  
  inflating: flowers/rose/16374919860_4e445de29f_n.jpg  
  inflating: flowers/rose/16424992340_c1d9eb72b4.jpg  
  inflating: flowers/rose/1645761726_2b1be95472.jpg  
  inflating: flowers/rose/16476788181_0e2ffc719a.jpg  
  inflating: flowers/rose/16484100863_979beacb08.jpg  
  inflating: flowers/rose/16525204061_9b47be3726_m.jpg  
  inflating: flowers/rose/16545641666_2781e542a0_m.jpg  
  inflating: flowers/rose/16552686350_db8db55cd2.jpg  
  inflating: flowers/rose/16643785404_284c6c23fe_n.jpg  
  inflating: flowers/rose/16643944275_3cd4cd966c.jpg  
  inflating: flowers/rose/1666341535_99c6f7509f_n.jpg  
  inflating: flowers/rose/16670921315_0fc48d7ab2_n.jpg  
  inflating: flowers/rose/1667199972_7ba7d999c1_m.jpg  
  inflating: flowers/rose/16691277899_9433f39155_n.jpg  
  inflating: flowers/rose/16772483324_09f24813a1_n.jpg  
  inflating: flowers/rose/16903172207_2cd7aca66a.jpg  
  inflating: flowers/rose/17040847367_b54d05bf52.jpg  
  inflating: flowers/rose/17062080069_36ac7907d2_n.jpg  
  inflating: flowers/rose/17090993740_fcc8b60b81.jpg  
  inflating: flowers/rose/17104364030_ee31ee279b_n.jpg  
  inflating: flowers/rose/17105684129_e2cb69ea24_n.jpg  
  inflating: flowers/rose/17158274118_00ec99a23c.jpg  
  inflating: flowers/rose/17165596357_392a12391f.jpg  
  inflating: flowers/rose/172311368_49412f881b.jpg  
  inflating: flowers/rose/17291451621_0e39f08b9e_n.jpg  
  inflating: flowers/rose/17291930305_79deae6a90_n.jpg  
  inflating: flowers/rose/17302463621_d82be11f01_n.jpg  
  inflating: flowers/rose/17305246720_1866d6303b.jpg  
  inflating: flowers/rose/174109630_3c544b8a2f.jpg  
  inflating: flowers/rose/17449165090_dfb27af360_n.jpg  
  inflating: flowers/rose/17554868955_35f48516cd_m.jpg  
  inflating: flowers/rose/1756973583_4aac7df00d_m.jpg  
  inflating: flowers/rose/1757822526_fe30b9b3ca_m.jpg  
  inflating: flowers/rose/1775233884_12ff5a124f.jpg  
  inflating: flowers/rose/17867791274_25bb3f8a41_n.jpg  
  inflating: flowers/rose/17869810353_c0d9902bc3_n.jpg  
  inflating: flowers/rose/17869839663_1445f1efd0_n.jpg  
  inflating: flowers/rose/17869846573_d6c9c39843_n.jpg  
  inflating: flowers/rose/1788484468_f73afa6c32_n.jpg  
  inflating: flowers/rose/1793211631_68c31a74dc.jpg  
  inflating: flowers/rose/17953368844_be3d18cf30_m.jpg  
  inflating: flowers/rose/17990320484_93bba345d2_m.jpg  
  inflating: flowers/rose/1801614110_bb9fa46830.jpg  
  inflating: flowers/rose/180613732_3a7aba0b80_n.jpg  
  inflating: flowers/rose/1813435848_7852708394_n.jpg  
  inflating: flowers/rose/18220342690_f1c20134bd.jpg  
  inflating: flowers/rose/18302672248_38fe0f70af_n.jpg  
  inflating: flowers/rose/18302691898_9dc45afae8_n.jpg  
  inflating: flowers/rose/18302701228_2b5790b199_n.jpg  
  inflating: flowers/rose/18302780950_9469703544_n.jpg  
  inflating: flowers/rose/18302793940_8fcc8b4661_n.jpg  
  inflating: flowers/rose/18302796110_02ef47cd43_n.jpg  
  inflating: flowers/rose/18302801780_50f9a04639_n.jpg  
  inflating: flowers/rose/18304294599_2b0b604a8d_n.jpg  
  inflating: flowers/rose/1831404161_d2df86fd70.jpg  
  inflating: flowers/rose/18376177250_86060cbdc9.jpg  
  inflating: flowers/rose/18464052396_6327841e65_n.jpg  
  inflating: flowers/rose/18464055536_709c8af0b7_n.jpg  
  inflating: flowers/rose/18464065816_88f194a890_n.jpg  
  inflating: flowers/rose/18464075576_4e496e7d42_n.jpg  
  inflating: flowers/rose/18464080946_a624ce6376_n.jpg  
  inflating: flowers/rose/18464084356_0d2d93f896_n.jpg  
  inflating: flowers/rose/18486123042_5c8da68f38_n.jpg  
  inflating: flowers/rose/18486124712_17ebe7559b_n.jpg  
  inflating: flowers/rose/18486146942_e09ecd0e25_n.jpg  
  inflating: flowers/rose/18486151112_6f83e92223_n.jpg  
  inflating: flowers/rose/18486171962_c46dbd067d_n.jpg  
  inflating: flowers/rose/18490508225_0fc630e963_n.jpg  
  inflating: flowers/rose/18492288871_8c9d5657bb_n.jpg  
  inflating: flowers/rose/18492296751_0bf021da9b_n.jpg  
  inflating: flowers/rose/18492302751_cf6a5a583e_n.jpg  
  inflating: flowers/rose/18492322571_3b99e55560_n.jpg  
  inflating: flowers/rose/18492342231_c074b4b19c_n.jpg  
  inflating: flowers/rose/18563353954_b761d97155_m.jpg  
  inflating: flowers/rose/18584002386_cec0df537d_n.jpg  
  inflating: flowers/rose/18599603859_f2ec616ddf_n.jpg  
  inflating: flowers/rose/18741313803_1bbf842fc6_n.jpg  
  inflating: flowers/rose/18760363474_a707331322_n.jpg  
  inflating: flowers/rose/18990187093_09f2bff8fc_m.jpg  
  inflating: flowers/rose/19027407015_141c10ddcb_n.jpg  
  inflating: flowers/rose/19153732586_9de58c8f53_n.jpg  
  inflating: flowers/rose/19271410704_932d1f2c97_n.jpg  
  inflating: flowers/rose/19440805164_920b28da61_n.jpg  
  inflating: flowers/rose/1949195327_75f76c12b1.jpg  
  inflating: flowers/rose/19566556880_476c66c5ee_n.jpg  
  inflating: flowers/rose/19823402005_2db025dd66_m.jpg  
  inflating: flowers/rose/19919867648_043cf02fc3.jpg  
  inflating: flowers/rose/19988406792_68201f76e3_n.jpg  
  inflating: flowers/rose/20409866779_ac473f55e0_m.jpg  
  inflating: flowers/rose/2053476785_c162a3e358.jpg  
  inflating: flowers/rose/2059172936_032ffc12aa.jpg  
  inflating: flowers/rose/20596941736_f2c5f496cf.jpg  
  inflating: flowers/rose/20622485918_90fc000c86_n.jpg  
  inflating: flowers/rose/2065522422_cfdd80044a_n.jpg  
  inflating: flowers/rose/20825078671_90b0389c70_m.jpg  
  inflating: flowers/rose/20851336110_b17107948d_n.jpg  
  inflating: flowers/rose/2093263381_afd51358a3.jpg  
  inflating: flowers/rose/21039447185_96d59941b2_n.jpg  
  inflating: flowers/rose/2122401867_cd86c5f114_n.jpg  
  inflating: flowers/rose/21346056089_e6f8074e5f_m.jpg  
  inflating: flowers/rose/21347496068_f4d3339607.jpg  
  inflating: flowers/rose/21413573151_e681c6a97a.jpg  
  inflating: flowers/rose/2141413229_3f0425f972_n.jpg  
  inflating: flowers/rose/21522100663_455b77a90c_n.jpg  
  inflating: flowers/rose/218630974_5646dafc63_m.jpg  
  inflating: flowers/rose/2197754124_5c8a146761_n.jpg  
  inflating: flowers/rose/22093190909_77223e6f53_n.jpg  
  inflating: flowers/rose/2215318403_06eb99176a.jpg  
  inflating: flowers/rose/22325299158_6e32e599f8_m.jpg  
  inflating: flowers/rose/22385375599_1faf334f5d_n.jpg  
  inflating: flowers/rose/22506717337_0fd63e53e9.jpg  
  inflating: flowers/rose/2258973326_03c0145f15_n.jpg  
  inflating: flowers/rose/2265390547_2409007cef_n.jpg  
  inflating: flowers/rose/2265579414_2e00a8f265_n.jpg  
  inflating: flowers/rose/22679076_bdb4c24401_m.jpg  
  inflating: flowers/rose/2273917656_6d6c038283.jpg  
  inflating: flowers/rose/229488796_21ac6ee16d_n.jpg  
  inflating: flowers/rose/22982871191_ec61e36939_n.jpg  
  inflating: flowers/rose/23096513535_f41ddfec19_n.jpg  
  inflating: flowers/rose/23232710191_cc57620cd5.jpg  
  inflating: flowers/rose/2325232198_751645d0bb_n.jpg  
  inflating: flowers/rose/2331651885_619653a5d3.jpg  
  inflating: flowers/rose/2332478138_28f1d586e4_n.jpg  
  inflating: flowers/rose/2347579838_dd6d2aaefc_n.jpg  
  inflating: flowers/rose/23891005905_17ce9e6936.jpg  
  inflating: flowers/rose/2392457180_f02dab5c65.jpg  
  inflating: flowers/rose/2414954629_3708a1a04d.jpg  
  inflating: flowers/rose/2423565102_2f1a00bb1b_n.jpg  
  inflating: flowers/rose/2471103806_87ba53d997_n.jpg  
  inflating: flowers/rose/2491600761_7e9d6776e8_m.jpg  
  inflating: flowers/rose/2501297526_cbd66a3f7e_m.jpg  
  inflating: flowers/rose/2535466143_5823e48b63.jpg  
  inflating: flowers/rose/2535466393_6556afeb2f_m.jpg  
  inflating: flowers/rose/2535495431_e6f950443c.jpg  
  inflating: flowers/rose/2536282942_b5ca27577e.jpg  
  inflating: flowers/rose/2550860627_998a4fc4c1.jpg  
  inflating: flowers/rose/2607130050_9c34310004.jpg  
  inflating: flowers/rose/2609353769_dc3654f12f.jpg  
  inflating: flowers/rose/26605779860_50872b454a_n.jpg  
  inflating: flowers/rose/26723815164_d03d4d69cb_n.jpg  
  inflating: flowers/rose/2675221506_5286c0595f.jpg  
  inflating: flowers/rose/2677417735_a697052d2d_n.jpg  
  inflating: flowers/rose/26811158051_8f264eea6b_n.jpg  
  inflating: flowers/rose/2682566502_967e7eaa2a.jpg  
  inflating: flowers/rose/2713683760_d98cd2a05b_m.jpg  
  inflating: flowers/rose/272481307_1eb47ba3e0_n.jpg  
  inflating: flowers/rose/2735666555_01d53e74fe.jpg  
  inflating: flowers/rose/2756028421_b3d5eea526_n.jpg  
  inflating: flowers/rose/27619697563_228f5c4677_n.jpg  
  inflating: flowers/rose/2777518561_105abc8cfc_n.jpg  
  inflating: flowers/rose/2788276815_8f730bd942.jpg  
  inflating: flowers/rose/28131227642_e279b5768b_n.jpg  
  inflating: flowers/rose/2850381271_d2f9a470b1_n.jpg  
  inflating: flowers/rose/2888138918_402096c7fb.jpg  
  inflating: flowers/rose/2949945463_366bc63079_n.jpg  
  inflating: flowers/rose/295257304_de893fc94d.jpg  
  inflating: flowers/rose/2960709681_e95940c0f0_n.jpg  
  inflating: flowers/rose/298670754_f25edda891.jpg  
  inflating: flowers/rose/3026375835_a20ecdd140_m.jpg  
  inflating: flowers/rose/3045046293_57f6d52065_m.jpg  
  inflating: flowers/rose/3052753519_d087aaeacb_n.jpg  
  inflating: flowers/rose/3065719996_c16ecd5551.jpg  
  inflating: flowers/rose/3072908271_08764c732a_m.jpg  
  inflating: flowers/rose/3074406590_91c697c805_n.jpg  
  inflating: flowers/rose/31050510212_73d570592a_n.jpg  
  inflating: flowers/rose/319298955_0c72bd36bf.jpg  
  inflating: flowers/rose/323872063_7264e7e018_m.jpg  
  inflating: flowers/rose/32442998706_ba6cacf354_n.jpg  
  inflating: flowers/rose/3253243865_435c1f2c2b_m.jpg  
  inflating: flowers/rose/3264570182_c7ded528ba_m.jpg  
  inflating: flowers/rose/326541992_d542103ca8_n.jpg  
  inflating: flowers/rose/3268459296_a7346c6b2c.jpg  
  inflating: flowers/rose/32724693914_282ccc4f92_n.jpg  
  inflating: flowers/rose/3276552939_8c31b22d3e.jpg  
  inflating: flowers/rose/3278709893_ba4956a572_n.jpg  
  inflating: flowers/rose/3292434691_392071d702_n.jpg  
  inflating: flowers/rose/33184832190_e5411d91a4_n.jpg  
  inflating: flowers/rose/33185001420_dc8f571c4f_n.jpg  
  inflating: flowers/rose/33411423082_8150d9254e_n.jpg  
  inflating: flowers/rose/33568244695_7ec846bcc6_n.jpg  
  inflating: flowers/rose/33568345265_e4f7d0fe45_n.jpg  
  inflating: flowers/rose/3407482427_49d5c75291_m.jpg  
  inflating: flowers/rose/3415176946_248afe9f32.jpg  
  inflating: flowers/rose/3422228549_f147d6e642.jpg  
  inflating: flowers/rose/3450344423_63ba3190e3.jpg  
  inflating: flowers/rose/3451177763_729a4d54af_n.jpg  
  inflating: flowers/rose/3465443774_6b0c75a3b1_n.jpg  
  inflating: flowers/rose/3475572132_01ae28e834_n.jpg  
  inflating: flowers/rose/3494252600_29f26e3ff0_n.jpg  
  inflating: flowers/rose/3500121696_5b6a69effb_n.jpg  
  inflating: flowers/rose/3526860692_4c551191b1_m.jpg  
  inflating: flowers/rose/353897245_5453f35a8e.jpg  
  inflating: flowers/rose/3550491463_3eb092054c_m.jpg  
  inflating: flowers/rose/3554620445_082dd0bec4_n.jpg  
  inflating: flowers/rose/3556123230_936bf084a5_n.jpg  
  inflating: flowers/rose/3576488381_611f3446e0_n.jpg  
  inflating: flowers/rose/3621011057_0d03bd171b_n.jpg  
  inflating: flowers/rose/3624546109_8eb98f0cdb.jpg  
  inflating: flowers/rose/3630246240_4fee9a33db.jpg  
  inflating: flowers/rose/3634244527_e72c47842c_n.jpg  
  inflating: flowers/rose/3654988152_b11178bbcb.jpg  
  inflating: flowers/rose/3655527028_0fab2b547d_n.jpg  
  inflating: flowers/rose/3661675690_ed2d05fa5f_n.jpg  
  inflating: flowers/rose/3663244576_97f595cf4a.jpg  
  inflating: flowers/rose/3664842094_5fd60ee26b.jpg  
  inflating: flowers/rose/3667366832_7a8017c528_n.jpg  
  inflating: flowers/rose/3697780051_83e50a6dd1_m.jpg  
  inflating: flowers/rose/3705716290_cb7d803130_n.jpg  
  inflating: flowers/rose/3742155164_14b557a51c_n.jpg  
  inflating: flowers/rose/3742168238_d961937e68_n.jpg  
  inflating: flowers/rose/3751835302_d5a03f55e8_n.jpg  
  inflating: flowers/rose/3753920123_c7ebc18ee3.jpg  
  inflating: flowers/rose/3871586333_5a708d5cf4_n.jpg  
  inflating: flowers/rose/3872230296_6c477309f3_n.jpg  
  inflating: flowers/rose/3873271620_1d9d314f01_n.jpg  
  inflating: flowers/rose/388405293_4db1d71f21_n.jpg  
  inflating: flowers/rose/3903276582_fe05bf84c7_n.jpg  
  inflating: flowers/rose/3909587261_f8cd3e7fe7.jpg  
  inflating: flowers/rose/3948347096_42261f047a_m.jpg  
  inflating: flowers/rose/394990940_7af082cf8d_n.jpg  
  inflating: flowers/rose/3971662839_5cb2963b20_n.jpg  
  inflating: flowers/rose/3997609936_8db20b7141_n.jpg  
  inflating: flowers/rose/4061451210_1650590c6a.jpg  
  inflating: flowers/rose/4065283966_9504b98269.jpg  
  inflating: flowers/rose/4093390305_4010c736c9.jpg  
  inflating: flowers/rose/410421672_563550467c.jpg  
  inflating: flowers/rose/410425647_4586667858.jpg  
  inflating: flowers/rose/4231745228_ece86330d9.jpg  
  inflating: flowers/rose/4242976586_607a8f9843_n.jpg  
  inflating: flowers/rose/4243078361_7b92a932cd_n.jpg  
  inflating: flowers/rose/4267024012_295e7141a3_n.jpg  
  inflating: flowers/rose/4279989256_9a48c0d194_n.jpg  
  inflating: flowers/rose/4279990882_031482f8b6_n.jpg  
  inflating: flowers/rose/4325834819_ab56661dcc_m.jpg  
  inflating: flowers/rose/4356781875_92c5cd93c0.jpg  
  inflating: flowers/rose/4360743371_6238b36d8c_m.jpg  
  inflating: flowers/rose/4363734507_5cc4ed6e01.jpg  
  inflating: flowers/rose/4396642388_3081a38875_n.jpg  
  inflating: flowers/rose/4413509121_a62879598a.jpg  
  inflating: flowers/rose/4414135084_1ac7e6cd54.jpg  
  inflating: flowers/rose/4495885281_fe2a3b671d.jpg  
  inflating: flowers/rose/4503599544_3822e7d1be.jpg  
  inflating: flowers/rose/4504220673_af754fcb40_n.jpg  
  inflating: flowers/rose/4504731519_9a260b6607_n.jpg  
  inflating: flowers/rose/4505921907_21c8002fde.jpg  
  inflating: flowers/rose/4553266758_09d4dbdac9_n.jpg  
  inflating: flowers/rose/4558025386_2c47314528.jpg  
  inflating: flowers/rose/4575042086_7674b76297_n.jpg  
  inflating: flowers/rose/4588034197_e300b0872a_n.jpg  
  inflating: flowers/rose/459042023_6273adc312_n.jpg  
  inflating: flowers/rose/4608559939_3487bf3b62_n.jpg  
  inflating: flowers/rose/4609166128_b7ed49b40b_m.jpg  
  inflating: flowers/rose/4609168052_3d4e1d3804_n.jpg  
  inflating: flowers/rose/4612766755_7d3f047db0_n.jpg  
  inflating: flowers/rose/4612774939_e26ec1c34d_n.jpg  
  inflating: flowers/rose/4612784323_0bcfb978f0_n.jpg  
  inflating: flowers/rose/4612826243_7d86870a1b_n.jpg  
  inflating: flowers/rose/4612830331_2a44957465_n.jpg  
  inflating: flowers/rose/4612833069_8e48b47aa4_n.jpg  
  inflating: flowers/rose/4625089819_55c45a189c.jpg  
  inflating: flowers/rose/4644336779_acd973528c.jpg  
  inflating: flowers/rose/4648680921_80dfc4f12a.jpg  
  inflating: flowers/rose/4654893119_45d232016b.jpg  
  inflating: flowers/rose/466486216_ab13b55763.jpg  
  inflating: flowers/rose/4675532860_890504a4a3_m.jpg  
  inflating: flowers/rose/4684127262_6c3346188d.jpg  
  inflating: flowers/rose/4694341873_65fe187a4e_n.jpg  
  inflating: flowers/rose/4702438868_278b9cf41c_n.jpg  
  inflating: flowers/rose/4703837996_d3c1df77cc_n.jpg  
  inflating: flowers/rose/4713531680_1110a2fa07_n.jpg  
  inflating: flowers/rose/4713533500_fcc295de70_n.jpg  
  inflating: flowers/rose/4735314389_94fe1b2a9f_n.jpg  
  inflating: flowers/rose/4754734410_94d98463a5.jpg  
  inflating: flowers/rose/475936554_a2b38aaa8e.jpg  
  inflating: flowers/rose/475947979_554062a608_m.jpg  
  inflating: flowers/rose/4764674741_82b8f93359_n.jpg  
  inflating: flowers/rose/4765063233_f64440c20b.jpg  
  inflating: flowers/rose/4797595918_79887b1229_n.jpg  
  inflating: flowers/rose/4809566219_88f9a1aea3.jpg  
  inflating: flowers/rose/483444865_65962cea07_m.jpg  
  inflating: flowers/rose/4860145119_b1c3cbaa4e_n.jpg  
  inflating: flowers/rose/488849503_63a290a8c2_m.jpg  
  inflating: flowers/rose/4900231976_f8ced2b42a_n.jpg  
  inflating: flowers/rose/4910094611_8c7170fc95_n.jpg  
  inflating: flowers/rose/4918137796_21f0922b0c_n.jpg  
  inflating: flowers/rose/4921988677_e2eb0c9a24_m.jpg  
  inflating: flowers/rose/494803274_f84f21d53a.jpg  
  inflating: flowers/rose/4951581805_b049304f1b_n.jpg  
  inflating: flowers/rose/4979895172_ca06eba616.jpg  
  inflating: flowers/rose/4998708839_c53ee536a8_n.jpg  
  inflating: flowers/rose/5001843267_ccc0aa7d4d_n.jpg  
  inflating: flowers/rose/5001843683_ac3e5f2c87_n.jpg  
  inflating: flowers/rose/5001844187_0a77b2eed6_n.jpg  
  inflating: flowers/rose/5001844777_d9e1968119_n.jpg  
  inflating: flowers/rose/5001845055_69f04d9779_n.jpg  
  inflating: flowers/rose/5001845289_e5740889b0_n.jpg  
  inflating: flowers/rose/5001846301_9380fbe900_n.jpg  
  inflating: flowers/rose/5001846495_56068de2da_n.jpg  
  inflating: flowers/rose/5001846725_7bb1b9fedf_n.jpg  
  inflating: flowers/rose/5001846963_595da3a5a3_n.jpg  
  inflating: flowers/rose/5001847255_34ff6146ec_n.jpg  
  inflating: flowers/rose/5001847439_83e02981e8_n.jpg  
  inflating: flowers/rose/5001847693_77a9fb4f3c_n.jpg  
  inflating: flowers/rose/5001848135_63300a26a8_n.jpg  
  inflating: flowers/rose/5001848317_b33d17ab7a_n.jpg  
  inflating: flowers/rose/5001850247_33681cc95c_n.jpg  
  inflating: flowers/rose/5001850817_abffea40c9_n.jpg  
  inflating: flowers/rose/5001852101_877cb2ae9b_n.jpg  
  inflating: flowers/rose/5001852517_6a8713ffe2_n.jpg  
  inflating: flowers/rose/5001853739_e293f7b268_n.jpg  
  inflating: flowers/rose/5001853887_0623dd2111_n.jpg  
  inflating: flowers/rose/5001854143_d868390640_n.jpg  
  inflating: flowers/rose/5001854803_cb87747d4a_n.jpg  
  inflating: flowers/rose/5001855107_71351ce785_n.jpg  
  inflating: flowers/rose/5001855689_e07486c44d_n.jpg  
  inflating: flowers/rose/5001856089_4cf8e9c818_n.jpg  
  inflating: flowers/rose/5001856549_7e0a640488_n.jpg  
  inflating: flowers/rose/5001857501_f8b1e3e987_n.jpg  
  inflating: flowers/rose/5001857777_440e725f2f_n.jpg  
  inflating: flowers/rose/5001858821_731d128f20_n.jpg  
  inflating: flowers/rose/5002446424_b86e3c646f_n.jpg  
  inflating: flowers/rose/5002446614_bb2a5b4bc1_n.jpg  
  inflating: flowers/rose/5002446908_150a969334_n.jpg  
  inflating: flowers/rose/5002447434_9b06760f63_n.jpg  
  inflating: flowers/rose/5002447916_8a7b7b689a_n.jpg  
  inflating: flowers/rose/5002448396_7ca4d44086_n.jpg  
  inflating: flowers/rose/5002449706_647ffe5249_n.jpg  
  inflating: flowers/rose/5002450022_33337e895b_n.jpg  
  inflating: flowers/rose/5002451854_9cf0096db0_n.jpg  
  inflating: flowers/rose/5002452394_22896fb9df_n.jpg  
  inflating: flowers/rose/5002452576_f61a48b2e3_n.jpg  
  inflating: flowers/rose/5002452834_167883dbcf_n.jpg  
  inflating: flowers/rose/5002453148_5a7bbcce64_n.jpg  
  inflating: flowers/rose/5002453464_ab2bcb3829_n.jpg  
  inflating: flowers/rose/5002453814_cf37b62acd_n.jpg  
  inflating: flowers/rose/5002454522_300a419273_n.jpg  
  inflating: flowers/rose/5002455332_9de0b1e85f_n.jpg  
  inflating: flowers/rose/5002455602_4286b34dde_n.jpg  
  inflating: flowers/rose/5002456302_e3d2600c17_n.jpg  
  inflating: flowers/rose/5002456992_4da0df247a_n.jpg  
  inflating: flowers/rose/5002457330_b77672da1c_n.jpg  
  inflating: flowers/rose/5002458392_f465ed905e_n.jpg  
  inflating: flowers/rose/5002458616_b1719ccc40_n.jpg  
  inflating: flowers/rose/5002459442_81825061e9_n.jpg  
  inflating: flowers/rose/5002460330_7286e80967_n.jpg  
  inflating: flowers/rose/5002460856_c44a02442f_n.jpg  
  inflating: flowers/rose/5002461124_dc5988bbc9_n.jpg  
  inflating: flowers/rose/5002462640_5bf92142bf_n.jpg  
  inflating: flowers/rose/5050969148_a0090f762a.jpg  
  inflating: flowers/rose/505517255_cfbb6f6394.jpg  
  inflating: flowers/rose/5060519573_c628547e20_n.jpg  
  inflating: flowers/rose/5060536705_b370a5c543_n.jpg  
  inflating: flowers/rose/5061135742_2870a7b691_n.jpg  
  inflating: flowers/rose/5073473370_bdbb5a99fc.jpg  
  inflating: flowers/rose/5083072098_81587295d5.jpg  
  inflating: flowers/rose/5086249859_d066b37b8a_m.jpg  
  inflating: flowers/rose/5088766459_f81f50e57d_n.jpg  
  inflating: flowers/rose/5089363428_2c5a1272ea.jpg  
  inflating: flowers/rose/509239741_28e2cfe492_m.jpg  
  inflating: flowers/rose/512578026_f6e6f2ad26.jpg  
  inflating: flowers/rose/512694812_48ba9c0b49_n.jpg  
  inflating: flowers/rose/5148639829_781eb7d346.jpg  
  inflating: flowers/rose/515121050_dcb99890be.jpg  
  inflating: flowers/rose/5156037859_1673720a11_m.jpg  
  inflating: flowers/rose/5159317458_bbb22e2f65_n.jpg  
  inflating: flowers/rose/5172171681_5934378f08.jpg  
  inflating: flowers/rose/5180896559_b8cfefc21e.jpg  
  inflating: flowers/rose/5181899042_0a6ffe0c8a_n.jpg  
  inflating: flowers/rose/5182167964_9d1a0be0b8_n.jpg  
  inflating: flowers/rose/5193918046_d44e4fcd75_m.jpg  
  inflating: flowers/rose/5206847130_ee4bf0e4de_n.jpg  
  inflating: flowers/rose/5212877807_a3ddf06a7c_n.jpg  
  inflating: flowers/rose/5212885371_fe27c406a2_n.jpg  
  inflating: flowers/rose/5223191368_01aedb6547_n.jpg  
  inflating: flowers/rose/5231103167_a03280e9f6_n.jpg  
  inflating: flowers/rose/5234278003_d827fcd73b_m.jpg  
  inflating: flowers/rose/5249439791_196b4e7fc7.jpg  
  inflating: flowers/rose/5249566718_6109630c83_m.jpg  
  inflating: flowers/rose/5273722065_c85d8543c2_m.jpg  
  inflating: flowers/rose/527513005_41497ca4dc.jpg  
  inflating: flowers/rose/5292988046_a10f4b0365_n.jpg  
  inflating: flowers/rose/5332550500_ab341aefd8.jpg  
  inflating: flowers/rose/5333437251_ce0aa6925d_n.jpg  
  inflating: flowers/rose/5335930735_f396f37a81_n.jpg  
  inflating: flowers/rose/5335931029_74c01d3c35_n.jpg  
  inflating: flowers/rose/5335931263_18edb092b0_n.jpg  
  inflating: flowers/rose/5335935585_e4a8435aab_n.jpg  
  inflating: flowers/rose/5335935851_53634d6aed_n.jpg  
  inflating: flowers/rose/5335936115_0292d0beef_n.jpg  
  inflating: flowers/rose/5335936311_390e8ed5d9_n.jpg  
  inflating: flowers/rose/5335937199_2c83d46a57_n.jpg  
  inflating: flowers/rose/5335937417_74a03b52ec_n.jpg  
  inflating: flowers/rose/5335944093_a00b28c4ff_n.jpg  
  inflating: flowers/rose/5335944839_a3b6168534_n.jpg  
  inflating: flowers/rose/5335945309_852d018a27_n.jpg  
  inflating: flowers/rose/5335945781_e45852fa49_n.jpg  
  inflating: flowers/rose/5335946155_be70e11cf2_n.jpg  
  inflating: flowers/rose/5335946401_f49bfbe3f9_n.jpg  
  inflating: flowers/rose/5336545886_7b93463c06_n.jpg  
  inflating: flowers/rose/5336546068_8fd643243c_n.jpg  
  inflating: flowers/rose/5336549532_49c711d49a_n.jpg  
  inflating: flowers/rose/5336551122_2df8fee6da_n.jpg  
  inflating: flowers/rose/5336551618_16d4eea9c4_n.jpg  
  inflating: flowers/rose/5336555402_4f6f03f5a5_n.jpg  
  inflating: flowers/rose/5336558870_22d0a6a318_n.jpg  
  inflating: flowers/rose/5336559428_71e8b58ab5_n.jpg  
  inflating: flowers/rose/5336560370_f994cb35a1_n.jpg  
  inflating: flowers/rose/5336561772_61a0ca4b22_n.jpg  
  inflating: flowers/rose/5336562212_d014ddf9ca_n.jpg  
  inflating: flowers/rose/5336562502_d697a3f0b2_n.jpg  
  inflating: flowers/rose/534228982_4afbcece9b_m.jpg  
  inflating: flowers/rose/5349248481_6445341842_n.jpg  
  inflating: flowers/rose/5349248997_4b23a7344d_n.jpg  
  inflating: flowers/rose/5349249357_d4c0523f7e_n.jpg  
  inflating: flowers/rose/5349249547_5cde2db97c_n.jpg  
  inflating: flowers/rose/5349249729_be6b2cac86_n.jpg  
  inflating: flowers/rose/5349249933_f02c8ea7de_n.jpg  
  inflating: flowers/rose/5349250145_960c51d4fc_n.jpg  
  inflating: flowers/rose/5349250331_05501d6557_n.jpg  
  inflating: flowers/rose/5349251139_92539c279a_n.jpg  
  inflating: flowers/rose/5349254467_388ff94f8b_n.jpg  
  inflating: flowers/rose/5349859602_1ab3356c64_n.jpg  
  inflating: flowers/rose/5349860036_389d912fb7_n.jpg  
  inflating: flowers/rose/5349861432_96137002c4_n.jpg  
  inflating: flowers/rose/5349861636_4101a36923_n.jpg  
  inflating: flowers/rose/5349865018_99cd7f985a_n.jpg  
  inflating: flowers/rose/5349865556_e3263fbdc0_n.jpg  
  inflating: flowers/rose/5360769702_ec28c53b9e_n.jpg  
  inflating: flowers/rose/537207677_f96a0507bb.jpg  
  inflating: flowers/rose/537625768_791e973b40.jpg  
  inflating: flowers/rose/5398569540_7d134c42cb_n.jpg  
  inflating: flowers/rose/5398974188_799753449c.jpg  
  inflating: flowers/rose/5402157745_a384f0583d_n.jpg  
  inflating: flowers/rose/5415173021_ec34517d84_n.jpg  
  inflating: flowers/rose/5415782938_6ce6e4a90d_n.jpg  
  inflating: flowers/rose/5415783734_b002ebce24_n.jpg  
  inflating: flowers/rose/5419629292_2f06e4b295.jpg  
  inflating: flowers/rose/5487945052_bcb8e9fc8b_m.jpg  
  inflating: flowers/rose/5492988531_574cdc2bf0_n.jpg  
  inflating: flowers/rose/5497730366_44d758d8f5.jpg  
  inflating: flowers/rose/5502949025_96d11a17ff_n.jpg  
  inflating: flowers/rose/5526964611_76ef13025c_n.jpg  
  inflating: flowers/rose/5529341024_0c35f2657d.jpg  
  inflating: flowers/rose/5537794501_a0767743fd_n.jpg  
  inflating: flowers/rose/5570018782_c56bee942f.jpg  
  inflating: flowers/rose/5578760521_e54aca6bed_n.jpg  
  inflating: flowers/rose/5578766623_542c91dfaa_n.jpg  
  inflating: flowers/rose/5602220566_5cdde8fa6c_n.jpg  
  inflating: flowers/rose/5628552852_60bbe8d9b0_n.jpg  
  inflating: flowers/rose/563847503_89e9756c80.jpg  
  inflating: flowers/rose/568715474_bdb64ccc32.jpg  
  inflating: flowers/rose/5693486585_cf64d87519_n.jpg  
  inflating: flowers/rose/5693489465_2d0b2e4eb2_n.jpg  
  inflating: flowers/rose/5693492187_dc46424be3_n.jpg  
  inflating: flowers/rose/5693495337_0e42b4d9f0_n.jpg  
  inflating: flowers/rose/5693502877_41c11295b6_n.jpg  
  inflating: flowers/rose/5694071486_90c2b1aee5_n.jpg  
  inflating: flowers/rose/5694090698_1f0c218250_n.jpg  
  inflating: flowers/rose/5717319579_190e85c7d1_m.jpg  
  inflating: flowers/rose/5721768347_2ec4d2247b_n.jpg  
  inflating: flowers/rose/5731750490_ba3325b7ee_n.jpg  
  inflating: flowers/rose/5736328472_8f25e6f6e7.jpg  
  inflating: flowers/rose/5777669976_a205f61e5b.jpg  
  inflating: flowers/rose/5799616059_0ffda02e54.jpg  
  inflating: flowers/rose/5835539224_75967fc400_m.jpg  
  inflating: flowers/rose/5863698305_04a4277401_n.jpg  
  inflating: flowers/rose/5897035797_e67bf68124_n.jpg  
  inflating: flowers/rose/5960270643_1b8a94822e_m.jpg  
  inflating: flowers/rose/5961803532_9368212949_m.jpg  
  inflating: flowers/rose/5979193298_639e877248.jpg  
  inflating: flowers/rose/5990626258_697f007308_n.jpg  
  inflating: flowers/rose/6053143173_991c011b23.jpg  
  inflating: flowers/rose/6108118824_5b0231a56d.jpg  
  inflating: flowers/rose/6111589202_8b9555364c_m.jpg  
  inflating: flowers/rose/6125332325_b768e08bd9_n.jpg  
  inflating: flowers/rose/6163179241_f093f45d95_n.jpg  
  inflating: flowers/rose/6209630964_e8de48fe04_m.jpg  
  inflating: flowers/rose/6231418894_7946a7712b_n.jpg  
  inflating: flowers/rose/6241886381_cc722785af.jpg  
  inflating: flowers/rose/6255593451_b8a3aa8f7a_m.jpg  
  inflating: flowers/rose/6280787884_141cd7b382_n.jpg  
  inflating: flowers/rose/6309548569_932fee8313_m.jpg  
  inflating: flowers/rose/6347846687_3f0a7c3176.jpg  
  inflating: flowers/rose/6347846935_51e3dc2481_n.jpg  
  inflating: flowers/rose/6347847065_83cf87333b_n.jpg  
  inflating: flowers/rose/6363951285_a802238d4e.jpg  
  inflating: flowers/rose/6363976189_e7155e5f9c.jpg  
  inflating: flowers/rose/6409000675_6eb6806e59.jpg  
  inflating: flowers/rose/6473543547_4fefdbd5dc.jpg  
  inflating: flowers/rose/6653567281_768a1fd160.jpg  
  inflating: flowers/rose/6690926183_afedba9f15_n.jpg  
  inflating: flowers/rose/6732261031_861a1026fa_n.jpg  
  inflating: flowers/rose/685724528_6cd5cbe203.jpg  
  inflating: flowers/rose/6864417932_36fa4ceecf_n.jpg  
  inflating: flowers/rose/6867597533_d65d1c39fb_n.jpg  
  inflating: flowers/rose/6879112993_5a29208438_n.jpg  
  inflating: flowers/rose/6936225976_a91b60d8c2_m.jpg  
  inflating: flowers/rose/6950609394_c53b8c6ac0_m.jpg  
  inflating: flowers/rose/6969041818_a505baa68e_m.jpg  
  inflating: flowers/rose/7147367479_f7a6ef0798.jpg  
  inflating: flowers/rose/7186509956_c37c02fb43_n.jpg  
  inflating: flowers/rose/7187035716_5d0fb95c31_n.jpg  
  inflating: flowers/rose/7211616670_2d49ecb3a5_m.jpg  
  inflating: flowers/rose/7251352826_69b62cba2c_m.jpg  
  inflating: flowers/rose/7285188160_49d84b95a3_m.jpg  
  inflating: flowers/rose/7302931078_30054c1970_n.jpg  
  inflating: flowers/rose/7304710956_015b41f802_m.jpg  
  inflating: flowers/rose/7316409504_7cf3707f8a_m.jpg  
  inflating: flowers/rose/7345657862_689366e79a.jpg  
  inflating: flowers/rose/7376471712_e1be793f94.jpg  
  inflating: flowers/rose/7376473742_532364cee5_n.jpg  
  inflating: flowers/rose/7409458444_0bfc9a0682_n.jpg  
  inflating: flowers/rose/7419966772_d6c1c22a81.jpg  
  inflating: flowers/rose/7420699022_60fa574524_m.jpg  
  inflating: flowers/rose/7455236056_b6d71a8dab.jpg  
  inflating: flowers/rose/7456196174_f9de97ba73_n.jpg  
  inflating: flowers/rose/7456196534_f69c17efa3_n.jpg  
  inflating: flowers/rose/7456196908_d34b9b76c4_n.jpg  
  inflating: flowers/rose/7456197696_7e1558cc22_n.jpg  
  inflating: flowers/rose/7456198272_f5d0c6bc7e_n.jpg  
  inflating: flowers/rose/7456439188_c2ba954a5d_n.jpg  
  inflating: flowers/rose/7456439862_8b1ae909b7_n.jpg  
  inflating: flowers/rose/7456492140_478b48ef8e_n.jpg  
  inflating: flowers/rose/7456611336_52fec6b57e_n.jpg  
  inflating: flowers/rose/7456771390_c2505e08a2_n.jpg  
  inflating: flowers/rose/7456887736_54e4ebac03_n.jpg  
  inflating: flowers/rose/7456914664_cdee3170c5_n.jpg  
  inflating: flowers/rose/7461878736_a55f749faf_n.jpg  
  inflating: flowers/rose/7461896668_cfef58f894_n.jpg  
  inflating: flowers/rose/7461897058_3c955efe2a_n.jpg  
  inflating: flowers/rose/7461897398_0053093145_n.jpg  
  inflating: flowers/rose/7461897646_3203dbe067_n.jpg  
  inflating: flowers/rose/7461898018_7e12128f14_n.jpg  
  inflating: flowers/rose/7461898754_9032a38963_n.jpg  
  inflating: flowers/rose/7461899002_a3b21d0770_n.jpg  
  inflating: flowers/rose/7461899330_3b72976570_n.jpg  
  inflating: flowers/rose/7470985338_a1f3bba601_n.jpg  
  inflating: flowers/rose/7470985688_c1ee9105fa_n.jpg  
  inflating: flowers/rose/7470985840_a93e958554_n.jpg  
  inflating: flowers/rose/7471890480_498910f3e3_n.jpg  
  inflating: flowers/rose/7471890644_92a004ea92_n.jpg  
  inflating: flowers/rose/7471890786_aaff777641_n.jpg  
  inflating: flowers/rose/7471890996_e61b134867_n.jpg  
  inflating: flowers/rose/7471891186_195bb02c98_n.jpg  
  inflating: flowers/rose/7471891352_cfd56b4e45_n.jpg  
  inflating: flowers/rose/7471891548_40f350dff2_n.jpg  
  inflating: flowers/rose/7471891698_072c1de52f_n.jpg  
  inflating: flowers/rose/7474124984_ca015e8c10_n.jpg  
  inflating: flowers/rose/7474125638_332be2863e_n.jpg  
  inflating: flowers/rose/7474126248_889a026929_n.jpg  
  inflating: flowers/rose/7474126688_5f888ace5b_n.jpg  
  inflating: flowers/rose/7481117422_66e73115ac_n.jpg  
  inflating: flowers/rose/7481118128_b2de9538b4_n.jpg  
  inflating: flowers/rose/7481118556_6c209b9b7d_n.jpg  
  inflating: flowers/rose/7481118926_43fa291306_n.jpg  
  inflating: flowers/rose/7481119180_7be71a322a_n.jpg  
  inflating: flowers/rose/7481119492_a0016cb059_n.jpg  
  inflating: flowers/rose/7481119854_b4bb358f0b_n.jpg  
  inflating: flowers/rose/7502389724_85b4a6c855_n.jpg  
  inflating: flowers/rose/7525783408_0999483bf4_m.jpg  
  inflating: flowers/rose/7551637034_55ae047756_n.jpg  
  inflating: flowers/rose/7683456068_02644b8382_m.jpg  
  inflating: flowers/rose/7820626638_3e2d712303.jpg  
  inflating: flowers/rose/7865295712_bcc94d120c.jpg  
  inflating: flowers/rose/8032328803_30afac8b07_m.jpg  
  inflating: flowers/rose/8035908422_87220425d2_n.jpg  
  inflating: flowers/rose/8035910225_125beceb98_n.jpg  
  inflating: flowers/rose/8036594516_69a7da5f73_m.jpg  
  inflating: flowers/rose/8050213579_48e1e7109f.jpg  
  inflating: flowers/rose/8060338380_eb6c806624_n.jpg  
  inflating: flowers/rose/8063462557_e0a8bd6c64_n.jpg  
  inflating: flowers/rose/8096324039_4db2555490.jpg  
  inflating: flowers/rose/8125886145_ae99f91fd0.jpg  
  inflating: flowers/rose/8181940917_1ac63937d5_n.jpg  
  inflating: flowers/rose/8209458141_38f38be65c_m.jpg  
  inflating: flowers/rose/8241471746_5d81fdd3c0_n.jpg  
  inflating: flowers/rose/8269247725_4b56cd860d_n.jpg  
  inflating: flowers/rose/8272822550_fc49484186_n.jpg  
  inflating: flowers/rose/8273451349_acd4748da6_n.jpg  
  inflating: flowers/rose/8279801891_5369a6c3c1_n.jpg  
  inflating: flowers/rose/8301512319_45185c447f_n.jpg  
  inflating: flowers/rose/8337607102_d9e0fa887e.jpg  
  inflating: flowers/rose/8388497874_1fe750cc95_m.jpg  
  inflating: flowers/rose/8394286483_69fe04cc7f.jpg  
  inflating: flowers/rose/8437935944_aab997560a_n.jpg  
  inflating: flowers/rose/850416050_31b3ff7086.jpg  
  inflating: flowers/rose/8516036987_8a06dfe1b5_n.jpg  
  inflating: flowers/rose/8523394349_61b31fdd8f_m.jpg  
  inflating: flowers/rose/8524505682_bda885af3a_n.jpg  
  inflating: flowers/rose/8524505868_236f4c94b5.jpg  
  inflating: flowers/rose/8562144481_1d629848ff.jpg  
  inflating: flowers/rose/8622493424_877ae35ed7.jpg  
  inflating: flowers/rose/8642943283_47e44d049d_m.jpg  
  inflating: flowers/rose/8644003462_2272de26eb.jpg  
  inflating: flowers/rose/8667101118_87ea757b15.jpg  
  inflating: flowers/rose/8667746487_781af9e615_n.jpg  
  inflating: flowers/rose/8671682526_7058143c99.jpg  
  inflating: flowers/rose/8674140377_ae7b0be523.jpg  
  inflating: flowers/rose/8692040971_826614516f_n.jpg  
  inflating: flowers/rose/8692051081_dffa8709e7_m.jpg  
  inflating: flowers/rose/8723767157_c45bfd3ab6.jpg  
  inflating: flowers/rose/873660804_37f5c6a46e_n.jpg  
  inflating: flowers/rose/8742493617_c2a9bf854f_m.jpg  
  inflating: flowers/rose/8742493689_fb852f0228_n.jpg  
  inflating: flowers/rose/8747396730_966149e6fe_n.jpg  
  inflating: flowers/rose/8775267816_726ddc6d92_n.jpg  
  inflating: flowers/rose/8853083579_dd1dfa3188.jpg  
  inflating: flowers/rose/8926641787_d2515dfe8f_m.jpg  
  inflating: flowers/rose/8949720453_66e8304c30.jpg  
  inflating: flowers/rose/8960904651_9a0b727258.jpg  
  inflating: flowers/rose/898102603_2d5152f09a.jpg  
  inflating: flowers/rose/8983268106_dc913d17d8_m.jpg  
  inflating: flowers/rose/8987479080_32ab912d10_n.jpg  
  inflating: flowers/rose/909277823_e6fb8cb5c8_n.jpg  
  inflating: flowers/rose/9159362388_c6f4cf3812_n.jpg  
  inflating: flowers/rose/9160289562_ab2718d19b.jpg  
  inflating: flowers/rose/9164900485_605aa12da8.jpg  
  inflating: flowers/rose/9164924345_6b63637acf.jpg  
  inflating: flowers/rose/9167147034_0a66ee3616_n.jpg  
  inflating: flowers/rose/921138131_9e1393eb2b_m.jpg  
  inflating: flowers/rose/9216321995_83df405ea9.jpg  
  inflating: flowers/rose/9216323421_f737c1d50e.jpg  
  inflating: flowers/rose/9216324117_5fa1e2bc25_n.jpg  
  inflating: flowers/rose/921984328_a60076f070_m.jpg  
  inflating: flowers/rose/9298314004_c1a8146521.jpg  
  inflating: flowers/rose/9300754115_dd79670066_n.jpg  
  inflating: flowers/rose/9309388105_12c0b8dd54_m.jpg  
  inflating: flowers/rose/9320934277_4fb95aef5d_n.jpg  
  inflating: flowers/rose/9337528427_3d09b7012b.jpg  
  inflating: flowers/rose/9338237628_4d2547608c.jpg  
  inflating: flowers/rose/9353111163_7a89b2df35_n.jpg  
  inflating: flowers/rose/9355706808_a9a723a8e8_n.jpg  
  inflating: flowers/rose/9369421752_db1ab2a6a4_m.jpg  
  inflating: flowers/rose/9404876600_04f6d37685.jpg  
  inflating: flowers/rose/9423755543_edb35141a3_n.jpg  
  inflating: flowers/rose/9433167170_fa056d3175.jpg  
  inflating: flowers/rose/9458445402_79e4dfa89c.jpg  
  inflating: flowers/rose/9609569441_eeb8566e94.jpg  
  inflating: flowers/rose/9614492283_66020fb4eb_n.jpg  
  inflating: flowers/rose/9633056561_6f1b7e8faf_m.jpg  
  inflating: flowers/rose/9702378513_229a96b754_m.jpg  
  inflating: flowers/rose/99383371_37a5ac12a3_n.jpg  
  inflating: flowers/sunflower/1008566138_6927679c8a.jpg  
  inflating: flowers/sunflower/1022552002_2b93faf9e7_n.jpg  
  inflating: flowers/sunflower/1022552036_67d33d5bd8_n.jpg  
  inflating: flowers/sunflower/10386503264_e05387e1f7_m.jpg  
  inflating: flowers/sunflower/10386522775_4f8c616999_m.jpg  
  inflating: flowers/sunflower/10386525005_fd0b7d6c55_n.jpg  
  inflating: flowers/sunflower/10386525695_2c38fea555_n.jpg  
  inflating: flowers/sunflower/10386540106_1431e73086_m.jpg  
  inflating: flowers/sunflower/10386540696_0a95ee53a8_n.jpg  
  inflating: flowers/sunflower/10386702973_e74a34c806_n.jpg  
  inflating: flowers/sunflower/1043442695_4556c4c13d_n.jpg  
  inflating: flowers/sunflower/1044296388_912143e1d4.jpg  
  inflating: flowers/sunflower/10541580714_ff6b171abd_n.jpg  
  inflating: flowers/sunflower/1064662314_c5a7891b9f_m.jpg  
  inflating: flowers/sunflower/10862313945_e8ed9202d9_m.jpg  
  inflating: flowers/sunflower/11881770944_22b4f2f8f6_n.jpg  
  inflating: flowers/sunflower/1217254584_4b3028b93d.jpg  
  inflating: flowers/sunflower/12282924083_fb80aa17d4_n.jpg  
  inflating: flowers/sunflower/12323859023_447387dbf0_n.jpg  
  inflating: flowers/sunflower/1240624822_4111dde542.jpg  
  inflating: flowers/sunflower/1240625276_fb3bd0c7b1.jpg  
  inflating: flowers/sunflower/1240626292_52cd5d7fb1_m.jpg  
  inflating: flowers/sunflower/1244774242_25a20d99a9.jpg  
  inflating: flowers/sunflower/12471290635_1f9e3aae16_n.jpg  
  inflating: flowers/sunflower/12471441503_d188b5f31a_m.jpg  
  inflating: flowers/sunflower/12471443383_b71e7a7480_m.jpg  
  inflating: flowers/sunflower/12471791574_bb1be83df4.jpg  
  inflating: flowers/sunflower/1267876087_a1b3c63dc9.jpg  
  inflating: flowers/sunflower/127192624_afa3d9cb84.jpg  
  inflating: flowers/sunflower/1297092593_e573c0a3d6.jpg  
  inflating: flowers/sunflower/13095941995_9a66faa713_n.jpg  
  inflating: flowers/sunflower/13096076565_72c2c60875_n.jpg  
  inflating: flowers/sunflower/13117907313_86c99c6441.jpg  
  inflating: flowers/sunflower/1314584013_fe935fdeb1_n.jpg  
  inflating: flowers/sunflower/13568621944_d575324b8c_n.jpg  
  inflating: flowers/sunflower/13648603305_1268eda8b7_n.jpg  
  inflating: flowers/sunflower/1379256773_bb2eb0d95b_n.jpg  
  inflating: flowers/sunflower/13959937305_2f5c532886_n.jpg  
  inflating: flowers/sunflower/14121915990_4b76718077_m.jpg  
  inflating: flowers/sunflower/14144522269_bc20029375_m.jpg  
  inflating: flowers/sunflower/1419608016_707b887337_n.jpg  
  inflating: flowers/sunflower/14244273988_a7484f18b7_m.jpg  
  inflating: flowers/sunflower/14244410747_22691ece4a_n.jpg  
  inflating: flowers/sunflower/14266917699_91b207888e.jpg  
  inflating: flowers/sunflower/14348961225_09bd803317_n.jpg  
  inflating: flowers/sunflower/14397276020_49f9423614.jpg  
  inflating: flowers/sunflower/14460075029_5cd715bb72_m.jpg  
  inflating: flowers/sunflower/14460081668_eda8795693_m.jpg  
  inflating: flowers/sunflower/14472246629_72373111e6_m.jpg  
  inflating: flowers/sunflower/145303599_2627e23815_n.jpg  
  inflating: flowers/sunflower/14623719696_1bb7970208_n.jpg  
  inflating: flowers/sunflower/14623720226_aeeac66e0a_n.jpg  
  inflating: flowers/sunflower/14646279002_9cdf97be97_n.jpg  
  inflating: flowers/sunflower/14646280372_dd50be16e4_n.jpg  
  inflating: flowers/sunflower/14646281372_5f13794b47.jpg  
  inflating: flowers/sunflower/14646282112_447cc7d1f9.jpg  
  inflating: flowers/sunflower/14646283472_50a3ae1395.jpg  
  inflating: flowers/sunflower/14678298676_6db8831ee6_m.jpg  
  inflating: flowers/sunflower/14698136411_23bdcff7bf_n.jpg  
  inflating: flowers/sunflower/14741812319_e1d32ffb84_n.jpg  
  inflating: flowers/sunflower/14741813010_5d44e33088_n.jpg  
  inflating: flowers/sunflower/14741813110_94964c39e2_n.jpg  
  inflating: flowers/sunflower/14741866338_bdc8bfc8d5_n.jpg  
  inflating: flowers/sunflower/14741907467_fab96f3b2b_n.jpg  
  inflating: flowers/sunflower/147804446_ef9244c8ce_m.jpg  
  inflating: flowers/sunflower/14814264272_4b39a102f9_n.jpg  
  inflating: flowers/sunflower/1484598527_579a272f53.jpg  
  inflating: flowers/sunflower/1485456230_58d8e45e88.jpg  
  inflating: flowers/sunflower/14858674096_ed0fc1a130.jpg  
  inflating: flowers/sunflower/14881304632_54a9dfb8be.jpg  
  inflating: flowers/sunflower/14889392928_9742aed45b_m.jpg  
  inflating: flowers/sunflower/14889779907_3d401bbac7_m.jpg  
  inflating: flowers/sunflower/14901528533_ac1ce09063.jpg  
  inflating: flowers/sunflower/14921668662_3ffc5b9db3_n.jpg  
  inflating: flowers/sunflower/14925397351_c7f209d804_n.jpg  
  inflating: flowers/sunflower/14925397651_97dcddc383_n.jpg  
  inflating: flowers/sunflower/14925397761_46ecfa24e0.jpg  
  inflating: flowers/sunflower/14925398301_55a180f919_n.jpg  
  inflating: flowers/sunflower/14925398441_107f3e0304_n.jpg  
  inflating: flowers/sunflower/14928117202_139d2142cc_n.jpg  
  inflating: flowers/sunflower/14932787983_d6e05f2434_m.jpg  
  inflating: flowers/sunflower/14955545254_324cd4ee75.jpg  
  inflating: flowers/sunflower/14969295739_c132a08663_n.jpg  
  inflating: flowers/sunflower/15026703621_e15e9d55f0_n.jpg  
  inflating: flowers/sunflower/15030133005_9728102622_z.jpg  
  inflating: flowers/sunflower/15042911059_b6153d94e7_n.jpg  
  inflating: flowers/sunflower/15043962658_dcf9dff5e9_n.jpg  
  inflating: flowers/sunflower/15054750690_198b6ab0f2_n.jpg  
  inflating: flowers/sunflower/15054751430_5af76f6096_n.jpg  
  inflating: flowers/sunflower/15054752730_fcf54d475e_m.jpg  
  inflating: flowers/sunflower/15054753070_4f6ae0e763_m.jpg  
  inflating: flowers/sunflower/15054864058_2edca122a9_n.jpg  
  inflating: flowers/sunflower/15054864508_0334b892be_m.jpg  
  inflating: flowers/sunflower/15054865217_e398d0dc9f_n.jpg  
  inflating: flowers/sunflower/15054865768_2cc87ac9d4_m.jpg  
  inflating: flowers/sunflower/15054866658_c1a6223403_m.jpg  
  inflating: flowers/sunflower/15054866898_60ee50ec6b_n.jpg  
  inflating: flowers/sunflower/15066430311_fb57fa92b0_m.jpg  
  inflating: flowers/sunflower/15069459615_7e0fd61914_n.jpg  
  inflating: flowers/sunflower/15072973261_73e2912ef2_n.jpg  
  inflating: flowers/sunflower/15081164641_45a7b92b3a_m.jpg  
  inflating: flowers/sunflower/15108515192_f686dce398_n.jpg  
  inflating: flowers/sunflower/15118243470_7e0a7f159c_n.jpg  
  inflating: flowers/sunflower/15118397087_bfb7ea70d5_n.jpg  
  inflating: flowers/sunflower/15122112402_cafa41934f.jpg  
  inflating: flowers/sunflower/15122622946_1707cfd8a5_n.jpg  
  inflating: flowers/sunflower/15122871130_6a7d0b4372_n.jpg  
  inflating: flowers/sunflower/15145607875_e87204d78c_n.jpg  
  inflating: flowers/sunflower/151898652_b5f1c70b98_n.jpg  
  inflating: flowers/sunflower/15191613243_82ee8e0fe8.jpg  
  inflating: flowers/sunflower/15207507116_8b7f894508_m.jpg  
  inflating: flowers/sunflower/15218421476_9d5f38e732_m.jpg  
  inflating: flowers/sunflower/15218871222_c104032ca1.jpg  
  inflating: flowers/sunflower/15238348741_c2fb12ecf2_m.jpg  
  inflating: flowers/sunflower/15240466871_ec45b65554_m.jpg  
  inflating: flowers/sunflower/15243175532_ac28c48e14_m.jpg  
  inflating: flowers/sunflower/15266715291_dfa3f1d49f_n.jpg  
  inflating: flowers/sunflower/15380755137_a2e67839ab_m.jpg  
  inflating: flowers/sunflower/15443139789_5318389b8c_n.jpg  
  inflating: flowers/sunflower/15460162172_014bcce403.jpg  
  inflating: flowers/sunflower/15472217046_2699b25584.jpg  
  inflating: flowers/sunflower/15493195788_60530f2398_m.jpg  
  inflating: flowers/sunflower/15495578821_92c6d14252_n.jpg  
  inflating: flowers/sunflower/15495579081_661cb260d1_n.jpg  
  inflating: flowers/sunflower/15683877266_42e0fe3782_n.jpg  
  inflating: flowers/sunflower/15745084272_36402f5ee6_n.jpg  
  inflating: flowers/sunflower/15839183375_49bf4f75e8_m.jpg  
  inflating: flowers/sunflower/1596293240_2d5b53495a_m.jpg  
  inflating: flowers/sunflower/15973657966_d6f6005539_n.jpg  
  inflating: flowers/sunflower/16143151468_4f3c033e33.jpg  
  inflating: flowers/sunflower/16153267338_2f39906bcb_n.jpg  
  inflating: flowers/sunflower/164668737_aeab0cb55e_n.jpg  
  inflating: flowers/sunflower/164670176_9f5b9c7965.jpg  
  inflating: flowers/sunflower/164670455_29d8e02bbd_n.jpg  
  inflating: flowers/sunflower/164671753_ab36d9cbb7_n.jpg  
  inflating: flowers/sunflower/164672339_f2b5b164f6.jpg  
  inflating: flowers/sunflower/16616096711_12375a0260_n.jpg  
  inflating: flowers/sunflower/16656015339_2ccb7cd18d.jpg  
  inflating: flowers/sunflower/16832961488_5f7e70eb5e_n.jpg  
  inflating: flowers/sunflower/16967372357_15b1b9a812_n.jpg  
  inflating: flowers/sunflower/16975010069_7afd290657_m.jpg  
  inflating: flowers/sunflower/16988605969_570329ff20_n.jpg  
  inflating: flowers/sunflower/17148843706_df148301ac_n.jpg  
  inflating: flowers/sunflower/1715303025_e7065327e2.jpg  
  inflating: flowers/sunflower/17433282043_441b0a07f4_n.jpg  
  inflating: flowers/sunflower/175638423_058c07afb9.jpg  
  inflating: flowers/sunflower/1788133737_b1133d1aa7.jpg  
  inflating: flowers/sunflower/18097401209_910a46fae1_n.jpg  
  inflating: flowers/sunflower/18237156988_9ceb46a8de_n.jpg  
  inflating: flowers/sunflower/18237215308_a158d49f28_n.jpg  
  inflating: flowers/sunflower/18250039435_7654bc11be_n.jpg  
  inflating: flowers/sunflower/184682095_46f8607278.jpg  
  inflating: flowers/sunflower/184682320_73ccf74710.jpg  
  inflating: flowers/sunflower/184682506_8a9b8c662d.jpg  
  inflating: flowers/sunflower/184682652_c927a49226_m.jpg  
  inflating: flowers/sunflower/184682920_97ae41ce60_m.jpg  
  inflating: flowers/sunflower/184683023_737fec5b18.jpg  
  inflating: flowers/sunflower/18766965343_9f42d4bedc_m.jpg  
  inflating: flowers/sunflower/1880606744_23e3dc4f6b_n.jpg  
  inflating: flowers/sunflower/18828277053_1493158b28.jpg  
  inflating: flowers/sunflower/18828283553_e46504ae38.jpg  
  inflating: flowers/sunflower/18843967474_9cb552716b.jpg  
  inflating: flowers/sunflower/18972803569_1a0634f398_m.jpg  
  inflating: flowers/sunflower/19349582128_68a662075e_n.jpg  
  inflating: flowers/sunflower/19359539074_d7e32e6616_n.jpg  
  inflating: flowers/sunflower/193874852_fb633d8d00_n.jpg  
  inflating: flowers/sunflower/193878348_43571127b9_n.jpg  
  inflating: flowers/sunflower/19442589512_e733cfea0f.jpg  
  inflating: flowers/sunflower/19453165201_2aa747e0bf.jpg  
  inflating: flowers/sunflower/19504937128_a4ae90fcbd_m.jpg  
  inflating: flowers/sunflower/19508264965_d1dfb565ea_n.jpg  
  inflating: flowers/sunflower/19519101829_46af0b4547_m.jpg  
  inflating: flowers/sunflower/19595718862_c68896370c_m.jpg  
  inflating: flowers/sunflower/19697910486_0086d893a2.jpg  
  inflating: flowers/sunflower/197011740_21825de2bf.jpg  
  inflating: flowers/sunflower/19710076021_f5bb162540.jpg  
  inflating: flowers/sunflower/19710925313_31682fa22b_m.jpg  
  inflating: flowers/sunflower/19756232959_17cde3b9f0_m.jpg  
  inflating: flowers/sunflower/19784656639_cd7f0a4a26_m.jpg  
  inflating: flowers/sunflower/19915160340_ec904edbdf_n.jpg  
  inflating: flowers/sunflower/200011914_93f57ed68b.jpg  
  inflating: flowers/sunflower/20022771089_3cc7e5086d_m.jpg  
  inflating: flowers/sunflower/200288046_0032f322ff_n.jpg  
  inflating: flowers/sunflower/200557977_bf24d9550b.jpg  
  inflating: flowers/sunflower/200557979_a16112aac1_n.jpg  
  inflating: flowers/sunflower/200557981_f800fa1af9.jpg  
  inflating: flowers/sunflower/200557983_10a88672fc.jpg  
  inflating: flowers/sunflower/20078317834_6e0983c0f5_n.jpg  
  inflating: flowers/sunflower/20078409301_aa8061bd0b_n.jpg  
  inflating: flowers/sunflower/20112366233_d6cb3b6e15_n.jpg  
  inflating: flowers/sunflower/20148493928_9f75a99783.jpg  
  inflating: flowers/sunflower/20156280765_a6baea3176.jpg  
  inflating: flowers/sunflower/20171662239_f69b6c12bd_n.jpg  
  inflating: flowers/sunflower/201809908_0ef84bb351.jpg  
  inflating: flowers/sunflower/20183028616_beb937e75c_m.jpg  
  inflating: flowers/sunflower/20183071136_c297e74fcc_m.jpg  
  inflating: flowers/sunflower/20258015499_93b9951800_m.jpg  
  inflating: flowers/sunflower/20342824594_9740b7b160.jpg  
  inflating: flowers/sunflower/20344282483_05abb0b837.jpg  
  inflating: flowers/sunflower/20344366953_44fb51051b.jpg  
  inflating: flowers/sunflower/20406385204_469f6749e2_n.jpg  
  inflating: flowers/sunflower/20407896403_a50fef58ac_n.jpg  
  inflating: flowers/sunflower/20410533613_56da1cce7c.jpg  
  inflating: flowers/sunflower/20410697750_c43973d1eb.jpg  
  inflating: flowers/sunflower/20481273479_d459834a3e_n.jpg  
  inflating: flowers/sunflower/20621698991_dcb323911d.jpg  
  inflating: flowers/sunflower/20658775992_1619cd0a9b_n.jpg  
  inflating: flowers/sunflower/20667988875_6e73ac2879_n.jpg  
  inflating: flowers/sunflower/2067882323_8de6623ffd.jpg  
  inflating: flowers/sunflower/20704967595_a9c9b8d431.jpg  
  inflating: flowers/sunflower/20753711039_0b11d24b50_n.jpg  
  inflating: flowers/sunflower/20777358950_c63ea569a1.jpg  
  inflating: flowers/sunflower/20777375650_ef854bf645.jpg  
  inflating: flowers/sunflower/20812318934_82f10c45a1_n.jpg  
  inflating: flowers/sunflower/20871601265_daa4be4291_n.jpg  
  inflating: flowers/sunflower/20905163782_312e2c3bda_n.jpg  
  inflating: flowers/sunflower/20938724084_7fe6bf87ae_n.jpg  
  inflating: flowers/sunflower/20965412955_2c640b13bd.jpg  
  inflating: flowers/sunflower/20972862281_5367f4af88.jpg  
  inflating: flowers/sunflower/20972866151_e6a928b00a.jpg  
  inflating: flowers/sunflower/210076535_80951bc5d5.jpg  
  inflating: flowers/sunflower/21134000558_d7d6c9b1fe_n.jpg  
  inflating: flowers/sunflower/21349789961_18ba1af5b7_n.jpg  
  inflating: flowers/sunflower/21374127408_5ffbe87bb2.jpg  
  inflating: flowers/sunflower/21518663809_3d69f5b995_n.jpg  
  inflating: flowers/sunflower/215798352_184d8040d1.jpg  
  inflating: flowers/sunflower/215798354_429de28c2d.jpg  
  inflating: flowers/sunflower/215798357_3f4bfa27b7.jpg  
  inflating: flowers/sunflower/21728822928_9f6817325a_n.jpg  
  inflating: flowers/sunflower/21796333524_38fc8e0ab5_n.jpg  
  inflating: flowers/sunflower/21821266773_7113d34c35_m.jpg  
  inflating: flowers/sunflower/21899501660_7065d1c1fa_n.jpg  
  inflating: flowers/sunflower/21984860006_20dfacea1c_m.jpg  
  inflating: flowers/sunflower/21995435890_e5672244a4_m.jpg  
  inflating: flowers/sunflower/22183521655_56221bf2a4_n.jpg  
  inflating: flowers/sunflower/22183529245_ce13557515_m.jpg  
  inflating: flowers/sunflower/22203670478_9ec5c2700b_n.jpg  
  inflating: flowers/sunflower/22255608949_172d7c8d22_m.jpg  
  inflating: flowers/sunflower/22405882322_d4561f8469_n.jpg  
  inflating: flowers/sunflower/22405887122_75eda1872f_m.jpg  
  inflating: flowers/sunflower/22416421196_caf131c9fa_m.jpg  
  inflating: flowers/sunflower/22419079265_8902cddb7d_n.jpg  
  inflating: flowers/sunflower/22429146402_332fa2fc72_m.jpg  
  inflating: flowers/sunflower/22429946721_e17a12cb39_n.jpg  
  inflating: flowers/sunflower/22478719251_276cb094f9_n.jpg  
  inflating: flowers/sunflower/22686342422_c0b9e2f38e.jpg  
  inflating: flowers/sunflower/22992257000_76dbc599e7_m.jpg  
  inflating: flowers/sunflower/2307673262_e1e1aefd29.jpg  
  inflating: flowers/sunflower/23204123212_ef32fbafbe.jpg  
  inflating: flowers/sunflower/23247483352_0defc7a6dc_n.jpg  
  inflating: flowers/sunflower/2328600790_90e2942557_n.jpg  
  inflating: flowers/sunflower/23286304156_3635f7de05.jpg  
  inflating: flowers/sunflower/23356825566_f5885875f2.jpg  
  inflating: flowers/sunflower/235651658_a7b3e7cbdd.jpg  
  inflating: flowers/sunflower/23645265812_24352ff6bf.jpg  
  inflating: flowers/sunflower/23894449029_bf0f34d35d_n.jpg  
  inflating: flowers/sunflower/2425164088_4a5d2cdf21_n.jpg  
  inflating: flowers/sunflower/244074259_47ce6d3ef9.jpg  
  inflating: flowers/sunflower/2442985637_8748180f69.jpg  
  inflating: flowers/sunflower/2443095419_17b920d155_m.jpg  
  inflating: flowers/sunflower/2443921986_d4582c123a.jpg  
  inflating: flowers/sunflower/24459548_27a783feda.jpg  
  inflating: flowers/sunflower/24459750_eb49f6e4cb_m.jpg  
  inflating: flowers/sunflower/253586685_ee5b5f5232.jpg  
  inflating: flowers/sunflower/2575272111_f04d79b9af_n.jpg  
  inflating: flowers/sunflower/2588234269_c4bfd0d8b9_n.jpg  
  inflating: flowers/sunflower/2588453601_66f2a03cca_n.jpg  
  inflating: flowers/sunflower/2598973480_07de93e91d_n.jpg  
  inflating: flowers/sunflower/2619000556_6634478e64_n.jpg  
  inflating: flowers/sunflower/26254755_1bfc494ef1_n.jpg  
  inflating: flowers/sunflower/265422922_bbbde781d2_m.jpg  
  inflating: flowers/sunflower/265450085_6e9f276e2e.jpg  
  inflating: flowers/sunflower/2678588376_6ca64a4a54_n.jpg  
  inflating: flowers/sunflower/2689228449_e0be72cf00_n.jpg  
  inflating: flowers/sunflower/2694860538_b95d60122c_m.jpg  
  inflating: flowers/sunflower/2697194548_ec8f8de97c_n.jpg  
  inflating: flowers/sunflower/2706304885_4916102704_n.jpg  
  inflating: flowers/sunflower/2706736074_b0fba20b3e.jpg  
  inflating: flowers/sunflower/2720698862_486d3ec079_m.jpg  
  inflating: flowers/sunflower/2721638730_34a9b7a78b.jpg  
  inflating: flowers/sunflower/2723995667_31f32294b4.jpg  
  inflating: flowers/sunflower/2729206569_9dd2b5a3ed.jpg  
  inflating: flowers/sunflower/2733109082_1351f6738a_n.jpg  
  inflating: flowers/sunflower/27465811_9477c9d044.jpg  
  inflating: flowers/sunflower/27466794_57e4fe5656.jpg  
  inflating: flowers/sunflower/274846229_990e976683_n.jpg  
  inflating: flowers/sunflower/274848710_5185cf33b1_n.jpg  
  inflating: flowers/sunflower/2759796022_55bd47bfa2_n.jpg  
  inflating: flowers/sunflower/2767658405_1e2043f44c_n.jpg  
  inflating: flowers/sunflower/2767688889_b176b0c3fb.jpg  
  inflating: flowers/sunflower/2803725948_5fd1f2fc99_n.jpg  
  inflating: flowers/sunflower/2807106374_f422b5f00c.jpg  
  inflating: flowers/sunflower/2816256710_a2d3616fae.jpg  
  inflating: flowers/sunflower/2816503473_580306e772.jpg  
  inflating: flowers/sunflower/2823659190_afdabee45c.jpg  
  inflating: flowers/sunflower/28661674053_44f8034570_n.jpg  
  inflating: flowers/sunflower/28664252816_1f24388ee6_n.jpg  
  inflating: flowers/sunflower/287233531_74d4605814_m.jpg  
  inflating: flowers/sunflower/2883115609_5a69357b5d_m.jpg  
  inflating: flowers/sunflower/2883115621_4837267ea1_m.jpg  
  inflating: flowers/sunflower/2894191705_a1d2d80c80.jpg  
  inflating: flowers/sunflower/2895404754_6d9f9416d7_n.jpg  
  inflating: flowers/sunflower/2927020075_54c9186797_n.jpg  
  inflating: flowers/sunflower/2940221732_3507f3e927_n.jpg  
  inflating: flowers/sunflower/29429430522_b7a22cd3df_n.jpg  
  inflating: flowers/sunflower/2944298800_1984bd4f8a_m.jpg  
  inflating: flowers/sunflower/2949654221_909b0c86a1_n.jpg  
  inflating: flowers/sunflower/2950505226_529e013bf7_m.jpg  
  inflating: flowers/sunflower/2960610406_b61930727f_n.jpg  
  inflating: flowers/sunflower/29744655960_c0868b43da_n.jpg  
  inflating: flowers/sunflower/29744656500_f17578f7e3_n.jpg  
  inflating: flowers/sunflower/2979133707_84aab35b5d.jpg  
  inflating: flowers/sunflower/2979297519_17a08b37f6_m.jpg  
  inflating: flowers/sunflower/2980154410_bffd7a3452_n.jpg  
  inflating: flowers/sunflower/2996573407_5e473b9359.jpg  
  inflating: flowers/sunflower/29972905_4cc537ff4b_n.jpg  
  inflating: flowers/sunflower/3001531316_efae24d37d_n.jpg  
  inflating: flowers/sunflower/3001533700_1c62fb8b4a_n.jpg  
  inflating: flowers/sunflower/3001536784_3bfd101b23_n.jpg  
  inflating: flowers/sunflower/3062794421_295f8c2c4e.jpg  
  inflating: flowers/sunflower/310380634_60e6c79989.jpg  
  inflating: flowers/sunflower/3146795631_d062f233c1.jpg  
  inflating: flowers/sunflower/3154932076_eff5c38231_n.jpg  
  inflating: flowers/sunflower/3154932290_4bf43bd34f_n.jpg  
  inflating: flowers/sunflower/3196753837_411b03682d_n.jpg  
  inflating: flowers/sunflower/3311874685_7b9ef10f7e_m.jpg  
  inflating: flowers/sunflower/3334350831_f8755a2095_n.jpg  
  inflating: flowers/sunflower/34312487015_66a635fd71_n.jpg  
  inflating: flowers/sunflower/34571133752_0a9337993c_n.jpg  
  inflating: flowers/sunflower/34571252122_b3b1f45fac_n.jpg  
  inflating: flowers/sunflower/34572755322_b43e90cae2_n.jpg  
  inflating: flowers/sunflower/3466923719_b4b6df7f8b_n.jpg  
  inflating: flowers/sunflower/34692938506_efda47f39a_n.jpg  
  inflating: flowers/sunflower/34695605616_3b05bb1ef5_n.jpg  
  inflating: flowers/sunflower/3514340206_efb8198a80_n.jpg  
  inflating: flowers/sunflower/35477171_13cb52115c_n.jpg  
  inflating: flowers/sunflower/3568114325_d6b1363497.jpg  
  inflating: flowers/sunflower/3568925290_faf7aec3a0.jpg  
  inflating: flowers/sunflower/3575811488_a31714472a.jpg  
  inflating: flowers/sunflower/3594967811_697184b026_n.jpg  
  inflating: flowers/sunflower/3596902268_049e33a2cb_n.jpg  
  inflating: flowers/sunflower/3665455426_9cd1c3af4a_n.jpg  
  inflating: flowers/sunflower/3681233294_4f06cd8903.jpg  
  inflating: flowers/sunflower/3683873444_be4a609c46.jpg  
  inflating: flowers/sunflower/3731075939_6c92d7fe68_m.jpg  
  inflating: flowers/sunflower/3734999477_7f454081aa_n.jpg  
  inflating: flowers/sunflower/3749090865_b90f28a585_n.jpg  
  inflating: flowers/sunflower/3749091071_c146b33c74_n.jpg  
  inflating: flowers/sunflower/3766264038_ea701c7131_n.jpg  
  inflating: flowers/sunflower/3784815653_5df39aa9c2_m.jpg  
  inflating: flowers/sunflower/3798841385_38142ea3c6_n.jpg  
  inflating: flowers/sunflower/3815322974_52c12dbde3.jpg  
  inflating: flowers/sunflower/3832945398_96509d192b.jpg  
  inflating: flowers/sunflower/3838274225_36010c6254_n.jpg  
  inflating: flowers/sunflower/3840761441_7c648abf4d_n.jpg  
  inflating: flowers/sunflower/3846717708_ea11383ed8.jpg  
  inflating: flowers/sunflower/3846907701_e13b66aa87.jpg  
  inflating: flowers/sunflower/3848405800_8eea982c40.jpg  
  inflating: flowers/sunflower/3858508462_db2b9692d1.jpg  
  inflating: flowers/sunflower/3865206264_5d81584bba.jpg  
  inflating: flowers/sunflower/3883895985_bd20198371.jpg  
  inflating: flowers/sunflower/3884437548_ca8c36be3f_n.jpg  
  inflating: flowers/sunflower/3888908087_462d0045f2_n.jpg  
  inflating: flowers/sunflower/3889694330_6f84d123d5_n.jpg  
  inflating: flowers/sunflower/3889699518_77bf85bf44_n.jpg  
  inflating: flowers/sunflower/3893436870_034b79d118_n.jpg  
  inflating: flowers/sunflower/3894586562_5dbbdc4354_n.jpg  
  inflating: flowers/sunflower/3897174387_07aac6bf5f_n.jpg  
  inflating: flowers/sunflower/3912497870_a2f91c3a65_n.jpg  
  inflating: flowers/sunflower/3912497888_e7a5905bc3_n.jpg  
  inflating: flowers/sunflower/3920137864_e922ab25b4_n.jpg  
  inflating: flowers/sunflower/3922005347_7b6fb82fcd.jpg  
  inflating: flowers/sunflower/39271782_b4335d09ae_n.jpg  
  inflating: flowers/sunflower/3946535195_9382dcb951_n.jpg  
  inflating: flowers/sunflower/3946535709_78613461cb_n.jpg  
  inflating: flowers/sunflower/3950020811_dab89bebc0_n.jpg  
  inflating: flowers/sunflower/3951246342_930138610b_n.jpg  
  inflating: flowers/sunflower/4019748730_ee09b39a43.jpg  
  inflating: flowers/sunflower/40410686_272bc66faf_m.jpg  
  inflating: flowers/sunflower/40410814_fba3837226_n.jpg  
  inflating: flowers/sunflower/40410963_3ac280f23a_n.jpg  
  inflating: flowers/sunflower/40411019_526f3fc8d9_m.jpg  
  inflating: flowers/sunflower/40411100_7fbe10ec0f_n.jpg  
  inflating: flowers/sunflower/4042816698_578a1d599e.jpg  
  inflating: flowers/sunflower/4080112931_cb20b3d51a_n.jpg  
  inflating: flowers/sunflower/4110787181_f73f12d107_m.jpg  
  inflating: flowers/sunflower/4160805260_cf758daeae_n.jpg  
  inflating: flowers/sunflower/417251603_69f0ee57a9_m.jpg  
  inflating: flowers/sunflower/418056361_1dfac1c151_n.jpg  
  inflating: flowers/sunflower/4186808407_06688641e2_n.jpg  
  inflating: flowers/sunflower/4191299785_a4faca9b74_n.jpg  
  inflating: flowers/sunflower/4235259239_21f2eb4f2e.jpg  
  inflating: flowers/sunflower/4271193206_666ef60aa0_m.jpg  
  inflating: flowers/sunflower/4341530649_c17bbc5d01.jpg  
  inflating: flowers/sunflower/4398771472_44f2a0c162_n.jpg  
  inflating: flowers/sunflower/44079668_34dfee3da1_n.jpg  
  inflating: flowers/sunflower/4414080766_5116e8084e.jpg  
  inflating: flowers/sunflower/4414081772_8a0e8a1327.jpg  
  inflating: flowers/sunflower/4414083164_3f285f8ac5.jpg  
  inflating: flowers/sunflower/4414084638_03d2db38ae.jpg  
  inflating: flowers/sunflower/4489516263_e49fe82637_n.jpg  
  inflating: flowers/sunflower/45045003_30bbd0a142_m.jpg  
  inflating: flowers/sunflower/45045005_57354ee844.jpg  
  inflating: flowers/sunflower/4528959364_fa544b0f4e_m.jpg  
  inflating: flowers/sunflower/4623843480_23e3fb8dcc_n.jpg  
  inflating: flowers/sunflower/4625255191_26e17a28c9_n.jpg  
  inflating: flowers/sunflower/4626721387_88f89d5cc9_n.jpg  
  inflating: flowers/sunflower/4664737020_b4c61aacd3_n.jpg  
  inflating: flowers/sunflower/4664767140_fe01231322_n.jpg  
  inflating: flowers/sunflower/4673984698_6ec14d5b79.jpg  
  inflating: flowers/sunflower/4689061249_6498da5013.jpg  
  inflating: flowers/sunflower/4745980581_a0b7585258_n.jpg  
  inflating: flowers/sunflower/4745985619_249078cafa_n.jpg  
  inflating: flowers/sunflower/4745991955_6804568ae0_n.jpg  
  inflating: flowers/sunflower/4746638094_f5336788a0_n.jpg  
  inflating: flowers/sunflower/4746643626_02b2d056a2_n.jpg  
  inflating: flowers/sunflower/4746648726_e37a2de16d_n.jpg  
  inflating: flowers/sunflower/4746668678_0e2693b1b9_n.jpg  
  inflating: flowers/sunflower/4755075329_1fccc69d4e.jpg  
  inflating: flowers/sunflower/4755705724_976621a1e7.jpg  
  inflating: flowers/sunflower/4794180388_c7b9294aef_n.jpg  
  inflating: flowers/sunflower/4795924955_202448d8ea_n.jpg  
  inflating: flowers/sunflower/4798378647_ca199b18c0_n.jpg  
  inflating: flowers/sunflower/4804434999_bf2187e96a_n.jpg  
  inflating: flowers/sunflower/4805544785_a63241f6d0_n.jpg  
  inflating: flowers/sunflower/4806174512_e04475b766_n.jpg  
  inflating: flowers/sunflower/4813483281_f3707a71e7_n.jpg  
  inflating: flowers/sunflower/4814106562_7c3564d2d9_n.jpg  
  inflating: flowers/sunflower/4816636411_0135bfe2c9_n.jpg  
  inflating: flowers/sunflower/4818994715_9d90527d18_n.jpg  
  inflating: flowers/sunflower/4821232343_7e0bcfbfdf_n.jpg  
  inflating: flowers/sunflower/4823873762_5f79b0c656_n.jpg  
  inflating: flowers/sunflower/4831577091_f56157a5d5_n.jpg  
  inflating: flowers/sunflower/4846786944_2832c5c8b8.jpg  
  inflating: flowers/sunflower/4847062576_bae870479c_n.jpg  
  inflating: flowers/sunflower/4848279231_c4960e28b2_n.jpg  
  inflating: flowers/sunflower/4868595281_1e58083785.jpg  
  inflating: flowers/sunflower/4869189730_f47c124cda_n.jpg  
  inflating: flowers/sunflower/4871455214_8b5fb87ab6_n.jpg  
  inflating: flowers/sunflower/4872284527_ff52128b97.jpg  
  inflating: flowers/sunflower/4872892690_52dc25b0b4.jpg  
  inflating: flowers/sunflower/4877195645_791c3a83b9_m.jpg  
  inflating: flowers/sunflower/4878447831_e904c60cf8_n.jpg  
  inflating: flowers/sunflower/4890268276_563f40a193.jpg  
  inflating: flowers/sunflower/4893660821_eb7f02bef3_n.jpg  
  inflating: flowers/sunflower/4895122831_83db2ba2d0_n.jpg  
  inflating: flowers/sunflower/4895124535_11a2bb704c_m.jpg  
  inflating: flowers/sunflower/4895718876_0246882882_n.jpg  
  inflating: flowers/sunflower/4895719476_bd3b6bd6fd_n.jpg  
  inflating: flowers/sunflower/4895720722_8247f2015b_n.jpg  
  inflating: flowers/sunflower/4895721242_89014e723c_n.jpg  
  inflating: flowers/sunflower/4895721788_f10208ab77_n.jpg  
  inflating: flowers/sunflower/4902448474_6850b85765_n.jpg  
  inflating: flowers/sunflower/4914793782_d0ea760791.jpg  
  inflating: flowers/sunflower/4932143849_018486cbf7.jpg  
  inflating: flowers/sunflower/4932144003_cbffc89bf0.jpg  
  inflating: flowers/sunflower/4932735362_6e1017140f.jpg  
  inflating: flowers/sunflower/4932735566_2327bf319a.jpg  
  inflating: flowers/sunflower/4932736136_0115955987.jpg  
  inflating: flowers/sunflower/4932736308_827012cff2.jpg  
  inflating: flowers/sunflower/4933228903_9ae82d0b9d.jpg  
  inflating: flowers/sunflower/4933229357_1c5cc03f65_m.jpg  
  inflating: flowers/sunflower/4933823194_33f6e32c5a.jpg  
  inflating: flowers/sunflower/4940287066_385afd9c18_m.jpg  
  inflating: flowers/sunflower/4942258704_c4146b710a_n.jpg  
  inflating: flowers/sunflower/4977385375_e271e282f9.jpg  
  inflating: flowers/sunflower/4980406384_791774d953.jpg  
  inflating: flowers/sunflower/4989952542_35f2cdd5e2_n.jpg  
  inflating: flowers/sunflower/5004121118_e9393e60d0_n.jpg  
  inflating: flowers/sunflower/5007598545_90e08e81c1_n.jpg  
  inflating: flowers/sunflower/5015462205_440898fe41_n.jpg  
  inflating: flowers/sunflower/5018120483_cc0421b176_m.jpg  
  inflating: flowers/sunflower/5020805135_1219d7523d.jpg  
  inflating: flowers/sunflower/5020805619_6c710793f7.jpg  
  inflating: flowers/sunflower/5025805406_033cb03475_n.jpg  
  inflating: flowers/sunflower/5027895361_ace3b731e5_n.jpg  
  inflating: flowers/sunflower/5028817729_f04d32bac8_n.jpg  
  inflating: flowers/sunflower/5032376020_2ed312306c.jpg  
  inflating: flowers/sunflower/5037531593_e2daf4c7f1.jpg  
  inflating: flowers/sunflower/5037790727_57c527494f.jpg  
  inflating: flowers/sunflower/5042785753_392cc4e74d_n.jpg  
  inflating: flowers/sunflower/5043404000_9bc16cb7e5_m.jpg  
  inflating: flowers/sunflower/5043409092_5b12cc985a_m.jpg  
  inflating: flowers/sunflower/5043409856_395300dbe5_m.jpg  
  inflating: flowers/sunflower/5067864967_19928ca94c_m.jpg  
  inflating: flowers/sunflower/5076821914_c21b58fd4c_m.jpg  
  inflating: flowers/sunflower/5091281256_648c37d7c1_n.jpg  
  inflating: flowers/sunflower/50987813_7484bfbcdf.jpg  
  inflating: flowers/sunflower/5115925320_ed9ca5b2d1_n.jpg  
  inflating: flowers/sunflower/5139969631_743880e01d_n.jpg  
  inflating: flowers/sunflower/5139969871_c9046bdaa7_n.jpg  
  inflating: flowers/sunflower/5139971615_434ff8ed8b_n.jpg  
  inflating: flowers/sunflower/5139977283_530c508603_n.jpg  
  inflating: flowers/sunflower/5139977423_d413b23fde_m.jpg  
  inflating: flowers/sunflower/5139977579_ea2dd6a322_m.jpg  
  inflating: flowers/sunflower/5180260869_1db7ff98e4_n.jpg  
  inflating: flowers/sunflower/5180859236_60aa57ff9b_n.jpg  
  inflating: flowers/sunflower/5180861654_0741222c62_n.jpg  
  inflating: flowers/sunflower/5223643767_d8beb7e410.jpg  
  inflating: flowers/sunflower/5231868667_f0baa71feb_n.jpg  
  inflating: flowers/sunflower/5293283002_9b17f085f7_m.jpg  
  inflating: flowers/sunflower/5330608174_b49f7a4c48_m.jpg  
  inflating: flowers/sunflower/5339004958_a0a6f385fd_m.jpg  
  inflating: flowers/sunflower/5357144886_b78f4782eb.jpg  
  inflating: flowers/sunflower/5437996076_cf7e2ac32e_n.jpg  
  inflating: flowers/sunflower/5492906452_80943bfd04.jpg  
  inflating: flowers/sunflower/5526324308_b333da0e57_n.jpg  
  inflating: flowers/sunflower/5556633113_0a04f5ed8a_n.jpg  
  inflating: flowers/sunflower/5738580862_e128192f75.jpg  
  inflating: flowers/sunflower/5830614551_e460a1215c.jpg  
  inflating: flowers/sunflower/58636535_bc53ef0a21_m.jpg  
  inflating: flowers/sunflower/5896354497_6a19162741.jpg  
  inflating: flowers/sunflower/5917253022_4e3142d48b_n.jpg  
  inflating: flowers/sunflower/5923085671_f81dd1cf6f.jpg  
  inflating: flowers/sunflower/5923085891_27617463fe.jpg  
  inflating: flowers/sunflower/5923649444_a823e534e9.jpg  
  inflating: flowers/sunflower/5927432662_3ffd2461c2_n.jpg  
  inflating: flowers/sunflower/5933438337_b26a81ea81_n.jpg  
  inflating: flowers/sunflower/5933438461_7607cf06e2_n.jpg  
  inflating: flowers/sunflower/5933438547_0dea1fddd6_n.jpg  
  inflating: flowers/sunflower/5937355165_1dc7b2cbf9_n.jpg  
  inflating: flowers/sunflower/5937914300_bfca430439_n.jpg  
  inflating: flowers/sunflower/5951665793_8ae4807cbd_n.jpg  
  inflating: flowers/sunflower/5952223760_85972671d6_n.jpg  
  inflating: flowers/sunflower/5955475577_3d923874d9_n.jpg  
  inflating: flowers/sunflower/5955500463_6c08cb199e.jpg  
  inflating: flowers/sunflower/5955501969_e42f038a6f_n.jpg  
  inflating: flowers/sunflower/5956626941_2885465093_n.jpg  
  inflating: flowers/sunflower/5956627065_075880a1cc_n.jpg  
  inflating: flowers/sunflower/5956627147_4d51393479_n.jpg  
  inflating: flowers/sunflower/5957007921_62333981d2_n.jpg  
  inflating: flowers/sunflower/5957186948_b2afd80d70_n.jpg  
  inflating: flowers/sunflower/5963905278_6a8efc6b27_n.jpg  
  inflating: flowers/sunflower/5966729883_67f4fede93.jpg  
  inflating: flowers/sunflower/5967283168_90dd4daf28_n.jpg  
  inflating: flowers/sunflower/5967284308_85714d8cf7_m.jpg  
  inflating: flowers/sunflower/5970300143_36b42437de_n.jpg  
  inflating: flowers/sunflower/5970301989_fe3a68aac8_m.jpg  
  inflating: flowers/sunflower/5970868068_fe1c8b282e_n.jpg  
  inflating: flowers/sunflower/5970869550_d7d9fabebd_n.jpg  
  inflating: flowers/sunflower/5973935729_2868f2db1f_n.jpg  
  inflating: flowers/sunflower/5979111025_3bcae48ae6_n.jpg  
  inflating: flowers/sunflower/5979111199_495884b578_n.jpg  
  inflating: flowers/sunflower/5979111555_61b400c070_n.jpg  
  inflating: flowers/sunflower/5979668702_fdaec9e164_n.jpg  
  inflating: flowers/sunflower/5979669004_d9736206c9_n.jpg  
  inflating: flowers/sunflower/5991628433_e1d853e40d_n.jpg  
  inflating: flowers/sunflower/5994569021_749d5e2da3_n.jpg  
  inflating: flowers/sunflower/5994572653_ea98afa3af_n.jpg  
  inflating: flowers/sunflower/5994586159_1dd99d66b4_n.jpg  
  inflating: flowers/sunflower/5995136822_8e1eed76f5_n.jpg  
  inflating: flowers/sunflower/5998488415_a6bacd9f83.jpg  
  inflating: flowers/sunflower/5999024446_5721493894.jpg  
  inflating: flowers/sunflower/6002598514_22a9a404c7_n.jpg  
  inflating: flowers/sunflower/6042014768_b57f0bfc79_n.jpg  
  inflating: flowers/sunflower/6050020905_881295ac72_n.jpg  
  inflating: flowers/sunflower/6053739964_a1d9ab3ed1_n.jpg  
  inflating: flowers/sunflower/6056460102_f5569092a6_n.jpg  
  inflating: flowers/sunflower/6061175433_95fdb12f32_n.jpg  
  inflating: flowers/sunflower/6061177447_d8ce96aee0.jpg  
  inflating: flowers/sunflower/6074427492_1b5bab7848_n.jpg  
  inflating: flowers/sunflower/6080086410_17a02dcfb8.jpg  
  inflating: flowers/sunflower/6104713425_8a3277e34a.jpg  
  inflating: flowers/sunflower/6112510436_9fe06e695a_n.jpg  
  inflating: flowers/sunflower/6113021380_7546bf7ac7_n.jpg  
  inflating: flowers/sunflower/6116210027_61923f4b64.jpg  
  inflating: flowers/sunflower/6122711533_2c219f0392_n.jpg  
  inflating: flowers/sunflower/6125761554_4e72819ce4_m.jpg  
  inflating: flowers/sunflower/6133988570_9dc778e622_m.jpg  
  inflating: flowers/sunflower/6140661443_bb48344226.jpg  
  inflating: flowers/sunflower/6140693467_211a135b6d.jpg  
  inflating: flowers/sunflower/6140808687_88df0fd733.jpg  
  inflating: flowers/sunflower/6140892289_92805cc590.jpg  
  inflating: flowers/sunflower/6141150299_b46a64e4de.jpg  
  inflating: flowers/sunflower/6141199476_9b6d383fd9.jpg  
  inflating: flowers/sunflower/6145005439_ef6e07f9c6_n.jpg  
  inflating: flowers/sunflower/6166888942_7058198713_m.jpg  
  inflating: flowers/sunflower/6198569425_e953b9e6cc_m.jpg  
  inflating: flowers/sunflower/6198569587_23c3693328_m.jpg  
  inflating: flowers/sunflower/6199086734_b7ddc65816_m.jpg  
  inflating: flowers/sunflower/6204049536_1ac4f09232_n.jpg  
  inflating: flowers/sunflower/6239758929_50e5e5a476_m.jpg  
  inflating: flowers/sunflower/6250692311_cb60c85ee9_n.jpg  
  inflating: flowers/sunflower/6265084065_7a8b30cc6e_n.jpg  
  inflating: flowers/sunflower/6482016425_d8fab362f6.jpg  
  inflating: flowers/sunflower/6482016439_b0d06dac04.jpg  
  inflating: flowers/sunflower/6495554833_86eb8faa8e_n.jpg  
  inflating: flowers/sunflower/6495559397_61d01c0c57.jpg  
  inflating: flowers/sunflower/6606741847_f0198d83ff.jpg  
  inflating: flowers/sunflower/6606743797_c90c669757.jpg  
  inflating: flowers/sunflower/6606746467_a668c8d417.jpg  
  inflating: flowers/sunflower/6606749757_b98a4ba403.jpg  
  inflating: flowers/sunflower/6606753075_72ee32aa30_m.jpg  
  inflating: flowers/sunflower/6606806621_5267acdd38.jpg  
  inflating: flowers/sunflower/6606809995_edee55b770_m.jpg  
  inflating: flowers/sunflower/6606813305_c992231d29_m.jpg  
  inflating: flowers/sunflower/6606815161_3c4372760f.jpg  
  inflating: flowers/sunflower/6606817351_10f6e43a09.jpg  
  inflating: flowers/sunflower/6606820461_952c450f90_n.jpg  
  inflating: flowers/sunflower/6606823367_e89dc52a95_n.jpg  
  inflating: flowers/sunflower/6627521877_6e43fb3c49_m.jpg  
  inflating: flowers/sunflower/678714585_addc9aaaef.jpg  
  inflating: flowers/sunflower/6866250080_ae80df0cd5_m.jpg  
  inflating: flowers/sunflower/6908789145_814d448bb1_n.jpg  
  inflating: flowers/sunflower/6953297_8576bf4ea3.jpg  
  inflating: flowers/sunflower/6958724008_12259943a7.jpg  
  inflating: flowers/sunflower/7012364067_5ffc7654c9_m.jpg  
  inflating: flowers/sunflower/7012366081_019c8a17a4_m.jpg  
  inflating: flowers/sunflower/7176723954_e41618edc1_n.jpg  
  inflating: flowers/sunflower/7176729016_d73ff2211e.jpg  
  inflating: flowers/sunflower/7176729812_7c053921fb_m.jpg  
  inflating: flowers/sunflower/7176736574_14446539cb_n.jpg  
  inflating: flowers/sunflower/7270375648_79f0caef42_n.jpg  
  inflating: flowers/sunflower/7369484298_332f69bd88_n.jpg  
  inflating: flowers/sunflower/7492109308_bbbb982ebe_n.jpg  
  inflating: flowers/sunflower/7510240282_87554c7418_n.jpg  
  inflating: flowers/sunflower/7510262868_cf7d6f6f25_n.jpg  
  inflating: flowers/sunflower/7510285306_ba8f80c382_n.jpg  
  inflating: flowers/sunflower/7581713708_8eae6794f2.jpg  
  inflating: flowers/sunflower/7586498522_4dcab1c8d2_m.jpg  
  inflating: flowers/sunflower/7603036176_9e8967cd21.jpg  
  inflating: flowers/sunflower/7652532108_01ef94c476.jpg  
  inflating: flowers/sunflower/7654774598_6b715a8d3e.jpg  
  inflating: flowers/sunflower/7721658400_0dec46d225.jpg  
  inflating: flowers/sunflower/7728953426_abd179ab63.jpg  
  inflating: flowers/sunflower/7791014076_07a897cb85_n.jpg  
  inflating: flowers/sunflower/7804213238_1d92ae5edb_m.jpg  
  inflating: flowers/sunflower/7820305664_82148f3bfb_n.jpg  
  inflating: flowers/sunflower/7820398908_4316bbba45.jpg  
  inflating: flowers/sunflower/7820523050_76c8caa025.jpg  
  inflating: flowers/sunflower/7820626738_3be6a52e4e_n.jpg  
  inflating: flowers/sunflower/7857605684_fc86440c23.jpg  
  inflating: flowers/sunflower/7935826214_9b57628203_m.jpg  
  inflating: flowers/sunflower/8014734302_65c6e83bb4_m.jpg  
  inflating: flowers/sunflower/8014735546_3db46bb1fe_n.jpg  
  inflating: flowers/sunflower/8021568040_f891223c44_n.jpg  
  inflating: flowers/sunflower/8038712786_5bdeed3c7f_m.jpg  
  inflating: flowers/sunflower/8041242566_752def876e_n.jpg  
  inflating: flowers/sunflower/8071460469_a7c2c34b97_n.jpg  
  inflating: flowers/sunflower/8081530919_c882d46bb0_n.jpg  
  inflating: flowers/sunflower/8174935013_b16626b49b.jpg  
  inflating: flowers/sunflower/8174935717_d19367d502.jpg  
  inflating: flowers/sunflower/8174941335_56389b53e9_n.jpg  
  inflating: flowers/sunflower/8174970894_7f9a26be7e.jpg  
  inflating: flowers/sunflower/8174972548_0051c2d431.jpg  
  inflating: flowers/sunflower/8192234807_fed4a46f1a_n.jpg  
  inflating: flowers/sunflower/8202034834_ee0ee91e04_n.jpg  
  inflating: flowers/sunflower/821368661_4ab4343f5a.jpg  
  inflating: flowers/sunflower/8234846550_fdaf326dbe.jpg  
  inflating: flowers/sunflower/8249000137_eddfffa380_n.jpg  
  inflating: flowers/sunflower/8265023280_713f2c69d0_m.jpg  
  inflating: flowers/sunflower/8266310743_02095e782d_m.jpg  
  inflating: flowers/sunflower/8292914969_4a76608250_m.jpg  
  inflating: flowers/sunflower/8368015811_2893411cf7_n.jpg  
  inflating: flowers/sunflower/8433716268_8b7b4083bc_n.jpg  
  inflating: flowers/sunflower/8478248531_1a16e232b5.jpg  
  inflating: flowers/sunflower/8480886751_71d88bfdc0_n.jpg  
  inflating: flowers/sunflower/8481979626_98c9f88848_n.jpg  
  inflating: flowers/sunflower/8543642705_b841b0e5f6.jpg  
  inflating: flowers/sunflower/8563099326_8be9177101.jpg  
  inflating: flowers/sunflower/857698097_8068a2c135_n.jpg  
  inflating: flowers/sunflower/864957037_c75373d1c5.jpg  
  inflating: flowers/sunflower/8705462313_4458d64cd4.jpg  
  inflating: flowers/sunflower/877083343_e3338c4125.jpg  
  inflating: flowers/sunflower/8928614683_6c168edcfc.jpg  
  inflating: flowers/sunflower/8928658373_fdca5ff1b8.jpg  
  inflating: flowers/sunflower/8929213942_5544191250_n.jpg  
  inflating: flowers/sunflower/8929274876_17efc1774a_n.jpg  
  inflating: flowers/sunflower/8929288228_6795bcb1fe.jpg  
  inflating: flowers/sunflower/8935252770_263d682fe8_n.jpg  
  inflating: flowers/sunflower/9056495873_66e351b17c_n.jpg  
  inflating: flowers/sunflower/9111896677_ff0b6fa6f6_n.jpg  
  inflating: flowers/sunflower/9206376642_8348ba5c7a.jpg  
  inflating: flowers/sunflower/9213511121_836a458021_m.jpg  
  inflating: flowers/sunflower/9216286162_6ceefdd1b4_m.jpg  
  inflating: flowers/sunflower/9216286876_289a4779f7.jpg  
  inflating: flowers/sunflower/9231555352_d2dd8f8e68_m.jpg  
  inflating: flowers/sunflower/9240005603_6a9b71dcea_n.jpg  
  inflating: flowers/sunflower/9240129413_f240ce7866_n.jpg  
  inflating: flowers/sunflower/9246304620_768d1f54d7_n.jpg  
  inflating: flowers/sunflower/9302733302_2cb92cf275.jpg  
  inflating: flowers/sunflower/9309473873_9d62b9082e.jpg  
  inflating: flowers/sunflower/9339697826_88c9c4dc50.jpg  
  inflating: flowers/sunflower/9359374034_21fb12d613_n.jpg  
  inflating: flowers/sunflower/9375675309_987d32f99e_n.jpg  
  inflating: flowers/sunflower/9381481549_5a5d503e42_n.jpg  
  inflating: flowers/sunflower/9384867134_83af458a19_n.jpg  
  inflating: flowers/sunflower/9399711558_7cb9547cd3_n.jpg  
  inflating: flowers/sunflower/9400904374_37723396e3_n.jpg  
  inflating: flowers/sunflower/9410186154_465642ed35.jpg  
  inflating: flowers/sunflower/9427945592_07a2676945_n.jpg  
  inflating: flowers/sunflower/9431890901_cd11bda584_n.jpg  
  inflating: flowers/sunflower/9431896325_23bf6e8761.jpg  
  inflating: flowers/sunflower/9432335346_e298e47713_n.jpg  
  inflating: flowers/sunflower/9445830851_e9a126fd1d_n.jpg  
  inflating: flowers/sunflower/9448615838_04078d09bf_n.jpg  
  inflating: flowers/sunflower/9460336948_6ae968be93.jpg  
  inflating: flowers/sunflower/9461693602_710f20904f.jpg  
  inflating: flowers/sunflower/9479261399_cebfbff670_n.jpg  
  inflating: flowers/sunflower/9481563239_01b585b41d_n.jpg  
  inflating: flowers/sunflower/9482209981_bf7bf6022b_m.jpg  
  inflating: flowers/sunflower/9483429732_5ae73eb672_n.jpg  
  inflating: flowers/sunflower/9484354480_07ff2ef0a6.jpg  
  inflating: flowers/sunflower/9485002920_59af6f4cac.jpg  
  inflating: flowers/sunflower/9491955955_d0b2c83834.jpg  
  inflating: flowers/sunflower/9497774249_7f5ae70927_m.jpg  
  inflating: flowers/sunflower/9497774935_a7daec5433_n.jpg  
  inflating: flowers/sunflower/9511172241_8aee411e2e.jpg  
  inflating: flowers/sunflower/9535500195_543d0b729b.jpg  
  inflating: flowers/sunflower/9538283930_0faea083bb_n.jpg  
  inflating: flowers/sunflower/9555824387_32b151e9b0_m.jpg  
  inflating: flowers/sunflower/9555827829_74e6f60f1d_m.jpg  
  inflating: flowers/sunflower/9558627290_353a14ba0b_m.jpg  
  inflating: flowers/sunflower/9558628596_722c29ec60_m.jpg  
  inflating: flowers/sunflower/9558630626_52a1b7d702_m.jpg  
  inflating: flowers/sunflower/9558632814_e78a780f4f.jpg  
  inflating: flowers/sunflower/9564240106_0577e919da_n.jpg  
  inflating: flowers/sunflower/9588522189_db6166f67f.jpg  
  inflating: flowers/sunflower/9599534035_ae4df582b6.jpg  
  inflating: flowers/sunflower/9610098411_f1613c8e14.jpg  
  inflating: flowers/sunflower/9610371852_179e7781ce.jpg  
  inflating: flowers/sunflower/9610373158_5250bce6ac_n.jpg  
  inflating: flowers/sunflower/9610373748_b9cb67bd55.jpg  
  inflating: flowers/sunflower/9610374042_bb16cded3d.jpg  
  inflating: flowers/sunflower/9651392844_77f90589ba_n.jpg  
  inflating: flowers/sunflower/9655029591_7a77f87500.jpg  
  inflating: flowers/sunflower/9681915384_b3b646dc92_m.jpg  
  inflating: flowers/sunflower/969913643_9d5cd2fe45_m.jpg  
  inflating: flowers/sunflower/9699724719_a8439cc0fd_n.jpg  
  inflating: flowers/sunflower/9738792160_00cbcc99c8_n.jpg  
  inflating: flowers/sunflower/9783416751_b2a03920f7_n.jpg  
  inflating: flowers/sunflower/9825716455_f12bcc8d4e_n.jpg  
  inflating: flowers/sunflower/9904127656_f76a5a4811_m.jpg  
  inflating: flowers/tulip/100930342_92e8746431_n.jpg  
  inflating: flowers/tulip/10094729603_eeca3f2cb6.jpg  
  inflating: flowers/tulip/10094731133_94a942463c.jpg  
  inflating: flowers/tulip/10128546863_8de70c610d.jpg  
  inflating: flowers/tulip/10163955604_ae0b830975_n.jpg  
  inflating: flowers/tulip/10164073235_f29931d91e.jpg  
  inflating: flowers/tulip/10686568196_b1915544a8.jpg  
  inflating: flowers/tulip/107693873_86021ac4ea_n.jpg  
  inflating: flowers/tulip/10791227_7168491604.jpg  
  inflating: flowers/tulip/10995953955_089572caf0.jpg  
  inflating: flowers/tulip/110147301_ad921e2828.jpg  
  inflating: flowers/tulip/112334842_3ecf7585dd.jpg  
  inflating: flowers/tulip/112428665_d8f3632f36_n.jpg  
  inflating: flowers/tulip/112428919_f0c5ad7d9d_n.jpg  
  inflating: flowers/tulip/112650879_82adc2cc04_n.jpg  
  inflating: flowers/tulip/112651128_7b5d39a346_m.jpg  
  inflating: flowers/tulip/112951022_4892b1348b_n.jpg  
  inflating: flowers/tulip/112951086_150a59d499_n.jpg  
  inflating: flowers/tulip/113291410_1bdc718ed8_n.jpg  
  inflating: flowers/tulip/113902743_8f537f769b_n.jpg  
  inflating: flowers/tulip/113960470_38fab8f2fb_m.jpg  
  inflating: flowers/tulip/11441893003_ab83672800.jpg  
  inflating: flowers/tulip/11614202956_1dcf1c96a1.jpg  
  inflating: flowers/tulip/116343334_9cb4acdc57_n.jpg  
  inflating: flowers/tulip/11746080_963537acdc.jpg  
  inflating: flowers/tulip/11746276_de3dec8201.jpg  
  inflating: flowers/tulip/11746367_d23a35b085_n.jpg  
  inflating: flowers/tulip/11746452_5bc1749a36.jpg  
  inflating: flowers/tulip/11746548_26b3256922_n.jpg  
  inflating: flowers/tulip/12024561754_ce9667e4dc_n.jpg  
  inflating: flowers/tulip/12025038686_7f10811d4b_n.jpg  
  inflating: flowers/tulip/12025042086_78bafc0eb6_n.jpg  
  inflating: flowers/tulip/12163418275_bd6a1edd61.jpg  
  inflating: flowers/tulip/122450705_9885fff3c4_n.jpg  
  inflating: flowers/tulip/12517756805_56b74be742.jpg  
  inflating: flowers/tulip/12548574923_5e90f4ceea.jpg  
  inflating: flowers/tulip/12557176134_ecbf15885b.jpg  
  inflating: flowers/tulip/12584810723_c97d00fcfd.jpg  
  inflating: flowers/tulip/12616825773_9aa4245b57_n.jpg  
  inflating: flowers/tulip/12764617214_12211c6a0c_m.jpg  
  inflating: flowers/tulip/12873145295_438b8197a7_n.jpg  
  inflating: flowers/tulip/12883412424_cb5086b43f_n.jpg  
  inflating: flowers/tulip/12916017805_1cde91a891_n.jpg  
  inflating: flowers/tulip/12916135413_dafcf3089e_n.jpg  
  inflating: flowers/tulip/12916441224_2ed63596f8_n.jpg  
  inflating: flowers/tulip/12934201824_1c8b5171fb_m.jpg  
  inflating: flowers/tulip/12949131454_4d3392f4dd_n.jpg  
  inflating: flowers/tulip/130685040_3c2fcec63e_n.jpg  
  inflating: flowers/tulip/130685347_afbffe3afa_n.jpg  
  inflating: flowers/tulip/13176521023_4d7cc74856_m.jpg  
  inflating: flowers/tulip/13176576813_50e77cc1d9.jpg  
  inflating: flowers/tulip/13197345653_0f685b3c97_n.jpg  
  inflating: flowers/tulip/132538272_63658146d9_n.jpg  
  inflating: flowers/tulip/132538273_335240fe5b_n.jpg  
  inflating: flowers/tulip/13289268363_b9337d751e.jpg  
  inflating: flowers/tulip/133692329_c1150ed811_n.jpg  
  inflating: flowers/tulip/133858239_3eaa8a91fd_n.jpg  
  inflating: flowers/tulip/133960364_d87f883c15_n.jpg  
  inflating: flowers/tulip/134143359_71fa8dd9a4.jpg  
  inflating: flowers/tulip/13471563274_471fc1db33_m.jpg  
  inflating: flowers/tulip/13472141763_f2517e7f0d.jpg  
  inflating: flowers/tulip/13472387874_d844478dbb.jpg  
  inflating: flowers/tulip/13472393854_b2530f7029_n.jpg  
  inflating: flowers/tulip/13509967925_eaaeefa396_m.jpg  
  inflating: flowers/tulip/13509973805_bda5fa8982.jpg  
  inflating: flowers/tulip/13510057763_01b832d919.jpg  
  inflating: flowers/tulip/13510068773_c925c5517c.jpg  
  inflating: flowers/tulip/13513851673_9d813dc7b0.jpg  
  inflating: flowers/tulip/13514131694_d91da4f4fc.jpg  
  inflating: flowers/tulip/13514136074_ab1b827e4f.jpg  
  inflating: flowers/tulip/13529687904_3d60abb479_n.jpg  
  inflating: flowers/tulip/13530687085_9b515735ef_m.jpg  
  inflating: flowers/tulip/13530690445_9f1f5cf43a_n.jpg  
  inflating: flowers/tulip/13530786873_0d34880300_n.jpg  
  inflating: flowers/tulip/13530796853_e5993f57d6_n.jpg  
  inflating: flowers/tulip/13531001134_72052100e1_m.jpg  
  inflating: flowers/tulip/13531007054_c88deaf302_n.jpg  
  inflating: flowers/tulip/1353748522_b9c630b162.jpg  
  inflating: flowers/tulip/13539384593_23449f7332_n.jpg  
  inflating: flowers/tulip/13539404903_cd113e3e9b.jpg  
  inflating: flowers/tulip/13539827514_79b60b6c22_n.jpg  
  inflating: flowers/tulip/13542672763_20c3cb9272.jpg  
  inflating: flowers/tulip/13555215723_cf2c11626b_b.jpg  
  inflating: flowers/tulip/13561908485_7e4f8d508b.jpg  
  inflating: flowers/tulip/13561912705_e5eeb41433_z.jpg  
  inflating: flowers/tulip/13562266594_69b807f90c.jpg  
  inflating: flowers/tulip/13562271714_d534531374.jpg  
  inflating: flowers/tulip/135994133_4f306fe4bf_n.jpg  
  inflating: flowers/tulip/137126311_debe64c6a8_n.jpg  
  inflating: flowers/tulip/13888320717_d2919a879b_m.jpg  
  inflating: flowers/tulip/13900235284_32ce563633_n.jpg  
  inflating: flowers/tulip/13903937027_44b9f2f5b8.jpg  
  inflating: flowers/tulip/13903946578_187f904c9a_n.jpg  
  inflating: flowers/tulip/13903988248_22da33f341.jpg  
  inflating: flowers/tulip/13910028149_6c9d5485ef.jpg  
  inflating: flowers/tulip/13910126337_53faf1d214_n.jpg  
  inflating: flowers/tulip/13910471347_30c8bf4de1_n.jpg  
  inflating: flowers/tulip/13910479407_936fd3122d.jpg  
  inflating: flowers/tulip/13910544560_9140dd547e.jpg  
  inflating: flowers/tulip/13910604778_e5f4588420.jpg  
  inflating: flowers/tulip/13910678178_25e8b1a5e5.jpg  
  inflating: flowers/tulip/13910719110_1b21d1fc81.jpg  
  inflating: flowers/tulip/13910737760_c71c8b6ff2.jpg  
  inflating: flowers/tulip/13911047024_8966d70560_n.jpg  
  inflating: flowers/tulip/13923036338_1ce32c6d4f.jpg  
  inflating: flowers/tulip/13923539227_bdab038dc8.jpg  
  inflating: flowers/tulip/13926327692_a07357ff0d.jpg  
  inflating: flowers/tulip/13953090784_0c7d7a904e.jpg  
  inflating: flowers/tulip/13954659583_03981dea99_n.jpg  
  inflating: flowers/tulip/13956300996_07e64a3dbd_n.jpg  
  inflating: flowers/tulip/13974542496_e4b5d1c913_n.jpg  
  inflating: flowers/tulip/13976191172_6f23a0b313.jpg  
  inflating: flowers/tulip/13976206001_fd1c2cbd60.jpg  
  inflating: flowers/tulip/13976522214_ccec508fe7.jpg  
  inflating: flowers/tulip/13979098015_e8c98fd34e_n.jpg  
  inflating: flowers/tulip/13979098645_50b9eebc02_n.jpg  
  inflating: flowers/tulip/13979840624_28466cb3ec_n.jpg  
  inflating: flowers/tulip/13997627965_22d81601ce_n.jpg  
  inflating: flowers/tulip/13997641965_80d5dab542_n.jpg  
  inflating: flowers/tulip/13999392173_b1411f8b23_n.jpg  
  inflating: flowers/tulip/13999402743_f563f6b685_n.jpg  
  inflating: flowers/tulip/14009216519_b608321cf2_n.jpg  
  inflating: flowers/tulip/14014595475_5892fcda51_n.jpg  
  inflating: flowers/tulip/14015957646_8317a0f1d9_n.jpg  
  inflating: flowers/tulip/14017640283_c417141832_n.jpg  
  inflating: flowers/tulip/14022473102_3b24ca08cb_m.jpg  
  inflating: flowers/tulip/14024864234_713158c27f_n.jpg  
  inflating: flowers/tulip/14025589299_eac64c51af_m.jpg  
  inflating: flowers/tulip/14026857634_500d7b41d6_m.jpg  
  inflating: flowers/tulip/14027372499_30f934d24f_m.jpg  
  inflating: flowers/tulip/14039129738_cc3ac0a623_n.jpg  
  inflating: flowers/tulip/14039130008_f4b2807607_n.jpg  
  inflating: flowers/tulip/14044685976_0064faed21.jpg  
  inflating: flowers/tulip/14046760909_0c73e84a1f_n.jpg  
  inflating: flowers/tulip/14053292975_fdc1093571_n.jpg  
  inflating: flowers/tulip/14054827092_f359f5fcbd_m.jpg  
  inflating: flowers/tulip/14054827391_139fb54432.jpg  
  inflating: flowers/tulip/14055533888_f8e66b5693_n.jpg  
  inflating: flowers/tulip/14055538059_b826e0ac2b_n.jpg  
  inflating: flowers/tulip/14055574740_bb6a11e983_n.jpg  
  inflating: flowers/tulip/14055601247_2e647ba9b0_n.jpg  
  inflating: flowers/tulip/14057246122_8598b665bd.jpg  
  inflating: flowers/tulip/14061132852_89122de5f9_n.jpg  
  inflating: flowers/tulip/14064731501_ea14b58161.jpg  
  inflating: flowers/tulip/14064735842_a946fba1ef_n.jpg  
  inflating: flowers/tulip/14066056226_d8564a083e_m.jpg  
  inflating: flowers/tulip/14067456066_87e15792d0.jpg  
  inflating: flowers/tulip/14067476586_36bcddf111.jpg  
  inflating: flowers/tulip/14067761295_7cfe6a42e9.jpg  
  inflating: flowers/tulip/14067778605_0285b7cc3a.jpg  
  inflating: flowers/tulip/14068200854_5c13668df9_m.jpg  
  inflating: flowers/tulip/14068295074_cd8b85bffa.jpg  
  inflating: flowers/tulip/14068348874_7b36c99f6a.jpg  
  inflating: flowers/tulip/14068378204_7b26baa30d_n.jpg  
  inflating: flowers/tulip/14069837979_5f2d5fec55_n.jpg  
  inflating: flowers/tulip/14069838099_53d9d1f4af_n.jpg  
  inflating: flowers/tulip/14069838529_152b5f559d_n.jpg  
  inflating: flowers/tulip/14069839199_1e3fb92b92_n.jpg  
  inflating: flowers/tulip/14069841138_e2b403f44f_n.jpg  
  inflating: flowers/tulip/14069841698_a5dff9cfd2_n.jpg  
  inflating: flowers/tulip/14069841878_f3ac9d788d_n.jpg  
  inflating: flowers/tulip/14069841968_fdc9c1d3a4_n.jpg  
  inflating: flowers/tulip/14069842098_7a7bd956bf_n.jpg  
  inflating: flowers/tulip/14069874050_62d15f80a5_n.jpg  
  inflating: flowers/tulip/14069874230_b7c742112a_n.jpg  
  inflating: flowers/tulip/14069913627_6e87392642_n.jpg  
  inflating: flowers/tulip/14069914457_6805909b1c_n.jpg  
  inflating: flowers/tulip/14069914547_1fa90bec99_n.jpg  
  inflating: flowers/tulip/14069914647_0296f003c0_n.jpg  
  inflating: flowers/tulip/14069914777_b10856aaf7_n.jpg  
  inflating: flowers/tulip/14071516088_b526946e17_n.jpg  
  inflating: flowers/tulip/14073608876_49db8ac97d_n.jpg  
  inflating: flowers/tulip/14074147406_7ab87aec79_n.jpg  
  inflating: flowers/tulip/14078067843_3573fcfc85_n.jpg  
  inflating: flowers/tulip/14078067903_92f5eb27ff.jpg  
  inflating: flowers/tulip/14084211971_0f921f11fe_n.jpg  
  inflating: flowers/tulip/14084749296_6143c74c72_m.jpg  
  inflating: flowers/tulip/14087326141_1906d5a373_n.jpg  
  inflating: flowers/tulip/14087361621_9fefb8dbef.jpg  
  inflating: flowers/tulip/14087425312_2b5846b570_n.jpg  
  inflating: flowers/tulip/14087439392_969444f56e.jpg  
  inflating: flowers/tulip/14087792403_f34f37ba3b_m.jpg  
  inflating: flowers/tulip/14087860553_bf4f8ec56d.jpg  
  inflating: flowers/tulip/14087892193_653a3ac7ca_n.jpg  
  inflating: flowers/tulip/14088017343_dd158d2eb5.jpg  
  inflating: flowers/tulip/14090534565_5857ce4b7c_n.jpg  
  inflating: flowers/tulip/14090546015_504c8becd1.jpg  
  inflating: flowers/tulip/14093565032_a8f1e349d1.jpg  
  inflating: flowers/tulip/14093884601_c87b5cd663_n.jpg  
  inflating: flowers/tulip/14093907931_dd8f642574.jpg  
  inflating: flowers/tulip/14094114202_4c1d7f1116.jpg  
  inflating: flowers/tulip/14094146241_0b9fa7b3e0.jpg  
  inflating: flowers/tulip/14097111174_87a2e7e0c7_n.jpg  
  inflating: flowers/tulip/14097328354_4f1469a170.jpg  
  inflating: flowers/tulip/14097366955_84ef6369f2.jpg  
  inflating: flowers/tulip/14097676864_4ca8e8b20d_n.jpg  
  inflating: flowers/tulip/14097745904_436c4ba1b4_n.jpg  
  inflating: flowers/tulip/14099204939_60e6ffa4c3_n.jpg  
  inflating: flowers/tulip/14103897845_7986002615.jpg  
  inflating: flowers/tulip/14110615113_bd7b3fcb84.jpg  
  inflating: flowers/tulip/14110616533_e04775e7b1.jpg  
  inflating: flowers/tulip/14116780333_7836f4448c.jpg  
  inflating: flowers/tulip/14116826873_d4bab623bf_n.jpg  
  inflating: flowers/tulip/14122029097_3e3285ca5c_n.jpg  
  inflating: flowers/tulip/14124669683_7fb74f20c3.jpg  
  inflating: flowers/tulip/14127532150_112823a8f6.jpg  
  inflating: flowers/tulip/14149603605_eedfe9678c_n.jpg  
  inflating: flowers/tulip/14171673854_1208c19be3_m.jpg  
  inflating: flowers/tulip/142218310_d06005030a_n.jpg  
  inflating: flowers/tulip/142235017_07816937c6.jpg  
  inflating: flowers/tulip/142235237_da662d925c.jpg  
  inflating: flowers/tulip/142235914_5419ff8a4a.jpg  
  inflating: flowers/tulip/14233348496_134e274d0b_n.jpg  
  inflating: flowers/tulip/14233348826_89949b4784_n.jpg  
  inflating: flowers/tulip/14235021006_dd001ea8ed_n.jpg  
  inflating: flowers/tulip/14238880561_7181ccb9fb_n.jpg  
  inflating: flowers/tulip/14238880681_2b86165b41_n.jpg  
  inflating: flowers/tulip/14238880951_2f62f042be_n.jpg  
  inflating: flowers/tulip/14239946452_b0c8f018fe_n.jpg  
  inflating: flowers/tulip/14241883744_ff69de8b7f_n.jpg  
  inflating: flowers/tulip/14253178581_4dfcedb4d3_n.jpg  
  inflating: flowers/tulip/14253178841_8a637b64f0_n.jpg  
  inflating: flowers/tulip/14254329062_140c0f4f4f_n.jpg  
  inflating: flowers/tulip/14254329512_8b4229b898_n.jpg  
  inflating: flowers/tulip/14254839301_ffb19c6445_n.jpg  
  inflating: flowers/tulip/14255917256_84c23c572b.jpg  
  inflating: flowers/tulip/14256111494_f9985585f5_n.jpg  
  inflating: flowers/tulip/14256112284_5f9d6d1aae_n.jpg  
  inflating: flowers/tulip/14256494455_0718057a48_n.jpg  
  inflating: flowers/tulip/14256494695_741a989ebb_n.jpg  
  inflating: flowers/tulip/14256494935_0ee69cfa03_n.jpg  
  inflating: flowers/tulip/14262354955_cc2ab3b112_m.jpg  
  inflating: flowers/tulip/14266093711_66d18a1e44_n.jpg  
  inflating: flowers/tulip/14270573963_f122c40438.jpg  
  inflating: flowers/tulip/14275234071_6e6f473356.jpg  
  inflating: flowers/tulip/14276668513_f205b5270d_n.jpg  
  inflating: flowers/tulip/14278331403_4c475f9a9b.jpg  
  inflating: flowers/tulip/14487705209_ea723109e1_m.jpg  
  inflating: flowers/tulip/14487712670_aebe715525_m.jpg  
  inflating: flowers/tulip/14487762578_baba13d16a_m.jpg  
  inflating: flowers/tulip/14487943607_651e8062a1_m.jpg  
  inflating: flowers/tulip/14491997336_36ba524713.jpg  
  inflating: flowers/tulip/14651383746_419dc73634_m.jpg  
  inflating: flowers/tulip/14651385476_7ccb20e594_m.jpg  
  inflating: flowers/tulip/14671196461_b725727229_m.jpg  
  inflating: flowers/tulip/14674067742_73c2602aa6_m.jpg  
  inflating: flowers/tulip/14674071872_2df55466d5_m.jpg  
  inflating: flowers/tulip/14674388855_2da18e375a_m.jpg  
  inflating: flowers/tulip/14674389605_df3c0bcfa1_m.jpg  
  inflating: flowers/tulip/146884869_b1a8fa9c4e_n.jpg  
  inflating: flowers/tulip/14746916178_40403cc57e.jpg  
  inflating: flowers/tulip/14836105101_1d07520932_m.jpg  
  inflating: flowers/tulip/14861513337_4ef0bfa40d.jpg  
  inflating: flowers/tulip/14866400927_3a59899df3_m.jpg  
  inflating: flowers/tulip/14957470_6a8c272a87_m.jpg  
  inflating: flowers/tulip/15029962436_3e50c1f30f_n.jpg  
  inflating: flowers/tulip/15049902081_dd85361f8c_m.jpg  
  inflating: flowers/tulip/15052586652_56a82de133_m.jpg  
  inflating: flowers/tulip/15082212714_ff87e8fcb1_m.jpg  
  inflating: flowers/tulip/15090146325_b7e1249e60.jpg  
  inflating: flowers/tulip/15096307668_589504b03f_n.jpg  
  inflating: flowers/tulip/15147464747_594599c855_m.jpg  
  inflating: flowers/tulip/15147473067_7c5498eb0e_m.jpg  
  inflating: flowers/tulip/15149373026_93aacc65c5.jpg  
  inflating: flowers/tulip/15275144259_f9a18ec9cb.jpg  
  inflating: flowers/tulip/15275190769_0ed7bbf490.jpg  
  inflating: flowers/tulip/15275199229_962387f24d.jpg  
  inflating: flowers/tulip/15275478257_fbd5850708_n.jpg  
  inflating: flowers/tulip/15275504998_ca9eb82998.jpg  
  inflating: flowers/tulip/15452909878_0c4941f729_m.jpg  
  inflating: flowers/tulip/15458787091_3edc6cd1eb.jpg  
  inflating: flowers/tulip/155097272_70feb13184.jpg  
  inflating: flowers/tulip/15516715153_08abc9bb20_n.jpg  
  inflating: flowers/tulip/15516736553_b169b67195_n.jpg  
  inflating: flowers/tulip/15632065904_0d9caf174b.jpg  
  inflating: flowers/tulip/15647243236_2778501cf5_n.jpg  
  inflating: flowers/tulip/15756524087_823cf86bd8_m.jpg  
  inflating: flowers/tulip/15881325303_f00807a051_n.jpg  
  inflating: flowers/tulip/15922772266_1167a06620.jpg  
  inflating: flowers/tulip/15976769174_1d50f46ca1_m.jpg  
  inflating: flowers/tulip/16055807744_000bc07afc_m.jpg  
  inflating: flowers/tulip/16062072523_1be3c0b61f.jpg  
  inflating: flowers/tulip/16074109313_2cc14c7d16.jpg  
  inflating: flowers/tulip/16098264209_38fe491093.jpg  
  inflating: flowers/tulip/16110795216_b3e44697b4_m.jpg  
  inflating: flowers/tulip/16133651784_c244d86f82_n.jpg  
  inflating: flowers/tulip/16133917184_b5755756bd_n.jpg  
  inflating: flowers/tulip/16133946004_2e935d9433_n.jpg  
  inflating: flowers/tulip/16138212287_643bf336e1_m.jpg  
  inflating: flowers/tulip/16139439153_fbdee29a10_n.jpg  
  inflating: flowers/tulip/16169741783_deeab1a679_m.jpg  
  inflating: flowers/tulip/16265876844_0a149c4f76.jpg  
  inflating: flowers/tulip/16265883604_92be82b973.jpg  
  inflating: flowers/tulip/16282277874_b92776b194.jpg  
  inflating: flowers/tulip/16283125269_4cfae953f1.jpg  
  inflating: flowers/tulip/16303377824_6e9128b4bd.jpg  
  inflating: flowers/tulip/16309287412_5cc4d58bd1_n.jpg  
  inflating: flowers/tulip/16392425347_2f5232a26d_n.jpg  
  inflating: flowers/tulip/164578909_51f245d3fa_n.jpg  
  inflating: flowers/tulip/16471277547_a0a5509377_n.jpg  
  inflating: flowers/tulip/16485607329_e66d5960bc_m.jpg  
  inflating: flowers/tulip/16506668270_b823935dc3.jpg  
  inflating: flowers/tulip/16548713317_a97b9e543a_n.jpg  
  inflating: flowers/tulip/16568321388_fd07bac92a_n.jpg  
  inflating: flowers/tulip/16568439688_4f166e8d90_n.jpg  
  inflating: flowers/tulip/16568481088_dfcfccefea_n.jpg  
  inflating: flowers/tulip/16568530400_f7e4ffc633_n.jpg  
  inflating: flowers/tulip/16568537758_67eb281aab_n.jpg  
  inflating: flowers/tulip/16568550940_d64ee7898f_n.jpg  
  inflating: flowers/tulip/16568820360_a938311dd3_n.jpg  
  inflating: flowers/tulip/16569932139_4367c92f82_n.jpg  
  inflating: flowers/tulip/16570062929_6c41c66387_n.jpg  
  inflating: flowers/tulip/16582481123_06e8e6b966_n.jpg  
  inflating: flowers/tulip/16594995743_ce72c61201_n.jpg  
  inflating: flowers/tulip/16644790896_7b296ecd67_n.jpg  
  inflating: flowers/tulip/16645809126_613b1e3ebe_m.jpg  
  inflating: flowers/tulip/16670377091_87987f50a4_n.jpg  
  inflating: flowers/tulip/16677199221_eab3f22378_n.jpg  
  inflating: flowers/tulip/16677542612_a78a8ca8b3_m.jpg  
  inflating: flowers/tulip/16680927427_07ca6e4552_n.jpg  
  inflating: flowers/tulip/16680930777_7e7f292fc5_n.jpg  
  inflating: flowers/tulip/16680998737_6f6225fe36.jpg  
  inflating: flowers/tulip/16700863150_ddaa4d89b4_n.jpg  
  inflating: flowers/tulip/16702117379_c25bff70e9.jpg  
  inflating: flowers/tulip/16702188449_3dacce90b2_m.jpg  
  inflating: flowers/tulip/16711791713_e54bc9c1af_n.jpg  
  inflating: flowers/tulip/16717320956_d4b00807f2.jpg  
  inflating: flowers/tulip/16732302779_8aa56f255d_n.jpg  
  inflating: flowers/tulip/16751015081_af2ef77c9a_n.jpg  
  inflating: flowers/tulip/16754984282_3a801bfa50_n.jpg  
  inflating: flowers/tulip/16755061382_f6531150c1_n.jpg  
  inflating: flowers/tulip/16755090222_d6797d51db_n.jpg  
  inflating: flowers/tulip/16756198195_13b54e70b3_n.jpg  
  inflating: flowers/tulip/16756239775_75e84a3d50_n.jpg  
  inflating: flowers/tulip/16765283686_0315ae00a8.jpg  
  inflating: flowers/tulip/16862349256_0a1f91ab53.jpg  
  inflating: flowers/tulip/16862351376_f0fcc6fc91_n.jpg  
  inflating: flowers/tulip/16862374316_4135908d4c_m.jpg  
  inflating: flowers/tulip/16862422576_5226e8d1d0.jpg  
  inflating: flowers/tulip/16904202259_8f45d045c3_m.jpg  
  inflating: flowers/tulip/16907559551_05ded87fb2_n.jpg  
  inflating: flowers/tulip/16930105456_8b826dc4a8_n.jpg  
  inflating: flowers/tulip/16930121391_a4092ecf00_n.jpg  
  inflating: flowers/tulip/16937554595_3e1de22f9c.jpg  
  inflating: flowers/tulip/16938892686_3613ea68e8_n.jpg  
  inflating: flowers/tulip/16951623209_00fb7ec1b1_n.jpg  
  inflating: flowers/tulip/16986144192_55e0e6c152.jpg  
  inflating: flowers/tulip/17012955700_7141d29eee.jpg  
  inflating: flowers/tulip/17066862602_7530f21efe.jpg  
  inflating: flowers/tulip/17066864992_1cbc4fc908.jpg  
  inflating: flowers/tulip/17078576150_6f272ce73f_n.jpg  
  inflating: flowers/tulip/17078716890_68e0723389_n.jpg  
  inflating: flowers/tulip/17094167287_865840060d_n.jpg  
  inflating: flowers/tulip/17104364030_ee31ee279b_n.jpg  
  inflating: flowers/tulip/17105644339_e301a8a6be_n.jpg  
  inflating: flowers/tulip/17113203493_735185295f_n.jpg  
  inflating: flowers/tulip/17146928665_600fa3a1f1_n.jpg  
  inflating: flowers/tulip/17159349572_c0c51599f7_n.jpg  
  inflating: flowers/tulip/17159816388_deafbebdb0.jpg  
  inflating: flowers/tulip/17165583356_38cb1f231d_n.jpg  
  inflating: flowers/tulip/17167151059_a53bfe0b02.jpg  
  inflating: flowers/tulip/17189456156_6fc1067831.jpg  
  inflating: flowers/tulip/17189526216_fa24dd541a_n.jpg  
  inflating: flowers/tulip/17198868382_697b23c715_n.jpg  
  inflating: flowers/tulip/17202535346_ab828e779b.jpg  
  inflating: flowers/tulip/17224410762_402455ed8f.jpg  
  inflating: flowers/tulip/17282288501_e8738c9cfb_n.jpg  
  inflating: flowers/tulip/17291451621_0e39f08b9e_n.jpg  
  inflating: flowers/tulip/17291908295_dc7d45ae9b_n.jpg  
  inflating: flowers/tulip/17291930305_79deae6a90_n.jpg  
  inflating: flowers/tulip/17295127995_62eff434fe_n.jpg  
  inflating: flowers/tulip/17309017866_b6b290b970_n.jpg  
  inflating: flowers/tulip/17318339476_54479b6660_n.jpg  
  inflating: flowers/tulip/17324469461_2b318aff8d_m.jpg  
  inflating: flowers/tulip/17408197905_829c4d7940_m.jpg  
  inflating: flowers/tulip/17469578564_35a8360f58.jpg  
  inflating: flowers/tulip/17545306218_5bf0ee38cd_n.jpg  
  inflating: flowers/tulip/175686816_067a8cb4c5.jpg  
  inflating: flowers/tulip/176458518_f81d4bff8e.jpg  
  inflating: flowers/tulip/17706953166_cc21734d26_n.jpg  
  inflating: flowers/tulip/17719248689_cfd5d2f228_n.jpg  
  inflating: flowers/tulip/17720403638_94cfcd8d5c_n.jpg  
  inflating: flowers/tulip/17730239562_9aa0fc0738_n.jpg  
  inflating: flowers/tulip/17733480801_bffa0a30c0_n.jpg  
  inflating: flowers/tulip/17734051745_9382a7bcba_n.jpg  
  inflating: flowers/tulip/17781940352_a45e4289a5.jpg  
  inflating: flowers/tulip/17844723633_da85357fe3.jpg  
  inflating: flowers/tulip/17862445825_f7031d6f26.jpg  
  inflating: flowers/tulip/17907238905_1ae121f8d9_m.jpg  
  inflating: flowers/tulip/17908793211_ff0f1f81d3_n.jpg  
  inflating: flowers/tulip/17969516345_d0081a5f18_n.jpg  
  inflating: flowers/tulip/17970201501_6ee7401206_n.jpg  
  inflating: flowers/tulip/17994129033_bbd0acba62_n.jpg  
  inflating: flowers/tulip/18245124970_e68fd3f3c3.jpg  
  inflating: flowers/tulip/18270448366_d5676dec64_z.jpg  
  inflating: flowers/tulip/18378581986_5cd1494d08_n.jpg  
  inflating: flowers/tulip/18378582936_ee7085c850.jpg  
  inflating: flowers/tulip/18406629611_4d1edcf23b_n.jpg  
  inflating: flowers/tulip/19268907364_d94a846fc8_n.jpg  
  inflating: flowers/tulip/19315333834_cfed7ae637_n.jpg  
  inflating: flowers/tulip/19317019453_8b24740faf_n.jpg  
  inflating: flowers/tulip/19324610724_1facd379ed_n.jpg  
  inflating: flowers/tulip/19413898445_69344f9956_n.jpg  
  inflating: flowers/tulip/19425920580_cdc8f49aed_n.jpg  
  inflating: flowers/tulip/19660257424_e9080d2ddc_n.jpg  
  inflating: flowers/tulip/19689668684_15089ae2fa_n.jpg  
  inflating: flowers/tulip/19689681344_b05ac361f2_n.jpg  
  inflating: flowers/tulip/19693711100_b98c861433_n.jpg  
  inflating: flowers/tulip/19693717158_af4afcffd2_n.jpg  
  inflating: flowers/tulip/19695087459_dfb18ea181_n.jpg  
  inflating: flowers/tulip/19722589898_233a0235af_n.jpg  
  inflating: flowers/tulip/19732081840_f573a3827d_n.jpg  
  inflating: flowers/tulip/19759207480_679167eacd_n.jpg  
  inflating: flowers/tulip/19860199064_35c14fa8c7_n.jpg  
  inflating: flowers/tulip/19868509504_b2fc173274_n.jpg  
  inflating: flowers/tulip/19884050362_347e5342f2_n.jpg  
  inflating: flowers/tulip/19892310888_9bbdec4ea7_n.jpg  
  inflating: flowers/tulip/19892369060_d1298a9816_n.jpg  
  inflating: flowers/tulip/19903091702_3522e9ef3c_n.jpg  
  inflating: flowers/tulip/19912513252_93d8df17cf_n.jpg  
  inflating: flowers/tulip/19914611213_150f7125a9_n.jpg  
  inflating: flowers/tulip/19915714271_3d8d6a23a5_n.jpg  
  inflating: flowers/tulip/19922971178_a71078f2ed_n.jpg  
  inflating: flowers/tulip/19938037625_f26c4dae34_n.jpg  
  inflating: flowers/tulip/19950169968_a29db804b5_n.jpg  
  inflating: flowers/tulip/20093632966_0d53e13036_n.jpg  
  inflating: flowers/tulip/20093649146_5a93a8f173_n.jpg  
  inflating: flowers/tulip/20096276219_7d16867bcc_n.jpg  
  inflating: flowers/tulip/20111973586_2987a89bed_n.jpg  
  inflating: flowers/tulip/20116517681_2f10db9e82_n.jpg  
  inflating: flowers/tulip/20133942640_0f4442b858_n.jpg  
  inflating: flowers/tulip/20138534672_af5fd5eb32_n.jpg  
  inflating: flowers/tulip/20152653918_009a39f323_n.jpg  
  inflating: flowers/tulip/20246050943_3620c7373f_n.jpg  
  inflating: flowers/tulip/20265958876_edb70c4553_n.jpg  
  inflating: flowers/tulip/20282921225_6033da8cd5_n.jpg  
  inflating: flowers/tulip/20283873362_fece39a33e_n.jpg  
  inflating: flowers/tulip/20295820576_8ed2250b5c_n.jpg  
  inflating: flowers/tulip/20298145571_89ea244c38_n.jpg  
  inflating: flowers/tulip/20304518589_8bac64c536_n.jpg  
  inflating: flowers/tulip/20340657765_ddb2d2154e_n.jpg  
  inflating: flowers/tulip/20340696625_4095592e55_n.jpg  
  inflating: flowers/tulip/20435554843_ba6862f923_n.jpg  
  inflating: flowers/tulip/20488590303_24fa3c9015_n.jpg  
  inflating: flowers/tulip/20489160931_3c445b6b02_n.jpg  
  inflating: flowers/tulip/20495079414_44c6783519_n.jpg  
  inflating: flowers/tulip/20518113476_a43a105f27_n.jpg  
  inflating: flowers/tulip/20526614232_78ac8344bd_n.jpg  
  inflating: flowers/tulip/20535484712_8fc5c2a4e8_n.jpg  
  inflating: flowers/tulip/20692409652_25da3e5839_n.jpg  
  inflating: flowers/tulip/20692436712_75b2deaedf_n.jpg  
  inflating: flowers/tulip/20701823522_43e3f4ba09_n.jpg  
  inflating: flowers/tulip/20706374298_ed1d8cf4bf_n.jpg  
  inflating: flowers/tulip/20708492111_35757c490f_n.jpg  
  inflating: flowers/tulip/20711107885_98d96a705b_n.jpg  
  inflating: flowers/tulip/20733335929_0100f38c4a_n.jpg  
  inflating: flowers/tulip/20742669999_53de71a4c9_n.jpg  
  inflating: flowers/tulip/20868629268_5ded9803b5_n.jpg  
  inflating: flowers/tulip/20876954720_62920b4ce8_n.jpg  
  inflating: flowers/tulip/20877119138_c0fde9d53f_n.jpg  
  inflating: flowers/tulip/2087981909_fd468de5c4_n.jpg  
  inflating: flowers/tulip/20883735451_7aa9c50111_n.jpg  
  inflating: flowers/tulip/20896271018_9f1dc41c93_n.jpg  
  inflating: flowers/tulip/20910465721_fd8dcc8fcc_n.jpg  
  inflating: flowers/tulip/20921546830_1d79fd07f7_n.jpg  
  inflating: flowers/tulip/20929606590_f92d4e59b7_n.jpg  
  inflating: flowers/tulip/21046610012_8942d32007_n.jpg  
  inflating: flowers/tulip/21055041762_5d0a066948_n.jpg  
  inflating: flowers/tulip/21065300966_6be98a8cd0_n.jpg  
  inflating: flowers/tulip/21083449726_2895661dfb_n.jpg  
  inflating: flowers/tulip/21084139365_f44cd2a685_n.jpg  
  inflating: flowers/tulip/21084189635_425ca69aa0_n.jpg  
  inflating: flowers/tulip/21091481475_884cd885c8_n.jpg  
  inflating: flowers/tulip/21091489585_0dcb89e65e_n.jpg  
  inflating: flowers/tulip/21091503556_8b46da140e_n.jpg  
  inflating: flowers/tulip/212720516_df4965ebda_n.jpg  
  inflating: flowers/tulip/2220085701_896054d263_n.jpg  
  inflating: flowers/tulip/2229804138_db9cba3443_n.jpg  
  inflating: flowers/tulip/2232289392_9a79a0c5cb_n.jpg  
  inflating: flowers/tulip/2243427551_809b603992_z.jpg  
  inflating: flowers/tulip/2249756775_02e693beda_n.jpg  
  inflating: flowers/tulip/2254152047_d3bf8903cd_n.jpg  
  inflating: flowers/tulip/2256214682_130c01d9d9.jpg  
  inflating: flowers/tulip/2256230386_08b54ca760.jpg  
  inflating: flowers/tulip/2271507463_15c48d41c4_n.jpg  
  inflating: flowers/tulip/2272006181_785f1be94f_n.jpg  
  inflating: flowers/tulip/2280950463_86510c2789_n.jpg  
  inflating: flowers/tulip/2294116183_a30d2aa2c1_m.jpg  
  inflating: flowers/tulip/2322670828_34115a7050.jpg  
  inflating: flowers/tulip/2333321040_3960b9d67e_n.jpg  
  inflating: flowers/tulip/2336919121_851ebc4754.jpg  
  inflating: flowers/tulip/2344751399_71620039f2_n.jpg  
  inflating: flowers/tulip/2351637471_5dd34fd3ac_n.jpg  
  inflating: flowers/tulip/2361075034_cf730b8682.jpg  
  inflating: flowers/tulip/2374855021_21959b40c0_n.jpg  
  inflating: flowers/tulip/2399982682_16929d1f6d_n.jpg  
  inflating: flowers/tulip/2402342888_dd65677013.jpg  
  inflating: flowers/tulip/2412250315_a04171da51_n.jpg  
  inflating: flowers/tulip/2418823693_72eec80f42_n.jpg  
  inflating: flowers/tulip/2421740440_f82ced8582.jpg  
  inflating: flowers/tulip/2425067141_b27043a800_m.jpg  
  inflating: flowers/tulip/2426847695_4b8409402e_n.jpg  
  inflating: flowers/tulip/2426849837_baefd9a518_n.jpg  
  inflating: flowers/tulip/2427626706_ffdf697f84_n.jpg  
  inflating: flowers/tulip/2430566689_8543552f9b.jpg  
  inflating: flowers/tulip/2431737309_1468526f8b.jpg  
  inflating: flowers/tulip/2432389721_4d14971060_n.jpg  
  inflating: flowers/tulip/2434178332_7fcf85aa95_n.jpg  
  inflating: flowers/tulip/2436998042_4906ea07af.jpg  
  inflating: flowers/tulip/2440874162_27a7030402_n.jpg  
  inflating: flowers/tulip/2447151631_7551e6377b_n.jpg  
  inflating: flowers/tulip/2489638840_72ff3ee527_n.jpg  
  inflating: flowers/tulip/2503489175_f0848d3e8e.jpg  
  inflating: flowers/tulip/251811158_75fa3034ff.jpg  
  inflating: flowers/tulip/2535936698_78cc03df3f_n.jpg  
  inflating: flowers/tulip/25429468133_6bfba75d94_n.jpg  
  inflating: flowers/tulip/25429501953_a1f9ce09e6_n.jpg  
  inflating: flowers/tulip/25759191500_1c0da35828_n.jpg  
  inflating: flowers/tulip/25965526231_941b6a216d_n.jpg  
  inflating: flowers/tulip/25965548411_dbbe26262b_n.jpg  
  inflating: flowers/tulip/26564770956_ac4800ae85_n.jpg  
  inflating: flowers/tulip/26685647236_8211cb3e95_n.jpg  
  inflating: flowers/tulip/26685648806_c76dd583b9_n.jpg  
  inflating: flowers/tulip/2785458179_9130812eef_m.jpg  
  inflating: flowers/tulip/2813649953_2b0f20fe94_n.jpg  
  inflating: flowers/tulip/2834890466_1cf220fba1.jpg  
  inflating: flowers/tulip/2936181186_38ff43492e.jpg  
  inflating: flowers/tulip/3002863623_cd83d6e634.jpg  
  inflating: flowers/tulip/3011223301_09b4e3edb7.jpg  
  inflating: flowers/tulip/303858799_942b9c09e7_m.jpg  
  inflating: flowers/tulip/3143110904_66b4851a58_n.jpg  
  inflating: flowers/tulip/3150964108_24dbec4b23_m.jpg  
  inflating: flowers/tulip/3186520634_30e1c67aa5_n.jpg  
  inflating: flowers/tulip/3210019014_1bbd8bff20_n.jpg  
  inflating: flowers/tulip/3213012716_b4c0f7db88.jpg  
  inflating: flowers/tulip/3238068295_b2a7b17f48_n.jpg  
  inflating: flowers/tulip/32465197894_71dde519ae_n.jpg  
  inflating: flowers/tulip/3253320570_b617f7fd4b.jpg  
  inflating: flowers/tulip/3254533919_cb0b8af26c.jpg  
  inflating: flowers/tulip/3282751630_45c2665034_m.jpg  
  inflating: flowers/tulip/3396033831_bb88d93630.jpg  
  inflating: flowers/tulip/3404038663_f62cf8eba3_n.jpg  
  inflating: flowers/tulip/3421027755_cdb8fef8e8_n.jpg  
  inflating: flowers/tulip/3422915985_9bf7264d36.jpg  
  inflating: flowers/tulip/3430229687_32645b5738.jpg  
  inflating: flowers/tulip/3433265727_0b8022e091.jpg  
  inflating: flowers/tulip/3446285408_4be9c0fded_m.jpg  
  inflating: flowers/tulip/3449794006_8c289840aa.jpg  
  inflating: flowers/tulip/3454461550_64d6e726bf_m.jpg  
  inflating: flowers/tulip/3455026124_d66cafb9fc.jpg  
  inflating: flowers/tulip/3457017604_90e4de7480_m.jpg  
  inflating: flowers/tulip/3459922572_bc8516b5fe_m.jpg  
  inflating: flowers/tulip/3474066174_8d3b3e8f97_n.jpg  
  inflating: flowers/tulip/3476945045_97ff41e8ec_n.jpg  
  inflating: flowers/tulip/3485767306_6db7bdf536.jpg  
  inflating: flowers/tulip/3498663243_42b39b4185_m.jpg  
  inflating: flowers/tulip/3501996215_1c6d1a3386_n.jpg  
  inflating: flowers/tulip/3502085373_edc2c36992_n.jpg  
  inflating: flowers/tulip/3502251824_3be758edc6_m.jpg  
  inflating: flowers/tulip/3502615974_ef4bd13202_n.jpg  
  inflating: flowers/tulip/3502632842_791dd4be18_n.jpg  
  inflating: flowers/tulip/3502685880_f026400dce_n.jpg  
  inflating: flowers/tulip/3502974120_9f1eceaf8b_n.jpg  
  inflating: flowers/tulip/3506615859_9850830cf0.jpg  
  inflating: flowers/tulip/3510294699_bc4c72cb7d_n.jpg  
  inflating: flowers/tulip/3510799169_0ed6ae9669_n.jpg  
  inflating: flowers/tulip/3511104954_54eace015c_n.jpg  
  inflating: flowers/tulip/3511776685_3635087b12_n.jpg  
  inflating: flowers/tulip/3516269489_cef36e87a6.jpg  
  inflating: flowers/tulip/3516271083_fba63b5861.jpg  
  inflating: flowers/tulip/3523398585_376960a611_m.jpg  
  inflating: flowers/tulip/3524204544_7233737b4f_m.jpg  
  inflating: flowers/tulip/3529889389_ab4cb6c43b.jpg  
  inflating: flowers/tulip/3540595981_73f14d1227_n.jpg  
  inflating: flowers/tulip/3558517884_0c7ca8b862_m.jpg  
  inflating: flowers/tulip/3600510954_a51bfc5440_n.jpg  
  inflating: flowers/tulip/3601085193_de1195d3d7_n.jpg  
  inflating: flowers/tulip/3614805920_7a6610aa4b_n.jpg  
  inflating: flowers/tulip/3626132563_d955973447_n.jpg  
  inflating: flowers/tulip/3637371174_a8dfcc1b35.jpg  
  inflating: flowers/tulip/38287568_627de6ca20.jpg  
  inflating: flowers/tulip/3909355648_42cb3a5e09_n.jpg  
  inflating: flowers/tulip/391477275_7c2f50a1a7_m.jpg  
  inflating: flowers/tulip/3990746027_338ee436d2_n.jpg  
  inflating: flowers/tulip/3990989735_59e2751151_n.jpg  
  inflating: flowers/tulip/3991423020_9aaf2b5974_n.jpg  
  inflating: flowers/tulip/3991742794_edebc6c8a0_n.jpg  
  inflating: flowers/tulip/402525114_eaa60c8341_m.jpg  
  inflating: flowers/tulip/4042180234_64cd2859c9_m.jpg  
  inflating: flowers/tulip/405035580_94b793e71d.jpg  
  inflating: flowers/tulip/4117620896_070e5887ae_m.jpg  
  inflating: flowers/tulip/420216121_3ee33723d7_m.jpg  
  inflating: flowers/tulip/4209052442_7e754f617c_n.jpg  
  inflating: flowers/tulip/4263272885_1a49ea5209.jpg  
  inflating: flowers/tulip/4290566894_c7f061583d_m.jpg  
  inflating: flowers/tulip/4300258119_b03f2f956e.jpg  
  inflating: flowers/tulip/430785322_7ddef64c68_m.jpg  
  inflating: flowers/tulip/4312181724_16dab26afb_n.jpg  
  inflating: flowers/tulip/434146736_310a42d9cb_m.jpg  
  inflating: flowers/tulip/4353419275_79d3904074_n.jpg  
  inflating: flowers/tulip/4395433872_e073d8c721_n.jpg  
  inflating: flowers/tulip/440714501_9f8268e1b0.jpg  
  inflating: flowers/tulip/4418204816_018375acd0_m.jpg  
  inflating: flowers/tulip/443600168_cb08d56511.jpg  
  inflating: flowers/tulip/444963906_e41492b692.jpg  
  inflating: flowers/tulip/4497973347_57480ffee9_m.jpg  
  inflating: flowers/tulip/4497976955_3f8c2a21c1_m.jpg  
  inflating: flowers/tulip/450607536_4fd9f5d17c_m.jpg  
  inflating: flowers/tulip/4508346090_a27b988f79_n.jpg  
  inflating: flowers/tulip/4516198427_0e5099cd8e.jpg  
  inflating: flowers/tulip/4520577328_a94c11e806_n.jpg  
  inflating: flowers/tulip/4520582070_d14a14f038.jpg  
  inflating: flowers/tulip/4521037085_70d5802e1d_m.jpg  
  inflating: flowers/tulip/4521496161_2b41d4182e.jpg  
  inflating: flowers/tulip/4522130258_9ee44cf73f_m.jpg  
  inflating: flowers/tulip/4522764992_e9d70b82c1_m.jpg  
  inflating: flowers/tulip/4546299243_23cd58eb43.jpg  
  inflating: flowers/tulip/4546316433_202cc68c55.jpg  
  inflating: flowers/tulip/4550091966_7f3e0f8802_n.jpg  
  inflating: flowers/tulip/4550117239_5907aaba4c.jpg  
  inflating: flowers/tulip/4550278535_dfdf7b74ef.jpg  
  inflating: flowers/tulip/4550805310_5f81c9ba08_n.jpg  
  inflating: flowers/tulip/4553203984_9cb9312240_n.jpg  
  inflating: flowers/tulip/4555842486_dd214a84d7_n.jpg  
  inflating: flowers/tulip/4561670472_0451888e32_n.jpg  
  inflating: flowers/tulip/4562423077_00b16240dc_n.jpg  
  inflating: flowers/tulip/4565139594_b28d260cb9.jpg  
  inflating: flowers/tulip/4571353297_5634177744_n.jpg  
  inflating: flowers/tulip/4571993204_5b3efe0e78.jpg  
  inflating: flowers/tulip/4572955407_87f4805c7b.jpg  
  inflating: flowers/tulip/4573822295_5c5c6a5f6a.jpg  
  inflating: flowers/tulip/4574785121_5d8ec4626e.jpg  
  inflating: flowers/tulip/4575963749_2418ff8768.jpg  
  inflating: flowers/tulip/4579079143_f65b39dd9f.jpg  
  inflating: flowers/tulip/4579128789_1561575458_n.jpg  
  inflating: flowers/tulip/4580206494_9386c81ed8_n.jpg  
  inflating: flowers/tulip/4582198748_20fa7caaa1.jpg  
  inflating: flowers/tulip/4587872443_a86c692cb8.jpg  
  inflating: flowers/tulip/4588904196_3c5825c7f4.jpg  
  inflating: flowers/tulip/4589624702_b6baa83699_m.jpg  
  inflating: flowers/tulip/4590702749_e1df8e0c1b.jpg  
  inflating: flowers/tulip/4590703575_6371c0a186_n.jpg  
  inflating: flowers/tulip/4591323356_030d8b6967_m.jpg  
  inflating: flowers/tulip/4599815420_8ee42c2382.jpg  
  inflating: flowers/tulip/4602809199_d3030cef01_m.jpg  
  inflating: flowers/tulip/4604238410_bcec9da4a0_n.jpg  
  inflating: flowers/tulip/4604272150_0c92385530_n.jpg  
  inflating: flowers/tulip/4612075317_91eefff68c_n.jpg  
  inflating: flowers/tulip/4624404489_11e10fcd33_n.jpg  
  inflating: flowers/tulip/4644110077_ff252cd7c4.jpg  
  inflating: flowers/tulip/466409031_4c10294db5_m.jpg  
  inflating: flowers/tulip/467702445_b8676f60fb_n.jpg  
  inflating: flowers/tulip/4679869990_7c5f28f2fe_n.jpg  
  inflating: flowers/tulip/4681062529_36186617d9.jpg  
  inflating: flowers/tulip/471298577_cc7558bcf1.jpg  
  inflating: flowers/tulip/478765271_6a8ca1cfa1_m.jpg  
  inflating: flowers/tulip/480228053_513791d474.jpg  
  inflating: flowers/tulip/4838669164_ffb6f67139.jpg  
  inflating: flowers/tulip/483880052_19fdb26a9f.jpg  
  inflating: flowers/tulip/485266837_671def8627.jpg  
  inflating: flowers/tulip/485415743_eeb5d7c1a5.jpg  
  inflating: flowers/tulip/4890786831_91bb82a9e4_n.jpg  
  inflating: flowers/tulip/489506904_9b68ba211c.jpg  
  inflating: flowers/tulip/490541142_c37e2b4191_n.jpg  
  inflating: flowers/tulip/4945315538_97bdd873c4.jpg  
  inflating: flowers/tulip/4955884820_7e4ce4d7e5_m.jpg  
  inflating: flowers/tulip/497305666_b5d4348826_n.jpg  
  inflating: flowers/tulip/5012813078_99fb977616_n.jpg  
  inflating: flowers/tulip/503770507_f397245a6a.jpg  
  inflating: flowers/tulip/5043225469_0aa23f3c8f_n.jpg  
  inflating: flowers/tulip/510698601_9f61d6f8d8.jpg  
  inflating: flowers/tulip/518256494_368a72db37.jpg  
  inflating: flowers/tulip/5208680166_c4372477ef_n.jpg  
  inflating: flowers/tulip/5388013398_09a8a0f166_m.jpg  
  inflating: flowers/tulip/5417115048_3b78d6c875_n.jpg  
  inflating: flowers/tulip/5430796647_f21b7b0fea.jpg  
  inflating: flowers/tulip/5433747333_869a2a172d_m.jpg  
  inflating: flowers/tulip/5443985113_54e9f608b3_n.jpg  
  inflating: flowers/tulip/5470898169_52a5ab876c_n.jpg  
  inflating: flowers/tulip/5524946579_307dc74476.jpg  
  inflating: flowers/tulip/5529939805_1679b014e1_n.jpg  
  inflating: flowers/tulip/5543457754_89c44c88de_n.jpg  
  inflating: flowers/tulip/5546723510_39a5a10d3a_n.jpg  
  inflating: flowers/tulip/5552198702_35856ed8ec.jpg  
  inflating: flowers/tulip/5565089564_a30c318f44.jpg  
  inflating: flowers/tulip/5574219476_1f46775487_n.jpg  
  inflating: flowers/tulip/5603625247_e4ff1828af_m.jpg  
  inflating: flowers/tulip/5628970369_54eb9ed31c_n.jpg  
  inflating: flowers/tulip/5631861819_f0eb39a357_m.jpg  
  inflating: flowers/tulip/5632006303_15acd2cf1e_n.jpg  
  inflating: flowers/tulip/5633266048_4f4bfb2cf1_n.jpg  
  inflating: flowers/tulip/5634767665_0ae724774d.jpg  
  inflating: flowers/tulip/5635347336_bc1400e939_n.jpg  
  inflating: flowers/tulip/5635348214_a4e2b19ffe.jpg  
  inflating: flowers/tulip/5637140035_e6c5514f54.jpg  
  inflating: flowers/tulip/5644061265_e02135f028_n.jpg  
  inflating: flowers/tulip/5653364300_bc557236c7_n.jpg  
  inflating: flowers/tulip/5660551500_b57307ef4d_n.jpg  
  inflating: flowers/tulip/5661431592_cea1108261_n.jpg  
  inflating: flowers/tulip/5665080897_0796f726c9_m.jpg  
  inflating: flowers/tulip/5665708521_799585d229_n.jpg  
  inflating: flowers/tulip/5666286130_1dc6f66f09_n.jpg  
  inflating: flowers/tulip/5670916806_df4316006f_n.jpg  
  inflating: flowers/tulip/5674125303_953b0ecf38.jpg  
  inflating: flowers/tulip/5674127693_1ddbd81097.jpg  
  inflating: flowers/tulip/5674132053_b40a7d32ca.jpg  
  inflating: flowers/tulip/5674134129_2db5136cba.jpg  
  inflating: flowers/tulip/5674167473_ac696c8989_n.jpg  
  inflating: flowers/tulip/5674170543_73e3f403fb.jpg  
  inflating: flowers/tulip/5674695558_61397a1584.jpg  
  inflating: flowers/tulip/5674704952_9bd225ed9e_n.jpg  
  inflating: flowers/tulip/5674707464_dc18de05b1.jpg  
  inflating: flowers/tulip/5680695867_baff72fc7c.jpg  
  inflating: flowers/tulip/5682463466_d3e641cb8b.jpg  
  inflating: flowers/tulip/5687705933_55a8c2dbac.jpg  
  inflating: flowers/tulip/5691090657_2f1e9bf49e_n.jpg  
  inflating: flowers/tulip/5691100579_4a2767360a.jpg  
  inflating: flowers/tulip/5691672942_70a93d70fc.jpg  
  inflating: flowers/tulip/5697471591_200ff951fa_n.jpg  
  inflating: flowers/tulip/5698944116_fd35fe6bea.jpg  
  inflating: flowers/tulip/5700394524_dc6f8fa9cd_n.jpg  
  inflating: flowers/tulip/5700466891_2bcb17fa68_n.jpg  
  inflating: flowers/tulip/5704726114_a92f753514.jpg  
  inflating: flowers/tulip/5716293002_a8be6a6dd3_n.jpg  
  inflating: flowers/tulip/5717949231_23e2d4c297_n.jpg  
  inflating: flowers/tulip/5717950215_5d0bf2e8b3_n.jpg  
  inflating: flowers/tulip/5717950291_af2aed83d8_n.jpg  
  inflating: flowers/tulip/5717950375_063b937e29_n.jpg  
  inflating: flowers/tulip/5717950507_087513ecbf_n.jpg  
  inflating: flowers/tulip/5717950705_a5d53872e4_n.jpg  
  inflating: flowers/tulip/5717950861_69c8846479_n.jpg  
  inflating: flowers/tulip/5717951019_739d8307d4_n.jpg  
  inflating: flowers/tulip/5717951105_72b6f58838_n.jpg  
  inflating: flowers/tulip/5717951287_124cac32b1_n.jpg  
  inflating: flowers/tulip/5717951663_048431c2e6_n.jpg  
  inflating: flowers/tulip/5717951743_365f3f64b9_n.jpg  
  inflating: flowers/tulip/5717951871_4af1b319eb_n.jpg  
  inflating: flowers/tulip/5718510894_95990c47af_n.jpg  
  inflating: flowers/tulip/5718510972_9a439aa30a_n.jpg  
  inflating: flowers/tulip/5718511304_9334269df2_n.jpg  
  inflating: flowers/tulip/5718511402_c20cb11cef_n.jpg  
  inflating: flowers/tulip/5718511580_edcfd49782_n.jpg  
  inflating: flowers/tulip/5718511762_43b08f50ff_n.jpg  
  inflating: flowers/tulip/5718512060_b78a25c084_n.jpg  
  inflating: flowers/tulip/5718512292_aa50a9a473_n.jpg  
  inflating: flowers/tulip/5718512462_b48988824a_n.jpg  
  inflating: flowers/tulip/5718512658_f3b1ec76d7_n.jpg  
  inflating: flowers/tulip/5718512892_a175a94c45_n.jpg  
  inflating: flowers/tulip/5718513040_8ea13a3599_n.jpg  
  inflating: flowers/tulip/5718513240_e84d5a7e89_n.jpg  
  inflating: flowers/tulip/5718513354_673b6e8306_n.jpg  
  inflating: flowers/tulip/5718781677_d5e9267115_n.jpg  
  inflating: flowers/tulip/5719416820_3060e3c1f0.jpg  
  inflating: flowers/tulip/5730908127_da871df0f8.jpg  
  inflating: flowers/tulip/5738195260_b3fc107aa7_n.jpg  
  inflating: flowers/tulip/5755467567_903c31e3d0.jpg  
  inflating: flowers/tulip/5757091018_cdfd79dfa6_m.jpg  
  inflating: flowers/tulip/5810456385_b44358a0ae.jpg  
  inflating: flowers/tulip/5811004432_266f0f0c6f.jpg  
  inflating: flowers/tulip/5811022098_2523ca4e82.jpg  
  inflating: flowers/tulip/5813495998_64be1b8ab6_n.jpg  
  inflating: flowers/tulip/5891485349_cce7b99549.jpg  
  inflating: flowers/tulip/6038098425_b3b4fb62cc_m.jpg  
  inflating: flowers/tulip/6187740107_9813ccc41e.jpg  
  inflating: flowers/tulip/6227136437_6117068599_m.jpg  
  inflating: flowers/tulip/6227136683_262c6be56b.jpg  
  inflating: flowers/tulip/6267021825_a8316e0dcc_m.jpg  
  inflating: flowers/tulip/6325571510_7544b27e57_n.jpg  
  inflating: flowers/tulip/65347450_53658c63bd_n.jpg  
  inflating: flowers/tulip/6539831765_c21b68910e_n.jpg  
  inflating: flowers/tulip/6770436217_281da51e49_n.jpg  
  inflating: flowers/tulip/6799076717_575944af91_m.jpg  
  inflating: flowers/tulip/6808860548_53796b90ca_n.jpg  
  inflating: flowers/tulip/6876631336_54bf150990.jpg  
  inflating: flowers/tulip/6903831250_a2757fff82_m.jpg  
  inflating: flowers/tulip/6905876618_12732b74de_b.jpg  
  inflating: flowers/tulip/6931489544_2f35025f7b_m.jpg  
  inflating: flowers/tulip/6931674908_8e93bd4554.jpg  
  inflating: flowers/tulip/6931708704_fccb06fea8.jpg  
  inflating: flowers/tulip/6931715360_34edc5a372_m.jpg  
  inflating: flowers/tulip/6931748252_68f06086b3.jpg  
  inflating: flowers/tulip/6934951920_d43ff8b78d.jpg  
  inflating: flowers/tulip/6936168062_a31c28b77c_m.jpg  
  inflating: flowers/tulip/6948277038_89d7ff42e2_m.jpg  
  inflating: flowers/tulip/6958243974_8851425ddb_n.jpg  
  inflating: flowers/tulip/6958342976_a4a9483488_n.jpg  
  inflating: flowers/tulip/6958343928_7e596da4ed_m.jpg  
  inflating: flowers/tulip/6970683464_f70838ca3a_n.jpg  
  inflating: flowers/tulip/6982913043_3b873c6a25.jpg  
  inflating: flowers/tulip/6989946990_62c639ff16_n.jpg  
  inflating: flowers/tulip/6994351792_343e18cbf6_n.jpg  
  inflating: flowers/tulip/6998661030_46cbb7892a.jpg  
  inflating: flowers/tulip/7002703410_3e97b29da5_n.jpg  
  inflating: flowers/tulip/7003964080_4566470798_n.jpg  
  inflating: flowers/tulip/7042692841_f323799c0d.jpg  
  inflating: flowers/tulip/7046815693_f159e96acd_n.jpg  
  inflating: flowers/tulip/7047408023_6e98fd1e3f.jpg  
  inflating: flowers/tulip/7055500907_dcf2bb50e0.jpg  
  inflating: flowers/tulip/7064778965_ddcc6ee9f2.jpg  
  inflating: flowers/tulip/7064813645_f7f48fb527.jpg  
  inflating: flowers/tulip/7068715863_a534ac7884_n.jpg  
  inflating: flowers/tulip/7069622551_348d41c327_n.jpg  
  inflating: flowers/tulip/7070694881_e9a331fa4e_n.jpg  
  inflating: flowers/tulip/7082608511_f4cf233f59_n.jpg  
  inflating: flowers/tulip/7094271655_79a6f972c1_n.jpg  
  inflating: flowers/tulip/7094415739_6b29e5215c_m.jpg  
  inflating: flowers/tulip/7136973281_b2a935ce20.jpg  
  inflating: flowers/tulip/7144016605_e159b6c06b_m.jpg  
  inflating: flowers/tulip/7145978709_2d1596f462.jpg  
  inflating: flowers/tulip/7166539842_43b7e02883.jpg  
  inflating: flowers/tulip/7166539842_43b7e02883_n.jpg  
  inflating: flowers/tulip/7166544280_9d975c4d9a_n.jpg  
  inflating: flowers/tulip/7166546934_c97b08c9d9_n.jpg  
  inflating: flowers/tulip/7166550328_de0d73cfa9.jpg  
  inflating: flowers/tulip/7166550328_de0d73cfa9_n.jpg  
  inflating: flowers/tulip/7166552648_28b6dce578.jpg  
  inflating: flowers/tulip/7166552648_28b6dce578_n.jpg  
  inflating: flowers/tulip/7166554924_432aaae4b2_n.jpg  
  inflating: flowers/tulip/7166558370_f7f68983ea_n.jpg  
  inflating: flowers/tulip/7166560822_27b1d1d132_n.jpg  
  inflating: flowers/tulip/7166564830_8b34a3fd35_n.jpg  
  inflating: flowers/tulip/7166567320_0a2beb6d42.jpg  
  inflating: flowers/tulip/7166567320_0a2beb6d42_n.jpg  
  inflating: flowers/tulip/7166570828_7c26ca5766_n.jpg  
  inflating: flowers/tulip/7166574936_3d93a510c5_n.jpg  
  inflating: flowers/tulip/7166581866_861cd081b8_n.jpg  
  inflating: flowers/tulip/7166589802_8238cec83b_n.jpg  
  inflating: flowers/tulip/7166591854_93c0dd6f8d_n.jpg  
  inflating: flowers/tulip/7166596680_a01961a618_n.jpg  
  inflating: flowers/tulip/7166598930_18d8686ace_n.jpg  
  inflating: flowers/tulip/7166606598_5d2cd307c3.jpg  
  inflating: flowers/tulip/7166606598_5d2cd307c3_n.jpg  
  inflating: flowers/tulip/7166612682_711e680027_n.jpg  
  inflating: flowers/tulip/7166614014_5f0f8d715b_n.jpg  
  inflating: flowers/tulip/7166616072_1233051d98_n.jpg  
  inflating: flowers/tulip/7166618384_850905fc63_n.jpg  
  inflating: flowers/tulip/7166620850_8a37b95972_n.jpg  
  inflating: flowers/tulip/7166623602_256179ab00_n.jpg  
  inflating: flowers/tulip/7166626128_8e0983ac8e_n.jpg  
  inflating: flowers/tulip/7166632158_666116d770_n.jpg  
  inflating: flowers/tulip/7166635566_ee240b5408_n.jpg  
  inflating: flowers/tulip/7166640338_46b15d9ec8_n.jpg  
  inflating: flowers/tulip/7166644048_b00a14f01b.jpg  
  inflating: flowers/tulip/7166644048_b00a14f01b_n.jpg  
  inflating: flowers/tulip/7166646966_41d83cd703.jpg  
  inflating: flowers/tulip/7177682195_c29265748d_n.jpg  
  inflating: flowers/tulip/7179796338_05e8b1c87b.jpg  
  inflating: flowers/tulip/7205145492_baec4dbb94.jpg  
  inflating: flowers/tulip/7205698252_b972087cc2.jpg  
  inflating: flowers/tulip/7247182064_f8d6759446_n.jpg  
  inflating: flowers/tulip/7266196114_c2a736a15a_m.jpg  
  inflating: flowers/tulip/7342871880_c17fe0eb4f_m.jpg  
  inflating: flowers/tulip/738207467_fc59cfcd9b_z.jpg  
  inflating: flowers/tulip/7447655334_e8f805ab95_m.jpg  
  inflating: flowers/tulip/7448453762_aea8739f1b.jpg  
  inflating: flowers/tulip/7481204112_e3c57dd40a_n.jpg  
  inflating: flowers/tulip/7481215720_73e40f178f_n.jpg  
  inflating: flowers/tulip/7481217920_6f65766a1c_n.jpg  
  inflating: flowers/tulip/7775145448_c42e638a6a_n.jpg  
  inflating: flowers/tulip/779359602_30abcbf5bb_n.jpg  
  inflating: flowers/tulip/7806320016_fcddfc1f8f_n.jpg  
  inflating: flowers/tulip/8394186551_28eed83a94_m.jpg  
  inflating: flowers/tulip/8454707381_453b4862eb_m.jpg  
  inflating: flowers/tulip/8454719295_4276c0e9c5_n.jpg  
  inflating: flowers/tulip/8484905084_6a18c62b13_m.jpg  
  inflating: flowers/tulip/8511683706_4173683d45_m.jpg  
  inflating: flowers/tulip/8520482921_21dd204ebd_n.jpg  
  inflating: flowers/tulip/8520488975_a50d377f91.jpg  
  inflating: flowers/tulip/8521597402_4b6169ba05.jpg  
  inflating: flowers/tulip/8523133474_d2c0845b54.jpg  
  inflating: flowers/tulip/8554190977_37ac747799_m.jpg  
  inflating: flowers/tulip/8555123165_2fe57eff4f.jpg  
  inflating: flowers/tulip/8562853756_73778dac25_n.jpg  
  inflating: flowers/tulip/8572847041_d0cc07861f_n.jpg  
  inflating: flowers/tulip/8585101979_4398146bf1_n.jpg  
  inflating: flowers/tulip/8585102511_fc452e6700_n.jpg  
  inflating: flowers/tulip/8585102913_d80d3e2ff7_n.jpg  
  inflating: flowers/tulip/8585103457_d64697c3cf_n.jpg  
  inflating: flowers/tulip/8586204750_2891bd2ec9_n.jpg  
  inflating: flowers/tulip/8586205168_8294e67195_n.jpg  
  inflating: flowers/tulip/8586205446_8953a6c70e_n.jpg  
  inflating: flowers/tulip/8586205946_cda045f3f8_n.jpg  
  inflating: flowers/tulip/8601596054_33e40c2a7a.jpg  
  inflating: flowers/tulip/8603340662_0779bd87fd.jpg  
  inflating: flowers/tulip/8605564823_7a59d3d92a.jpg  
  inflating: flowers/tulip/8614237582_74417799f4_m.jpg  
  inflating: flowers/tulip/8619064872_dea79a9eb9.jpg  
  inflating: flowers/tulip/8622237974_b362574785_n.jpg  
  inflating: flowers/tulip/8623170936_83f4152431.jpg  
  inflating: flowers/tulip/8623173256_3f0eb4c506.jpg  
  inflating: flowers/tulip/8628453641_6f87755815_m.jpg  
  inflating: flowers/tulip/8659691170_09db83d023.jpg  
  inflating: flowers/tulip/8668973377_c69527db42_m.jpg  
  inflating: flowers/tulip/8668974855_8389ecbdca_m.jpg  
  inflating: flowers/tulip/8669794378_97dda6036f_n.jpg  
  inflating: flowers/tulip/8673412732_f8fd690ee4_n.jpg  
  inflating: flowers/tulip/8673416166_620fc18e2f_n.jpg  
  inflating: flowers/tulip/8673416556_639f5c88f1_n.jpg  
  inflating: flowers/tulip/8677713853_1312f65e71.jpg  
  inflating: flowers/tulip/8681825637_837a63513a_n.jpg  
  inflating: flowers/tulip/8686013485_3c4dfbfd1f_n.jpg  
  inflating: flowers/tulip/8686332852_c6dcb2e86b.jpg  
  inflating: flowers/tulip/8687675254_c93f50d8b0_m.jpg  
  inflating: flowers/tulip/8688502760_1c8d6de921_m.jpg  
  inflating: flowers/tulip/8689672277_b289909f97_n.jpg  
  inflating: flowers/tulip/8690789564_394eb04982_n.jpg  
  inflating: flowers/tulip/8690791226_b1f015259f_n.jpg  
  inflating: flowers/tulip/8695367666_0809529eaf_n.jpg  
  inflating: flowers/tulip/8695372372_302135aeb2.jpg  
  inflating: flowers/tulip/8697784345_e75913d220.jpg  
  inflating: flowers/tulip/8702982836_75222725d7.jpg  
  inflating: flowers/tulip/8706523526_a0f161b72b.jpg  
  inflating: flowers/tulip/8708209606_d3aede4801.jpg  
  inflating: flowers/tulip/8708856019_f3be2353a4_n.jpg  
  inflating: flowers/tulip/8710148289_6fc196a0f8_n.jpg  
  inflating: flowers/tulip/8711277462_b43df5454b_m.jpg  
  inflating: flowers/tulip/8712230357_1298b8513b.jpg  
  inflating: flowers/tulip/8712243901_54d686319e_m.jpg  
  inflating: flowers/tulip/8712244311_da8e90bf8e_n.jpg  
  inflating: flowers/tulip/8712260079_c0ff42e0e2_n.jpg  
  inflating: flowers/tulip/8712263493_3db76c5f82.jpg  
  inflating: flowers/tulip/8712266605_3787e346cd_n.jpg  
  inflating: flowers/tulip/8712267391_c756f18ee7_n.jpg  
  inflating: flowers/tulip/8712267813_f7a9be2ec5.jpg  
  inflating: flowers/tulip/8712268519_f4c2c39a06_n.jpg  
  inflating: flowers/tulip/8712269349_2b933da2b8_n.jpg  
  inflating: flowers/tulip/8712270243_8512cf4fbd.jpg  
  inflating: flowers/tulip/8712270665_57b5bda0a2_n.jpg  
  inflating: flowers/tulip/8712282563_3819afb7bc.jpg  
  inflating: flowers/tulip/8713357842_9964a93473_n.jpg  
  inflating: flowers/tulip/8713387500_6a9138b41b_n.jpg  
  inflating: flowers/tulip/8713388322_e5ae26263b_n.jpg  
  inflating: flowers/tulip/8713389178_66bceb71a8_n.jpg  
  inflating: flowers/tulip/8713390684_041148dd3e_n.jpg  
  inflating: flowers/tulip/8713391394_4b679ea1e3_n.jpg  
  inflating: flowers/tulip/8713392604_90631fb809_n.jpg  
  inflating: flowers/tulip/8713394070_b24561b0a9.jpg  
  inflating: flowers/tulip/8713396140_5af8136136.jpg  
  inflating: flowers/tulip/8713397358_0505cc0176_n.jpg  
  inflating: flowers/tulip/8713397694_bcbcbba2c2_n.jpg  
  inflating: flowers/tulip/8713398114_bc96f1b624_n.jpg  
  inflating: flowers/tulip/8713398614_88202e452e_n.jpg  
  inflating: flowers/tulip/8713398906_28e59a225a_n.jpg  
  inflating: flowers/tulip/8713407768_f880df361f.jpg  
  inflating: flowers/tulip/8717900362_2aa508e9e5.jpg  
  inflating: flowers/tulip/8722514702_7ecc68691c.jpg  
  inflating: flowers/tulip/8723767533_9145dec4bd_n.jpg  
  inflating: flowers/tulip/8729501081_b993185542_m.jpg  
  inflating: flowers/tulip/8733586143_3139db6e9e_n.jpg  
  inflating: flowers/tulip/8748266132_5298a91dcf_n.jpg  
  inflating: flowers/tulip/8750288831_5e49a9f29b.jpg  
  inflating: flowers/tulip/8757486380_90952c5377.jpg  
  inflating: flowers/tulip/8758464923_75a5ffe320_n.jpg  
  inflating: flowers/tulip/8758519201_16e8d2d781_n.jpg  
  inflating: flowers/tulip/8759594528_2534c0ec65_n.jpg  
  inflating: flowers/tulip/8759597778_7fca5d434b_n.jpg  
  inflating: flowers/tulip/8759601388_36e2a50d98_n.jpg  
  inflating: flowers/tulip/8759606166_8e475013fa_n.jpg  
  inflating: flowers/tulip/8759618746_f5e39fdbf8_n.jpg  
  inflating: flowers/tulip/8762189906_8223cef62f.jpg  
  inflating: flowers/tulip/8762193202_0fbf2f6a81.jpg  
  inflating: flowers/tulip/8768645961_8f1e097170_n.jpg  
  inflating: flowers/tulip/8817622133_a42bb90e38_n.jpg  
  inflating: flowers/tulip/8838347159_746d14e6c1_m.jpg  
  inflating: flowers/tulip/8838354855_c474fc66a3_m.jpg  
  inflating: flowers/tulip/8838914676_8ef4db7f50_n.jpg  
  inflating: flowers/tulip/8838975946_f54194894e_m.jpg  
  inflating: flowers/tulip/8838983024_5c1a767878_n.jpg  
  inflating: flowers/tulip/8892851067_79242a7362_n.jpg  
  inflating: flowers/tulip/8904780994_8867d64155_n.jpg  
  inflating: flowers/tulip/8908062479_449200a1b4.jpg  
  inflating: flowers/tulip/8908097235_c3e746d36e_n.jpg  
  inflating: flowers/tulip/9019694597_2d3bbedb17.jpg  
  inflating: flowers/tulip/9030467406_05e93ff171_n.jpg  
  inflating: flowers/tulip/9048307967_40a164a459_m.jpg  
  inflating: flowers/tulip/924782410_94ed7913ca_m.jpg  
  inflating: flowers/tulip/9378657435_89fabf13c9_n.jpg  
  inflating: flowers/tulip/9444202147_405290415b_n.jpg  
  inflating: flowers/tulip/9446982168_06c4d71da3_n.jpg  
  inflating: flowers/tulip/9831362123_5aac525a99_n.jpg  
  inflating: flowers/tulip/9870557734_88eb3b9e3b_n.jpg  
  inflating: flowers/tulip/9947374414_fdf1d0861c_n.jpg  
  inflating: flowers/tulip/9947385346_3a8cacea02_n.jpg  
  inflating: flowers/tulip/9976515506_d496c5e72c.jpg  
</pre></div></div><div></div></colab-static-output-renderer></div></div></div></div></div></div></div></div><div class="add-cell">
             <div class="add-cell-buttons">
               <colab-toolbar-button class="add-code add-button" icon="icons:add" title="Add code cell
Ctrl+M B">
                 <!--?lit$12532914$-->Code
               </colab-toolbar-button>
               <colab-toolbar-button class="add-text add-button" icon="icons:add" title="Add text cell">
                 <!--?lit$12532914$-->Text
               </colab-toolbar-button>
             </div><hr>
           </div></div><div class="cell text" id="cell-xi9mI7zS4NQj" tabindex="-1" style=""><div class="cell-toolbar sticky"></div><div class="main-content" elevation="0"><div class="cell-mask"></div><span class="imported-info-area"></span><div class="toolbar-root"></div><div class="editor-container horizontal"><div class="editor-root"></div><div class="text-top-div"><div class="markdown"><span><h1 class="text-cell-section-header"><paper-icon-button class="header-section-toggle" icon="arrow-drop-down" noink="" role="button" tabindex="0" aria-disabled="false" title="Collapse 5 child cells under this section header (Press &lt;Shift&gt; to also collapse sibling sections)"></paper-icon-button>1. Image Augmentation</h1>
</span></div></div></div><div class="section-header" style="display: none;"><colab-run-button role="button" aria-label="Run cell"></colab-run-button><div class="section-header-container" title="click to expand">↳ 5 cells hidden</div></div></div><div class="add-cell">
             <hr>
           </div></div><div class="cell code icon-scrolling" id="cell-itboZEDp4UGO" tabindex="-1" style=""><div class="cell-toolbar sticky"></div><div class="main-content" elevation="0"><div class="cell-mask"></div><span class="imported-info-area"></span><div class="codecell-input-output"><div class="inputarea horizontal layout code"><div class="cell-gutter"><!-- Bounding range for vertical scrolling of icons --><div class="cell-execution-container"><colab-run-button title="Run cell (Ctrl+Enter)
cell has not been executed in this session" role="button" aria-label="Run cell"></colab-run-button></div></div><div class="editor flex lazy-editor" style=""><pre class="lazy-virtualized" style="font-size: 14px; line-height: 19px;"><pre class="lazy-gutter"></pre><pre class="monaco-colorized colab colab colab colab" data-lang="notebook-python"><span><span class="mtk8">#import&nbsp;lib.</span></span><br><span><span></span></span><br><span><span class="mtk18">from</span><span class="mtk1">&nbsp;tensorflow.keras.preprocessing.image&nbsp;</span><span class="mtk18">import</span><span class="mtk1">&nbsp;ImageDataGenerator</span></span><br></pre></pre></div><colab-form class="formview vertical layout flex"><div class="widget-area vertical layout"></div></colab-form></div><div class="output"><div class="output-header"></div><div class="output-content" style="display: none;"><div class="output-info"></div><div class="output-iframe-container"><div class="output-iframe-sizer"></div></div></div></div></div></div><div class="add-cell">
             <hr>
           </div></div><div class="cell code icon-scrolling" id="cell-9ii96SPK4Y0Z" tabindex="-1" style=""><div class="cell-toolbar sticky"></div><div class="main-content" elevation="0"><div class="cell-mask"></div><span class="imported-info-area"></span><div class="codecell-input-output"><div class="inputarea horizontal layout code"><div class="cell-gutter"><!-- Bounding range for vertical scrolling of icons --><div class="cell-execution-container"><colab-run-button title="Run cell (Ctrl+Enter)
cell has not been executed in this session" role="button" aria-label="Run cell"></colab-run-button></div></div><div class="editor flex lazy-editor" style=""><pre class="lazy-virtualized" style="font-size: 14px; line-height: 19px;"><pre class="lazy-gutter"></pre><pre class="monaco-colorized colab colab colab colab" data-lang="notebook-python"><span><span class="mtk8">#augmentation&nbsp;on&nbsp;flowers&nbsp;</span></span><br><span><span></span></span><br><span><span class="mtk1">rose_datagen=ImageDataGenerator(rescale=</span><span class="mtk11">1</span><span class="mtk1">./</span><span class="mtk11">255</span><span class="mtk1">,</span></span><br><span><span class="mtk1">&nbsp;&nbsp;&nbsp;&nbsp;&nbsp;&nbsp;&nbsp;&nbsp;&nbsp;&nbsp;&nbsp;&nbsp;&nbsp;&nbsp;&nbsp;&nbsp;&nbsp;&nbsp;&nbsp;&nbsp;&nbsp;&nbsp;&nbsp;&nbsp;&nbsp;&nbsp;&nbsp;&nbsp;&nbsp;&nbsp;&nbsp;&nbsp;zoom_range=</span><span class="mtk11">0.2</span><span class="mtk1">,</span></span><br><span><span class="mtk1">&nbsp;&nbsp;&nbsp;&nbsp;&nbsp;&nbsp;&nbsp;&nbsp;&nbsp;&nbsp;&nbsp;&nbsp;&nbsp;&nbsp;&nbsp;&nbsp;&nbsp;&nbsp;&nbsp;&nbsp;&nbsp;&nbsp;&nbsp;&nbsp;&nbsp;&nbsp;&nbsp;&nbsp;&nbsp;&nbsp;&nbsp;&nbsp;horizontal_flip=</span><span class="mtk6">True</span><span class="mtk1">)</span></span><br></pre></pre></div><colab-form class="formview vertical layout flex"><div class="widget-area vertical layout"></div></colab-form></div><div class="output"><div class="output-header"></div><div class="output-content" style="display: none;"><div class="output-info"></div><div class="output-iframe-container"><div class="output-iframe-sizer"></div></div></div></div></div></div><div class="add-cell">
             <hr>
           </div></div><div class="cell code icon-scrolling" id="cell-bvR11Y6T4cJi" tabindex="-1" style=""><div class="cell-toolbar sticky"></div><div class="main-content" elevation="0"><div class="cell-mask"></div><span class="imported-info-area"></span><div class="codecell-input-output"><div class="inputarea horizontal layout code"><div class="cell-gutter"><!-- Bounding range for vertical scrolling of icons --><div class="cell-execution-container"><colab-run-button title="Run cell (Ctrl+Enter)
cell has not been executed in this session" role="button" aria-label="Run cell"></colab-run-button></div></div><div class="editor flex lazy-editor" style=""><pre class="lazy-virtualized" style="font-size: 14px; line-height: 19px;"><pre class="lazy-gutter"></pre><pre class="monaco-colorized colab colab colab colab" data-lang="notebook-python"><span><span class="mtk1">tulip_datagen=ImageDataGenerator(rescale=</span><span class="mtk11">1</span><span class="mtk1">./</span><span class="mtk11">255</span><span class="mtk1">,</span></span><br><span><span class="mtk1">&nbsp;&nbsp;&nbsp;&nbsp;&nbsp;&nbsp;&nbsp;&nbsp;&nbsp;&nbsp;&nbsp;&nbsp;&nbsp;&nbsp;&nbsp;&nbsp;&nbsp;&nbsp;&nbsp;&nbsp;&nbsp;&nbsp;&nbsp;&nbsp;&nbsp;&nbsp;&nbsp;&nbsp;&nbsp;&nbsp;&nbsp;&nbsp;zoom_range=</span><span class="mtk11">0.2</span><span class="mtk1">,</span></span><br><span><span class="mtk1">&nbsp;&nbsp;&nbsp;&nbsp;&nbsp;&nbsp;&nbsp;&nbsp;&nbsp;&nbsp;&nbsp;&nbsp;&nbsp;&nbsp;&nbsp;&nbsp;&nbsp;&nbsp;&nbsp;&nbsp;&nbsp;&nbsp;&nbsp;&nbsp;&nbsp;&nbsp;&nbsp;&nbsp;&nbsp;&nbsp;&nbsp;&nbsp;horizontal_flip=</span><span class="mtk6">True</span><span class="mtk1">)</span></span><br></pre></pre></div><colab-form class="formview vertical layout flex"><div class="widget-area vertical layout"></div></colab-form></div><div class="output"><div class="output-header"></div><div class="output-content" style="display: none;"><div class="output-info"></div><div class="output-iframe-container"><div class="output-iframe-sizer"></div></div></div></div></div></div><div class="add-cell">
             <hr>
           </div></div><div class="cell code code-has-output icon-scrolling" id="cell-vvsKMQCB4f1x" tabindex="-1" style=""><div class="cell-toolbar sticky"></div><div class="main-content" elevation="0"><div class="cell-mask"></div><span class="imported-info-area"></span><div class="codecell-input-output"><div class="inputarea horizontal layout code"><div class="cell-gutter"><!-- Bounding range for vertical scrolling of icons --><div class="cell-execution-container"><colab-run-button title="Run cell (Ctrl+Enter)
cell has not been executed in this session

executed by PRASANNA PRIADARSAN M
Saturday, 8 October 2022 (7 days ago)
executed in 0.005 s" role="button" aria-label="Run cell"></colab-run-button></div></div><div class="editor flex lazy-editor" style=""><pre class="lazy-virtualized" style="font-size: 14px; line-height: 19px;"><pre class="lazy-gutter"></pre><pre class="monaco-colorized colab colab colab colab" data-lang="notebook-python"><span><span class="mtk1">xrose&nbsp;=&nbsp;rose_datagen.flow_from_directory(</span><span class="mtk26">'/content/flowers'</span><span class="mtk1">,</span></span><br><span><span class="mtk1">&nbsp;&nbsp;&nbsp;&nbsp;&nbsp;&nbsp;&nbsp;&nbsp;&nbsp;&nbsp;&nbsp;&nbsp;&nbsp;&nbsp;&nbsp;&nbsp;&nbsp;&nbsp;&nbsp;&nbsp;&nbsp;&nbsp;&nbsp;&nbsp;&nbsp;&nbsp;&nbsp;&nbsp;&nbsp;&nbsp;&nbsp;&nbsp;&nbsp;&nbsp;&nbsp;&nbsp;&nbsp;&nbsp;&nbsp;&nbsp;&nbsp;&nbsp;&nbsp;target_</span><span class="mtk1">size=(</span><span class="mtk11">64</span><span class="mtk1">,</span><span class="mtk11">64</span><span class="mtk1">),</span></span><br><span><span class="mtk1">&nbsp;&nbsp;&nbsp;&nbsp;&nbsp;&nbsp;&nbsp;&nbsp;&nbsp;&nbsp;&nbsp;&nbsp;&nbsp;&nbsp;&nbsp;&nbsp;&nbsp;&nbsp;&nbsp;&nbsp;&nbsp;&nbsp;&nbsp;&nbsp;&nbsp;&nbsp;&nbsp;&nbsp;&nbsp;&nbsp;&nbsp;&nbsp;&nbsp;&nbsp;&nbsp;&nbsp;&nbsp;&nbsp;&nbsp;&nbsp;&nbsp;&nbsp;&nbsp;class_m</span><span class="mtk1">ode=</span><span class="mtk26">'categorical'</span><span class="mtk1">,</span></span><br><span><span class="mtk1">&nbsp;&nbsp;&nbsp;&nbsp;&nbsp;&nbsp;&nbsp;&nbsp;&nbsp;&nbsp;&nbsp;&nbsp;&nbsp;&nbsp;&nbsp;&nbsp;&nbsp;&nbsp;&nbsp;&nbsp;&nbsp;&nbsp;&nbsp;&nbsp;&nbsp;&nbsp;&nbsp;&nbsp;&nbsp;&nbsp;&nbsp;&nbsp;&nbsp;&nbsp;&nbsp;&nbsp;&nbsp;&nbsp;&nbsp;&nbsp;&nbsp;&nbsp;&nbsp;batch_s</span><span class="mtk1">ize=</span><span class="mtk11">100</span><span class="mtk1">)</span></span><br></pre></pre></div><colab-form class="formview vertical layout flex"><div class="widget-area vertical layout"></div></colab-form></div><div class="output"><div class="output-header"></div><div class="output-content"><div class="output-info"><div class="output-icon z_index_b247858193 clear_outputs_enabled output-icon-selected" title="Clear output

executed by PRASANNA PRIADARSAN M
Saturday, 8 October 2022 (7 days ago)
executed in 0.005 s"><iron-icon class="collaborator collaborator-img-me collaborator-img-selected"></iron-icon>
          <iron-icon icon="icons:cancel" command="clear-focused-or-selected-outputs">
          </iron-icon>
        </div></div><div class="output-iframe-container"><div class="output-iframe-sizer"><div><div><colab-static-output-renderer tabindex="0" role="group"><div><div class="stream output_text"><pre>Found 4317 images belonging to 5 classes.
</pre></div></div><div></div></colab-static-output-renderer></div></div></div></div></div></div></div></div><div class="add-cell">
             <div class="add-cell-buttons">
               <colab-toolbar-button class="add-code add-button" icon="icons:add" title="Add code cell
Ctrl+M B">
                 <!--?lit$12532914$-->Code
               </colab-toolbar-button>
               <colab-toolbar-button class="add-text add-button" icon="icons:add" title="Add text cell">
                 <!--?lit$12532914$-->Text
               </colab-toolbar-button>
             </div><hr>
           </div></div><div class="cell code code-has-output icon-scrolling" id="cell-R_HiLaM64jy1" tabindex="-1" style=""><div class="cell-toolbar sticky"></div><div class="main-content" elevation="0"><div class="cell-mask"></div><span class="imported-info-area"></span><div class="codecell-input-output"><div class="inputarea horizontal layout code"><div class="cell-gutter"><!-- Bounding range for vertical scrolling of icons --><div class="cell-execution-container"><colab-run-button title="Run cell (Ctrl+Enter)
cell has not been executed in this session

executed by PRASANNA PRIADARSAN M
Saturday, 8 October 2022 (7 days ago)
executed in 0.615 s" role="button" aria-label="Run cell"></colab-run-button></div></div><div class="editor flex lazy-editor" style=""><pre class="lazy-virtualized" style="font-size: 14px; line-height: 19px;"><pre class="lazy-gutter"></pre><pre class="monaco-colorized colab colab colab colab" data-lang="notebook-python"><span><span class="mtk1">xtulip&nbsp;=&nbsp;tulip_datagen.flow_from_directory(</span><span class="mtk26">'/content/flowers'</span><span class="mtk1">,</span></span><br><span><span class="mtk1">&nbsp;&nbsp;&nbsp;&nbsp;&nbsp;&nbsp;&nbsp;&nbsp;&nbsp;&nbsp;&nbsp;&nbsp;&nbsp;&nbsp;&nbsp;&nbsp;&nbsp;&nbsp;&nbsp;&nbsp;&nbsp;&nbsp;&nbsp;&nbsp;&nbsp;&nbsp;&nbsp;&nbsp;&nbsp;&nbsp;&nbsp;&nbsp;&nbsp;&nbsp;&nbsp;&nbsp;&nbsp;&nbsp;&nbsp;&nbsp;&nbsp;&nbsp;&nbsp;target_</span><span class="mtk1">size=(</span><span class="mtk11">64</span><span class="mtk1">,</span><span class="mtk11">64</span><span class="mtk1">),</span></span><br><span><span class="mtk1">&nbsp;&nbsp;&nbsp;&nbsp;&nbsp;&nbsp;&nbsp;&nbsp;&nbsp;&nbsp;&nbsp;&nbsp;&nbsp;&nbsp;&nbsp;&nbsp;&nbsp;&nbsp;&nbsp;&nbsp;&nbsp;&nbsp;&nbsp;&nbsp;&nbsp;&nbsp;&nbsp;&nbsp;&nbsp;&nbsp;&nbsp;&nbsp;&nbsp;&nbsp;&nbsp;&nbsp;&nbsp;&nbsp;&nbsp;&nbsp;&nbsp;&nbsp;&nbsp;class_m</span><span class="mtk1">ode=</span><span class="mtk26">'categorical'</span><span class="mtk1">,</span></span><br><span><span class="mtk1">&nbsp;&nbsp;&nbsp;&nbsp;&nbsp;&nbsp;&nbsp;&nbsp;&nbsp;&nbsp;&nbsp;&nbsp;&nbsp;&nbsp;&nbsp;&nbsp;&nbsp;&nbsp;&nbsp;&nbsp;&nbsp;&nbsp;&nbsp;&nbsp;&nbsp;&nbsp;&nbsp;&nbsp;&nbsp;&nbsp;&nbsp;&nbsp;&nbsp;&nbsp;&nbsp;&nbsp;&nbsp;&nbsp;&nbsp;&nbsp;&nbsp;&nbsp;&nbsp;batch_s</span><span class="mtk1">ize=</span><span class="mtk11">100</span><span class="mtk1">)</span></span><br></pre></pre></div><colab-form class="formview vertical layout flex"><div class="widget-area vertical layout"></div></colab-form></div><div class="output"><div class="output-header"></div><div class="output-content"><div class="output-info"><div class="output-icon z_index_b247858193 clear_outputs_enabled output-icon-selected" title="Clear output

executed by PRASANNA PRIADARSAN M
Saturday, 8 October 2022 (7 days ago)
executed in 0.615 s"><iron-icon class="collaborator collaborator-img-me collaborator-img-selected"></iron-icon>
          <iron-icon icon="icons:cancel" command="clear-focused-or-selected-outputs">
          </iron-icon>
        </div></div><div class="output-iframe-container"><div class="output-iframe-sizer"><div><div><colab-static-output-renderer tabindex="0" role="group"><div><div class="stream output_text"><pre>Found 4317 images belonging to 5 classes.
</pre></div></div><div></div></colab-static-output-renderer></div></div></div></div></div></div></div></div><div class="add-cell">
             <div class="add-cell-buttons">
               <colab-toolbar-button class="add-code add-button" icon="icons:add" title="Add code cell
Ctrl+M B">
                 <!--?lit$12532914$-->Code
               </colab-toolbar-button>
               <colab-toolbar-button class="add-text add-button" icon="icons:add" title="Add text cell">
                 <!--?lit$12532914$-->Text
               </colab-toolbar-button>
             </div><hr>
           </div></div><div class="cell text" id="cell-UHh-8x5m4nu7" tabindex="-1" style=""><div class="cell-toolbar sticky"></div><div class="main-content" elevation="0"><div class="cell-mask"></div><span class="imported-info-area"></span><div class="toolbar-root"></div><div class="editor-container horizontal"><div class="editor-root"></div><div class="text-top-div"><div class="markdown"><span><h1 class="text-cell-section-header"><paper-icon-button class="header-section-toggle" icon="arrow-drop-down" noink="" role="button" tabindex="0" aria-disabled="false" title="Collapse 1 child cells under this section header (Press &lt;Shift&gt; to also collapse sibling sections)"></paper-icon-button>2. Create Model</h1>
</span></div></div></div><div class="section-header" style="display: none;"><colab-run-button role="button" aria-label="Run cell"></colab-run-button><div class="section-header-container" title="click to expand">↳ 1 cell hidden</div></div></div><div class="add-cell">
             <div class="add-cell-buttons">
               <colab-toolbar-button class="add-code add-button" icon="icons:add" title="Add code cell
Ctrl+M B">
                 <!--?lit$12532914$-->Code
               </colab-toolbar-button>
               <colab-toolbar-button class="add-text add-button" icon="icons:add" title="Add text cell">
                 <!--?lit$12532914$-->Text
               </colab-toolbar-button>
             </div><hr>
           </div></div><div class="cell code icon-scrolling" id="cell-WiGxSkEs4ovx" tabindex="-1" style=""><div class="cell-toolbar sticky"></div><div class="main-content" elevation="0"><div class="cell-mask"></div><span class="imported-info-area"></span><div class="codecell-input-output"><div class="inputarea horizontal layout code"><div class="cell-gutter"><!-- Bounding range for vertical scrolling of icons --><div class="cell-execution-container"><colab-run-button title="Run cell (Ctrl+Enter)
cell has not been executed in this session" role="button" aria-label="Run cell"></colab-run-button></div></div><div class="editor flex lazy-editor" style=""><pre class="lazy-virtualized" style="font-size: 14px; line-height: 19px;"><pre class="lazy-gutter"></pre><pre class="monaco-colorized colab colab colab colab" data-lang="notebook-python"><span><span class="mtk8">#import&nbsp;lib.</span></span><br><span><span></span></span><br><span><span class="mtk18">from</span><span class="mtk1">&nbsp;tensorflow.keras.models&nbsp;</span><span class="mtk18">import</span><span class="mtk1">&nbsp;Sequential</span></span><br><span><span class="mtk18">from</span><span class="mtk1">&nbsp;tensorflow.keras.layers&nbsp;</span><span class="mtk18">import</span><span class="mtk1">&nbsp;Convolution2D,&nbsp;MaxPooling2D,&nbsp;Flatten,&nbsp;Dense</span></span><br></pre></pre></div><colab-form class="formview vertical layout flex"><div class="widget-area vertical layout"></div></colab-form></div><div class="output"><div class="output-header"></div><div class="output-content" style="display: none;"><div class="output-info"></div><div class="output-iframe-container"><div class="output-iframe-sizer"></div></div></div></div></div></div><div class="add-cell">
             <div class="add-cell-buttons">
               <colab-toolbar-button class="add-code add-button" icon="icons:add" title="Add code cell
Ctrl+M B">
                 <!--?lit$12532914$-->Code
               </colab-toolbar-button>
               <colab-toolbar-button class="add-text add-button" icon="icons:add" title="Add text cell">
                 <!--?lit$12532914$-->Text
               </colab-toolbar-button>
             </div><hr>
           </div></div><div class="cell text" id="cell-KEY5uyUM5B7O" tabindex="-1" style=""><div class="cell-toolbar sticky"></div><div class="main-content" elevation="0"><div class="cell-mask"></div><span class="imported-info-area"></span><div class="toolbar-root"></div><div class="editor-container horizontal"><div class="editor-root"></div><div class="text-top-div"><div class="markdown"><span><h1 class="text-cell-section-header"><paper-icon-button class="header-section-toggle" icon="arrow-drop-down" noink="" role="button" tabindex="0" aria-disabled="false" title="Collapse 1 child cells under this section header (Press &lt;Shift&gt; to also collapse sibling sections)"></paper-icon-button>3. Add Layers (Convolution,MaxPooling,Flatten,Dense-(Hidden Layers),Output)</h1>
</span></div></div></div><div class="section-header" style="display: none;"><colab-run-button role="button" aria-label="Run cell"></colab-run-button><div class="section-header-container" title="click to expand">↳ 1 cell hidden</div></div></div><div class="add-cell">
             <div class="add-cell-buttons">
               <colab-toolbar-button class="add-code add-button" icon="icons:add" title="Add code cell
Ctrl+M B">
                 <!--?lit$12532914$-->Code
               </colab-toolbar-button>
               <colab-toolbar-button class="add-text add-button" icon="icons:add" title="Add text cell">
                 <!--?lit$12532914$-->Text
               </colab-toolbar-button>
             </div><hr>
           </div></div><div class="cell code icon-scrolling" id="cell-Bi2A87Kd4_iv" tabindex="-1" style=""><div class="cell-toolbar sticky"></div><div class="main-content" elevation="0"><div class="cell-mask"></div><span class="imported-info-area"></span><div class="codecell-input-output"><div class="inputarea horizontal layout code"><div class="cell-gutter"><!-- Bounding range for vertical scrolling of icons --><div class="cell-execution-container"><colab-run-button title="Run cell (Ctrl+Enter)
cell has not been executed in this session" role="button" aria-label="Run cell"></colab-run-button></div></div><div class="editor flex lazy-editor" style=""><pre class="lazy-virtualized" style="font-size: 14px; line-height: 19px;"><pre class="lazy-gutter"></pre><pre class="monaco-colorized colab colab colab colab" data-lang="notebook-python"><span><span class="mtk8">#&nbsp;Add&nbsp;a&nbsp;layers</span></span><br><span><span></span></span><br><span><span class="mtk1">model&nbsp;=&nbsp;Sequential()&nbsp;</span><span class="mtk8">#&nbsp;Initializing&nbsp;sequential&nbsp;model</span></span><br><span><span class="mtk1">model.add(Convolution2D(</span><span class="mtk11">32</span><span class="mtk1">,(</span><span class="mtk11">3</span><span class="mtk1">,</span><span class="mtk11">3</span><span class="mtk1">),activation=</span><span class="mtk26">'relu'</span><span class="mtk1">,input_shape=(</span><span class="mtk11">64</span><span class="mtk1">,</span><span class="mtk11">64</span><span class="mtk1">,</span><span class="mtk11">3</span><span class="mtk1">)))&nbsp;</span><span class="mtk8">#&nbsp;convolution&nbsp;layer</span></span><br><span><span class="mtk1">model.add(MaxPooling2D(pool_size=(</span><span class="mtk11">2</span><span class="mtk1">,&nbsp;</span><span class="mtk11">2</span><span class="mtk1">)))&nbsp;</span><span class="mtk8">#&nbsp;Max&nbsp;pooling&nbsp;layer</span></span><br><span><span class="mtk1">model.add(Flatten())&nbsp;</span><span class="mtk8">#&nbsp;Flatten&nbsp;layer</span></span><br><span><span class="mtk1">model.add(Dense(</span><span class="mtk11">300</span><span class="mtk1">,activation=</span><span class="mtk26">'relu'</span><span class="mtk1">))&nbsp;</span><span class="mtk8">#&nbsp;Hidden&nbsp;layer&nbsp;1</span></span><br><span><span class="mtk1">model.add(Dense(</span><span class="mtk11">150</span><span class="mtk1">,activation=</span><span class="mtk26">'relu'</span><span class="mtk1">))&nbsp;</span><span class="mtk8">#&nbsp;Hidden&nbsp;layer&nbsp;2</span></span><br><span><span class="mtk1">model.add(Dense(</span><span class="mtk11">5</span><span class="mtk1">,activation=</span><span class="mtk26">'softmax'</span><span class="mtk1">))&nbsp;</span><span class="mtk8">#&nbsp;Output&nbsp;layer</span></span><br></pre></pre></div><colab-form class="formview vertical layout flex"><div class="widget-area vertical layout"></div></colab-form></div><div class="output"><div class="output-header"></div><div class="output-content" style="display: none;"><div class="output-info"></div><div class="output-iframe-container"><div class="output-iframe-sizer"></div></div></div></div></div></div><div class="add-cell">
             <hr>
           </div></div><div class="cell text" id="cell-ZTxEjw4A5LgP" tabindex="-1" style=""><div class="cell-toolbar sticky"></div><div class="main-content" elevation="0"><div class="cell-mask"></div><span class="imported-info-area"></span><div class="toolbar-root"></div><div class="editor-container horizontal"><div class="editor-root"></div><div class="text-top-div"><div class="markdown"><span><h1 class="text-cell-section-header"><paper-icon-button class="header-section-toggle" icon="arrow-drop-down" noink="" role="button" tabindex="0" aria-disabled="false" title="Collapse 1 child cells under this section header (Press &lt;Shift&gt; to also collapse sibling sections)"></paper-icon-button>4. Compile The Model</h1>
</span></div></div></div><div class="section-header" style="display: none;"><colab-run-button role="button" aria-label="Run cell"></colab-run-button><div class="section-header-container" title="click to expand">↳ 1 cell hidden</div></div></div><div class="add-cell">
             <hr>
           </div></div><div class="cell code icon-scrolling" id="cell-6aJkFoSO5M0E" tabindex="-1" style=""><div class="cell-toolbar sticky"></div><div class="main-content" elevation="0"><div class="cell-mask"></div><span class="imported-info-area"></span><div class="codecell-input-output"><div class="inputarea horizontal layout code"><div class="cell-gutter"><!-- Bounding range for vertical scrolling of icons --><div class="cell-execution-container"><colab-run-button title="Run cell (Ctrl+Enter)
cell has not been executed in this session" role="button" aria-label="Run cell"></colab-run-button></div></div><div class="editor flex lazy-editor" style=""><pre class="lazy-virtualized" style="font-size: 14px; line-height: 19px;"><pre class="lazy-gutter"></pre><pre class="monaco-colorized colab colab colab colab" data-lang="notebook-python"><span><span class="mtk8">#&nbsp;Compiling&nbsp;the&nbsp;model</span></span><br><span><span></span></span><br><span><span class="mtk1">model.</span><span class="mtk14">compile</span><span class="mtk1">(optimizer=</span><span class="mtk26">'adam'</span><span class="mtk1">,loss=</span><span class="mtk26">'categorical_crossentropy'</span><span class="mtk1">,metrics=[</span><span class="mtk26">'accuracy'</span><span class="mtk1">])</span></span><br></pre></pre></div><colab-form class="formview vertical layout flex"><div class="widget-area vertical layout"></div></colab-form></div><div class="output"><div class="output-header"></div><div class="output-content" style="display: none;"><div class="output-info"></div><div class="output-iframe-container"><div class="output-iframe-sizer"></div></div></div></div></div></div><div class="add-cell">
             <hr>
           </div></div><div class="cell text" id="cell-Dgg32Qka5b84" tabindex="-1" style=""><div class="cell-toolbar sticky"></div><div class="main-content" elevation="0"><div class="cell-mask"></div><span class="imported-info-area"></span><div class="toolbar-root"></div><div class="editor-container horizontal"><div class="editor-root"></div><div class="text-top-div"><div class="markdown"><span><h1 class="text-cell-section-header"><paper-icon-button class="header-section-toggle" icon="arrow-drop-down" noink="" role="button" tabindex="0" aria-disabled="false" title="Collapse 1 child cells under this section header (Press &lt;Shift&gt; to also collapse sibling sections)"></paper-icon-button>5. Fit The Model</h1>
<ul>
<li>List item</li>
</ul>
</span></div></div></div><div class="section-header" style="display: none;"><colab-run-button role="button" aria-label="Run cell"></colab-run-button><div class="section-header-container" title="click to expand">↳ 1 cell hidden</div></div></div><div class="add-cell">
             <hr>
           </div></div><div class="cell code code-has-output icon-scrolling" id="cell-eumLHfTM5dZM" tabindex="-1" style=""><div class="cell-toolbar sticky"></div><div class="main-content" elevation="0"><div class="cell-mask"></div><span class="imported-info-area"></span><div class="codecell-input-output"><div class="inputarea horizontal layout code"><div class="cell-gutter"><!-- Bounding range for vertical scrolling of icons --><div class="cell-execution-container"><colab-run-button title="Run cell (Ctrl+Enter)
cell has not been executed in this session

executed by PRASANNA PRIADARSAN M
Saturday, 8 October 2022 (7 days ago)
executed in 446.719 s" role="button" aria-label="Run cell"></colab-run-button></div></div><div class="editor flex lazy-editor" style=""><pre class="lazy-virtualized" style="font-size: 14px; line-height: 19px;"><pre class="lazy-gutter"></pre><pre class="monaco-colorized colab colab colab colab" data-lang="notebook-python"><span><span class="mtk1">model.fit_generator(xrose,</span></span><br><span><span class="mtk1">&nbsp;&nbsp;&nbsp;&nbsp;&nbsp;&nbsp;&nbsp;&nbsp;&nbsp;&nbsp;&nbsp;&nbsp;&nbsp;&nbsp;&nbsp;&nbsp;&nbsp;&nbsp;&nbsp;&nbsp;steps_per_epoch=</span><span class="mtk14">len</span><span class="mtk1">(xrose),</span></span><br><span><span class="mtk1">&nbsp;&nbsp;&nbsp;&nbsp;&nbsp;&nbsp;&nbsp;&nbsp;&nbsp;&nbsp;&nbsp;&nbsp;&nbsp;&nbsp;&nbsp;&nbsp;&nbsp;&nbsp;&nbsp;&nbsp;epochs=</span><span class="mtk11">10</span><span class="mtk1">,</span></span><br><span><span class="mtk1">&nbsp;&nbsp;&nbsp;&nbsp;&nbsp;&nbsp;&nbsp;&nbsp;&nbsp;&nbsp;&nbsp;&nbsp;&nbsp;&nbsp;&nbsp;&nbsp;&nbsp;&nbsp;&nbsp;&nbsp;validation_data=xtulip,</span></span><br><span><span class="mtk1">&nbsp;&nbsp;&nbsp;&nbsp;&nbsp;&nbsp;&nbsp;&nbsp;&nbsp;&nbsp;&nbsp;&nbsp;&nbsp;&nbsp;&nbsp;&nbsp;&nbsp;&nbsp;&nbsp;&nbsp;validation_steps=</span><span class="mtk14">len</span><span class="mtk1">(xtulip))</span></span><br></pre></pre></div><colab-form class="formview vertical layout flex"><div class="widget-area vertical layout"></div></colab-form></div><div class="output"><div class="output-header"></div><div class="output-content"><div class="output-info"><div class="output-icon z_index_b247858193 clear_outputs_enabled output-icon-selected" title="Clear output

executed by PRASANNA PRIADARSAN M
Saturday, 8 October 2022 (7 days ago)
executed in 446.719 s"><iron-icon class="collaborator collaborator-img-me collaborator-img-selected"></iron-icon>
          <iron-icon icon="icons:cancel" command="clear-focused-or-selected-outputs">
          </iron-icon>
        </div></div><div class="output-iframe-container"><div class="output-iframe-sizer"><div><div><colab-static-output-renderer tabindex="0" role="group"><div><div class="stream output_text"><pre>/usr/local/lib/python3.7/dist-packages/ipykernel_launcher.py:5: UserWarning: `Model.fit_generator` is deprecated and will be removed in a future version. Please use `Model.fit`, which supports generators.
  """
</pre></div><div class="stream output_text"><pre>Epoch 1/10
44/44 [==============================] - 38s 853ms/step - loss: 2.0894 - accuracy: 0.2979 - val_loss: 1.2786 - val_accuracy: 0.4410
Epoch 2/10
44/44 [==============================] - 36s 821ms/step - loss: 1.1907 - accuracy: 0.4994 - val_loss: 1.1047 - val_accuracy: 0.5365
Epoch 3/10
44/44 [==============================] - 35s 809ms/step - loss: 1.1105 - accuracy: 0.5457 - val_loss: 1.1656 - val_accuracy: 0.5091
Epoch 4/10
44/44 [==============================] - 42s 953ms/step - loss: 1.0239 - accuracy: 0.5949 - val_loss: 1.0041 - val_accuracy: 0.6106
Epoch 5/10
44/44 [==============================] - 35s 805ms/step - loss: 0.9284 - accuracy: 0.6410 - val_loss: 0.8846 - val_accuracy: 0.6690
Epoch 6/10
44/44 [==============================] - 37s 841ms/step - loss: 0.8882 - accuracy: 0.6553 - val_loss: 0.8690 - val_accuracy: 0.6694
Epoch 7/10
44/44 [==============================] - 35s 804ms/step - loss: 0.8362 - accuracy: 0.6789 - val_loss: 0.8377 - val_accuracy: 0.6910
Epoch 8/10
44/44 [==============================] - 35s 804ms/step - loss: 0.8018 - accuracy: 0.6956 - val_loss: 0.7818 - val_accuracy: 0.7144
Epoch 9/10
44/44 [==============================] - 36s 822ms/step - loss: 0.7742 - accuracy: 0.7003 - val_loss: 0.7128 - val_accuracy: 0.7352
Epoch 10/10
44/44 [==============================] - 35s 798ms/step - loss: 0.7536 - accuracy: 0.7153 - val_loss: 0.6864 - val_accuracy: 0.7450
</pre></div><div class="execute_result output_text"><pre>&lt;keras.callbacks.History at 0x7fd857224cd0&gt;</pre></div></div><div></div></colab-static-output-renderer></div></div></div></div></div></div></div></div><div class="add-cell">
             <hr>
           </div></div><div class="cell text" id="cell-VeowjTlQ5rYy" tabindex="-1" style=""><div class="cell-toolbar sticky"></div><div class="main-content" elevation="0"><div class="cell-mask"></div><span class="imported-info-area"></span><div class="toolbar-root"></div><div class="editor-container horizontal"><div class="editor-root"></div><div class="text-top-div"><div class="markdown"><span><h1 class="text-cell-section-header"><paper-icon-button class="header-section-toggle" icon="arrow-drop-down" noink="" role="button" tabindex="0" aria-disabled="false" title="Collapse 1 child cells under this section header (Press &lt;Shift&gt; to also collapse sibling sections)"></paper-icon-button>6. Save The Model</h1>
</span></div></div></div><div class="section-header" style="display: none;"><colab-run-button role="button" aria-label="Run cell"></colab-run-button><div class="section-header-container" title="click to expand">↳ 1 cell hidden</div></div></div><div class="add-cell">
             <div class="add-cell-buttons">
               <colab-toolbar-button class="add-code add-button" icon="icons:add" title="Add code cell
Ctrl+M B">
                 <!--?lit$12532914$-->Code
               </colab-toolbar-button>
               <colab-toolbar-button class="add-text add-button" icon="icons:add" title="Add text cell">
                 <!--?lit$12532914$-->Text
               </colab-toolbar-button>
             </div><hr>
           </div></div><div class="cell code icon-scrolling" id="cell-PGX2OMRR5srl" tabindex="-1" style=""><div class="cell-toolbar sticky"></div><div class="main-content" elevation="0"><div class="cell-mask"></div><span class="imported-info-area"></span><div class="codecell-input-output"><div class="inputarea horizontal layout code"><div class="cell-gutter"><!-- Bounding range for vertical scrolling of icons --><div class="cell-execution-container"><colab-run-button title="Run cell (Ctrl+Enter)
cell has not been executed in this session" role="button" aria-label="Run cell"></colab-run-button></div></div><div class="editor flex lazy-editor" style=""><pre class="lazy-virtualized" style="font-size: 14px; line-height: 19px;"><pre class="lazy-gutter"></pre><pre class="monaco-colorized colab colab colab colab" data-lang="notebook-python"><span><span class="mtk1">model.save(</span><span class="mtk26">'rose.h5'</span><span class="mtk1">)</span></span><br></pre></pre></div><colab-form class="formview vertical layout flex"><div class="widget-area vertical layout"></div></colab-form></div><div class="output"><div class="output-header"></div><div class="output-content" style="display: none;"><div class="output-info"></div><div class="output-iframe-container"><div class="output-iframe-sizer"></div></div></div></div></div></div><div class="add-cell">
             <div class="add-cell-buttons">
               <colab-toolbar-button class="add-code add-button" icon="icons:add" title="Add code cell
Ctrl+M B">
                 <!--?lit$12532914$-->Code
               </colab-toolbar-button>
               <colab-toolbar-button class="add-text add-button" icon="icons:add" title="Add text cell">
                 <!--?lit$12532914$-->Text
               </colab-toolbar-button>
             </div><hr>
           </div></div><div class="cell text" id="cell-kCbufzvn55Cm" tabindex="-1" style=""><div class="cell-toolbar sticky"></div><div class="main-content" elevation="0"><div class="cell-mask"></div><span class="imported-info-area"></span><div class="toolbar-root"></div><div class="editor-container horizontal"><div class="editor-root"></div><div class="text-top-div"><div class="markdown"><span><h1 class="text-cell-section-header"><paper-icon-button class="header-section-toggle" icon="arrow-drop-down" noink="" role="button" tabindex="0" aria-disabled="false" title="Collapse 4 child cells under this section header (Press &lt;Shift&gt; to also collapse sibling sections)"></paper-icon-button>7.  Test The Model</h1>
</span></div></div></div><div class="section-header" style="display: none;"><colab-run-button role="button" aria-label="Run cell"></colab-run-button><div class="section-header-container" title="click to expand">↳ 4 cells hidden</div></div></div><div class="add-cell">
             <div class="add-cell-buttons">
               <colab-toolbar-button class="add-code add-button" icon="icons:add" title="Add code cell
Ctrl+M B">
                 <!--?lit$12532914$-->Code
               </colab-toolbar-button>
               <colab-toolbar-button class="add-text add-button" icon="icons:add" title="Add text cell">
                 <!--?lit$12532914$-->Text
               </colab-toolbar-button>
             </div><hr>
           </div></div><div class="cell code icon-scrolling" id="cell-j52-aa5l56Nx" tabindex="-1" style=""><div class="cell-toolbar sticky"></div><div class="main-content" elevation="0"><div class="cell-mask"></div><span class="imported-info-area"></span><div class="codecell-input-output"><div class="inputarea horizontal layout code"><div class="cell-gutter"><!-- Bounding range for vertical scrolling of icons --><div class="cell-execution-container"><colab-run-button title="Run cell (Ctrl+Enter)
cell has not been executed in this session" role="button" aria-label="Run cell"></colab-run-button></div></div><div class="editor flex lazy-editor" style=""><pre class="lazy-virtualized" style="font-size: 14px; line-height: 19px;"><pre class="lazy-gutter"></pre><pre class="monaco-colorized colab colab colab colab" data-lang="notebook-python"><span><span class="mtk18">from</span><span class="mtk1">&nbsp;tensorflow.keras.preprocessing&nbsp;</span><span class="mtk18">import</span><span class="mtk1">&nbsp;image</span></span><br><span><span class="mtk18">import</span><span class="mtk1">&nbsp;numpy&nbsp;</span><span class="mtk18">as</span><span class="mtk1">&nbsp;np</span></span><br><span><span class="mtk18">import</span><span class="mtk1">&nbsp;matplotlib.pyplot&nbsp;</span><span class="mtk18">as</span><span class="mtk1">&nbsp;plt</span></span><br></pre></pre></div><colab-form class="formview vertical layout flex"><div class="widget-area vertical layout"></div></colab-form></div><div class="output"><div class="output-header"></div><div class="output-content" style="display: none;"><div class="output-info"></div><div class="output-iframe-container"><div class="output-iframe-sizer"></div></div></div></div></div></div><div class="add-cell">
             <div class="add-cell-buttons">
               <colab-toolbar-button class="add-code add-button" icon="icons:add" title="Add code cell
Ctrl+M B">
                 <!--?lit$12532914$-->Code
               </colab-toolbar-button>
               <colab-toolbar-button class="add-text add-button" icon="icons:add" title="Add text cell">
                 <!--?lit$12532914$-->Text
               </colab-toolbar-button>
             </div><hr>
           </div></div><div class="cell code code-has-output icon-scrolling" id="cell-pO4Ep-7r58wQ" tabindex="-1" style=""><div class="cell-toolbar sticky"></div><div class="main-content" elevation="0"><div class="cell-mask"></div><span class="imported-info-area"></span><div class="codecell-input-output"><div class="inputarea horizontal layout code"><div class="cell-gutter"><!-- Bounding range for vertical scrolling of icons --><div class="cell-execution-container"><colab-run-button title="Run cell (Ctrl+Enter)
cell has not been executed in this session

executed by PRASANNA PRIADARSAN M
Saturday, 8 October 2022 (7 days ago)
executed in 0.008 s" role="button" aria-label="Run cell"></colab-run-button></div></div><div class="editor flex lazy-editor" style=""><pre class="lazy-virtualized" style="font-size: 14px; line-height: 19px;"><pre class="lazy-gutter"></pre><pre class="monaco-colorized colab colab colab colab" data-lang="notebook-python"><span><span class="mtk8">#testing&nbsp;1</span></span><br><span><span class="mtk1">img&nbsp;=&nbsp;image.load_img(</span><span class="mtk26">'/content/flowers/sunflower/12471443383_b71e7a7480</span><span class="mtk26">_m.jpg'</span><span class="mtk1">,target_size=(</span><span class="mtk11">64</span><span class="mtk1">,</span><span class="mtk11">64</span><span class="mtk1">))&nbsp;</span><span class="mtk8">#&nbsp;Reading&nbsp;image</span></span><br><span><span class="mtk1">x&nbsp;=&nbsp;image.img_to_array(img)&nbsp;</span><span class="mtk8">#&nbsp;Converting&nbsp;image&nbsp;into&nbsp;array</span></span><br><span><span class="mtk1">x&nbsp;=&nbsp;np.expand_dims(x,axis=</span><span class="mtk11">0</span><span class="mtk1">)&nbsp;</span><span class="mtk8">#&nbsp;expanding&nbsp;Dimensions</span></span><br><span><span class="mtk1">pred&nbsp;=&nbsp;np.argmax(model.predict(x))&nbsp;</span><span class="mtk8">#&nbsp;Predicting&nbsp;the&nbsp;higher&nbsp;probablity&nbsp;index</span></span><br><span><span class="mtk1">op&nbsp;=&nbsp;[</span><span class="mtk26">'daisy'</span><span class="mtk1">,</span><span class="mtk26">'dandelion'</span><span class="mtk1">,</span><span class="mtk26">'rose'</span><span class="mtk1">,</span><span class="mtk26">'sunflower'</span><span class="mtk1">,</span><span class="mtk26">'tulip'</span><span class="mtk1">]&nbsp;</span><span class="mtk8">#&nbsp;Creating&nbsp;list</span></span><br><span><span class="mtk1">op[pred]&nbsp;</span><span class="mtk8">#&nbsp;List&nbsp;indexing&nbsp;with&nbsp;output</span></span><br></pre></pre></div><colab-form class="formview vertical layout flex"><div class="widget-area vertical layout"></div></colab-form></div><div class="output"><div class="output-header"></div><div class="output-content"><div class="output-info"><div class="output-icon z_index_b247858193 clear_outputs_enabled output-icon-selected" title="Clear output

executed by PRASANNA PRIADARSAN M
Saturday, 8 October 2022 (7 days ago)
executed in 0.008 s"><iron-icon class="collaborator collaborator-img-me collaborator-img-selected"></iron-icon>
          <iron-icon icon="icons:cancel" command="clear-focused-or-selected-outputs">
          </iron-icon>
        </div></div><div class="output-iframe-container"><div class="output-iframe-sizer"><div style=""><div class="outputview" style="height: 35px;"><colab-dom-lifecycle-events></colab-dom-lifecycle-events><iframe allow="" sandbox="allow-downloads allow-forms allow-pointer-lock allow-popups allow-same-origin allow-scripts allow-popups-to-escape-sandbox" src="./Assignment_3_files/outputframe.html" class="" style="height: 35px;"></iframe></div></div></div></div></div></div></div></div><div class="add-cell">
             <hr>
           </div></div><div class="cell code code-has-output icon-scrolling" id="cell-3cUup1eq6CSF" tabindex="-1" style=""><div class="cell-toolbar sticky"></div><div class="main-content" elevation="0"><div class="cell-mask"></div><span class="imported-info-area"></span><div class="codecell-input-output"><div class="inputarea horizontal layout code"><div class="cell-gutter"><!-- Bounding range for vertical scrolling of icons --><div class="cell-execution-container"><colab-run-button title="Run cell (Ctrl+Enter)
cell has not been executed in this session

executed by PRASANNA PRIADARSAN M
Saturday, 8 October 2022 (7 days ago)
executed in 1.158 s" role="button" aria-label="Run cell"></colab-run-button></div></div><div class="editor flex lazy-editor" style=""><pre class="lazy-virtualized" style="font-size: 14px; line-height: 19px;"><pre class="lazy-gutter"></pre><pre class="monaco-colorized colab colab colab colab" data-lang="notebook-python"><span><span class="mtk1">img&nbsp;=&nbsp;image.load_img(</span><span class="mtk26">'/content/flowers/sunflower/12471443383_b71e7a7480</span><span class="mtk26">_m.jpg'</span><span class="mtk1">,target_size=(</span><span class="mtk11">1024</span><span class="mtk1">,</span><span class="mtk11">1024</span><span class="mtk1">))</span></span><br><span><span class="mtk1">plt.imshow(img)</span></span><br></pre></pre></div><colab-form class="formview vertical layout flex"><div class="widget-area vertical layout"></div></colab-form></div><div class="output"><div class="output-header"></div><div class="output-content"><div class="output-info"><div class="output-icon z_index_b247858193 clear_outputs_enabled output-icon-selected" title="Clear output

executed by PRASANNA PRIADARSAN M
Saturday, 8 October 2022 (7 days ago)
executed in 1.158 s"><iron-icon class="collaborator collaborator-img-me collaborator-img-selected"></iron-icon>
          <iron-icon icon="icons:cancel" command="clear-focused-or-selected-outputs">
          </iron-icon>
        </div></div><div class="output-iframe-container"><div class="output-iframe-sizer"><div style=""><div class="outputview" style="height: 286px;"><colab-dom-lifecycle-events></colab-dom-lifecycle-events><iframe allow="" sandbox="allow-downloads allow-forms allow-pointer-lock allow-popups allow-same-origin allow-scripts allow-popups-to-escape-sandbox" src="./Assignment_3_files/outputframe(1).html" class="" style="height: 286px;"></iframe></div></div></div></div></div></div></div></div><div class="add-cell">
             <hr>
           </div></div><div class="cell code code-has-output icon-scrolling" id="cell-x1ip9vEy6FQd" tabindex="-1" style=""><div class="cell-toolbar sticky"></div><div class="main-content" elevation="0"><div class="cell-mask"></div><span class="imported-info-area"></span><div class="codecell-input-output"><div class="inputarea horizontal layout code"><div class="cell-gutter"><!-- Bounding range for vertical scrolling of icons --><div class="cell-execution-container"><colab-run-button title="Run cell (Ctrl+Enter)
cell has not been executed in this session

executed by PRASANNA PRIADARSAN M
Saturday, 8 October 2022 (7 days ago)
executed in 1.21 s" role="button" aria-label="Run cell"></colab-run-button></div></div><div class="editor flex lazy-editor" style=""><pre class="lazy-virtualized" style="font-size: 14px; line-height: 19px;"><pre class="lazy-gutter"></pre><pre class="monaco-colorized colab colab colab colab" data-lang="notebook-python"><span><span class="mtk1">img&nbsp;=&nbsp;image.load_img(</span><span class="mtk26">'/content/flowers/rose/14145188939_b4de638bd3_n.jp</span><span class="mtk26">g'</span><span class="mtk1">,target_size=(</span><span class="mtk11">1024</span><span class="mtk1">,</span><span class="mtk11">1024</span><span class="mtk1">))</span></span><br><span><span class="mtk1">plt.imshow(img)</span></span><br></pre></pre></div><colab-form class="formview vertical layout flex"><div class="widget-area vertical layout"></div></colab-form></div><div class="output"><div class="output-header"></div><div class="output-content"><div class="output-info"><div class="output-icon z_index_b247858193 clear_outputs_enabled output-icon-selected" title="Clear output

executed by PRASANNA PRIADARSAN M
Saturday, 8 October 2022 (7 days ago)
executed in 1.21 s"><iron-icon class="collaborator collaborator-img-me collaborator-img-selected"></iron-icon>
          <iron-icon icon="icons:cancel" command="clear-focused-or-selected-outputs">
          </iron-icon>
        </div></div><div class="output-iframe-container"><div class="output-iframe-sizer"><div style=""><div class="outputview" style="height: 286px;"><colab-dom-lifecycle-events></colab-dom-lifecycle-events><iframe allow="" sandbox="allow-downloads allow-forms allow-pointer-lock allow-popups allow-same-origin allow-scripts allow-popups-to-escape-sandbox" src="./Assignment_3_files/outputframe(2).html" class="" style="height: 286px;"></iframe></div></div></div></div></div></div></div></div><div class="add-cell">
             <hr>
           </div></div></div>
          </div>
        </div>
      <div class="sidebar" style="display: none;"></div></div>
      <!--?lit$12532914$-->
        <div class="footer-links">
          <a target="_blank" href="https://colab.research.google.com/signup?utm_source=footer&amp;utm_medium=link&amp;utm_campaign=footer_links">
            <!--?lit$12532914$-->Colab paid products
          </a>
          -
          <a href="https://colab.research.google.com/cancel-subscription" target="_blank">
            <!--?lit$12532914$-->Cancel contracts here
          </a>
        </div>
    </colab-shaded-scroller>
    <div class="notebook-scroll-shadow" style=""></div>
  </div></colab-tab></div>
  </div></colab-tab-pane>
      <colab-resizer style="height: 33.3%" class="sn-resize no-tabs"><div class="resizer-thumb"></div>
        <!--?lit$12532914$--><colab-tab-pane class="layout vertical grow no-tabs" align="horizontal"><!---->
  <div class="layout vertical grow">
    <div class="tab-pane-header layout horizontal noshrink">
      <paper-tabs selected="0" noink="" class="layout grow" scrollable="" role="tablist" tabindex="0" dir="null">
      </paper-tabs>
      <!--?lit$12532914$-->
    <paper-icon-button icon="icons:more-horiz" title="Show more" role="button" tabindex="0" aria-disabled="false">
    </paper-icon-button>
    </div>
    <div class="layout vertical grow tab-pane-container">
    </div>
  </div></colab-tab-pane>
      </colab-resizer>
      </div>
      <colab-resizer style="width: 37%" class="we-resize no-tabs"><div class="resizer-thumb"></div>
        <!--?lit$12532914$-->
      <div class="layout vertical tab-pane-parent">
      <!--?lit$12532914$--><colab-tab-pane class="layout vertical grow no-tabs" align="horizontal"><!---->
  <div class="layout vertical grow">
    <div class="tab-pane-header layout horizontal noshrink">
      <paper-tabs selected="0" noink="" class="layout grow" scrollable="" role="tablist" tabindex="0" dir="null">
      </paper-tabs>
      <!--?lit$12532914$-->
    <paper-icon-button icon="icons:more-horiz" title="Show more" role="button" tabindex="0" aria-disabled="false">
    </paper-icon-button>
    </div>
    <div class="layout vertical grow tab-pane-container">
    </div>
  </div></colab-tab-pane>
      <colab-resizer style="height: 33.3%" class="sn-resize no-tabs"><div class="resizer-thumb"></div>
        <!--?lit$12532914$--><colab-tab-pane class="layout vertical grow no-tabs" align="horizontal"><!---->
  <div class="layout vertical grow">
    <div class="tab-pane-header layout horizontal noshrink">
      <paper-tabs selected="0" noink="" class="layout grow" scrollable="" role="tablist" tabindex="0" dir="null">
      </paper-tabs>
      <!--?lit$12532914$-->
    <paper-icon-button icon="icons:more-horiz" title="Show more" role="button" tabindex="0" aria-disabled="false">
    </paper-icon-button>
    </div>
    <div class="layout vertical grow tab-pane-container">
    </div>
  </div></colab-tab-pane>
      </colab-resizer>
      </div>
      </colab-resizer>
      </div></colab-tab-layout-container>
      </div>
      <div class="proxies"><div><colab-dom-lifecycle-events></colab-dom-lifecycle-events><iframe allow="" sandbox="allow-downloads allow-forms allow-pointer-lock allow-popups allow-same-origin allow-scripts allow-popups-to-escape-sandbox" src="./Assignment_3_files/outputframe(3).html" style="width: 1px; height: 1px; position: absolute; top: -100px;"></iframe></div><div><colab-dom-lifecycle-events></colab-dom-lifecycle-events><iframe allow="accelerometer; autoplay; camera; gyroscope; magnetometer; microphone; serial; usb; xr-spatial-tracking; clipboard-write" sandbox="allow-downloads allow-forms allow-pointer-lock allow-popups allow-same-origin allow-scripts allow-popups-to-escape-sandbox" src="./Assignment_3_files/outputframe(4).html" style="width: 1px; height: 1px; position: absolute; top: -100px;"></iframe></div></div>
    <colab-file-viewer-manager></colab-file-viewer-manager></div>
  <colab-status-bar style="min-height: inherit;"></colab-status-bar></div><div class="goog-menu" id="file-menu" role="menu" aria-haspopup="true" style="display: none; user-select: none;"><!--?lit$12532914$--><!--?lit$12532914$--><div command="locate-in-drive" class="goog-menuitem  " role="menuitem" id=":3" style="user-select: none;"><div class="goog-menuitem-content" style="user-select: none;"><!--?lit$12532914$-->Locate in Drive</div></div><div command="open-in-playground" class="goog-menuitem  " role="menuitem" id=":4" style="user-select: none;"><div class="goog-menuitem-content" style="user-select: none;"><!--?lit$12532914$-->Open in playground mode</div></div><!--?--><div class="goog-menuseparator goog-menuitem-disabled" aria-disabled="true" role="separator" id=":5" style="user-select: none;"></div><!--?lit$12532914$--><div command="new" class="goog-menuitem  " role="menuitem" id=":6" style="user-select: none;"><div class="goog-menuitem-content" style="user-select: none;"><!--?lit$12532914$-->New notebook</div></div><div command="open" class="goog-menuitem  " role="menuitem" id=":7" style="user-select: none;"><div class="goog-menuitem-content" style="user-select: none;"><!--?lit$12532914$-->Open notebook</div></div><div command="import-notebook" class="goog-menuitem  " role="menuitem" id=":8" style="user-select: none;"><div class="goog-menuitem-content" style="user-select: none;"><!--?lit$12532914$-->Upload notebook</div></div><!--?--><div class="goog-menuseparator goog-menuitem-disabled" aria-disabled="true" role="separator" id=":9" style="user-select: none;"></div><!--?lit$12532914$--><div command="rename" class="goog-menuitem  " role="menuitem" id=":a" style="user-select: none;"><div class="goog-menuitem-content" style="user-select: none;"><!--?lit$12532914$-->Rename</div></div><div command="move-notebook" class="goog-menuitem  " role="menuitem" id=":b" style="user-select: none;"><div class="goog-menuitem-content" style="user-select: none;"><!--?lit$12532914$-->Move</div></div><div command="trash" class="goog-menuitem  " role="menuitem" id=":c" style="user-select: none;"><div class="goog-menuitem-content" style="user-select: none;"><!--?lit$12532914$-->Move to the bin</div></div><!--?--><div class="goog-menuseparator goog-menuitem-disabled" aria-disabled="true" role="separator" id=":d" style="user-select: none;"></div><!--?lit$12532914$--><div command="clone" class="goog-menuitem  " role="menuitem" id=":e" style="user-select: none;"><div class="goog-menuitem-content" style="user-select: none;"><!--?lit$12532914$-->Save a copy in Drive</div></div><div command="copy-to-gist" class="goog-menuitem  " role="menuitem" id=":f" style="user-select: none;"><div class="goog-menuitem-content" style="user-select: none;"><!--?lit$12532914$-->Save a copy as a GitHub Gist</div></div><div command="copy-to-github" class="goog-menuitem  " role="menuitem" id=":g" style="user-select: none;"><div class="goog-menuitem-content" style="user-select: none;"><!--?lit$12532914$-->Save a copy in GitHub</div></div><!--?--><div class="goog-menuseparator goog-menuitem-disabled" aria-disabled="true" role="separator" id=":h" style="user-select: none;"></div><!--?lit$12532914$--><div command="save" class="goog-menuitem  " role="menuitem" id=":i" style="user-select: none;"><div class="goog-menuitem-content" style="user-select: none;"><!--?lit$12532914$-->Save</div></div><div command="save-and-checkpoint" class="goog-menuitem  " role="menuitem" id=":j" style="user-select: none;"><div class="goog-menuitem-content" style="user-select: none;"><!--?lit$12532914$-->Save and pin revision</div></div><div command="show-history" class="goog-menuitem  " role="menuitem" id=":k" style="user-select: none;"><div class="goog-menuitem-content" style="user-select: none;"><!--?lit$12532914$-->Revision history</div></div><!--?--><div class="goog-menuseparator goog-menuitem-disabled" aria-disabled="true" role="separator" id=":l" style="user-select: none;"></div><!--?lit$12532914$--><div class="goog-submenu goog-menuitem" id="download-submenu-menu-button" role="menuitem" aria-haspopup="true" style="user-select: none;"><div class="goog-menuitem-content" style="user-select: none;">
                <!--?lit$12532914$-->Download
              <span class="goog-submenu-arrow" style="user-select: none;">►</span></div></div><div command="print" class="goog-menuitem  " role="menuitem" id=":p" style="user-select: none;"><div class="goog-menuitem-content" style="user-select: none;"><!--?lit$12532914$-->Print</div></div><!--?--></div><div class="goog-menu" id="download-submenu-menu" role="menu" aria-haspopup="true" style="display: none; user-select: none;"><!--?lit$12532914$--><!--?lit$12532914$--><div command="download-ipynb" class="goog-menuitem  " role="menuitem" id=":n" style="user-select: none;"><div class="goog-menuitem-content" style="user-select: none;"><!--?lit$12532914$-->Download .ipynb</div></div><div command="download-python" class="goog-menuitem  " role="menuitem" id=":o" style="user-select: none;"><div class="goog-menuitem-content" style="user-select: none;"><!--?lit$12532914$-->Download .py</div></div><!--?--></div><div class="goog-menu" id="edit-menu" role="menu" aria-haspopup="true" style="display: none; user-select: none;"><!--?lit$12532914$--><!--?lit$12532914$--><div command="undo" class="goog-menuitem  " role="menuitem" id=":r" style="user-select: none;"><div class="goog-menuitem-content" style="user-select: none;"><!--?lit$12532914$-->Undo</div></div><div command="redo" class="goog-menuitem  " role="menuitem" id=":s" style="user-select: none;"><div class="goog-menuitem-content" style="user-select: none;"><!--?lit$12532914$-->Redo</div></div><!--?--><div class="goog-menuseparator goog-menuitem-disabled" aria-disabled="true" role="separator" id=":t" style="user-select: none;"></div><!--?lit$12532914$--><div command="select-all" class="goog-menuitem  " role="menuitem" id=":u" style="user-select: none;"><div class="goog-menuitem-content" style="user-select: none;"><!--?lit$12532914$-->Select all cells</div></div><div command="cut" class="goog-menuitem  " role="menuitem" id=":v" style="user-select: none;"><div class="goog-menuitem-content" style="user-select: none;"><!--?lit$12532914$-->Cut cell or selection</div></div><div command="copy" class="goog-menuitem  " role="menuitem" id=":w" style="user-select: none;"><div class="goog-menuitem-content" style="user-select: none;"><!--?lit$12532914$-->Copy cell or selection</div></div><div command="paste" class="goog-menuitem  " role="menuitem" id=":x" style="user-select: none;"><div class="goog-menuitem-content" style="user-select: none;"><!--?lit$12532914$-->Paste</div></div><div command="delete-cell-or-selection" class="goog-menuitem  " role="menuitem" id=":y" style="user-select: none;"><div class="goog-menuitem-content" style="user-select: none;"><!--?lit$12532914$-->Delete selected cells</div></div><!--?--><div class="goog-menuseparator goog-menuitem-disabled" aria-disabled="true" role="separator" id=":z" style="user-select: none;"></div><!--?lit$12532914$--><div command="find" class="goog-menuitem  " role="menuitem" id=":10" style="user-select: none;"><div class="goog-menuitem-content" style="user-select: none;"><!--?lit$12532914$-->Find and replace</div></div><div command="find-next" class="goog-menuitem  " role="menuitem" id=":11" style="user-select: none;"><div class="goog-menuitem-content" style="user-select: none;"><!--?lit$12532914$-->Find next</div></div><div command="find-previous" class="goog-menuitem  " role="menuitem" id=":12" style="user-select: none;"><div class="goog-menuitem-content" style="user-select: none;"><!--?lit$12532914$-->Find previous</div></div><!--?--><div class="goog-menuseparator goog-menuitem-disabled" aria-disabled="true" role="separator" id=":13" style="user-select: none;"></div><!--?lit$12532914$--><div command="notebook-settings" class="goog-menuitem  " role="menuitem" id=":14" style="user-select: none;"><div class="goog-menuitem-content" style="user-select: none;"><!--?lit$12532914$-->Notebook settings</div></div><!--?--><div class="goog-menuseparator goog-menuitem-disabled" aria-disabled="true" role="separator" id=":15" style="user-select: none;"></div><!--?lit$12532914$--><div command="clear-outputs" class="goog-menuitem  " role="menuitem" id=":16" style="user-select: none;"><div class="goog-menuitem-content" style="user-select: none;"><!--?lit$12532914$-->Clear all outputs</div></div><!--?--></div><div class="goog-menu" id="view-menu" role="menu" aria-haspopup="true" style="display: none; user-select: none;"><!--?lit$12532914$--><!--?lit$12532914$--><div command="show-toc-pane" class="goog-menuitem goog-option" role="menuitemcheckbox" aria-checked="false" id=":18" style="user-select: none;"><div class="goog-menuitem-content" style="user-select: none;"><div class="goog-menuitem-checkbox" style="user-select: none;"><iron-icon></iron-icon></div><!--?lit$12532914$-->Table of contents</div></div><div command="show-fileinfo" class="goog-menuitem  " role="menuitem" id=":19" style="user-select: none;"><div class="goog-menuitem-content" style="user-select: none;"><!--?lit$12532914$-->Notebook info</div></div><div command="show-executedcode" class="goog-menuitem  " role="menuitem" id=":1a" style="user-select: none;"><div class="goog-menuitem-content" style="user-select: none;"><!--?lit$12532914$-->Executed code history</div></div><div command="toggle-comments-visibility" class="goog-menuitem goog-option" role="menuitemcheckbox" aria-checked="false" id=":1b" style="user-select: none;"><div class="goog-menuitem-content" style="user-select: none;"><div class="goog-menuitem-checkbox" style="user-select: none;"><iron-icon></iron-icon></div><!--?lit$12532914$-->Comments sidebar</div></div><!--?--><div class="goog-menuseparator goog-menuitem-disabled" aria-disabled="true" role="separator" id=":1c" style="user-select: none;"></div><!--?lit$12532914$--><div command="collapse-sections" class="goog-menuitem  " role="menuitem" id=":1d" style="user-select: none;"><div class="goog-menuitem-content" style="user-select: none;"><!--?lit$12532914$-->Collapse sections</div></div><div command="expand-sections" class="goog-menuitem  " role="menuitem" id=":1e" style="user-select: none;"><div class="goog-menuitem-content" style="user-select: none;"><!--?lit$12532914$-->Expand sections</div></div><div command="save-section-layout" class="goog-menuitem  " role="menuitem" id=":1f" style="user-select: none;"><div class="goog-menuitem-content" style="user-select: none;"><!--?lit$12532914$-->Save collapsed section layout</div></div><!--?--><div class="goog-menuseparator goog-menuitem-disabled" aria-disabled="true" role="separator" id=":1g" style="user-select: none;"></div><!--?lit$12532914$--><div command="hide-code" class="goog-menuitem  " role="menuitem" id=":1h" style="user-select: none;"><div class="goog-menuitem-content" style="user-select: none;"><!--?lit$12532914$-->Show/hide code</div></div><div command="toggle-output" class="goog-menuitem  " role="menuitem" id=":1i" style="user-select: none;"><div class="goog-menuitem-content" style="user-select: none;"><!--?lit$12532914$-->Show/hide output</div></div><!--?--><div class="goog-menuseparator goog-menuitem-disabled" aria-disabled="true" role="separator" id=":1j" style="user-select: none;"></div><!--?lit$12532914$--><div command="focus-next-tab" class="goog-menuitem  " role="menuitem" id=":1k" style="user-select: none;"><div class="goog-menuitem-content" style="user-select: none;"><!--?lit$12532914$-->Focus next tab</div></div><div command="focus-previous-tab" class="goog-menuitem  " role="menuitem" id=":1l" style="user-select: none;"><div class="goog-menuitem-content" style="user-select: none;"><!--?lit$12532914$-->Focus previous tab</div></div><div command="move-tab-to-next" class="goog-menuitem  " role="menuitem" id=":1m" style="user-select: none;"><div class="goog-menuitem-content" style="user-select: none;"><!--?lit$12532914$-->Move tab to next pane</div></div><div command="move-tab-to-prev" class="goog-menuitem  " role="menuitem" id=":1n" style="user-select: none;"><div class="goog-menuitem-content" style="user-select: none;"><!--?lit$12532914$-->Move tab to previous pane</div></div><!--?--></div><div class="goog-menu" id="insert-menu" role="menu" aria-haspopup="true" style="display: none; user-select: none;"><!--?lit$12532914$--><!--?lit$12532914$--><div command="insert-cell-below" class="goog-menuitem  " role="menuitem" id=":1p" style="user-select: none;"><div class="goog-menuitem-content" style="user-select: none;"><!--?lit$12532914$-->Code cell</div></div><div command="add-text" class="goog-menuitem  " role="menuitem" id=":1q" style="user-select: none;"><div class="goog-menuitem-content" style="user-select: none;"><!--?lit$12532914$-->Text cell</div></div><div command="add-section-header" class="goog-menuitem  " role="menuitem" id=":1r" style="user-select: none;"><div class="goog-menuitem-content" style="user-select: none;"><!--?lit$12532914$-->Section header cell</div></div><!--?--><div class="goog-menuseparator goog-menuitem-disabled" aria-disabled="true" role="separator" id=":1s" style="user-select: none;"></div><!--?lit$12532914$--><div command="open-scratch-code-cell" class="goog-menuitem  " role="menuitem" id=":1t" style="user-select: none;"><div class="goog-menuitem-content" style="user-select: none;"><!--?lit$12532914$-->Scratch code cell</div></div><div command="snippets" class="goog-menuitem  " role="menuitem" id=":1u" style="user-select: none;"><div class="goog-menuitem-content" style="user-select: none;"><!--?lit$12532914$-->Code snippets</div></div><!--?--><div class="goog-menuseparator goog-menuitem-disabled" aria-disabled="true" role="separator" id=":1v" style="user-select: none;"></div><!--?lit$12532914$--><div command="add-form-field" class="goog-menuitem  " role="menuitem" id=":1w" style="user-select: none;"><div class="goog-menuitem-content" style="user-select: none;"><!--?lit$12532914$-->Add a form field</div></div><!--?--></div><div class="goog-menu" id="runtime-menu" role="menu" aria-haspopup="true" style="display: none; user-select: none;"><!--?lit$12532914$--><!--?lit$12532914$--><div command="runall" class="goog-menuitem  " role="menuitem" id=":1y" style="user-select: none;"><div class="goog-menuitem-content" style="user-select: none;"><!--?lit$12532914$-->Run all</div></div><div command="runbefore" class="goog-menuitem  " role="menuitem" id=":1z" style="user-select: none;"><div class="goog-menuitem-content" style="user-select: none;"><!--?lit$12532914$-->Run before</div></div><div command="runfocused" class="goog-menuitem  " role="menuitem" id=":20" style="user-select: none;"><div class="goog-menuitem-content" style="user-select: none;"><!--?lit$12532914$-->Run the focused cell</div></div><div command="runselected" class="goog-menuitem  " role="menuitem" id=":21" style="user-select: none;"><div class="goog-menuitem-content" style="user-select: none;"><!--?lit$12532914$-->Run selection</div></div><div command="runafter" class="goog-menuitem  " role="menuitem" id=":22" style="user-select: none;"><div class="goog-menuitem-content" style="user-select: none;"><!--?lit$12532914$-->Run after</div></div><!--?--><div class="goog-menuseparator goog-menuitem-disabled" aria-disabled="true" role="separator" id=":23" style="user-select: none;"></div><!--?lit$12532914$--><div command="interrupt" class="goog-menuitem  " role="menuitem" id=":24" style="user-select: none;"><div class="goog-menuitem-content" style="user-select: none;"><!--?lit$12532914$-->Interrupt execution</div></div><div command="restart" class="goog-menuitem  " role="menuitem" id=":25" style="user-select: none;"><div class="goog-menuitem-content" style="user-select: none;"><!--?lit$12532914$-->Restart runtime</div></div><div command="restart-and-run-all" class="goog-menuitem  " role="menuitem" id=":26" style="user-select: none;"><div class="goog-menuitem-content" style="user-select: none;"><!--?lit$12532914$-->Restart and run all</div></div><div command="powerwash-current-vm" class="goog-menuitem  " role="menuitem" id=":27" style="user-select: none;"><div class="goog-menuitem-content" style="user-select: none;"><!--?lit$12532914$-->Disconnect and delete runtime</div></div><!--?--><div class="goog-menuseparator goog-menuitem-disabled" aria-disabled="true" role="separator" id=":28" style="user-select: none;"></div><!--?lit$12532914$--><div command="change-runtime-type" class="goog-menuitem  " role="menuitem" id=":29" style="user-select: none;"><div class="goog-menuitem-content" style="user-select: none;"><!--?lit$12532914$-->Change runtime type</div></div><!--?--><div class="goog-menuseparator goog-menuitem-disabled" aria-disabled="true" role="separator" id=":2a" style="user-select: none;"></div><!--?lit$12532914$--><div command="manage-sessions" class="goog-menuitem  " role="menuitem" id=":2b" style="user-select: none;"><div class="goog-menuitem-content" style="user-select: none;"><!--?lit$12532914$-->Manage sessions</div></div><div command="view-runtime-logs" class="goog-menuitem  " role="menuitem" id=":2c" style="user-select: none;"><div class="goog-menuitem-content" style="user-select: none;"><!--?lit$12532914$-->View runtime logs</div></div><!--?--></div><div class="goog-menu" id="tools-menu" role="menu" aria-haspopup="true" style="display: none; user-select: none;"><!--?lit$12532914$--><!--?lit$12532914$--><div command="show-command-palette" class="goog-menuitem  " role="menuitem" id=":2e" style="user-select: none;"><div class="goog-menuitem-content" style="user-select: none;"><!--?lit$12532914$-->Command palette</div></div><!--?--><div class="goog-menuseparator goog-menuitem-disabled" aria-disabled="true" role="separator" id=":2f" style="user-select: none;"></div><!--?lit$12532914$--><div command="preferences" class="goog-menuitem  " role="menuitem" id=":2g" style="user-select: none;"><div class="goog-menuitem-content" style="user-select: none;"><!--?lit$12532914$-->Settings</div></div><div command="shortcuts" class="goog-menuitem  " role="menuitem" id=":2h" style="user-select: none;"><div class="goog-menuitem-content" style="user-select: none;"><!--?lit$12532914$-->Keyboard shortcuts</div></div><!--?--><div class="goog-menuseparator goog-menuitem-disabled" aria-disabled="true" role="separator" id=":2i" style="user-select: none;"></div><!--?lit$12532914$--><div command="open-differ" class="goog-menuitem  " role="menuitem" id=":2j" style="user-select: none;"><div class="goog-menuitem-content" style="user-select: none;"><!--?lit$12532914$-->Diff notebooks</div></div><!--?--></div><div class="goog-menu" id="help-menu" role="menu" aria-haspopup="true" style="display: none; user-select: none;"><!--?lit$12532914$--><!--?lit$12532914$--><div command="faq" class="goog-menuitem  " role="menuitem" id=":2l" style="user-select: none;"><div class="goog-menuitem-content" style="user-select: none;"><!--?lit$12532914$-->Frequently asked questions</div></div><div command="view-relnotes" class="goog-menuitem  " role="menuitem" id=":2m" style="user-select: none;"><div class="goog-menuitem-content" style="user-select: none;"><!--?lit$12532914$-->View release notes</div></div><div command="snippets" class="goog-menuitem  " role="menuitem" id=":2n" style="user-select: none;"><div class="goog-menuitem-content" style="user-select: none;"><!--?lit$12532914$-->Search code snippets</div></div><!--?--><div class="goog-menuseparator goog-menuitem-disabled" aria-disabled="true" role="separator" id=":2o" style="user-select: none;"></div><!--?lit$12532914$--><div command="report-bug" class="goog-menuitem  " role="menuitem" id=":2p" style="user-select: none;"><div class="goog-menuitem-content" style="user-select: none;"><!--?lit$12532914$-->Report a bug</div></div><div command="report-abuse" class="goog-menuitem  " role="menuitem" id=":2q" style="user-select: none;"><div class="goog-menuitem-content" style="user-select: none;"><!--?lit$12532914$-->Report Drive abuse</div></div><div command="send-feedback" class="goog-menuitem  " role="menuitem" id=":2r" style="user-select: none;"><div class="goog-menuitem-content" style="user-select: none;"><!--?lit$12532914$-->Send feedback</div></div><div command="view-in-english" class="goog-menuitem  " role="menuitem" id=":2s" style="user-select: none;"><div class="goog-menuitem-content" style="user-select: none;"><!--?lit$12532914$-->View in English</div></div><!--?--></div><div class="doc-comments-area" style="display: none;"><div class="doc-comments-buttons"><paper-button command="add-comment" role="button" tabindex="0" animated="" elevation="0" aria-disabled="false"><iron-icon icon="editor:insert-comment"></iron-icon> Add a comment</paper-button></div></div><div class="thumbnail"></div><iframe id="apiproxy8146fb4b38e46942ba13e68d3946e77151f0f19f0.3876183023" name="apiproxy8146fb4b38e46942ba13e68d3946e77151f0f19f0.3876183023" src="./Assignment_3_files/proxy.html" tabindex="-1" aria-hidden="true" style="width: 1px; height: 1px; position: absolute; top: -100px; display: none;"></iframe><div class="monaco-aria-container"><div class="monaco-alert" role="alert" aria-atomic="true"></div><div class="monaco-alert" role="alert" aria-atomic="true"></div><div class="monaco-status" role="complementary" aria-live="polite" aria-atomic="true"></div><div class="monaco-status" role="complementary" aria-live="polite" aria-atomic="true"></div></div><div><div class="grecaptcha-badge" data-style="bottomright" style="width: 256px; height: 60px; position: fixed; visibility: hidden; display: block; transition: right 0.3s ease 0s; bottom: 14px; right: -186px; box-shadow: gray 0px 0px 5px; border-radius: 2px; overflow: hidden;"><div class="grecaptcha-logo"><iframe title="reCAPTCHA" src="./Assignment_3_files/anchor.html" width="256" height="60" role="presentation" name="a-ou6caioahkvf" frameborder="0" scrolling="no" sandbox="allow-forms allow-popups allow-same-origin allow-scripts allow-top-navigation allow-modals allow-popups-to-escape-sandbox"></iframe></div><div class="grecaptcha-error"></div><textarea id="g-recaptcha-response-100000" name="g-recaptcha-response" class="g-recaptcha-response" style="width: 250px; height: 40px; border: 1px solid rgb(193, 193, 193); margin: 10px 25px; padding: 0px; resize: none; display: none;"></textarea></div><iframe style="display: none;" src="./Assignment_3_files/saved_resource.html"></iframe></div><iframe src="./Assignment_3_files/bscframe.html" style="display: none;"></iframe></body></html>